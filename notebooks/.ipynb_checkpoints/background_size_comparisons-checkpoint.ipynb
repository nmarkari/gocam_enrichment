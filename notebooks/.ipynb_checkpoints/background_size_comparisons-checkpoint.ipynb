{
 "cells": [
  {
   "cell_type": "code",
   "execution_count": 3,
   "id": "0d08838f-cc33-4730-9eed-8ef2f4df51f3",
   "metadata": {},
   "outputs": [],
   "source": [
    "#import pandas as pd\n",
    "import sys\n",
    "sys.path.append('../dev')\n",
    "\n",
    "import utils\n",
    "\n"
   ]
  },
  {
   "cell_type": "markdown",
   "id": "838d0a9a-b972-420c-968c-b681383de8fa",
   "metadata": {},
   "source": [
    "# Background Size Comparisons"
   ]
  },
  {
   "cell_type": "markdown",
   "id": "1d9abfc8-2983-40d4-bec3-c36fe413d631",
   "metadata": {},
   "source": [
    "**Standard Gene List stats**"
   ]
  },
  {
   "cell_type": "markdown",
   "id": "5c6fe755-ae87-4f67-9c4d-47b29b0dfcb0",
   "metadata": {},
   "source": [
    "Number of genes total: 5386"
   ]
  },
  {
   "cell_type": "code",
   "execution_count": 4,
   "id": "83b1f867-3e3a-4569-a827-4ed29af248ab",
   "metadata": {},
   "outputs": [
    {
     "data": {
      "text/plain": [
       "5386"
      ]
     },
     "execution_count": 4,
     "metadata": {},
     "output_type": "execute_result"
    }
   ],
   "source": [
    "stan = utils.csv2dict('../data/ID2gocam_mouse_ff.csv')\n",
    "len(stan)"
   ]
  },
  {
   "cell_type": "markdown",
   "id": "1b73b21a-46e1-44c6-9fb7-54997f5ac468",
   "metadata": {},
   "source": [
    "**Entity List stats**\n",
    "\n",
    "Number of entities total:"
   ]
  },
  {
   "cell_type": "code",
   "execution_count": 5,
   "id": "0030da07-8a55-4d94-8548-d484901b0387",
   "metadata": {},
   "outputs": [
    {
     "data": {
      "text/plain": [
       "3983"
      ]
     },
     "execution_count": 5,
     "metadata": {},
     "output_type": "execute_result"
    }
   ],
   "source": [
    "step = utils.csv2dict('../data/ID2gocam_mouse.csv')\n",
    "len(step)"
   ]
  },
  {
   "cell_type": "markdown",
   "id": "9a064d27-50c7-4005-865f-dd7c83023998",
   "metadata": {},
   "source": [
    "Number of sets total:"
   ]
  },
  {
   "cell_type": "code",
   "execution_count": 12,
   "id": "3727e556-ad40-4a9d-be48-121ace80ab5f",
   "metadata": {},
   "outputs": [
    {
     "data": {
      "text/plain": [
       "915"
      ]
     },
     "execution_count": 12,
     "metadata": {},
     "output_type": "execute_result"
    }
   ],
   "source": [
    "all_entities = list(step.keys())\n",
    "set_entities = [e for e in all_entities if 'sset:' in e]\n",
    "len(set_entities)"
   ]
  },
  {
   "cell_type": "markdown",
   "id": "c966b8bb-a02f-4f3a-8aa9-8baf56e04615",
   "metadata": {},
   "source": [
    "Number of standalone genes:\n",
    "\n",
    "(genes can appear standalone or as part of sets)"
   ]
  },
  {
   "cell_type": "code",
   "execution_count": 13,
   "id": "bb3a070b-1253-4c38-80a9-efd15509c519",
   "metadata": {},
   "outputs": [
    {
     "data": {
      "text/plain": [
       "3068"
      ]
     },
     "execution_count": 13,
     "metadata": {},
     "output_type": "execute_result"
    }
   ],
   "source": [
    "len(step) - len(set_entities)"
   ]
  },
  {
   "cell_type": "markdown",
   "id": "31d0f158-bfce-4ad1-a81b-1e6407d4cae4",
   "metadata": {},
   "source": [
    "Number of genes only appearing in sets:"
   ]
  },
  {
   "cell_type": "code",
   "execution_count": 15,
   "id": "1c3ff80b-3ffb-492b-ae3f-214614131807",
   "metadata": {},
   "outputs": [
    {
     "data": {
      "text/plain": [
       "1403"
      ]
     },
     "execution_count": 15,
     "metadata": {},
     "output_type": "execute_result"
    }
   ],
   "source": [
    "len(stan) - len(step)"
   ]
  },
  {
   "cell_type": "code",
   "execution_count": null,
   "id": "e3fcdc45-73c7-4a75-8f8f-28e04ac46974",
   "metadata": {},
   "outputs": [],
   "source": []
  }
 ],
 "metadata": {
  "kernelspec": {
   "display_name": "Python [conda env:gocam2]",
   "language": "python",
   "name": "conda-env-gocam2-py"
  },
  "language_info": {
   "codemirror_mode": {
    "name": "ipython",
    "version": 3
   },
   "file_extension": ".py",
   "mimetype": "text/x-python",
   "name": "python",
   "nbconvert_exporter": "python",
   "pygments_lexer": "ipython3",
   "version": "3.10.9"
  }
 },
 "nbformat": 4,
 "nbformat_minor": 5
}
