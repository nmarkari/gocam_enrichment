{
 "cells": [
  {
   "cell_type": "code",
   "execution_count": 1,
   "id": "vietnamese-colors",
   "metadata": {},
   "outputs": [
    {
     "name": "stdout",
     "output_type": "stream",
     "text": [
      "Thu Dec  1 09:31:00 PST 2022\n"
     ]
    }
   ],
   "source": [
    "!date\n",
    "import pandas as pd\n",
    "import numpy as np\n",
    "import matplotlib.pyplot as plt\n",
    "import scipy.stats\n",
    "from scipy.stats import hypergeom\n",
    "import sys\n",
    "sys.path.append('../GOCAM_Project/dev')\n",
    "import os\n",
    "\n",
    "import utils\n",
    "import enrich\n",
    "pd.options.display.max_colwidth = 100"
   ]
  },
  {
   "cell_type": "markdown",
   "id": "smart-above",
   "metadata": {},
   "source": [
    "# Examining PI3K/AKT signaling in the P97 dataset"
   ]
  },
  {
   "cell_type": "code",
   "execution_count": 2,
   "id": "banned-strap",
   "metadata": {
    "scrolled": true
   },
   "outputs": [
    {
     "data": {
      "text/html": [
       "<div>\n",
       "<style scoped>\n",
       "    .dataframe tbody tr th:only-of-type {\n",
       "        vertical-align: middle;\n",
       "    }\n",
       "\n",
       "    .dataframe tbody tr th {\n",
       "        vertical-align: top;\n",
       "    }\n",
       "\n",
       "    .dataframe thead th {\n",
       "        text-align: right;\n",
       "    }\n",
       "</style>\n",
       "<table border=\"1\" class=\"dataframe\">\n",
       "  <thead>\n",
       "    <tr style=\"text-align: right;\">\n",
       "      <th></th>\n",
       "      <th>title</th>\n",
       "      <th>pval (uncorrected)</th>\n",
       "      <th># genes in list</th>\n",
       "      <th>#genes in gocam</th>\n",
       "      <th>shared gene products in gocam</th>\n",
       "      <th>url</th>\n",
       "      <th>FDR_val</th>\n",
       "      <th>Less_than</th>\n",
       "    </tr>\n",
       "  </thead>\n",
       "  <tbody>\n",
       "    <tr>\n",
       "      <th>7</th>\n",
       "      <td>APC/C:Cdh1 mediated degradation of Cdc20 and other APC/C:Cdh1 targeted proteins in late mitosis/...</td>\n",
       "      <td>0.001693</td>\n",
       "      <td>13</td>\n",
       "      <td>62</td>\n",
       "      <td>[Q13200, P43686, P62195, P62191, O00231, P35998, Q9UNM6, O00487, Q92530, Q16763, O00762, P51965,...</td>\n",
       "      <td>http://model.geneontology.org/R-HSA-174178</td>\n",
       "      <td>0.00033</td>\n",
       "      <td>False</td>\n",
       "    </tr>\n",
       "  </tbody>\n",
       "</table>\n",
       "</div>"
      ],
      "text/plain": [
       "                                                                                                 title  \\\n",
       "7  APC/C:Cdh1 mediated degradation of Cdc20 and other APC/C:Cdh1 targeted proteins in late mitosis/...   \n",
       "\n",
       "   pval (uncorrected)  # genes in list  #genes in gocam  \\\n",
       "7            0.001693               13               62   \n",
       "\n",
       "                                                                         shared gene products in gocam  \\\n",
       "7  [Q13200, P43686, P62195, P62191, O00231, P35998, Q9UNM6, O00487, Q92530, Q16763, O00762, P51965,...   \n",
       "\n",
       "                                          url  FDR_val  Less_than  \n",
       "7  http://model.geneontology.org/R-HSA-174178  0.00033      False  "
      ]
     },
     "execution_count": 2,
     "metadata": {},
     "output_type": "execute_result"
    }
   ],
   "source": [
    "gene_list = pd.read_csv('../../Desktop/GOCAM/P97.csv',header=None,names = ['g'])\n",
    "P97_test_set = gene_list.g\n",
    "uniprot2input = pd.Series(P97_test_set.values,index=P97_test_set).to_dict()\n",
    "x = pd.read_csv('../data/gocam_sizes_mouse.csv')\n",
    "gocam_sizes = pd.Series(x.sizes.values,index=x.gocam)\n",
    "Dict = utils.csv2dict('../data/ID2gocam_mouse.csv')\n",
    "filtered_out_genes, filtered_list, setID2members_input_uni, setID2members_input, df_display= enrich.enrich(list(gene_list.g), P97_test_set, uniprot2input, gocam_sizes, Dict,show_significant= False, FDR = .05)\n",
    "background_num_gocams = len(gocam_sizes)\n",
    "df_display['FDR_val'] = (df_display.index+1)*.05/background_num_gocams\n",
    "df_display['Less_than'] = (df_display['pval (uncorrected)'] < df_display['FDR_val'])\n",
    "df_display[df_display.title.apply(lambda x: 'APC/C:Cdh1 mediated' in x)]\n",
    "#df_display"
   ]
  },
  {
   "cell_type": "code",
   "execution_count": 9,
   "id": "8c9ed0a4-8c35-41f7-9de1-d1cc2263d484",
   "metadata": {},
   "outputs": [
    {
     "data": {
      "text/html": [
       "<div>\n",
       "<style scoped>\n",
       "    .dataframe tbody tr th:only-of-type {\n",
       "        vertical-align: middle;\n",
       "    }\n",
       "\n",
       "    .dataframe tbody tr th {\n",
       "        vertical-align: top;\n",
       "    }\n",
       "\n",
       "    .dataframe thead th {\n",
       "        text-align: right;\n",
       "    }\n",
       "</style>\n",
       "<table border=\"1\" class=\"dataframe\">\n",
       "  <thead>\n",
       "    <tr style=\"text-align: right;\">\n",
       "      <th></th>\n",
       "      <th>title</th>\n",
       "      <th>pval (uncorrected)</th>\n",
       "      <th># genes in list</th>\n",
       "      <th>#genes in gocam</th>\n",
       "      <th>shared gene products in gocam</th>\n",
       "      <th>url</th>\n",
       "      <th>FDR_val</th>\n",
       "      <th>Less_than</th>\n",
       "    </tr>\n",
       "  </thead>\n",
       "  <tbody>\n",
       "    <tr>\n",
       "      <th>0</th>\n",
       "      <td>Unwinding of DNA - Reactome</td>\n",
       "      <td>1.009108e-07</td>\n",
       "      <td>6</td>\n",
       "      <td>7</td>\n",
       "      <td>[P25205, Q14566, P33991, P49736, P33993, P33992]</td>\n",
       "      <td>http://model.geneontology.org/R-HSA-176974</td>\n",
       "      <td>0.000041</td>\n",
       "      <td>True</td>\n",
       "    </tr>\n",
       "    <tr>\n",
       "      <th>1</th>\n",
       "      <td>SCF(Skp2)-mediated degradation of p27/p21 - Reactome</td>\n",
       "      <td>6.327843e-07</td>\n",
       "      <td>13</td>\n",
       "      <td>50</td>\n",
       "      <td>[Q13200, P43686, P62195, P62191, O00231, P35998, Q9UNM6, O00487, P24941, P38936, Q92530, P46527,...</td>\n",
       "      <td>http://model.geneontology.org/R-HSA-187577</td>\n",
       "      <td>0.000083</td>\n",
       "      <td>True</td>\n",
       "    </tr>\n",
       "    <tr>\n",
       "      <th>2</th>\n",
       "      <td>Autodegradation of Cdh1 by Cdh1:APC/C - Reactome</td>\n",
       "      <td>4.803101e-06</td>\n",
       "      <td>13</td>\n",
       "      <td>59</td>\n",
       "      <td>[Q13200, P43686, P62195, P62191, O00231, P35998, Q9UNM6, O00487, Q92530, Q16763, O00762, P51965,...</td>\n",
       "      <td>http://model.geneontology.org/R-HSA-174084</td>\n",
       "      <td>0.000124</td>\n",
       "      <td>True</td>\n",
       "    </tr>\n",
       "    <tr>\n",
       "      <th>3</th>\n",
       "      <td>CDK-mediated phosphorylation and removal of Cdc6 - Reactome</td>\n",
       "      <td>4.844141e-06</td>\n",
       "      <td>14</td>\n",
       "      <td>68</td>\n",
       "      <td>[Q13200, P43686, P62195, P62191, O00231, P35998, Q9UNM6, O00487, P24941, Q92530, Q16763, O00762,...</td>\n",
       "      <td>http://model.geneontology.org/R-HSA-69017</td>\n",
       "      <td>0.000165</td>\n",
       "      <td>True</td>\n",
       "    </tr>\n",
       "    <tr>\n",
       "      <th>4</th>\n",
       "      <td>Assembly of the pre-replicative complex - Reactome</td>\n",
       "      <td>5.860558e-06</td>\n",
       "      <td>13</td>\n",
       "      <td>60</td>\n",
       "      <td>[Q13200, P43686, P62195, P62191, O00231, P35998, Q9UNM6, O00487, Q92530, Q16763, O00762, P51965,...</td>\n",
       "      <td>http://model.geneontology.org/R-HSA-68867</td>\n",
       "      <td>0.000206</td>\n",
       "      <td>True</td>\n",
       "    </tr>\n",
       "    <tr>\n",
       "      <th>...</th>\n",
       "      <td>...</td>\n",
       "      <td>...</td>\n",
       "      <td>...</td>\n",
       "      <td>...</td>\n",
       "      <td>...</td>\n",
       "      <td>...</td>\n",
       "      <td>...</td>\n",
       "      <td>...</td>\n",
       "    </tr>\n",
       "    <tr>\n",
       "      <th>59</th>\n",
       "      <td>Hedgehog 'off' state - Reactome</td>\n",
       "      <td>1.456800e-03</td>\n",
       "      <td>9</td>\n",
       "      <td>55</td>\n",
       "      <td>[Q13200, P43686, P62195, P62191, O00231, P35998, Q9UNM6, O00487, Q92530]</td>\n",
       "      <td>http://model.geneontology.org/R-HSA-5610787</td>\n",
       "      <td>0.002477</td>\n",
       "      <td>True</td>\n",
       "    </tr>\n",
       "    <tr>\n",
       "      <th>60</th>\n",
       "      <td>Inhibition of replication initiation of damaged DNA by RB1/E2F1 - Reactome</td>\n",
       "      <td>1.524096e-03</td>\n",
       "      <td>5</td>\n",
       "      <td>18</td>\n",
       "      <td>[P30154, P62714, P24941, P38936, P46527]</td>\n",
       "      <td>http://model.geneontology.org/R-HSA-113501</td>\n",
       "      <td>0.002519</td>\n",
       "      <td>True</td>\n",
       "    </tr>\n",
       "    <tr>\n",
       "      <th>61</th>\n",
       "      <td>MAPK6/MAPK4 signaling - Reactome</td>\n",
       "      <td>1.867544e-03</td>\n",
       "      <td>10</td>\n",
       "      <td>68</td>\n",
       "      <td>[Q13200, P43686, P62195, P62191, O00231, P35998, Q9UNM6, P06493, O00487, Q92530]</td>\n",
       "      <td>http://model.geneontology.org/R-HSA-5687128</td>\n",
       "      <td>0.002560</td>\n",
       "      <td>True</td>\n",
       "    </tr>\n",
       "    <tr>\n",
       "      <th>62</th>\n",
       "      <td>Activation of the mRNA upon binding of the cap-binding complex and eIFs, and subsequent binding ...</td>\n",
       "      <td>2.504171e-03</td>\n",
       "      <td>2</td>\n",
       "      <td>2</td>\n",
       "      <td>[P60842, Q14240]</td>\n",
       "      <td>http://model.geneontology.org/R-HSA-72662</td>\n",
       "      <td>0.002601</td>\n",
       "      <td>True</td>\n",
       "    </tr>\n",
       "    <tr>\n",
       "      <th>63</th>\n",
       "      <td>Translation initiation complex formation - Reactome</td>\n",
       "      <td>2.504171e-03</td>\n",
       "      <td>2</td>\n",
       "      <td>2</td>\n",
       "      <td>[P60842, Q14240]</td>\n",
       "      <td>http://model.geneontology.org/R-HSA-72649</td>\n",
       "      <td>0.002642</td>\n",
       "      <td>True</td>\n",
       "    </tr>\n",
       "  </tbody>\n",
       "</table>\n",
       "<p>64 rows × 8 columns</p>\n",
       "</div>"
      ],
      "text/plain": [
       "                                                                                                  title  \\\n",
       "0                                                                           Unwinding of DNA - Reactome   \n",
       "1                                                  SCF(Skp2)-mediated degradation of p27/p21 - Reactome   \n",
       "2                                                      Autodegradation of Cdh1 by Cdh1:APC/C - Reactome   \n",
       "3                                           CDK-mediated phosphorylation and removal of Cdc6 - Reactome   \n",
       "4                                                    Assembly of the pre-replicative complex - Reactome   \n",
       "..                                                                                                  ...   \n",
       "59                                                                      Hedgehog 'off' state - Reactome   \n",
       "60                           Inhibition of replication initiation of damaged DNA by RB1/E2F1 - Reactome   \n",
       "61                                                                     MAPK6/MAPK4 signaling - Reactome   \n",
       "62  Activation of the mRNA upon binding of the cap-binding complex and eIFs, and subsequent binding ...   \n",
       "63                                                  Translation initiation complex formation - Reactome   \n",
       "\n",
       "    pval (uncorrected)  # genes in list  #genes in gocam  \\\n",
       "0         1.009108e-07                6                7   \n",
       "1         6.327843e-07               13               50   \n",
       "2         4.803101e-06               13               59   \n",
       "3         4.844141e-06               14               68   \n",
       "4         5.860558e-06               13               60   \n",
       "..                 ...              ...              ...   \n",
       "59        1.456800e-03                9               55   \n",
       "60        1.524096e-03                5               18   \n",
       "61        1.867544e-03               10               68   \n",
       "62        2.504171e-03                2                2   \n",
       "63        2.504171e-03                2                2   \n",
       "\n",
       "                                                                          shared gene products in gocam  \\\n",
       "0                                                      [P25205, Q14566, P33991, P49736, P33993, P33992]   \n",
       "1   [Q13200, P43686, P62195, P62191, O00231, P35998, Q9UNM6, O00487, P24941, P38936, Q92530, P46527,...   \n",
       "2   [Q13200, P43686, P62195, P62191, O00231, P35998, Q9UNM6, O00487, Q92530, Q16763, O00762, P51965,...   \n",
       "3   [Q13200, P43686, P62195, P62191, O00231, P35998, Q9UNM6, O00487, P24941, Q92530, Q16763, O00762,...   \n",
       "4   [Q13200, P43686, P62195, P62191, O00231, P35998, Q9UNM6, O00487, Q92530, Q16763, O00762, P51965,...   \n",
       "..                                                                                                  ...   \n",
       "59                             [Q13200, P43686, P62195, P62191, O00231, P35998, Q9UNM6, O00487, Q92530]   \n",
       "60                                                             [P30154, P62714, P24941, P38936, P46527]   \n",
       "61                     [Q13200, P43686, P62195, P62191, O00231, P35998, Q9UNM6, P06493, O00487, Q92530]   \n",
       "62                                                                                     [P60842, Q14240]   \n",
       "63                                                                                     [P60842, Q14240]   \n",
       "\n",
       "                                            url   FDR_val  Less_than  \n",
       "0    http://model.geneontology.org/R-HSA-176974  0.000041       True  \n",
       "1    http://model.geneontology.org/R-HSA-187577  0.000083       True  \n",
       "2    http://model.geneontology.org/R-HSA-174084  0.000124       True  \n",
       "3     http://model.geneontology.org/R-HSA-69017  0.000165       True  \n",
       "4     http://model.geneontology.org/R-HSA-68867  0.000206       True  \n",
       "..                                          ...       ...        ...  \n",
       "59  http://model.geneontology.org/R-HSA-5610787  0.002477       True  \n",
       "60   http://model.geneontology.org/R-HSA-113501  0.002519       True  \n",
       "61  http://model.geneontology.org/R-HSA-5687128  0.002560       True  \n",
       "62    http://model.geneontology.org/R-HSA-72662  0.002601       True  \n",
       "63    http://model.geneontology.org/R-HSA-72649  0.002642       True  \n",
       "\n",
       "[64 rows x 8 columns]"
      ]
     },
     "execution_count": 9,
     "metadata": {},
     "output_type": "execute_result"
    }
   ],
   "source": [
    "x = pd.read_csv('../data/gocam_sizes_mouse_ff.csv')\n",
    "gocam_sizes = pd.Series(x.sizes.values,index=x.gocam)\n",
    "Dict = utils.csv2dict('../data/ID2gocam_mouse_ff.csv')\n",
    "filtered_out_genes, filtered_list, setID2members_input_uni, setID2members_input, df_display= enrich.enrich(list(gene_list.g), P97_test_set, uniprot2input, gocam_sizes, Dict,show_significant= True, FDR = .05)\n",
    "df_display['FDR_val'] = (df_display.index+1)*.05/background_num_gocams\n",
    "df_display['Less_than'] = (df_display['pval (uncorrected)'] < df_display['FDR_val'])\n",
    "df_display"
   ]
  },
  {
   "cell_type": "code",
   "execution_count": 4,
   "id": "potential-receiver",
   "metadata": {},
   "outputs": [
    {
     "data": {
      "text/plain": [
       "4.128819157720892e-05"
      ]
     },
     "execution_count": 4,
     "metadata": {},
     "output_type": "execute_result"
    }
   ],
   "source": [
    ".05/1211"
   ]
  },
  {
   "cell_type": "code",
   "execution_count": 5,
   "id": "binary-burns",
   "metadata": {},
   "outputs": [
    {
     "data": {
      "text/plain": [
       "(8.609141931469925e-06, 0.00018366994588541044)"
      ]
     },
     "execution_count": 5,
     "metadata": {},
     "output_type": "execute_result"
    }
   ],
   "source": [
    "#hypergeom.sf(count-1, background_gene_list_size,  gocam_size, gene_list_size)\n",
    "hypergeom.sf(13-1, 5386,  62, 270),hypergeom.sf(13-1, 4008,  62, 270)"
   ]
  },
  {
   "cell_type": "markdown",
   "id": "danish-break",
   "metadata": {},
   "source": [
    "# HGT is sensitive to relatively small parameter changes"
   ]
  },
  {
   "cell_type": "markdown",
   "id": "preliminary-seeker",
   "metadata": {},
   "source": [
    "Comparing enrichment of 'SCF(Skp2)-mediated degradation of p27/p21 - Reactome' in the P97 dataset in the fully flattened and set models:"
   ]
  },
  {
   "cell_type": "code",
   "execution_count": 6,
   "id": "seasonal-farming",
   "metadata": {},
   "outputs": [
    {
     "data": {
      "text/plain": [
       "(8.116740023877458e-07, 0.0003898627483820106)"
      ]
     },
     "execution_count": 6,
     "metadata": {},
     "output_type": "execute_result"
    }
   ],
   "source": [
    "#hypergeom.sf(count-1, background_gene_list_size,  gocam_size, gene_list_size)\n",
    "hypergeom.sf(13-1, 5386,  51, 270),hypergeom.sf(12-1, 4008,  50, 318)"
   ]
  },
  {
   "cell_type": "markdown",
   "id": "diagnostic-small",
   "metadata": {},
   "source": [
    "Effect of gene list size (change from 270 to 318 is due to addition of sets - removal of genes that only occur in sets)"
   ]
  },
  {
   "cell_type": "code",
   "execution_count": 7,
   "id": "radical-grain",
   "metadata": {},
   "outputs": [
    {
     "data": {
      "text/plain": [
       "(8.116740023877458e-07, 8.212821239278383e-05)"
      ]
     },
     "execution_count": 7,
     "metadata": {},
     "output_type": "execute_result"
    }
   ],
   "source": [
    "#hypergeom.sf(count-1, background_gene_list_size,  gocam_size, gene_list_size)\n",
    "hypergeom.sf(13-1, 5386,  51, 270),hypergeom.sf(12-1, 4008,  50, 270)"
   ]
  },
  {
   "cell_type": "markdown",
   "id": "following-notification",
   "metadata": {},
   "source": [
    "Effect of background gene list size (analogous to above)"
   ]
  },
  {
   "cell_type": "code",
   "execution_count": 8,
   "id": "bored-queens",
   "metadata": {},
   "outputs": [
    {
     "data": {
      "text/plain": [
       "(8.116740023877458e-07, 4.33261197373605e-06)"
      ]
     },
     "execution_count": 8,
     "metadata": {},
     "output_type": "execute_result"
    }
   ],
   "source": [
    "#hypergeom.sf(count-1, background_gene_list_size,  gocam_size, gene_list_size)\n",
    "hypergeom.sf(13-1, 5386,  51, 270),hypergeom.sf(12-1, 5386,  50, 270)"
   ]
  },
  {
   "cell_type": "code",
   "execution_count": null,
   "id": "synthetic-replacement",
   "metadata": {},
   "outputs": [],
   "source": []
  }
 ],
 "metadata": {
  "kernelspec": {
   "display_name": "Python 3 (ipykernel)",
   "language": "python",
   "name": "python3"
  },
  "language_info": {
   "codemirror_mode": {
    "name": "ipython",
    "version": 3
   },
   "file_extension": ".py",
   "mimetype": "text/x-python",
   "name": "python",
   "nbconvert_exporter": "python",
   "pygments_lexer": "ipython3",
   "version": "3.10.9"
  }
 },
 "nbformat": 4,
 "nbformat_minor": 5
}
