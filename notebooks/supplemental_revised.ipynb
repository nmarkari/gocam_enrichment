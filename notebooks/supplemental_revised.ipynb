{
 "cells": [
  {
   "cell_type": "code",
   "execution_count": 3,
   "id": "2ccb64fc-ce60-42c7-80a8-0a5f13cd8198",
   "metadata": {},
   "outputs": [
    {
     "name": "stdout",
     "output_type": "stream",
     "text": [
      "Wed Nov 22 11:26:35 PST 2023\n"
     ]
    }
   ],
   "source": [
    "!date\n",
    "import pandas as pd\n",
    "import numpy as np\n",
    "import sys\n",
    "sys.path.append('../dev')\n",
    "\n",
    "import utils\n",
    "import enrich\n",
    "\n",
    "pd.options.display.max_colwidth = 100\n",
    "import os"
   ]
  },
  {
   "cell_type": "markdown",
   "id": "bb5c0151-6354-4178-bbc3-afd381d29bbf",
   "metadata": {
    "jp-MarkdownHeadingCollapsed": true,
    "tags": []
   },
   "source": [
    "# Hou 2018\n",
    "\n",
    "Microarray data from two experiments retrieved from GEO where mice were fed a variety of high fat diets to induce fatty liver disease.\n",
    "\n",
    "https://www.ncbi.nlm.nih.gov/pmc/articles/PMC6290321/\n"
   ]
  },
  {
   "cell_type": "markdown",
   "id": "79b10d87-18d4-460a-84fc-8ab17c386e21",
   "metadata": {},
   "source": [
    "Process the data:\n",
    "\n",
    "Write the data copied from Table 2 to files"
   ]
  },
  {
   "cell_type": "code",
   "execution_count": 2,
   "id": "1a198de2-6faf-479a-a230-8e0ca762b229",
   "metadata": {},
   "outputs": [],
   "source": [
    "hou_raw = pd.read_csv('../test_data/unprocessed/Hou_2018.csv')\n",
    "\n",
    "hou_up = hou_raw.loc[1].values[0].split(',')\n",
    "hou_up = pd.Series(hou_up).apply(lambda x: x.strip())\n",
    "hou_up.to_csv('../test_data/processed/Hou_2018_up.csv', header = False, index = False)\n",
    "\n",
    "hou_down = hou_raw.loc[3].values[0].split(',')\n",
    "hou_down = pd.Series(hou_down).apply(lambda x: x.strip())\n",
    "pd.Series(hou_down).to_csv('../test_data/processed/Hou_2018_down.csv', header = False, index = False)\n",
    "\n",
    "pd.concat([hou_up,hou_down],axis = 0).to_csv('../test_data/processed/Hou_2018_combined.csv', header = False, index = False)"
   ]
  },
  {
   "cell_type": "code",
   "execution_count": 3,
   "id": "f57c7f01-bffd-4740-a176-e8d9cf806e76",
   "metadata": {},
   "outputs": [
    {
     "name": "stderr",
     "output_type": "stream",
     "text": [
      "100%|██████████████| 225/225 [00:00<00:00, 13384.94it/s]\n"
     ]
    },
    {
     "name": "stdout",
     "output_type": "stream",
     "text": [
      "Analysis run on 153 entities from 107 out of 339 input genes\n"
     ]
    }
   ],
   "source": [
    "hou_combined_set = enrich.enrich_wrapper('Hou_2018_combined.csv','Gene Symbol',method='set',fpath = '../test_data/processed/')"
   ]
  },
  {
   "cell_type": "code",
   "execution_count": 4,
   "id": "101c8480-eefd-44d8-8aa1-2c15d3ec0f94",
   "metadata": {},
   "outputs": [
    {
     "name": "stderr",
     "output_type": "stream",
     "text": [
      "100%|██████████████| 225/225 [00:00<00:00, 17613.92it/s]\n",
      "100%|██████████████| 225/225 [00:00<00:00, 17236.24it/s]\n"
     ]
    },
    {
     "name": "stdout",
     "output_type": "stream",
     "text": [
      "Standard method yields 0 results, 0 of which are unique\n"
     ]
    },
    {
     "data": {
      "text/html": [
       "<div>\n",
       "<style scoped>\n",
       "    .dataframe tbody tr th:only-of-type {\n",
       "        vertical-align: middle;\n",
       "    }\n",
       "\n",
       "    .dataframe tbody tr th {\n",
       "        vertical-align: top;\n",
       "    }\n",
       "\n",
       "    .dataframe thead th {\n",
       "        text-align: right;\n",
       "    }\n",
       "</style>\n",
       "<table border=\"1\" class=\"dataframe\">\n",
       "  <thead>\n",
       "    <tr style=\"text-align: right;\">\n",
       "      <th></th>\n",
       "    </tr>\n",
       "  </thead>\n",
       "  <tbody>\n",
       "  </tbody>\n",
       "</table>\n",
       "</div>"
      ],
      "text/plain": [
       "Empty DataFrame\n",
       "Columns: []\n",
       "Index: []"
      ]
     },
     "execution_count": 4,
     "metadata": {},
     "output_type": "execute_result"
    }
   ],
   "source": [
    "enrich.compare2standard(hou_combined_set, 'Hou_2018_combined.csv' , 'Gene Symbol',FDR=.05)"
   ]
  },
  {
   "cell_type": "markdown",
   "id": "3af5742c-9d36-4205-9716-f4bfa5456509",
   "metadata": {
    "jp-MarkdownHeadingCollapsed": true,
    "tags": []
   },
   "source": [
    "# Hoang 2019\n",
    "\n",
    "NAFLD. Comparisons between samples with different histological staging. (different stages of fibrosis and NAS score)\n",
    "\n",
    "3000 genes identified with 1% FDR, but I did 5% FDR and > 60% increase or > 30% decrease. I just have those values to show the MMP case, but I would probably choose > 100% increase or > 50% decrease."
   ]
  },
  {
   "cell_type": "markdown",
   "id": "526b8f87-fc8b-431d-8c09-b2099068b037",
   "metadata": {},
   "source": [
    "## Process data"
   ]
  },
  {
   "cell_type": "markdown",
   "id": "f9d6a14a-7637-4c72-a06e-e590bc4740b5",
   "metadata": {},
   "source": [
    "**Fibrosis**"
   ]
  },
  {
   "cell_type": "code",
   "execution_count": 5,
   "id": "50dab570-fd14-455f-bc26-3655b2a0d18f",
   "metadata": {},
   "outputs": [
    {
     "name": "stdout",
     "output_type": "stream",
     "text": [
      "440\n"
     ]
    }
   ],
   "source": [
    "fibrosis = pd.read_csv('../test_data/Hoang_2019_fibrosis.csv')\n",
    "fibrosis = fibrosis[fibrosis.adj_P <.05]\n",
    "fibrosis = fibrosis[fibrosis.range_log2FC.apply(lambda x: False if (x > -.5 and x < 0.7) else True)]\n",
    "print(len(fibrosis))\n",
    "\n",
    "fibrosis.gene_symbol.to_csv('../test_data/processed/Hoang_2019_fibrosis.csv', header = False, index = False)"
   ]
  },
  {
   "cell_type": "markdown",
   "id": "3dea2e5e-02ed-4108-823a-572ca61168ca",
   "metadata": {},
   "source": [
    "**NAS**"
   ]
  },
  {
   "cell_type": "code",
   "execution_count": 6,
   "id": "19ee8acd-01ea-45ae-a1bd-12f2790d5aa9",
   "metadata": {},
   "outputs": [
    {
     "name": "stdout",
     "output_type": "stream",
     "text": [
      "551\n"
     ]
    }
   ],
   "source": [
    "NAS = pd.read_csv('../test_data/Hoang_2019_NAS.csv')\n",
    "NAS = NAS[NAS.adj_P <.05]\n",
    "NAS = NAS[NAS.range_log2FC.apply(lambda x: False if (x > -.7 and x < 0.7) else True)]\n",
    "print(len(NAS))\n",
    "\n",
    "NAS.gene_symbol.to_csv('../test_data/processed/Hoang_2019_NAS.csv', header = False, index = False)"
   ]
  },
  {
   "cell_type": "markdown",
   "id": "f57639cb-f831-46f0-a3ce-99465196e4f1",
   "metadata": {},
   "source": [
    "## Analyze"
   ]
  },
  {
   "cell_type": "markdown",
   "id": "1a3b6485-6e8e-43b8-8f95-c4d94ed9fe0d",
   "metadata": {},
   "source": [
    "**Fibrosis**"
   ]
  },
  {
   "cell_type": "code",
   "execution_count": 7,
   "id": "ae77a7f0-a1d8-4739-944c-665935175b88",
   "metadata": {},
   "outputs": [
    {
     "name": "stderr",
     "output_type": "stream",
     "text": [
      "100%|██████████████| 171/171 [00:00<00:00, 16972.55it/s]\n"
     ]
    },
    {
     "name": "stdout",
     "output_type": "stream",
     "text": [
      "Analysis run on 122 entities from 103 out of 440 input genes\n"
     ]
    },
    {
     "data": {
      "text/plain": [
       "array([list(['MMP7', 'MMP2', 'sset:proMMP9 activating proteases', 'sset:MMP1,7', 'sset:proMMP8 initial activators', 'sset:MMP2,3,7,10,11', 'sset:MMP1 (2, 3, 7, 10, 13)']),\n",
       "       list(['PLAU', 'F13A1', 'sset:SERPINB2,6,8', 'sset:SERPINE1-like proteins'])],\n",
       "      dtype=object)"
      ]
     },
     "execution_count": 7,
     "metadata": {},
     "output_type": "execute_result"
    }
   ],
   "source": [
    "hoang_fibrosis_set = enrich.enrich_wrapper('Hoang_2019_fibrosis.csv','Gene Symbol',method='set',FDR = 0.1,fpath = '../test_data/processed/')\n",
    "hoang_fibrosis_set['shared entities in gocam'].values"
   ]
  },
  {
   "cell_type": "code",
   "execution_count": 8,
   "id": "0b225c34-6716-4404-a50c-fab9e0713edb",
   "metadata": {},
   "outputs": [
    {
     "name": "stderr",
     "output_type": "stream",
     "text": [
      "100%|██████████████| 171/171 [00:00<00:00, 17222.38it/s]\n",
      "100%|██████████████| 171/171 [00:00<00:00, 16401.61it/s]\n"
     ]
    },
    {
     "name": "stdout",
     "output_type": "stream",
     "text": [
      "Standard method yields 4 results, 3 of which are unique\n"
     ]
    },
    {
     "data": {
      "text/html": [
       "<div>\n",
       "<style scoped>\n",
       "    .dataframe tbody tr th:only-of-type {\n",
       "        vertical-align: middle;\n",
       "    }\n",
       "\n",
       "    .dataframe tbody tr th {\n",
       "        vertical-align: top;\n",
       "    }\n",
       "\n",
       "    .dataframe thead th {\n",
       "        text-align: right;\n",
       "    }\n",
       "</style>\n",
       "<table border=\"1\" class=\"dataframe\">\n",
       "  <thead>\n",
       "    <tr style=\"text-align: right;\">\n",
       "      <th></th>\n",
       "      <th>title</th>\n",
       "      <th>pval (uncorrected)</th>\n",
       "      <th># entities in list</th>\n",
       "      <th>#entities in model</th>\n",
       "      <th>shared entities in gocam</th>\n",
       "      <th>url</th>\n",
       "      <th>gene list size</th>\n",
       "    </tr>\n",
       "  </thead>\n",
       "  <tbody>\n",
       "    <tr>\n",
       "      <th>0</th>\n",
       "      <td>Activation of Matrix Metalloproteinases - Reactome</td>\n",
       "      <td>5.124311e-07</td>\n",
       "      <td>7</td>\n",
       "      <td>18</td>\n",
       "      <td>[MMP7, MMP2, sset:proMMP9 activating proteases, sset:MMP1,7, sset:proMMP8 initial activators, ss...</td>\n",
       "      <td>http://model.geneontology.org/R-HSA-1592389</td>\n",
       "      <td>23</td>\n",
       "    </tr>\n",
       "  </tbody>\n",
       "</table>\n",
       "</div>"
      ],
      "text/plain": [
       "                                                title  pval (uncorrected)  \\\n",
       "0  Activation of Matrix Metalloproteinases - Reactome        5.124311e-07   \n",
       "\n",
       "   # entities in list  #entities in model  \\\n",
       "0                   7                  18   \n",
       "\n",
       "                                                                              shared entities in gocam  \\\n",
       "0  [MMP7, MMP2, sset:proMMP9 activating proteases, sset:MMP1,7, sset:proMMP8 initial activators, ss...   \n",
       "\n",
       "                                           url  gene list size  \n",
       "0  http://model.geneontology.org/R-HSA-1592389              23  "
      ]
     },
     "execution_count": 8,
     "metadata": {},
     "output_type": "execute_result"
    }
   ],
   "source": [
    "enrich.compare2standard(hoang_fibrosis_set, 'Hoang_2019_fibrosis.csv','Gene Symbol',FDR = 0.1)"
   ]
  },
  {
   "cell_type": "code",
   "execution_count": 9,
   "id": "646cbf62-eea4-4e43-bf71-af6ca01d41a5",
   "metadata": {},
   "outputs": [
    {
     "name": "stderr",
     "output_type": "stream",
     "text": [
      "100%|██████████████| 171/171 [00:00<00:00, 16208.50it/s]\n"
     ]
    },
    {
     "data": {
      "text/html": [
       "<div>\n",
       "<style scoped>\n",
       "    .dataframe tbody tr th:only-of-type {\n",
       "        vertical-align: middle;\n",
       "    }\n",
       "\n",
       "    .dataframe tbody tr th {\n",
       "        vertical-align: top;\n",
       "    }\n",
       "\n",
       "    .dataframe thead th {\n",
       "        text-align: right;\n",
       "    }\n",
       "</style>\n",
       "<table border=\"1\" class=\"dataframe\">\n",
       "  <thead>\n",
       "    <tr style=\"text-align: right;\">\n",
       "      <th></th>\n",
       "      <th>title</th>\n",
       "      <th>pval (uncorrected)</th>\n",
       "      <th># entities in list</th>\n",
       "      <th>#entities in model</th>\n",
       "      <th>shared entities in gocam</th>\n",
       "      <th>url</th>\n",
       "    </tr>\n",
       "  </thead>\n",
       "  <tbody>\n",
       "    <tr>\n",
       "      <th>6</th>\n",
       "      <td>Activation of Matrix Metalloproteinases - Reactome</td>\n",
       "      <td>0.009603</td>\n",
       "      <td>3</td>\n",
       "      <td>23</td>\n",
       "      <td>[MMP7, MMP2, KLK2]</td>\n",
       "      <td>http://model.geneontology.org/R-HSA-1592389</td>\n",
       "    </tr>\n",
       "  </tbody>\n",
       "</table>\n",
       "</div>"
      ],
      "text/plain": [
       "                                                title  pval (uncorrected)  \\\n",
       "6  Activation of Matrix Metalloproteinases - Reactome            0.009603   \n",
       "\n",
       "   # entities in list  #entities in model shared entities in gocam  \\\n",
       "6                   3                  23       [MMP7, MMP2, KLK2]   \n",
       "\n",
       "                                           url  \n",
       "6  http://model.geneontology.org/R-HSA-1592389  "
      ]
     },
     "execution_count": 9,
     "metadata": {},
     "output_type": "execute_result"
    }
   ],
   "source": [
    "temp= enrich.enrich_wrapper('Hoang_2019_fibrosis.csv','Gene Symbol',method='standard',fpath = '../test_data/processed/',show_significant = False)\n",
    "temp[temp['title'] == 'Activation of Matrix Metalloproteinases - Reactome']"
   ]
  },
  {
   "cell_type": "markdown",
   "id": "31eacb0c-cbd1-4ccc-ba7f-53144e090297",
   "metadata": {},
   "source": [
    "In this model, several steps can be enabled by MMP2 (P08253) and MMP7 (P09237). The issue is that in some steps, MMP2 or MMP7 are individually required to enable steps, while in others, they are sufficient as members as sets, and my code doesn't check sets against individual genes. Those specific steps, by the way, are autocatalytic activation. So the model is describing in some areas how whole groups of MMPs can be activated and in other areas is describing how individual MMPs can autocatalyze their activation. P20151 is Kallikrein Related Peptidase 2. It does the steps enabled by 'proMMP9 activating proteases' and 'proMMP8 initial activators'. \n",
    "\n",
    "http://model.geneontology.org/R-HSA-1592389"
   ]
  },
  {
   "cell_type": "code",
   "execution_count": 10,
   "id": "0e32f7e1-0aac-4227-a4d4-c7167053f264",
   "metadata": {},
   "outputs": [
    {
     "data": {
      "text/html": [
       "<div>\n",
       "<style scoped>\n",
       "    .dataframe tbody tr th:only-of-type {\n",
       "        vertical-align: middle;\n",
       "    }\n",
       "\n",
       "    .dataframe tbody tr th {\n",
       "        vertical-align: top;\n",
       "    }\n",
       "\n",
       "    .dataframe thead th {\n",
       "        text-align: right;\n",
       "    }\n",
       "</style>\n",
       "<table border=\"1\" class=\"dataframe\">\n",
       "  <thead>\n",
       "    <tr style=\"text-align: right;\">\n",
       "      <th></th>\n",
       "      <th>title</th>\n",
       "      <th>pval (uncorrected)</th>\n",
       "      <th># entities in list</th>\n",
       "      <th>#entities in model</th>\n",
       "      <th>shared entities in gocam</th>\n",
       "      <th>url</th>\n",
       "    </tr>\n",
       "  </thead>\n",
       "  <tbody>\n",
       "    <tr>\n",
       "      <th>32</th>\n",
       "      <td>Chromatin modifying enzymes - Reactome</td>\n",
       "      <td>0.093781</td>\n",
       "      <td>1</td>\n",
       "      <td>5</td>\n",
       "      <td>[PADI1]</td>\n",
       "      <td>http://model.geneontology.org/R-HSA-3247509</td>\n",
       "    </tr>\n",
       "  </tbody>\n",
       "</table>\n",
       "</div>"
      ],
      "text/plain": [
       "                                     title  pval (uncorrected)  \\\n",
       "32  Chromatin modifying enzymes - Reactome            0.093781   \n",
       "\n",
       "    # entities in list  #entities in model shared entities in gocam  \\\n",
       "32                   1                   5                  [PADI1]   \n",
       "\n",
       "                                            url  \n",
       "32  http://model.geneontology.org/R-HSA-3247509  "
      ]
     },
     "execution_count": 10,
     "metadata": {},
     "output_type": "execute_result"
    }
   ],
   "source": [
    "temp[temp['title'] == 'Chromatin modifying enzymes - Reactome']"
   ]
  },
  {
   "cell_type": "markdown",
   "id": "508bfd22-a893-4ce9-a0a4-c24cbccb1ea5",
   "metadata": {},
   "source": [
    "This model really does have only 2 steps, both of which are enabled by Q9ULC6. How it got through the filters for causal models, I don't know.\n",
    "http://noctua.geneontology.org/editor/graph/gomodel:R-HSA-3247509"
   ]
  },
  {
   "cell_type": "markdown",
   "id": "d1606445-cb6f-416f-8e95-2dee80b92c6f",
   "metadata": {},
   "source": [
    "**NAS**"
   ]
  },
  {
   "cell_type": "code",
   "execution_count": 11,
   "id": "fd958a52-a884-4be7-a148-3c386650b923",
   "metadata": {},
   "outputs": [
    {
     "name": "stderr",
     "output_type": "stream",
     "text": [
      "100%|█████████████████| 224/224 [00:40<00:00,  5.59it/s]\n"
     ]
    },
    {
     "name": "stdout",
     "output_type": "stream",
     "text": [
      "Analysis run on 189 entities from 177 out of 551 input genes\n"
     ]
    }
   ],
   "source": [
    "hoang_NAS_set = enrich.enrich_wrapper('Hoang_2019_NAS.csv','Gene Symbol',method='ncHGT',FDR = 0.1,fpath = '../test_data/processed/')\n"
   ]
  },
  {
   "cell_type": "code",
   "execution_count": 12,
   "id": "b1872062-abf5-4bef-96bb-be24298cd1e7",
   "metadata": {},
   "outputs": [
    {
     "name": "stderr",
     "output_type": "stream",
     "text": [
      "100%|██████████████| 224/224 [00:00<00:00, 17849.80it/s]\n",
      "100%|██████████████| 224/224 [00:00<00:00, 16897.00it/s]\n"
     ]
    },
    {
     "name": "stdout",
     "output_type": "stream",
     "text": [
      "Standard method yields 7 results, 7 of which are unique\n"
     ]
    },
    {
     "data": {
      "text/html": [
       "<div>\n",
       "<style scoped>\n",
       "    .dataframe tbody tr th:only-of-type {\n",
       "        vertical-align: middle;\n",
       "    }\n",
       "\n",
       "    .dataframe tbody tr th {\n",
       "        vertical-align: top;\n",
       "    }\n",
       "\n",
       "    .dataframe thead th {\n",
       "        text-align: right;\n",
       "    }\n",
       "</style>\n",
       "<table border=\"1\" class=\"dataframe\">\n",
       "  <thead>\n",
       "    <tr style=\"text-align: right;\">\n",
       "      <th></th>\n",
       "    </tr>\n",
       "  </thead>\n",
       "  <tbody>\n",
       "  </tbody>\n",
       "</table>\n",
       "</div>"
      ],
      "text/plain": [
       "Empty DataFrame\n",
       "Columns: []\n",
       "Index: []"
      ]
     },
     "execution_count": 12,
     "metadata": {},
     "output_type": "execute_result"
    }
   ],
   "source": [
    "enrich.compare2standard(hoang_NAS_set, 'Hoang_2019_NAS.csv','Gene Symbol',FDR = 0.1)"
   ]
  },
  {
   "cell_type": "markdown",
   "id": "017408e0-3fc7-470f-a76d-ffd25163f8fb",
   "metadata": {
    "jp-MarkdownHeadingCollapsed": true,
    "tags": []
   },
   "source": [
    "# Goavere 2023\n",
    "\n",
    "NAFLD. Paired transcriptomics and proteomics in 306 patients to find signatures of active steatohepatitis and severe fibrosis."
   ]
  },
  {
   "cell_type": "markdown",
   "id": "98d1763d-1fc6-4eff-a6e3-0adf5df01cc0",
   "metadata": {},
   "source": [
    "NOTE:\n",
    "\n",
    "\"IGHM IGJ IGK@ IGL@\" and  \"ITGA1 ITGB1\" are individual entries, but only the first element in the list is kept in the processing below."
   ]
  },
  {
   "cell_type": "code",
   "execution_count": 15,
   "id": "00ec3f61-797b-48b9-adc2-5aae3bf53115",
   "metadata": {},
   "outputs": [
    {
     "name": "stdout",
     "output_type": "stream",
     "text": [
      "121\n"
     ]
    }
   ],
   "source": [
    "GS2 = pd.read_csv('../test_data/unprocessed/Goavere_S2.csv',sep = '\\t',header = None)\n",
    "GS2[0] = GS2[0].apply(lambda x: x.split(' ')[1])\n",
    "print(len(GS2))\n",
    "GS2[0] = GS2[0].apply(lambda x: x.replace(u'\\xa0', u''))\n",
    "GS2.to_csv('../test_data/processed/Goavere_S2.csv', header = False, index = False)"
   ]
  },
  {
   "cell_type": "code",
   "execution_count": 16,
   "id": "f20504d7-3fd6-4fb9-a5cf-b5f224e6c26a",
   "metadata": {},
   "outputs": [],
   "source": [
    "GS2 = pd.read_csv('../test_data/processed/Goavere_S2.csv')"
   ]
  },
  {
   "cell_type": "code",
   "execution_count": 123,
   "id": "04309360-3246-42be-867d-8e1b89b08aae",
   "metadata": {},
   "outputs": [
    {
     "name": "stderr",
     "output_type": "stream",
     "text": [
      "100%|████████████████████████████████████████| 98/98 [00:00<00:00, 17824.88it/s]\n"
     ]
    },
    {
     "name": "stdout",
     "output_type": "stream",
     "text": [
      "Analysis run on 68 entities from 48 out of 118 input genes\n"
     ]
    },
    {
     "data": {
      "text/html": [
       "<div>\n",
       "<style scoped>\n",
       "    .dataframe tbody tr th:only-of-type {\n",
       "        vertical-align: middle;\n",
       "    }\n",
       "\n",
       "    .dataframe tbody tr th {\n",
       "        vertical-align: top;\n",
       "    }\n",
       "\n",
       "    .dataframe thead th {\n",
       "        text-align: right;\n",
       "    }\n",
       "</style>\n",
       "<table border=\"1\" class=\"dataframe\">\n",
       "  <thead>\n",
       "    <tr style=\"text-align: right;\">\n",
       "      <th></th>\n",
       "      <th>title</th>\n",
       "      <th>pval (uncorrected)</th>\n",
       "      <th># entities in list</th>\n",
       "      <th>#entities in model</th>\n",
       "      <th>shared entities in gocam</th>\n",
       "      <th>url</th>\n",
       "    </tr>\n",
       "  </thead>\n",
       "  <tbody>\n",
       "    <tr>\n",
       "      <th>0</th>\n",
       "      <td>Activation of Matrix Metalloproteinases - Reactome</td>\n",
       "      <td>8.471489e-09</td>\n",
       "      <td>7</td>\n",
       "      <td>18</td>\n",
       "      <td>[sset:proMMP1 initial activators, sset:proMMP3 initial activators, sset:proMMP10 activators, sse...</td>\n",
       "      <td>http://model.geneontology.org/R-HSA-1592389</td>\n",
       "    </tr>\n",
       "    <tr>\n",
       "      <th>1</th>\n",
       "      <td>Cytosolic sulfonation of small molecules - Reactome</td>\n",
       "      <td>1.208035e-05</td>\n",
       "      <td>5</td>\n",
       "      <td>19</td>\n",
       "      <td>[SULT2A1, sset:SULT1E1,2A1, sset:SULTs active on DHEA, sset:SULT dimers (T2), sset:SULT dimers (...</td>\n",
       "      <td>http://model.geneontology.org/R-HSA-156584</td>\n",
       "    </tr>\n",
       "  </tbody>\n",
       "</table>\n",
       "</div>"
      ],
      "text/plain": [
       "                                                 title  pval (uncorrected)  \\\n",
       "0   Activation of Matrix Metalloproteinases - Reactome        8.471489e-09   \n",
       "1  Cytosolic sulfonation of small molecules - Reactome        1.208035e-05   \n",
       "\n",
       "   # entities in list  #entities in model  \\\n",
       "0                   7                  18   \n",
       "1                   5                  19   \n",
       "\n",
       "                                                                              shared entities in gocam  \\\n",
       "0  [sset:proMMP1 initial activators, sset:proMMP3 initial activators, sset:proMMP10 activators, sse...   \n",
       "1  [SULT2A1, sset:SULT1E1,2A1, sset:SULTs active on DHEA, sset:SULT dimers (T2), sset:SULT dimers (...   \n",
       "\n",
       "                                           url  \n",
       "0  http://model.geneontology.org/R-HSA-1592389  \n",
       "1   http://model.geneontology.org/R-HSA-156584  "
      ]
     },
     "execution_count": 123,
     "metadata": {},
     "output_type": "execute_result"
    }
   ],
   "source": [
    "GS2_set = enrich.enrich_wrapper('Goavere_S2.csv','Gene Symbol',method='set',FDR = 0.1,fpath = '../test_data/processed/')\n",
    "GS2_set"
   ]
  },
  {
   "cell_type": "code",
   "execution_count": 124,
   "id": "ae2b302f-5fce-4b13-bba3-4ca136fb3bda",
   "metadata": {},
   "outputs": [
    {
     "name": "stderr",
     "output_type": "stream",
     "text": [
      "100%|████████████████████████████████████████| 98/98 [00:00<00:00, 14871.27it/s]\n",
      "100%|████████████████████████████████████████| 98/98 [00:00<00:00, 17563.64it/s]\n"
     ]
    },
    {
     "name": "stdout",
     "output_type": "stream",
     "text": [
      "Standard method yields 0 results, 0 of which are unique\n"
     ]
    },
    {
     "data": {
      "text/html": [
       "<div>\n",
       "<style scoped>\n",
       "    .dataframe tbody tr th:only-of-type {\n",
       "        vertical-align: middle;\n",
       "    }\n",
       "\n",
       "    .dataframe tbody tr th {\n",
       "        vertical-align: top;\n",
       "    }\n",
       "\n",
       "    .dataframe thead th {\n",
       "        text-align: right;\n",
       "    }\n",
       "</style>\n",
       "<table border=\"1\" class=\"dataframe\">\n",
       "  <thead>\n",
       "    <tr style=\"text-align: right;\">\n",
       "      <th></th>\n",
       "      <th>title</th>\n",
       "      <th>pval (uncorrected)</th>\n",
       "      <th># entities in list</th>\n",
       "      <th>#entities in model</th>\n",
       "      <th>shared entities in gocam</th>\n",
       "      <th>url</th>\n",
       "      <th>gene list size</th>\n",
       "    </tr>\n",
       "  </thead>\n",
       "  <tbody>\n",
       "    <tr>\n",
       "      <th>0</th>\n",
       "      <td>Activation of Matrix Metalloproteinases - Reactome</td>\n",
       "      <td>8.471489e-09</td>\n",
       "      <td>7</td>\n",
       "      <td>18</td>\n",
       "      <td>[sset:proMMP1 initial activators, sset:proMMP3 initial activators, sset:proMMP10 activators, sse...</td>\n",
       "      <td>http://model.geneontology.org/R-HSA-1592389</td>\n",
       "      <td>23</td>\n",
       "    </tr>\n",
       "    <tr>\n",
       "      <th>1</th>\n",
       "      <td>Cytosolic sulfonation of small molecules - Reactome</td>\n",
       "      <td>1.208035e-05</td>\n",
       "      <td>5</td>\n",
       "      <td>19</td>\n",
       "      <td>[SULT2A1, sset:SULT1E1,2A1, sset:SULTs active on DHEA, sset:SULT dimers (T2), sset:SULT dimers (...</td>\n",
       "      <td>http://model.geneontology.org/R-HSA-156584</td>\n",
       "      <td>22</td>\n",
       "    </tr>\n",
       "  </tbody>\n",
       "</table>\n",
       "</div>"
      ],
      "text/plain": [
       "                                                 title  pval (uncorrected)  \\\n",
       "0   Activation of Matrix Metalloproteinases - Reactome        8.471489e-09   \n",
       "1  Cytosolic sulfonation of small molecules - Reactome        1.208035e-05   \n",
       "\n",
       "   # entities in list  #entities in model  \\\n",
       "0                   7                  18   \n",
       "1                   5                  19   \n",
       "\n",
       "                                                                              shared entities in gocam  \\\n",
       "0  [sset:proMMP1 initial activators, sset:proMMP3 initial activators, sset:proMMP10 activators, sse...   \n",
       "1  [SULT2A1, sset:SULT1E1,2A1, sset:SULTs active on DHEA, sset:SULT dimers (T2), sset:SULT dimers (...   \n",
       "\n",
       "                                           url  gene list size  \n",
       "0  http://model.geneontology.org/R-HSA-1592389              23  \n",
       "1   http://model.geneontology.org/R-HSA-156584              22  "
      ]
     },
     "execution_count": 124,
     "metadata": {},
     "output_type": "execute_result"
    }
   ],
   "source": [
    "enrich.compare2standard(GS2_set, 'Goavere_S2.csv','Gene Symbol',FDR = 0.1)"
   ]
  },
  {
   "cell_type": "markdown",
   "id": "2258d4ad-2c2a-487f-8c6a-6096fb5e86c6",
   "metadata": {},
   "source": [
    "1. different diseases\n",
    "2. different organ systems\n",
    "3. could be something that has been followed up on\n",
    "4. studies that produced results, possibly higher cited or profile\n",
    "5. 300ish genes\n",
    "6. response to drug\n",
    "\n",
    "Aging, GABAergic vs Glutamatergic, \n",
    "\n",
    "Heart, Aging brain, Cancer drug, psoriasis or something autoimmune, stem cell?, IBS/GI"
   ]
  },
  {
   "cell_type": "markdown",
   "id": "a8118fcf-d8d2-4219-8b43-1c507ecc7b13",
   "metadata": {
    "tags": []
   },
   "source": [
    "# Dilated and Arrhythmogenic Cardiomyopathy\n",
    "\n",
    "Reichart 2022 \n",
    "\n",
    "https://www.science.org/doi/10.1126/science.abo1984?url_ver=Z39.88-2003&rfr_id=ori:rid:crossref.org&rfr_dat=cr_pub%20%200pubmed#supplementary-materials\n",
    "\n",
    "This paper did snRNA seq on human left and right ventricles from healthy and diseased donors and identified 10 major cell types and 71 transcriptional states from 880,000 nuclei. They did snRNA seq likely because it is difficult to extract intact cells from some organs for single cell RNA seq. They found that fibrosis was expanded in ACM and DCM but the number of fibroblasts was not increased.\n",
    "\n",
    "vCM cell states fig S5, S6A; tables S7-S12\n",
    "\n",
    "fibroblast DEGs: figs S9-11; tables S15-21\n",
    "\n",
    "smooth muscle cells: tables S23-28. KEGG enrichment analysis in Fig 3C\n",
    "- use S23 (LV) and S25 (RV) for mural cells in each genotype versus control\n",
    "- may look into the pericyte cell types in S27\n",
    "\n",
    "DCM is linked with complement activatgion: https://www.ncbi.nlm.nih.gov/pmc/articles/PMC1850717/"
   ]
  },
  {
   "cell_type": "code",
   "execution_count": 5,
   "id": "a8570d5f-b194-4089-abea-3bd92f979830",
   "metadata": {},
   "outputs": [],
   "source": [
    "logFC = 1\n",
    "PV = .05"
   ]
  },
  {
   "cell_type": "markdown",
   "id": "d1096a5a-4343-4ee2-bc14-d62169565bbf",
   "metadata": {
    "jp-MarkdownHeadingCollapsed": true,
    "tags": []
   },
   "source": [
    "## Smooth Muscle Cells, LV mural"
   ]
  },
  {
   "cell_type": "markdown",
   "id": "40180253-a876-440f-bd97-b49527fab5be",
   "metadata": {
    "tags": []
   },
   "source": [
    "### Preprocess"
   ]
  },
  {
   "cell_type": "code",
   "execution_count": 9,
   "id": "78b2e769-5673-4702-a3a9-5edcc303d99f",
   "metadata": {},
   "outputs": [
    {
     "name": "stdout",
     "output_type": "stream",
     "text": [
      "LMNA : 633 genes\n",
      "PKP2 : 309 genes\n",
      "RBM20 : 435 genes\n",
      "TTN : 396 genes\n",
      "PVneg : 686 genes\n"
     ]
    }
   ],
   "source": [
    "for genotype in ['LMNA','PKP2','RBM20','TTN','PVneg']:\n",
    "    \n",
    "    df = pd.concat([\n",
    "        pd.read_csv(f'../test_data/unprocessed/reichart/S23_LV_MC_Upregulated_Genes_Disease_Genotypes_All_States-{genotype}.csv'),\n",
    "         pd.read_csv(f'../test_data/unprocessed/reichart/S24_LV_MC_Upregulated_Genes_Controls_All_States-{genotype}.csv')\n",
    "    ])\n",
    "    df = df.query(f'logFC > {logFC} and PValue < {PV}')\n",
    "    df['Gene'].to_csv(f'../test_data/processed/{genotype}_SMC_comb.csv', header = False, index= False)\n",
    "    print(genotype,':',len(df), 'genes')"
   ]
  },
  {
   "cell_type": "code",
   "execution_count": 10,
   "id": "a47a570b-3eea-4b71-a713-c2081ed69f2c",
   "metadata": {},
   "outputs": [
    {
     "name": "stdout",
     "output_type": "stream",
     "text": [
      "LMNA up : 284 genes\n",
      "LMNA down : 349 genes\n",
      "PKP2 up : 142 genes\n",
      "PKP2 down : 167 genes\n",
      "RBM20 up : 213 genes\n",
      "RBM20 down : 222 genes\n",
      "TTN up : 151 genes\n",
      "TTN down : 245 genes\n",
      "PVneg up : 166 genes\n",
      "PVneg down : 520 genes\n"
     ]
    }
   ],
   "source": [
    "for genotype in ['LMNA','PKP2','RBM20','TTN','PVneg']:\n",
    "    \n",
    "    df_up = pd.read_csv(f'../test_data/unprocessed/reichart/S23_LV_MC_Upregulated_Genes_Disease_Genotypes_All_States-{genotype}.csv')\n",
    "    df_down = pd.read_csv(f'../test_data/unprocessed/reichart/S24_LV_MC_Upregulated_Genes_Controls_All_States-{genotype}.csv')\n",
    "    \n",
    "    \n",
    "    for sign, df in {'up':df_up,'down':df_down}.items():\n",
    "        df = df.query(f'logFC > {logFC} and PValue < {PV}')\n",
    "        df['Gene'].to_csv(f'../test_data/processed/{genotype}_SMC_{sign}.csv', header = False, index= False)\n",
    "        print(genotype,sign,':',len(df), 'genes')"
   ]
  },
  {
   "cell_type": "markdown",
   "id": "24408158-8c49-41d3-9554-db5d1b1ff7e0",
   "metadata": {
    "tags": []
   },
   "source": [
    "### LMNA"
   ]
  },
  {
   "cell_type": "code",
   "execution_count": 5,
   "id": "31730308-d40b-41c8-82a4-4f8bbaa5063b",
   "metadata": {},
   "outputs": [
    {
     "name": "stderr",
     "output_type": "stream",
     "text": [
      "100%|██████████████████████████████████████| 207/207 [00:00<00:00, 14965.20it/s]\n"
     ]
    },
    {
     "name": "stdout",
     "output_type": "stream",
     "text": [
      "Analysis run on 116 entities from 94 out of 349 input genes\n"
     ]
    },
    {
     "data": {
      "text/html": [
       "<div>\n",
       "<style scoped>\n",
       "    .dataframe tbody tr th:only-of-type {\n",
       "        vertical-align: middle;\n",
       "    }\n",
       "\n",
       "    .dataframe tbody tr th {\n",
       "        vertical-align: top;\n",
       "    }\n",
       "\n",
       "    .dataframe thead th {\n",
       "        text-align: right;\n",
       "    }\n",
       "</style>\n",
       "<table border=\"1\" class=\"dataframe\">\n",
       "  <thead>\n",
       "    <tr style=\"text-align: right;\">\n",
       "      <th></th>\n",
       "      <th>title</th>\n",
       "      <th>pval (uncorrected)</th>\n",
       "      <th># entities in list</th>\n",
       "      <th>#entities in model</th>\n",
       "      <th>shared entities in gocam</th>\n",
       "      <th>url</th>\n",
       "    </tr>\n",
       "  </thead>\n",
       "  <tbody>\n",
       "    <tr>\n",
       "      <th>0</th>\n",
       "      <td>Peptide chain elongation - Reactome</td>\n",
       "      <td>4.188963e-09</td>\n",
       "      <td>15</td>\n",
       "      <td>79</td>\n",
       "      <td>[RPL13A, RPLP2, RPS18, RPL34, RPLP0, RPL7, RPS15A, RPS20, RPL23A, RPS15, RPL27A, UBA52, RPL35, R...</td>\n",
       "      <td>http://model.geneontology.org/R-HSA-156902</td>\n",
       "    </tr>\n",
       "    <tr>\n",
       "      <th>1</th>\n",
       "      <td>Eukaryotic Translation Elongation - Reactome</td>\n",
       "      <td>8.574529e-09</td>\n",
       "      <td>15</td>\n",
       "      <td>83</td>\n",
       "      <td>[RPL13A, RPLP2, RPS18, RPL34, RPLP0, RPL7, RPS15A, RPS20, RPL23A, RPS15, RPL27A, UBA52, RPL35, R...</td>\n",
       "      <td>http://model.geneontology.org/R-HSA-156842</td>\n",
       "    </tr>\n",
       "    <tr>\n",
       "      <th>2</th>\n",
       "      <td>Regulation of Complement cascade - Reactome</td>\n",
       "      <td>2.201032e-07</td>\n",
       "      <td>6</td>\n",
       "      <td>11</td>\n",
       "      <td>[C3, C1R, sset:CD46, CR1:C4b:C3b complexes, sset:C4 activators, sset:C3 convertases, sset:Comple...</td>\n",
       "      <td>http://model.geneontology.org/R-HSA-977606</td>\n",
       "    </tr>\n",
       "  </tbody>\n",
       "</table>\n",
       "</div>"
      ],
      "text/plain": [
       "                                          title  pval (uncorrected)  \\\n",
       "0           Peptide chain elongation - Reactome        4.188963e-09   \n",
       "1  Eukaryotic Translation Elongation - Reactome        8.574529e-09   \n",
       "2   Regulation of Complement cascade - Reactome        2.201032e-07   \n",
       "\n",
       "   # entities in list  #entities in model  \\\n",
       "0                  15                  79   \n",
       "1                  15                  83   \n",
       "2                   6                  11   \n",
       "\n",
       "                                                                              shared entities in gocam  \\\n",
       "0  [RPL13A, RPLP2, RPS18, RPL34, RPLP0, RPL7, RPS15A, RPS20, RPL23A, RPS15, RPL27A, UBA52, RPL35, R...   \n",
       "1  [RPL13A, RPLP2, RPS18, RPL34, RPLP0, RPL7, RPS15A, RPS20, RPL23A, RPS15, RPL27A, UBA52, RPL35, R...   \n",
       "2  [C3, C1R, sset:CD46, CR1:C4b:C3b complexes, sset:C4 activators, sset:C3 convertases, sset:Comple...   \n",
       "\n",
       "                                          url  \n",
       "0  http://model.geneontology.org/R-HSA-156902  \n",
       "1  http://model.geneontology.org/R-HSA-156842  \n",
       "2  http://model.geneontology.org/R-HSA-977606  "
      ]
     },
     "execution_count": 5,
     "metadata": {},
     "output_type": "execute_result"
    }
   ],
   "source": [
    "LMNA_comb = enrich.enrich_wrapper('LMNA_comb.csv','Gene Symbol',method='set',FDR = 0.1,fpath = '../test_data/processed/')\n",
    "LMNA_comb"
   ]
  },
  {
   "cell_type": "markdown",
   "id": "50a4504e-59c9-4102-a15c-c136eeec696d",
   "metadata": {},
   "source": [
    "Unique results:"
   ]
  },
  {
   "cell_type": "code",
   "execution_count": 6,
   "id": "24dbed73-84ee-4070-8054-808ccec76e89",
   "metadata": {},
   "outputs": [
    {
     "name": "stderr",
     "output_type": "stream",
     "text": [
      "100%|██████████████████████████████████████| 207/207 [00:00<00:00, 17530.61it/s]\n",
      "100%|██████████████████████████████████████| 207/207 [00:00<00:00, 16745.83it/s]\n"
     ]
    },
    {
     "name": "stdout",
     "output_type": "stream",
     "text": [
      "Standard method yields 6 results, 4 of which are unique\n"
     ]
    },
    {
     "data": {
      "text/html": [
       "<div>\n",
       "<style scoped>\n",
       "    .dataframe tbody tr th:only-of-type {\n",
       "        vertical-align: middle;\n",
       "    }\n",
       "\n",
       "    .dataframe tbody tr th {\n",
       "        vertical-align: top;\n",
       "    }\n",
       "\n",
       "    .dataframe thead th {\n",
       "        text-align: right;\n",
       "    }\n",
       "</style>\n",
       "<table border=\"1\" class=\"dataframe\">\n",
       "  <thead>\n",
       "    <tr style=\"text-align: right;\">\n",
       "      <th></th>\n",
       "      <th>title</th>\n",
       "      <th>pval (uncorrected)</th>\n",
       "      <th># entities in list</th>\n",
       "      <th>#entities in model</th>\n",
       "      <th>shared entities in gocam</th>\n",
       "      <th>url</th>\n",
       "      <th>gene list size</th>\n",
       "    </tr>\n",
       "  </thead>\n",
       "  <tbody>\n",
       "    <tr>\n",
       "      <th>2</th>\n",
       "      <td>Regulation of Complement cascade - Reactome</td>\n",
       "      <td>2.201032e-07</td>\n",
       "      <td>6</td>\n",
       "      <td>11</td>\n",
       "      <td>[C3, C1R, sset:CD46, CR1:C4b:C3b complexes, sset:C4 activators, sset:C3 convertases, sset:Comple...</td>\n",
       "      <td>http://model.geneontology.org/R-HSA-977606</td>\n",
       "      <td>117</td>\n",
       "    </tr>\n",
       "  </tbody>\n",
       "</table>\n",
       "</div>"
      ],
      "text/plain": [
       "                                         title  pval (uncorrected)  \\\n",
       "2  Regulation of Complement cascade - Reactome        2.201032e-07   \n",
       "\n",
       "   # entities in list  #entities in model  \\\n",
       "2                   6                  11   \n",
       "\n",
       "                                                                              shared entities in gocam  \\\n",
       "2  [C3, C1R, sset:CD46, CR1:C4b:C3b complexes, sset:C4 activators, sset:C3 convertases, sset:Comple...   \n",
       "\n",
       "                                          url  gene list size  \n",
       "2  http://model.geneontology.org/R-HSA-977606             117  "
      ]
     },
     "execution_count": 6,
     "metadata": {},
     "output_type": "execute_result"
    }
   ],
   "source": [
    "enrich.compare2standard(LMNA_comb, 'LMNA_comb.csv','Gene Symbol',FDR = 0.1)"
   ]
  },
  {
   "cell_type": "code",
   "execution_count": null,
   "id": "5afcfeee-3ef8-472f-927f-c185cda0fc44",
   "metadata": {},
   "outputs": [
    {
     "name": "stderr",
     "output_type": "stream",
     "text": [
      "100%|██████████████| 326/326 [00:00<00:00, 17277.09it/s]\n"
     ]
    },
    {
     "data": {
      "text/plain": [
       "array([list(['CFD', 'C3', 'C1R'])], dtype=object)"
      ]
     },
     "execution_count": 23,
     "metadata": {},
     "output_type": "execute_result"
    }
   ],
   "source": [
    "temp = enrich.enrich_wrapper('LMNA_comb.csv','Gene Symbol',method='standard',show_significant = False,fpath = '../test_data/processed/')\n",
    "temp.query('title == \"Regulation of Complement cascade - Reactome\"')['shared entities in gocam'].values"
   ]
  },
  {
   "cell_type": "markdown",
   "id": "7f3ed318-ba88-4b38-a5dc-d5fba90a630d",
   "metadata": {
    "tags": []
   },
   "source": [
    "### RBM20"
   ]
  },
  {
   "cell_type": "code",
   "execution_count": null,
   "id": "bb832643-8529-4088-831b-cd248b98d8d7",
   "metadata": {},
   "outputs": [
    {
     "name": "stderr",
     "output_type": "stream",
     "text": [
      "100%|██████████████| 195/195 [00:00<00:00, 18052.56it/s]\n"
     ]
    },
    {
     "name": "stdout",
     "output_type": "stream",
     "text": [
      "Analysis run on 135 entities from 103 out of 435 input genes\n"
     ]
    },
    {
     "data": {
      "text/html": [
       "<div>\n",
       "<style scoped>\n",
       "    .dataframe tbody tr th:only-of-type {\n",
       "        vertical-align: middle;\n",
       "    }\n",
       "\n",
       "    .dataframe tbody tr th {\n",
       "        vertical-align: top;\n",
       "    }\n",
       "\n",
       "    .dataframe thead th {\n",
       "        text-align: right;\n",
       "    }\n",
       "</style>\n",
       "<table border=\"1\" class=\"dataframe\">\n",
       "  <thead>\n",
       "    <tr style=\"text-align: right;\">\n",
       "      <th></th>\n",
       "      <th>title</th>\n",
       "      <th>pval (uncorrected)</th>\n",
       "      <th># entities in list</th>\n",
       "      <th>#entities in model</th>\n",
       "      <th>shared entities in gocam</th>\n",
       "      <th>url</th>\n",
       "    </tr>\n",
       "  </thead>\n",
       "  <tbody>\n",
       "    <tr>\n",
       "      <th>0</th>\n",
       "      <td>Regulation of Complement cascade - Reactome</td>\n",
       "      <td>0.000016</td>\n",
       "      <td>5</td>\n",
       "      <td>11</td>\n",
       "      <td>[C3, sset:C4 activators, sset:C3 convertases, sset:Complement factor D, sset:CD46, CR1:C4b:C3b c...</td>\n",
       "      <td>http://model.geneontology.org/R-HSA-977606</td>\n",
       "    </tr>\n",
       "  </tbody>\n",
       "</table>\n",
       "</div>"
      ],
      "text/plain": [
       "                                         title  pval (uncorrected)  \\\n",
       "0  Regulation of Complement cascade - Reactome            0.000016   \n",
       "\n",
       "   # entities in list  #entities in model  \\\n",
       "0                   5                  11   \n",
       "\n",
       "                                                                              shared entities in gocam  \\\n",
       "0  [C3, sset:C4 activators, sset:C3 convertases, sset:Complement factor D, sset:CD46, CR1:C4b:C3b c...   \n",
       "\n",
       "                                          url  \n",
       "0  http://model.geneontology.org/R-HSA-977606  "
      ]
     },
     "execution_count": 24,
     "metadata": {},
     "output_type": "execute_result"
    }
   ],
   "source": [
    "RBM20_comb = enrich.enrich_wrapper('RBM20_comb.csv','Gene Symbol',method='set',FDR = 0.1,fpath = '../test_data/processed/')\n",
    "RBM20_comb"
   ]
  },
  {
   "cell_type": "code",
   "execution_count": null,
   "id": "ecc91a2e-10af-40ee-84ab-18b3cbc5c410",
   "metadata": {},
   "outputs": [
    {
     "name": "stderr",
     "output_type": "stream",
     "text": [
      "100%|██████████████| 195/195 [00:00<00:00, 17708.21it/s]\n",
      "100%|██████████████| 195/195 [00:00<00:00, 17733.55it/s]\n"
     ]
    },
    {
     "name": "stdout",
     "output_type": "stream",
     "text": [
      "Standard method yields 2 results, 2 of which are unique\n"
     ]
    },
    {
     "data": {
      "text/html": [
       "<div>\n",
       "<style scoped>\n",
       "    .dataframe tbody tr th:only-of-type {\n",
       "        vertical-align: middle;\n",
       "    }\n",
       "\n",
       "    .dataframe tbody tr th {\n",
       "        vertical-align: top;\n",
       "    }\n",
       "\n",
       "    .dataframe thead th {\n",
       "        text-align: right;\n",
       "    }\n",
       "</style>\n",
       "<table border=\"1\" class=\"dataframe\">\n",
       "  <thead>\n",
       "    <tr style=\"text-align: right;\">\n",
       "      <th></th>\n",
       "      <th>title</th>\n",
       "      <th>pval (uncorrected)</th>\n",
       "      <th># entities in list</th>\n",
       "      <th>#entities in model</th>\n",
       "      <th>shared entities in gocam</th>\n",
       "      <th>url</th>\n",
       "      <th>gene list size</th>\n",
       "    </tr>\n",
       "  </thead>\n",
       "  <tbody>\n",
       "    <tr>\n",
       "      <th>0</th>\n",
       "      <td>Regulation of Complement cascade - Reactome</td>\n",
       "      <td>0.000016</td>\n",
       "      <td>5</td>\n",
       "      <td>11</td>\n",
       "      <td>[C3, sset:C4 activators, sset:C3 convertases, sset:Complement factor D, sset:CD46, CR1:C4b:C3b c...</td>\n",
       "      <td>http://model.geneontology.org/R-HSA-977606</td>\n",
       "      <td>117</td>\n",
       "    </tr>\n",
       "  </tbody>\n",
       "</table>\n",
       "</div>"
      ],
      "text/plain": [
       "                                         title  pval (uncorrected)  \\\n",
       "0  Regulation of Complement cascade - Reactome            0.000016   \n",
       "\n",
       "   # entities in list  #entities in model  \\\n",
       "0                   5                  11   \n",
       "\n",
       "                                                                              shared entities in gocam  \\\n",
       "0  [C3, sset:C4 activators, sset:C3 convertases, sset:Complement factor D, sset:CD46, CR1:C4b:C3b c...   \n",
       "\n",
       "                                          url  gene list size  \n",
       "0  http://model.geneontology.org/R-HSA-977606             117  "
      ]
     },
     "execution_count": 25,
     "metadata": {},
     "output_type": "execute_result"
    }
   ],
   "source": [
    "enrich.compare2standard(RBM20_comb, 'RBM20_comb.csv','Gene Symbol',FDR = 0.1)"
   ]
  },
  {
   "cell_type": "markdown",
   "id": "aaf146d9-cb80-4a94-bc48-1317a587b4ee",
   "metadata": {
    "tags": []
   },
   "source": [
    "### PKP2"
   ]
  },
  {
   "cell_type": "code",
   "execution_count": null,
   "id": "66ee92e4-39fb-4c91-9b12-79a60bf74cc6",
   "metadata": {
    "tags": []
   },
   "outputs": [
    {
     "name": "stderr",
     "output_type": "stream",
     "text": [
      "100%|██████████████| 185/185 [00:00<00:00, 18532.71it/s]\n"
     ]
    },
    {
     "name": "stdout",
     "output_type": "stream",
     "text": [
      "Analysis run on 92 entities from 65 out of 309 input genes\n"
     ]
    },
    {
     "data": {
      "text/html": [
       "<div>\n",
       "<style scoped>\n",
       "    .dataframe tbody tr th:only-of-type {\n",
       "        vertical-align: middle;\n",
       "    }\n",
       "\n",
       "    .dataframe tbody tr th {\n",
       "        vertical-align: top;\n",
       "    }\n",
       "\n",
       "    .dataframe thead th {\n",
       "        text-align: right;\n",
       "    }\n",
       "</style>\n",
       "<table border=\"1\" class=\"dataframe\">\n",
       "  <thead>\n",
       "    <tr style=\"text-align: right;\">\n",
       "      <th></th>\n",
       "      <th>title</th>\n",
       "      <th>pval (uncorrected)</th>\n",
       "      <th># entities in list</th>\n",
       "      <th>#entities in model</th>\n",
       "      <th>shared entities in gocam</th>\n",
       "      <th>url</th>\n",
       "    </tr>\n",
       "  </thead>\n",
       "  <tbody>\n",
       "  </tbody>\n",
       "</table>\n",
       "</div>"
      ],
      "text/plain": [
       "Empty DataFrame\n",
       "Columns: [title, pval (uncorrected), # entities in list, #entities in model, shared entities in gocam, url]\n",
       "Index: []"
      ]
     },
     "execution_count": 26,
     "metadata": {},
     "output_type": "execute_result"
    }
   ],
   "source": [
    "PKP2_comb = enrich.enrich_wrapper('PKP2_comb.csv','Gene Symbol',method='set',FDR = 0.1,fpath = '../test_data/processed/')\n",
    "PKP2_comb"
   ]
  },
  {
   "cell_type": "code",
   "execution_count": null,
   "id": "8a1b9b2f-7b2e-4dbc-9c24-3f53a82d52c4",
   "metadata": {},
   "outputs": [
    {
     "name": "stderr",
     "output_type": "stream",
     "text": [
      "100%|██████████████| 185/185 [00:00<00:00, 17781.43it/s]\n",
      "100%|██████████████| 185/185 [00:00<00:00, 17950.91it/s]\n"
     ]
    },
    {
     "name": "stdout",
     "output_type": "stream",
     "text": [
      "Standard method yields 0 results, 0 of which are unique\n"
     ]
    },
    {
     "data": {
      "text/html": [
       "<div>\n",
       "<style scoped>\n",
       "    .dataframe tbody tr th:only-of-type {\n",
       "        vertical-align: middle;\n",
       "    }\n",
       "\n",
       "    .dataframe tbody tr th {\n",
       "        vertical-align: top;\n",
       "    }\n",
       "\n",
       "    .dataframe thead th {\n",
       "        text-align: right;\n",
       "    }\n",
       "</style>\n",
       "<table border=\"1\" class=\"dataframe\">\n",
       "  <thead>\n",
       "    <tr style=\"text-align: right;\">\n",
       "      <th></th>\n",
       "    </tr>\n",
       "  </thead>\n",
       "  <tbody>\n",
       "  </tbody>\n",
       "</table>\n",
       "</div>"
      ],
      "text/plain": [
       "Empty DataFrame\n",
       "Columns: []\n",
       "Index: []"
      ]
     },
     "execution_count": 27,
     "metadata": {},
     "output_type": "execute_result"
    }
   ],
   "source": [
    "enrich.compare2standard(PKP2_comb, 'PKP2_comb.csv','Gene Symbol',FDR = 0.1)"
   ]
  },
  {
   "cell_type": "markdown",
   "id": "3cb76d32-ee25-4e0d-8e0a-07e4845811e8",
   "metadata": {
    "tags": []
   },
   "source": [
    "### PVneg"
   ]
  },
  {
   "cell_type": "code",
   "execution_count": null,
   "id": "cd3ef738-30f1-42aa-b684-0e36d86f0d97",
   "metadata": {},
   "outputs": [
    {
     "name": "stderr",
     "output_type": "stream",
     "text": [
      "100%|██████████████| 324/324 [00:00<00:00, 17877.92it/s]\n"
     ]
    },
    {
     "name": "stdout",
     "output_type": "stream",
     "text": [
      "Analysis run on 256 entities from 221 out of 686 input genes\n"
     ]
    },
    {
     "data": {
      "text/html": [
       "<div>\n",
       "<style scoped>\n",
       "    .dataframe tbody tr th:only-of-type {\n",
       "        vertical-align: middle;\n",
       "    }\n",
       "\n",
       "    .dataframe tbody tr th {\n",
       "        vertical-align: top;\n",
       "    }\n",
       "\n",
       "    .dataframe thead th {\n",
       "        text-align: right;\n",
       "    }\n",
       "</style>\n",
       "<table border=\"1\" class=\"dataframe\">\n",
       "  <thead>\n",
       "    <tr style=\"text-align: right;\">\n",
       "      <th></th>\n",
       "      <th>title</th>\n",
       "      <th>pval (uncorrected)</th>\n",
       "      <th># entities in list</th>\n",
       "      <th>#entities in model</th>\n",
       "      <th>shared entities in gocam</th>\n",
       "      <th>url</th>\n",
       "    </tr>\n",
       "  </thead>\n",
       "  <tbody>\n",
       "    <tr>\n",
       "      <th>0</th>\n",
       "      <td>Peptide chain elongation - Reactome</td>\n",
       "      <td>3.549111e-29</td>\n",
       "      <td>41</td>\n",
       "      <td>79</td>\n",
       "      <td>[RPL13A, RPLP2, RPLP0, RPS18, RPL35, RPL27A, RPS15A, RPL7, RPS5, RPS2, RPS20, RPLP1, RPSA, RPL10...</td>\n",
       "      <td>http://model.geneontology.org/R-HSA-156902</td>\n",
       "    </tr>\n",
       "    <tr>\n",
       "      <th>1</th>\n",
       "      <td>Eukaryotic Translation Elongation - Reactome</td>\n",
       "      <td>4.672540e-28</td>\n",
       "      <td>41</td>\n",
       "      <td>83</td>\n",
       "      <td>[RPL13A, RPLP2, RPLP0, RPS18, RPL35, RPL27A, RPS15A, RPL7, RPS5, RPS2, RPS20, RPLP1, RPSA, RPL10...</td>\n",
       "      <td>http://model.geneontology.org/R-HSA-156842</td>\n",
       "    </tr>\n",
       "    <tr>\n",
       "      <th>2</th>\n",
       "      <td>Formation of ATP by chemiosmotic coupling - Reactome</td>\n",
       "      <td>2.912307e-09</td>\n",
       "      <td>23</td>\n",
       "      <td>88</td>\n",
       "      <td>[MT-ND4, MT-ND2, CYC1, UQCRQ, COX5B, ATP5MC1, COX7C, NDUFA1, MT-CO2, MT-CO1, ATP5F1D, ATP5MC3, U...</td>\n",
       "      <td>http://model.geneontology.org/R-HSA-163210</td>\n",
       "    </tr>\n",
       "    <tr>\n",
       "      <th>3</th>\n",
       "      <td>Respiratory electron transport - Reactome</td>\n",
       "      <td>3.162146e-06</td>\n",
       "      <td>19</td>\n",
       "      <td>91</td>\n",
       "      <td>[MT-ND4, MT-ND2, CYC1, UQCRQ, COX5B, IDH3B, ACADVL, COX7C, NDUFA1, MT-CO2, MT-CO1, UQCRB, COX6B1...</td>\n",
       "      <td>http://model.geneontology.org/R-HSA-611105</td>\n",
       "    </tr>\n",
       "    <tr>\n",
       "      <th>4</th>\n",
       "      <td>The fatty acid cycling model - Reactome</td>\n",
       "      <td>5.667088e-06</td>\n",
       "      <td>16</td>\n",
       "      <td>70</td>\n",
       "      <td>[MT-ND4, MT-ND2, CYC1, UQCRQ, COX5B, COX7C, NDUFA1, MT-CO2, MT-CO1, UQCRB, COX6B1, NDUFA4, NDUFA...</td>\n",
       "      <td>http://model.geneontology.org/R-HSA-167826</td>\n",
       "    </tr>\n",
       "    <tr>\n",
       "      <th>5</th>\n",
       "      <td>The proton buffering model - Reactome</td>\n",
       "      <td>5.667088e-06</td>\n",
       "      <td>16</td>\n",
       "      <td>70</td>\n",
       "      <td>[MT-ND4, MT-ND2, CYC1, UQCRQ, COX5B, COX7C, NDUFA1, MT-CO2, MT-CO1, UQCRB, COX6B1, NDUFA4, NDUFA...</td>\n",
       "      <td>http://model.geneontology.org/R-HSA-167827</td>\n",
       "    </tr>\n",
       "    <tr>\n",
       "      <th>6</th>\n",
       "      <td>Cytoprotection by HMOX1 - Reactome</td>\n",
       "      <td>6.805078e-06</td>\n",
       "      <td>10</td>\n",
       "      <td>29</td>\n",
       "      <td>[CYC1, UQCRQ, COX5B, COX7C, MT-CO2, MT-CO1, UQCRB, COX6B1, NDUFA4, COX4I1]</td>\n",
       "      <td>http://model.geneontology.org/R-HSA-9707564</td>\n",
       "    </tr>\n",
       "    <tr>\n",
       "      <th>7</th>\n",
       "      <td>Transport of nucleosides and free purine and pyrimidine bases across the plasma membrane - Reactome</td>\n",
       "      <td>9.636447e-06</td>\n",
       "      <td>10</td>\n",
       "      <td>30</td>\n",
       "      <td>[ATP5MC1, ATP5F1D, ATP5MC3, SLC25A4, ATP5ME, ATP5PD, ATP5F1E, sset:SLC29A2-like proteins, sset:A...</td>\n",
       "      <td>http://model.geneontology.org/R-HSA-83936</td>\n",
       "    </tr>\n",
       "    <tr>\n",
       "      <th>8</th>\n",
       "      <td>TP53 Regulates Metabolic Genes - Reactome</td>\n",
       "      <td>2.089708e-05</td>\n",
       "      <td>12</td>\n",
       "      <td>46</td>\n",
       "      <td>[CYC1, UQCRQ, COX5B, COX7C, MT-CO2, MT-CO1, UQCRB, COX6B1, NDUFA4, COX4I1, PRDX1, sset:PRDX1,2,5]</td>\n",
       "      <td>http://model.geneontology.org/R-HSA-5628897</td>\n",
       "    </tr>\n",
       "    <tr>\n",
       "      <th>9</th>\n",
       "      <td>Chondroitin sulfate biosynthesis - Reactome</td>\n",
       "      <td>1.073776e-04</td>\n",
       "      <td>5</td>\n",
       "      <td>9</td>\n",
       "      <td>[sset:CHST9,11,12,13, sset:PAPST1,2, sset:CHPF,CHPF2,CHSY3, sset:CHPF,CHSY3, sset:B3GAT dimers]</td>\n",
       "      <td>http://model.geneontology.org/R-HSA-2022870</td>\n",
       "    </tr>\n",
       "    <tr>\n",
       "      <th>10</th>\n",
       "      <td>Hydrolysis of LPC - Reactome</td>\n",
       "      <td>5.000502e-04</td>\n",
       "      <td>4</td>\n",
       "      <td>7</td>\n",
       "      <td>[sset:PLA2(5), sset:PLA2(8), sset:PLA2(6), sset:PLA2(7)]</td>\n",
       "      <td>http://model.geneontology.org/R-HSA-1483115</td>\n",
       "    </tr>\n",
       "  </tbody>\n",
       "</table>\n",
       "</div>"
      ],
      "text/plain": [
       "                                                                                                  title  \\\n",
       "0                                                                   Peptide chain elongation - Reactome   \n",
       "1                                                          Eukaryotic Translation Elongation - Reactome   \n",
       "2                                                  Formation of ATP by chemiosmotic coupling - Reactome   \n",
       "3                                                             Respiratory electron transport - Reactome   \n",
       "4                                                               The fatty acid cycling model - Reactome   \n",
       "5                                                                 The proton buffering model - Reactome   \n",
       "6                                                                    Cytoprotection by HMOX1 - Reactome   \n",
       "7   Transport of nucleosides and free purine and pyrimidine bases across the plasma membrane - Reactome   \n",
       "8                                                             TP53 Regulates Metabolic Genes - Reactome   \n",
       "9                                                           Chondroitin sulfate biosynthesis - Reactome   \n",
       "10                                                                         Hydrolysis of LPC - Reactome   \n",
       "\n",
       "    pval (uncorrected)  # entities in list  #entities in model  \\\n",
       "0         3.549111e-29                  41                  79   \n",
       "1         4.672540e-28                  41                  83   \n",
       "2         2.912307e-09                  23                  88   \n",
       "3         3.162146e-06                  19                  91   \n",
       "4         5.667088e-06                  16                  70   \n",
       "5         5.667088e-06                  16                  70   \n",
       "6         6.805078e-06                  10                  29   \n",
       "7         9.636447e-06                  10                  30   \n",
       "8         2.089708e-05                  12                  46   \n",
       "9         1.073776e-04                   5                   9   \n",
       "10        5.000502e-04                   4                   7   \n",
       "\n",
       "                                                                               shared entities in gocam  \\\n",
       "0   [RPL13A, RPLP2, RPLP0, RPS18, RPL35, RPL27A, RPS15A, RPL7, RPS5, RPS2, RPS20, RPLP1, RPSA, RPL10...   \n",
       "1   [RPL13A, RPLP2, RPLP0, RPS18, RPL35, RPL27A, RPS15A, RPL7, RPS5, RPS2, RPS20, RPLP1, RPSA, RPL10...   \n",
       "2   [MT-ND4, MT-ND2, CYC1, UQCRQ, COX5B, ATP5MC1, COX7C, NDUFA1, MT-CO2, MT-CO1, ATP5F1D, ATP5MC3, U...   \n",
       "3   [MT-ND4, MT-ND2, CYC1, UQCRQ, COX5B, IDH3B, ACADVL, COX7C, NDUFA1, MT-CO2, MT-CO1, UQCRB, COX6B1...   \n",
       "4   [MT-ND4, MT-ND2, CYC1, UQCRQ, COX5B, COX7C, NDUFA1, MT-CO2, MT-CO1, UQCRB, COX6B1, NDUFA4, NDUFA...   \n",
       "5   [MT-ND4, MT-ND2, CYC1, UQCRQ, COX5B, COX7C, NDUFA1, MT-CO2, MT-CO1, UQCRB, COX6B1, NDUFA4, NDUFA...   \n",
       "6                            [CYC1, UQCRQ, COX5B, COX7C, MT-CO2, MT-CO1, UQCRB, COX6B1, NDUFA4, COX4I1]   \n",
       "7   [ATP5MC1, ATP5F1D, ATP5MC3, SLC25A4, ATP5ME, ATP5PD, ATP5F1E, sset:SLC29A2-like proteins, sset:A...   \n",
       "8     [CYC1, UQCRQ, COX5B, COX7C, MT-CO2, MT-CO1, UQCRB, COX6B1, NDUFA4, COX4I1, PRDX1, sset:PRDX1,2,5]   \n",
       "9       [sset:CHST9,11,12,13, sset:PAPST1,2, sset:CHPF,CHPF2,CHSY3, sset:CHPF,CHSY3, sset:B3GAT dimers]   \n",
       "10                                             [sset:PLA2(5), sset:PLA2(8), sset:PLA2(6), sset:PLA2(7)]   \n",
       "\n",
       "                                            url  \n",
       "0    http://model.geneontology.org/R-HSA-156902  \n",
       "1    http://model.geneontology.org/R-HSA-156842  \n",
       "2    http://model.geneontology.org/R-HSA-163210  \n",
       "3    http://model.geneontology.org/R-HSA-611105  \n",
       "4    http://model.geneontology.org/R-HSA-167826  \n",
       "5    http://model.geneontology.org/R-HSA-167827  \n",
       "6   http://model.geneontology.org/R-HSA-9707564  \n",
       "7     http://model.geneontology.org/R-HSA-83936  \n",
       "8   http://model.geneontology.org/R-HSA-5628897  \n",
       "9   http://model.geneontology.org/R-HSA-2022870  \n",
       "10  http://model.geneontology.org/R-HSA-1483115  "
      ]
     },
     "execution_count": 28,
     "metadata": {},
     "output_type": "execute_result"
    }
   ],
   "source": [
    "PVneg_comb = enrich.enrich_wrapper('PVneg_comb.csv','Gene Symbol',method='set',FDR = 0.1,fpath = '../test_data/processed/')\n",
    "PVneg_comb"
   ]
  },
  {
   "cell_type": "code",
   "execution_count": 35,
   "id": "6f8d1af1-0171-410d-b2a7-1f73f181e89b",
   "metadata": {},
   "outputs": [
    {
     "name": "stderr",
     "output_type": "stream",
     "text": [
      "100%|██████████████| 324/324 [00:00<00:00, 16740.84it/s]\n",
      "100%|██████████████| 324/324 [00:00<00:00, 16830.41it/s]\n"
     ]
    },
    {
     "name": "stdout",
     "output_type": "stream",
     "text": [
      "Standard method yields 10 results, 1 of which are unique\n"
     ]
    },
    {
     "data": {
      "text/html": [
       "<div>\n",
       "<style scoped>\n",
       "    .dataframe tbody tr th:only-of-type {\n",
       "        vertical-align: middle;\n",
       "    }\n",
       "\n",
       "    .dataframe tbody tr th {\n",
       "        vertical-align: top;\n",
       "    }\n",
       "\n",
       "    .dataframe thead th {\n",
       "        text-align: right;\n",
       "    }\n",
       "</style>\n",
       "<table border=\"1\" class=\"dataframe\">\n",
       "  <thead>\n",
       "    <tr style=\"text-align: right;\">\n",
       "      <th></th>\n",
       "      <th>title</th>\n",
       "      <th>pval (uncorrected)</th>\n",
       "      <th># entities in list</th>\n",
       "      <th>#entities in model</th>\n",
       "      <th>shared entities in gocam</th>\n",
       "      <th>url</th>\n",
       "      <th>gene list size</th>\n",
       "    </tr>\n",
       "  </thead>\n",
       "  <tbody>\n",
       "    <tr>\n",
       "      <th>9</th>\n",
       "      <td>Chondroitin sulfate biosynthesis - Reactome</td>\n",
       "      <td>0.000107</td>\n",
       "      <td>5</td>\n",
       "      <td>9</td>\n",
       "      <td>[sset:CHST9,11,12,13, sset:PAPST1,2, sset:CHPF,CHPF2,CHSY3, sset:CHPF,CHSY3, sset:B3GAT dimers]</td>\n",
       "      <td>http://model.geneontology.org/R-HSA-2022870</td>\n",
       "      <td>18</td>\n",
       "    </tr>\n",
       "    <tr>\n",
       "      <th>10</th>\n",
       "      <td>Hydrolysis of LPC - Reactome</td>\n",
       "      <td>0.000500</td>\n",
       "      <td>4</td>\n",
       "      <td>7</td>\n",
       "      <td>[sset:PLA2(5), sset:PLA2(8), sset:PLA2(6), sset:PLA2(7)]</td>\n",
       "      <td>http://model.geneontology.org/R-HSA-1483115</td>\n",
       "      <td>13</td>\n",
       "    </tr>\n",
       "  </tbody>\n",
       "</table>\n",
       "</div>"
      ],
      "text/plain": [
       "                                          title  pval (uncorrected)  \\\n",
       "9   Chondroitin sulfate biosynthesis - Reactome            0.000107   \n",
       "10                 Hydrolysis of LPC - Reactome            0.000500   \n",
       "\n",
       "    # entities in list  #entities in model  \\\n",
       "9                    5                   9   \n",
       "10                   4                   7   \n",
       "\n",
       "                                                                           shared entities in gocam  \\\n",
       "9   [sset:CHST9,11,12,13, sset:PAPST1,2, sset:CHPF,CHPF2,CHSY3, sset:CHPF,CHSY3, sset:B3GAT dimers]   \n",
       "10                                         [sset:PLA2(5), sset:PLA2(8), sset:PLA2(6), sset:PLA2(7)]   \n",
       "\n",
       "                                            url  gene list size  \n",
       "9   http://model.geneontology.org/R-HSA-2022870              18  \n",
       "10  http://model.geneontology.org/R-HSA-1483115              13  "
      ]
     },
     "execution_count": 35,
     "metadata": {},
     "output_type": "execute_result"
    }
   ],
   "source": [
    "enrich.compare2standard(PVneg_comb, 'PVneg_comb.csv','Gene Symbol',FDR = .1)"
   ]
  },
  {
   "cell_type": "code",
   "execution_count": 37,
   "id": "6960b487-e4f7-433f-a2f8-463617470fb9",
   "metadata": {},
   "outputs": [
    {
     "name": "stderr",
     "output_type": "stream",
     "text": [
      "100%|██████████████| 324/324 [00:00<00:00, 17324.32it/s]\n"
     ]
    },
    {
     "data": {
      "text/html": [
       "<div>\n",
       "<style scoped>\n",
       "    .dataframe tbody tr th:only-of-type {\n",
       "        vertical-align: middle;\n",
       "    }\n",
       "\n",
       "    .dataframe tbody tr th {\n",
       "        vertical-align: top;\n",
       "    }\n",
       "\n",
       "    .dataframe thead th {\n",
       "        text-align: right;\n",
       "    }\n",
       "</style>\n",
       "<table border=\"1\" class=\"dataframe\">\n",
       "  <thead>\n",
       "    <tr style=\"text-align: right;\">\n",
       "      <th></th>\n",
       "      <th>title</th>\n",
       "      <th>pval (uncorrected)</th>\n",
       "      <th># entities in list</th>\n",
       "      <th>#entities in model</th>\n",
       "      <th>shared entities in gocam</th>\n",
       "      <th>url</th>\n",
       "    </tr>\n",
       "  </thead>\n",
       "  <tbody>\n",
       "    <tr>\n",
       "      <th>46</th>\n",
       "      <td>Chondroitin sulfate biosynthesis - Reactome</td>\n",
       "      <td>0.005988</td>\n",
       "      <td>4</td>\n",
       "      <td>18</td>\n",
       "      <td>[CHSY3, CHST11, B3GAT2, SLC35B2]</td>\n",
       "      <td>http://model.geneontology.org/R-HSA-2022870</td>\n",
       "    </tr>\n",
       "  </tbody>\n",
       "</table>\n",
       "</div>"
      ],
      "text/plain": [
       "                                          title  pval (uncorrected)  \\\n",
       "46  Chondroitin sulfate biosynthesis - Reactome            0.005988   \n",
       "\n",
       "    # entities in list  #entities in model          shared entities in gocam  \\\n",
       "46                   4                  18  [CHSY3, CHST11, B3GAT2, SLC35B2]   \n",
       "\n",
       "                                            url  \n",
       "46  http://model.geneontology.org/R-HSA-2022870  "
      ]
     },
     "execution_count": 37,
     "metadata": {},
     "output_type": "execute_result"
    }
   ],
   "source": [
    "temp = enrich.enrich_wrapper('PVneg_comb.csv','Gene Symbol', show_significant = False, method = 'standard', fpath = '../test_data/processed/')\n",
    "temp.query('title == \"Chondroitin sulfate biosynthesis - Reactome\"')"
   ]
  },
  {
   "cell_type": "code",
   "execution_count": 20,
   "id": "2c8dbca9-8b37-44f6-b335-369e45e5f199",
   "metadata": {},
   "outputs": [
    {
     "data": {
      "text/plain": [
       "{'Q70JA7': 'CHSY3',\n",
       " 'Q9NPF2': 'CHST11',\n",
       " 'A0A024RBL0': 'CHST11',\n",
       " 'F8VRG6': 'CHST11',\n",
       " 'F8VXK3': 'CHST11',\n",
       " 'F8VXK7': 'CHST11',\n",
       " 'Q9NPZ5': 'B3GAT2',\n",
       " 'A0A087WXU9': 'B3GAT2',\n",
       " 'Q29RV3': 'B3GAT2',\n",
       " 'A0A0A0MS46': 'SLC35B2',\n",
       " 'Q8TB61': 'SLC35B2'}"
      ]
     },
     "execution_count": 20,
     "metadata": {},
     "output_type": "execute_result"
    }
   ],
   "source": [
    "temp = pd.DataFrame({'g':['CHSY3', 'CHST11', 'B3GAT2', 'SLC35B2']})\n",
    "x = utils.convert_IDs(temp,'Gene Symbol')[0]\n",
    "utils.convert_IDs(temp,'Gene Symbol')[1]"
   ]
  },
  {
   "cell_type": "code",
   "execution_count": 22,
   "id": "e433d664-8b34-4271-8936-82d81186f66a",
   "metadata": {},
   "outputs": [
    {
     "name": "stdout",
     "output_type": "stream",
     "text": [
      "([], ['sset:CHPF,CHSY3', 'sset:CHPF,CHPF2,CHSY3'], {'sset:CHPF,CHSY3': {'Q70JA7'}, 'sset:CHPF,CHPF2,CHSY3': {'Q70JA7'}})\n",
      "([], ['sset:CHST9,11,12,13'], {'sset:CHST9,11,12,13': {'Q9NPF2'}})\n",
      "(['A0A024RBL0'], [], {})\n",
      "(['F8VRG6'], [], {})\n",
      "(['F8VXK3'], [], {})\n",
      "(['F8VXK7'], [], {})\n",
      "([], ['sset:B3GAT dimers'], {'sset:B3GAT dimers': {'Q9NPZ5'}})\n",
      "(['A0A087WXU9'], [], {})\n",
      "(['Q29RV3'], [], {})\n",
      "(['A0A0A0MS46'], [], {})\n",
      "([], ['sset:PAPST1,2'], {'sset:PAPST1,2': {'Q8TB61'}})\n"
     ]
    }
   ],
   "source": [
    "for g in x:\n",
    "    print(enrich.get_sets([g]))"
   ]
  },
  {
   "cell_type": "code",
   "execution_count": 24,
   "id": "20971412-df11-4233-b3c4-5f64a89d23c1",
   "metadata": {},
   "outputs": [
    {
     "name": "stderr",
     "output_type": "stream",
     "text": [
      "100%|██████████████████████████████████████| 324/324 [00:00<00:00, 14948.02it/s]\n"
     ]
    },
    {
     "data": {
      "text/html": [
       "<div>\n",
       "<style scoped>\n",
       "    .dataframe tbody tr th:only-of-type {\n",
       "        vertical-align: middle;\n",
       "    }\n",
       "\n",
       "    .dataframe tbody tr th {\n",
       "        vertical-align: top;\n",
       "    }\n",
       "\n",
       "    .dataframe thead th {\n",
       "        text-align: right;\n",
       "    }\n",
       "</style>\n",
       "<table border=\"1\" class=\"dataframe\">\n",
       "  <thead>\n",
       "    <tr style=\"text-align: right;\">\n",
       "      <th></th>\n",
       "      <th>title</th>\n",
       "      <th>pval (uncorrected)</th>\n",
       "      <th># entities in list</th>\n",
       "      <th>#entities in model</th>\n",
       "      <th>shared entities in gocam</th>\n",
       "      <th>url</th>\n",
       "    </tr>\n",
       "  </thead>\n",
       "  <tbody>\n",
       "    <tr>\n",
       "      <th>107</th>\n",
       "      <td>Hydrolysis of LPC - Reactome</td>\n",
       "      <td>0.102432</td>\n",
       "      <td>2</td>\n",
       "      <td>13</td>\n",
       "      <td>[PLA2G4A, PLA2G2A]</td>\n",
       "      <td>http://model.geneontology.org/R-HSA-1483115</td>\n",
       "    </tr>\n",
       "  </tbody>\n",
       "</table>\n",
       "</div>"
      ],
      "text/plain": [
       "                            title  pval (uncorrected)  # entities in list  \\\n",
       "107  Hydrolysis of LPC - Reactome            0.102432                   2   \n",
       "\n",
       "     #entities in model shared entities in gocam  \\\n",
       "107                  13       [PLA2G4A, PLA2G2A]   \n",
       "\n",
       "                                             url  \n",
       "107  http://model.geneontology.org/R-HSA-1483115  "
      ]
     },
     "execution_count": 24,
     "metadata": {},
     "output_type": "execute_result"
    }
   ],
   "source": [
    "temp = enrich.enrich_wrapper('PVneg_comb.csv','Gene Symbol', show_significant = False, method = 'standard', fpath = '../test_data/processed/')\n",
    "temp.query('title == \"Hydrolysis of LPC - Reactome\"')"
   ]
  },
  {
   "cell_type": "markdown",
   "id": "bbe61947-445f-44f2-b955-ae16449051c2",
   "metadata": {
    "jp-MarkdownHeadingCollapsed": true,
    "tags": []
   },
   "source": [
    "## fibroblast DEGs\n",
    "\n",
    "fibroblasts and VEGF: https://www.nature.com/articles/s41598-022-23304-8#:~:text=Vascular%20endothelial%20growth%20factor%20(VEGF,%2C%20collagen%20deposition%2C%20and%20epithelialization."
   ]
  },
  {
   "cell_type": "markdown",
   "id": "e43ca9f5-628e-4ddc-b8ba-082d3b0179ed",
   "metadata": {
    "tags": []
   },
   "source": [
    "### Preprocess"
   ]
  },
  {
   "cell_type": "code",
   "execution_count": 19,
   "id": "10686b2a-32c3-4d5f-87eb-217b3312e8d2",
   "metadata": {},
   "outputs": [
    {
     "name": "stdout",
     "output_type": "stream",
     "text": [
      "LMNA : 872 genes\n",
      "PKP2 : 725 genes\n",
      "RBM20 : 625 genes\n",
      "TTN : 1092 genes\n",
      "PVneg : 1135 genes\n"
     ]
    }
   ],
   "source": [
    "xls_down = pd.ExcelFile('../test_data/unprocessed/science.abo1984_tables_s1_to_s71/S16_LV_FB_Upregulated_Genes_Controls_All_States.xlsx')\n",
    "xls_up = pd.ExcelFile('../test_data/unprocessed/science.abo1984_tables_s1_to_s71/S17_LV_FB_Upregulated_Genes_Disease_Genotypes_All_States.xlsx')\n",
    "\n",
    "for genotype in ['LMNA','PKP2','RBM20','TTN','PVneg']:\n",
    "    \n",
    "    df = pd.concat([\n",
    "        pd.read_excel(xls_up,f'{genotype}_control'),\n",
    "         pd.read_excel(xls_down,f'control_{genotype}')\n",
    "    ])\n",
    "    df = df.query(f'logFC > {logFC} and PValue < {PV}')\n",
    "    df['Gene'].to_csv(f'../test_data/processed/{genotype}_FB_comb.csv', header = False, index= False)\n",
    "    print(genotype,':',len(df), 'genes')"
   ]
  },
  {
   "cell_type": "code",
   "execution_count": 10,
   "id": "71e6a57a-6618-4e7a-bb38-173e53aa13c3",
   "metadata": {},
   "outputs": [
    {
     "name": "stdout",
     "output_type": "stream",
     "text": [
      "LMNA up : 347 genes\n",
      "LMNA down : 525 genes\n",
      "PKP2 up : 342 genes\n",
      "PKP2 down : 383 genes\n",
      "RBM20 up : 259 genes\n",
      "RBM20 down : 366 genes\n",
      "TTN up : 385 genes\n",
      "TTN down : 707 genes\n",
      "PVneg up : 398 genes\n",
      "PVneg down : 737 genes\n"
     ]
    }
   ],
   "source": [
    "xls_down = pd.ExcelFile('../test_data/unprocessed/science.abo1984_tables_s1_to_s71/S16_LV_FB_Upregulated_Genes_Controls_All_States.xlsx')\n",
    "xls_up = pd.ExcelFile('../test_data/unprocessed/science.abo1984_tables_s1_to_s71/S17_LV_FB_Upregulated_Genes_Disease_Genotypes_All_States.xlsx')\n",
    "\n",
    "for genotype in ['LMNA','PKP2','RBM20','TTN','PVneg']:\n",
    "    \n",
    "    df_up = pd.read_excel(xls_up,f'{genotype}_control')\n",
    "    df_down = pd.read_excel(xls_down,f'control_{genotype}')\n",
    "    \n",
    "    \n",
    "    for sign, df in {'up':df_up,'down':df_down}.items():\n",
    "        df = df.query(f'logFC > {logFC} and PValue < {PV}')\n",
    "        df['Gene'].to_csv(f'../test_data/processed/{genotype}_FB_{sign}.csv', header = False, index= False)\n",
    "        print(genotype,sign,':',len(df), 'genes')"
   ]
  },
  {
   "cell_type": "markdown",
   "id": "2758be91-9a1a-49a0-b620-138a09c60f1b",
   "metadata": {
    "tags": []
   },
   "source": [
    "### LMNA"
   ]
  },
  {
   "cell_type": "code",
   "execution_count": 32,
   "id": "bfc0de35-087b-4202-9e0b-e63b9d53d157",
   "metadata": {},
   "outputs": [
    {
     "name": "stderr",
     "output_type": "stream",
     "text": [
      "100%|██████████████████████████████████████| 401/401 [00:00<00:00, 17557.63it/s]\n"
     ]
    },
    {
     "name": "stdout",
     "output_type": "stream",
     "text": [
      "Analysis run on 284 entities from 234 out of 872 input genes\n"
     ]
    },
    {
     "data": {
      "text/html": [
       "<div>\n",
       "<style scoped>\n",
       "    .dataframe tbody tr th:only-of-type {\n",
       "        vertical-align: middle;\n",
       "    }\n",
       "\n",
       "    .dataframe tbody tr th {\n",
       "        vertical-align: top;\n",
       "    }\n",
       "\n",
       "    .dataframe thead th {\n",
       "        text-align: right;\n",
       "    }\n",
       "</style>\n",
       "<table border=\"1\" class=\"dataframe\">\n",
       "  <thead>\n",
       "    <tr style=\"text-align: right;\">\n",
       "      <th></th>\n",
       "      <th>title</th>\n",
       "      <th>pval (uncorrected)</th>\n",
       "      <th># entities in list</th>\n",
       "      <th>#entities in model</th>\n",
       "      <th>shared entities in gocam</th>\n",
       "      <th>url</th>\n",
       "    </tr>\n",
       "  </thead>\n",
       "  <tbody>\n",
       "    <tr>\n",
       "      <th>0</th>\n",
       "      <td>Peptide chain elongation - Reactome</td>\n",
       "      <td>3.358753e-07</td>\n",
       "      <td>20</td>\n",
       "      <td>79</td>\n",
       "      <td>[RPS17, RPL13A, RPS18, RPLP0, RPLP2, RPL34, RPS20, RPL27A, RPL7, RPL35, RPL38, RPLP1, RPS15A, RP...</td>\n",
       "      <td>http://model.geneontology.org/R-HSA-156902</td>\n",
       "    </tr>\n",
       "    <tr>\n",
       "      <th>1</th>\n",
       "      <td>Eukaryotic Translation Elongation - Reactome</td>\n",
       "      <td>7.965288e-07</td>\n",
       "      <td>20</td>\n",
       "      <td>83</td>\n",
       "      <td>[RPS17, RPL13A, RPS18, RPLP0, RPLP2, RPL34, RPS20, RPL27A, RPL7, RPL35, RPL38, RPLP1, RPS15A, RP...</td>\n",
       "      <td>http://model.geneontology.org/R-HSA-156842</td>\n",
       "    </tr>\n",
       "    <tr>\n",
       "      <th>2</th>\n",
       "      <td>Regulation of Complement cascade - Reactome</td>\n",
       "      <td>2.244272e-06</td>\n",
       "      <td>7</td>\n",
       "      <td>11</td>\n",
       "      <td>[C3, C1R, sset:C3 convertases, sset:CD46, CR1:C4b:C3b complexes, sset:Activated thrombin, (ELANE...</td>\n",
       "      <td>http://model.geneontology.org/R-HSA-977606</td>\n",
       "    </tr>\n",
       "    <tr>\n",
       "      <th>3</th>\n",
       "      <td>G alpha (i) signalling events - Reactome</td>\n",
       "      <td>8.338874e-05</td>\n",
       "      <td>5</td>\n",
       "      <td>8</td>\n",
       "      <td>[sset:Light-sensing opsins, sset:RGS1,3,4,5,6,7,8,9,10,11,12,13,14,16,17,18,19,20,21, sset:Ligan...</td>\n",
       "      <td>http://model.geneontology.org/R-HSA-418594</td>\n",
       "    </tr>\n",
       "  </tbody>\n",
       "</table>\n",
       "</div>"
      ],
      "text/plain": [
       "                                          title  pval (uncorrected)  \\\n",
       "0           Peptide chain elongation - Reactome        3.358753e-07   \n",
       "1  Eukaryotic Translation Elongation - Reactome        7.965288e-07   \n",
       "2   Regulation of Complement cascade - Reactome        2.244272e-06   \n",
       "3      G alpha (i) signalling events - Reactome        8.338874e-05   \n",
       "\n",
       "   # entities in list  #entities in model  \\\n",
       "0                  20                  79   \n",
       "1                  20                  83   \n",
       "2                   7                  11   \n",
       "3                   5                   8   \n",
       "\n",
       "                                                                              shared entities in gocam  \\\n",
       "0  [RPS17, RPL13A, RPS18, RPLP0, RPLP2, RPL34, RPS20, RPL27A, RPL7, RPL35, RPL38, RPLP1, RPS15A, RP...   \n",
       "1  [RPS17, RPL13A, RPS18, RPLP0, RPLP2, RPL34, RPS20, RPL27A, RPL7, RPL35, RPL38, RPLP1, RPS15A, RP...   \n",
       "2  [C3, C1R, sset:C3 convertases, sset:CD46, CR1:C4b:C3b complexes, sset:Activated thrombin, (ELANE...   \n",
       "3  [sset:Light-sensing opsins, sset:RGS1,3,4,5,6,7,8,9,10,11,12,13,14,16,17,18,19,20,21, sset:Ligan...   \n",
       "\n",
       "                                          url  \n",
       "0  http://model.geneontology.org/R-HSA-156902  \n",
       "1  http://model.geneontology.org/R-HSA-156842  \n",
       "2  http://model.geneontology.org/R-HSA-977606  \n",
       "3  http://model.geneontology.org/R-HSA-418594  "
      ]
     },
     "execution_count": 32,
     "metadata": {},
     "output_type": "execute_result"
    }
   ],
   "source": [
    "LMNA_comb = enrich.enrich_wrapper('LMNA_FB_comb.csv','Gene Symbol',method='set',FDR = .05,fpath = '../test_data/processed/')\n",
    "LMNA_comb"
   ]
  },
  {
   "cell_type": "code",
   "execution_count": 74,
   "id": "33bfded6-ed86-47a0-afa9-0f940dc13998",
   "metadata": {},
   "outputs": [
    {
     "name": "stderr",
     "output_type": "stream",
     "text": [
      "100%|████████████████████████████████████████████████████████████████████████| 401/401 [00:00<00:00, 17937.95it/s]\n",
      "100%|████████████████████████████████████████████████████████████████████████| 401/401 [00:00<00:00, 17801.82it/s]\n"
     ]
    },
    {
     "name": "stdout",
     "output_type": "stream",
     "text": [
      "Standard method yields 3 results, 1 of which are unique\n"
     ]
    },
    {
     "data": {
      "text/html": [
       "<div>\n",
       "<style scoped>\n",
       "    .dataframe tbody tr th:only-of-type {\n",
       "        vertical-align: middle;\n",
       "    }\n",
       "\n",
       "    .dataframe tbody tr th {\n",
       "        vertical-align: top;\n",
       "    }\n",
       "\n",
       "    .dataframe thead th {\n",
       "        text-align: right;\n",
       "    }\n",
       "</style>\n",
       "<table border=\"1\" class=\"dataframe\">\n",
       "  <thead>\n",
       "    <tr style=\"text-align: right;\">\n",
       "      <th></th>\n",
       "      <th>title</th>\n",
       "      <th>pval (uncorrected)</th>\n",
       "      <th># entities in list</th>\n",
       "      <th>#entities in model</th>\n",
       "      <th>shared entities in gocam</th>\n",
       "      <th>url</th>\n",
       "      <th>gene list size</th>\n",
       "    </tr>\n",
       "  </thead>\n",
       "  <tbody>\n",
       "    <tr>\n",
       "      <th>2</th>\n",
       "      <td>Regulation of Complement cascade - Reactome</td>\n",
       "      <td>0.000002</td>\n",
       "      <td>7</td>\n",
       "      <td>11</td>\n",
       "      <td>[C3, C1R, sset:C4 activators, sset:Complement factor D, sset:Activated thrombin, (ELANE), sset:C...</td>\n",
       "      <td>http://model.geneontology.org/R-HSA-977606</td>\n",
       "      <td>117</td>\n",
       "    </tr>\n",
       "    <tr>\n",
       "      <th>3</th>\n",
       "      <td>G alpha (i) signalling events - Reactome</td>\n",
       "      <td>0.000083</td>\n",
       "      <td>5</td>\n",
       "      <td>8</td>\n",
       "      <td>[sset:GNB, sset:Light-sensing opsins, sset:G alpha (i), sset:Ligand:GPCR complexes that activate...</td>\n",
       "      <td>http://model.geneontology.org/R-HSA-418594</td>\n",
       "      <td>250</td>\n",
       "    </tr>\n",
       "  </tbody>\n",
       "</table>\n",
       "</div>"
      ],
      "text/plain": [
       "                                         title  pval (uncorrected)  \\\n",
       "2  Regulation of Complement cascade - Reactome            0.000002   \n",
       "3     G alpha (i) signalling events - Reactome            0.000083   \n",
       "\n",
       "   # entities in list  #entities in model  \\\n",
       "2                   7                  11   \n",
       "3                   5                   8   \n",
       "\n",
       "                                                                              shared entities in gocam  \\\n",
       "2  [C3, C1R, sset:C4 activators, sset:Complement factor D, sset:Activated thrombin, (ELANE), sset:C...   \n",
       "3  [sset:GNB, sset:Light-sensing opsins, sset:G alpha (i), sset:Ligand:GPCR complexes that activate...   \n",
       "\n",
       "                                          url  gene list size  \n",
       "2  http://model.geneontology.org/R-HSA-977606             117  \n",
       "3  http://model.geneontology.org/R-HSA-418594             250  "
      ]
     },
     "execution_count": 74,
     "metadata": {},
     "output_type": "execute_result"
    }
   ],
   "source": [
    "enrich.compare2standard(LMNA_comb, 'LMNA_FB_comb.csv','Gene Symbol',FDR = 0.05)"
   ]
  },
  {
   "cell_type": "code",
   "execution_count": 75,
   "id": "13c317cc-231d-4a47-a09f-3da15b4d311e",
   "metadata": {},
   "outputs": [
    {
     "name": "stderr",
     "output_type": "stream",
     "text": [
      "100%|████████████████████████████████████████████████████████████████████████| 401/401 [00:00<00:00, 17746.60it/s]\n"
     ]
    },
    {
     "data": {
      "text/plain": [
       "array([list(['IGKV1D-16', 'IGKC', 'MASP1', 'ELANE', 'CFD', 'C3', 'C1R'])],\n",
       "      dtype=object)"
      ]
     },
     "execution_count": 75,
     "metadata": {},
     "output_type": "execute_result"
    }
   ],
   "source": [
    "temp = enrich.enrich_wrapper('LMNA_FB_comb.csv','Gene Symbol',method='standard',show_significant = False,fpath = '../test_data/processed/')\n",
    "temp.query('title == \"Regulation of Complement cascade - Reactome\"')['shared entities in gocam'].values"
   ]
  },
  {
   "cell_type": "code",
   "execution_count": 129,
   "id": "c225f2fc-9914-4da0-9999-a88e1ff71a18",
   "metadata": {},
   "outputs": [
    {
     "name": "stderr",
     "output_type": "stream",
     "text": [
      "100%|██████████████████████████████████████| 401/401 [00:00<00:00, 16790.78it/s]\n"
     ]
    },
    {
     "data": {
      "text/html": [
       "<div>\n",
       "<style scoped>\n",
       "    .dataframe tbody tr th:only-of-type {\n",
       "        vertical-align: middle;\n",
       "    }\n",
       "\n",
       "    .dataframe tbody tr th {\n",
       "        vertical-align: top;\n",
       "    }\n",
       "\n",
       "    .dataframe thead th {\n",
       "        text-align: right;\n",
       "    }\n",
       "</style>\n",
       "<table border=\"1\" class=\"dataframe\">\n",
       "  <thead>\n",
       "    <tr style=\"text-align: right;\">\n",
       "      <th></th>\n",
       "      <th>title</th>\n",
       "      <th>pval (uncorrected)</th>\n",
       "      <th># entities in list</th>\n",
       "      <th>#entities in model</th>\n",
       "      <th>shared entities in gocam</th>\n",
       "      <th>url</th>\n",
       "    </tr>\n",
       "  </thead>\n",
       "  <tbody>\n",
       "    <tr>\n",
       "      <th>143</th>\n",
       "      <td>Regulation of Complement cascade - Reactome</td>\n",
       "      <td>0.268844</td>\n",
       "      <td>7</td>\n",
       "      <td>117</td>\n",
       "      <td>[IGKV1D-16, IGKC, MASP1, ELANE, CFD, C3, C1R]</td>\n",
       "      <td>http://model.geneontology.org/R-HSA-977606</td>\n",
       "    </tr>\n",
       "  </tbody>\n",
       "</table>\n",
       "</div>"
      ],
      "text/plain": [
       "                                           title  pval (uncorrected)  \\\n",
       "143  Regulation of Complement cascade - Reactome            0.268844   \n",
       "\n",
       "     # entities in list  #entities in model  \\\n",
       "143                   7                 117   \n",
       "\n",
       "                          shared entities in gocam  \\\n",
       "143  [IGKV1D-16, IGKC, MASP1, ELANE, CFD, C3, C1R]   \n",
       "\n",
       "                                            url  \n",
       "143  http://model.geneontology.org/R-HSA-977606  "
      ]
     },
     "execution_count": 129,
     "metadata": {},
     "output_type": "execute_result"
    }
   ],
   "source": [
    "temp = enrich.enrich_wrapper('LMNA_FB_comb.csv','Gene Symbol',method='standard',show_significant = False,fpath = '../test_data/processed/')\n",
    "temp.query('title == \"Regulation of Complement cascade - Reactome\"')"
   ]
  },
  {
   "cell_type": "markdown",
   "id": "d26bf791-4b41-4e9a-a23f-d471e7236879",
   "metadata": {
    "jp-MarkdownHeadingCollapsed": true,
    "tags": []
   },
   "source": [
    "### RBM20"
   ]
  },
  {
   "cell_type": "code",
   "execution_count": 76,
   "id": "be2a17c8-7bd2-4f95-875b-1b2b17928afc",
   "metadata": {},
   "outputs": [
    {
     "name": "stderr",
     "output_type": "stream",
     "text": [
      "100%|████████████████████████████████████████████████████████████████████████| 283/283 [00:00<00:00, 18595.21it/s]\n"
     ]
    },
    {
     "name": "stdout",
     "output_type": "stream",
     "text": [
      "Analysis run on 193 entities from 163 out of 625 input genes\n"
     ]
    },
    {
     "data": {
      "text/html": [
       "<div>\n",
       "<style scoped>\n",
       "    .dataframe tbody tr th:only-of-type {\n",
       "        vertical-align: middle;\n",
       "    }\n",
       "\n",
       "    .dataframe tbody tr th {\n",
       "        vertical-align: top;\n",
       "    }\n",
       "\n",
       "    .dataframe thead th {\n",
       "        text-align: right;\n",
       "    }\n",
       "</style>\n",
       "<table border=\"1\" class=\"dataframe\">\n",
       "  <thead>\n",
       "    <tr style=\"text-align: right;\">\n",
       "      <th></th>\n",
       "      <th>title</th>\n",
       "      <th>pval (uncorrected)</th>\n",
       "      <th># entities in list</th>\n",
       "      <th>#entities in model</th>\n",
       "      <th>shared entities in gocam</th>\n",
       "      <th>url</th>\n",
       "    </tr>\n",
       "  </thead>\n",
       "  <tbody>\n",
       "    <tr>\n",
       "      <th>0</th>\n",
       "      <td>Formation of ATP by chemiosmotic coupling - Reactome</td>\n",
       "      <td>0.000015</td>\n",
       "      <td>15</td>\n",
       "      <td>88</td>\n",
       "      <td>[MT-ND4, MT-ND2, MT-ND1, MT-ATP6, MT-ND6, MT-CYB, MT-CO1, UQCRB, MT-CO2, MT-ND3, MT-CO3, MT-ND5,...</td>\n",
       "      <td>http://model.geneontology.org/R-HSA-163210</td>\n",
       "    </tr>\n",
       "    <tr>\n",
       "      <th>1</th>\n",
       "      <td>Peptide chain elongation - Reactome</td>\n",
       "      <td>0.000019</td>\n",
       "      <td>14</td>\n",
       "      <td>79</td>\n",
       "      <td>[RPS17, RPL13A, RPS18, RPS15A, RPL27A, RPLP2, RPL34, RPS20, RPLP0, RPS5, RPL7, RPL38, RPL27, sse...</td>\n",
       "      <td>http://model.geneontology.org/R-HSA-156902</td>\n",
       "    </tr>\n",
       "    <tr>\n",
       "      <th>2</th>\n",
       "      <td>The proton buffering model - Reactome</td>\n",
       "      <td>0.000022</td>\n",
       "      <td>13</td>\n",
       "      <td>70</td>\n",
       "      <td>[MT-ND4, MT-ND2, MT-ND1, MT-ND6, MT-CYB, MT-CO1, UQCRB, MT-CO2, MT-ND3, MT-CO3, MT-ND5, NDUFA1, ...</td>\n",
       "      <td>http://model.geneontology.org/R-HSA-167827</td>\n",
       "    </tr>\n",
       "    <tr>\n",
       "      <th>3</th>\n",
       "      <td>The fatty acid cycling model - Reactome</td>\n",
       "      <td>0.000022</td>\n",
       "      <td>13</td>\n",
       "      <td>70</td>\n",
       "      <td>[MT-ND4, MT-ND2, MT-ND1, MT-ND6, MT-CYB, MT-CO1, UQCRB, MT-CO2, MT-ND3, MT-CO3, MT-ND5, NDUFA1, ...</td>\n",
       "      <td>http://model.geneontology.org/R-HSA-167826</td>\n",
       "    </tr>\n",
       "    <tr>\n",
       "      <th>4</th>\n",
       "      <td>Eukaryotic Translation Elongation - Reactome</td>\n",
       "      <td>0.000034</td>\n",
       "      <td>14</td>\n",
       "      <td>83</td>\n",
       "      <td>[RPS17, RPL13A, RPS18, RPS15A, RPL27A, RPLP2, RPL34, RPS20, RPLP0, RPS5, RPL7, RPL38, RPL27, sse...</td>\n",
       "      <td>http://model.geneontology.org/R-HSA-156842</td>\n",
       "    </tr>\n",
       "    <tr>\n",
       "      <th>5</th>\n",
       "      <td>Regulation of Complement cascade - Reactome</td>\n",
       "      <td>0.000092</td>\n",
       "      <td>5</td>\n",
       "      <td>11</td>\n",
       "      <td>[C3, sset:C4 activators, sset:Activated thrombin, (ELANE), sset:C3 convertases, sset:CD46, CR1:C...</td>\n",
       "      <td>http://model.geneontology.org/R-HSA-977606</td>\n",
       "    </tr>\n",
       "  </tbody>\n",
       "</table>\n",
       "</div>"
      ],
      "text/plain": [
       "                                                  title  pval (uncorrected)  \\\n",
       "0  Formation of ATP by chemiosmotic coupling - Reactome            0.000015   \n",
       "1                   Peptide chain elongation - Reactome            0.000019   \n",
       "2                 The proton buffering model - Reactome            0.000022   \n",
       "3               The fatty acid cycling model - Reactome            0.000022   \n",
       "4          Eukaryotic Translation Elongation - Reactome            0.000034   \n",
       "5           Regulation of Complement cascade - Reactome            0.000092   \n",
       "\n",
       "   # entities in list  #entities in model  \\\n",
       "0                  15                  88   \n",
       "1                  14                  79   \n",
       "2                  13                  70   \n",
       "3                  13                  70   \n",
       "4                  14                  83   \n",
       "5                   5                  11   \n",
       "\n",
       "                                                                              shared entities in gocam  \\\n",
       "0  [MT-ND4, MT-ND2, MT-ND1, MT-ATP6, MT-ND6, MT-CYB, MT-CO1, UQCRB, MT-CO2, MT-ND3, MT-CO3, MT-ND5,...   \n",
       "1  [RPS17, RPL13A, RPS18, RPS15A, RPL27A, RPLP2, RPL34, RPS20, RPLP0, RPS5, RPL7, RPL38, RPL27, sse...   \n",
       "2  [MT-ND4, MT-ND2, MT-ND1, MT-ND6, MT-CYB, MT-CO1, UQCRB, MT-CO2, MT-ND3, MT-CO3, MT-ND5, NDUFA1, ...   \n",
       "3  [MT-ND4, MT-ND2, MT-ND1, MT-ND6, MT-CYB, MT-CO1, UQCRB, MT-CO2, MT-ND3, MT-CO3, MT-ND5, NDUFA1, ...   \n",
       "4  [RPS17, RPL13A, RPS18, RPS15A, RPL27A, RPLP2, RPL34, RPS20, RPLP0, RPS5, RPL7, RPL38, RPL27, sse...   \n",
       "5  [C3, sset:C4 activators, sset:Activated thrombin, (ELANE), sset:C3 convertases, sset:CD46, CR1:C...   \n",
       "\n",
       "                                          url  \n",
       "0  http://model.geneontology.org/R-HSA-163210  \n",
       "1  http://model.geneontology.org/R-HSA-156902  \n",
       "2  http://model.geneontology.org/R-HSA-167827  \n",
       "3  http://model.geneontology.org/R-HSA-167826  \n",
       "4  http://model.geneontology.org/R-HSA-156842  \n",
       "5  http://model.geneontology.org/R-HSA-977606  "
      ]
     },
     "execution_count": 76,
     "metadata": {},
     "output_type": "execute_result"
    }
   ],
   "source": [
    "RBM20_comb = enrich.enrich_wrapper('RBM20_FB_comb.csv','Gene Symbol',method='set',FDR = 0.05,fpath = '../test_data/processed/')\n",
    "RBM20_comb"
   ]
  },
  {
   "cell_type": "code",
   "execution_count": 77,
   "id": "74be96f0-622a-4750-9a42-8c62272c27d7",
   "metadata": {},
   "outputs": [
    {
     "name": "stderr",
     "output_type": "stream",
     "text": [
      "100%|████████████████████████████████████████████████████████████████████████| 283/283 [00:00<00:00, 16847.22it/s]\n",
      "100%|████████████████████████████████████████████████████████████████████████| 283/283 [00:00<00:00, 17257.25it/s]\n"
     ]
    },
    {
     "name": "stdout",
     "output_type": "stream",
     "text": [
      "Standard method yields 6 results, 1 of which are unique\n"
     ]
    },
    {
     "data": {
      "text/html": [
       "<div>\n",
       "<style scoped>\n",
       "    .dataframe tbody tr th:only-of-type {\n",
       "        vertical-align: middle;\n",
       "    }\n",
       "\n",
       "    .dataframe tbody tr th {\n",
       "        vertical-align: top;\n",
       "    }\n",
       "\n",
       "    .dataframe thead th {\n",
       "        text-align: right;\n",
       "    }\n",
       "</style>\n",
       "<table border=\"1\" class=\"dataframe\">\n",
       "  <thead>\n",
       "    <tr style=\"text-align: right;\">\n",
       "      <th></th>\n",
       "      <th>title</th>\n",
       "      <th>pval (uncorrected)</th>\n",
       "      <th># entities in list</th>\n",
       "      <th>#entities in model</th>\n",
       "      <th>shared entities in gocam</th>\n",
       "      <th>url</th>\n",
       "      <th>gene list size</th>\n",
       "    </tr>\n",
       "  </thead>\n",
       "  <tbody>\n",
       "    <tr>\n",
       "      <th>5</th>\n",
       "      <td>Regulation of Complement cascade - Reactome</td>\n",
       "      <td>0.000092</td>\n",
       "      <td>5</td>\n",
       "      <td>11</td>\n",
       "      <td>[C3, sset:C4 activators, sset:Activated thrombin, (ELANE), sset:C3 convertases, sset:CD46, CR1:C...</td>\n",
       "      <td>http://model.geneontology.org/R-HSA-977606</td>\n",
       "      <td>117</td>\n",
       "    </tr>\n",
       "  </tbody>\n",
       "</table>\n",
       "</div>"
      ],
      "text/plain": [
       "                                         title  pval (uncorrected)  \\\n",
       "5  Regulation of Complement cascade - Reactome            0.000092   \n",
       "\n",
       "   # entities in list  #entities in model  \\\n",
       "5                   5                  11   \n",
       "\n",
       "                                                                              shared entities in gocam  \\\n",
       "5  [C3, sset:C4 activators, sset:Activated thrombin, (ELANE), sset:C3 convertases, sset:CD46, CR1:C...   \n",
       "\n",
       "                                          url  gene list size  \n",
       "5  http://model.geneontology.org/R-HSA-977606             117  "
      ]
     },
     "execution_count": 77,
     "metadata": {},
     "output_type": "execute_result"
    }
   ],
   "source": [
    "enrich.compare2standard(RBM20_comb, 'RBM20_FB_comb.csv','Gene Symbol',FDR = 0.05)"
   ]
  },
  {
   "cell_type": "markdown",
   "id": "0a57c514-71ab-44a6-9511-a2ac4db9672e",
   "metadata": {
    "jp-MarkdownHeadingCollapsed": true,
    "tags": []
   },
   "source": [
    "### PKP2"
   ]
  },
  {
   "cell_type": "code",
   "execution_count": 78,
   "id": "af7599c9-3a1c-4ca5-8b85-48765aca9243",
   "metadata": {
    "tags": []
   },
   "outputs": [
    {
     "name": "stderr",
     "output_type": "stream",
     "text": [
      "100%|████████████████████████████████████████████████████████████████████████| 358/358 [00:00<00:00, 16487.08it/s]\n"
     ]
    },
    {
     "name": "stdout",
     "output_type": "stream",
     "text": [
      "Analysis run on 239 entities from 191 out of 725 input genes\n"
     ]
    },
    {
     "data": {
      "text/html": [
       "<div>\n",
       "<style scoped>\n",
       "    .dataframe tbody tr th:only-of-type {\n",
       "        vertical-align: middle;\n",
       "    }\n",
       "\n",
       "    .dataframe tbody tr th {\n",
       "        vertical-align: top;\n",
       "    }\n",
       "\n",
       "    .dataframe thead th {\n",
       "        text-align: right;\n",
       "    }\n",
       "</style>\n",
       "<table border=\"1\" class=\"dataframe\">\n",
       "  <thead>\n",
       "    <tr style=\"text-align: right;\">\n",
       "      <th></th>\n",
       "      <th>title</th>\n",
       "      <th>pval (uncorrected)</th>\n",
       "      <th># entities in list</th>\n",
       "      <th>#entities in model</th>\n",
       "      <th>shared entities in gocam</th>\n",
       "      <th>url</th>\n",
       "    </tr>\n",
       "  </thead>\n",
       "  <tbody>\n",
       "    <tr>\n",
       "      <th>0</th>\n",
       "      <td>Synthesis of PIPs at the plasma membrane - Reactome</td>\n",
       "      <td>3.019942e-10</td>\n",
       "      <td>12</td>\n",
       "      <td>21</td>\n",
       "      <td>[PTEN, sset:INPP4A/B, sset:PI3K-regulatory subunit, sset:PIK3(2), sset:Activator:PI3K, sset:SYNJ...</td>\n",
       "      <td>http://model.geneontology.org/R-HSA-1660499</td>\n",
       "    </tr>\n",
       "    <tr>\n",
       "      <th>1</th>\n",
       "      <td>PI3K/AKT Signaling - Reactome</td>\n",
       "      <td>1.091417e-05</td>\n",
       "      <td>7</td>\n",
       "      <td>15</td>\n",
       "      <td>[PIK3R1, PIK3CA, sset:PI3K-regulatory subunit, sset:Activator:PI3K, sset:PI3K alpha, beta, gamma...</td>\n",
       "      <td>http://model.geneontology.org/R-HSA-1257604</td>\n",
       "    </tr>\n",
       "    <tr>\n",
       "      <th>2</th>\n",
       "      <td>Negative regulation of the PI3K/AKT network - Reactome</td>\n",
       "      <td>1.420146e-05</td>\n",
       "      <td>5</td>\n",
       "      <td>7</td>\n",
       "      <td>[PTEN, sset:PI3K-regulatory subunit, sset:Activator:PI3K, sset:PIK3C(1), sset:PI3K-catalytic sub...</td>\n",
       "      <td>http://model.geneontology.org/R-HSA-199418</td>\n",
       "    </tr>\n",
       "    <tr>\n",
       "      <th>3</th>\n",
       "      <td>CD28 dependent PI3K/Akt signaling - Reactome</td>\n",
       "      <td>1.841759e-05</td>\n",
       "      <td>7</td>\n",
       "      <td>16</td>\n",
       "      <td>[PIK3R1, PIK3CA, sset:PI3K-regulatory subunit, sset:Active AKT, sset:Activator:PI3K, sset:PI3K a...</td>\n",
       "      <td>http://model.geneontology.org/R-HSA-389357</td>\n",
       "    </tr>\n",
       "    <tr>\n",
       "      <th>4</th>\n",
       "      <td>G alpha (i) signalling events - Reactome</td>\n",
       "      <td>3.601886e-05</td>\n",
       "      <td>5</td>\n",
       "      <td>8</td>\n",
       "      <td>[sset:Light-sensing opsins, sset:G alpha (i), sset:Adenylate cyclase, sset:Ligand:GPCR complexes...</td>\n",
       "      <td>http://model.geneontology.org/R-HSA-418594</td>\n",
       "    </tr>\n",
       "    <tr>\n",
       "      <th>5</th>\n",
       "      <td>PI5P, PP2A and IER3 Regulate PI3K/AKT Signaling - Reactome</td>\n",
       "      <td>5.267639e-05</td>\n",
       "      <td>6</td>\n",
       "      <td>13</td>\n",
       "      <td>[PTEN, sset:Activated SRC,LCK,EGFR,INSR, sset:Activator:PI3K, sset:SYNJ/MTM(1), sset:SYNJ/INPP5(...</td>\n",
       "      <td>http://model.geneontology.org/R-HSA-6811558</td>\n",
       "    </tr>\n",
       "    <tr>\n",
       "      <th>6</th>\n",
       "      <td>VEGFR2 mediated cell proliferation - Reactome</td>\n",
       "      <td>1.224210e-04</td>\n",
       "      <td>8</td>\n",
       "      <td>27</td>\n",
       "      <td>[PTEN, SPHK1, sset:PI3K-regulatory subunit, sset:G(q) alpha 11,14,15,Q, sset:G-protein alpha (q/...</td>\n",
       "      <td>http://model.geneontology.org/R-HSA-5218921</td>\n",
       "    </tr>\n",
       "    <tr>\n",
       "      <th>7</th>\n",
       "      <td>G beta:gamma signalling through PI3Kgamma - Reactome</td>\n",
       "      <td>1.466514e-04</td>\n",
       "      <td>5</td>\n",
       "      <td>10</td>\n",
       "      <td>[PIK3R1, PIK3CA, sset:PI3K-regulatory subunit, sset:PI3K alpha, beta, gamma, sset:PI3K-catalytic...</td>\n",
       "      <td>http://model.geneontology.org/R-HSA-392451</td>\n",
       "    </tr>\n",
       "  </tbody>\n",
       "</table>\n",
       "</div>"
      ],
      "text/plain": [
       "                                                        title  \\\n",
       "0         Synthesis of PIPs at the plasma membrane - Reactome   \n",
       "1                               PI3K/AKT Signaling - Reactome   \n",
       "2      Negative regulation of the PI3K/AKT network - Reactome   \n",
       "3                CD28 dependent PI3K/Akt signaling - Reactome   \n",
       "4                    G alpha (i) signalling events - Reactome   \n",
       "5  PI5P, PP2A and IER3 Regulate PI3K/AKT Signaling - Reactome   \n",
       "6               VEGFR2 mediated cell proliferation - Reactome   \n",
       "7        G beta:gamma signalling through PI3Kgamma - Reactome   \n",
       "\n",
       "   pval (uncorrected)  # entities in list  #entities in model  \\\n",
       "0        3.019942e-10                  12                  21   \n",
       "1        1.091417e-05                   7                  15   \n",
       "2        1.420146e-05                   5                   7   \n",
       "3        1.841759e-05                   7                  16   \n",
       "4        3.601886e-05                   5                   8   \n",
       "5        5.267639e-05                   6                  13   \n",
       "6        1.224210e-04                   8                  27   \n",
       "7        1.466514e-04                   5                  10   \n",
       "\n",
       "                                                                              shared entities in gocam  \\\n",
       "0  [PTEN, sset:INPP4A/B, sset:PI3K-regulatory subunit, sset:PIK3(2), sset:Activator:PI3K, sset:SYNJ...   \n",
       "1  [PIK3R1, PIK3CA, sset:PI3K-regulatory subunit, sset:Activator:PI3K, sset:PI3K alpha, beta, gamma...   \n",
       "2  [PTEN, sset:PI3K-regulatory subunit, sset:Activator:PI3K, sset:PIK3C(1), sset:PI3K-catalytic sub...   \n",
       "3  [PIK3R1, PIK3CA, sset:PI3K-regulatory subunit, sset:Active AKT, sset:Activator:PI3K, sset:PI3K a...   \n",
       "4  [sset:Light-sensing opsins, sset:G alpha (i), sset:Adenylate cyclase, sset:Ligand:GPCR complexes...   \n",
       "5  [PTEN, sset:Activated SRC,LCK,EGFR,INSR, sset:Activator:PI3K, sset:SYNJ/MTM(1), sset:SYNJ/INPP5(...   \n",
       "6  [PTEN, SPHK1, sset:PI3K-regulatory subunit, sset:G(q) alpha 11,14,15,Q, sset:G-protein alpha (q/...   \n",
       "7  [PIK3R1, PIK3CA, sset:PI3K-regulatory subunit, sset:PI3K alpha, beta, gamma, sset:PI3K-catalytic...   \n",
       "\n",
       "                                           url  \n",
       "0  http://model.geneontology.org/R-HSA-1660499  \n",
       "1  http://model.geneontology.org/R-HSA-1257604  \n",
       "2   http://model.geneontology.org/R-HSA-199418  \n",
       "3   http://model.geneontology.org/R-HSA-389357  \n",
       "4   http://model.geneontology.org/R-HSA-418594  \n",
       "5  http://model.geneontology.org/R-HSA-6811558  \n",
       "6  http://model.geneontology.org/R-HSA-5218921  \n",
       "7   http://model.geneontology.org/R-HSA-392451  "
      ]
     },
     "execution_count": 78,
     "metadata": {},
     "output_type": "execute_result"
    }
   ],
   "source": [
    "PKP2_comb = enrich.enrich_wrapper('PKP2_FB_comb.csv','Gene Symbol',method='set',FDR = 0.05,fpath = '../test_data/processed/')\n",
    "PKP2_comb"
   ]
  },
  {
   "cell_type": "code",
   "execution_count": 79,
   "id": "afcc28c5-8eab-4df1-b6f4-1d017f6b85e1",
   "metadata": {},
   "outputs": [
    {
     "name": "stderr",
     "output_type": "stream",
     "text": [
      "100%|████████████████████████████████████████████████████████████████████████| 358/358 [00:00<00:00, 18156.94it/s]\n",
      "100%|████████████████████████████████████████████████████████████████████████| 358/358 [00:00<00:00, 17138.37it/s]\n"
     ]
    },
    {
     "name": "stdout",
     "output_type": "stream",
     "text": [
      "Standard method yields 0 results, 0 of which are unique\n"
     ]
    },
    {
     "data": {
      "text/html": [
       "<div>\n",
       "<style scoped>\n",
       "    .dataframe tbody tr th:only-of-type {\n",
       "        vertical-align: middle;\n",
       "    }\n",
       "\n",
       "    .dataframe tbody tr th {\n",
       "        vertical-align: top;\n",
       "    }\n",
       "\n",
       "    .dataframe thead th {\n",
       "        text-align: right;\n",
       "    }\n",
       "</style>\n",
       "<table border=\"1\" class=\"dataframe\">\n",
       "  <thead>\n",
       "    <tr style=\"text-align: right;\">\n",
       "      <th></th>\n",
       "      <th>title</th>\n",
       "      <th>pval (uncorrected)</th>\n",
       "      <th># entities in list</th>\n",
       "      <th>#entities in model</th>\n",
       "      <th>shared entities in gocam</th>\n",
       "      <th>url</th>\n",
       "      <th>gene list size</th>\n",
       "    </tr>\n",
       "  </thead>\n",
       "  <tbody>\n",
       "    <tr>\n",
       "      <th>0</th>\n",
       "      <td>Synthesis of PIPs at the plasma membrane - Reactome</td>\n",
       "      <td>3.019942e-10</td>\n",
       "      <td>12</td>\n",
       "      <td>21</td>\n",
       "      <td>[PTEN, sset:INPP4A/B, sset:PI3K-regulatory subunit, sset:PIK3(2), sset:Activator:PI3K, sset:SYNJ...</td>\n",
       "      <td>http://model.geneontology.org/R-HSA-1660499</td>\n",
       "      <td>120</td>\n",
       "    </tr>\n",
       "    <tr>\n",
       "      <th>1</th>\n",
       "      <td>PI3K/AKT Signaling - Reactome</td>\n",
       "      <td>1.091417e-05</td>\n",
       "      <td>7</td>\n",
       "      <td>15</td>\n",
       "      <td>[PIK3R1, PIK3CA, sset:PI3K-regulatory subunit, sset:Activator:PI3K, sset:PI3K alpha, beta, gamma...</td>\n",
       "      <td>http://model.geneontology.org/R-HSA-1257604</td>\n",
       "      <td>114</td>\n",
       "    </tr>\n",
       "    <tr>\n",
       "      <th>2</th>\n",
       "      <td>Negative regulation of the PI3K/AKT network - Reactome</td>\n",
       "      <td>1.420146e-05</td>\n",
       "      <td>5</td>\n",
       "      <td>7</td>\n",
       "      <td>[PTEN, sset:PI3K-regulatory subunit, sset:Activator:PI3K, sset:PIK3C(1), sset:PI3K-catalytic sub...</td>\n",
       "      <td>http://model.geneontology.org/R-HSA-199418</td>\n",
       "      <td>95</td>\n",
       "    </tr>\n",
       "    <tr>\n",
       "      <th>3</th>\n",
       "      <td>CD28 dependent PI3K/Akt signaling - Reactome</td>\n",
       "      <td>1.841759e-05</td>\n",
       "      <td>7</td>\n",
       "      <td>16</td>\n",
       "      <td>[PIK3R1, PIK3CA, sset:PI3K-regulatory subunit, sset:Active AKT, sset:Activator:PI3K, sset:PI3K a...</td>\n",
       "      <td>http://model.geneontology.org/R-HSA-389357</td>\n",
       "      <td>115</td>\n",
       "    </tr>\n",
       "    <tr>\n",
       "      <th>4</th>\n",
       "      <td>G alpha (i) signalling events - Reactome</td>\n",
       "      <td>3.601886e-05</td>\n",
       "      <td>5</td>\n",
       "      <td>8</td>\n",
       "      <td>[sset:Light-sensing opsins, sset:G alpha (i), sset:Adenylate cyclase, sset:Ligand:GPCR complexes...</td>\n",
       "      <td>http://model.geneontology.org/R-HSA-418594</td>\n",
       "      <td>250</td>\n",
       "    </tr>\n",
       "    <tr>\n",
       "      <th>5</th>\n",
       "      <td>PI5P, PP2A and IER3 Regulate PI3K/AKT Signaling - Reactome</td>\n",
       "      <td>5.267639e-05</td>\n",
       "      <td>6</td>\n",
       "      <td>13</td>\n",
       "      <td>[PTEN, sset:Activated SRC,LCK,EGFR,INSR, sset:Activator:PI3K, sset:SYNJ/MTM(1), sset:SYNJ/INPP5(...</td>\n",
       "      <td>http://model.geneontology.org/R-HSA-6811558</td>\n",
       "      <td>115</td>\n",
       "    </tr>\n",
       "    <tr>\n",
       "      <th>6</th>\n",
       "      <td>VEGFR2 mediated cell proliferation - Reactome</td>\n",
       "      <td>1.224210e-04</td>\n",
       "      <td>8</td>\n",
       "      <td>27</td>\n",
       "      <td>[PTEN, SPHK1, sset:PI3K-regulatory subunit, sset:G(q) alpha 11,14,15,Q, sset:G-protein alpha (q/...</td>\n",
       "      <td>http://model.geneontology.org/R-HSA-5218921</td>\n",
       "      <td>55</td>\n",
       "    </tr>\n",
       "    <tr>\n",
       "      <th>7</th>\n",
       "      <td>G beta:gamma signalling through PI3Kgamma - Reactome</td>\n",
       "      <td>1.466514e-04</td>\n",
       "      <td>5</td>\n",
       "      <td>10</td>\n",
       "      <td>[PIK3R1, PIK3CA, sset:PI3K-regulatory subunit, sset:PI3K alpha, beta, gamma, sset:PI3K-catalytic...</td>\n",
       "      <td>http://model.geneontology.org/R-HSA-392451</td>\n",
       "      <td>26</td>\n",
       "    </tr>\n",
       "  </tbody>\n",
       "</table>\n",
       "</div>"
      ],
      "text/plain": [
       "                                                        title  \\\n",
       "0         Synthesis of PIPs at the plasma membrane - Reactome   \n",
       "1                               PI3K/AKT Signaling - Reactome   \n",
       "2      Negative regulation of the PI3K/AKT network - Reactome   \n",
       "3                CD28 dependent PI3K/Akt signaling - Reactome   \n",
       "4                    G alpha (i) signalling events - Reactome   \n",
       "5  PI5P, PP2A and IER3 Regulate PI3K/AKT Signaling - Reactome   \n",
       "6               VEGFR2 mediated cell proliferation - Reactome   \n",
       "7        G beta:gamma signalling through PI3Kgamma - Reactome   \n",
       "\n",
       "   pval (uncorrected)  # entities in list  #entities in model  \\\n",
       "0        3.019942e-10                  12                  21   \n",
       "1        1.091417e-05                   7                  15   \n",
       "2        1.420146e-05                   5                   7   \n",
       "3        1.841759e-05                   7                  16   \n",
       "4        3.601886e-05                   5                   8   \n",
       "5        5.267639e-05                   6                  13   \n",
       "6        1.224210e-04                   8                  27   \n",
       "7        1.466514e-04                   5                  10   \n",
       "\n",
       "                                                                              shared entities in gocam  \\\n",
       "0  [PTEN, sset:INPP4A/B, sset:PI3K-regulatory subunit, sset:PIK3(2), sset:Activator:PI3K, sset:SYNJ...   \n",
       "1  [PIK3R1, PIK3CA, sset:PI3K-regulatory subunit, sset:Activator:PI3K, sset:PI3K alpha, beta, gamma...   \n",
       "2  [PTEN, sset:PI3K-regulatory subunit, sset:Activator:PI3K, sset:PIK3C(1), sset:PI3K-catalytic sub...   \n",
       "3  [PIK3R1, PIK3CA, sset:PI3K-regulatory subunit, sset:Active AKT, sset:Activator:PI3K, sset:PI3K a...   \n",
       "4  [sset:Light-sensing opsins, sset:G alpha (i), sset:Adenylate cyclase, sset:Ligand:GPCR complexes...   \n",
       "5  [PTEN, sset:Activated SRC,LCK,EGFR,INSR, sset:Activator:PI3K, sset:SYNJ/MTM(1), sset:SYNJ/INPP5(...   \n",
       "6  [PTEN, SPHK1, sset:PI3K-regulatory subunit, sset:G(q) alpha 11,14,15,Q, sset:G-protein alpha (q/...   \n",
       "7  [PIK3R1, PIK3CA, sset:PI3K-regulatory subunit, sset:PI3K alpha, beta, gamma, sset:PI3K-catalytic...   \n",
       "\n",
       "                                           url  gene list size  \n",
       "0  http://model.geneontology.org/R-HSA-1660499             120  \n",
       "1  http://model.geneontology.org/R-HSA-1257604             114  \n",
       "2   http://model.geneontology.org/R-HSA-199418              95  \n",
       "3   http://model.geneontology.org/R-HSA-389357             115  \n",
       "4   http://model.geneontology.org/R-HSA-418594             250  \n",
       "5  http://model.geneontology.org/R-HSA-6811558             115  \n",
       "6  http://model.geneontology.org/R-HSA-5218921              55  \n",
       "7   http://model.geneontology.org/R-HSA-392451              26  "
      ]
     },
     "execution_count": 79,
     "metadata": {},
     "output_type": "execute_result"
    }
   ],
   "source": [
    "enrich.compare2standard(PKP2_comb, 'PKP2_FB_comb.csv','Gene Symbol',FDR = 0.05)"
   ]
  },
  {
   "cell_type": "code",
   "execution_count": 26,
   "id": "cce6efa6-2a9a-439b-8033-c9d2868c8168",
   "metadata": {},
   "outputs": [
    {
     "name": "stderr",
     "output_type": "stream",
     "text": [
      "100%|██████████████████████████████████████| 358/358 [00:00<00:00, 18066.93it/s]\n"
     ]
    },
    {
     "data": {
      "text/plain": [
       "array([list(['IRS2', 'PIK3R1', 'PIK3CA', 'PTEN', 'EGFR', 'HGF', 'PDGFRB', 'FGFR4', 'FGF7'])],\n",
       "      dtype=object)"
      ]
     },
     "execution_count": 26,
     "metadata": {},
     "output_type": "execute_result"
    }
   ],
   "source": [
    "temp = enrich.enrich_wrapper('PKP2_FB_comb.csv','Gene Symbol',method='standard',show_significant = False,fpath = '../test_data/processed/')\n",
    "temp.query('title == \"Negative regulation of the PI3K/AKT network - Reactome\"')['shared entities in gocam'].values"
   ]
  },
  {
   "cell_type": "code",
   "execution_count": 28,
   "id": "71bb09b6-a8a8-4589-b9ba-b2352b7ab4c2",
   "metadata": {},
   "outputs": [
    {
     "name": "stderr",
     "output_type": "stream",
     "text": [
      "100%|██████████████████████████████████████| 358/358 [00:00<00:00, 16796.55it/s]\n"
     ]
    },
    {
     "data": {
      "text/plain": [
       "array([list(['IRS2', 'PIK3R1', 'PIK3CA', 'PIP4K2A', 'EGFR', 'HGF', 'PDGFRB', 'FGFR4', 'FGF7'])],\n",
       "      dtype=object)"
      ]
     },
     "execution_count": 28,
     "metadata": {},
     "output_type": "execute_result"
    }
   ],
   "source": [
    "temp = enrich.enrich_wrapper('PKP2_FB_comb.csv','Gene Symbol',method='standard',show_significant = False,fpath = '../test_data/processed/')\n",
    "temp.query('title == \"PI3K/AKT Signaling - Reactome\"')['shared entities in gocam'].values"
   ]
  },
  {
   "cell_type": "code",
   "execution_count": 29,
   "id": "eefeb27a-1adf-4fcf-8011-597a5d9be2a3",
   "metadata": {},
   "outputs": [
    {
     "name": "stderr",
     "output_type": "stream",
     "text": [
      "100%|██████████████████████████████████████| 358/358 [00:00<00:00, 17249.80it/s]\n"
     ]
    },
    {
     "data": {
      "text/plain": [
       "array([list(['PIK3R1', 'PIK3CA', 'PTEN', 'SPHK1', 'GNA14', 'ORAI2', 'PLCD3'])],\n",
       "      dtype=object)"
      ]
     },
     "execution_count": 29,
     "metadata": {},
     "output_type": "execute_result"
    }
   ],
   "source": [
    "temp = enrich.enrich_wrapper('PKP2_FB_comb.csv','Gene Symbol',method='standard',show_significant = False,fpath = '../test_data/processed/')\n",
    "temp.query('title == \"VEGFR2 mediated cell proliferation - Reactome\"')['shared entities in gocam'].values"
   ]
  },
  {
   "cell_type": "markdown",
   "id": "a90b030e-2667-4793-8ab4-cfdc11c6ceb4",
   "metadata": {
    "jp-MarkdownHeadingCollapsed": true,
    "tags": []
   },
   "source": [
    "### PVneg"
   ]
  },
  {
   "cell_type": "code",
   "execution_count": 81,
   "id": "399f5b18-bdc5-4c3a-81a5-052590296057",
   "metadata": {},
   "outputs": [
    {
     "name": "stderr",
     "output_type": "stream",
     "text": [
      "100%|████████████████████████████████████████████████████████████████████████| 452/452 [00:00<00:00, 17692.86it/s]\n"
     ]
    },
    {
     "name": "stdout",
     "output_type": "stream",
     "text": [
      "Analysis run on 396 entities from 338 out of 1135 input genes\n"
     ]
    },
    {
     "data": {
      "text/html": [
       "<div>\n",
       "<style scoped>\n",
       "    .dataframe tbody tr th:only-of-type {\n",
       "        vertical-align: middle;\n",
       "    }\n",
       "\n",
       "    .dataframe tbody tr th {\n",
       "        vertical-align: top;\n",
       "    }\n",
       "\n",
       "    .dataframe thead th {\n",
       "        text-align: right;\n",
       "    }\n",
       "</style>\n",
       "<table border=\"1\" class=\"dataframe\">\n",
       "  <thead>\n",
       "    <tr style=\"text-align: right;\">\n",
       "      <th></th>\n",
       "      <th>title</th>\n",
       "      <th>pval (uncorrected)</th>\n",
       "      <th># entities in list</th>\n",
       "      <th>#entities in model</th>\n",
       "      <th>shared entities in gocam</th>\n",
       "      <th>url</th>\n",
       "    </tr>\n",
       "  </thead>\n",
       "  <tbody>\n",
       "    <tr>\n",
       "      <th>0</th>\n",
       "      <td>Peptide chain elongation - Reactome</td>\n",
       "      <td>9.719755e-32</td>\n",
       "      <td>50</td>\n",
       "      <td>79</td>\n",
       "      <td>[RPS17, RPL13A, RPLP0, RPS18, RPLP2, RPL27A, RPS15A, RPS2, RPL7, RPL35, RPLP1, RPS20, RPS28, RPS...</td>\n",
       "      <td>http://model.geneontology.org/R-HSA-156902</td>\n",
       "    </tr>\n",
       "    <tr>\n",
       "      <th>1</th>\n",
       "      <td>Eukaryotic Translation Elongation - Reactome</td>\n",
       "      <td>1.905043e-31</td>\n",
       "      <td>51</td>\n",
       "      <td>83</td>\n",
       "      <td>[RPS17, RPL13A, RPLP0, RPS18, RPLP2, RPL27A, RPS15A, RPS2, RPL7, RPL35, RPLP1, RPS20, RPS28, RPS...</td>\n",
       "      <td>http://model.geneontology.org/R-HSA-156842</td>\n",
       "    </tr>\n",
       "    <tr>\n",
       "      <th>2</th>\n",
       "      <td>Formation of ATP by chemiosmotic coupling - Reactome</td>\n",
       "      <td>1.893885e-09</td>\n",
       "      <td>29</td>\n",
       "      <td>88</td>\n",
       "      <td>[MT-CO1, MT-ND4, MT-ND2, ATP5MC1, CYC1, COX5B, MT-CYB, UQCRB, MT-ATP6, ATP5MC3, COX7C, NDUFA1, M...</td>\n",
       "      <td>http://model.geneontology.org/R-HSA-163210</td>\n",
       "    </tr>\n",
       "    <tr>\n",
       "      <th>3</th>\n",
       "      <td>Cytoprotection by HMOX1 - Reactome</td>\n",
       "      <td>1.492498e-08</td>\n",
       "      <td>15</td>\n",
       "      <td>29</td>\n",
       "      <td>[MT-CO1, CYC1, COX5B, MT-CYB, UQCRB, COX7C, MT-CO2, MT-CO3, UQCRFS1, NDUFA4, UQCRQ, UQCR10, COX4...</td>\n",
       "      <td>http://model.geneontology.org/R-HSA-9707564</td>\n",
       "    </tr>\n",
       "    <tr>\n",
       "      <th>4</th>\n",
       "      <td>The proton buffering model - Reactome</td>\n",
       "      <td>1.016285e-07</td>\n",
       "      <td>23</td>\n",
       "      <td>70</td>\n",
       "      <td>[MT-CO1, MT-ND4, MT-ND2, CYC1, COX5B, MT-CYB, UQCRB, COX7C, NDUFA1, MT-CO2, MT-CO3, MT-ND1, UQCR...</td>\n",
       "      <td>http://model.geneontology.org/R-HSA-167827</td>\n",
       "    </tr>\n",
       "    <tr>\n",
       "      <th>5</th>\n",
       "      <td>The fatty acid cycling model - Reactome</td>\n",
       "      <td>1.016285e-07</td>\n",
       "      <td>23</td>\n",
       "      <td>70</td>\n",
       "      <td>[MT-CO1, MT-ND4, MT-ND2, CYC1, COX5B, MT-CYB, UQCRB, COX7C, NDUFA1, MT-CO2, MT-CO3, MT-ND1, UQCR...</td>\n",
       "      <td>http://model.geneontology.org/R-HSA-167826</td>\n",
       "    </tr>\n",
       "    <tr>\n",
       "      <th>6</th>\n",
       "      <td>TP53 Regulates Metabolic Genes - Reactome</td>\n",
       "      <td>1.262288e-07</td>\n",
       "      <td>18</td>\n",
       "      <td>46</td>\n",
       "      <td>[G6PD, MT-CO1, CYC1, COX5B, MT-CYB, UQCRB, COX7C, PRDX1, MT-CO2, MT-CO3, UQCRFS1, NDUFA4, UQCRQ,...</td>\n",
       "      <td>http://model.geneontology.org/R-HSA-5628897</td>\n",
       "    </tr>\n",
       "    <tr>\n",
       "      <th>7</th>\n",
       "      <td>Respiratory electron transport - Reactome</td>\n",
       "      <td>1.332884e-06</td>\n",
       "      <td>25</td>\n",
       "      <td>91</td>\n",
       "      <td>[MT-CO1, MT-ND4, MT-ND2, CYC1, COX5B, MT-CYB, UQCRB, COX7C, NDUFA1, MT-CO2, MT-CO3, MT-ND1, UQCR...</td>\n",
       "      <td>http://model.geneontology.org/R-HSA-611105</td>\n",
       "    </tr>\n",
       "    <tr>\n",
       "      <th>8</th>\n",
       "      <td>Regulation of Complement cascade - Reactome</td>\n",
       "      <td>2.112929e-05</td>\n",
       "      <td>7</td>\n",
       "      <td>11</td>\n",
       "      <td>[C3, C1R, sset:C4 activators, sset:Complement factor D, sset:Activated thrombin, (ELANE), sset:C...</td>\n",
       "      <td>http://model.geneontology.org/R-HSA-977606</td>\n",
       "    </tr>\n",
       "  </tbody>\n",
       "</table>\n",
       "</div>"
      ],
      "text/plain": [
       "                                                  title  pval (uncorrected)  \\\n",
       "0                   Peptide chain elongation - Reactome        9.719755e-32   \n",
       "1          Eukaryotic Translation Elongation - Reactome        1.905043e-31   \n",
       "2  Formation of ATP by chemiosmotic coupling - Reactome        1.893885e-09   \n",
       "3                    Cytoprotection by HMOX1 - Reactome        1.492498e-08   \n",
       "4                 The proton buffering model - Reactome        1.016285e-07   \n",
       "5               The fatty acid cycling model - Reactome        1.016285e-07   \n",
       "6             TP53 Regulates Metabolic Genes - Reactome        1.262288e-07   \n",
       "7             Respiratory electron transport - Reactome        1.332884e-06   \n",
       "8           Regulation of Complement cascade - Reactome        2.112929e-05   \n",
       "\n",
       "   # entities in list  #entities in model  \\\n",
       "0                  50                  79   \n",
       "1                  51                  83   \n",
       "2                  29                  88   \n",
       "3                  15                  29   \n",
       "4                  23                  70   \n",
       "5                  23                  70   \n",
       "6                  18                  46   \n",
       "7                  25                  91   \n",
       "8                   7                  11   \n",
       "\n",
       "                                                                              shared entities in gocam  \\\n",
       "0  [RPS17, RPL13A, RPLP0, RPS18, RPLP2, RPL27A, RPS15A, RPS2, RPL7, RPL35, RPLP1, RPS20, RPS28, RPS...   \n",
       "1  [RPS17, RPL13A, RPLP0, RPS18, RPLP2, RPL27A, RPS15A, RPS2, RPL7, RPL35, RPLP1, RPS20, RPS28, RPS...   \n",
       "2  [MT-CO1, MT-ND4, MT-ND2, ATP5MC1, CYC1, COX5B, MT-CYB, UQCRB, MT-ATP6, ATP5MC3, COX7C, NDUFA1, M...   \n",
       "3  [MT-CO1, CYC1, COX5B, MT-CYB, UQCRB, COX7C, MT-CO2, MT-CO3, UQCRFS1, NDUFA4, UQCRQ, UQCR10, COX4...   \n",
       "4  [MT-CO1, MT-ND4, MT-ND2, CYC1, COX5B, MT-CYB, UQCRB, COX7C, NDUFA1, MT-CO2, MT-CO3, MT-ND1, UQCR...   \n",
       "5  [MT-CO1, MT-ND4, MT-ND2, CYC1, COX5B, MT-CYB, UQCRB, COX7C, NDUFA1, MT-CO2, MT-CO3, MT-ND1, UQCR...   \n",
       "6  [G6PD, MT-CO1, CYC1, COX5B, MT-CYB, UQCRB, COX7C, PRDX1, MT-CO2, MT-CO3, UQCRFS1, NDUFA4, UQCRQ,...   \n",
       "7  [MT-CO1, MT-ND4, MT-ND2, CYC1, COX5B, MT-CYB, UQCRB, COX7C, NDUFA1, MT-CO2, MT-CO3, MT-ND1, UQCR...   \n",
       "8  [C3, C1R, sset:C4 activators, sset:Complement factor D, sset:Activated thrombin, (ELANE), sset:C...   \n",
       "\n",
       "                                           url  \n",
       "0   http://model.geneontology.org/R-HSA-156902  \n",
       "1   http://model.geneontology.org/R-HSA-156842  \n",
       "2   http://model.geneontology.org/R-HSA-163210  \n",
       "3  http://model.geneontology.org/R-HSA-9707564  \n",
       "4   http://model.geneontology.org/R-HSA-167827  \n",
       "5   http://model.geneontology.org/R-HSA-167826  \n",
       "6  http://model.geneontology.org/R-HSA-5628897  \n",
       "7   http://model.geneontology.org/R-HSA-611105  \n",
       "8   http://model.geneontology.org/R-HSA-977606  "
      ]
     },
     "execution_count": 81,
     "metadata": {},
     "output_type": "execute_result"
    }
   ],
   "source": [
    "PVneg_comb = enrich.enrich_wrapper('PVneg_FB_comb.csv','Gene Symbol',method='set',FDR = 0.05,fpath = '../test_data/processed/')\n",
    "PVneg_comb"
   ]
  },
  {
   "cell_type": "code",
   "execution_count": 82,
   "id": "1b427ff7-755c-490d-bf65-d3c4b659fb15",
   "metadata": {},
   "outputs": [
    {
     "data": {
      "text/plain": [
       "['C3',\n",
       " 'C1R',\n",
       " 'sset:C4 activators',\n",
       " 'sset:Complement factor D',\n",
       " 'sset:Activated thrombin, (ELANE)',\n",
       " 'sset:C3 convertases',\n",
       " 'sset:CD46, CR1:C4b:C3b complexes']"
      ]
     },
     "execution_count": 82,
     "metadata": {},
     "output_type": "execute_result"
    }
   ],
   "source": [
    "PVneg_comb.loc[8]['shared entities in gocam']"
   ]
  },
  {
   "cell_type": "code",
   "execution_count": 83,
   "id": "301dba94-ab44-4609-9d1c-d2c7e297bdb9",
   "metadata": {},
   "outputs": [
    {
     "name": "stderr",
     "output_type": "stream",
     "text": [
      "100%|████████████████████████████████████████████████████████████████████████| 452/452 [00:00<00:00, 17158.81it/s]\n"
     ]
    },
    {
     "data": {
      "text/plain": [
       "445    [ELANE, CFD, C3, C1R]\n",
       "Name: shared entities in gocam, dtype: object"
      ]
     },
     "execution_count": 83,
     "metadata": {},
     "output_type": "execute_result"
    }
   ],
   "source": [
    "st = enrich.enrich_wrapper('PVneg_FB_comb.csv','Gene Symbol',method='standard',show_significant = False ,fpath = '../test_data/processed/')\n",
    "st.query('title == \"Regulation of Complement cascade - Reactome\"')['shared entities in gocam']"
   ]
  },
  {
   "cell_type": "code",
   "execution_count": 84,
   "id": "2f11ab41-cff3-470c-8160-c7ae3f8d1c86",
   "metadata": {},
   "outputs": [
    {
     "name": "stderr",
     "output_type": "stream",
     "text": [
      "100%|████████████████████████████████████████████████████████████████████████| 452/452 [00:00<00:00, 16756.75it/s]\n",
      "100%|████████████████████████████████████████████████████████████████████████| 452/452 [00:00<00:00, 17283.64it/s]\n"
     ]
    },
    {
     "name": "stdout",
     "output_type": "stream",
     "text": [
      "Standard method yields 8 results, 0 of which are unique\n"
     ]
    },
    {
     "data": {
      "text/html": [
       "<div>\n",
       "<style scoped>\n",
       "    .dataframe tbody tr th:only-of-type {\n",
       "        vertical-align: middle;\n",
       "    }\n",
       "\n",
       "    .dataframe tbody tr th {\n",
       "        vertical-align: top;\n",
       "    }\n",
       "\n",
       "    .dataframe thead th {\n",
       "        text-align: right;\n",
       "    }\n",
       "</style>\n",
       "<table border=\"1\" class=\"dataframe\">\n",
       "  <thead>\n",
       "    <tr style=\"text-align: right;\">\n",
       "      <th></th>\n",
       "      <th>title</th>\n",
       "      <th>pval (uncorrected)</th>\n",
       "      <th># entities in list</th>\n",
       "      <th>#entities in model</th>\n",
       "      <th>shared entities in gocam</th>\n",
       "      <th>url</th>\n",
       "      <th>gene list size</th>\n",
       "    </tr>\n",
       "  </thead>\n",
       "  <tbody>\n",
       "    <tr>\n",
       "      <th>8</th>\n",
       "      <td>Regulation of Complement cascade - Reactome</td>\n",
       "      <td>0.000021</td>\n",
       "      <td>7</td>\n",
       "      <td>11</td>\n",
       "      <td>[C3, C1R, sset:C4 activators, sset:Complement factor D, sset:Activated thrombin, (ELANE), sset:C...</td>\n",
       "      <td>http://model.geneontology.org/R-HSA-977606</td>\n",
       "      <td>117</td>\n",
       "    </tr>\n",
       "  </tbody>\n",
       "</table>\n",
       "</div>"
      ],
      "text/plain": [
       "                                         title  pval (uncorrected)  \\\n",
       "8  Regulation of Complement cascade - Reactome            0.000021   \n",
       "\n",
       "   # entities in list  #entities in model  \\\n",
       "8                   7                  11   \n",
       "\n",
       "                                                                              shared entities in gocam  \\\n",
       "8  [C3, C1R, sset:C4 activators, sset:Complement factor D, sset:Activated thrombin, (ELANE), sset:C...   \n",
       "\n",
       "                                          url  gene list size  \n",
       "8  http://model.geneontology.org/R-HSA-977606             117  "
      ]
     },
     "execution_count": 84,
     "metadata": {},
     "output_type": "execute_result"
    }
   ],
   "source": [
    "enrich.compare2standard(PVneg_comb, 'PVneg_FB_comb.csv','Gene Symbol',FDR = 0.05)"
   ]
  },
  {
   "cell_type": "markdown",
   "id": "e69586b5-b669-46d7-a335-23639aeb6b70",
   "metadata": {
    "tags": []
   },
   "source": [
    "## SMC2 DEGs"
   ]
  },
  {
   "cell_type": "markdown",
   "id": "73e62b62-8082-43d0-8379-849118c6b038",
   "metadata": {
    "tags": []
   },
   "source": [
    "### Preprocess"
   ]
  },
  {
   "cell_type": "code",
   "execution_count": 18,
   "id": "da9bcd84-3bce-47b7-86d2-908a24ac872f",
   "metadata": {},
   "outputs": [
    {
     "name": "stdout",
     "output_type": "stream",
     "text": [
      "LMNA up : 311 genes\n",
      "LMNA down : 243 genes\n",
      "PKP2 up : 189 genes\n",
      "PKP2 down : 117 genes\n",
      "RBM20 up : 191 genes\n",
      "RBM20 down : 141 genes\n",
      "TTN up : 65 genes\n",
      "TTN down : 67 genes\n",
      "PVneg up : 66 genes\n",
      "PVneg down : 49 genes\n"
     ]
    }
   ],
   "source": [
    "xls_down = pd.ExcelFile('../test_data/unprocessed/science.abo1984_tables_s1_to_s71/S27_LV_MC_States/S27_LV_SMC2/LV_SMC2_Upregulated_genes_Controls.xlsx')\n",
    "xls_up = pd.ExcelFile('../test_data/unprocessed/science.abo1984_tables_s1_to_s71/S27_LV_MC_States/S27_LV_SMC2/LV_SMC2_Upregulated_genes_Disease_Genotype.xlsx')\n",
    "\n",
    "for genotype in ['LMNA','PKP2','RBM20','TTN','PVneg']:\n",
    "    \n",
    "    df_up = pd.read_excel(xls_up,f'{genotype}_control')\n",
    "    df_down = pd.read_excel(xls_down,f'control_{genotype}')\n",
    "    \n",
    "    \n",
    "    for sign, df in {'up':df_up,'down':df_down}.items():\n",
    "        df = df.query(f'logFC > {logFC} and PValue < {PV}')\n",
    "        df['Gene'].to_csv(f'../test_data/processed/{genotype}_SMC2_{sign}.csv', header = False, index= False)\n",
    "        print(genotype,sign,':',len(df), 'genes')"
   ]
  },
  {
   "cell_type": "markdown",
   "id": "30233f54-1b6e-4318-b387-a80de72415f8",
   "metadata": {
    "jp-MarkdownHeadingCollapsed": true,
    "tags": []
   },
   "source": [
    "### LMNA"
   ]
  },
  {
   "cell_type": "code",
   "execution_count": 40,
   "id": "b97395fe-10ae-4a24-8583-15050a3526e8",
   "metadata": {},
   "outputs": [],
   "source": [
    "cell = 'SMC2'\n",
    "genotype = 'LMNA'"
   ]
  },
  {
   "cell_type": "code",
   "execution_count": 41,
   "id": "fa4e5670-4673-4f2f-a27b-3e08b0ee006d",
   "metadata": {},
   "outputs": [
    {
     "name": "stderr",
     "output_type": "stream",
     "text": [
      "100%|██████████████████████████████████████| 189/189 [00:00<00:00, 18110.70it/s]\n"
     ]
    },
    {
     "name": "stdout",
     "output_type": "stream",
     "text": [
      "Analysis run on 108 entities from 63 out of 311 input genes\n"
     ]
    },
    {
     "name": "stderr",
     "output_type": "stream",
     "text": [
      "100%|██████████████████████████████████████| 189/189 [00:00<00:00, 16893.05it/s]\n",
      "100%|██████████████████████████████████████| 189/189 [00:00<00:00, 17059.19it/s]\n"
     ]
    },
    {
     "name": "stdout",
     "output_type": "stream",
     "text": [
      "Standard method yields 1 results, 1 of which are unique\n"
     ]
    },
    {
     "data": {
      "text/html": [
       "<div>\n",
       "<style scoped>\n",
       "    .dataframe tbody tr th:only-of-type {\n",
       "        vertical-align: middle;\n",
       "    }\n",
       "\n",
       "    .dataframe tbody tr th {\n",
       "        vertical-align: top;\n",
       "    }\n",
       "\n",
       "    .dataframe thead th {\n",
       "        text-align: right;\n",
       "    }\n",
       "</style>\n",
       "<table border=\"1\" class=\"dataframe\">\n",
       "  <thead>\n",
       "    <tr style=\"text-align: right;\">\n",
       "      <th></th>\n",
       "      <th>title</th>\n",
       "      <th>pval (uncorrected)</th>\n",
       "      <th># entities in list</th>\n",
       "      <th>#entities in model</th>\n",
       "      <th>shared entities in gocam</th>\n",
       "      <th>url</th>\n",
       "      <th>gene list size</th>\n",
       "    </tr>\n",
       "  </thead>\n",
       "  <tbody>\n",
       "    <tr>\n",
       "      <th>0</th>\n",
       "      <td>Synthesis of PIPs at the plasma membrane - Reactome</td>\n",
       "      <td>7.543267e-07</td>\n",
       "      <td>7</td>\n",
       "      <td>21</td>\n",
       "      <td>[sset:SYNJ/MTM(1), sset:PI3K-regulatory subunit, sset:SYNJs,OCRL, sset:Activator:PI3K, sset:SYNJ...</td>\n",
       "      <td>http://model.geneontology.org/R-HSA-1660499</td>\n",
       "      <td>120</td>\n",
       "    </tr>\n",
       "  </tbody>\n",
       "</table>\n",
       "</div>"
      ],
      "text/plain": [
       "                                                 title  pval (uncorrected)  \\\n",
       "0  Synthesis of PIPs at the plasma membrane - Reactome        7.543267e-07   \n",
       "\n",
       "   # entities in list  #entities in model  \\\n",
       "0                   7                  21   \n",
       "\n",
       "                                                                              shared entities in gocam  \\\n",
       "0  [sset:SYNJ/MTM(1), sset:PI3K-regulatory subunit, sset:SYNJs,OCRL, sset:Activator:PI3K, sset:SYNJ...   \n",
       "\n",
       "                                           url  gene list size  \n",
       "0  http://model.geneontology.org/R-HSA-1660499             120  "
      ]
     },
     "execution_count": 41,
     "metadata": {},
     "output_type": "execute_result"
    }
   ],
   "source": [
    "up = enrich.enrich_wrapper(f'{genotype}_{cell}_up.csv','Gene Symbol',method='set',FDR = 0.05,fpath = '../test_data/processed/')\n",
    "enrich.compare2standard(up, f'{genotype}_{cell}_up.csv','Gene Symbol',FDR = 0.05)"
   ]
  },
  {
   "cell_type": "code",
   "execution_count": 43,
   "id": "083a2623-e59e-437e-bd91-631f845afea3",
   "metadata": {},
   "outputs": [
    {
     "name": "stderr",
     "output_type": "stream",
     "text": [
      "100%|██████████████████████████████████████| 221/221 [00:00<00:00, 18159.29it/s]\n"
     ]
    },
    {
     "name": "stdout",
     "output_type": "stream",
     "text": [
      "Analysis run on 100 entities from 66 out of 243 input genes\n"
     ]
    },
    {
     "name": "stderr",
     "output_type": "stream",
     "text": [
      "100%|██████████████████████████████████████| 221/221 [00:00<00:00, 17875.98it/s]\n",
      "100%|██████████████████████████████████████| 221/221 [00:00<00:00, 17918.14it/s]\n"
     ]
    },
    {
     "name": "stdout",
     "output_type": "stream",
     "text": [
      "Standard method yields 1 results, 1 of which are unique\n"
     ]
    },
    {
     "data": {
      "text/html": [
       "<div>\n",
       "<style scoped>\n",
       "    .dataframe tbody tr th:only-of-type {\n",
       "        vertical-align: middle;\n",
       "    }\n",
       "\n",
       "    .dataframe tbody tr th {\n",
       "        vertical-align: top;\n",
       "    }\n",
       "\n",
       "    .dataframe thead th {\n",
       "        text-align: right;\n",
       "    }\n",
       "</style>\n",
       "<table border=\"1\" class=\"dataframe\">\n",
       "  <thead>\n",
       "    <tr style=\"text-align: right;\">\n",
       "      <th></th>\n",
       "    </tr>\n",
       "  </thead>\n",
       "  <tbody>\n",
       "  </tbody>\n",
       "</table>\n",
       "</div>"
      ],
      "text/plain": [
       "Empty DataFrame\n",
       "Columns: []\n",
       "Index: []"
      ]
     },
     "execution_count": 43,
     "metadata": {},
     "output_type": "execute_result"
    }
   ],
   "source": [
    "down = enrich.enrich_wrapper(f'{genotype}_{cell}_down.csv','Gene Symbol',method='set',FDR = 0.05,fpath = '../test_data/processed/')\n",
    "enrich.compare2standard(down, f'{genotype}_{cell}_down.csv','Gene Symbol',FDR = 0.05)"
   ]
  },
  {
   "cell_type": "markdown",
   "id": "d27b371f-dc46-4cc0-bc78-88cb6eb07686",
   "metadata": {
    "jp-MarkdownHeadingCollapsed": true,
    "tags": []
   },
   "source": [
    "### PKP2"
   ]
  },
  {
   "cell_type": "code",
   "execution_count": 44,
   "id": "7d0dbd80-e5a9-4036-a4f0-ada1615c0e93",
   "metadata": {},
   "outputs": [],
   "source": [
    "cell = 'SMC2'\n",
    "genotype = 'PKP2'"
   ]
  },
  {
   "cell_type": "code",
   "execution_count": 45,
   "id": "7cad3d12-1b61-4a52-bccf-1496c9523516",
   "metadata": {},
   "outputs": [
    {
     "name": "stderr",
     "output_type": "stream",
     "text": [
      "100%|██████████████████████████████████████| 131/131 [00:00<00:00, 17972.45it/s]\n"
     ]
    },
    {
     "name": "stdout",
     "output_type": "stream",
     "text": [
      "Analysis run on 66 entities from 42 out of 189 input genes\n"
     ]
    },
    {
     "name": "stderr",
     "output_type": "stream",
     "text": [
      "100%|██████████████████████████████████████| 131/131 [00:00<00:00, 17657.67it/s]\n",
      "100%|██████████████████████████████████████| 131/131 [00:00<00:00, 17509.12it/s]\n"
     ]
    },
    {
     "name": "stdout",
     "output_type": "stream",
     "text": [
      "Standard method yields 0 results, 0 of which are unique\n"
     ]
    },
    {
     "data": {
      "text/html": [
       "<div>\n",
       "<style scoped>\n",
       "    .dataframe tbody tr th:only-of-type {\n",
       "        vertical-align: middle;\n",
       "    }\n",
       "\n",
       "    .dataframe tbody tr th {\n",
       "        vertical-align: top;\n",
       "    }\n",
       "\n",
       "    .dataframe thead th {\n",
       "        text-align: right;\n",
       "    }\n",
       "</style>\n",
       "<table border=\"1\" class=\"dataframe\">\n",
       "  <thead>\n",
       "    <tr style=\"text-align: right;\">\n",
       "      <th></th>\n",
       "      <th>title</th>\n",
       "      <th>pval (uncorrected)</th>\n",
       "      <th># entities in list</th>\n",
       "      <th>#entities in model</th>\n",
       "      <th>shared entities in gocam</th>\n",
       "      <th>url</th>\n",
       "      <th>gene list size</th>\n",
       "    </tr>\n",
       "  </thead>\n",
       "  <tbody>\n",
       "    <tr>\n",
       "      <th>0</th>\n",
       "      <td>PI3K events in ERBB2 signaling - Reactome</td>\n",
       "      <td>0.000044</td>\n",
       "      <td>4</td>\n",
       "      <td>13</td>\n",
       "      <td>[PIK3R1, EGFR, sset:p-Y877-ERBB2 heterodimers, sset:ERBB2 heterodimers]</td>\n",
       "      <td>http://model.geneontology.org/R-HSA-1963642</td>\n",
       "      <td>19</td>\n",
       "    </tr>\n",
       "    <tr>\n",
       "      <th>1</th>\n",
       "      <td>PI3K/AKT Signaling - Reactome</td>\n",
       "      <td>0.000082</td>\n",
       "      <td>4</td>\n",
       "      <td>15</td>\n",
       "      <td>[PIK3R1, sset:PI3K alpha, beta, gamma, sset:PI3K-regulatory subunit, sset:Activator:PI3K]</td>\n",
       "      <td>http://model.geneontology.org/R-HSA-1257604</td>\n",
       "      <td>114</td>\n",
       "    </tr>\n",
       "    <tr>\n",
       "      <th>2</th>\n",
       "      <td>PLCG1 events in ERBB2 signaling - Reactome</td>\n",
       "      <td>0.000084</td>\n",
       "      <td>3</td>\n",
       "      <td>6</td>\n",
       "      <td>[EGFR, sset:p-Y877-ERBB2 heterodimers, sset:ERBB2 heterodimers]</td>\n",
       "      <td>http://model.geneontology.org/R-HSA-1251932</td>\n",
       "      <td>16</td>\n",
       "    </tr>\n",
       "    <tr>\n",
       "      <th>3</th>\n",
       "      <td>CD28 dependent PI3K/Akt signaling - Reactome</td>\n",
       "      <td>0.000108</td>\n",
       "      <td>4</td>\n",
       "      <td>16</td>\n",
       "      <td>[PIK3R1, sset:PI3K alpha, beta, gamma, sset:PI3K-regulatory subunit, sset:Activator:PI3K]</td>\n",
       "      <td>http://model.geneontology.org/R-HSA-389357</td>\n",
       "      <td>115</td>\n",
       "    </tr>\n",
       "    <tr>\n",
       "      <th>4</th>\n",
       "      <td>Negative regulation of the PI3K/AKT network - Reactome</td>\n",
       "      <td>0.000145</td>\n",
       "      <td>3</td>\n",
       "      <td>7</td>\n",
       "      <td>[sset:PI3K-regulatory subunit, sset:Activator:PI3K, sset:PIK3C(1)]</td>\n",
       "      <td>http://model.geneontology.org/R-HSA-199418</td>\n",
       "      <td>95</td>\n",
       "    </tr>\n",
       "    <tr>\n",
       "      <th>5</th>\n",
       "      <td>SHC1 events in ERBB2 signaling - Reactome</td>\n",
       "      <td>0.000229</td>\n",
       "      <td>3</td>\n",
       "      <td>8</td>\n",
       "      <td>[sset:p-ERBB2 heterodimers, sset:p-Y877-ERBB2 heterodimers, sset:ERBB2 heterodimers]</td>\n",
       "      <td>http://model.geneontology.org/R-HSA-1250196</td>\n",
       "      <td>21</td>\n",
       "    </tr>\n",
       "    <tr>\n",
       "      <th>6</th>\n",
       "      <td>VEGFR2 mediated vascular permeability - Reactome</td>\n",
       "      <td>0.000273</td>\n",
       "      <td>4</td>\n",
       "      <td>20</td>\n",
       "      <td>[PIK3R1, sset:PI3K alpha, beta, gamma, sset:PI3K-regulatory subunit, sset:Activator:PI3K]</td>\n",
       "      <td>http://model.geneontology.org/R-HSA-5218920</td>\n",
       "      <td>117</td>\n",
       "    </tr>\n",
       "  </tbody>\n",
       "</table>\n",
       "</div>"
      ],
      "text/plain": [
       "                                                    title  pval (uncorrected)  \\\n",
       "0               PI3K events in ERBB2 signaling - Reactome            0.000044   \n",
       "1                           PI3K/AKT Signaling - Reactome            0.000082   \n",
       "2              PLCG1 events in ERBB2 signaling - Reactome            0.000084   \n",
       "3            CD28 dependent PI3K/Akt signaling - Reactome            0.000108   \n",
       "4  Negative regulation of the PI3K/AKT network - Reactome            0.000145   \n",
       "5               SHC1 events in ERBB2 signaling - Reactome            0.000229   \n",
       "6        VEGFR2 mediated vascular permeability - Reactome            0.000273   \n",
       "\n",
       "   # entities in list  #entities in model  \\\n",
       "0                   4                  13   \n",
       "1                   4                  15   \n",
       "2                   3                   6   \n",
       "3                   4                  16   \n",
       "4                   3                   7   \n",
       "5                   3                   8   \n",
       "6                   4                  20   \n",
       "\n",
       "                                                                    shared entities in gocam  \\\n",
       "0                    [PIK3R1, EGFR, sset:p-Y877-ERBB2 heterodimers, sset:ERBB2 heterodimers]   \n",
       "1  [PIK3R1, sset:PI3K alpha, beta, gamma, sset:PI3K-regulatory subunit, sset:Activator:PI3K]   \n",
       "2                            [EGFR, sset:p-Y877-ERBB2 heterodimers, sset:ERBB2 heterodimers]   \n",
       "3  [PIK3R1, sset:PI3K alpha, beta, gamma, sset:PI3K-regulatory subunit, sset:Activator:PI3K]   \n",
       "4                         [sset:PI3K-regulatory subunit, sset:Activator:PI3K, sset:PIK3C(1)]   \n",
       "5       [sset:p-ERBB2 heterodimers, sset:p-Y877-ERBB2 heterodimers, sset:ERBB2 heterodimers]   \n",
       "6  [PIK3R1, sset:PI3K alpha, beta, gamma, sset:PI3K-regulatory subunit, sset:Activator:PI3K]   \n",
       "\n",
       "                                           url  gene list size  \n",
       "0  http://model.geneontology.org/R-HSA-1963642              19  \n",
       "1  http://model.geneontology.org/R-HSA-1257604             114  \n",
       "2  http://model.geneontology.org/R-HSA-1251932              16  \n",
       "3   http://model.geneontology.org/R-HSA-389357             115  \n",
       "4   http://model.geneontology.org/R-HSA-199418              95  \n",
       "5  http://model.geneontology.org/R-HSA-1250196              21  \n",
       "6  http://model.geneontology.org/R-HSA-5218920             117  "
      ]
     },
     "execution_count": 45,
     "metadata": {},
     "output_type": "execute_result"
    }
   ],
   "source": [
    "up = enrich.enrich_wrapper(f'{genotype}_{cell}_up.csv','Gene Symbol',method='set',FDR = 0.05,fpath = '../test_data/processed/')\n",
    "enrich.compare2standard(up, f'{genotype}_{cell}_up.csv','Gene Symbol',FDR = 0.05)"
   ]
  },
  {
   "cell_type": "code",
   "execution_count": 46,
   "id": "9415bf01-d9d3-40d4-9ae4-d7125d26b608",
   "metadata": {},
   "outputs": [
    {
     "name": "stderr",
     "output_type": "stream",
     "text": [
      "100%|██████████████████████████████████████| 150/150 [00:00<00:00, 18006.97it/s]\n"
     ]
    },
    {
     "name": "stdout",
     "output_type": "stream",
     "text": [
      "Analysis run on 46 entities from 31 out of 117 input genes\n"
     ]
    },
    {
     "name": "stderr",
     "output_type": "stream",
     "text": [
      "100%|██████████████████████████████████████| 150/150 [00:00<00:00, 17540.09it/s]\n",
      "100%|██████████████████████████████████████| 150/150 [00:00<00:00, 18074.22it/s]\n"
     ]
    },
    {
     "name": "stdout",
     "output_type": "stream",
     "text": [
      "Standard method yields 0 results, 0 of which are unique\n"
     ]
    },
    {
     "data": {
      "text/html": [
       "<div>\n",
       "<style scoped>\n",
       "    .dataframe tbody tr th:only-of-type {\n",
       "        vertical-align: middle;\n",
       "    }\n",
       "\n",
       "    .dataframe tbody tr th {\n",
       "        vertical-align: top;\n",
       "    }\n",
       "\n",
       "    .dataframe thead th {\n",
       "        text-align: right;\n",
       "    }\n",
       "</style>\n",
       "<table border=\"1\" class=\"dataframe\">\n",
       "  <thead>\n",
       "    <tr style=\"text-align: right;\">\n",
       "      <th></th>\n",
       "      <th>title</th>\n",
       "      <th>pval (uncorrected)</th>\n",
       "      <th># entities in list</th>\n",
       "      <th>#entities in model</th>\n",
       "      <th>shared entities in gocam</th>\n",
       "      <th>url</th>\n",
       "      <th>gene list size</th>\n",
       "    </tr>\n",
       "  </thead>\n",
       "  <tbody>\n",
       "    <tr>\n",
       "      <th>0</th>\n",
       "      <td>Synthesis of PIPs at the plasma membrane - Reactome</td>\n",
       "      <td>0.000003</td>\n",
       "      <td>5</td>\n",
       "      <td>21</td>\n",
       "      <td>[BMX, sset:PIP5K1A/B, sset:PIP4K2/5K1, sset:PIP5K1A-C, sset:Activator:PI3K]</td>\n",
       "      <td>http://model.geneontology.org/R-HSA-1660499</td>\n",
       "      <td>120</td>\n",
       "    </tr>\n",
       "  </tbody>\n",
       "</table>\n",
       "</div>"
      ],
      "text/plain": [
       "                                                 title  pval (uncorrected)  \\\n",
       "0  Synthesis of PIPs at the plasma membrane - Reactome            0.000003   \n",
       "\n",
       "   # entities in list  #entities in model  \\\n",
       "0                   5                  21   \n",
       "\n",
       "                                                      shared entities in gocam  \\\n",
       "0  [BMX, sset:PIP5K1A/B, sset:PIP4K2/5K1, sset:PIP5K1A-C, sset:Activator:PI3K]   \n",
       "\n",
       "                                           url  gene list size  \n",
       "0  http://model.geneontology.org/R-HSA-1660499             120  "
      ]
     },
     "execution_count": 46,
     "metadata": {},
     "output_type": "execute_result"
    }
   ],
   "source": [
    "down = enrich.enrich_wrapper(f'{genotype}_{cell}_down.csv','Gene Symbol',method='set',FDR = 0.05,fpath = '../test_data/processed/')\n",
    "enrich.compare2standard(down, f'{genotype}_{cell}_down.csv','Gene Symbol',FDR = 0.05)"
   ]
  },
  {
   "cell_type": "markdown",
   "id": "ea30b6c3-afda-4823-ace3-5507bfbce0d3",
   "metadata": {
    "jp-MarkdownHeadingCollapsed": true,
    "tags": []
   },
   "source": [
    "### RBM20"
   ]
  },
  {
   "cell_type": "code",
   "execution_count": 47,
   "id": "4934f3ea-ca09-48f4-9ccd-9ea1c20029c1",
   "metadata": {},
   "outputs": [],
   "source": [
    "cell = 'SMC2'\n",
    "genotype = 'RBM20'"
   ]
  },
  {
   "cell_type": "code",
   "execution_count": 48,
   "id": "d6649e53-8c15-40e0-b922-3ac86cca6eac",
   "metadata": {},
   "outputs": [
    {
     "name": "stderr",
     "output_type": "stream",
     "text": [
      "100%|██████████████████████████████████████| 120/120 [00:00<00:00, 17468.99it/s]\n"
     ]
    },
    {
     "name": "stdout",
     "output_type": "stream",
     "text": [
      "Analysis run on 68 entities from 40 out of 191 input genes\n"
     ]
    },
    {
     "name": "stderr",
     "output_type": "stream",
     "text": [
      "100%|██████████████████████████████████████| 120/120 [00:00<00:00, 17189.77it/s]\n",
      "100%|██████████████████████████████████████| 120/120 [00:00<00:00, 15546.45it/s]\n"
     ]
    },
    {
     "name": "stdout",
     "output_type": "stream",
     "text": [
      "Standard method yields 0 results, 0 of which are unique\n"
     ]
    },
    {
     "data": {
      "text/html": [
       "<div>\n",
       "<style scoped>\n",
       "    .dataframe tbody tr th:only-of-type {\n",
       "        vertical-align: middle;\n",
       "    }\n",
       "\n",
       "    .dataframe tbody tr th {\n",
       "        vertical-align: top;\n",
       "    }\n",
       "\n",
       "    .dataframe thead th {\n",
       "        text-align: right;\n",
       "    }\n",
       "</style>\n",
       "<table border=\"1\" class=\"dataframe\">\n",
       "  <thead>\n",
       "    <tr style=\"text-align: right;\">\n",
       "      <th></th>\n",
       "    </tr>\n",
       "  </thead>\n",
       "  <tbody>\n",
       "  </tbody>\n",
       "</table>\n",
       "</div>"
      ],
      "text/plain": [
       "Empty DataFrame\n",
       "Columns: []\n",
       "Index: []"
      ]
     },
     "execution_count": 48,
     "metadata": {},
     "output_type": "execute_result"
    }
   ],
   "source": [
    "up = enrich.enrich_wrapper(f'{genotype}_{cell}_up.csv','Gene Symbol',method='set',FDR = 0.05,fpath = '../test_data/processed/')\n",
    "enrich.compare2standard(up, f'{genotype}_{cell}_up.csv','Gene Symbol',FDR = 0.05)"
   ]
  },
  {
   "cell_type": "code",
   "execution_count": 49,
   "id": "af1ccbf1-ff06-48ed-b68a-a7f3faffed7d",
   "metadata": {},
   "outputs": [
    {
     "name": "stderr",
     "output_type": "stream",
     "text": [
      "100%|██████████████████████████████████████| 122/122 [00:00<00:00, 17534.36it/s]\n"
     ]
    },
    {
     "name": "stdout",
     "output_type": "stream",
     "text": [
      "Analysis run on 61 entities from 46 out of 141 input genes\n"
     ]
    },
    {
     "name": "stderr",
     "output_type": "stream",
     "text": [
      "100%|██████████████████████████████████████| 122/122 [00:00<00:00, 17760.75it/s]\n",
      "100%|██████████████████████████████████████| 122/122 [00:00<00:00, 16366.71it/s]\n"
     ]
    },
    {
     "name": "stdout",
     "output_type": "stream",
     "text": [
      "Standard method yields 1 results, 1 of which are unique\n"
     ]
    },
    {
     "data": {
      "text/html": [
       "<div>\n",
       "<style scoped>\n",
       "    .dataframe tbody tr th:only-of-type {\n",
       "        vertical-align: middle;\n",
       "    }\n",
       "\n",
       "    .dataframe tbody tr th {\n",
       "        vertical-align: top;\n",
       "    }\n",
       "\n",
       "    .dataframe thead th {\n",
       "        text-align: right;\n",
       "    }\n",
       "</style>\n",
       "<table border=\"1\" class=\"dataframe\">\n",
       "  <thead>\n",
       "    <tr style=\"text-align: right;\">\n",
       "      <th></th>\n",
       "    </tr>\n",
       "  </thead>\n",
       "  <tbody>\n",
       "  </tbody>\n",
       "</table>\n",
       "</div>"
      ],
      "text/plain": [
       "Empty DataFrame\n",
       "Columns: []\n",
       "Index: []"
      ]
     },
     "execution_count": 49,
     "metadata": {},
     "output_type": "execute_result"
    }
   ],
   "source": [
    "down = enrich.enrich_wrapper(f'{genotype}_{cell}_down.csv','Gene Symbol',method='set',FDR = 0.05,fpath = '../test_data/processed/')\n",
    "enrich.compare2standard(down, f'{genotype}_{cell}_down.csv','Gene Symbol',FDR = 0.05)"
   ]
  },
  {
   "cell_type": "markdown",
   "id": "42d61ed0-44c9-4d79-b2d7-3a8669220dad",
   "metadata": {
    "jp-MarkdownHeadingCollapsed": true,
    "tags": []
   },
   "source": [
    "### TTN"
   ]
  },
  {
   "cell_type": "code",
   "execution_count": 50,
   "id": "1d03297f-a2a3-488a-abdf-487543bc669f",
   "metadata": {},
   "outputs": [],
   "source": [
    "cell = 'SMC2'\n",
    "genotype = 'TTN'"
   ]
  },
  {
   "cell_type": "code",
   "execution_count": 51,
   "id": "0bc40356-6c62-4ab1-aab4-7aa3157bd07b",
   "metadata": {},
   "outputs": [
    {
     "name": "stderr",
     "output_type": "stream",
     "text": [
      "100%|████████████████████████████████████████| 18/18 [00:00<00:00, 13751.82it/s]\n"
     ]
    },
    {
     "name": "stdout",
     "output_type": "stream",
     "text": [
      "Analysis run on 12 entities from 7 out of 65 input genes\n"
     ]
    },
    {
     "name": "stderr",
     "output_type": "stream",
     "text": [
      "100%|████████████████████████████████████████| 18/18 [00:00<00:00, 15154.05it/s]\n",
      "100%|████████████████████████████████████████| 18/18 [00:00<00:00, 13493.74it/s]\n"
     ]
    },
    {
     "name": "stdout",
     "output_type": "stream",
     "text": [
      "Standard method yields 0 results, 0 of which are unique\n"
     ]
    },
    {
     "data": {
      "text/html": [
       "<div>\n",
       "<style scoped>\n",
       "    .dataframe tbody tr th:only-of-type {\n",
       "        vertical-align: middle;\n",
       "    }\n",
       "\n",
       "    .dataframe tbody tr th {\n",
       "        vertical-align: top;\n",
       "    }\n",
       "\n",
       "    .dataframe thead th {\n",
       "        text-align: right;\n",
       "    }\n",
       "</style>\n",
       "<table border=\"1\" class=\"dataframe\">\n",
       "  <thead>\n",
       "    <tr style=\"text-align: right;\">\n",
       "      <th></th>\n",
       "    </tr>\n",
       "  </thead>\n",
       "  <tbody>\n",
       "  </tbody>\n",
       "</table>\n",
       "</div>"
      ],
      "text/plain": [
       "Empty DataFrame\n",
       "Columns: []\n",
       "Index: []"
      ]
     },
     "execution_count": 51,
     "metadata": {},
     "output_type": "execute_result"
    }
   ],
   "source": [
    "up = enrich.enrich_wrapper(f'{genotype}_{cell}_up.csv','Gene Symbol',method='set',FDR = 0.05,fpath = '../test_data/processed/')\n",
    "enrich.compare2standard(up, f'{genotype}_{cell}_up.csv','Gene Symbol',FDR = 0.05)"
   ]
  },
  {
   "cell_type": "code",
   "execution_count": 52,
   "id": "4cd9914c-f46a-409d-9b5a-778825e32f26",
   "metadata": {},
   "outputs": [
    {
     "name": "stderr",
     "output_type": "stream",
     "text": [
      "100%|████████████████████████████████████████| 40/40 [00:00<00:00, 17093.44it/s]\n"
     ]
    },
    {
     "name": "stdout",
     "output_type": "stream",
     "text": [
      "Analysis run on 29 entities from 16 out of 67 input genes\n"
     ]
    },
    {
     "name": "stderr",
     "output_type": "stream",
     "text": [
      "100%|████████████████████████████████████████| 40/40 [00:00<00:00, 16836.14it/s]\n",
      "100%|████████████████████████████████████████| 40/40 [00:00<00:00, 16841.21it/s]\n"
     ]
    },
    {
     "name": "stdout",
     "output_type": "stream",
     "text": [
      "Standard method yields 0 results, 0 of which are unique\n"
     ]
    },
    {
     "data": {
      "text/html": [
       "<div>\n",
       "<style scoped>\n",
       "    .dataframe tbody tr th:only-of-type {\n",
       "        vertical-align: middle;\n",
       "    }\n",
       "\n",
       "    .dataframe tbody tr th {\n",
       "        vertical-align: top;\n",
       "    }\n",
       "\n",
       "    .dataframe thead th {\n",
       "        text-align: right;\n",
       "    }\n",
       "</style>\n",
       "<table border=\"1\" class=\"dataframe\">\n",
       "  <thead>\n",
       "    <tr style=\"text-align: right;\">\n",
       "      <th></th>\n",
       "      <th>title</th>\n",
       "      <th>pval (uncorrected)</th>\n",
       "      <th># entities in list</th>\n",
       "      <th>#entities in model</th>\n",
       "      <th>shared entities in gocam</th>\n",
       "      <th>url</th>\n",
       "      <th>gene list size</th>\n",
       "    </tr>\n",
       "  </thead>\n",
       "  <tbody>\n",
       "    <tr>\n",
       "      <th>0</th>\n",
       "      <td>Regulation of Complement cascade - Reactome</td>\n",
       "      <td>7.226056e-07</td>\n",
       "      <td>4</td>\n",
       "      <td>11</td>\n",
       "      <td>[C3, sset:C3 convertases, sset:Complement factor D, sset:CD46, CR1:C4b:C3b complexes]</td>\n",
       "      <td>http://model.geneontology.org/R-HSA-977606</td>\n",
       "      <td>117</td>\n",
       "    </tr>\n",
       "    <tr>\n",
       "      <th>1</th>\n",
       "      <td>Synthesis of PA - Reactome</td>\n",
       "      <td>1.825223e-05</td>\n",
       "      <td>4</td>\n",
       "      <td>23</td>\n",
       "      <td>[PLA2G2A, sset:GPAM/GPAT2, sset:PLA2(15), sset:GPAM or GPAT2]</td>\n",
       "      <td>http://model.geneontology.org/R-HSA-1483166</td>\n",
       "      <td>45</td>\n",
       "    </tr>\n",
       "  </tbody>\n",
       "</table>\n",
       "</div>"
      ],
      "text/plain": [
       "                                         title  pval (uncorrected)  \\\n",
       "0  Regulation of Complement cascade - Reactome        7.226056e-07   \n",
       "1                   Synthesis of PA - Reactome        1.825223e-05   \n",
       "\n",
       "   # entities in list  #entities in model  \\\n",
       "0                   4                  11   \n",
       "1                   4                  23   \n",
       "\n",
       "                                                                shared entities in gocam  \\\n",
       "0  [C3, sset:C3 convertases, sset:Complement factor D, sset:CD46, CR1:C4b:C3b complexes]   \n",
       "1                          [PLA2G2A, sset:GPAM/GPAT2, sset:PLA2(15), sset:GPAM or GPAT2]   \n",
       "\n",
       "                                           url  gene list size  \n",
       "0   http://model.geneontology.org/R-HSA-977606             117  \n",
       "1  http://model.geneontology.org/R-HSA-1483166              45  "
      ]
     },
     "execution_count": 52,
     "metadata": {},
     "output_type": "execute_result"
    }
   ],
   "source": [
    "down = enrich.enrich_wrapper(f'{genotype}_{cell}_down.csv','Gene Symbol',method='set',FDR = 0.05,fpath = '../test_data/processed/')\n",
    "enrich.compare2standard(down, f'{genotype}_{cell}_down.csv','Gene Symbol',FDR = 0.05)"
   ]
  },
  {
   "cell_type": "markdown",
   "id": "d00549c6-9aa3-4364-a46c-138f1b7675d9",
   "metadata": {
    "jp-MarkdownHeadingCollapsed": true,
    "tags": []
   },
   "source": [
    "### PVneg"
   ]
  },
  {
   "cell_type": "code",
   "execution_count": 53,
   "id": "8c8f74fb-5e7c-491d-9fbb-3d2ddd4ba0d3",
   "metadata": {},
   "outputs": [],
   "source": [
    "cell = 'SMC2'\n",
    "genotype = 'PVneg'"
   ]
  },
  {
   "cell_type": "code",
   "execution_count": 54,
   "id": "f71c24b6-23ad-434a-95b6-c72a1fac2176",
   "metadata": {},
   "outputs": [
    {
     "name": "stderr",
     "output_type": "stream",
     "text": [
      "100%|████████████████████████████████████████| 26/26 [00:00<00:00, 15749.84it/s]\n"
     ]
    },
    {
     "name": "stdout",
     "output_type": "stream",
     "text": [
      "Analysis run on 19 entities from 14 out of 66 input genes\n"
     ]
    },
    {
     "name": "stderr",
     "output_type": "stream",
     "text": [
      "100%|████████████████████████████████████████| 26/26 [00:00<00:00, 15940.93it/s]\n",
      "100%|████████████████████████████████████████| 26/26 [00:00<00:00, 16013.50it/s]\n"
     ]
    },
    {
     "name": "stdout",
     "output_type": "stream",
     "text": [
      "Standard method yields 0 results, 0 of which are unique\n"
     ]
    },
    {
     "data": {
      "text/html": [
       "<div>\n",
       "<style scoped>\n",
       "    .dataframe tbody tr th:only-of-type {\n",
       "        vertical-align: middle;\n",
       "    }\n",
       "\n",
       "    .dataframe tbody tr th {\n",
       "        vertical-align: top;\n",
       "    }\n",
       "\n",
       "    .dataframe thead th {\n",
       "        text-align: right;\n",
       "    }\n",
       "</style>\n",
       "<table border=\"1\" class=\"dataframe\">\n",
       "  <thead>\n",
       "    <tr style=\"text-align: right;\">\n",
       "      <th></th>\n",
       "    </tr>\n",
       "  </thead>\n",
       "  <tbody>\n",
       "  </tbody>\n",
       "</table>\n",
       "</div>"
      ],
      "text/plain": [
       "Empty DataFrame\n",
       "Columns: []\n",
       "Index: []"
      ]
     },
     "execution_count": 54,
     "metadata": {},
     "output_type": "execute_result"
    }
   ],
   "source": [
    "up = enrich.enrich_wrapper(f'{genotype}_{cell}_up.csv','Gene Symbol',method='set',FDR = 0.05,fpath = '../test_data/processed/')\n",
    "enrich.compare2standard(up, f'{genotype}_{cell}_up.csv','Gene Symbol',FDR = 0.05)"
   ]
  },
  {
   "cell_type": "code",
   "execution_count": 55,
   "id": "83dccd09-1361-4113-8406-3857f2b7af44",
   "metadata": {},
   "outputs": [
    {
     "name": "stderr",
     "output_type": "stream",
     "text": [
      "100%|████████████████████████████████████████| 29/29 [00:00<00:00, 16283.11it/s]\n"
     ]
    },
    {
     "name": "stdout",
     "output_type": "stream",
     "text": [
      "Analysis run on 19 entities from 17 out of 49 input genes\n"
     ]
    },
    {
     "name": "stderr",
     "output_type": "stream",
     "text": [
      "100%|████████████████████████████████████████| 29/29 [00:00<00:00, 16320.25it/s]\n",
      "100%|████████████████████████████████████████| 29/29 [00:00<00:00, 16384.00it/s]\n"
     ]
    },
    {
     "name": "stdout",
     "output_type": "stream",
     "text": [
      "Standard method yields 0 results, 0 of which are unique\n"
     ]
    },
    {
     "data": {
      "text/html": [
       "<div>\n",
       "<style scoped>\n",
       "    .dataframe tbody tr th:only-of-type {\n",
       "        vertical-align: middle;\n",
       "    }\n",
       "\n",
       "    .dataframe tbody tr th {\n",
       "        vertical-align: top;\n",
       "    }\n",
       "\n",
       "    .dataframe thead th {\n",
       "        text-align: right;\n",
       "    }\n",
       "</style>\n",
       "<table border=\"1\" class=\"dataframe\">\n",
       "  <thead>\n",
       "    <tr style=\"text-align: right;\">\n",
       "      <th></th>\n",
       "    </tr>\n",
       "  </thead>\n",
       "  <tbody>\n",
       "  </tbody>\n",
       "</table>\n",
       "</div>"
      ],
      "text/plain": [
       "Empty DataFrame\n",
       "Columns: []\n",
       "Index: []"
      ]
     },
     "execution_count": 55,
     "metadata": {},
     "output_type": "execute_result"
    }
   ],
   "source": [
    "down = enrich.enrich_wrapper(f'{genotype}_{cell}_down.csv','Gene Symbol',method='set',FDR = 0.05,fpath = '../test_data/processed/')\n",
    "enrich.compare2standard(down, f'{genotype}_{cell}_down.csv','Gene Symbol',FDR = 0.05)"
   ]
  },
  {
   "cell_type": "markdown",
   "id": "7fe3cf26-c309-470d-8fcc-94658065209b",
   "metadata": {
    "tags": []
   },
   "source": [
    "## LV cardiomyocyte"
   ]
  },
  {
   "cell_type": "code",
   "execution_count": 72,
   "id": "5623407e-3724-4aaa-b47c-c013ac44a422",
   "metadata": {},
   "outputs": [
    {
     "name": "stdout",
     "output_type": "stream",
     "text": [
      "LMNA up : 290 genes\n",
      "LMNA down : 399 genes\n",
      "PKP2 up : 200 genes\n",
      "PKP2 down : 203 genes\n",
      "RBM20 up : 340 genes\n",
      "RBM20 down : 193 genes\n",
      "TTN up : 217 genes\n",
      "TTN down : 385 genes\n",
      "PVneg up : 135 genes\n",
      "PVneg down : 43 genes\n"
     ]
    }
   ],
   "source": [
    "xls_up = pd.ExcelFile('../test_data/unprocessed/science.abo1984_tables_s1_to_s71/S7_LV_CM_Upregulated_Genes_Disease_Genotype_All_States.xlsx')\n",
    "xls_down = pd.ExcelFile('../test_data/unprocessed/science.abo1984_tables_s1_to_s71/S8_LV_CM_Upregulated_Genes_Controls_All_States.xlsx')\n",
    "\n",
    "\n",
    "for genotype in ['LMNA','PKP2','RBM20','TTN','PVneg']:\n",
    "    \n",
    "    df_up = pd.read_excel(xls_up,f'{genotype}_control')\n",
    "    df_down = pd.read_excel(xls_down,f'control_{genotype}')\n",
    "    \n",
    "    \n",
    "    for sign, df in {'up':df_up,'down':df_down}.items():\n",
    "        df = df.query(f'logFC > {logFC} and PValue < {PV}')\n",
    "        df['Gene'].to_csv(f'../test_data/processed/{genotype}_CM_{sign}.csv', header = False, index= False)\n",
    "        print(genotype,sign,':',len(df), 'genes')"
   ]
  },
  {
   "cell_type": "markdown",
   "id": "3149b658-446f-4f9f-9427-f5860c76b90e",
   "metadata": {
    "tags": []
   },
   "source": [
    "### LMNA"
   ]
  },
  {
   "cell_type": "code",
   "execution_count": 73,
   "id": "bf32c0b7-0fc0-47b2-a061-8179172d5157",
   "metadata": {},
   "outputs": [],
   "source": [
    "cell = 'CM'\n",
    "genotype = 'LMNA'"
   ]
  },
  {
   "cell_type": "code",
   "execution_count": 74,
   "id": "a62afb91-5b11-49fc-8291-cf61c5b0044d",
   "metadata": {},
   "outputs": [
    {
     "name": "stderr",
     "output_type": "stream",
     "text": [
      "100%|██████████████████████████████████████| 179/179 [00:00<00:00, 18029.84it/s]\n"
     ]
    },
    {
     "name": "stdout",
     "output_type": "stream",
     "text": [
      "Analysis run on 99 entities from 55 out of 290 input genes\n"
     ]
    },
    {
     "name": "stderr",
     "output_type": "stream",
     "text": [
      "100%|██████████████████████████████████████| 179/179 [00:00<00:00, 17318.24it/s]\n",
      "100%|██████████████████████████████████████| 179/179 [00:00<00:00, 18098.94it/s]\n"
     ]
    },
    {
     "name": "stdout",
     "output_type": "stream",
     "text": [
      "Standard method yields 0 results, 0 of which are unique\n"
     ]
    },
    {
     "data": {
      "text/html": [
       "<div>\n",
       "<style scoped>\n",
       "    .dataframe tbody tr th:only-of-type {\n",
       "        vertical-align: middle;\n",
       "    }\n",
       "\n",
       "    .dataframe tbody tr th {\n",
       "        vertical-align: top;\n",
       "    }\n",
       "\n",
       "    .dataframe thead th {\n",
       "        text-align: right;\n",
       "    }\n",
       "</style>\n",
       "<table border=\"1\" class=\"dataframe\">\n",
       "  <thead>\n",
       "    <tr style=\"text-align: right;\">\n",
       "      <th></th>\n",
       "    </tr>\n",
       "  </thead>\n",
       "  <tbody>\n",
       "  </tbody>\n",
       "</table>\n",
       "</div>"
      ],
      "text/plain": [
       "Empty DataFrame\n",
       "Columns: []\n",
       "Index: []"
      ]
     },
     "execution_count": 74,
     "metadata": {},
     "output_type": "execute_result"
    }
   ],
   "source": [
    "up = enrich.enrich_wrapper(f'{genotype}_{cell}_up.csv','Gene Symbol',method='set',FDR = 0.05,fpath = '../test_data/processed/')\n",
    "enrich.compare2standard(up, f'{genotype}_{cell}_up.csv','Gene Symbol',FDR = 0.05)"
   ]
  },
  {
   "cell_type": "code",
   "execution_count": 58,
   "id": "46664008-a957-4679-9935-861f4c0994e7",
   "metadata": {},
   "outputs": [
    {
     "name": "stderr",
     "output_type": "stream",
     "text": [
      "100%|██████████████████████████████████████| 269/269 [00:00<00:00, 18412.88it/s]\n"
     ]
    },
    {
     "name": "stdout",
     "output_type": "stream",
     "text": [
      "Analysis run on 132 entities from 91 out of 328 input genes\n"
     ]
    },
    {
     "name": "stderr",
     "output_type": "stream",
     "text": [
      "100%|██████████████████████████████████████| 269/269 [00:00<00:00, 17950.04it/s]\n",
      "100%|██████████████████████████████████████| 269/269 [00:00<00:00, 16500.93it/s]\n"
     ]
    },
    {
     "name": "stdout",
     "output_type": "stream",
     "text": [
      "Standard method yields 1 results, 0 of which are unique\n"
     ]
    },
    {
     "data": {
      "text/html": [
       "<div>\n",
       "<style scoped>\n",
       "    .dataframe tbody tr th:only-of-type {\n",
       "        vertical-align: middle;\n",
       "    }\n",
       "\n",
       "    .dataframe tbody tr th {\n",
       "        vertical-align: top;\n",
       "    }\n",
       "\n",
       "    .dataframe thead th {\n",
       "        text-align: right;\n",
       "    }\n",
       "</style>\n",
       "<table border=\"1\" class=\"dataframe\">\n",
       "  <thead>\n",
       "    <tr style=\"text-align: right;\">\n",
       "      <th></th>\n",
       "      <th>title</th>\n",
       "      <th>pval (uncorrected)</th>\n",
       "      <th># entities in list</th>\n",
       "      <th>#entities in model</th>\n",
       "      <th>shared entities in gocam</th>\n",
       "      <th>url</th>\n",
       "    </tr>\n",
       "  </thead>\n",
       "  <tbody>\n",
       "  </tbody>\n",
       "</table>\n",
       "</div>"
      ],
      "text/plain": [
       "Empty DataFrame\n",
       "Columns: [title, pval (uncorrected), # entities in list, #entities in model, shared entities in gocam, url]\n",
       "Index: []"
      ]
     },
     "execution_count": 58,
     "metadata": {},
     "output_type": "execute_result"
    }
   ],
   "source": [
    "down = enrich.enrich_wrapper(f'{genotype}_{cell}_down.csv','Gene Symbol',method='set',FDR = 0.05,fpath = '../test_data/processed/')\n",
    "enrich.compare2standard(down, f'{genotype}_{cell}_down.csv','Gene Symbol',FDR = 0.05)"
   ]
  },
  {
   "cell_type": "markdown",
   "id": "f6518e32-d7c8-4c62-92c9-c2bf98a7f9c7",
   "metadata": {
    "tags": []
   },
   "source": [
    "### PKP2"
   ]
  },
  {
   "cell_type": "code",
   "execution_count": 75,
   "id": "8a3ee13c-e0f9-46b8-9935-3482923c8ecc",
   "metadata": {},
   "outputs": [],
   "source": [
    "cell = 'CM'\n",
    "genotype = 'PKP2'"
   ]
  },
  {
   "cell_type": "code",
   "execution_count": 76,
   "id": "55df9ff6-1d5f-4ada-bc11-a9d967a9edbe",
   "metadata": {},
   "outputs": [
    {
     "name": "stderr",
     "output_type": "stream",
     "text": [
      "100%|██████████████████████████████████████| 140/140 [00:00<00:00, 18141.45it/s]\n"
     ]
    },
    {
     "name": "stdout",
     "output_type": "stream",
     "text": [
      "Analysis run on 67 entities from 31 out of 200 input genes\n"
     ]
    },
    {
     "name": "stderr",
     "output_type": "stream",
     "text": [
      "100%|██████████████████████████████████████| 140/140 [00:00<00:00, 17648.02it/s]\n",
      "100%|██████████████████████████████████████| 140/140 [00:00<00:00, 17672.45it/s]\n"
     ]
    },
    {
     "name": "stdout",
     "output_type": "stream",
     "text": [
      "Standard method yields 3 results, 3 of which are unique\n"
     ]
    },
    {
     "data": {
      "text/html": [
       "<div>\n",
       "<style scoped>\n",
       "    .dataframe tbody tr th:only-of-type {\n",
       "        vertical-align: middle;\n",
       "    }\n",
       "\n",
       "    .dataframe tbody tr th {\n",
       "        vertical-align: top;\n",
       "    }\n",
       "\n",
       "    .dataframe thead th {\n",
       "        text-align: right;\n",
       "    }\n",
       "</style>\n",
       "<table border=\"1\" class=\"dataframe\">\n",
       "  <thead>\n",
       "    <tr style=\"text-align: right;\">\n",
       "      <th></th>\n",
       "      <th>title</th>\n",
       "      <th>pval (uncorrected)</th>\n",
       "      <th># entities in list</th>\n",
       "      <th>#entities in model</th>\n",
       "      <th>shared entities in gocam</th>\n",
       "      <th>url</th>\n",
       "      <th>gene list size</th>\n",
       "    </tr>\n",
       "  </thead>\n",
       "  <tbody>\n",
       "    <tr>\n",
       "      <th>0</th>\n",
       "      <td>Synthesis of PIPs at the plasma membrane - Reactome</td>\n",
       "      <td>0.000019</td>\n",
       "      <td>5</td>\n",
       "      <td>21</td>\n",
       "      <td>[sset:SYNJ/MTM(1), sset:PI3K-regulatory subunit, sset:Activator:PI3K, sset:PIK3C(1), sset:PIK3(2)]</td>\n",
       "      <td>http://model.geneontology.org/R-HSA-1660499</td>\n",
       "      <td>120</td>\n",
       "    </tr>\n",
       "    <tr>\n",
       "      <th>1</th>\n",
       "      <td>PI3K/AKT Signaling - Reactome</td>\n",
       "      <td>0.000087</td>\n",
       "      <td>4</td>\n",
       "      <td>15</td>\n",
       "      <td>[PIK3R1, sset:PI3K alpha, beta, gamma, sset:PI3K-regulatory subunit, sset:Activator:PI3K]</td>\n",
       "      <td>http://model.geneontology.org/R-HSA-1257604</td>\n",
       "      <td>114</td>\n",
       "    </tr>\n",
       "    <tr>\n",
       "      <th>2</th>\n",
       "      <td>CD28 dependent PI3K/Akt signaling - Reactome</td>\n",
       "      <td>0.000114</td>\n",
       "      <td>4</td>\n",
       "      <td>16</td>\n",
       "      <td>[PIK3R1, sset:PI3K alpha, beta, gamma, sset:PI3K-regulatory subunit, sset:Activator:PI3K]</td>\n",
       "      <td>http://model.geneontology.org/R-HSA-389357</td>\n",
       "      <td>115</td>\n",
       "    </tr>\n",
       "    <tr>\n",
       "      <th>3</th>\n",
       "      <td>Negative regulation of the PI3K/AKT network - Reactome</td>\n",
       "      <td>0.000152</td>\n",
       "      <td>3</td>\n",
       "      <td>7</td>\n",
       "      <td>[sset:PI3K-regulatory subunit, sset:Activator:PI3K, sset:PIK3C(1)]</td>\n",
       "      <td>http://model.geneontology.org/R-HSA-199418</td>\n",
       "      <td>95</td>\n",
       "    </tr>\n",
       "  </tbody>\n",
       "</table>\n",
       "</div>"
      ],
      "text/plain": [
       "                                                    title  pval (uncorrected)  \\\n",
       "0     Synthesis of PIPs at the plasma membrane - Reactome            0.000019   \n",
       "1                           PI3K/AKT Signaling - Reactome            0.000087   \n",
       "2            CD28 dependent PI3K/Akt signaling - Reactome            0.000114   \n",
       "3  Negative regulation of the PI3K/AKT network - Reactome            0.000152   \n",
       "\n",
       "   # entities in list  #entities in model  \\\n",
       "0                   5                  21   \n",
       "1                   4                  15   \n",
       "2                   4                  16   \n",
       "3                   3                   7   \n",
       "\n",
       "                                                                             shared entities in gocam  \\\n",
       "0  [sset:SYNJ/MTM(1), sset:PI3K-regulatory subunit, sset:Activator:PI3K, sset:PIK3C(1), sset:PIK3(2)]   \n",
       "1           [PIK3R1, sset:PI3K alpha, beta, gamma, sset:PI3K-regulatory subunit, sset:Activator:PI3K]   \n",
       "2           [PIK3R1, sset:PI3K alpha, beta, gamma, sset:PI3K-regulatory subunit, sset:Activator:PI3K]   \n",
       "3                                  [sset:PI3K-regulatory subunit, sset:Activator:PI3K, sset:PIK3C(1)]   \n",
       "\n",
       "                                           url  gene list size  \n",
       "0  http://model.geneontology.org/R-HSA-1660499             120  \n",
       "1  http://model.geneontology.org/R-HSA-1257604             114  \n",
       "2   http://model.geneontology.org/R-HSA-389357             115  \n",
       "3   http://model.geneontology.org/R-HSA-199418              95  "
      ]
     },
     "execution_count": 76,
     "metadata": {},
     "output_type": "execute_result"
    }
   ],
   "source": [
    "up = enrich.enrich_wrapper(f'{genotype}_{cell}_up.csv','Gene Symbol',method='set',FDR = 0.05,fpath = '../test_data/processed/')\n",
    "enrich.compare2standard(up, f'{genotype}_{cell}_up.csv','Gene Symbol',FDR = 0.05)"
   ]
  },
  {
   "cell_type": "code",
   "execution_count": 77,
   "id": "c4734bd9-9a1d-4023-b7a8-100b053c1465",
   "metadata": {},
   "outputs": [
    {
     "name": "stderr",
     "output_type": "stream",
     "text": [
      "100%|██████████████████████████████████████| 216/216 [00:00<00:00, 16581.01it/s]\n"
     ]
    },
    {
     "name": "stdout",
     "output_type": "stream",
     "text": [
      "Analysis run on 95 entities from 63 out of 203 input genes\n"
     ]
    },
    {
     "name": "stderr",
     "output_type": "stream",
     "text": [
      "100%|██████████████████████████████████████| 216/216 [00:00<00:00, 16953.03it/s]\n",
      "100%|██████████████████████████████████████| 216/216 [00:00<00:00, 16666.72it/s]\n"
     ]
    },
    {
     "name": "stdout",
     "output_type": "stream",
     "text": [
      "Standard method yields 0 results, 0 of which are unique\n"
     ]
    },
    {
     "data": {
      "text/html": [
       "<div>\n",
       "<style scoped>\n",
       "    .dataframe tbody tr th:only-of-type {\n",
       "        vertical-align: middle;\n",
       "    }\n",
       "\n",
       "    .dataframe tbody tr th {\n",
       "        vertical-align: top;\n",
       "    }\n",
       "\n",
       "    .dataframe thead th {\n",
       "        text-align: right;\n",
       "    }\n",
       "</style>\n",
       "<table border=\"1\" class=\"dataframe\">\n",
       "  <thead>\n",
       "    <tr style=\"text-align: right;\">\n",
       "      <th></th>\n",
       "    </tr>\n",
       "  </thead>\n",
       "  <tbody>\n",
       "  </tbody>\n",
       "</table>\n",
       "</div>"
      ],
      "text/plain": [
       "Empty DataFrame\n",
       "Columns: []\n",
       "Index: []"
      ]
     },
     "execution_count": 77,
     "metadata": {},
     "output_type": "execute_result"
    }
   ],
   "source": [
    "down = enrich.enrich_wrapper(f'{genotype}_{cell}_down.csv','Gene Symbol',method='set',FDR = 0.05,fpath = '../test_data/processed/')\n",
    "enrich.compare2standard(down, f'{genotype}_{cell}_down.csv','Gene Symbol',FDR = 0.05)"
   ]
  },
  {
   "cell_type": "markdown",
   "id": "38fe57e8-590b-45e6-a289-9a1e6242ea2a",
   "metadata": {
    "tags": []
   },
   "source": [
    "### RBM20"
   ]
  },
  {
   "cell_type": "code",
   "execution_count": 78,
   "id": "d28895d3-6e3d-4a34-8a0a-fb80cb334cb4",
   "metadata": {},
   "outputs": [],
   "source": [
    "cell = 'CM'\n",
    "genotype = 'RBM20'"
   ]
  },
  {
   "cell_type": "code",
   "execution_count": 79,
   "id": "60944187-918e-493b-a183-6ff8b2fc5dbd",
   "metadata": {},
   "outputs": [
    {
     "name": "stderr",
     "output_type": "stream",
     "text": [
      "100%|██████████████████████████████████████| 146/146 [00:00<00:00, 17877.28it/s]\n"
     ]
    },
    {
     "name": "stdout",
     "output_type": "stream",
     "text": [
      "Analysis run on 100 entities from 68 out of 340 input genes\n"
     ]
    },
    {
     "name": "stderr",
     "output_type": "stream",
     "text": [
      "100%|██████████████████████████████████████| 146/146 [00:00<00:00, 17188.32it/s]\n",
      "100%|██████████████████████████████████████| 146/146 [00:00<00:00, 16839.96it/s]\n"
     ]
    },
    {
     "name": "stdout",
     "output_type": "stream",
     "text": [
      "Standard method yields 0 results, 0 of which are unique\n"
     ]
    },
    {
     "data": {
      "text/html": [
       "<div>\n",
       "<style scoped>\n",
       "    .dataframe tbody tr th:only-of-type {\n",
       "        vertical-align: middle;\n",
       "    }\n",
       "\n",
       "    .dataframe tbody tr th {\n",
       "        vertical-align: top;\n",
       "    }\n",
       "\n",
       "    .dataframe thead th {\n",
       "        text-align: right;\n",
       "    }\n",
       "</style>\n",
       "<table border=\"1\" class=\"dataframe\">\n",
       "  <thead>\n",
       "    <tr style=\"text-align: right;\">\n",
       "      <th></th>\n",
       "    </tr>\n",
       "  </thead>\n",
       "  <tbody>\n",
       "  </tbody>\n",
       "</table>\n",
       "</div>"
      ],
      "text/plain": [
       "Empty DataFrame\n",
       "Columns: []\n",
       "Index: []"
      ]
     },
     "execution_count": 79,
     "metadata": {},
     "output_type": "execute_result"
    }
   ],
   "source": [
    "up = enrich.enrich_wrapper(f'{genotype}_{cell}_up.csv','Gene Symbol',method='set',FDR = 0.05,fpath = '../test_data/processed/')\n",
    "enrich.compare2standard(up, f'{genotype}_{cell}_up.csv','Gene Symbol',FDR = 0.05)"
   ]
  },
  {
   "cell_type": "code",
   "execution_count": 80,
   "id": "e4295215-4c46-4fde-b99e-2c44c4dceb47",
   "metadata": {},
   "outputs": [
    {
     "name": "stderr",
     "output_type": "stream",
     "text": [
      "100%|████████████████████████████████████████| 93/93 [00:00<00:00, 15541.27it/s]\n"
     ]
    },
    {
     "name": "stdout",
     "output_type": "stream",
     "text": [
      "Analysis run on 64 entities from 47 out of 193 input genes\n"
     ]
    },
    {
     "name": "stderr",
     "output_type": "stream",
     "text": [
      "100%|████████████████████████████████████████| 93/93 [00:00<00:00, 17164.81it/s]\n",
      "100%|████████████████████████████████████████| 93/93 [00:00<00:00, 15545.60it/s]\n"
     ]
    },
    {
     "name": "stdout",
     "output_type": "stream",
     "text": [
      "Standard method yields 0 results, 0 of which are unique\n"
     ]
    },
    {
     "data": {
      "text/html": [
       "<div>\n",
       "<style scoped>\n",
       "    .dataframe tbody tr th:only-of-type {\n",
       "        vertical-align: middle;\n",
       "    }\n",
       "\n",
       "    .dataframe tbody tr th {\n",
       "        vertical-align: top;\n",
       "    }\n",
       "\n",
       "    .dataframe thead th {\n",
       "        text-align: right;\n",
       "    }\n",
       "</style>\n",
       "<table border=\"1\" class=\"dataframe\">\n",
       "  <thead>\n",
       "    <tr style=\"text-align: right;\">\n",
       "      <th></th>\n",
       "    </tr>\n",
       "  </thead>\n",
       "  <tbody>\n",
       "  </tbody>\n",
       "</table>\n",
       "</div>"
      ],
      "text/plain": [
       "Empty DataFrame\n",
       "Columns: []\n",
       "Index: []"
      ]
     },
     "execution_count": 80,
     "metadata": {},
     "output_type": "execute_result"
    }
   ],
   "source": [
    "down = enrich.enrich_wrapper(f'{genotype}_{cell}_down.csv','Gene Symbol',method='set',FDR = 0.05,fpath = '../test_data/processed/')\n",
    "enrich.compare2standard(down, f'{genotype}_{cell}_down.csv','Gene Symbol',FDR = 0.05)"
   ]
  },
  {
   "cell_type": "markdown",
   "id": "f237099d-0484-49c3-8eef-8003ca256e67",
   "metadata": {
    "tags": []
   },
   "source": [
    "### TTN"
   ]
  },
  {
   "cell_type": "code",
   "execution_count": 81,
   "id": "53d72c34-f37c-46f5-84d5-17855420474e",
   "metadata": {},
   "outputs": [],
   "source": [
    "cell = 'CM'\n",
    "genotype = 'TTN'"
   ]
  },
  {
   "cell_type": "code",
   "execution_count": 82,
   "id": "dbfccd2b-80ad-464b-92fd-c7d25b6dd4b8",
   "metadata": {},
   "outputs": [
    {
     "name": "stderr",
     "output_type": "stream",
     "text": [
      "100%|██████████████████████████████████████| 147/147 [00:00<00:00, 16798.24it/s]\n"
     ]
    },
    {
     "name": "stdout",
     "output_type": "stream",
     "text": [
      "Analysis run on 76 entities from 35 out of 217 input genes\n"
     ]
    },
    {
     "name": "stderr",
     "output_type": "stream",
     "text": [
      "100%|██████████████████████████████████████| 147/147 [00:00<00:00, 16132.36it/s]\n",
      "100%|██████████████████████████████████████| 147/147 [00:00<00:00, 16653.50it/s]\n"
     ]
    },
    {
     "name": "stdout",
     "output_type": "stream",
     "text": [
      "Standard method yields 0 results, 0 of which are unique\n"
     ]
    },
    {
     "data": {
      "text/html": [
       "<div>\n",
       "<style scoped>\n",
       "    .dataframe tbody tr th:only-of-type {\n",
       "        vertical-align: middle;\n",
       "    }\n",
       "\n",
       "    .dataframe tbody tr th {\n",
       "        vertical-align: top;\n",
       "    }\n",
       "\n",
       "    .dataframe thead th {\n",
       "        text-align: right;\n",
       "    }\n",
       "</style>\n",
       "<table border=\"1\" class=\"dataframe\">\n",
       "  <thead>\n",
       "    <tr style=\"text-align: right;\">\n",
       "      <th></th>\n",
       "      <th>title</th>\n",
       "      <th>pval (uncorrected)</th>\n",
       "      <th># entities in list</th>\n",
       "      <th>#entities in model</th>\n",
       "      <th>shared entities in gocam</th>\n",
       "      <th>url</th>\n",
       "      <th>gene list size</th>\n",
       "    </tr>\n",
       "  </thead>\n",
       "  <tbody>\n",
       "    <tr>\n",
       "      <th>0</th>\n",
       "      <td>Synthesis of PIPs at the plasma membrane - Reactome</td>\n",
       "      <td>0.000036</td>\n",
       "      <td>5</td>\n",
       "      <td>21</td>\n",
       "      <td>[sset:SYNJ/MTM(1), sset:PI3K-regulatory subunit, sset:Activator:PI3K, sset:PIK3C(1), sset:PIK3(2)]</td>\n",
       "      <td>http://model.geneontology.org/R-HSA-1660499</td>\n",
       "      <td>120</td>\n",
       "    </tr>\n",
       "  </tbody>\n",
       "</table>\n",
       "</div>"
      ],
      "text/plain": [
       "                                                 title  pval (uncorrected)  \\\n",
       "0  Synthesis of PIPs at the plasma membrane - Reactome            0.000036   \n",
       "\n",
       "   # entities in list  #entities in model  \\\n",
       "0                   5                  21   \n",
       "\n",
       "                                                                             shared entities in gocam  \\\n",
       "0  [sset:SYNJ/MTM(1), sset:PI3K-regulatory subunit, sset:Activator:PI3K, sset:PIK3C(1), sset:PIK3(2)]   \n",
       "\n",
       "                                           url  gene list size  \n",
       "0  http://model.geneontology.org/R-HSA-1660499             120  "
      ]
     },
     "execution_count": 82,
     "metadata": {},
     "output_type": "execute_result"
    }
   ],
   "source": [
    "up = enrich.enrich_wrapper(f'{genotype}_{cell}_up.csv','Gene Symbol',method='set',FDR = 0.05,fpath = '../test_data/processed/')\n",
    "enrich.compare2standard(up, f'{genotype}_{cell}_up.csv','Gene Symbol',FDR = 0.05)"
   ]
  },
  {
   "cell_type": "code",
   "execution_count": 83,
   "id": "910fad1a-e21b-470b-a96b-8fbe2c75ced4",
   "metadata": {},
   "outputs": [
    {
     "name": "stderr",
     "output_type": "stream",
     "text": [
      "100%|██████████████████████████████████████| 271/271 [00:00<00:00, 18246.64it/s]\n"
     ]
    },
    {
     "name": "stdout",
     "output_type": "stream",
     "text": [
      "Analysis run on 125 entities from 98 out of 385 input genes\n"
     ]
    },
    {
     "name": "stderr",
     "output_type": "stream",
     "text": [
      "100%|██████████████████████████████████████| 271/271 [00:00<00:00, 17018.36it/s]\n",
      "100%|██████████████████████████████████████| 271/271 [00:00<00:00, 17913.64it/s]\n"
     ]
    },
    {
     "name": "stdout",
     "output_type": "stream",
     "text": [
      "Standard method yields 0 results, 0 of which are unique\n"
     ]
    },
    {
     "data": {
      "text/html": [
       "<div>\n",
       "<style scoped>\n",
       "    .dataframe tbody tr th:only-of-type {\n",
       "        vertical-align: middle;\n",
       "    }\n",
       "\n",
       "    .dataframe tbody tr th {\n",
       "        vertical-align: top;\n",
       "    }\n",
       "\n",
       "    .dataframe thead th {\n",
       "        text-align: right;\n",
       "    }\n",
       "</style>\n",
       "<table border=\"1\" class=\"dataframe\">\n",
       "  <thead>\n",
       "    <tr style=\"text-align: right;\">\n",
       "      <th></th>\n",
       "      <th>title</th>\n",
       "      <th>pval (uncorrected)</th>\n",
       "      <th># entities in list</th>\n",
       "      <th>#entities in model</th>\n",
       "      <th>shared entities in gocam</th>\n",
       "      <th>url</th>\n",
       "      <th>gene list size</th>\n",
       "    </tr>\n",
       "  </thead>\n",
       "  <tbody>\n",
       "    <tr>\n",
       "      <th>0</th>\n",
       "      <td>Regulation of Complement cascade - Reactome</td>\n",
       "      <td>3.445072e-07</td>\n",
       "      <td>6</td>\n",
       "      <td>11</td>\n",
       "      <td>[C1R, C3, sset:C3 convertases, sset:Complement factor D, sset:C4 activators, sset:CD46, CR1:C4b:...</td>\n",
       "      <td>http://model.geneontology.org/R-HSA-977606</td>\n",
       "      <td>117</td>\n",
       "    </tr>\n",
       "  </tbody>\n",
       "</table>\n",
       "</div>"
      ],
      "text/plain": [
       "                                         title  pval (uncorrected)  \\\n",
       "0  Regulation of Complement cascade - Reactome        3.445072e-07   \n",
       "\n",
       "   # entities in list  #entities in model  \\\n",
       "0                   6                  11   \n",
       "\n",
       "                                                                              shared entities in gocam  \\\n",
       "0  [C1R, C3, sset:C3 convertases, sset:Complement factor D, sset:C4 activators, sset:CD46, CR1:C4b:...   \n",
       "\n",
       "                                          url  gene list size  \n",
       "0  http://model.geneontology.org/R-HSA-977606             117  "
      ]
     },
     "execution_count": 83,
     "metadata": {},
     "output_type": "execute_result"
    }
   ],
   "source": [
    "down = enrich.enrich_wrapper(f'{genotype}_{cell}_down.csv','Gene Symbol',method='set',FDR = 0.05,fpath = '../test_data/processed/')\n",
    "enrich.compare2standard(down, f'{genotype}_{cell}_down.csv','Gene Symbol',FDR = 0.05)"
   ]
  },
  {
   "cell_type": "markdown",
   "id": "fc734ad6-8ace-4dfb-8cbd-dc1202c90002",
   "metadata": {
    "tags": []
   },
   "source": [
    "### PVneg"
   ]
  },
  {
   "cell_type": "code",
   "execution_count": 84,
   "id": "1dc90436-609c-433d-839c-ed72ee380325",
   "metadata": {},
   "outputs": [],
   "source": [
    "cell = 'CM'\n",
    "genotype = 'PVneg'"
   ]
  },
  {
   "cell_type": "code",
   "execution_count": 89,
   "id": "e700efac-0457-4da2-9175-f95f10f2e894",
   "metadata": {},
   "outputs": [
    {
     "name": "stderr",
     "output_type": "stream",
     "text": [
      "100%|████████████████████████████████████████| 57/57 [00:00<00:00, 17141.70it/s]\n"
     ]
    },
    {
     "name": "stdout",
     "output_type": "stream",
     "text": [
      "Analysis run on 33 entities from 25 out of 135 input genes\n"
     ]
    },
    {
     "name": "stderr",
     "output_type": "stream",
     "text": [
      "100%|████████████████████████████████████████| 57/57 [00:00<00:00, 16364.93it/s]\n",
      "100%|████████████████████████████████████████| 57/57 [00:00<00:00, 16940.08it/s]\n"
     ]
    },
    {
     "name": "stdout",
     "output_type": "stream",
     "text": [
      "Standard method yields 0 results, 0 of which are unique\n"
     ]
    },
    {
     "data": {
      "text/html": [
       "<div>\n",
       "<style scoped>\n",
       "    .dataframe tbody tr th:only-of-type {\n",
       "        vertical-align: middle;\n",
       "    }\n",
       "\n",
       "    .dataframe tbody tr th {\n",
       "        vertical-align: top;\n",
       "    }\n",
       "\n",
       "    .dataframe thead th {\n",
       "        text-align: right;\n",
       "    }\n",
       "</style>\n",
       "<table border=\"1\" class=\"dataframe\">\n",
       "  <thead>\n",
       "    <tr style=\"text-align: right;\">\n",
       "      <th></th>\n",
       "    </tr>\n",
       "  </thead>\n",
       "  <tbody>\n",
       "  </tbody>\n",
       "</table>\n",
       "</div>"
      ],
      "text/plain": [
       "Empty DataFrame\n",
       "Columns: []\n",
       "Index: []"
      ]
     },
     "execution_count": 89,
     "metadata": {},
     "output_type": "execute_result"
    }
   ],
   "source": [
    "up = enrich.enrich_wrapper(f'{genotype}_{cell}_up.csv','Gene Symbol',method='set',FDR = 0.05,fpath = '../test_data/processed/')\n",
    "enrich.compare2standard(up, f'{genotype}_{cell}_up.csv','Gene Symbol',FDR = 0.05)"
   ]
  },
  {
   "cell_type": "code",
   "execution_count": 90,
   "id": "fe2868b6-bd31-46bc-935b-50368330f5f1",
   "metadata": {},
   "outputs": [
    {
     "name": "stderr",
     "output_type": "stream",
     "text": [
      "100%|████████████████████████████████████████| 43/43 [00:00<00:00, 16758.51it/s]\n"
     ]
    },
    {
     "name": "stdout",
     "output_type": "stream",
     "text": [
      "Analysis run on 28 entities from 17 out of 43 input genes\n"
     ]
    },
    {
     "name": "stderr",
     "output_type": "stream",
     "text": [
      "100%|████████████████████████████████████████| 43/43 [00:00<00:00, 16653.28it/s]\n",
      "100%|████████████████████████████████████████| 43/43 [00:00<00:00, 16487.35it/s]\n"
     ]
    },
    {
     "name": "stdout",
     "output_type": "stream",
     "text": [
      "Standard method yields 0 results, 0 of which are unique\n"
     ]
    },
    {
     "data": {
      "text/html": [
       "<div>\n",
       "<style scoped>\n",
       "    .dataframe tbody tr th:only-of-type {\n",
       "        vertical-align: middle;\n",
       "    }\n",
       "\n",
       "    .dataframe tbody tr th {\n",
       "        vertical-align: top;\n",
       "    }\n",
       "\n",
       "    .dataframe thead th {\n",
       "        text-align: right;\n",
       "    }\n",
       "</style>\n",
       "<table border=\"1\" class=\"dataframe\">\n",
       "  <thead>\n",
       "    <tr style=\"text-align: right;\">\n",
       "      <th></th>\n",
       "    </tr>\n",
       "  </thead>\n",
       "  <tbody>\n",
       "  </tbody>\n",
       "</table>\n",
       "</div>"
      ],
      "text/plain": [
       "Empty DataFrame\n",
       "Columns: []\n",
       "Index: []"
      ]
     },
     "execution_count": 90,
     "metadata": {},
     "output_type": "execute_result"
    }
   ],
   "source": [
    "down = enrich.enrich_wrapper(f'{genotype}_{cell}_down.csv','Gene Symbol',method='set',FDR = 0.05,fpath = '../test_data/processed/')\n",
    "enrich.compare2standard(down, f'{genotype}_{cell}_down.csv','Gene Symbol',FDR = 0.05)"
   ]
  },
  {
   "cell_type": "code",
   "execution_count": null,
   "id": "bdae1ab1-e6b6-4e25-9722-a94ebe842bdb",
   "metadata": {},
   "outputs": [],
   "source": []
  },
  {
   "cell_type": "markdown",
   "id": "18fb1043-96ab-453c-a72b-7c49251d0b15",
   "metadata": {
    "jp-MarkdownHeadingCollapsed": true,
    "tags": []
   },
   "source": [
    "## Myeloid"
   ]
  },
  {
   "cell_type": "code",
   "execution_count": 20,
   "id": "ae6f2462-b639-47fa-8f17-27443b72329b",
   "metadata": {},
   "outputs": [
    {
     "name": "stdout",
     "output_type": "stream",
     "text": [
      "LMNA up : 187 genes\n",
      "LMNA down : 328 genes\n",
      "PKP2 up : 302 genes\n",
      "PKP2 down : 287 genes\n",
      "RBM20 up : 65 genes\n",
      "RBM20 down : 106 genes\n",
      "TTN up : 181 genes\n",
      "TTN down : 225 genes\n",
      "PVneg up : 139 genes\n",
      "PVneg down : 110 genes\n"
     ]
    }
   ],
   "source": [
    "xls_up = pd.ExcelFile('../test_data/unprocessed/science.abo1984_tables_s1_to_s71/S40_LV_Myeloids_Upregulated_Genes_Disease_Genotypes_All_States.xlsx')\n",
    "xls_down = pd.ExcelFile('../test_data/unprocessed/science.abo1984_tables_s1_to_s71/S41_LV_Myeloids_Upregulated_Genes_Controls_All_States.xlsx')\n",
    "\n",
    "\n",
    "for genotype in ['LMNA','PKP2','RBM20','TTN','PVneg']:\n",
    "    \n",
    "    df_up = pd.read_excel(xls_up,f'{genotype}_control')\n",
    "    df_down = pd.read_excel(xls_down,f'control_{genotype}')\n",
    "    \n",
    "    \n",
    "    for sign, df in {'up':df_up,'down':df_down}.items():\n",
    "        df = df.query(f'logFC > {logFC} and PValue < {PV}')\n",
    "        df['Gene'].to_csv(f'../test_data/processed/{genotype}_MYL_{sign}.csv', header = False, index= False)\n",
    "        print(genotype,sign,':',len(df), 'genes')"
   ]
  },
  {
   "cell_type": "markdown",
   "id": "63014868-701b-4b0c-8705-611d47506fad",
   "metadata": {
    "jp-MarkdownHeadingCollapsed": true,
    "tags": []
   },
   "source": [
    "### LMNA"
   ]
  },
  {
   "cell_type": "code",
   "execution_count": 56,
   "id": "e32bce2e-0917-47c6-b1bf-bc8ad156122b",
   "metadata": {},
   "outputs": [],
   "source": [
    "cell = 'MYL'\n",
    "genotype = 'LMNA'"
   ]
  },
  {
   "cell_type": "code",
   "execution_count": 57,
   "id": "85ac2164-9eee-4050-8e65-df6126766c98",
   "metadata": {},
   "outputs": [
    {
     "name": "stderr",
     "output_type": "stream",
     "text": [
      "100%|██████████████████████████████████████| 208/208 [00:00<00:00, 18303.06it/s]\n"
     ]
    },
    {
     "name": "stdout",
     "output_type": "stream",
     "text": [
      "Analysis run on 74 entities from 48 out of 187 input genes\n"
     ]
    },
    {
     "name": "stderr",
     "output_type": "stream",
     "text": [
      "100%|██████████████████████████████████████| 208/208 [00:00<00:00, 17189.09it/s]\n",
      "100%|██████████████████████████████████████| 208/208 [00:00<00:00, 18040.02it/s]\n"
     ]
    },
    {
     "name": "stdout",
     "output_type": "stream",
     "text": [
      "Standard method yields 0 results, 0 of which are unique\n"
     ]
    },
    {
     "data": {
      "text/html": [
       "<div>\n",
       "<style scoped>\n",
       "    .dataframe tbody tr th:only-of-type {\n",
       "        vertical-align: middle;\n",
       "    }\n",
       "\n",
       "    .dataframe tbody tr th {\n",
       "        vertical-align: top;\n",
       "    }\n",
       "\n",
       "    .dataframe thead th {\n",
       "        text-align: right;\n",
       "    }\n",
       "</style>\n",
       "<table border=\"1\" class=\"dataframe\">\n",
       "  <thead>\n",
       "    <tr style=\"text-align: right;\">\n",
       "      <th></th>\n",
       "      <th>title</th>\n",
       "      <th>pval (uncorrected)</th>\n",
       "      <th># entities in list</th>\n",
       "      <th>#entities in model</th>\n",
       "      <th>shared entities in gocam</th>\n",
       "      <th>url</th>\n",
       "      <th>gene list size</th>\n",
       "    </tr>\n",
       "  </thead>\n",
       "  <tbody>\n",
       "    <tr>\n",
       "      <th>0</th>\n",
       "      <td>Role of phospholipids in phagocytosis - Reactome</td>\n",
       "      <td>2.508766e-09</td>\n",
       "      <td>8</td>\n",
       "      <td>22</td>\n",
       "      <td>[sset:PLC-beta 1/2/3, sset:PLCbz, sset:PL(C)D4:3xCa2+, sset:PKC-delta/epsilon, sset:GNB, sset:PL...</td>\n",
       "      <td>http://model.geneontology.org/R-HSA-2029485</td>\n",
       "      <td>52</td>\n",
       "    </tr>\n",
       "    <tr>\n",
       "      <th>1</th>\n",
       "      <td>DAG and IP3 signaling - Reactome</td>\n",
       "      <td>1.549593e-08</td>\n",
       "      <td>7</td>\n",
       "      <td>18</td>\n",
       "      <td>[sset:PLC-beta 1/2/3, sset:PLCbz, sset:PL(C)D4:3xCa2+, sset:PKC-delta/epsilon, sset:GNB, sset:PL...</td>\n",
       "      <td>http://model.geneontology.org/R-HSA-1489509</td>\n",
       "      <td>45</td>\n",
       "    </tr>\n",
       "    <tr>\n",
       "      <th>2</th>\n",
       "      <td>PLC beta mediated events - Reactome</td>\n",
       "      <td>1.469551e-07</td>\n",
       "      <td>6</td>\n",
       "      <td>15</td>\n",
       "      <td>[sset:PLC-beta 1/2/3, sset:PLCbz, sset:PL(C)D4:3xCa2+, sset:GNB, sset:PLC beta1,2,3, sset:PLC-beta]</td>\n",
       "      <td>http://model.geneontology.org/R-HSA-112043</td>\n",
       "      <td>39</td>\n",
       "    </tr>\n",
       "    <tr>\n",
       "      <th>3</th>\n",
       "      <td>Antigen activates B Cell Receptor (BCR) leading to generation of second messengers - Reactome</td>\n",
       "      <td>2.109556e-07</td>\n",
       "      <td>7</td>\n",
       "      <td>25</td>\n",
       "      <td>[sset:PLC-beta 1/2/3, sset:PLCbz, sset:PL(C)D4:3xCa2+, sset:LYN,FYN,BLK, sset:GNB, sset:PLC beta...</td>\n",
       "      <td>http://model.geneontology.org/R-HSA-983695</td>\n",
       "      <td>145</td>\n",
       "    </tr>\n",
       "    <tr>\n",
       "      <th>4</th>\n",
       "      <td>CLEC7A (Dectin-1) induces NFAT activation - Reactome</td>\n",
       "      <td>1.975895e-06</td>\n",
       "      <td>6</td>\n",
       "      <td>22</td>\n",
       "      <td>[sset:PLC-beta 1/2/3, sset:PLCbz, sset:PL(C)D4:3xCa2+, sset:GNB, sset:PLC beta1,2,3, sset:PLC-beta]</td>\n",
       "      <td>http://model.geneontology.org/R-HSA-5607763</td>\n",
       "      <td>47</td>\n",
       "    </tr>\n",
       "    <tr>\n",
       "      <th>5</th>\n",
       "      <td>Regulation of insulin secretion - Reactome</td>\n",
       "      <td>1.975895e-06</td>\n",
       "      <td>6</td>\n",
       "      <td>22</td>\n",
       "      <td>[sset:PLC-beta 1/2/3, sset:PLCbz, sset:PL(C)D4:3xCa2+, sset:GNB, sset:PLC beta1,2,3, sset:PLC-beta]</td>\n",
       "      <td>http://model.geneontology.org/R-HSA-422356</td>\n",
       "      <td>51</td>\n",
       "    </tr>\n",
       "    <tr>\n",
       "      <th>6</th>\n",
       "      <td>FCERI mediated Ca+2 mobilization - Reactome</td>\n",
       "      <td>5.747889e-06</td>\n",
       "      <td>6</td>\n",
       "      <td>26</td>\n",
       "      <td>[sset:PLC-beta 1/2/3, sset:PLCbz, sset:PL(C)D4:3xCa2+, sset:GNB, sset:PLC beta1,2,3, sset:PLC-beta]</td>\n",
       "      <td>http://model.geneontology.org/R-HSA-2871809</td>\n",
       "      <td>52</td>\n",
       "    </tr>\n",
       "    <tr>\n",
       "      <th>7</th>\n",
       "      <td>SHC1 events in ERBB2 signaling - Reactome</td>\n",
       "      <td>7.268563e-06</td>\n",
       "      <td>4</td>\n",
       "      <td>8</td>\n",
       "      <td>[sset:p-ERBB2 heterodimers, sset:p-Y877-ERBB2 heterodimers, sset:ERBB2 heterodimers, sset:Activa...</td>\n",
       "      <td>http://model.geneontology.org/R-HSA-1250196</td>\n",
       "      <td>21</td>\n",
       "    </tr>\n",
       "    <tr>\n",
       "      <th>8</th>\n",
       "      <td>Ca2+ pathway - Reactome</td>\n",
       "      <td>7.282055e-06</td>\n",
       "      <td>6</td>\n",
       "      <td>27</td>\n",
       "      <td>[sset:PLC-beta 1/2/3, sset:PLCbz, sset:PL(C)D4:3xCa2+, sset:GNB, sset:PLC beta1,2,3, sset:PLC-beta]</td>\n",
       "      <td>http://model.geneontology.org/R-HSA-4086398</td>\n",
       "      <td>57</td>\n",
       "    </tr>\n",
       "    <tr>\n",
       "      <th>9</th>\n",
       "      <td>VEGFR2 mediated cell proliferation - Reactome</td>\n",
       "      <td>7.282055e-06</td>\n",
       "      <td>6</td>\n",
       "      <td>27</td>\n",
       "      <td>[sset:PLC-beta 1/2/3, sset:PLCbz, sset:PL(C)D4:3xCa2+, sset:GNB, sset:PLC beta1,2,3, sset:PLC-beta]</td>\n",
       "      <td>http://model.geneontology.org/R-HSA-5218921</td>\n",
       "      <td>55</td>\n",
       "    </tr>\n",
       "    <tr>\n",
       "      <th>10</th>\n",
       "      <td>Signaling by ERBB2 - Reactome</td>\n",
       "      <td>2.431048e-05</td>\n",
       "      <td>3</td>\n",
       "      <td>4</td>\n",
       "      <td>[sset:p-Y877-ERBB2 heterodimers, sset:ERBB2 heterodimers, sset:p-Y419/420/426-N-myristoyl-SRC/FY...</td>\n",
       "      <td>http://model.geneontology.org/R-HSA-1227986</td>\n",
       "      <td>18</td>\n",
       "    </tr>\n",
       "    <tr>\n",
       "      <th>11</th>\n",
       "      <td>PI3K events in ERBB2 signaling - Reactome</td>\n",
       "      <td>6.917535e-05</td>\n",
       "      <td>4</td>\n",
       "      <td>13</td>\n",
       "      <td>[EGFR, GAB1, sset:p-Y877-ERBB2 heterodimers, sset:ERBB2 heterodimers]</td>\n",
       "      <td>http://model.geneontology.org/R-HSA-1963642</td>\n",
       "      <td>19</td>\n",
       "    </tr>\n",
       "    <tr>\n",
       "      <th>12</th>\n",
       "      <td>PLCG1 events in ERBB2 signaling - Reactome</td>\n",
       "      <td>1.183250e-04</td>\n",
       "      <td>3</td>\n",
       "      <td>6</td>\n",
       "      <td>[EGFR, sset:p-Y877-ERBB2 heterodimers, sset:ERBB2 heterodimers]</td>\n",
       "      <td>http://model.geneontology.org/R-HSA-1251932</td>\n",
       "      <td>16</td>\n",
       "    </tr>\n",
       "    <tr>\n",
       "      <th>13</th>\n",
       "      <td>Response to elevated platelet cytosolic Ca2+ - Reactome</td>\n",
       "      <td>3.225254e-04</td>\n",
       "      <td>3</td>\n",
       "      <td>8</td>\n",
       "      <td>[sset:PLC-beta 1/2/3, sset:GNB, sset:PLC-beta]</td>\n",
       "      <td>http://model.geneontology.org/R-HSA-76005</td>\n",
       "      <td>35</td>\n",
       "    </tr>\n",
       "    <tr>\n",
       "      <th>14</th>\n",
       "      <td>Arachidonate production from DAG - Reactome</td>\n",
       "      <td>3.225254e-04</td>\n",
       "      <td>3</td>\n",
       "      <td>8</td>\n",
       "      <td>[sset:PLC-beta 1/2/3, sset:GNB, sset:PLC-beta]</td>\n",
       "      <td>http://model.geneontology.org/R-HSA-426048</td>\n",
       "      <td>27</td>\n",
       "    </tr>\n",
       "    <tr>\n",
       "      <th>15</th>\n",
       "      <td>Effects of PIP2 hydrolysis - Reactome</td>\n",
       "      <td>3.225254e-04</td>\n",
       "      <td>3</td>\n",
       "      <td>8</td>\n",
       "      <td>[sset:PLC-beta 1/2/3, sset:GNB, sset:PLC-beta]</td>\n",
       "      <td>http://model.geneontology.org/R-HSA-114508</td>\n",
       "      <td>36</td>\n",
       "    </tr>\n",
       "    <tr>\n",
       "      <th>16</th>\n",
       "      <td>RAC1 GTPase cycle - Reactome</td>\n",
       "      <td>3.405987e-04</td>\n",
       "      <td>2</td>\n",
       "      <td>2</td>\n",
       "      <td>[sset:RAC1 GAPs, sset:RAC1 GEFs]</td>\n",
       "      <td>http://model.geneontology.org/R-HSA-9013149</td>\n",
       "      <td>100</td>\n",
       "    </tr>\n",
       "    <tr>\n",
       "      <th>17</th>\n",
       "      <td>CD28 dependent Vav1 pathway - Reactome</td>\n",
       "      <td>4.773383e-04</td>\n",
       "      <td>3</td>\n",
       "      <td>9</td>\n",
       "      <td>[FYN, sset:ELMO1,ELMO2, sset:Src family tyrosine kinases (SFKs)]</td>\n",
       "      <td>http://model.geneontology.org/R-HSA-389359</td>\n",
       "      <td>13</td>\n",
       "    </tr>\n",
       "    <tr>\n",
       "      <th>18</th>\n",
       "      <td>G alpha (z) signalling events - Reactome</td>\n",
       "      <td>6.728273e-04</td>\n",
       "      <td>3</td>\n",
       "      <td>10</td>\n",
       "      <td>[sset:Protein kinase C conventional and novel isoforms, sset:Ligand:GPCR complexes that activate...</td>\n",
       "      <td>http://model.geneontology.org/R-HSA-418597</td>\n",
       "      <td>234</td>\n",
       "    </tr>\n",
       "  </tbody>\n",
       "</table>\n",
       "</div>"
      ],
      "text/plain": [
       "                                                                                            title  \\\n",
       "0                                                Role of phospholipids in phagocytosis - Reactome   \n",
       "1                                                                DAG and IP3 signaling - Reactome   \n",
       "2                                                             PLC beta mediated events - Reactome   \n",
       "3   Antigen activates B Cell Receptor (BCR) leading to generation of second messengers - Reactome   \n",
       "4                                            CLEC7A (Dectin-1) induces NFAT activation - Reactome   \n",
       "5                                                      Regulation of insulin secretion - Reactome   \n",
       "6                                                     FCERI mediated Ca+2 mobilization - Reactome   \n",
       "7                                                       SHC1 events in ERBB2 signaling - Reactome   \n",
       "8                                                                         Ca2+ pathway - Reactome   \n",
       "9                                                   VEGFR2 mediated cell proliferation - Reactome   \n",
       "10                                                                  Signaling by ERBB2 - Reactome   \n",
       "11                                                      PI3K events in ERBB2 signaling - Reactome   \n",
       "12                                                     PLCG1 events in ERBB2 signaling - Reactome   \n",
       "13                                        Response to elevated platelet cytosolic Ca2+ - Reactome   \n",
       "14                                                    Arachidonate production from DAG - Reactome   \n",
       "15                                                          Effects of PIP2 hydrolysis - Reactome   \n",
       "16                                                                   RAC1 GTPase cycle - Reactome   \n",
       "17                                                         CD28 dependent Vav1 pathway - Reactome   \n",
       "18                                                       G alpha (z) signalling events - Reactome   \n",
       "\n",
       "    pval (uncorrected)  # entities in list  #entities in model  \\\n",
       "0         2.508766e-09                   8                  22   \n",
       "1         1.549593e-08                   7                  18   \n",
       "2         1.469551e-07                   6                  15   \n",
       "3         2.109556e-07                   7                  25   \n",
       "4         1.975895e-06                   6                  22   \n",
       "5         1.975895e-06                   6                  22   \n",
       "6         5.747889e-06                   6                  26   \n",
       "7         7.268563e-06                   4                   8   \n",
       "8         7.282055e-06                   6                  27   \n",
       "9         7.282055e-06                   6                  27   \n",
       "10        2.431048e-05                   3                   4   \n",
       "11        6.917535e-05                   4                  13   \n",
       "12        1.183250e-04                   3                   6   \n",
       "13        3.225254e-04                   3                   8   \n",
       "14        3.225254e-04                   3                   8   \n",
       "15        3.225254e-04                   3                   8   \n",
       "16        3.405987e-04                   2                   2   \n",
       "17        4.773383e-04                   3                   9   \n",
       "18        6.728273e-04                   3                  10   \n",
       "\n",
       "                                                                               shared entities in gocam  \\\n",
       "0   [sset:PLC-beta 1/2/3, sset:PLCbz, sset:PL(C)D4:3xCa2+, sset:PKC-delta/epsilon, sset:GNB, sset:PL...   \n",
       "1   [sset:PLC-beta 1/2/3, sset:PLCbz, sset:PL(C)D4:3xCa2+, sset:PKC-delta/epsilon, sset:GNB, sset:PL...   \n",
       "2   [sset:PLC-beta 1/2/3, sset:PLCbz, sset:PL(C)D4:3xCa2+, sset:GNB, sset:PLC beta1,2,3, sset:PLC-beta]   \n",
       "3   [sset:PLC-beta 1/2/3, sset:PLCbz, sset:PL(C)D4:3xCa2+, sset:LYN,FYN,BLK, sset:GNB, sset:PLC beta...   \n",
       "4   [sset:PLC-beta 1/2/3, sset:PLCbz, sset:PL(C)D4:3xCa2+, sset:GNB, sset:PLC beta1,2,3, sset:PLC-beta]   \n",
       "5   [sset:PLC-beta 1/2/3, sset:PLCbz, sset:PL(C)D4:3xCa2+, sset:GNB, sset:PLC beta1,2,3, sset:PLC-beta]   \n",
       "6   [sset:PLC-beta 1/2/3, sset:PLCbz, sset:PL(C)D4:3xCa2+, sset:GNB, sset:PLC beta1,2,3, sset:PLC-beta]   \n",
       "7   [sset:p-ERBB2 heterodimers, sset:p-Y877-ERBB2 heterodimers, sset:ERBB2 heterodimers, sset:Activa...   \n",
       "8   [sset:PLC-beta 1/2/3, sset:PLCbz, sset:PL(C)D4:3xCa2+, sset:GNB, sset:PLC beta1,2,3, sset:PLC-beta]   \n",
       "9   [sset:PLC-beta 1/2/3, sset:PLCbz, sset:PL(C)D4:3xCa2+, sset:GNB, sset:PLC beta1,2,3, sset:PLC-beta]   \n",
       "10  [sset:p-Y877-ERBB2 heterodimers, sset:ERBB2 heterodimers, sset:p-Y419/420/426-N-myristoyl-SRC/FY...   \n",
       "11                                [EGFR, GAB1, sset:p-Y877-ERBB2 heterodimers, sset:ERBB2 heterodimers]   \n",
       "12                                      [EGFR, sset:p-Y877-ERBB2 heterodimers, sset:ERBB2 heterodimers]   \n",
       "13                                                       [sset:PLC-beta 1/2/3, sset:GNB, sset:PLC-beta]   \n",
       "14                                                       [sset:PLC-beta 1/2/3, sset:GNB, sset:PLC-beta]   \n",
       "15                                                       [sset:PLC-beta 1/2/3, sset:GNB, sset:PLC-beta]   \n",
       "16                                                                     [sset:RAC1 GAPs, sset:RAC1 GEFs]   \n",
       "17                                     [FYN, sset:ELMO1,ELMO2, sset:Src family tyrosine kinases (SFKs)]   \n",
       "18  [sset:Protein kinase C conventional and novel isoforms, sset:Ligand:GPCR complexes that activate...   \n",
       "\n",
       "                                            url  gene list size  \n",
       "0   http://model.geneontology.org/R-HSA-2029485              52  \n",
       "1   http://model.geneontology.org/R-HSA-1489509              45  \n",
       "2    http://model.geneontology.org/R-HSA-112043              39  \n",
       "3    http://model.geneontology.org/R-HSA-983695             145  \n",
       "4   http://model.geneontology.org/R-HSA-5607763              47  \n",
       "5    http://model.geneontology.org/R-HSA-422356              51  \n",
       "6   http://model.geneontology.org/R-HSA-2871809              52  \n",
       "7   http://model.geneontology.org/R-HSA-1250196              21  \n",
       "8   http://model.geneontology.org/R-HSA-4086398              57  \n",
       "9   http://model.geneontology.org/R-HSA-5218921              55  \n",
       "10  http://model.geneontology.org/R-HSA-1227986              18  \n",
       "11  http://model.geneontology.org/R-HSA-1963642              19  \n",
       "12  http://model.geneontology.org/R-HSA-1251932              16  \n",
       "13    http://model.geneontology.org/R-HSA-76005              35  \n",
       "14   http://model.geneontology.org/R-HSA-426048              27  \n",
       "15   http://model.geneontology.org/R-HSA-114508              36  \n",
       "16  http://model.geneontology.org/R-HSA-9013149             100  \n",
       "17   http://model.geneontology.org/R-HSA-389359              13  \n",
       "18   http://model.geneontology.org/R-HSA-418597             234  "
      ]
     },
     "execution_count": 57,
     "metadata": {},
     "output_type": "execute_result"
    }
   ],
   "source": [
    "up = enrich.enrich_wrapper(f'{genotype}_{cell}_up.csv','Gene Symbol',method='set',FDR = 0.05,fpath = '../test_data/processed/')\n",
    "enrich.compare2standard(up, f'{genotype}_{cell}_up.csv','Gene Symbol',FDR = 0.05)"
   ]
  },
  {
   "cell_type": "code",
   "execution_count": 58,
   "id": "420f6b5c-a498-4a83-83ea-d9a8ee49aad6",
   "metadata": {},
   "outputs": [
    {
     "name": "stderr",
     "output_type": "stream",
     "text": [
      "100%|██████████████████████████████████████| 269/269 [00:00<00:00, 18412.88it/s]\n"
     ]
    },
    {
     "name": "stdout",
     "output_type": "stream",
     "text": [
      "Analysis run on 132 entities from 91 out of 328 input genes\n"
     ]
    },
    {
     "name": "stderr",
     "output_type": "stream",
     "text": [
      "100%|██████████████████████████████████████| 269/269 [00:00<00:00, 17950.04it/s]\n",
      "100%|██████████████████████████████████████| 269/269 [00:00<00:00, 16500.93it/s]\n"
     ]
    },
    {
     "name": "stdout",
     "output_type": "stream",
     "text": [
      "Standard method yields 1 results, 0 of which are unique\n"
     ]
    },
    {
     "data": {
      "text/html": [
       "<div>\n",
       "<style scoped>\n",
       "    .dataframe tbody tr th:only-of-type {\n",
       "        vertical-align: middle;\n",
       "    }\n",
       "\n",
       "    .dataframe tbody tr th {\n",
       "        vertical-align: top;\n",
       "    }\n",
       "\n",
       "    .dataframe thead th {\n",
       "        text-align: right;\n",
       "    }\n",
       "</style>\n",
       "<table border=\"1\" class=\"dataframe\">\n",
       "  <thead>\n",
       "    <tr style=\"text-align: right;\">\n",
       "      <th></th>\n",
       "      <th>title</th>\n",
       "      <th>pval (uncorrected)</th>\n",
       "      <th># entities in list</th>\n",
       "      <th>#entities in model</th>\n",
       "      <th>shared entities in gocam</th>\n",
       "      <th>url</th>\n",
       "    </tr>\n",
       "  </thead>\n",
       "  <tbody>\n",
       "  </tbody>\n",
       "</table>\n",
       "</div>"
      ],
      "text/plain": [
       "Empty DataFrame\n",
       "Columns: [title, pval (uncorrected), # entities in list, #entities in model, shared entities in gocam, url]\n",
       "Index: []"
      ]
     },
     "execution_count": 58,
     "metadata": {},
     "output_type": "execute_result"
    }
   ],
   "source": [
    "down = enrich.enrich_wrapper(f'{genotype}_{cell}_down.csv','Gene Symbol',method='set',FDR = 0.05,fpath = '../test_data/processed/')\n",
    "enrich.compare2standard(down, f'{genotype}_{cell}_down.csv','Gene Symbol',FDR = 0.05)"
   ]
  },
  {
   "cell_type": "markdown",
   "id": "e9565f51-250c-4a59-a05b-6ebfbd56670e",
   "metadata": {
    "jp-MarkdownHeadingCollapsed": true,
    "tags": []
   },
   "source": [
    "### PKP2"
   ]
  },
  {
   "cell_type": "code",
   "execution_count": 59,
   "id": "d8b09ffb-d7d0-4e34-8f9e-63d21c148615",
   "metadata": {},
   "outputs": [],
   "source": [
    "cell = 'MYL'\n",
    "genotype = 'PKP2'"
   ]
  },
  {
   "cell_type": "code",
   "execution_count": 60,
   "id": "1a6ced58-8713-429e-ace7-789e14e5f113",
   "metadata": {},
   "outputs": [
    {
     "name": "stderr",
     "output_type": "stream",
     "text": [
      "100%|██████████████████████████████████████| 249/249 [00:00<00:00, 17868.56it/s]\n"
     ]
    },
    {
     "name": "stdout",
     "output_type": "stream",
     "text": [
      "Analysis run on 108 entities from 73 out of 302 input genes\n"
     ]
    },
    {
     "name": "stderr",
     "output_type": "stream",
     "text": [
      "100%|██████████████████████████████████████| 249/249 [00:00<00:00, 17956.12it/s]\n",
      "100%|██████████████████████████████████████| 249/249 [00:00<00:00, 17793.06it/s]\n"
     ]
    },
    {
     "name": "stdout",
     "output_type": "stream",
     "text": [
      "Standard method yields 0 results, 0 of which are unique\n"
     ]
    },
    {
     "data": {
      "text/html": [
       "<div>\n",
       "<style scoped>\n",
       "    .dataframe tbody tr th:only-of-type {\n",
       "        vertical-align: middle;\n",
       "    }\n",
       "\n",
       "    .dataframe tbody tr th {\n",
       "        vertical-align: top;\n",
       "    }\n",
       "\n",
       "    .dataframe thead th {\n",
       "        text-align: right;\n",
       "    }\n",
       "</style>\n",
       "<table border=\"1\" class=\"dataframe\">\n",
       "  <thead>\n",
       "    <tr style=\"text-align: right;\">\n",
       "      <th></th>\n",
       "      <th>title</th>\n",
       "      <th>pval (uncorrected)</th>\n",
       "      <th># entities in list</th>\n",
       "      <th>#entities in model</th>\n",
       "      <th>shared entities in gocam</th>\n",
       "      <th>url</th>\n",
       "      <th>gene list size</th>\n",
       "    </tr>\n",
       "  </thead>\n",
       "  <tbody>\n",
       "    <tr>\n",
       "      <th>0</th>\n",
       "      <td>SHC1 events in ERBB2 signaling - Reactome</td>\n",
       "      <td>0.000033</td>\n",
       "      <td>4</td>\n",
       "      <td>8</td>\n",
       "      <td>[sset:p-ERBB2 heterodimers, sset:p-Y877-ERBB2 heterodimers, sset:ERBB2 heterodimers, sset:Activa...</td>\n",
       "      <td>http://model.geneontology.org/R-HSA-1250196</td>\n",
       "      <td>21</td>\n",
       "    </tr>\n",
       "    <tr>\n",
       "      <th>1</th>\n",
       "      <td>Signaling by ERBB2 - Reactome</td>\n",
       "      <td>0.000076</td>\n",
       "      <td>3</td>\n",
       "      <td>4</td>\n",
       "      <td>[sset:p-Y877-ERBB2 heterodimers, sset:ERBB2 heterodimers, sset:p-Y419/420/426-N-myristoyl-SRC/FY...</td>\n",
       "      <td>http://model.geneontology.org/R-HSA-1227986</td>\n",
       "      <td>18</td>\n",
       "    </tr>\n",
       "  </tbody>\n",
       "</table>\n",
       "</div>"
      ],
      "text/plain": [
       "                                       title  pval (uncorrected)  \\\n",
       "0  SHC1 events in ERBB2 signaling - Reactome            0.000033   \n",
       "1              Signaling by ERBB2 - Reactome            0.000076   \n",
       "\n",
       "   # entities in list  #entities in model  \\\n",
       "0                   4                   8   \n",
       "1                   3                   4   \n",
       "\n",
       "                                                                              shared entities in gocam  \\\n",
       "0  [sset:p-ERBB2 heterodimers, sset:p-Y877-ERBB2 heterodimers, sset:ERBB2 heterodimers, sset:Activa...   \n",
       "1  [sset:p-Y877-ERBB2 heterodimers, sset:ERBB2 heterodimers, sset:p-Y419/420/426-N-myristoyl-SRC/FY...   \n",
       "\n",
       "                                           url  gene list size  \n",
       "0  http://model.geneontology.org/R-HSA-1250196              21  \n",
       "1  http://model.geneontology.org/R-HSA-1227986              18  "
      ]
     },
     "execution_count": 60,
     "metadata": {},
     "output_type": "execute_result"
    }
   ],
   "source": [
    "up = enrich.enrich_wrapper(f'{genotype}_{cell}_up.csv','Gene Symbol',method='set',FDR = 0.05,fpath = '../test_data/processed/')\n",
    "enrich.compare2standard(up, f'{genotype}_{cell}_up.csv','Gene Symbol',FDR = 0.05)"
   ]
  },
  {
   "cell_type": "code",
   "execution_count": 61,
   "id": "0b7054c6-2188-4491-a824-7b40f4475b75",
   "metadata": {},
   "outputs": [
    {
     "name": "stderr",
     "output_type": "stream",
     "text": [
      "100%|██████████████████████████████████████| 151/151 [00:00<00:00, 18194.72it/s]\n"
     ]
    },
    {
     "name": "stdout",
     "output_type": "stream",
     "text": [
      "Analysis run on 104 entities from 68 out of 287 input genes\n"
     ]
    },
    {
     "name": "stderr",
     "output_type": "stream",
     "text": [
      "100%|██████████████████████████████████████| 151/151 [00:00<00:00, 17660.47it/s]\n",
      "100%|██████████████████████████████████████| 151/151 [00:00<00:00, 18036.16it/s]\n"
     ]
    },
    {
     "name": "stdout",
     "output_type": "stream",
     "text": [
      "Standard method yields 0 results, 0 of which are unique\n"
     ]
    },
    {
     "data": {
      "text/html": [
       "<div>\n",
       "<style scoped>\n",
       "    .dataframe tbody tr th:only-of-type {\n",
       "        vertical-align: middle;\n",
       "    }\n",
       "\n",
       "    .dataframe tbody tr th {\n",
       "        vertical-align: top;\n",
       "    }\n",
       "\n",
       "    .dataframe thead th {\n",
       "        text-align: right;\n",
       "    }\n",
       "</style>\n",
       "<table border=\"1\" class=\"dataframe\">\n",
       "  <thead>\n",
       "    <tr style=\"text-align: right;\">\n",
       "      <th></th>\n",
       "    </tr>\n",
       "  </thead>\n",
       "  <tbody>\n",
       "  </tbody>\n",
       "</table>\n",
       "</div>"
      ],
      "text/plain": [
       "Empty DataFrame\n",
       "Columns: []\n",
       "Index: []"
      ]
     },
     "execution_count": 61,
     "metadata": {},
     "output_type": "execute_result"
    }
   ],
   "source": [
    "down = enrich.enrich_wrapper(f'{genotype}_{cell}_down.csv','Gene Symbol',method='set',FDR = 0.05,fpath = '../test_data/processed/')\n",
    "enrich.compare2standard(down, f'{genotype}_{cell}_down.csv','Gene Symbol',FDR = 0.05)"
   ]
  },
  {
   "cell_type": "markdown",
   "id": "9d1f5c69-d26f-436a-ac4c-93036c36d6e7",
   "metadata": {
    "jp-MarkdownHeadingCollapsed": true,
    "tags": []
   },
   "source": [
    "### RBM20"
   ]
  },
  {
   "cell_type": "code",
   "execution_count": 62,
   "id": "d2481731-0f2e-4b76-9250-ac0b00cb9a03",
   "metadata": {},
   "outputs": [],
   "source": [
    "cell = 'MYL'\n",
    "genotype = 'RBM20'"
   ]
  },
  {
   "cell_type": "code",
   "execution_count": 63,
   "id": "d213fcbf-acae-4a06-baa9-bb8f1f147482",
   "metadata": {},
   "outputs": [
    {
     "name": "stderr",
     "output_type": "stream",
     "text": [
      "100%|████████████████████████████████████████| 99/99 [00:00<00:00, 16903.57it/s]\n"
     ]
    },
    {
     "name": "stdout",
     "output_type": "stream",
     "text": [
      "Analysis run on 26 entities from 15 out of 65 input genes\n"
     ]
    },
    {
     "name": "stderr",
     "output_type": "stream",
     "text": [
      "100%|████████████████████████████████████████| 99/99 [00:00<00:00, 17074.55it/s]\n",
      "100%|████████████████████████████████████████| 99/99 [00:00<00:00, 16264.00it/s]\n"
     ]
    },
    {
     "name": "stdout",
     "output_type": "stream",
     "text": [
      "Standard method yields 0 results, 0 of which are unique\n"
     ]
    },
    {
     "data": {
      "text/html": [
       "<div>\n",
       "<style scoped>\n",
       "    .dataframe tbody tr th:only-of-type {\n",
       "        vertical-align: middle;\n",
       "    }\n",
       "\n",
       "    .dataframe tbody tr th {\n",
       "        vertical-align: top;\n",
       "    }\n",
       "\n",
       "    .dataframe thead th {\n",
       "        text-align: right;\n",
       "    }\n",
       "</style>\n",
       "<table border=\"1\" class=\"dataframe\">\n",
       "  <thead>\n",
       "    <tr style=\"text-align: right;\">\n",
       "      <th></th>\n",
       "    </tr>\n",
       "  </thead>\n",
       "  <tbody>\n",
       "  </tbody>\n",
       "</table>\n",
       "</div>"
      ],
      "text/plain": [
       "Empty DataFrame\n",
       "Columns: []\n",
       "Index: []"
      ]
     },
     "execution_count": 63,
     "metadata": {},
     "output_type": "execute_result"
    }
   ],
   "source": [
    "up = enrich.enrich_wrapper(f'{genotype}_{cell}_up.csv','Gene Symbol',method='set',FDR = 0.05,fpath = '../test_data/processed/')\n",
    "enrich.compare2standard(up, f'{genotype}_{cell}_up.csv','Gene Symbol',FDR = 0.05)"
   ]
  },
  {
   "cell_type": "code",
   "execution_count": 64,
   "id": "1abe9fb4-f7c9-4863-9966-6be528ea1d1e",
   "metadata": {},
   "outputs": [
    {
     "name": "stderr",
     "output_type": "stream",
     "text": [
      "100%|██████████████████████████████████████| 117/117 [00:00<00:00, 17835.78it/s]\n"
     ]
    },
    {
     "name": "stdout",
     "output_type": "stream",
     "text": [
      "Analysis run on 47 entities from 39 out of 106 input genes\n"
     ]
    },
    {
     "name": "stderr",
     "output_type": "stream",
     "text": [
      "100%|██████████████████████████████████████| 117/117 [00:00<00:00, 15878.78it/s]\n",
      "100%|██████████████████████████████████████| 117/117 [00:00<00:00, 17646.57it/s]\n"
     ]
    },
    {
     "name": "stdout",
     "output_type": "stream",
     "text": [
      "Standard method yields 1 results, 0 of which are unique\n"
     ]
    },
    {
     "data": {
      "text/html": [
       "<div>\n",
       "<style scoped>\n",
       "    .dataframe tbody tr th:only-of-type {\n",
       "        vertical-align: middle;\n",
       "    }\n",
       "\n",
       "    .dataframe tbody tr th {\n",
       "        vertical-align: top;\n",
       "    }\n",
       "\n",
       "    .dataframe thead th {\n",
       "        text-align: right;\n",
       "    }\n",
       "</style>\n",
       "<table border=\"1\" class=\"dataframe\">\n",
       "  <thead>\n",
       "    <tr style=\"text-align: right;\">\n",
       "      <th></th>\n",
       "      <th>title</th>\n",
       "      <th>pval (uncorrected)</th>\n",
       "      <th># entities in list</th>\n",
       "      <th>#entities in model</th>\n",
       "      <th>shared entities in gocam</th>\n",
       "      <th>url</th>\n",
       "    </tr>\n",
       "  </thead>\n",
       "  <tbody>\n",
       "  </tbody>\n",
       "</table>\n",
       "</div>"
      ],
      "text/plain": [
       "Empty DataFrame\n",
       "Columns: [title, pval (uncorrected), # entities in list, #entities in model, shared entities in gocam, url]\n",
       "Index: []"
      ]
     },
     "execution_count": 64,
     "metadata": {},
     "output_type": "execute_result"
    }
   ],
   "source": [
    "down = enrich.enrich_wrapper(f'{genotype}_{cell}_down.csv','Gene Symbol',method='set',FDR = 0.05,fpath = '../test_data/processed/')\n",
    "enrich.compare2standard(down, f'{genotype}_{cell}_down.csv','Gene Symbol',FDR = 0.05)"
   ]
  },
  {
   "cell_type": "markdown",
   "id": "0093b414-759b-41ab-8094-665038167f31",
   "metadata": {
    "jp-MarkdownHeadingCollapsed": true,
    "tags": []
   },
   "source": [
    "### TTN"
   ]
  },
  {
   "cell_type": "code",
   "execution_count": 65,
   "id": "b8efbf6b-afe2-49c8-9889-4d1f7a5a1c30",
   "metadata": {},
   "outputs": [],
   "source": [
    "cell = 'MYL'\n",
    "genotype = 'TTN'"
   ]
  },
  {
   "cell_type": "code",
   "execution_count": 66,
   "id": "a335b16e-f5ca-4940-8f26-65cfcb568921",
   "metadata": {},
   "outputs": [
    {
     "name": "stderr",
     "output_type": "stream",
     "text": [
      "100%|██████████████████████████████████████| 161/161 [00:00<00:00, 18007.06it/s]\n"
     ]
    },
    {
     "name": "stdout",
     "output_type": "stream",
     "text": [
      "Analysis run on 57 entities from 45 out of 181 input genes\n"
     ]
    },
    {
     "name": "stderr",
     "output_type": "stream",
     "text": [
      "100%|██████████████████████████████████████| 161/161 [00:00<00:00, 17713.27it/s]\n",
      "100%|██████████████████████████████████████| 161/161 [00:00<00:00, 16535.25it/s]\n"
     ]
    },
    {
     "name": "stdout",
     "output_type": "stream",
     "text": [
      "Standard method yields 0 results, 0 of which are unique\n"
     ]
    },
    {
     "data": {
      "text/html": [
       "<div>\n",
       "<style scoped>\n",
       "    .dataframe tbody tr th:only-of-type {\n",
       "        vertical-align: middle;\n",
       "    }\n",
       "\n",
       "    .dataframe tbody tr th {\n",
       "        vertical-align: top;\n",
       "    }\n",
       "\n",
       "    .dataframe thead th {\n",
       "        text-align: right;\n",
       "    }\n",
       "</style>\n",
       "<table border=\"1\" class=\"dataframe\">\n",
       "  <thead>\n",
       "    <tr style=\"text-align: right;\">\n",
       "      <th></th>\n",
       "      <th>title</th>\n",
       "      <th>pval (uncorrected)</th>\n",
       "      <th># entities in list</th>\n",
       "      <th>#entities in model</th>\n",
       "      <th>shared entities in gocam</th>\n",
       "      <th>url</th>\n",
       "      <th>gene list size</th>\n",
       "    </tr>\n",
       "  </thead>\n",
       "  <tbody>\n",
       "    <tr>\n",
       "      <th>0</th>\n",
       "      <td>CLEC7A (Dectin-1) induces NFAT activation - Reactome</td>\n",
       "      <td>4.106716e-07</td>\n",
       "      <td>6</td>\n",
       "      <td>22</td>\n",
       "      <td>[TRPC1, sset:PLC-beta 1/2/3, sset:PLCbz, sset:GNB, sset:PLC beta1,2,3, sset:PLC-beta]</td>\n",
       "      <td>http://model.geneontology.org/R-HSA-5607763</td>\n",
       "      <td>47</td>\n",
       "    </tr>\n",
       "    <tr>\n",
       "      <th>1</th>\n",
       "      <td>Antigen activates B Cell Receptor (BCR) leading to generation of second messengers - Reactome</td>\n",
       "      <td>9.429803e-07</td>\n",
       "      <td>6</td>\n",
       "      <td>25</td>\n",
       "      <td>[TRPC1, sset:PLC-beta 1/2/3, sset:PLCbz, sset:GNB, sset:PLC beta1,2,3, sset:PLC-beta]</td>\n",
       "      <td>http://model.geneontology.org/R-HSA-983695</td>\n",
       "      <td>145</td>\n",
       "    </tr>\n",
       "    <tr>\n",
       "      <th>2</th>\n",
       "      <td>FCERI mediated Ca+2 mobilization - Reactome</td>\n",
       "      <td>1.212404e-06</td>\n",
       "      <td>6</td>\n",
       "      <td>26</td>\n",
       "      <td>[TRPC1, sset:PLC-beta 1/2/3, sset:PLCbz, sset:GNB, sset:PLC beta1,2,3, sset:PLC-beta]</td>\n",
       "      <td>http://model.geneontology.org/R-HSA-2871809</td>\n",
       "      <td>52</td>\n",
       "    </tr>\n",
       "    <tr>\n",
       "      <th>3</th>\n",
       "      <td>PLC beta mediated events - Reactome</td>\n",
       "      <td>1.352519e-06</td>\n",
       "      <td>5</td>\n",
       "      <td>15</td>\n",
       "      <td>[sset:PLC-beta 1/2/3, sset:PLCbz, sset:GNB, sset:PLC beta1,2,3, sset:PLC-beta]</td>\n",
       "      <td>http://model.geneontology.org/R-HSA-112043</td>\n",
       "      <td>39</td>\n",
       "    </tr>\n",
       "    <tr>\n",
       "      <th>4</th>\n",
       "      <td>VEGFR2 mediated cell proliferation - Reactome</td>\n",
       "      <td>1.541678e-06</td>\n",
       "      <td>6</td>\n",
       "      <td>27</td>\n",
       "      <td>[TRPC1, sset:PLC-beta 1/2/3, sset:PLCbz, sset:GNB, sset:PLC beta1,2,3, sset:PLC-beta]</td>\n",
       "      <td>http://model.geneontology.org/R-HSA-5218921</td>\n",
       "      <td>55</td>\n",
       "    </tr>\n",
       "    <tr>\n",
       "      <th>5</th>\n",
       "      <td>DAG and IP3 signaling - Reactome</td>\n",
       "      <td>3.734337e-06</td>\n",
       "      <td>5</td>\n",
       "      <td>18</td>\n",
       "      <td>[sset:PLC-beta 1/2/3, sset:PLCbz, sset:GNB, sset:PLC beta1,2,3, sset:PLC-beta]</td>\n",
       "      <td>http://model.geneontology.org/R-HSA-1489509</td>\n",
       "      <td>45</td>\n",
       "    </tr>\n",
       "    <tr>\n",
       "      <th>6</th>\n",
       "      <td>Role of phospholipids in phagocytosis - Reactome</td>\n",
       "      <td>1.098634e-05</td>\n",
       "      <td>5</td>\n",
       "      <td>22</td>\n",
       "      <td>[sset:PLC-beta 1/2/3, sset:PLCbz, sset:GNB, sset:PLC beta1,2,3, sset:PLC-beta]</td>\n",
       "      <td>http://model.geneontology.org/R-HSA-2029485</td>\n",
       "      <td>52</td>\n",
       "    </tr>\n",
       "    <tr>\n",
       "      <th>7</th>\n",
       "      <td>Regulation of insulin secretion - Reactome</td>\n",
       "      <td>1.098634e-05</td>\n",
       "      <td>5</td>\n",
       "      <td>22</td>\n",
       "      <td>[sset:PLC-beta 1/2/3, sset:PLCbz, sset:GNB, sset:PLC beta1,2,3, sset:PLC-beta]</td>\n",
       "      <td>http://model.geneontology.org/R-HSA-422356</td>\n",
       "      <td>51</td>\n",
       "    </tr>\n",
       "    <tr>\n",
       "      <th>8</th>\n",
       "      <td>G alpha (s) signalling events - Reactome</td>\n",
       "      <td>1.155052e-05</td>\n",
       "      <td>4</td>\n",
       "      <td>11</td>\n",
       "      <td>[PDE3B, sset:cAMP PDEs, sset:GNB, sset:Ligand:GPCR complexes that activate Gs]</td>\n",
       "      <td>http://model.geneontology.org/R-HSA-418555</td>\n",
       "      <td>139</td>\n",
       "    </tr>\n",
       "    <tr>\n",
       "      <th>9</th>\n",
       "      <td>Ca2+ pathway - Reactome</td>\n",
       "      <td>3.188866e-05</td>\n",
       "      <td>5</td>\n",
       "      <td>27</td>\n",
       "      <td>[sset:PLC-beta 1/2/3, sset:PLCbz, sset:GNB, sset:PLC beta1,2,3, sset:PLC-beta]</td>\n",
       "      <td>http://model.geneontology.org/R-HSA-4086398</td>\n",
       "      <td>57</td>\n",
       "    </tr>\n",
       "    <tr>\n",
       "      <th>10</th>\n",
       "      <td>Arachidonate production from DAG - Reactome</td>\n",
       "      <td>1.479523e-04</td>\n",
       "      <td>3</td>\n",
       "      <td>8</td>\n",
       "      <td>[sset:PLC-beta 1/2/3, sset:GNB, sset:PLC-beta]</td>\n",
       "      <td>http://model.geneontology.org/R-HSA-426048</td>\n",
       "      <td>27</td>\n",
       "    </tr>\n",
       "    <tr>\n",
       "      <th>11</th>\n",
       "      <td>Effects of PIP2 hydrolysis - Reactome</td>\n",
       "      <td>1.479523e-04</td>\n",
       "      <td>3</td>\n",
       "      <td>8</td>\n",
       "      <td>[sset:PLC-beta 1/2/3, sset:GNB, sset:PLC-beta]</td>\n",
       "      <td>http://model.geneontology.org/R-HSA-114508</td>\n",
       "      <td>36</td>\n",
       "    </tr>\n",
       "    <tr>\n",
       "      <th>12</th>\n",
       "      <td>Response to elevated platelet cytosolic Ca2+ - Reactome</td>\n",
       "      <td>1.479523e-04</td>\n",
       "      <td>3</td>\n",
       "      <td>8</td>\n",
       "      <td>[sset:PLC-beta 1/2/3, sset:GNB, sset:PLC-beta]</td>\n",
       "      <td>http://model.geneontology.org/R-HSA-76005</td>\n",
       "      <td>35</td>\n",
       "    </tr>\n",
       "    <tr>\n",
       "      <th>13</th>\n",
       "      <td>G alpha (z) signalling events - Reactome</td>\n",
       "      <td>3.106384e-04</td>\n",
       "      <td>3</td>\n",
       "      <td>10</td>\n",
       "      <td>[sset:Protein kinase C conventional and novel isoforms, sset:Ligand:GPCR complexes that activate...</td>\n",
       "      <td>http://model.geneontology.org/R-HSA-418597</td>\n",
       "      <td>234</td>\n",
       "    </tr>\n",
       "    <tr>\n",
       "      <th>14</th>\n",
       "      <td>G beta:gamma signalling through PLC beta - Reactome</td>\n",
       "      <td>5.982105e-04</td>\n",
       "      <td>2</td>\n",
       "      <td>3</td>\n",
       "      <td>[sset:PLC-beta 1/2/3, sset:GNB]</td>\n",
       "      <td>http://model.geneontology.org/R-HSA-418217</td>\n",
       "      <td>20</td>\n",
       "    </tr>\n",
       "  </tbody>\n",
       "</table>\n",
       "</div>"
      ],
      "text/plain": [
       "                                                                                            title  \\\n",
       "0                                            CLEC7A (Dectin-1) induces NFAT activation - Reactome   \n",
       "1   Antigen activates B Cell Receptor (BCR) leading to generation of second messengers - Reactome   \n",
       "2                                                     FCERI mediated Ca+2 mobilization - Reactome   \n",
       "3                                                             PLC beta mediated events - Reactome   \n",
       "4                                                   VEGFR2 mediated cell proliferation - Reactome   \n",
       "5                                                                DAG and IP3 signaling - Reactome   \n",
       "6                                                Role of phospholipids in phagocytosis - Reactome   \n",
       "7                                                      Regulation of insulin secretion - Reactome   \n",
       "8                                                        G alpha (s) signalling events - Reactome   \n",
       "9                                                                         Ca2+ pathway - Reactome   \n",
       "10                                                    Arachidonate production from DAG - Reactome   \n",
       "11                                                          Effects of PIP2 hydrolysis - Reactome   \n",
       "12                                        Response to elevated platelet cytosolic Ca2+ - Reactome   \n",
       "13                                                       G alpha (z) signalling events - Reactome   \n",
       "14                                            G beta:gamma signalling through PLC beta - Reactome   \n",
       "\n",
       "    pval (uncorrected)  # entities in list  #entities in model  \\\n",
       "0         4.106716e-07                   6                  22   \n",
       "1         9.429803e-07                   6                  25   \n",
       "2         1.212404e-06                   6                  26   \n",
       "3         1.352519e-06                   5                  15   \n",
       "4         1.541678e-06                   6                  27   \n",
       "5         3.734337e-06                   5                  18   \n",
       "6         1.098634e-05                   5                  22   \n",
       "7         1.098634e-05                   5                  22   \n",
       "8         1.155052e-05                   4                  11   \n",
       "9         3.188866e-05                   5                  27   \n",
       "10        1.479523e-04                   3                   8   \n",
       "11        1.479523e-04                   3                   8   \n",
       "12        1.479523e-04                   3                   8   \n",
       "13        3.106384e-04                   3                  10   \n",
       "14        5.982105e-04                   2                   3   \n",
       "\n",
       "                                                                               shared entities in gocam  \\\n",
       "0                 [TRPC1, sset:PLC-beta 1/2/3, sset:PLCbz, sset:GNB, sset:PLC beta1,2,3, sset:PLC-beta]   \n",
       "1                 [TRPC1, sset:PLC-beta 1/2/3, sset:PLCbz, sset:GNB, sset:PLC beta1,2,3, sset:PLC-beta]   \n",
       "2                 [TRPC1, sset:PLC-beta 1/2/3, sset:PLCbz, sset:GNB, sset:PLC beta1,2,3, sset:PLC-beta]   \n",
       "3                        [sset:PLC-beta 1/2/3, sset:PLCbz, sset:GNB, sset:PLC beta1,2,3, sset:PLC-beta]   \n",
       "4                 [TRPC1, sset:PLC-beta 1/2/3, sset:PLCbz, sset:GNB, sset:PLC beta1,2,3, sset:PLC-beta]   \n",
       "5                        [sset:PLC-beta 1/2/3, sset:PLCbz, sset:GNB, sset:PLC beta1,2,3, sset:PLC-beta]   \n",
       "6                        [sset:PLC-beta 1/2/3, sset:PLCbz, sset:GNB, sset:PLC beta1,2,3, sset:PLC-beta]   \n",
       "7                        [sset:PLC-beta 1/2/3, sset:PLCbz, sset:GNB, sset:PLC beta1,2,3, sset:PLC-beta]   \n",
       "8                        [PDE3B, sset:cAMP PDEs, sset:GNB, sset:Ligand:GPCR complexes that activate Gs]   \n",
       "9                        [sset:PLC-beta 1/2/3, sset:PLCbz, sset:GNB, sset:PLC beta1,2,3, sset:PLC-beta]   \n",
       "10                                                       [sset:PLC-beta 1/2/3, sset:GNB, sset:PLC-beta]   \n",
       "11                                                       [sset:PLC-beta 1/2/3, sset:GNB, sset:PLC-beta]   \n",
       "12                                                       [sset:PLC-beta 1/2/3, sset:GNB, sset:PLC-beta]   \n",
       "13  [sset:Protein kinase C conventional and novel isoforms, sset:Ligand:GPCR complexes that activate...   \n",
       "14                                                                      [sset:PLC-beta 1/2/3, sset:GNB]   \n",
       "\n",
       "                                            url  gene list size  \n",
       "0   http://model.geneontology.org/R-HSA-5607763              47  \n",
       "1    http://model.geneontology.org/R-HSA-983695             145  \n",
       "2   http://model.geneontology.org/R-HSA-2871809              52  \n",
       "3    http://model.geneontology.org/R-HSA-112043              39  \n",
       "4   http://model.geneontology.org/R-HSA-5218921              55  \n",
       "5   http://model.geneontology.org/R-HSA-1489509              45  \n",
       "6   http://model.geneontology.org/R-HSA-2029485              52  \n",
       "7    http://model.geneontology.org/R-HSA-422356              51  \n",
       "8    http://model.geneontology.org/R-HSA-418555             139  \n",
       "9   http://model.geneontology.org/R-HSA-4086398              57  \n",
       "10   http://model.geneontology.org/R-HSA-426048              27  \n",
       "11   http://model.geneontology.org/R-HSA-114508              36  \n",
       "12    http://model.geneontology.org/R-HSA-76005              35  \n",
       "13   http://model.geneontology.org/R-HSA-418597             234  \n",
       "14   http://model.geneontology.org/R-HSA-418217              20  "
      ]
     },
     "execution_count": 66,
     "metadata": {},
     "output_type": "execute_result"
    }
   ],
   "source": [
    "up = enrich.enrich_wrapper(f'{genotype}_{cell}_up.csv','Gene Symbol',method='set',FDR = 0.05,fpath = '../test_data/processed/')\n",
    "enrich.compare2standard(up, f'{genotype}_{cell}_up.csv','Gene Symbol',FDR = 0.05)"
   ]
  },
  {
   "cell_type": "code",
   "execution_count": 67,
   "id": "af4b0f9e-aa9f-4315-85c5-aea922bb2d5d",
   "metadata": {},
   "outputs": [
    {
     "name": "stderr",
     "output_type": "stream",
     "text": [
      "100%|██████████████████████████████████████| 183/183 [00:00<00:00, 17436.96it/s]\n"
     ]
    },
    {
     "name": "stdout",
     "output_type": "stream",
     "text": [
      "Analysis run on 114 entities from 74 out of 225 input genes\n"
     ]
    },
    {
     "name": "stderr",
     "output_type": "stream",
     "text": [
      "100%|██████████████████████████████████████| 183/183 [00:00<00:00, 17553.80it/s]\n",
      "100%|██████████████████████████████████████| 183/183 [00:00<00:00, 17074.29it/s]\n"
     ]
    },
    {
     "name": "stdout",
     "output_type": "stream",
     "text": [
      "Standard method yields 1 results, 0 of which are unique\n"
     ]
    },
    {
     "data": {
      "text/html": [
       "<div>\n",
       "<style scoped>\n",
       "    .dataframe tbody tr th:only-of-type {\n",
       "        vertical-align: middle;\n",
       "    }\n",
       "\n",
       "    .dataframe tbody tr th {\n",
       "        vertical-align: top;\n",
       "    }\n",
       "\n",
       "    .dataframe thead th {\n",
       "        text-align: right;\n",
       "    }\n",
       "</style>\n",
       "<table border=\"1\" class=\"dataframe\">\n",
       "  <thead>\n",
       "    <tr style=\"text-align: right;\">\n",
       "      <th></th>\n",
       "      <th>title</th>\n",
       "      <th>pval (uncorrected)</th>\n",
       "      <th># entities in list</th>\n",
       "      <th>#entities in model</th>\n",
       "      <th>shared entities in gocam</th>\n",
       "      <th>url</th>\n",
       "    </tr>\n",
       "  </thead>\n",
       "  <tbody>\n",
       "  </tbody>\n",
       "</table>\n",
       "</div>"
      ],
      "text/plain": [
       "Empty DataFrame\n",
       "Columns: [title, pval (uncorrected), # entities in list, #entities in model, shared entities in gocam, url]\n",
       "Index: []"
      ]
     },
     "execution_count": 67,
     "metadata": {},
     "output_type": "execute_result"
    }
   ],
   "source": [
    "down = enrich.enrich_wrapper(f'{genotype}_{cell}_down.csv','Gene Symbol',method='set',FDR = 0.05,fpath = '../test_data/processed/')\n",
    "enrich.compare2standard(down, f'{genotype}_{cell}_down.csv','Gene Symbol',FDR = 0.05)"
   ]
  },
  {
   "cell_type": "markdown",
   "id": "b998fd49-c9b0-444b-97e7-1314c3c1f978",
   "metadata": {
    "tags": []
   },
   "source": [
    "### PVneg"
   ]
  },
  {
   "cell_type": "code",
   "execution_count": 68,
   "id": "6e3d7c69-27fc-4924-ae74-29235ae7ea03",
   "metadata": {},
   "outputs": [],
   "source": [
    "cell = 'MYL'\n",
    "genotype = 'PVneg'"
   ]
  },
  {
   "cell_type": "code",
   "execution_count": 69,
   "id": "f48f6800-4194-4a20-9447-9cdc8b7ec3de",
   "metadata": {},
   "outputs": [
    {
     "name": "stderr",
     "output_type": "stream",
     "text": [
      "100%|██████████████████████████████████████| 184/184 [00:00<00:00, 17250.86it/s]\n"
     ]
    },
    {
     "name": "stdout",
     "output_type": "stream",
     "text": [
      "Analysis run on 70 entities from 39 out of 139 input genes\n"
     ]
    },
    {
     "name": "stderr",
     "output_type": "stream",
     "text": [
      "100%|██████████████████████████████████████| 184/184 [00:00<00:00, 17799.94it/s]\n",
      "100%|██████████████████████████████████████| 184/184 [00:00<00:00, 16766.65it/s]\n"
     ]
    },
    {
     "name": "stdout",
     "output_type": "stream",
     "text": [
      "Standard method yields 1 results, 1 of which are unique\n"
     ]
    },
    {
     "data": {
      "text/html": [
       "<div>\n",
       "<style scoped>\n",
       "    .dataframe tbody tr th:only-of-type {\n",
       "        vertical-align: middle;\n",
       "    }\n",
       "\n",
       "    .dataframe tbody tr th {\n",
       "        vertical-align: top;\n",
       "    }\n",
       "\n",
       "    .dataframe thead th {\n",
       "        text-align: right;\n",
       "    }\n",
       "</style>\n",
       "<table border=\"1\" class=\"dataframe\">\n",
       "  <thead>\n",
       "    <tr style=\"text-align: right;\">\n",
       "      <th></th>\n",
       "    </tr>\n",
       "  </thead>\n",
       "  <tbody>\n",
       "  </tbody>\n",
       "</table>\n",
       "</div>"
      ],
      "text/plain": [
       "Empty DataFrame\n",
       "Columns: []\n",
       "Index: []"
      ]
     },
     "execution_count": 69,
     "metadata": {},
     "output_type": "execute_result"
    }
   ],
   "source": [
    "up = enrich.enrich_wrapper(f'{genotype}_{cell}_up.csv','Gene Symbol',method='set',FDR = 0.05,fpath = '../test_data/processed/')\n",
    "enrich.compare2standard(up, f'{genotype}_{cell}_up.csv','Gene Symbol',FDR = 0.05)"
   ]
  },
  {
   "cell_type": "code",
   "execution_count": 70,
   "id": "30aee28f-67ee-4e01-99b2-00df3e1a01c4",
   "metadata": {},
   "outputs": [
    {
     "name": "stderr",
     "output_type": "stream",
     "text": [
      "100%|██████████████████████████████████████| 101/101 [00:00<00:00, 18029.65it/s]\n"
     ]
    },
    {
     "name": "stdout",
     "output_type": "stream",
     "text": [
      "Analysis run on 41 entities from 31 out of 110 input genes\n"
     ]
    },
    {
     "name": "stderr",
     "output_type": "stream",
     "text": [
      "100%|██████████████████████████████████████| 101/101 [00:00<00:00, 17747.16it/s]\n",
      "100%|██████████████████████████████████████| 101/101 [00:00<00:00, 17065.81it/s]\n"
     ]
    },
    {
     "name": "stdout",
     "output_type": "stream",
     "text": [
      "Standard method yields 0 results, 0 of which are unique\n"
     ]
    },
    {
     "data": {
      "text/html": [
       "<div>\n",
       "<style scoped>\n",
       "    .dataframe tbody tr th:only-of-type {\n",
       "        vertical-align: middle;\n",
       "    }\n",
       "\n",
       "    .dataframe tbody tr th {\n",
       "        vertical-align: top;\n",
       "    }\n",
       "\n",
       "    .dataframe thead th {\n",
       "        text-align: right;\n",
       "    }\n",
       "</style>\n",
       "<table border=\"1\" class=\"dataframe\">\n",
       "  <thead>\n",
       "    <tr style=\"text-align: right;\">\n",
       "      <th></th>\n",
       "    </tr>\n",
       "  </thead>\n",
       "  <tbody>\n",
       "  </tbody>\n",
       "</table>\n",
       "</div>"
      ],
      "text/plain": [
       "Empty DataFrame\n",
       "Columns: []\n",
       "Index: []"
      ]
     },
     "execution_count": 70,
     "metadata": {},
     "output_type": "execute_result"
    }
   ],
   "source": [
    "down = enrich.enrich_wrapper(f'{genotype}_{cell}_down.csv','Gene Symbol',method='set',FDR = 0.05,fpath = '../test_data/processed/')\n",
    "enrich.compare2standard(down, f'{genotype}_{cell}_down.csv','Gene Symbol',FDR = 0.05)"
   ]
  },
  {
   "cell_type": "code",
   "execution_count": null,
   "id": "4d6d5c62-750f-4a10-886a-39b71aba44d2",
   "metadata": {},
   "outputs": [],
   "source": []
  },
  {
   "cell_type": "markdown",
   "id": "13e758e1-d22e-4694-95a7-085c70c8dc63",
   "metadata": {
    "jp-MarkdownHeadingCollapsed": true,
    "tags": []
   },
   "source": [
    "## LV FB"
   ]
  },
  {
   "cell_type": "code",
   "execution_count": 91,
   "id": "8afbb1ed-8b3f-4cf1-9eea-8b0d5baedf85",
   "metadata": {},
   "outputs": [
    {
     "name": "stdout",
     "output_type": "stream",
     "text": [
      "LMNA up : 347 genes\n",
      "LMNA down : 525 genes\n",
      "PKP2 up : 342 genes\n",
      "PKP2 down : 383 genes\n",
      "RBM20 up : 259 genes\n",
      "RBM20 down : 366 genes\n",
      "TTN up : 385 genes\n",
      "TTN down : 707 genes\n",
      "PVneg up : 398 genes\n",
      "PVneg down : 737 genes\n"
     ]
    }
   ],
   "source": [
    "xls_down = pd.ExcelFile('../test_data/unprocessed/science.abo1984_tables_s1_to_s71/S16_LV_FB_Upregulated_Genes_Controls_All_States.xlsx')\n",
    "xls_up = pd.ExcelFile('../test_data/unprocessed/science.abo1984_tables_s1_to_s71/S17_LV_FB_Upregulated_Genes_Disease_Genotypes_All_States.xlsx')\n",
    "\n",
    "\n",
    "for genotype in ['LMNA','PKP2','RBM20','TTN','PVneg']:\n",
    "    \n",
    "    df_up = pd.read_excel(xls_up,f'{genotype}_control')\n",
    "    df_down = pd.read_excel(xls_down,f'control_{genotype}')\n",
    "    \n",
    "    \n",
    "    for sign, df in {'up':df_up,'down':df_down}.items():\n",
    "        df = df.query(f'logFC > {logFC} and PValue < {PV}')\n",
    "        df['Gene'].to_csv(f'../test_data/processed/{genotype}_MYL_{sign}.csv', header = False, index= False)\n",
    "        print(genotype,sign,':',len(df), 'genes')"
   ]
  },
  {
   "cell_type": "markdown",
   "id": "808c71c7-811b-4e86-8984-895f38710855",
   "metadata": {
    "jp-MarkdownHeadingCollapsed": true,
    "tags": []
   },
   "source": [
    "### LMNA"
   ]
  },
  {
   "cell_type": "code",
   "execution_count": 92,
   "id": "922a0781-ee3e-4596-af71-d065bb49ec71",
   "metadata": {},
   "outputs": [],
   "source": [
    "cell = 'FB'\n",
    "genotype = 'LMNA'"
   ]
  },
  {
   "cell_type": "code",
   "execution_count": 93,
   "id": "9c433173-6dd5-4ea9-82f6-b32754bd1393",
   "metadata": {},
   "outputs": [
    {
     "name": "stderr",
     "output_type": "stream",
     "text": [
      "100%|██████████████████████████████████████| 208/208 [00:00<00:00, 18019.52it/s]\n"
     ]
    },
    {
     "name": "stdout",
     "output_type": "stream",
     "text": [
      "Analysis run on 74 entities from 48 out of 187 input genes\n"
     ]
    },
    {
     "name": "stderr",
     "output_type": "stream",
     "text": [
      "100%|██████████████████████████████████████| 208/208 [00:00<00:00, 17832.41it/s]\n",
      "100%|██████████████████████████████████████| 208/208 [00:00<00:00, 15539.99it/s]\n"
     ]
    },
    {
     "name": "stdout",
     "output_type": "stream",
     "text": [
      "Standard method yields 0 results, 0 of which are unique\n"
     ]
    },
    {
     "data": {
      "text/html": [
       "<div>\n",
       "<style scoped>\n",
       "    .dataframe tbody tr th:only-of-type {\n",
       "        vertical-align: middle;\n",
       "    }\n",
       "\n",
       "    .dataframe tbody tr th {\n",
       "        vertical-align: top;\n",
       "    }\n",
       "\n",
       "    .dataframe thead th {\n",
       "        text-align: right;\n",
       "    }\n",
       "</style>\n",
       "<table border=\"1\" class=\"dataframe\">\n",
       "  <thead>\n",
       "    <tr style=\"text-align: right;\">\n",
       "      <th></th>\n",
       "      <th>title</th>\n",
       "      <th>pval (uncorrected)</th>\n",
       "      <th># entities in list</th>\n",
       "      <th>#entities in model</th>\n",
       "      <th>shared entities in gocam</th>\n",
       "      <th>url</th>\n",
       "      <th>gene list size</th>\n",
       "    </tr>\n",
       "  </thead>\n",
       "  <tbody>\n",
       "    <tr>\n",
       "      <th>0</th>\n",
       "      <td>Role of phospholipids in phagocytosis - Reactome</td>\n",
       "      <td>2.508766e-09</td>\n",
       "      <td>8</td>\n",
       "      <td>22</td>\n",
       "      <td>[sset:PLC-beta 1/2/3, sset:PLCbz, sset:PL(C)D4:3xCa2+, sset:PKC-delta/epsilon, sset:GNB, sset:PL...</td>\n",
       "      <td>http://model.geneontology.org/R-HSA-2029485</td>\n",
       "      <td>52</td>\n",
       "    </tr>\n",
       "    <tr>\n",
       "      <th>1</th>\n",
       "      <td>DAG and IP3 signaling - Reactome</td>\n",
       "      <td>1.549593e-08</td>\n",
       "      <td>7</td>\n",
       "      <td>18</td>\n",
       "      <td>[sset:PLC-beta 1/2/3, sset:PLCbz, sset:PL(C)D4:3xCa2+, sset:PKC-delta/epsilon, sset:GNB, sset:PL...</td>\n",
       "      <td>http://model.geneontology.org/R-HSA-1489509</td>\n",
       "      <td>45</td>\n",
       "    </tr>\n",
       "    <tr>\n",
       "      <th>2</th>\n",
       "      <td>PLC beta mediated events - Reactome</td>\n",
       "      <td>1.469551e-07</td>\n",
       "      <td>6</td>\n",
       "      <td>15</td>\n",
       "      <td>[sset:PLC-beta 1/2/3, sset:PLCbz, sset:PL(C)D4:3xCa2+, sset:GNB, sset:PLC beta1,2,3, sset:PLC-beta]</td>\n",
       "      <td>http://model.geneontology.org/R-HSA-112043</td>\n",
       "      <td>39</td>\n",
       "    </tr>\n",
       "    <tr>\n",
       "      <th>3</th>\n",
       "      <td>Antigen activates B Cell Receptor (BCR) leading to generation of second messengers - Reactome</td>\n",
       "      <td>2.109556e-07</td>\n",
       "      <td>7</td>\n",
       "      <td>25</td>\n",
       "      <td>[sset:PLC-beta 1/2/3, sset:PLCbz, sset:PL(C)D4:3xCa2+, sset:LYN,FYN,BLK, sset:GNB, sset:PLC beta...</td>\n",
       "      <td>http://model.geneontology.org/R-HSA-983695</td>\n",
       "      <td>145</td>\n",
       "    </tr>\n",
       "    <tr>\n",
       "      <th>4</th>\n",
       "      <td>CLEC7A (Dectin-1) induces NFAT activation - Reactome</td>\n",
       "      <td>1.975895e-06</td>\n",
       "      <td>6</td>\n",
       "      <td>22</td>\n",
       "      <td>[sset:PLC-beta 1/2/3, sset:PLCbz, sset:PL(C)D4:3xCa2+, sset:GNB, sset:PLC beta1,2,3, sset:PLC-beta]</td>\n",
       "      <td>http://model.geneontology.org/R-HSA-5607763</td>\n",
       "      <td>47</td>\n",
       "    </tr>\n",
       "    <tr>\n",
       "      <th>5</th>\n",
       "      <td>Regulation of insulin secretion - Reactome</td>\n",
       "      <td>1.975895e-06</td>\n",
       "      <td>6</td>\n",
       "      <td>22</td>\n",
       "      <td>[sset:PLC-beta 1/2/3, sset:PLCbz, sset:PL(C)D4:3xCa2+, sset:GNB, sset:PLC beta1,2,3, sset:PLC-beta]</td>\n",
       "      <td>http://model.geneontology.org/R-HSA-422356</td>\n",
       "      <td>51</td>\n",
       "    </tr>\n",
       "    <tr>\n",
       "      <th>6</th>\n",
       "      <td>FCERI mediated Ca+2 mobilization - Reactome</td>\n",
       "      <td>5.747889e-06</td>\n",
       "      <td>6</td>\n",
       "      <td>26</td>\n",
       "      <td>[sset:PLC-beta 1/2/3, sset:PLCbz, sset:PL(C)D4:3xCa2+, sset:GNB, sset:PLC beta1,2,3, sset:PLC-beta]</td>\n",
       "      <td>http://model.geneontology.org/R-HSA-2871809</td>\n",
       "      <td>52</td>\n",
       "    </tr>\n",
       "    <tr>\n",
       "      <th>7</th>\n",
       "      <td>SHC1 events in ERBB2 signaling - Reactome</td>\n",
       "      <td>7.268563e-06</td>\n",
       "      <td>4</td>\n",
       "      <td>8</td>\n",
       "      <td>[sset:p-ERBB2 heterodimers, sset:p-Y877-ERBB2 heterodimers, sset:ERBB2 heterodimers, sset:Activa...</td>\n",
       "      <td>http://model.geneontology.org/R-HSA-1250196</td>\n",
       "      <td>21</td>\n",
       "    </tr>\n",
       "    <tr>\n",
       "      <th>8</th>\n",
       "      <td>Ca2+ pathway - Reactome</td>\n",
       "      <td>7.282055e-06</td>\n",
       "      <td>6</td>\n",
       "      <td>27</td>\n",
       "      <td>[sset:PLC-beta 1/2/3, sset:PLCbz, sset:PL(C)D4:3xCa2+, sset:GNB, sset:PLC beta1,2,3, sset:PLC-beta]</td>\n",
       "      <td>http://model.geneontology.org/R-HSA-4086398</td>\n",
       "      <td>57</td>\n",
       "    </tr>\n",
       "    <tr>\n",
       "      <th>9</th>\n",
       "      <td>VEGFR2 mediated cell proliferation - Reactome</td>\n",
       "      <td>7.282055e-06</td>\n",
       "      <td>6</td>\n",
       "      <td>27</td>\n",
       "      <td>[sset:PLC-beta 1/2/3, sset:PLCbz, sset:PL(C)D4:3xCa2+, sset:GNB, sset:PLC beta1,2,3, sset:PLC-beta]</td>\n",
       "      <td>http://model.geneontology.org/R-HSA-5218921</td>\n",
       "      <td>55</td>\n",
       "    </tr>\n",
       "    <tr>\n",
       "      <th>10</th>\n",
       "      <td>Signaling by ERBB2 - Reactome</td>\n",
       "      <td>2.431048e-05</td>\n",
       "      <td>3</td>\n",
       "      <td>4</td>\n",
       "      <td>[sset:p-Y877-ERBB2 heterodimers, sset:ERBB2 heterodimers, sset:p-Y419/420/426-N-myristoyl-SRC/FY...</td>\n",
       "      <td>http://model.geneontology.org/R-HSA-1227986</td>\n",
       "      <td>18</td>\n",
       "    </tr>\n",
       "    <tr>\n",
       "      <th>11</th>\n",
       "      <td>PI3K events in ERBB2 signaling - Reactome</td>\n",
       "      <td>6.917535e-05</td>\n",
       "      <td>4</td>\n",
       "      <td>13</td>\n",
       "      <td>[EGFR, GAB1, sset:p-Y877-ERBB2 heterodimers, sset:ERBB2 heterodimers]</td>\n",
       "      <td>http://model.geneontology.org/R-HSA-1963642</td>\n",
       "      <td>19</td>\n",
       "    </tr>\n",
       "    <tr>\n",
       "      <th>12</th>\n",
       "      <td>PLCG1 events in ERBB2 signaling - Reactome</td>\n",
       "      <td>1.183250e-04</td>\n",
       "      <td>3</td>\n",
       "      <td>6</td>\n",
       "      <td>[EGFR, sset:p-Y877-ERBB2 heterodimers, sset:ERBB2 heterodimers]</td>\n",
       "      <td>http://model.geneontology.org/R-HSA-1251932</td>\n",
       "      <td>16</td>\n",
       "    </tr>\n",
       "    <tr>\n",
       "      <th>13</th>\n",
       "      <td>Response to elevated platelet cytosolic Ca2+ - Reactome</td>\n",
       "      <td>3.225254e-04</td>\n",
       "      <td>3</td>\n",
       "      <td>8</td>\n",
       "      <td>[sset:PLC-beta 1/2/3, sset:GNB, sset:PLC-beta]</td>\n",
       "      <td>http://model.geneontology.org/R-HSA-76005</td>\n",
       "      <td>35</td>\n",
       "    </tr>\n",
       "    <tr>\n",
       "      <th>14</th>\n",
       "      <td>Arachidonate production from DAG - Reactome</td>\n",
       "      <td>3.225254e-04</td>\n",
       "      <td>3</td>\n",
       "      <td>8</td>\n",
       "      <td>[sset:PLC-beta 1/2/3, sset:GNB, sset:PLC-beta]</td>\n",
       "      <td>http://model.geneontology.org/R-HSA-426048</td>\n",
       "      <td>27</td>\n",
       "    </tr>\n",
       "    <tr>\n",
       "      <th>15</th>\n",
       "      <td>Effects of PIP2 hydrolysis - Reactome</td>\n",
       "      <td>3.225254e-04</td>\n",
       "      <td>3</td>\n",
       "      <td>8</td>\n",
       "      <td>[sset:PLC-beta 1/2/3, sset:GNB, sset:PLC-beta]</td>\n",
       "      <td>http://model.geneontology.org/R-HSA-114508</td>\n",
       "      <td>36</td>\n",
       "    </tr>\n",
       "    <tr>\n",
       "      <th>16</th>\n",
       "      <td>RAC1 GTPase cycle - Reactome</td>\n",
       "      <td>3.405987e-04</td>\n",
       "      <td>2</td>\n",
       "      <td>2</td>\n",
       "      <td>[sset:RAC1 GAPs, sset:RAC1 GEFs]</td>\n",
       "      <td>http://model.geneontology.org/R-HSA-9013149</td>\n",
       "      <td>100</td>\n",
       "    </tr>\n",
       "    <tr>\n",
       "      <th>17</th>\n",
       "      <td>CD28 dependent Vav1 pathway - Reactome</td>\n",
       "      <td>4.773383e-04</td>\n",
       "      <td>3</td>\n",
       "      <td>9</td>\n",
       "      <td>[FYN, sset:ELMO1,ELMO2, sset:Src family tyrosine kinases (SFKs)]</td>\n",
       "      <td>http://model.geneontology.org/R-HSA-389359</td>\n",
       "      <td>13</td>\n",
       "    </tr>\n",
       "    <tr>\n",
       "      <th>18</th>\n",
       "      <td>G alpha (z) signalling events - Reactome</td>\n",
       "      <td>6.728273e-04</td>\n",
       "      <td>3</td>\n",
       "      <td>10</td>\n",
       "      <td>[sset:Protein kinase C conventional and novel isoforms, sset:Ligand:GPCR complexes that activate...</td>\n",
       "      <td>http://model.geneontology.org/R-HSA-418597</td>\n",
       "      <td>234</td>\n",
       "    </tr>\n",
       "  </tbody>\n",
       "</table>\n",
       "</div>"
      ],
      "text/plain": [
       "                                                                                            title  \\\n",
       "0                                                Role of phospholipids in phagocytosis - Reactome   \n",
       "1                                                                DAG and IP3 signaling - Reactome   \n",
       "2                                                             PLC beta mediated events - Reactome   \n",
       "3   Antigen activates B Cell Receptor (BCR) leading to generation of second messengers - Reactome   \n",
       "4                                            CLEC7A (Dectin-1) induces NFAT activation - Reactome   \n",
       "5                                                      Regulation of insulin secretion - Reactome   \n",
       "6                                                     FCERI mediated Ca+2 mobilization - Reactome   \n",
       "7                                                       SHC1 events in ERBB2 signaling - Reactome   \n",
       "8                                                                         Ca2+ pathway - Reactome   \n",
       "9                                                   VEGFR2 mediated cell proliferation - Reactome   \n",
       "10                                                                  Signaling by ERBB2 - Reactome   \n",
       "11                                                      PI3K events in ERBB2 signaling - Reactome   \n",
       "12                                                     PLCG1 events in ERBB2 signaling - Reactome   \n",
       "13                                        Response to elevated platelet cytosolic Ca2+ - Reactome   \n",
       "14                                                    Arachidonate production from DAG - Reactome   \n",
       "15                                                          Effects of PIP2 hydrolysis - Reactome   \n",
       "16                                                                   RAC1 GTPase cycle - Reactome   \n",
       "17                                                         CD28 dependent Vav1 pathway - Reactome   \n",
       "18                                                       G alpha (z) signalling events - Reactome   \n",
       "\n",
       "    pval (uncorrected)  # entities in list  #entities in model  \\\n",
       "0         2.508766e-09                   8                  22   \n",
       "1         1.549593e-08                   7                  18   \n",
       "2         1.469551e-07                   6                  15   \n",
       "3         2.109556e-07                   7                  25   \n",
       "4         1.975895e-06                   6                  22   \n",
       "5         1.975895e-06                   6                  22   \n",
       "6         5.747889e-06                   6                  26   \n",
       "7         7.268563e-06                   4                   8   \n",
       "8         7.282055e-06                   6                  27   \n",
       "9         7.282055e-06                   6                  27   \n",
       "10        2.431048e-05                   3                   4   \n",
       "11        6.917535e-05                   4                  13   \n",
       "12        1.183250e-04                   3                   6   \n",
       "13        3.225254e-04                   3                   8   \n",
       "14        3.225254e-04                   3                   8   \n",
       "15        3.225254e-04                   3                   8   \n",
       "16        3.405987e-04                   2                   2   \n",
       "17        4.773383e-04                   3                   9   \n",
       "18        6.728273e-04                   3                  10   \n",
       "\n",
       "                                                                               shared entities in gocam  \\\n",
       "0   [sset:PLC-beta 1/2/3, sset:PLCbz, sset:PL(C)D4:3xCa2+, sset:PKC-delta/epsilon, sset:GNB, sset:PL...   \n",
       "1   [sset:PLC-beta 1/2/3, sset:PLCbz, sset:PL(C)D4:3xCa2+, sset:PKC-delta/epsilon, sset:GNB, sset:PL...   \n",
       "2   [sset:PLC-beta 1/2/3, sset:PLCbz, sset:PL(C)D4:3xCa2+, sset:GNB, sset:PLC beta1,2,3, sset:PLC-beta]   \n",
       "3   [sset:PLC-beta 1/2/3, sset:PLCbz, sset:PL(C)D4:3xCa2+, sset:LYN,FYN,BLK, sset:GNB, sset:PLC beta...   \n",
       "4   [sset:PLC-beta 1/2/3, sset:PLCbz, sset:PL(C)D4:3xCa2+, sset:GNB, sset:PLC beta1,2,3, sset:PLC-beta]   \n",
       "5   [sset:PLC-beta 1/2/3, sset:PLCbz, sset:PL(C)D4:3xCa2+, sset:GNB, sset:PLC beta1,2,3, sset:PLC-beta]   \n",
       "6   [sset:PLC-beta 1/2/3, sset:PLCbz, sset:PL(C)D4:3xCa2+, sset:GNB, sset:PLC beta1,2,3, sset:PLC-beta]   \n",
       "7   [sset:p-ERBB2 heterodimers, sset:p-Y877-ERBB2 heterodimers, sset:ERBB2 heterodimers, sset:Activa...   \n",
       "8   [sset:PLC-beta 1/2/3, sset:PLCbz, sset:PL(C)D4:3xCa2+, sset:GNB, sset:PLC beta1,2,3, sset:PLC-beta]   \n",
       "9   [sset:PLC-beta 1/2/3, sset:PLCbz, sset:PL(C)D4:3xCa2+, sset:GNB, sset:PLC beta1,2,3, sset:PLC-beta]   \n",
       "10  [sset:p-Y877-ERBB2 heterodimers, sset:ERBB2 heterodimers, sset:p-Y419/420/426-N-myristoyl-SRC/FY...   \n",
       "11                                [EGFR, GAB1, sset:p-Y877-ERBB2 heterodimers, sset:ERBB2 heterodimers]   \n",
       "12                                      [EGFR, sset:p-Y877-ERBB2 heterodimers, sset:ERBB2 heterodimers]   \n",
       "13                                                       [sset:PLC-beta 1/2/3, sset:GNB, sset:PLC-beta]   \n",
       "14                                                       [sset:PLC-beta 1/2/3, sset:GNB, sset:PLC-beta]   \n",
       "15                                                       [sset:PLC-beta 1/2/3, sset:GNB, sset:PLC-beta]   \n",
       "16                                                                     [sset:RAC1 GAPs, sset:RAC1 GEFs]   \n",
       "17                                     [FYN, sset:ELMO1,ELMO2, sset:Src family tyrosine kinases (SFKs)]   \n",
       "18  [sset:Protein kinase C conventional and novel isoforms, sset:Ligand:GPCR complexes that activate...   \n",
       "\n",
       "                                            url  gene list size  \n",
       "0   http://model.geneontology.org/R-HSA-2029485              52  \n",
       "1   http://model.geneontology.org/R-HSA-1489509              45  \n",
       "2    http://model.geneontology.org/R-HSA-112043              39  \n",
       "3    http://model.geneontology.org/R-HSA-983695             145  \n",
       "4   http://model.geneontology.org/R-HSA-5607763              47  \n",
       "5    http://model.geneontology.org/R-HSA-422356              51  \n",
       "6   http://model.geneontology.org/R-HSA-2871809              52  \n",
       "7   http://model.geneontology.org/R-HSA-1250196              21  \n",
       "8   http://model.geneontology.org/R-HSA-4086398              57  \n",
       "9   http://model.geneontology.org/R-HSA-5218921              55  \n",
       "10  http://model.geneontology.org/R-HSA-1227986              18  \n",
       "11  http://model.geneontology.org/R-HSA-1963642              19  \n",
       "12  http://model.geneontology.org/R-HSA-1251932              16  \n",
       "13    http://model.geneontology.org/R-HSA-76005              35  \n",
       "14   http://model.geneontology.org/R-HSA-426048              27  \n",
       "15   http://model.geneontology.org/R-HSA-114508              36  \n",
       "16  http://model.geneontology.org/R-HSA-9013149             100  \n",
       "17   http://model.geneontology.org/R-HSA-389359              13  \n",
       "18   http://model.geneontology.org/R-HSA-418597             234  "
      ]
     },
     "execution_count": 93,
     "metadata": {},
     "output_type": "execute_result"
    }
   ],
   "source": [
    "up = enrich.enrich_wrapper(f'{genotype}_{cell}_up.csv','Gene Symbol',method='set',FDR = 0.05,fpath = '../test_data/processed/')\n",
    "enrich.compare2standard(up, f'{genotype}_{cell}_up.csv','Gene Symbol',FDR = 0.05)"
   ]
  },
  {
   "cell_type": "code",
   "execution_count": 94,
   "id": "417d1e9f-c47b-4c97-ab80-4c8612bbf512",
   "metadata": {},
   "outputs": [
    {
     "name": "stderr",
     "output_type": "stream",
     "text": [
      "100%|██████████████████████████████████████| 269/269 [00:00<00:00, 18478.93it/s]\n"
     ]
    },
    {
     "name": "stdout",
     "output_type": "stream",
     "text": [
      "Analysis run on 132 entities from 91 out of 328 input genes\n"
     ]
    },
    {
     "name": "stderr",
     "output_type": "stream",
     "text": [
      "100%|██████████████████████████████████████| 269/269 [00:00<00:00, 18062.11it/s]\n",
      "100%|██████████████████████████████████████| 269/269 [00:00<00:00, 17284.57it/s]\n"
     ]
    },
    {
     "name": "stdout",
     "output_type": "stream",
     "text": [
      "Standard method yields 1 results, 0 of which are unique\n"
     ]
    },
    {
     "data": {
      "text/html": [
       "<div>\n",
       "<style scoped>\n",
       "    .dataframe tbody tr th:only-of-type {\n",
       "        vertical-align: middle;\n",
       "    }\n",
       "\n",
       "    .dataframe tbody tr th {\n",
       "        vertical-align: top;\n",
       "    }\n",
       "\n",
       "    .dataframe thead th {\n",
       "        text-align: right;\n",
       "    }\n",
       "</style>\n",
       "<table border=\"1\" class=\"dataframe\">\n",
       "  <thead>\n",
       "    <tr style=\"text-align: right;\">\n",
       "      <th></th>\n",
       "      <th>title</th>\n",
       "      <th>pval (uncorrected)</th>\n",
       "      <th># entities in list</th>\n",
       "      <th>#entities in model</th>\n",
       "      <th>shared entities in gocam</th>\n",
       "      <th>url</th>\n",
       "    </tr>\n",
       "  </thead>\n",
       "  <tbody>\n",
       "  </tbody>\n",
       "</table>\n",
       "</div>"
      ],
      "text/plain": [
       "Empty DataFrame\n",
       "Columns: [title, pval (uncorrected), # entities in list, #entities in model, shared entities in gocam, url]\n",
       "Index: []"
      ]
     },
     "execution_count": 94,
     "metadata": {},
     "output_type": "execute_result"
    }
   ],
   "source": [
    "down = enrich.enrich_wrapper(f'{genotype}_{cell}_down.csv','Gene Symbol',method='set',FDR = 0.05,fpath = '../test_data/processed/')\n",
    "enrich.compare2standard(down, f'{genotype}_{cell}_down.csv','Gene Symbol',FDR = 0.05)"
   ]
  },
  {
   "cell_type": "markdown",
   "id": "425f46a7-aba1-4266-b39e-1b7e89030094",
   "metadata": {
    "jp-MarkdownHeadingCollapsed": true,
    "tags": []
   },
   "source": [
    "### PKP2"
   ]
  },
  {
   "cell_type": "code",
   "execution_count": 95,
   "id": "8954090f-ad0f-45eb-9d92-4839b6b779de",
   "metadata": {},
   "outputs": [],
   "source": [
    "cell = 'FB'\n",
    "genotype = 'PKP2'"
   ]
  },
  {
   "cell_type": "code",
   "execution_count": 96,
   "id": "02f6a3eb-ac32-421e-8b86-6c2d6812a61a",
   "metadata": {},
   "outputs": [
    {
     "name": "stderr",
     "output_type": "stream",
     "text": [
      "100%|██████████████████████████████████████| 249/249 [00:00<00:00, 17028.05it/s]\n"
     ]
    },
    {
     "name": "stdout",
     "output_type": "stream",
     "text": [
      "Analysis run on 108 entities from 73 out of 302 input genes\n"
     ]
    },
    {
     "name": "stderr",
     "output_type": "stream",
     "text": [
      "100%|██████████████████████████████████████| 249/249 [00:00<00:00, 18101.14it/s]\n",
      "100%|██████████████████████████████████████| 249/249 [00:00<00:00, 16822.07it/s]\n"
     ]
    },
    {
     "name": "stdout",
     "output_type": "stream",
     "text": [
      "Standard method yields 0 results, 0 of which are unique\n"
     ]
    },
    {
     "data": {
      "text/html": [
       "<div>\n",
       "<style scoped>\n",
       "    .dataframe tbody tr th:only-of-type {\n",
       "        vertical-align: middle;\n",
       "    }\n",
       "\n",
       "    .dataframe tbody tr th {\n",
       "        vertical-align: top;\n",
       "    }\n",
       "\n",
       "    .dataframe thead th {\n",
       "        text-align: right;\n",
       "    }\n",
       "</style>\n",
       "<table border=\"1\" class=\"dataframe\">\n",
       "  <thead>\n",
       "    <tr style=\"text-align: right;\">\n",
       "      <th></th>\n",
       "      <th>title</th>\n",
       "      <th>pval (uncorrected)</th>\n",
       "      <th># entities in list</th>\n",
       "      <th>#entities in model</th>\n",
       "      <th>shared entities in gocam</th>\n",
       "      <th>url</th>\n",
       "      <th>gene list size</th>\n",
       "    </tr>\n",
       "  </thead>\n",
       "  <tbody>\n",
       "    <tr>\n",
       "      <th>0</th>\n",
       "      <td>SHC1 events in ERBB2 signaling - Reactome</td>\n",
       "      <td>0.000033</td>\n",
       "      <td>4</td>\n",
       "      <td>8</td>\n",
       "      <td>[sset:p-ERBB2 heterodimers, sset:p-Y877-ERBB2 heterodimers, sset:ERBB2 heterodimers, sset:Activa...</td>\n",
       "      <td>http://model.geneontology.org/R-HSA-1250196</td>\n",
       "      <td>21</td>\n",
       "    </tr>\n",
       "    <tr>\n",
       "      <th>1</th>\n",
       "      <td>Signaling by ERBB2 - Reactome</td>\n",
       "      <td>0.000076</td>\n",
       "      <td>3</td>\n",
       "      <td>4</td>\n",
       "      <td>[sset:p-Y877-ERBB2 heterodimers, sset:ERBB2 heterodimers, sset:p-Y419/420/426-N-myristoyl-SRC/FY...</td>\n",
       "      <td>http://model.geneontology.org/R-HSA-1227986</td>\n",
       "      <td>18</td>\n",
       "    </tr>\n",
       "  </tbody>\n",
       "</table>\n",
       "</div>"
      ],
      "text/plain": [
       "                                       title  pval (uncorrected)  \\\n",
       "0  SHC1 events in ERBB2 signaling - Reactome            0.000033   \n",
       "1              Signaling by ERBB2 - Reactome            0.000076   \n",
       "\n",
       "   # entities in list  #entities in model  \\\n",
       "0                   4                   8   \n",
       "1                   3                   4   \n",
       "\n",
       "                                                                              shared entities in gocam  \\\n",
       "0  [sset:p-ERBB2 heterodimers, sset:p-Y877-ERBB2 heterodimers, sset:ERBB2 heterodimers, sset:Activa...   \n",
       "1  [sset:p-Y877-ERBB2 heterodimers, sset:ERBB2 heterodimers, sset:p-Y419/420/426-N-myristoyl-SRC/FY...   \n",
       "\n",
       "                                           url  gene list size  \n",
       "0  http://model.geneontology.org/R-HSA-1250196              21  \n",
       "1  http://model.geneontology.org/R-HSA-1227986              18  "
      ]
     },
     "execution_count": 96,
     "metadata": {},
     "output_type": "execute_result"
    }
   ],
   "source": [
    "up = enrich.enrich_wrapper(f'{genotype}_{cell}_up.csv','Gene Symbol',method='set',FDR = 0.05,fpath = '../test_data/processed/')\n",
    "enrich.compare2standard(up, f'{genotype}_{cell}_up.csv','Gene Symbol',FDR = 0.05)"
   ]
  },
  {
   "cell_type": "code",
   "execution_count": 97,
   "id": "ac92046d-e5e7-4e0e-ab27-954db209de85",
   "metadata": {},
   "outputs": [
    {
     "name": "stderr",
     "output_type": "stream",
     "text": [
      "100%|██████████████████████████████████████| 151/151 [00:00<00:00, 18318.92it/s]\n"
     ]
    },
    {
     "name": "stdout",
     "output_type": "stream",
     "text": [
      "Analysis run on 104 entities from 68 out of 287 input genes\n"
     ]
    },
    {
     "name": "stderr",
     "output_type": "stream",
     "text": [
      "100%|██████████████████████████████████████| 151/151 [00:00<00:00, 17889.44it/s]\n",
      "100%|██████████████████████████████████████| 151/151 [00:00<00:00, 17965.56it/s]\n"
     ]
    },
    {
     "name": "stdout",
     "output_type": "stream",
     "text": [
      "Standard method yields 0 results, 0 of which are unique\n"
     ]
    },
    {
     "data": {
      "text/html": [
       "<div>\n",
       "<style scoped>\n",
       "    .dataframe tbody tr th:only-of-type {\n",
       "        vertical-align: middle;\n",
       "    }\n",
       "\n",
       "    .dataframe tbody tr th {\n",
       "        vertical-align: top;\n",
       "    }\n",
       "\n",
       "    .dataframe thead th {\n",
       "        text-align: right;\n",
       "    }\n",
       "</style>\n",
       "<table border=\"1\" class=\"dataframe\">\n",
       "  <thead>\n",
       "    <tr style=\"text-align: right;\">\n",
       "      <th></th>\n",
       "    </tr>\n",
       "  </thead>\n",
       "  <tbody>\n",
       "  </tbody>\n",
       "</table>\n",
       "</div>"
      ],
      "text/plain": [
       "Empty DataFrame\n",
       "Columns: []\n",
       "Index: []"
      ]
     },
     "execution_count": 97,
     "metadata": {},
     "output_type": "execute_result"
    }
   ],
   "source": [
    "down = enrich.enrich_wrapper(f'{genotype}_{cell}_down.csv','Gene Symbol',method='set',FDR = 0.05,fpath = '../test_data/processed/')\n",
    "enrich.compare2standard(down, f'{genotype}_{cell}_down.csv','Gene Symbol',FDR = 0.05)"
   ]
  },
  {
   "cell_type": "markdown",
   "id": "0d464670-1d26-4aac-b561-f3302d9ea80c",
   "metadata": {
    "jp-MarkdownHeadingCollapsed": true,
    "tags": []
   },
   "source": [
    "### RBM20"
   ]
  },
  {
   "cell_type": "code",
   "execution_count": 98,
   "id": "c1a04aed-937a-46b0-92ff-ef32cef381ef",
   "metadata": {},
   "outputs": [],
   "source": [
    "cell = 'FB'\n",
    "genotype = 'RBM20'"
   ]
  },
  {
   "cell_type": "code",
   "execution_count": 99,
   "id": "f12709e7-ee49-4443-bc7e-6a2283522c67",
   "metadata": {},
   "outputs": [
    {
     "name": "stderr",
     "output_type": "stream",
     "text": [
      "100%|████████████████████████████████████████| 99/99 [00:00<00:00, 17876.53it/s]\n"
     ]
    },
    {
     "name": "stdout",
     "output_type": "stream",
     "text": [
      "Analysis run on 26 entities from 15 out of 65 input genes\n"
     ]
    },
    {
     "name": "stderr",
     "output_type": "stream",
     "text": [
      "100%|████████████████████████████████████████| 99/99 [00:00<00:00, 17133.74it/s]\n",
      "100%|████████████████████████████████████████| 99/99 [00:00<00:00, 17364.45it/s]\n"
     ]
    },
    {
     "name": "stdout",
     "output_type": "stream",
     "text": [
      "Standard method yields 0 results, 0 of which are unique\n"
     ]
    },
    {
     "data": {
      "text/html": [
       "<div>\n",
       "<style scoped>\n",
       "    .dataframe tbody tr th:only-of-type {\n",
       "        vertical-align: middle;\n",
       "    }\n",
       "\n",
       "    .dataframe tbody tr th {\n",
       "        vertical-align: top;\n",
       "    }\n",
       "\n",
       "    .dataframe thead th {\n",
       "        text-align: right;\n",
       "    }\n",
       "</style>\n",
       "<table border=\"1\" class=\"dataframe\">\n",
       "  <thead>\n",
       "    <tr style=\"text-align: right;\">\n",
       "      <th></th>\n",
       "    </tr>\n",
       "  </thead>\n",
       "  <tbody>\n",
       "  </tbody>\n",
       "</table>\n",
       "</div>"
      ],
      "text/plain": [
       "Empty DataFrame\n",
       "Columns: []\n",
       "Index: []"
      ]
     },
     "execution_count": 99,
     "metadata": {},
     "output_type": "execute_result"
    }
   ],
   "source": [
    "up = enrich.enrich_wrapper(f'{genotype}_{cell}_up.csv','Gene Symbol',method='set',FDR = 0.05,fpath = '../test_data/processed/')\n",
    "enrich.compare2standard(up, f'{genotype}_{cell}_up.csv','Gene Symbol',FDR = 0.05)"
   ]
  },
  {
   "cell_type": "code",
   "execution_count": 100,
   "id": "1b9901d5-7df8-4539-a0d6-b71dc6f5f231",
   "metadata": {},
   "outputs": [
    {
     "name": "stderr",
     "output_type": "stream",
     "text": [
      "100%|██████████████████████████████████████| 117/117 [00:00<00:00, 16701.84it/s]\n"
     ]
    },
    {
     "name": "stdout",
     "output_type": "stream",
     "text": [
      "Analysis run on 47 entities from 39 out of 106 input genes\n"
     ]
    },
    {
     "name": "stderr",
     "output_type": "stream",
     "text": [
      "100%|██████████████████████████████████████| 117/117 [00:00<00:00, 17379.10it/s]\n",
      "100%|██████████████████████████████████████| 117/117 [00:00<00:00, 17377.25it/s]\n"
     ]
    },
    {
     "name": "stdout",
     "output_type": "stream",
     "text": [
      "Standard method yields 1 results, 0 of which are unique\n"
     ]
    },
    {
     "data": {
      "text/html": [
       "<div>\n",
       "<style scoped>\n",
       "    .dataframe tbody tr th:only-of-type {\n",
       "        vertical-align: middle;\n",
       "    }\n",
       "\n",
       "    .dataframe tbody tr th {\n",
       "        vertical-align: top;\n",
       "    }\n",
       "\n",
       "    .dataframe thead th {\n",
       "        text-align: right;\n",
       "    }\n",
       "</style>\n",
       "<table border=\"1\" class=\"dataframe\">\n",
       "  <thead>\n",
       "    <tr style=\"text-align: right;\">\n",
       "      <th></th>\n",
       "      <th>title</th>\n",
       "      <th>pval (uncorrected)</th>\n",
       "      <th># entities in list</th>\n",
       "      <th>#entities in model</th>\n",
       "      <th>shared entities in gocam</th>\n",
       "      <th>url</th>\n",
       "    </tr>\n",
       "  </thead>\n",
       "  <tbody>\n",
       "  </tbody>\n",
       "</table>\n",
       "</div>"
      ],
      "text/plain": [
       "Empty DataFrame\n",
       "Columns: [title, pval (uncorrected), # entities in list, #entities in model, shared entities in gocam, url]\n",
       "Index: []"
      ]
     },
     "execution_count": 100,
     "metadata": {},
     "output_type": "execute_result"
    }
   ],
   "source": [
    "down = enrich.enrich_wrapper(f'{genotype}_{cell}_down.csv','Gene Symbol',method='set',FDR = 0.05,fpath = '../test_data/processed/')\n",
    "enrich.compare2standard(down, f'{genotype}_{cell}_down.csv','Gene Symbol',FDR = 0.05)"
   ]
  },
  {
   "cell_type": "markdown",
   "id": "375a886c-bc0f-45f1-9f4c-ab961544bee7",
   "metadata": {
    "jp-MarkdownHeadingCollapsed": true,
    "tags": []
   },
   "source": [
    "### TTN"
   ]
  },
  {
   "cell_type": "code",
   "execution_count": 101,
   "id": "a279fb07-294c-48dc-8aef-e522bd3685bf",
   "metadata": {},
   "outputs": [],
   "source": [
    "cell = 'FB'\n",
    "genotype = 'TTN'"
   ]
  },
  {
   "cell_type": "code",
   "execution_count": 102,
   "id": "54d14db5-6933-401a-bfc2-b919fbdd22e1",
   "metadata": {},
   "outputs": [
    {
     "name": "stderr",
     "output_type": "stream",
     "text": [
      "100%|██████████████████████████████████████| 161/161 [00:00<00:00, 16860.16it/s]\n"
     ]
    },
    {
     "name": "stdout",
     "output_type": "stream",
     "text": [
      "Analysis run on 57 entities from 45 out of 181 input genes\n"
     ]
    },
    {
     "name": "stderr",
     "output_type": "stream",
     "text": [
      "100%|██████████████████████████████████████| 161/161 [00:00<00:00, 17668.78it/s]\n",
      "100%|██████████████████████████████████████| 161/161 [00:00<00:00, 17335.84it/s]\n"
     ]
    },
    {
     "name": "stdout",
     "output_type": "stream",
     "text": [
      "Standard method yields 0 results, 0 of which are unique\n"
     ]
    },
    {
     "data": {
      "text/html": [
       "<div>\n",
       "<style scoped>\n",
       "    .dataframe tbody tr th:only-of-type {\n",
       "        vertical-align: middle;\n",
       "    }\n",
       "\n",
       "    .dataframe tbody tr th {\n",
       "        vertical-align: top;\n",
       "    }\n",
       "\n",
       "    .dataframe thead th {\n",
       "        text-align: right;\n",
       "    }\n",
       "</style>\n",
       "<table border=\"1\" class=\"dataframe\">\n",
       "  <thead>\n",
       "    <tr style=\"text-align: right;\">\n",
       "      <th></th>\n",
       "      <th>title</th>\n",
       "      <th>pval (uncorrected)</th>\n",
       "      <th># entities in list</th>\n",
       "      <th>#entities in model</th>\n",
       "      <th>shared entities in gocam</th>\n",
       "      <th>url</th>\n",
       "      <th>gene list size</th>\n",
       "    </tr>\n",
       "  </thead>\n",
       "  <tbody>\n",
       "    <tr>\n",
       "      <th>0</th>\n",
       "      <td>CLEC7A (Dectin-1) induces NFAT activation - Reactome</td>\n",
       "      <td>4.106716e-07</td>\n",
       "      <td>6</td>\n",
       "      <td>22</td>\n",
       "      <td>[TRPC1, sset:PLC-beta 1/2/3, sset:PLCbz, sset:GNB, sset:PLC beta1,2,3, sset:PLC-beta]</td>\n",
       "      <td>http://model.geneontology.org/R-HSA-5607763</td>\n",
       "      <td>47</td>\n",
       "    </tr>\n",
       "    <tr>\n",
       "      <th>1</th>\n",
       "      <td>Antigen activates B Cell Receptor (BCR) leading to generation of second messengers - Reactome</td>\n",
       "      <td>9.429803e-07</td>\n",
       "      <td>6</td>\n",
       "      <td>25</td>\n",
       "      <td>[TRPC1, sset:PLC-beta 1/2/3, sset:PLCbz, sset:GNB, sset:PLC beta1,2,3, sset:PLC-beta]</td>\n",
       "      <td>http://model.geneontology.org/R-HSA-983695</td>\n",
       "      <td>145</td>\n",
       "    </tr>\n",
       "    <tr>\n",
       "      <th>2</th>\n",
       "      <td>FCERI mediated Ca+2 mobilization - Reactome</td>\n",
       "      <td>1.212404e-06</td>\n",
       "      <td>6</td>\n",
       "      <td>26</td>\n",
       "      <td>[TRPC1, sset:PLC-beta 1/2/3, sset:PLCbz, sset:GNB, sset:PLC beta1,2,3, sset:PLC-beta]</td>\n",
       "      <td>http://model.geneontology.org/R-HSA-2871809</td>\n",
       "      <td>52</td>\n",
       "    </tr>\n",
       "    <tr>\n",
       "      <th>3</th>\n",
       "      <td>PLC beta mediated events - Reactome</td>\n",
       "      <td>1.352519e-06</td>\n",
       "      <td>5</td>\n",
       "      <td>15</td>\n",
       "      <td>[sset:PLC-beta 1/2/3, sset:PLCbz, sset:GNB, sset:PLC beta1,2,3, sset:PLC-beta]</td>\n",
       "      <td>http://model.geneontology.org/R-HSA-112043</td>\n",
       "      <td>39</td>\n",
       "    </tr>\n",
       "    <tr>\n",
       "      <th>4</th>\n",
       "      <td>VEGFR2 mediated cell proliferation - Reactome</td>\n",
       "      <td>1.541678e-06</td>\n",
       "      <td>6</td>\n",
       "      <td>27</td>\n",
       "      <td>[TRPC1, sset:PLC-beta 1/2/3, sset:PLCbz, sset:GNB, sset:PLC beta1,2,3, sset:PLC-beta]</td>\n",
       "      <td>http://model.geneontology.org/R-HSA-5218921</td>\n",
       "      <td>55</td>\n",
       "    </tr>\n",
       "    <tr>\n",
       "      <th>5</th>\n",
       "      <td>DAG and IP3 signaling - Reactome</td>\n",
       "      <td>3.734337e-06</td>\n",
       "      <td>5</td>\n",
       "      <td>18</td>\n",
       "      <td>[sset:PLC-beta 1/2/3, sset:PLCbz, sset:GNB, sset:PLC beta1,2,3, sset:PLC-beta]</td>\n",
       "      <td>http://model.geneontology.org/R-HSA-1489509</td>\n",
       "      <td>45</td>\n",
       "    </tr>\n",
       "    <tr>\n",
       "      <th>6</th>\n",
       "      <td>Role of phospholipids in phagocytosis - Reactome</td>\n",
       "      <td>1.098634e-05</td>\n",
       "      <td>5</td>\n",
       "      <td>22</td>\n",
       "      <td>[sset:PLC-beta 1/2/3, sset:PLCbz, sset:GNB, sset:PLC beta1,2,3, sset:PLC-beta]</td>\n",
       "      <td>http://model.geneontology.org/R-HSA-2029485</td>\n",
       "      <td>52</td>\n",
       "    </tr>\n",
       "    <tr>\n",
       "      <th>7</th>\n",
       "      <td>Regulation of insulin secretion - Reactome</td>\n",
       "      <td>1.098634e-05</td>\n",
       "      <td>5</td>\n",
       "      <td>22</td>\n",
       "      <td>[sset:PLC-beta 1/2/3, sset:PLCbz, sset:GNB, sset:PLC beta1,2,3, sset:PLC-beta]</td>\n",
       "      <td>http://model.geneontology.org/R-HSA-422356</td>\n",
       "      <td>51</td>\n",
       "    </tr>\n",
       "    <tr>\n",
       "      <th>8</th>\n",
       "      <td>G alpha (s) signalling events - Reactome</td>\n",
       "      <td>1.155052e-05</td>\n",
       "      <td>4</td>\n",
       "      <td>11</td>\n",
       "      <td>[PDE3B, sset:cAMP PDEs, sset:GNB, sset:Ligand:GPCR complexes that activate Gs]</td>\n",
       "      <td>http://model.geneontology.org/R-HSA-418555</td>\n",
       "      <td>139</td>\n",
       "    </tr>\n",
       "    <tr>\n",
       "      <th>9</th>\n",
       "      <td>Ca2+ pathway - Reactome</td>\n",
       "      <td>3.188866e-05</td>\n",
       "      <td>5</td>\n",
       "      <td>27</td>\n",
       "      <td>[sset:PLC-beta 1/2/3, sset:PLCbz, sset:GNB, sset:PLC beta1,2,3, sset:PLC-beta]</td>\n",
       "      <td>http://model.geneontology.org/R-HSA-4086398</td>\n",
       "      <td>57</td>\n",
       "    </tr>\n",
       "    <tr>\n",
       "      <th>10</th>\n",
       "      <td>Arachidonate production from DAG - Reactome</td>\n",
       "      <td>1.479523e-04</td>\n",
       "      <td>3</td>\n",
       "      <td>8</td>\n",
       "      <td>[sset:PLC-beta 1/2/3, sset:GNB, sset:PLC-beta]</td>\n",
       "      <td>http://model.geneontology.org/R-HSA-426048</td>\n",
       "      <td>27</td>\n",
       "    </tr>\n",
       "    <tr>\n",
       "      <th>11</th>\n",
       "      <td>Effects of PIP2 hydrolysis - Reactome</td>\n",
       "      <td>1.479523e-04</td>\n",
       "      <td>3</td>\n",
       "      <td>8</td>\n",
       "      <td>[sset:PLC-beta 1/2/3, sset:GNB, sset:PLC-beta]</td>\n",
       "      <td>http://model.geneontology.org/R-HSA-114508</td>\n",
       "      <td>36</td>\n",
       "    </tr>\n",
       "    <tr>\n",
       "      <th>12</th>\n",
       "      <td>Response to elevated platelet cytosolic Ca2+ - Reactome</td>\n",
       "      <td>1.479523e-04</td>\n",
       "      <td>3</td>\n",
       "      <td>8</td>\n",
       "      <td>[sset:PLC-beta 1/2/3, sset:GNB, sset:PLC-beta]</td>\n",
       "      <td>http://model.geneontology.org/R-HSA-76005</td>\n",
       "      <td>35</td>\n",
       "    </tr>\n",
       "    <tr>\n",
       "      <th>13</th>\n",
       "      <td>G alpha (z) signalling events - Reactome</td>\n",
       "      <td>3.106384e-04</td>\n",
       "      <td>3</td>\n",
       "      <td>10</td>\n",
       "      <td>[sset:Protein kinase C conventional and novel isoforms, sset:Ligand:GPCR complexes that activate...</td>\n",
       "      <td>http://model.geneontology.org/R-HSA-418597</td>\n",
       "      <td>234</td>\n",
       "    </tr>\n",
       "    <tr>\n",
       "      <th>14</th>\n",
       "      <td>G beta:gamma signalling through PLC beta - Reactome</td>\n",
       "      <td>5.982105e-04</td>\n",
       "      <td>2</td>\n",
       "      <td>3</td>\n",
       "      <td>[sset:PLC-beta 1/2/3, sset:GNB]</td>\n",
       "      <td>http://model.geneontology.org/R-HSA-418217</td>\n",
       "      <td>20</td>\n",
       "    </tr>\n",
       "  </tbody>\n",
       "</table>\n",
       "</div>"
      ],
      "text/plain": [
       "                                                                                            title  \\\n",
       "0                                            CLEC7A (Dectin-1) induces NFAT activation - Reactome   \n",
       "1   Antigen activates B Cell Receptor (BCR) leading to generation of second messengers - Reactome   \n",
       "2                                                     FCERI mediated Ca+2 mobilization - Reactome   \n",
       "3                                                             PLC beta mediated events - Reactome   \n",
       "4                                                   VEGFR2 mediated cell proliferation - Reactome   \n",
       "5                                                                DAG and IP3 signaling - Reactome   \n",
       "6                                                Role of phospholipids in phagocytosis - Reactome   \n",
       "7                                                      Regulation of insulin secretion - Reactome   \n",
       "8                                                        G alpha (s) signalling events - Reactome   \n",
       "9                                                                         Ca2+ pathway - Reactome   \n",
       "10                                                    Arachidonate production from DAG - Reactome   \n",
       "11                                                          Effects of PIP2 hydrolysis - Reactome   \n",
       "12                                        Response to elevated platelet cytosolic Ca2+ - Reactome   \n",
       "13                                                       G alpha (z) signalling events - Reactome   \n",
       "14                                            G beta:gamma signalling through PLC beta - Reactome   \n",
       "\n",
       "    pval (uncorrected)  # entities in list  #entities in model  \\\n",
       "0         4.106716e-07                   6                  22   \n",
       "1         9.429803e-07                   6                  25   \n",
       "2         1.212404e-06                   6                  26   \n",
       "3         1.352519e-06                   5                  15   \n",
       "4         1.541678e-06                   6                  27   \n",
       "5         3.734337e-06                   5                  18   \n",
       "6         1.098634e-05                   5                  22   \n",
       "7         1.098634e-05                   5                  22   \n",
       "8         1.155052e-05                   4                  11   \n",
       "9         3.188866e-05                   5                  27   \n",
       "10        1.479523e-04                   3                   8   \n",
       "11        1.479523e-04                   3                   8   \n",
       "12        1.479523e-04                   3                   8   \n",
       "13        3.106384e-04                   3                  10   \n",
       "14        5.982105e-04                   2                   3   \n",
       "\n",
       "                                                                               shared entities in gocam  \\\n",
       "0                 [TRPC1, sset:PLC-beta 1/2/3, sset:PLCbz, sset:GNB, sset:PLC beta1,2,3, sset:PLC-beta]   \n",
       "1                 [TRPC1, sset:PLC-beta 1/2/3, sset:PLCbz, sset:GNB, sset:PLC beta1,2,3, sset:PLC-beta]   \n",
       "2                 [TRPC1, sset:PLC-beta 1/2/3, sset:PLCbz, sset:GNB, sset:PLC beta1,2,3, sset:PLC-beta]   \n",
       "3                        [sset:PLC-beta 1/2/3, sset:PLCbz, sset:GNB, sset:PLC beta1,2,3, sset:PLC-beta]   \n",
       "4                 [TRPC1, sset:PLC-beta 1/2/3, sset:PLCbz, sset:GNB, sset:PLC beta1,2,3, sset:PLC-beta]   \n",
       "5                        [sset:PLC-beta 1/2/3, sset:PLCbz, sset:GNB, sset:PLC beta1,2,3, sset:PLC-beta]   \n",
       "6                        [sset:PLC-beta 1/2/3, sset:PLCbz, sset:GNB, sset:PLC beta1,2,3, sset:PLC-beta]   \n",
       "7                        [sset:PLC-beta 1/2/3, sset:PLCbz, sset:GNB, sset:PLC beta1,2,3, sset:PLC-beta]   \n",
       "8                        [PDE3B, sset:cAMP PDEs, sset:GNB, sset:Ligand:GPCR complexes that activate Gs]   \n",
       "9                        [sset:PLC-beta 1/2/3, sset:PLCbz, sset:GNB, sset:PLC beta1,2,3, sset:PLC-beta]   \n",
       "10                                                       [sset:PLC-beta 1/2/3, sset:GNB, sset:PLC-beta]   \n",
       "11                                                       [sset:PLC-beta 1/2/3, sset:GNB, sset:PLC-beta]   \n",
       "12                                                       [sset:PLC-beta 1/2/3, sset:GNB, sset:PLC-beta]   \n",
       "13  [sset:Protein kinase C conventional and novel isoforms, sset:Ligand:GPCR complexes that activate...   \n",
       "14                                                                      [sset:PLC-beta 1/2/3, sset:GNB]   \n",
       "\n",
       "                                            url  gene list size  \n",
       "0   http://model.geneontology.org/R-HSA-5607763              47  \n",
       "1    http://model.geneontology.org/R-HSA-983695             145  \n",
       "2   http://model.geneontology.org/R-HSA-2871809              52  \n",
       "3    http://model.geneontology.org/R-HSA-112043              39  \n",
       "4   http://model.geneontology.org/R-HSA-5218921              55  \n",
       "5   http://model.geneontology.org/R-HSA-1489509              45  \n",
       "6   http://model.geneontology.org/R-HSA-2029485              52  \n",
       "7    http://model.geneontology.org/R-HSA-422356              51  \n",
       "8    http://model.geneontology.org/R-HSA-418555             139  \n",
       "9   http://model.geneontology.org/R-HSA-4086398              57  \n",
       "10   http://model.geneontology.org/R-HSA-426048              27  \n",
       "11   http://model.geneontology.org/R-HSA-114508              36  \n",
       "12    http://model.geneontology.org/R-HSA-76005              35  \n",
       "13   http://model.geneontology.org/R-HSA-418597             234  \n",
       "14   http://model.geneontology.org/R-HSA-418217              20  "
      ]
     },
     "execution_count": 102,
     "metadata": {},
     "output_type": "execute_result"
    }
   ],
   "source": [
    "up = enrich.enrich_wrapper(f'{genotype}_{cell}_up.csv','Gene Symbol',method='set',FDR = 0.05,fpath = '../test_data/processed/')\n",
    "enrich.compare2standard(up, f'{genotype}_{cell}_up.csv','Gene Symbol',FDR = 0.05)"
   ]
  },
  {
   "cell_type": "code",
   "execution_count": 103,
   "id": "bbf39710-2edb-41e9-a24e-a624221cb4c2",
   "metadata": {},
   "outputs": [
    {
     "name": "stderr",
     "output_type": "stream",
     "text": [
      "100%|██████████████████████████████████████| 183/183 [00:00<00:00, 16648.76it/s]\n"
     ]
    },
    {
     "name": "stdout",
     "output_type": "stream",
     "text": [
      "Analysis run on 114 entities from 74 out of 225 input genes\n"
     ]
    },
    {
     "name": "stderr",
     "output_type": "stream",
     "text": [
      "100%|██████████████████████████████████████| 183/183 [00:00<00:00, 17334.57it/s]\n",
      "100%|██████████████████████████████████████| 183/183 [00:00<00:00, 16430.29it/s]\n"
     ]
    },
    {
     "name": "stdout",
     "output_type": "stream",
     "text": [
      "Standard method yields 1 results, 0 of which are unique\n"
     ]
    },
    {
     "data": {
      "text/html": [
       "<div>\n",
       "<style scoped>\n",
       "    .dataframe tbody tr th:only-of-type {\n",
       "        vertical-align: middle;\n",
       "    }\n",
       "\n",
       "    .dataframe tbody tr th {\n",
       "        vertical-align: top;\n",
       "    }\n",
       "\n",
       "    .dataframe thead th {\n",
       "        text-align: right;\n",
       "    }\n",
       "</style>\n",
       "<table border=\"1\" class=\"dataframe\">\n",
       "  <thead>\n",
       "    <tr style=\"text-align: right;\">\n",
       "      <th></th>\n",
       "      <th>title</th>\n",
       "      <th>pval (uncorrected)</th>\n",
       "      <th># entities in list</th>\n",
       "      <th>#entities in model</th>\n",
       "      <th>shared entities in gocam</th>\n",
       "      <th>url</th>\n",
       "    </tr>\n",
       "  </thead>\n",
       "  <tbody>\n",
       "  </tbody>\n",
       "</table>\n",
       "</div>"
      ],
      "text/plain": [
       "Empty DataFrame\n",
       "Columns: [title, pval (uncorrected), # entities in list, #entities in model, shared entities in gocam, url]\n",
       "Index: []"
      ]
     },
     "execution_count": 103,
     "metadata": {},
     "output_type": "execute_result"
    }
   ],
   "source": [
    "down = enrich.enrich_wrapper(f'{genotype}_{cell}_down.csv','Gene Symbol',method='set',FDR = 0.05,fpath = '../test_data/processed/')\n",
    "enrich.compare2standard(down, f'{genotype}_{cell}_down.csv','Gene Symbol',FDR = 0.05)"
   ]
  },
  {
   "cell_type": "markdown",
   "id": "e454631e-0436-43f2-a37d-dde237b71376",
   "metadata": {
    "jp-MarkdownHeadingCollapsed": true,
    "tags": []
   },
   "source": [
    "### PVneg"
   ]
  },
  {
   "cell_type": "code",
   "execution_count": 104,
   "id": "b1b8e2c0-c9b1-44e2-afa2-cab17f2779eb",
   "metadata": {},
   "outputs": [],
   "source": [
    "cell = 'FB'\n",
    "genotype = 'PVneg'"
   ]
  },
  {
   "cell_type": "code",
   "execution_count": 105,
   "id": "84af6e17-7e57-4876-94d5-35ab9cdca9ba",
   "metadata": {},
   "outputs": [
    {
     "name": "stderr",
     "output_type": "stream",
     "text": [
      "100%|██████████████████████████████████████| 184/184 [00:00<00:00, 16994.82it/s]\n"
     ]
    },
    {
     "name": "stdout",
     "output_type": "stream",
     "text": [
      "Analysis run on 70 entities from 39 out of 139 input genes\n"
     ]
    },
    {
     "name": "stderr",
     "output_type": "stream",
     "text": [
      "100%|██████████████████████████████████████| 184/184 [00:00<00:00, 17857.19it/s]\n",
      "100%|██████████████████████████████████████| 184/184 [00:00<00:00, 17784.76it/s]\n"
     ]
    },
    {
     "name": "stdout",
     "output_type": "stream",
     "text": [
      "Standard method yields 1 results, 1 of which are unique\n"
     ]
    },
    {
     "data": {
      "text/html": [
       "<div>\n",
       "<style scoped>\n",
       "    .dataframe tbody tr th:only-of-type {\n",
       "        vertical-align: middle;\n",
       "    }\n",
       "\n",
       "    .dataframe tbody tr th {\n",
       "        vertical-align: top;\n",
       "    }\n",
       "\n",
       "    .dataframe thead th {\n",
       "        text-align: right;\n",
       "    }\n",
       "</style>\n",
       "<table border=\"1\" class=\"dataframe\">\n",
       "  <thead>\n",
       "    <tr style=\"text-align: right;\">\n",
       "      <th></th>\n",
       "    </tr>\n",
       "  </thead>\n",
       "  <tbody>\n",
       "  </tbody>\n",
       "</table>\n",
       "</div>"
      ],
      "text/plain": [
       "Empty DataFrame\n",
       "Columns: []\n",
       "Index: []"
      ]
     },
     "execution_count": 105,
     "metadata": {},
     "output_type": "execute_result"
    }
   ],
   "source": [
    "up = enrich.enrich_wrapper(f'{genotype}_{cell}_up.csv','Gene Symbol',method='set',FDR = 0.05,fpath = '../test_data/processed/')\n",
    "enrich.compare2standard(up, f'{genotype}_{cell}_up.csv','Gene Symbol',FDR = 0.05)"
   ]
  },
  {
   "cell_type": "code",
   "execution_count": 106,
   "id": "edd0d14b-0721-401c-9a79-9f4f21d8b3a0",
   "metadata": {},
   "outputs": [
    {
     "name": "stderr",
     "output_type": "stream",
     "text": [
      "100%|██████████████████████████████████████| 101/101 [00:00<00:00, 17485.64it/s]\n"
     ]
    },
    {
     "name": "stdout",
     "output_type": "stream",
     "text": [
      "Analysis run on 41 entities from 31 out of 110 input genes\n"
     ]
    },
    {
     "name": "stderr",
     "output_type": "stream",
     "text": [
      "100%|██████████████████████████████████████| 101/101 [00:00<00:00, 17596.77it/s]\n",
      "100%|██████████████████████████████████████| 101/101 [00:00<00:00, 17407.33it/s]\n"
     ]
    },
    {
     "name": "stdout",
     "output_type": "stream",
     "text": [
      "Standard method yields 0 results, 0 of which are unique\n"
     ]
    },
    {
     "data": {
      "text/html": [
       "<div>\n",
       "<style scoped>\n",
       "    .dataframe tbody tr th:only-of-type {\n",
       "        vertical-align: middle;\n",
       "    }\n",
       "\n",
       "    .dataframe tbody tr th {\n",
       "        vertical-align: top;\n",
       "    }\n",
       "\n",
       "    .dataframe thead th {\n",
       "        text-align: right;\n",
       "    }\n",
       "</style>\n",
       "<table border=\"1\" class=\"dataframe\">\n",
       "  <thead>\n",
       "    <tr style=\"text-align: right;\">\n",
       "      <th></th>\n",
       "    </tr>\n",
       "  </thead>\n",
       "  <tbody>\n",
       "  </tbody>\n",
       "</table>\n",
       "</div>"
      ],
      "text/plain": [
       "Empty DataFrame\n",
       "Columns: []\n",
       "Index: []"
      ]
     },
     "execution_count": 106,
     "metadata": {},
     "output_type": "execute_result"
    }
   ],
   "source": [
    "down = enrich.enrich_wrapper(f'{genotype}_{cell}_down.csv','Gene Symbol',method='set',FDR = 0.05,fpath = '../test_data/processed/')\n",
    "enrich.compare2standard(down, f'{genotype}_{cell}_down.csv','Gene Symbol',FDR = 0.05)"
   ]
  },
  {
   "cell_type": "code",
   "execution_count": 108,
   "id": "b9b16ecb-506c-41f8-bf17-544258828628",
   "metadata": {},
   "outputs": [],
   "source": [
    "cell = 'SMC'\n",
    "genotype = 'LMNA'"
   ]
  },
  {
   "cell_type": "code",
   "execution_count": 109,
   "id": "8b3066e3-d15b-4817-811e-083a84170aa6",
   "metadata": {},
   "outputs": [
    {
     "name": "stderr",
     "output_type": "stream",
     "text": [
      "100%|██████████████████████████████████████| 174/174 [00:00<00:00, 17943.33it/s]\n"
     ]
    },
    {
     "name": "stdout",
     "output_type": "stream",
     "text": [
      "Analysis run on 102 entities from 67 out of 284 input genes\n"
     ]
    },
    {
     "name": "stderr",
     "output_type": "stream",
     "text": [
      "100%|██████████████████████████████████████| 174/174 [00:00<00:00, 17888.35it/s]\n",
      "100%|██████████████████████████████████████| 174/174 [00:00<00:00, 16075.09it/s]\n"
     ]
    },
    {
     "name": "stdout",
     "output_type": "stream",
     "text": [
      "Standard method yields 0 results, 0 of which are unique\n"
     ]
    },
    {
     "data": {
      "text/html": [
       "<div>\n",
       "<style scoped>\n",
       "    .dataframe tbody tr th:only-of-type {\n",
       "        vertical-align: middle;\n",
       "    }\n",
       "\n",
       "    .dataframe tbody tr th {\n",
       "        vertical-align: top;\n",
       "    }\n",
       "\n",
       "    .dataframe thead th {\n",
       "        text-align: right;\n",
       "    }\n",
       "</style>\n",
       "<table border=\"1\" class=\"dataframe\">\n",
       "  <thead>\n",
       "    <tr style=\"text-align: right;\">\n",
       "      <th></th>\n",
       "    </tr>\n",
       "  </thead>\n",
       "  <tbody>\n",
       "  </tbody>\n",
       "</table>\n",
       "</div>"
      ],
      "text/plain": [
       "Empty DataFrame\n",
       "Columns: []\n",
       "Index: []"
      ]
     },
     "execution_count": 109,
     "metadata": {},
     "output_type": "execute_result"
    }
   ],
   "source": [
    "up = enrich.enrich_wrapper(f'{genotype}_{cell}_up.csv','Gene Symbol',method='set',FDR = 0.05,fpath = '../test_data/processed/')\n",
    "enrich.compare2standard(up, f'{genotype}_{cell}_up.csv','Gene Symbol',FDR = 0.05)"
   ]
  },
  {
   "cell_type": "code",
   "execution_count": 110,
   "id": "5758c8fd-6aae-4195-941d-dcf1ad1adb09",
   "metadata": {},
   "outputs": [
    {
     "name": "stderr",
     "output_type": "stream",
     "text": [
      "100%|██████████████████████████████████████| 207/207 [00:00<00:00, 18260.65it/s]\n"
     ]
    },
    {
     "name": "stdout",
     "output_type": "stream",
     "text": [
      "Analysis run on 116 entities from 94 out of 349 input genes\n"
     ]
    },
    {
     "name": "stderr",
     "output_type": "stream",
     "text": [
      "100%|██████████████████████████████████████| 207/207 [00:00<00:00, 18054.84it/s]\n",
      "100%|██████████████████████████████████████| 207/207 [00:00<00:00, 17829.78it/s]\n"
     ]
    },
    {
     "name": "stdout",
     "output_type": "stream",
     "text": [
      "Standard method yields 6 results, 4 of which are unique\n"
     ]
    },
    {
     "data": {
      "text/html": [
       "<div>\n",
       "<style scoped>\n",
       "    .dataframe tbody tr th:only-of-type {\n",
       "        vertical-align: middle;\n",
       "    }\n",
       "\n",
       "    .dataframe tbody tr th {\n",
       "        vertical-align: top;\n",
       "    }\n",
       "\n",
       "    .dataframe thead th {\n",
       "        text-align: right;\n",
       "    }\n",
       "</style>\n",
       "<table border=\"1\" class=\"dataframe\">\n",
       "  <thead>\n",
       "    <tr style=\"text-align: right;\">\n",
       "      <th></th>\n",
       "      <th>title</th>\n",
       "      <th>pval (uncorrected)</th>\n",
       "      <th># entities in list</th>\n",
       "      <th>#entities in model</th>\n",
       "      <th>shared entities in gocam</th>\n",
       "      <th>url</th>\n",
       "      <th>gene list size</th>\n",
       "    </tr>\n",
       "  </thead>\n",
       "  <tbody>\n",
       "    <tr>\n",
       "      <th>2</th>\n",
       "      <td>Regulation of Complement cascade - Reactome</td>\n",
       "      <td>2.201032e-07</td>\n",
       "      <td>6</td>\n",
       "      <td>11</td>\n",
       "      <td>[C3, C1R, sset:C3 convertases, sset:Complement factor D, sset:C4 activators, sset:CD46, CR1:C4b:...</td>\n",
       "      <td>http://model.geneontology.org/R-HSA-977606</td>\n",
       "      <td>117</td>\n",
       "    </tr>\n",
       "  </tbody>\n",
       "</table>\n",
       "</div>"
      ],
      "text/plain": [
       "                                         title  pval (uncorrected)  \\\n",
       "2  Regulation of Complement cascade - Reactome        2.201032e-07   \n",
       "\n",
       "   # entities in list  #entities in model  \\\n",
       "2                   6                  11   \n",
       "\n",
       "                                                                              shared entities in gocam  \\\n",
       "2  [C3, C1R, sset:C3 convertases, sset:Complement factor D, sset:C4 activators, sset:CD46, CR1:C4b:...   \n",
       "\n",
       "                                          url  gene list size  \n",
       "2  http://model.geneontology.org/R-HSA-977606             117  "
      ]
     },
     "execution_count": 110,
     "metadata": {},
     "output_type": "execute_result"
    }
   ],
   "source": [
    "down = enrich.enrich_wrapper(f'{genotype}_{cell}_down.csv','Gene Symbol',method='set',FDR = 0.05,fpath = '../test_data/processed/')\n",
    "enrich.compare2standard(down, f'{genotype}_{cell}_down.csv','Gene Symbol',FDR = 0.05)"
   ]
  },
  {
   "cell_type": "markdown",
   "id": "5975cb0d-8fa1-4985-b44f-f237400e9085",
   "metadata": {
    "jp-MarkdownHeadingCollapsed": true,
    "tags": []
   },
   "source": [
    "# Platelets in SARS-CoV-2\n",
    "\n",
    "kanth manne 2020\n",
    "\n",
    "https://ashpublications.org/blood/article/136/11/1317/461106/Platelet-gene-expression-and-function-in-patients\n",
    "\n",
    "RNAseq in platelets from patients w covid vs healthy donors. Note: platelets don't have nuclei, presumably the RNA was transcribed in megakaryocytes. Platelets have a lifespan of 7-10 days, so if a patient is a 4-5 days into their infection, we could hypothesize that half of their platlets were generated post-infection, unless their destruction or genesis is affected by sars-cov-2. The data came from 6 ICU and 4 nonICU patients.\n",
    "\n",
    "supp1 is non-ICU vs healthy donors\n",
    "supp2 is ICU vs healthy donors\n",
    "supp3 may be all covid-19 patients combined?"
   ]
  },
  {
   "cell_type": "code",
   "execution_count": 42,
   "id": "0b3b49ab-05e8-4c04-8555-06b552a6b76d",
   "metadata": {},
   "outputs": [],
   "source": [
    "platelets = pd.read_csv('../test_data/unprocessed/bloodbld2020007214-suppl3.csv')\n",
    "platelets_up = platelets.query('(log2FoldChange > 1 ) and padj < .05')\n",
    "platelets_down = platelets.query('(log2FoldChange < -1 ) and padj < .05')\n",
    "platelets_combined  = pd.concat([platelets_up, platelets_down])\n"
   ]
  },
  {
   "cell_type": "code",
   "execution_count": 43,
   "id": "e5bcbe1f-fba8-42a0-bf9c-233ae9d1e795",
   "metadata": {},
   "outputs": [],
   "source": [
    "platelets_up.gene_name.to_csv('../test_data/processed/platelets_up.csv',header=False, index=False)\n",
    "platelets_down.gene_name.to_csv('../test_data/processed/platelets_down.csv',header=False, index=False)\n",
    "platelets_combined.gene_name.to_csv('../test_data/processed/platelets_comb.csv',header=False, index=False)\n"
   ]
  },
  {
   "cell_type": "code",
   "execution_count": 47,
   "id": "3b18dbef-fb4b-4dcc-ac2a-aa14adda23ad",
   "metadata": {},
   "outputs": [
    {
     "name": "stderr",
     "output_type": "stream",
     "text": [
      "100%|██████████████████████████████████████| 482/482 [00:00<00:00, 18114.70it/s]\n"
     ]
    },
    {
     "name": "stdout",
     "output_type": "stream",
     "text": [
      "Analysis run on 424 entities from 365 out of 1172 input genes\n"
     ]
    },
    {
     "data": {
      "text/html": [
       "<div>\n",
       "<style scoped>\n",
       "    .dataframe tbody tr th:only-of-type {\n",
       "        vertical-align: middle;\n",
       "    }\n",
       "\n",
       "    .dataframe tbody tr th {\n",
       "        vertical-align: top;\n",
       "    }\n",
       "\n",
       "    .dataframe thead th {\n",
       "        text-align: right;\n",
       "    }\n",
       "</style>\n",
       "<table border=\"1\" class=\"dataframe\">\n",
       "  <thead>\n",
       "    <tr style=\"text-align: right;\">\n",
       "      <th></th>\n",
       "      <th>title</th>\n",
       "      <th>pval (uncorrected)</th>\n",
       "      <th># entities in list</th>\n",
       "      <th>#entities in model</th>\n",
       "      <th>shared entities in gocam</th>\n",
       "      <th>url</th>\n",
       "    </tr>\n",
       "  </thead>\n",
       "  <tbody>\n",
       "    <tr>\n",
       "      <th>0</th>\n",
       "      <td>Collagen biosynthesis and modifying enzymes - Reactome</td>\n",
       "      <td>9.186593e-09</td>\n",
       "      <td>10</td>\n",
       "      <td>12</td>\n",
       "      <td>[PPIB, P3H1, PLOD3, P4HB, sset:COLGALT1,COLGALT2, sset:Prolyl 3-hydroxylases, sset:Lysyl hydroxy...</td>\n",
       "      <td>http://model.geneontology.org/R-HSA-1650814</td>\n",
       "    </tr>\n",
       "    <tr>\n",
       "      <th>1</th>\n",
       "      <td>Synthesis of PE - Reactome</td>\n",
       "      <td>5.060424e-05</td>\n",
       "      <td>8</td>\n",
       "      <td>15</td>\n",
       "      <td>[PTDSS2, PCYT2, PISD, PHOSPHO1, sset:LPIN, sset:PNPLA2/3, sset:AGPAT, sset:CHK/ETNK]</td>\n",
       "      <td>http://model.geneontology.org/R-HSA-1483213</td>\n",
       "    </tr>\n",
       "  </tbody>\n",
       "</table>\n",
       "</div>"
      ],
      "text/plain": [
       "                                                    title  pval (uncorrected)  \\\n",
       "0  Collagen biosynthesis and modifying enzymes - Reactome        9.186593e-09   \n",
       "1                              Synthesis of PE - Reactome        5.060424e-05   \n",
       "\n",
       "   # entities in list  #entities in model  \\\n",
       "0                  10                  12   \n",
       "1                   8                  15   \n",
       "\n",
       "                                                                              shared entities in gocam  \\\n",
       "0  [PPIB, P3H1, PLOD3, P4HB, sset:COLGALT1,COLGALT2, sset:Prolyl 3-hydroxylases, sset:Lysyl hydroxy...   \n",
       "1                 [PTDSS2, PCYT2, PISD, PHOSPHO1, sset:LPIN, sset:PNPLA2/3, sset:AGPAT, sset:CHK/ETNK]   \n",
       "\n",
       "                                           url  \n",
       "0  http://model.geneontology.org/R-HSA-1650814  \n",
       "1  http://model.geneontology.org/R-HSA-1483213  "
      ]
     },
     "execution_count": 47,
     "metadata": {},
     "output_type": "execute_result"
    }
   ],
   "source": [
    "platelets_upset = enrich.enrich_wrapper('platelets_up.csv','Gene Symbol',method='set',FDR = 0.05,fpath = '../test_data/processed/')\n",
    "platelets_upset"
   ]
  },
  {
   "cell_type": "code",
   "execution_count": 125,
   "id": "199fba48-008a-46fa-87d7-11395cf1307d",
   "metadata": {},
   "outputs": [
    {
     "name": "stderr",
     "output_type": "stream",
     "text": [
      "100%|██████████████████████████████████████| 482/482 [00:00<00:00, 17608.54it/s]\n"
     ]
    },
    {
     "data": {
      "text/html": [
       "<div>\n",
       "<style scoped>\n",
       "    .dataframe tbody tr th:only-of-type {\n",
       "        vertical-align: middle;\n",
       "    }\n",
       "\n",
       "    .dataframe tbody tr th {\n",
       "        vertical-align: top;\n",
       "    }\n",
       "\n",
       "    .dataframe thead th {\n",
       "        text-align: right;\n",
       "    }\n",
       "</style>\n",
       "<table border=\"1\" class=\"dataframe\">\n",
       "  <thead>\n",
       "    <tr style=\"text-align: right;\">\n",
       "      <th></th>\n",
       "      <th>title</th>\n",
       "      <th>pval (uncorrected)</th>\n",
       "      <th># entities in list</th>\n",
       "      <th>#entities in model</th>\n",
       "      <th>shared entities in gocam</th>\n",
       "      <th>url</th>\n",
       "    </tr>\n",
       "  </thead>\n",
       "  <tbody>\n",
       "    <tr>\n",
       "      <th>0</th>\n",
       "      <td>ER-Phagosome pathway - Reactome</td>\n",
       "      <td>0.000045</td>\n",
       "      <td>13</td>\n",
       "      <td>52</td>\n",
       "      <td>[SEC61A1, PSMD13, PSMA5, PSMD11, SEC61B, PSMA7, PSME2, PSMD4, PSMB1, PSMB7, PSMD8, PSMB5, PSMB6]</td>\n",
       "      <td>http://model.geneontology.org/R-HSA-1236974</td>\n",
       "    </tr>\n",
       "    <tr>\n",
       "      <th>1</th>\n",
       "      <td>Hedgehog ligand biogenesis - Reactome</td>\n",
       "      <td>0.000045</td>\n",
       "      <td>13</td>\n",
       "      <td>52</td>\n",
       "      <td>[PSMD13, PSMA5, PSMD11, PSMA7, PSME2, PSMD4, PSMB1, PSMB7, PSMD8, PSMB5, P4HB, PSMB6, SYVN1]</td>\n",
       "      <td>http://model.geneontology.org/R-HSA-5358346</td>\n",
       "    </tr>\n",
       "    <tr>\n",
       "      <th>2</th>\n",
       "      <td>Regulation of APC/C activators between G1/S and early anaphase - Reactome</td>\n",
       "      <td>0.000069</td>\n",
       "      <td>13</td>\n",
       "      <td>54</td>\n",
       "      <td>[PSMD13, PSMA5, PSMD11, PSMA7, PSME2, PSMD4, PSMB1, CDC25B, PSMB7, CDK1, PSMD8, PSMB5, PSMB6]</td>\n",
       "      <td>http://model.geneontology.org/R-HSA-176408</td>\n",
       "    </tr>\n",
       "    <tr>\n",
       "      <th>3</th>\n",
       "      <td>Conversion from APC/C:Cdc20 to APC/C:Cdh1 in late anaphase - Reactome</td>\n",
       "      <td>0.000111</td>\n",
       "      <td>12</td>\n",
       "      <td>49</td>\n",
       "      <td>[PSMD13, PSMA5, PSMD11, PSMA7, PSME2, PSMD4, PSMB1, PSMB7, CDK1, PSMD8, PSMB5, PSMB6]</td>\n",
       "      <td>http://model.geneontology.org/R-HSA-176407</td>\n",
       "    </tr>\n",
       "    <tr>\n",
       "      <th>4</th>\n",
       "      <td>Neddylation - Reactome</td>\n",
       "      <td>0.000113</td>\n",
       "      <td>14</td>\n",
       "      <td>64</td>\n",
       "      <td>[UBE2M, PSMD13, PSMA5, PSMD11, PSMA7, PSME2, PSMD4, PSMB1, CUL9, PSMB7, UCHL3, PSMD8, PSMB5, PSMB6]</td>\n",
       "      <td>http://model.geneontology.org/R-HSA-8951664</td>\n",
       "    </tr>\n",
       "    <tr>\n",
       "      <th>5</th>\n",
       "      <td>KEAP1-NFE2L2 pathway - Reactome</td>\n",
       "      <td>0.000126</td>\n",
       "      <td>13</td>\n",
       "      <td>57</td>\n",
       "      <td>[PSMD13, PSMA5, PSMD11, PSMA7, PSME2, PSMD4, PSMB1, PSMB7, CSNK2B, PSMD8, PSMB5, PSMB6, PRDX2]</td>\n",
       "      <td>http://model.geneontology.org/R-HSA-9755511</td>\n",
       "    </tr>\n",
       "    <tr>\n",
       "      <th>6</th>\n",
       "      <td>SCF(Skp2)-mediated degradation of p27/p21 - Reactome</td>\n",
       "      <td>0.000136</td>\n",
       "      <td>12</td>\n",
       "      <td>50</td>\n",
       "      <td>[PSMD13, PSMA5, PSMD11, PSMA7, PSME2, PSMD4, PSMB1, PSMB7, PSMD8, PSMB5, PSMB6, CKS1B]</td>\n",
       "      <td>http://model.geneontology.org/R-HSA-187577</td>\n",
       "    </tr>\n",
       "    <tr>\n",
       "      <th>7</th>\n",
       "      <td>The role of GTSE1 in G2/M progression after G2 checkpoint - Reactome</td>\n",
       "      <td>0.000136</td>\n",
       "      <td>12</td>\n",
       "      <td>50</td>\n",
       "      <td>[PSMD13, PSMA5, PSMD11, PSMA7, PSME2, PSMD4, PSMB1, CDC25B, PSMB7, PSMD8, PSMB5, PSMB6]</td>\n",
       "      <td>http://model.geneontology.org/R-HSA-8852276</td>\n",
       "    </tr>\n",
       "    <tr>\n",
       "      <th>8</th>\n",
       "      <td>SCF-beta-TrCP mediated degradation of Emi1 - Reactome</td>\n",
       "      <td>0.000167</td>\n",
       "      <td>12</td>\n",
       "      <td>51</td>\n",
       "      <td>[PSMD13, PSMA5, PSMD11, PSMA7, PSME2, PSMD4, PSMB1, PSMB7, CDK1, PSMD8, PSMB5, PSMB6]</td>\n",
       "      <td>http://model.geneontology.org/R-HSA-174113</td>\n",
       "    </tr>\n",
       "    <tr>\n",
       "      <th>9</th>\n",
       "      <td>GSK3B and BTRC:CUL1-mediated-degradation of NFE2L2 - Reactome</td>\n",
       "      <td>0.000175</td>\n",
       "      <td>11</td>\n",
       "      <td>44</td>\n",
       "      <td>[PSMD13, PSMA5, PSMD11, PSMA7, PSME2, PSMD4, PSMB1, PSMB7, PSMD8, PSMB5, PSMB6]</td>\n",
       "      <td>http://model.geneontology.org/R-HSA-9762114</td>\n",
       "    </tr>\n",
       "    <tr>\n",
       "      <th>10</th>\n",
       "      <td>Degradation of beta-catenin by the destruction complex - Reactome</td>\n",
       "      <td>0.000183</td>\n",
       "      <td>13</td>\n",
       "      <td>59</td>\n",
       "      <td>[PSMD13, PSMA5, PSMD11, PPP2R5B, PSMA7, PSME2, PSMD4, PSMB1, PSMB7, PPP2R1B, PSMD8, PSMB5, PSMB6]</td>\n",
       "      <td>http://model.geneontology.org/R-HSA-195253</td>\n",
       "    </tr>\n",
       "    <tr>\n",
       "      <th>11</th>\n",
       "      <td>Cross-presentation of soluble exogenous antigens (endosomes) - Reactome</td>\n",
       "      <td>0.000217</td>\n",
       "      <td>11</td>\n",
       "      <td>45</td>\n",
       "      <td>[PSMD13, PSMA5, PSMD11, PSMA7, PSME2, PSMD4, PSMB1, PSMB7, PSMD8, PSMB5, PSMB6]</td>\n",
       "      <td>http://model.geneontology.org/R-HSA-1236978</td>\n",
       "    </tr>\n",
       "    <tr>\n",
       "      <th>12</th>\n",
       "      <td>AUF1 (hnRNP D0) binds and destabilizes mRNA - Reactome</td>\n",
       "      <td>0.000217</td>\n",
       "      <td>11</td>\n",
       "      <td>45</td>\n",
       "      <td>[PSMD13, PSMA5, PSMD11, PSMA7, PSME2, PSMD4, PSMB1, PSMB7, PSMD8, PSMB5, PSMB6]</td>\n",
       "      <td>http://model.geneontology.org/R-HSA-450408</td>\n",
       "    </tr>\n",
       "    <tr>\n",
       "      <th>13</th>\n",
       "      <td>APC/C:Cdc20 mediated degradation of mitotic proteins - Reactome</td>\n",
       "      <td>0.000217</td>\n",
       "      <td>11</td>\n",
       "      <td>45</td>\n",
       "      <td>[PSMD13, PSMA5, PSMD11, PSMA7, PSME2, PSMD4, PSMB1, PSMB7, PSMD8, PSMB5, PSMB6]</td>\n",
       "      <td>http://model.geneontology.org/R-HSA-176409</td>\n",
       "    </tr>\n",
       "    <tr>\n",
       "      <th>14</th>\n",
       "      <td>Regulation of activated PAK-2p34 by proteasome mediated degradation - Reactome</td>\n",
       "      <td>0.000268</td>\n",
       "      <td>11</td>\n",
       "      <td>46</td>\n",
       "      <td>[PSMD13, PSMA5, PSMD11, PSMA7, PSME2, PSMD4, PSMB1, PSMB7, PSMD8, PSMB5, PSMB6]</td>\n",
       "      <td>http://model.geneontology.org/R-HSA-211733</td>\n",
       "    </tr>\n",
       "    <tr>\n",
       "      <th>15</th>\n",
       "      <td>Ubiquitin-dependent degradation of Cyclin D - Reactome</td>\n",
       "      <td>0.000268</td>\n",
       "      <td>11</td>\n",
       "      <td>46</td>\n",
       "      <td>[PSMD13, PSMA5, PSMD11, PSMA7, PSME2, PSMD4, PSMB1, PSMB7, PSMD8, PSMB5, PSMB6]</td>\n",
       "      <td>http://model.geneontology.org/R-HSA-75815</td>\n",
       "    </tr>\n",
       "    <tr>\n",
       "      <th>16</th>\n",
       "      <td>Regulation of RUNX3 expression and activity - Reactome</td>\n",
       "      <td>0.000268</td>\n",
       "      <td>11</td>\n",
       "      <td>46</td>\n",
       "      <td>[PSMD13, PSMA5, PSMD11, PSMA7, PSME2, PSMD4, PSMB1, PSMB7, PSMD8, PSMB5, PSMB6]</td>\n",
       "      <td>http://model.geneontology.org/R-HSA-8941858</td>\n",
       "    </tr>\n",
       "    <tr>\n",
       "      <th>17</th>\n",
       "      <td>Antigen Presentation: Folding, assembly and peptide loading of class I MHC - Reactome</td>\n",
       "      <td>0.000297</td>\n",
       "      <td>12</td>\n",
       "      <td>54</td>\n",
       "      <td>[PSMD13, PSMA5, PSMD11, PSMA7, PSME2, PSMD4, PSMB1, PSMB7, PSMD8, PSMB5, PSMB6, ERAP2]</td>\n",
       "      <td>http://model.geneontology.org/R-HSA-983170</td>\n",
       "    </tr>\n",
       "    <tr>\n",
       "      <th>18</th>\n",
       "      <td>Degradation of DVL - Reactome</td>\n",
       "      <td>0.000328</td>\n",
       "      <td>11</td>\n",
       "      <td>47</td>\n",
       "      <td>[PSMD13, PSMA5, PSMD11, PSMA7, PSME2, PSMD4, PSMB1, PSMB7, PSMD8, PSMB5, PSMB6]</td>\n",
       "      <td>http://model.geneontology.org/R-HSA-4641258</td>\n",
       "    </tr>\n",
       "    <tr>\n",
       "      <th>19</th>\n",
       "      <td>Autodegradation of the E3 ubiquitin ligase COP1 - Reactome</td>\n",
       "      <td>0.000328</td>\n",
       "      <td>11</td>\n",
       "      <td>47</td>\n",
       "      <td>[PSMD13, PSMA5, PSMD11, PSMA7, PSME2, PSMD4, PSMB1, PSMB7, PSMD8, PSMB5, PSMB6]</td>\n",
       "      <td>http://model.geneontology.org/R-HSA-349425</td>\n",
       "    </tr>\n",
       "    <tr>\n",
       "      <th>20</th>\n",
       "      <td>Asymmetric localization of PCP proteins - Reactome</td>\n",
       "      <td>0.000328</td>\n",
       "      <td>11</td>\n",
       "      <td>47</td>\n",
       "      <td>[PSMD13, PSMA5, PSMD11, PSMA7, PSME2, PSMD4, PSMB1, PSMB7, PSMD8, PSMB5, PSMB6]</td>\n",
       "      <td>http://model.geneontology.org/R-HSA-4608870</td>\n",
       "    </tr>\n",
       "    <tr>\n",
       "      <th>21</th>\n",
       "      <td>TNFR2 non-canonical NF-kB pathway - Reactome</td>\n",
       "      <td>0.000328</td>\n",
       "      <td>11</td>\n",
       "      <td>47</td>\n",
       "      <td>[PSMD13, PSMA5, PSMD11, PSMA7, PSME2, PSMD4, PSMB1, PSMB7, PSMD8, PSMB5, PSMB6]</td>\n",
       "      <td>http://model.geneontology.org/R-HSA-5668541</td>\n",
       "    </tr>\n",
       "    <tr>\n",
       "      <th>22</th>\n",
       "      <td>Synthesis of PE - Reactome</td>\n",
       "      <td>0.000338</td>\n",
       "      <td>9</td>\n",
       "      <td>33</td>\n",
       "      <td>[PTDSS2, LPIN1, PCYT2, PNPLA2, PISD, AGPAT2, CHKB, AGPAT4, PHOSPHO1]</td>\n",
       "      <td>http://model.geneontology.org/R-HSA-1483213</td>\n",
       "    </tr>\n",
       "    <tr>\n",
       "      <th>23</th>\n",
       "      <td>Heme biosynthesis - Reactome</td>\n",
       "      <td>0.000348</td>\n",
       "      <td>6</td>\n",
       "      <td>15</td>\n",
       "      <td>[ALAS2, UROS, COX10, HMBS, CPOX, PPOX]</td>\n",
       "      <td>http://model.geneontology.org/R-HSA-189451</td>\n",
       "    </tr>\n",
       "    <tr>\n",
       "      <th>24</th>\n",
       "      <td>G2/M Checkpoints - Reactome</td>\n",
       "      <td>0.000399</td>\n",
       "      <td>11</td>\n",
       "      <td>48</td>\n",
       "      <td>[PSMD13, PSMA5, PSMD11, PSMA7, PSME2, PSMD4, PSMB1, PSMB7, PSMD8, PSMB5, PSMB6]</td>\n",
       "      <td>http://model.geneontology.org/R-HSA-69481</td>\n",
       "    </tr>\n",
       "    <tr>\n",
       "      <th>25</th>\n",
       "      <td>Degradation of AXIN - Reactome</td>\n",
       "      <td>0.000483</td>\n",
       "      <td>11</td>\n",
       "      <td>49</td>\n",
       "      <td>[PSMD13, PSMA5, PSMD11, PSMA7, PSME2, PSMD4, PSMB1, PSMB7, PSMD8, PSMB5, PSMB6]</td>\n",
       "      <td>http://model.geneontology.org/R-HSA-4641257</td>\n",
       "    </tr>\n",
       "    <tr>\n",
       "      <th>26</th>\n",
       "      <td>Oxygen-dependent proline hydroxylation of Hypoxia-inducible Factor Alpha - Reactome</td>\n",
       "      <td>0.000483</td>\n",
       "      <td>11</td>\n",
       "      <td>49</td>\n",
       "      <td>[PSMD13, PSMA5, PSMD11, PSMA7, PSME2, PSMD4, PSMB1, PSMB7, PSMD8, PSMB5, PSMB6]</td>\n",
       "      <td>http://model.geneontology.org/R-HSA-1234176</td>\n",
       "    </tr>\n",
       "    <tr>\n",
       "      <th>27</th>\n",
       "      <td>RUNX1 regulates transcription of genes involved in differentiation of HSCs - Reactome</td>\n",
       "      <td>0.000483</td>\n",
       "      <td>11</td>\n",
       "      <td>49</td>\n",
       "      <td>[PSMD13, PSMA5, PSMD11, PSMA7, PSME2, PSMD4, PSMB1, PSMB7, PSMD8, PSMB5, PSMB6]</td>\n",
       "      <td>http://model.geneontology.org/R-HSA-8939236</td>\n",
       "    </tr>\n",
       "    <tr>\n",
       "      <th>28</th>\n",
       "      <td>Ubiquitin Mediated Degradation of Phosphorylated Cdc25A - Reactome</td>\n",
       "      <td>0.000483</td>\n",
       "      <td>11</td>\n",
       "      <td>49</td>\n",
       "      <td>[PSMD13, PSMA5, PSMD11, PSMA7, PSME2, PSMD4, PSMB1, PSMB7, PSMD8, PSMB5, PSMB6]</td>\n",
       "      <td>http://model.geneontology.org/R-HSA-69601</td>\n",
       "    </tr>\n",
       "    <tr>\n",
       "      <th>29</th>\n",
       "      <td>Cyclin A:Cdk2-associated events at S phase entry - Reactome</td>\n",
       "      <td>0.000505</td>\n",
       "      <td>12</td>\n",
       "      <td>57</td>\n",
       "      <td>[PSMD13, PSMA5, PSMD11, PSMA7, PSME2, PSMD4, PSMB1, CDC25B, PSMB7, PSMD8, PSMB5, PSMB6]</td>\n",
       "      <td>http://model.geneontology.org/R-HSA-69656</td>\n",
       "    </tr>\n",
       "    <tr>\n",
       "      <th>30</th>\n",
       "      <td>Respiratory electron transport - Reactome</td>\n",
       "      <td>0.000546</td>\n",
       "      <td>16</td>\n",
       "      <td>91</td>\n",
       "      <td>[NDUFS8, ACADVL, COX5B, NDUFS5, NDUFA8, NDUFB7, ETFB, NDUFB8, NDUFV2, COX5A, COX7C, NDUFV1, NDUF...</td>\n",
       "      <td>http://model.geneontology.org/R-HSA-611105</td>\n",
       "    </tr>\n",
       "    <tr>\n",
       "      <th>31</th>\n",
       "      <td>FBXL7 down-regulates AURKA during mitotic entry and in early mitosis - Reactome</td>\n",
       "      <td>0.000580</td>\n",
       "      <td>11</td>\n",
       "      <td>50</td>\n",
       "      <td>[PSMD13, PSMA5, PSMD11, PSMA7, PSME2, PSMD4, PSMB1, PSMB7, PSMD8, PSMB5, PSMB6]</td>\n",
       "      <td>http://model.geneontology.org/R-HSA-8854050</td>\n",
       "    </tr>\n",
       "    <tr>\n",
       "      <th>32</th>\n",
       "      <td>Hedgehog 'on' state - Reactome</td>\n",
       "      <td>0.000580</td>\n",
       "      <td>11</td>\n",
       "      <td>50</td>\n",
       "      <td>[PSMD13, PSMA5, PSMD11, PSMA7, PSME2, PSMD4, PSMB1, PSMB7, PSMD8, PSMB5, PSMB6]</td>\n",
       "      <td>http://model.geneontology.org/R-HSA-5632684</td>\n",
       "    </tr>\n",
       "    <tr>\n",
       "      <th>33</th>\n",
       "      <td>NIK--&gt;noncanonical NF-kB signaling - Reactome</td>\n",
       "      <td>0.000694</td>\n",
       "      <td>11</td>\n",
       "      <td>51</td>\n",
       "      <td>[PSMD13, PSMA5, PSMD11, PSMA7, PSME2, PSMD4, PSMB1, PSMB7, PSMD8, PSMB5, PSMB6]</td>\n",
       "      <td>http://model.geneontology.org/R-HSA-5676590</td>\n",
       "    </tr>\n",
       "    <tr>\n",
       "      <th>34</th>\n",
       "      <td>Negative regulation of NOTCH4 signaling - Reactome</td>\n",
       "      <td>0.000694</td>\n",
       "      <td>11</td>\n",
       "      <td>51</td>\n",
       "      <td>[PSMD13, PSMA5, PSMD11, PSMA7, PSME2, PSMD4, PSMB1, PSMB7, PSMD8, PSMB5, PSMB6]</td>\n",
       "      <td>http://model.geneontology.org/R-HSA-9604323</td>\n",
       "    </tr>\n",
       "    <tr>\n",
       "      <th>35</th>\n",
       "      <td>Regulation of expression of SLITs and ROBOs - Reactome</td>\n",
       "      <td>0.000694</td>\n",
       "      <td>11</td>\n",
       "      <td>51</td>\n",
       "      <td>[PSMD13, PSMA5, PSMD11, PSMA7, PSME2, PSMD4, PSMB1, PSMB7, PSMD8, PSMB5, PSMB6]</td>\n",
       "      <td>http://model.geneontology.org/R-HSA-9010553</td>\n",
       "    </tr>\n",
       "    <tr>\n",
       "      <th>36</th>\n",
       "      <td>Dectin-1 mediated noncanonical NF-kB signaling - Reactome</td>\n",
       "      <td>0.000694</td>\n",
       "      <td>11</td>\n",
       "      <td>51</td>\n",
       "      <td>[PSMD13, PSMA5, PSMD11, PSMA7, PSME2, PSMD4, PSMB1, PSMB7, PSMD8, PSMB5, PSMB6]</td>\n",
       "      <td>http://model.geneontology.org/R-HSA-5607761</td>\n",
       "    </tr>\n",
       "    <tr>\n",
       "      <th>37</th>\n",
       "      <td>Cyclin E associated events during G1/S transition - Reactome</td>\n",
       "      <td>0.000703</td>\n",
       "      <td>12</td>\n",
       "      <td>59</td>\n",
       "      <td>[PSMD13, PSMA5, PSMD11, CDK4, PSMA7, PSME2, PSMD4, PSMB1, PSMB7, PSMD8, PSMB5, PSMB6]</td>\n",
       "      <td>http://model.geneontology.org/R-HSA-69202</td>\n",
       "    </tr>\n",
       "    <tr>\n",
       "      <th>38</th>\n",
       "      <td>Orc1 removal from chromatin - Reactome</td>\n",
       "      <td>0.000825</td>\n",
       "      <td>11</td>\n",
       "      <td>52</td>\n",
       "      <td>[PSMD13, PSMA5, PSMD11, PSMA7, PSME2, PSMD4, PSMB1, PSMB7, PSMD8, PSMB5, PSMB6]</td>\n",
       "      <td>http://model.geneontology.org/R-HSA-68949</td>\n",
       "    </tr>\n",
       "    <tr>\n",
       "      <th>39</th>\n",
       "      <td>Degradation of GLI1 by the proteasome - Reactome</td>\n",
       "      <td>0.000977</td>\n",
       "      <td>11</td>\n",
       "      <td>53</td>\n",
       "      <td>[PSMD13, PSMA5, PSMD11, PSMA7, PSME2, PSMD4, PSMB1, PSMB7, PSMD8, PSMB5, PSMB6]</td>\n",
       "      <td>http://model.geneontology.org/R-HSA-5610780</td>\n",
       "    </tr>\n",
       "    <tr>\n",
       "      <th>40</th>\n",
       "      <td>GLI3 is processed to GLI3R by the proteasome - Reactome</td>\n",
       "      <td>0.001151</td>\n",
       "      <td>11</td>\n",
       "      <td>54</td>\n",
       "      <td>[PSMD13, PSMA5, PSMD11, PSMA7, PSME2, PSMD4, PSMB1, PSMB7, PSMD8, PSMB5, PSMB6]</td>\n",
       "      <td>http://model.geneontology.org/R-HSA-5610785</td>\n",
       "    </tr>\n",
       "    <tr>\n",
       "      <th>41</th>\n",
       "      <td>Regulation of RUNX2 expression and activity - Reactome</td>\n",
       "      <td>0.001151</td>\n",
       "      <td>11</td>\n",
       "      <td>54</td>\n",
       "      <td>[PSMD13, PSMA5, PSMD11, PSMA7, PSME2, PSMD4, PSMB1, PSMB7, PSMD8, PSMB5, PSMB6]</td>\n",
       "      <td>http://model.geneontology.org/R-HSA-8939902</td>\n",
       "    </tr>\n",
       "    <tr>\n",
       "      <th>42</th>\n",
       "      <td>Degradation of GLI2 by the proteasome - Reactome</td>\n",
       "      <td>0.001151</td>\n",
       "      <td>11</td>\n",
       "      <td>54</td>\n",
       "      <td>[PSMD13, PSMA5, PSMD11, PSMA7, PSME2, PSMD4, PSMB1, PSMB7, PSMD8, PSMB5, PSMB6]</td>\n",
       "      <td>http://model.geneontology.org/R-HSA-5610783</td>\n",
       "    </tr>\n",
       "    <tr>\n",
       "      <th>43</th>\n",
       "      <td>Hedgehog 'off' state - Reactome</td>\n",
       "      <td>0.001349</td>\n",
       "      <td>11</td>\n",
       "      <td>55</td>\n",
       "      <td>[PSMD13, PSMA5, PSMD11, PSMA7, PSME2, PSMD4, PSMB1, PSMB7, PSMD8, PSMB5, PSMB6]</td>\n",
       "      <td>http://model.geneontology.org/R-HSA-5610787</td>\n",
       "    </tr>\n",
       "    <tr>\n",
       "      <th>44</th>\n",
       "      <td>Regulation of PTEN stability and activity - Reactome</td>\n",
       "      <td>0.001495</td>\n",
       "      <td>12</td>\n",
       "      <td>64</td>\n",
       "      <td>[PSMD13, PSMA5, PSMD11, PSMA7, PSME2, PSMD4, PSMB1, PSMB7, CSNK2B, PSMD8, PSMB5, PSMB6]</td>\n",
       "      <td>http://model.geneontology.org/R-HSA-8948751</td>\n",
       "    </tr>\n",
       "    <tr>\n",
       "      <th>45</th>\n",
       "      <td>CLEC7A (Dectin-1) signaling - Reactome</td>\n",
       "      <td>0.001575</td>\n",
       "      <td>11</td>\n",
       "      <td>56</td>\n",
       "      <td>[PSMD13, PSMA5, PSMD11, PSMA7, PSME2, PSMD4, PSMB1, PSMB7, PSMD8, PSMB5, PSMB6]</td>\n",
       "      <td>http://model.geneontology.org/R-HSA-5607764</td>\n",
       "    </tr>\n",
       "    <tr>\n",
       "      <th>46</th>\n",
       "      <td>FCERI mediated NF-kB activation - Reactome</td>\n",
       "      <td>0.001575</td>\n",
       "      <td>11</td>\n",
       "      <td>56</td>\n",
       "      <td>[PSMD13, PSMA5, PSMD11, PSMA7, PSME2, PSMD4, PSMB1, PSMB7, PSMD8, PSMB5, PSMB6]</td>\n",
       "      <td>http://model.geneontology.org/R-HSA-2871837</td>\n",
       "    </tr>\n",
       "    <tr>\n",
       "      <th>47</th>\n",
       "      <td>The proton buffering model - Reactome</td>\n",
       "      <td>0.001795</td>\n",
       "      <td>13</td>\n",
       "      <td>74</td>\n",
       "      <td>[NDUFS8, COX5B, NDUFS5, NDUFA8, NDUFB7, NDUFB8, NDUFV2, COX5A, COX7C, NDUFV1, NDUFA11, NDUFA13, ...</td>\n",
       "      <td>http://model.geneontology.org/R-HSA-167827</td>\n",
       "    </tr>\n",
       "    <tr>\n",
       "      <th>48</th>\n",
       "      <td>The fatty acid cycling model - Reactome</td>\n",
       "      <td>0.001795</td>\n",
       "      <td>13</td>\n",
       "      <td>74</td>\n",
       "      <td>[NDUFS8, COX5B, NDUFS5, NDUFA8, NDUFB7, NDUFB8, NDUFV2, COX5A, COX7C, NDUFV1, NDUFA11, NDUFA13, ...</td>\n",
       "      <td>http://model.geneontology.org/R-HSA-167826</td>\n",
       "    </tr>\n",
       "  </tbody>\n",
       "</table>\n",
       "</div>"
      ],
      "text/plain": [
       "                                                                                    title  \\\n",
       "0                                                         ER-Phagosome pathway - Reactome   \n",
       "1                                                   Hedgehog ligand biogenesis - Reactome   \n",
       "2               Regulation of APC/C activators between G1/S and early anaphase - Reactome   \n",
       "3                   Conversion from APC/C:Cdc20 to APC/C:Cdh1 in late anaphase - Reactome   \n",
       "4                                                                  Neddylation - Reactome   \n",
       "5                                                         KEAP1-NFE2L2 pathway - Reactome   \n",
       "6                                    SCF(Skp2)-mediated degradation of p27/p21 - Reactome   \n",
       "7                    The role of GTSE1 in G2/M progression after G2 checkpoint - Reactome   \n",
       "8                                   SCF-beta-TrCP mediated degradation of Emi1 - Reactome   \n",
       "9                           GSK3B and BTRC:CUL1-mediated-degradation of NFE2L2 - Reactome   \n",
       "10                      Degradation of beta-catenin by the destruction complex - Reactome   \n",
       "11                Cross-presentation of soluble exogenous antigens (endosomes) - Reactome   \n",
       "12                                 AUF1 (hnRNP D0) binds and destabilizes mRNA - Reactome   \n",
       "13                        APC/C:Cdc20 mediated degradation of mitotic proteins - Reactome   \n",
       "14         Regulation of activated PAK-2p34 by proteasome mediated degradation - Reactome   \n",
       "15                                 Ubiquitin-dependent degradation of Cyclin D - Reactome   \n",
       "16                                 Regulation of RUNX3 expression and activity - Reactome   \n",
       "17  Antigen Presentation: Folding, assembly and peptide loading of class I MHC - Reactome   \n",
       "18                                                          Degradation of DVL - Reactome   \n",
       "19                             Autodegradation of the E3 ubiquitin ligase COP1 - Reactome   \n",
       "20                                     Asymmetric localization of PCP proteins - Reactome   \n",
       "21                                           TNFR2 non-canonical NF-kB pathway - Reactome   \n",
       "22                                                             Synthesis of PE - Reactome   \n",
       "23                                                           Heme biosynthesis - Reactome   \n",
       "24                                                            G2/M Checkpoints - Reactome   \n",
       "25                                                         Degradation of AXIN - Reactome   \n",
       "26    Oxygen-dependent proline hydroxylation of Hypoxia-inducible Factor Alpha - Reactome   \n",
       "27  RUNX1 regulates transcription of genes involved in differentiation of HSCs - Reactome   \n",
       "28                     Ubiquitin Mediated Degradation of Phosphorylated Cdc25A - Reactome   \n",
       "29                            Cyclin A:Cdk2-associated events at S phase entry - Reactome   \n",
       "30                                              Respiratory electron transport - Reactome   \n",
       "31        FBXL7 down-regulates AURKA during mitotic entry and in early mitosis - Reactome   \n",
       "32                                                         Hedgehog 'on' state - Reactome   \n",
       "33                                          NIK-->noncanonical NF-kB signaling - Reactome   \n",
       "34                                     Negative regulation of NOTCH4 signaling - Reactome   \n",
       "35                                 Regulation of expression of SLITs and ROBOs - Reactome   \n",
       "36                              Dectin-1 mediated noncanonical NF-kB signaling - Reactome   \n",
       "37                           Cyclin E associated events during G1/S transition - Reactome   \n",
       "38                                                 Orc1 removal from chromatin - Reactome   \n",
       "39                                       Degradation of GLI1 by the proteasome - Reactome   \n",
       "40                                GLI3 is processed to GLI3R by the proteasome - Reactome   \n",
       "41                                 Regulation of RUNX2 expression and activity - Reactome   \n",
       "42                                       Degradation of GLI2 by the proteasome - Reactome   \n",
       "43                                                        Hedgehog 'off' state - Reactome   \n",
       "44                                   Regulation of PTEN stability and activity - Reactome   \n",
       "45                                                 CLEC7A (Dectin-1) signaling - Reactome   \n",
       "46                                             FCERI mediated NF-kB activation - Reactome   \n",
       "47                                                  The proton buffering model - Reactome   \n",
       "48                                                The fatty acid cycling model - Reactome   \n",
       "\n",
       "    pval (uncorrected)  # entities in list  #entities in model  \\\n",
       "0             0.000045                  13                  52   \n",
       "1             0.000045                  13                  52   \n",
       "2             0.000069                  13                  54   \n",
       "3             0.000111                  12                  49   \n",
       "4             0.000113                  14                  64   \n",
       "5             0.000126                  13                  57   \n",
       "6             0.000136                  12                  50   \n",
       "7             0.000136                  12                  50   \n",
       "8             0.000167                  12                  51   \n",
       "9             0.000175                  11                  44   \n",
       "10            0.000183                  13                  59   \n",
       "11            0.000217                  11                  45   \n",
       "12            0.000217                  11                  45   \n",
       "13            0.000217                  11                  45   \n",
       "14            0.000268                  11                  46   \n",
       "15            0.000268                  11                  46   \n",
       "16            0.000268                  11                  46   \n",
       "17            0.000297                  12                  54   \n",
       "18            0.000328                  11                  47   \n",
       "19            0.000328                  11                  47   \n",
       "20            0.000328                  11                  47   \n",
       "21            0.000328                  11                  47   \n",
       "22            0.000338                   9                  33   \n",
       "23            0.000348                   6                  15   \n",
       "24            0.000399                  11                  48   \n",
       "25            0.000483                  11                  49   \n",
       "26            0.000483                  11                  49   \n",
       "27            0.000483                  11                  49   \n",
       "28            0.000483                  11                  49   \n",
       "29            0.000505                  12                  57   \n",
       "30            0.000546                  16                  91   \n",
       "31            0.000580                  11                  50   \n",
       "32            0.000580                  11                  50   \n",
       "33            0.000694                  11                  51   \n",
       "34            0.000694                  11                  51   \n",
       "35            0.000694                  11                  51   \n",
       "36            0.000694                  11                  51   \n",
       "37            0.000703                  12                  59   \n",
       "38            0.000825                  11                  52   \n",
       "39            0.000977                  11                  53   \n",
       "40            0.001151                  11                  54   \n",
       "41            0.001151                  11                  54   \n",
       "42            0.001151                  11                  54   \n",
       "43            0.001349                  11                  55   \n",
       "44            0.001495                  12                  64   \n",
       "45            0.001575                  11                  56   \n",
       "46            0.001575                  11                  56   \n",
       "47            0.001795                  13                  74   \n",
       "48            0.001795                  13                  74   \n",
       "\n",
       "                                                                               shared entities in gocam  \\\n",
       "0      [SEC61A1, PSMD13, PSMA5, PSMD11, SEC61B, PSMA7, PSME2, PSMD4, PSMB1, PSMB7, PSMD8, PSMB5, PSMB6]   \n",
       "1          [PSMD13, PSMA5, PSMD11, PSMA7, PSME2, PSMD4, PSMB1, PSMB7, PSMD8, PSMB5, P4HB, PSMB6, SYVN1]   \n",
       "2         [PSMD13, PSMA5, PSMD11, PSMA7, PSME2, PSMD4, PSMB1, CDC25B, PSMB7, CDK1, PSMD8, PSMB5, PSMB6]   \n",
       "3                 [PSMD13, PSMA5, PSMD11, PSMA7, PSME2, PSMD4, PSMB1, PSMB7, CDK1, PSMD8, PSMB5, PSMB6]   \n",
       "4   [UBE2M, PSMD13, PSMA5, PSMD11, PSMA7, PSME2, PSMD4, PSMB1, CUL9, PSMB7, UCHL3, PSMD8, PSMB5, PSMB6]   \n",
       "5        [PSMD13, PSMA5, PSMD11, PSMA7, PSME2, PSMD4, PSMB1, PSMB7, CSNK2B, PSMD8, PSMB5, PSMB6, PRDX2]   \n",
       "6                [PSMD13, PSMA5, PSMD11, PSMA7, PSME2, PSMD4, PSMB1, PSMB7, PSMD8, PSMB5, PSMB6, CKS1B]   \n",
       "7               [PSMD13, PSMA5, PSMD11, PSMA7, PSME2, PSMD4, PSMB1, CDC25B, PSMB7, PSMD8, PSMB5, PSMB6]   \n",
       "8                 [PSMD13, PSMA5, PSMD11, PSMA7, PSME2, PSMD4, PSMB1, PSMB7, CDK1, PSMD8, PSMB5, PSMB6]   \n",
       "9                       [PSMD13, PSMA5, PSMD11, PSMA7, PSME2, PSMD4, PSMB1, PSMB7, PSMD8, PSMB5, PSMB6]   \n",
       "10    [PSMD13, PSMA5, PSMD11, PPP2R5B, PSMA7, PSME2, PSMD4, PSMB1, PSMB7, PPP2R1B, PSMD8, PSMB5, PSMB6]   \n",
       "11                      [PSMD13, PSMA5, PSMD11, PSMA7, PSME2, PSMD4, PSMB1, PSMB7, PSMD8, PSMB5, PSMB6]   \n",
       "12                      [PSMD13, PSMA5, PSMD11, PSMA7, PSME2, PSMD4, PSMB1, PSMB7, PSMD8, PSMB5, PSMB6]   \n",
       "13                      [PSMD13, PSMA5, PSMD11, PSMA7, PSME2, PSMD4, PSMB1, PSMB7, PSMD8, PSMB5, PSMB6]   \n",
       "14                      [PSMD13, PSMA5, PSMD11, PSMA7, PSME2, PSMD4, PSMB1, PSMB7, PSMD8, PSMB5, PSMB6]   \n",
       "15                      [PSMD13, PSMA5, PSMD11, PSMA7, PSME2, PSMD4, PSMB1, PSMB7, PSMD8, PSMB5, PSMB6]   \n",
       "16                      [PSMD13, PSMA5, PSMD11, PSMA7, PSME2, PSMD4, PSMB1, PSMB7, PSMD8, PSMB5, PSMB6]   \n",
       "17               [PSMD13, PSMA5, PSMD11, PSMA7, PSME2, PSMD4, PSMB1, PSMB7, PSMD8, PSMB5, PSMB6, ERAP2]   \n",
       "18                      [PSMD13, PSMA5, PSMD11, PSMA7, PSME2, PSMD4, PSMB1, PSMB7, PSMD8, PSMB5, PSMB6]   \n",
       "19                      [PSMD13, PSMA5, PSMD11, PSMA7, PSME2, PSMD4, PSMB1, PSMB7, PSMD8, PSMB5, PSMB6]   \n",
       "20                      [PSMD13, PSMA5, PSMD11, PSMA7, PSME2, PSMD4, PSMB1, PSMB7, PSMD8, PSMB5, PSMB6]   \n",
       "21                      [PSMD13, PSMA5, PSMD11, PSMA7, PSME2, PSMD4, PSMB1, PSMB7, PSMD8, PSMB5, PSMB6]   \n",
       "22                                 [PTDSS2, LPIN1, PCYT2, PNPLA2, PISD, AGPAT2, CHKB, AGPAT4, PHOSPHO1]   \n",
       "23                                                               [ALAS2, UROS, COX10, HMBS, CPOX, PPOX]   \n",
       "24                      [PSMD13, PSMA5, PSMD11, PSMA7, PSME2, PSMD4, PSMB1, PSMB7, PSMD8, PSMB5, PSMB6]   \n",
       "25                      [PSMD13, PSMA5, PSMD11, PSMA7, PSME2, PSMD4, PSMB1, PSMB7, PSMD8, PSMB5, PSMB6]   \n",
       "26                      [PSMD13, PSMA5, PSMD11, PSMA7, PSME2, PSMD4, PSMB1, PSMB7, PSMD8, PSMB5, PSMB6]   \n",
       "27                      [PSMD13, PSMA5, PSMD11, PSMA7, PSME2, PSMD4, PSMB1, PSMB7, PSMD8, PSMB5, PSMB6]   \n",
       "28                      [PSMD13, PSMA5, PSMD11, PSMA7, PSME2, PSMD4, PSMB1, PSMB7, PSMD8, PSMB5, PSMB6]   \n",
       "29              [PSMD13, PSMA5, PSMD11, PSMA7, PSME2, PSMD4, PSMB1, CDC25B, PSMB7, PSMD8, PSMB5, PSMB6]   \n",
       "30  [NDUFS8, ACADVL, COX5B, NDUFS5, NDUFA8, NDUFB7, ETFB, NDUFB8, NDUFV2, COX5A, COX7C, NDUFV1, NDUF...   \n",
       "31                      [PSMD13, PSMA5, PSMD11, PSMA7, PSME2, PSMD4, PSMB1, PSMB7, PSMD8, PSMB5, PSMB6]   \n",
       "32                      [PSMD13, PSMA5, PSMD11, PSMA7, PSME2, PSMD4, PSMB1, PSMB7, PSMD8, PSMB5, PSMB6]   \n",
       "33                      [PSMD13, PSMA5, PSMD11, PSMA7, PSME2, PSMD4, PSMB1, PSMB7, PSMD8, PSMB5, PSMB6]   \n",
       "34                      [PSMD13, PSMA5, PSMD11, PSMA7, PSME2, PSMD4, PSMB1, PSMB7, PSMD8, PSMB5, PSMB6]   \n",
       "35                      [PSMD13, PSMA5, PSMD11, PSMA7, PSME2, PSMD4, PSMB1, PSMB7, PSMD8, PSMB5, PSMB6]   \n",
       "36                      [PSMD13, PSMA5, PSMD11, PSMA7, PSME2, PSMD4, PSMB1, PSMB7, PSMD8, PSMB5, PSMB6]   \n",
       "37                [PSMD13, PSMA5, PSMD11, CDK4, PSMA7, PSME2, PSMD4, PSMB1, PSMB7, PSMD8, PSMB5, PSMB6]   \n",
       "38                      [PSMD13, PSMA5, PSMD11, PSMA7, PSME2, PSMD4, PSMB1, PSMB7, PSMD8, PSMB5, PSMB6]   \n",
       "39                      [PSMD13, PSMA5, PSMD11, PSMA7, PSME2, PSMD4, PSMB1, PSMB7, PSMD8, PSMB5, PSMB6]   \n",
       "40                      [PSMD13, PSMA5, PSMD11, PSMA7, PSME2, PSMD4, PSMB1, PSMB7, PSMD8, PSMB5, PSMB6]   \n",
       "41                      [PSMD13, PSMA5, PSMD11, PSMA7, PSME2, PSMD4, PSMB1, PSMB7, PSMD8, PSMB5, PSMB6]   \n",
       "42                      [PSMD13, PSMA5, PSMD11, PSMA7, PSME2, PSMD4, PSMB1, PSMB7, PSMD8, PSMB5, PSMB6]   \n",
       "43                      [PSMD13, PSMA5, PSMD11, PSMA7, PSME2, PSMD4, PSMB1, PSMB7, PSMD8, PSMB5, PSMB6]   \n",
       "44              [PSMD13, PSMA5, PSMD11, PSMA7, PSME2, PSMD4, PSMB1, PSMB7, CSNK2B, PSMD8, PSMB5, PSMB6]   \n",
       "45                      [PSMD13, PSMA5, PSMD11, PSMA7, PSME2, PSMD4, PSMB1, PSMB7, PSMD8, PSMB5, PSMB6]   \n",
       "46                      [PSMD13, PSMA5, PSMD11, PSMA7, PSME2, PSMD4, PSMB1, PSMB7, PSMD8, PSMB5, PSMB6]   \n",
       "47  [NDUFS8, COX5B, NDUFS5, NDUFA8, NDUFB7, NDUFB8, NDUFV2, COX5A, COX7C, NDUFV1, NDUFA11, NDUFA13, ...   \n",
       "48  [NDUFS8, COX5B, NDUFS5, NDUFA8, NDUFB7, NDUFB8, NDUFV2, COX5A, COX7C, NDUFV1, NDUFA11, NDUFA13, ...   \n",
       "\n",
       "                                            url  \n",
       "0   http://model.geneontology.org/R-HSA-1236974  \n",
       "1   http://model.geneontology.org/R-HSA-5358346  \n",
       "2    http://model.geneontology.org/R-HSA-176408  \n",
       "3    http://model.geneontology.org/R-HSA-176407  \n",
       "4   http://model.geneontology.org/R-HSA-8951664  \n",
       "5   http://model.geneontology.org/R-HSA-9755511  \n",
       "6    http://model.geneontology.org/R-HSA-187577  \n",
       "7   http://model.geneontology.org/R-HSA-8852276  \n",
       "8    http://model.geneontology.org/R-HSA-174113  \n",
       "9   http://model.geneontology.org/R-HSA-9762114  \n",
       "10   http://model.geneontology.org/R-HSA-195253  \n",
       "11  http://model.geneontology.org/R-HSA-1236978  \n",
       "12   http://model.geneontology.org/R-HSA-450408  \n",
       "13   http://model.geneontology.org/R-HSA-176409  \n",
       "14   http://model.geneontology.org/R-HSA-211733  \n",
       "15    http://model.geneontology.org/R-HSA-75815  \n",
       "16  http://model.geneontology.org/R-HSA-8941858  \n",
       "17   http://model.geneontology.org/R-HSA-983170  \n",
       "18  http://model.geneontology.org/R-HSA-4641258  \n",
       "19   http://model.geneontology.org/R-HSA-349425  \n",
       "20  http://model.geneontology.org/R-HSA-4608870  \n",
       "21  http://model.geneontology.org/R-HSA-5668541  \n",
       "22  http://model.geneontology.org/R-HSA-1483213  \n",
       "23   http://model.geneontology.org/R-HSA-189451  \n",
       "24    http://model.geneontology.org/R-HSA-69481  \n",
       "25  http://model.geneontology.org/R-HSA-4641257  \n",
       "26  http://model.geneontology.org/R-HSA-1234176  \n",
       "27  http://model.geneontology.org/R-HSA-8939236  \n",
       "28    http://model.geneontology.org/R-HSA-69601  \n",
       "29    http://model.geneontology.org/R-HSA-69656  \n",
       "30   http://model.geneontology.org/R-HSA-611105  \n",
       "31  http://model.geneontology.org/R-HSA-8854050  \n",
       "32  http://model.geneontology.org/R-HSA-5632684  \n",
       "33  http://model.geneontology.org/R-HSA-5676590  \n",
       "34  http://model.geneontology.org/R-HSA-9604323  \n",
       "35  http://model.geneontology.org/R-HSA-9010553  \n",
       "36  http://model.geneontology.org/R-HSA-5607761  \n",
       "37    http://model.geneontology.org/R-HSA-69202  \n",
       "38    http://model.geneontology.org/R-HSA-68949  \n",
       "39  http://model.geneontology.org/R-HSA-5610780  \n",
       "40  http://model.geneontology.org/R-HSA-5610785  \n",
       "41  http://model.geneontology.org/R-HSA-8939902  \n",
       "42  http://model.geneontology.org/R-HSA-5610783  \n",
       "43  http://model.geneontology.org/R-HSA-5610787  \n",
       "44  http://model.geneontology.org/R-HSA-8948751  \n",
       "45  http://model.geneontology.org/R-HSA-5607764  \n",
       "46  http://model.geneontology.org/R-HSA-2871837  \n",
       "47   http://model.geneontology.org/R-HSA-167827  \n",
       "48   http://model.geneontology.org/R-HSA-167826  "
      ]
     },
     "execution_count": 125,
     "metadata": {},
     "output_type": "execute_result"
    }
   ],
   "source": [
    "enrich.enrich_wrapper('platelets_up.csv','Gene Symbol',method='standard',FDR = 0.05,fpath = '../test_data/processed/')\n"
   ]
  },
  {
   "cell_type": "code",
   "execution_count": 46,
   "id": "5cc96f69-30be-4b82-b069-d07dacd25725",
   "metadata": {},
   "outputs": [
    {
     "name": "stderr",
     "output_type": "stream",
     "text": [
      "100%|████████████████████████████████████████████████████████████████████████| 482/482 [00:00<00:00, 17011.42it/s]\n"
     ]
    },
    {
     "data": {
      "text/html": [
       "<div>\n",
       "<style scoped>\n",
       "    .dataframe tbody tr th:only-of-type {\n",
       "        vertical-align: middle;\n",
       "    }\n",
       "\n",
       "    .dataframe tbody tr th {\n",
       "        vertical-align: top;\n",
       "    }\n",
       "\n",
       "    .dataframe thead th {\n",
       "        text-align: right;\n",
       "    }\n",
       "</style>\n",
       "<table border=\"1\" class=\"dataframe\">\n",
       "  <thead>\n",
       "    <tr style=\"text-align: right;\">\n",
       "      <th></th>\n",
       "      <th>title</th>\n",
       "      <th>pval (uncorrected)</th>\n",
       "      <th># entities in list</th>\n",
       "      <th>#entities in model</th>\n",
       "      <th>shared entities in gocam</th>\n",
       "      <th>url</th>\n",
       "    </tr>\n",
       "  </thead>\n",
       "  <tbody>\n",
       "    <tr>\n",
       "      <th>0</th>\n",
       "      <td>ER-Phagosome pathway - Reactome</td>\n",
       "      <td>0.000047</td>\n",
       "      <td>13</td>\n",
       "      <td>52</td>\n",
       "      <td>[SEC61A1, PSMD13, PSMA5, PSMD11, SEC61B, PSMA7, PSME2, PSMD4, PSMB1, PSMB7, PSMD8, PSMB5, PSMB6]</td>\n",
       "      <td>http://model.geneontology.org/R-HSA-1236974</td>\n",
       "    </tr>\n",
       "    <tr>\n",
       "      <th>1</th>\n",
       "      <td>Hedgehog ligand biogenesis - Reactome</td>\n",
       "      <td>0.000047</td>\n",
       "      <td>13</td>\n",
       "      <td>52</td>\n",
       "      <td>[PSMD13, PSMA5, PSMD11, PSMA7, PSME2, PSMD4, PSMB1, PSMB7, PSMD8, PSMB5, P4HB, PSMB6, SYVN1]</td>\n",
       "      <td>http://model.geneontology.org/R-HSA-5358346</td>\n",
       "    </tr>\n",
       "    <tr>\n",
       "      <th>2</th>\n",
       "      <td>Regulation of APC/C activators between G1/S and early anaphase - Reactome</td>\n",
       "      <td>0.000071</td>\n",
       "      <td>13</td>\n",
       "      <td>54</td>\n",
       "      <td>[PSMD13, PSMA5, PSMD11, PSMA7, PSME2, PSMD4, PSMB1, CDC25B, PSMB7, CDK1, PSMD8, PSMB5, PSMB6]</td>\n",
       "      <td>http://model.geneontology.org/R-HSA-176408</td>\n",
       "    </tr>\n",
       "    <tr>\n",
       "      <th>3</th>\n",
       "      <td>Conversion from APC/C:Cdc20 to APC/C:Cdh1 in late anaphase - Reactome</td>\n",
       "      <td>0.000113</td>\n",
       "      <td>12</td>\n",
       "      <td>49</td>\n",
       "      <td>[PSMD13, PSMA5, PSMD11, PSMA7, PSME2, PSMD4, PSMB1, PSMB7, CDK1, PSMD8, PSMB5, PSMB6]</td>\n",
       "      <td>http://model.geneontology.org/R-HSA-176407</td>\n",
       "    </tr>\n",
       "    <tr>\n",
       "      <th>4</th>\n",
       "      <td>Neddylation - Reactome</td>\n",
       "      <td>0.000116</td>\n",
       "      <td>14</td>\n",
       "      <td>64</td>\n",
       "      <td>[UBE2M, PSMD13, PSMA5, PSMD11, PSMA7, PSME2, PSMD4, PSMB1, CUL9, PSMB7, UCHL3, PSMD8, PSMB5, PSMB6]</td>\n",
       "      <td>http://model.geneontology.org/R-HSA-8951664</td>\n",
       "    </tr>\n",
       "    <tr>\n",
       "      <th>5</th>\n",
       "      <td>KEAP1-NFE2L2 pathway - Reactome</td>\n",
       "      <td>0.000130</td>\n",
       "      <td>13</td>\n",
       "      <td>57</td>\n",
       "      <td>[PSMD13, PSMA5, PSMD11, PSMA7, PSME2, PSMD4, PSMB1, PSMB7, CSNK2B, PSMD8, PSMB5, PSMB6, PRDX2]</td>\n",
       "      <td>http://model.geneontology.org/R-HSA-9755511</td>\n",
       "    </tr>\n",
       "    <tr>\n",
       "      <th>6</th>\n",
       "      <td>SCF(Skp2)-mediated degradation of p27/p21 - Reactome</td>\n",
       "      <td>0.000140</td>\n",
       "      <td>12</td>\n",
       "      <td>50</td>\n",
       "      <td>[PSMD13, PSMA5, PSMD11, PSMA7, PSME2, PSMD4, PSMB1, PSMB7, PSMD8, PSMB5, PSMB6, CKS1B]</td>\n",
       "      <td>http://model.geneontology.org/R-HSA-187577</td>\n",
       "    </tr>\n",
       "    <tr>\n",
       "      <th>7</th>\n",
       "      <td>The role of GTSE1 in G2/M progression after G2 checkpoint - Reactome</td>\n",
       "      <td>0.000140</td>\n",
       "      <td>12</td>\n",
       "      <td>50</td>\n",
       "      <td>[PSMD13, PSMA5, PSMD11, PSMA7, PSME2, PSMD4, PSMB1, CDC25B, PSMB7, PSMD8, PSMB5, PSMB6]</td>\n",
       "      <td>http://model.geneontology.org/R-HSA-8852276</td>\n",
       "    </tr>\n",
       "    <tr>\n",
       "      <th>8</th>\n",
       "      <td>SCF-beta-TrCP mediated degradation of Emi1 - Reactome</td>\n",
       "      <td>0.000171</td>\n",
       "      <td>12</td>\n",
       "      <td>51</td>\n",
       "      <td>[PSMD13, PSMA5, PSMD11, PSMA7, PSME2, PSMD4, PSMB1, PSMB7, CDK1, PSMD8, PSMB5, PSMB6]</td>\n",
       "      <td>http://model.geneontology.org/R-HSA-174113</td>\n",
       "    </tr>\n",
       "    <tr>\n",
       "      <th>9</th>\n",
       "      <td>GSK3B and BTRC:CUL1-mediated-degradation of NFE2L2 - Reactome</td>\n",
       "      <td>0.000179</td>\n",
       "      <td>11</td>\n",
       "      <td>44</td>\n",
       "      <td>[PSMD13, PSMA5, PSMD11, PSMA7, PSME2, PSMD4, PSMB1, PSMB7, PSMD8, PSMB5, PSMB6]</td>\n",
       "      <td>http://model.geneontology.org/R-HSA-9762114</td>\n",
       "    </tr>\n",
       "    <tr>\n",
       "      <th>10</th>\n",
       "      <td>Degradation of beta-catenin by the destruction complex - Reactome</td>\n",
       "      <td>0.000188</td>\n",
       "      <td>13</td>\n",
       "      <td>59</td>\n",
       "      <td>[PSMD13, PSMA5, PSMD11, PPP2R5B, PSMA7, PSME2, PSMD4, PSMB1, PSMB7, PPP2R1B, PSMD8, PSMB5, PSMB6]</td>\n",
       "      <td>http://model.geneontology.org/R-HSA-195253</td>\n",
       "    </tr>\n",
       "    <tr>\n",
       "      <th>11</th>\n",
       "      <td>Cross-presentation of soluble exogenous antigens (endosomes) - Reactome</td>\n",
       "      <td>0.000222</td>\n",
       "      <td>11</td>\n",
       "      <td>45</td>\n",
       "      <td>[PSMD13, PSMA5, PSMD11, PSMA7, PSME2, PSMD4, PSMB1, PSMB7, PSMD8, PSMB5, PSMB6]</td>\n",
       "      <td>http://model.geneontology.org/R-HSA-1236978</td>\n",
       "    </tr>\n",
       "    <tr>\n",
       "      <th>12</th>\n",
       "      <td>AUF1 (hnRNP D0) binds and destabilizes mRNA - Reactome</td>\n",
       "      <td>0.000222</td>\n",
       "      <td>11</td>\n",
       "      <td>45</td>\n",
       "      <td>[PSMD13, PSMA5, PSMD11, PSMA7, PSME2, PSMD4, PSMB1, PSMB7, PSMD8, PSMB5, PSMB6]</td>\n",
       "      <td>http://model.geneontology.org/R-HSA-450408</td>\n",
       "    </tr>\n",
       "    <tr>\n",
       "      <th>13</th>\n",
       "      <td>APC/C:Cdc20 mediated degradation of mitotic proteins - Reactome</td>\n",
       "      <td>0.000222</td>\n",
       "      <td>11</td>\n",
       "      <td>45</td>\n",
       "      <td>[PSMD13, PSMA5, PSMD11, PSMA7, PSME2, PSMD4, PSMB1, PSMB7, PSMD8, PSMB5, PSMB6]</td>\n",
       "      <td>http://model.geneontology.org/R-HSA-176409</td>\n",
       "    </tr>\n",
       "    <tr>\n",
       "      <th>14</th>\n",
       "      <td>Regulation of activated PAK-2p34 by proteasome mediated degradation - Reactome</td>\n",
       "      <td>0.000274</td>\n",
       "      <td>11</td>\n",
       "      <td>46</td>\n",
       "      <td>[PSMD13, PSMA5, PSMD11, PSMA7, PSME2, PSMD4, PSMB1, PSMB7, PSMD8, PSMB5, PSMB6]</td>\n",
       "      <td>http://model.geneontology.org/R-HSA-211733</td>\n",
       "    </tr>\n",
       "    <tr>\n",
       "      <th>15</th>\n",
       "      <td>Ubiquitin-dependent degradation of Cyclin D - Reactome</td>\n",
       "      <td>0.000274</td>\n",
       "      <td>11</td>\n",
       "      <td>46</td>\n",
       "      <td>[PSMD13, PSMA5, PSMD11, PSMA7, PSME2, PSMD4, PSMB1, PSMB7, PSMD8, PSMB5, PSMB6]</td>\n",
       "      <td>http://model.geneontology.org/R-HSA-75815</td>\n",
       "    </tr>\n",
       "    <tr>\n",
       "      <th>16</th>\n",
       "      <td>Regulation of RUNX3 expression and activity - Reactome</td>\n",
       "      <td>0.000274</td>\n",
       "      <td>11</td>\n",
       "      <td>46</td>\n",
       "      <td>[PSMD13, PSMA5, PSMD11, PSMA7, PSME2, PSMD4, PSMB1, PSMB7, PSMD8, PSMB5, PSMB6]</td>\n",
       "      <td>http://model.geneontology.org/R-HSA-8941858</td>\n",
       "    </tr>\n",
       "    <tr>\n",
       "      <th>17</th>\n",
       "      <td>Antigen Presentation: Folding, assembly and peptide loading of class I MHC - Reactome</td>\n",
       "      <td>0.000305</td>\n",
       "      <td>12</td>\n",
       "      <td>54</td>\n",
       "      <td>[PSMD13, PSMA5, PSMD11, PSMA7, PSME2, PSMD4, PSMB1, PSMB7, PSMD8, PSMB5, PSMB6, ERAP2]</td>\n",
       "      <td>http://model.geneontology.org/R-HSA-983170</td>\n",
       "    </tr>\n",
       "    <tr>\n",
       "      <th>18</th>\n",
       "      <td>Degradation of DVL - Reactome</td>\n",
       "      <td>0.000336</td>\n",
       "      <td>11</td>\n",
       "      <td>47</td>\n",
       "      <td>[PSMD13, PSMA5, PSMD11, PSMA7, PSME2, PSMD4, PSMB1, PSMB7, PSMD8, PSMB5, PSMB6]</td>\n",
       "      <td>http://model.geneontology.org/R-HSA-4641258</td>\n",
       "    </tr>\n",
       "    <tr>\n",
       "      <th>19</th>\n",
       "      <td>Autodegradation of the E3 ubiquitin ligase COP1 - Reactome</td>\n",
       "      <td>0.000336</td>\n",
       "      <td>11</td>\n",
       "      <td>47</td>\n",
       "      <td>[PSMD13, PSMA5, PSMD11, PSMA7, PSME2, PSMD4, PSMB1, PSMB7, PSMD8, PSMB5, PSMB6]</td>\n",
       "      <td>http://model.geneontology.org/R-HSA-349425</td>\n",
       "    </tr>\n",
       "    <tr>\n",
       "      <th>20</th>\n",
       "      <td>Asymmetric localization of PCP proteins - Reactome</td>\n",
       "      <td>0.000336</td>\n",
       "      <td>11</td>\n",
       "      <td>47</td>\n",
       "      <td>[PSMD13, PSMA5, PSMD11, PSMA7, PSME2, PSMD4, PSMB1, PSMB7, PSMD8, PSMB5, PSMB6]</td>\n",
       "      <td>http://model.geneontology.org/R-HSA-4608870</td>\n",
       "    </tr>\n",
       "    <tr>\n",
       "      <th>21</th>\n",
       "      <td>TNFR2 non-canonical NF-kB pathway - Reactome</td>\n",
       "      <td>0.000336</td>\n",
       "      <td>11</td>\n",
       "      <td>47</td>\n",
       "      <td>[PSMD13, PSMA5, PSMD11, PSMA7, PSME2, PSMD4, PSMB1, PSMB7, PSMD8, PSMB5, PSMB6]</td>\n",
       "      <td>http://model.geneontology.org/R-HSA-5668541</td>\n",
       "    </tr>\n",
       "    <tr>\n",
       "      <th>22</th>\n",
       "      <td>Synthesis of PE - Reactome</td>\n",
       "      <td>0.000345</td>\n",
       "      <td>9</td>\n",
       "      <td>33</td>\n",
       "      <td>[PTDSS2, LPIN1, PCYT2, PNPLA2, PISD, AGPAT2, CHKB, AGPAT4, PHOSPHO1]</td>\n",
       "      <td>http://model.geneontology.org/R-HSA-1483213</td>\n",
       "    </tr>\n",
       "    <tr>\n",
       "      <th>23</th>\n",
       "      <td>Heme biosynthesis - Reactome</td>\n",
       "      <td>0.000353</td>\n",
       "      <td>6</td>\n",
       "      <td>15</td>\n",
       "      <td>[ALAS2, UROS, COX10, HMBS, CPOX, PPOX]</td>\n",
       "      <td>http://model.geneontology.org/R-HSA-189451</td>\n",
       "    </tr>\n",
       "    <tr>\n",
       "      <th>24</th>\n",
       "      <td>G2/M Checkpoints - Reactome</td>\n",
       "      <td>0.000408</td>\n",
       "      <td>11</td>\n",
       "      <td>48</td>\n",
       "      <td>[PSMD13, PSMA5, PSMD11, PSMA7, PSME2, PSMD4, PSMB1, PSMB7, PSMD8, PSMB5, PSMB6]</td>\n",
       "      <td>http://model.geneontology.org/R-HSA-69481</td>\n",
       "    </tr>\n",
       "    <tr>\n",
       "      <th>25</th>\n",
       "      <td>Degradation of AXIN - Reactome</td>\n",
       "      <td>0.000494</td>\n",
       "      <td>11</td>\n",
       "      <td>49</td>\n",
       "      <td>[PSMD13, PSMA5, PSMD11, PSMA7, PSME2, PSMD4, PSMB1, PSMB7, PSMD8, PSMB5, PSMB6]</td>\n",
       "      <td>http://model.geneontology.org/R-HSA-4641257</td>\n",
       "    </tr>\n",
       "    <tr>\n",
       "      <th>26</th>\n",
       "      <td>Oxygen-dependent proline hydroxylation of Hypoxia-inducible Factor Alpha - Reactome</td>\n",
       "      <td>0.000494</td>\n",
       "      <td>11</td>\n",
       "      <td>49</td>\n",
       "      <td>[PSMD13, PSMA5, PSMD11, PSMA7, PSME2, PSMD4, PSMB1, PSMB7, PSMD8, PSMB5, PSMB6]</td>\n",
       "      <td>http://model.geneontology.org/R-HSA-1234176</td>\n",
       "    </tr>\n",
       "    <tr>\n",
       "      <th>27</th>\n",
       "      <td>RUNX1 regulates transcription of genes involved in differentiation of HSCs - Reactome</td>\n",
       "      <td>0.000494</td>\n",
       "      <td>11</td>\n",
       "      <td>49</td>\n",
       "      <td>[PSMD13, PSMA5, PSMD11, PSMA7, PSME2, PSMD4, PSMB1, PSMB7, PSMD8, PSMB5, PSMB6]</td>\n",
       "      <td>http://model.geneontology.org/R-HSA-8939236</td>\n",
       "    </tr>\n",
       "    <tr>\n",
       "      <th>28</th>\n",
       "      <td>Ubiquitin Mediated Degradation of Phosphorylated Cdc25A - Reactome</td>\n",
       "      <td>0.000494</td>\n",
       "      <td>11</td>\n",
       "      <td>49</td>\n",
       "      <td>[PSMD13, PSMA5, PSMD11, PSMA7, PSME2, PSMD4, PSMB1, PSMB7, PSMD8, PSMB5, PSMB6]</td>\n",
       "      <td>http://model.geneontology.org/R-HSA-69601</td>\n",
       "    </tr>\n",
       "    <tr>\n",
       "      <th>29</th>\n",
       "      <td>Cyclin A:Cdk2-associated events at S phase entry - Reactome</td>\n",
       "      <td>0.000518</td>\n",
       "      <td>12</td>\n",
       "      <td>57</td>\n",
       "      <td>[PSMD13, PSMA5, PSMD11, PSMA7, PSME2, PSMD4, PSMB1, CDC25B, PSMB7, PSMD8, PSMB5, PSMB6]</td>\n",
       "      <td>http://model.geneontology.org/R-HSA-69656</td>\n",
       "    </tr>\n",
       "    <tr>\n",
       "      <th>30</th>\n",
       "      <td>Respiratory electron transport - Reactome</td>\n",
       "      <td>0.000562</td>\n",
       "      <td>16</td>\n",
       "      <td>91</td>\n",
       "      <td>[NDUFS8, ACADVL, COX5B, NDUFS5, NDUFA8, NDUFB7, ETFB, NDUFB8, NDUFV2, COX5A, COX7C, NDUFV1, NDUF...</td>\n",
       "      <td>http://model.geneontology.org/R-HSA-611105</td>\n",
       "    </tr>\n",
       "    <tr>\n",
       "      <th>31</th>\n",
       "      <td>FBXL7 down-regulates AURKA during mitotic entry and in early mitosis - Reactome</td>\n",
       "      <td>0.000593</td>\n",
       "      <td>11</td>\n",
       "      <td>50</td>\n",
       "      <td>[PSMD13, PSMA5, PSMD11, PSMA7, PSME2, PSMD4, PSMB1, PSMB7, PSMD8, PSMB5, PSMB6]</td>\n",
       "      <td>http://model.geneontology.org/R-HSA-8854050</td>\n",
       "    </tr>\n",
       "    <tr>\n",
       "      <th>32</th>\n",
       "      <td>Hedgehog 'on' state - Reactome</td>\n",
       "      <td>0.000593</td>\n",
       "      <td>11</td>\n",
       "      <td>50</td>\n",
       "      <td>[PSMD13, PSMA5, PSMD11, PSMA7, PSME2, PSMD4, PSMB1, PSMB7, PSMD8, PSMB5, PSMB6]</td>\n",
       "      <td>http://model.geneontology.org/R-HSA-5632684</td>\n",
       "    </tr>\n",
       "    <tr>\n",
       "      <th>33</th>\n",
       "      <td>NIK--&gt;noncanonical NF-kB signaling - Reactome</td>\n",
       "      <td>0.000709</td>\n",
       "      <td>11</td>\n",
       "      <td>51</td>\n",
       "      <td>[PSMD13, PSMA5, PSMD11, PSMA7, PSME2, PSMD4, PSMB1, PSMB7, PSMD8, PSMB5, PSMB6]</td>\n",
       "      <td>http://model.geneontology.org/R-HSA-5676590</td>\n",
       "    </tr>\n",
       "    <tr>\n",
       "      <th>34</th>\n",
       "      <td>Negative regulation of NOTCH4 signaling - Reactome</td>\n",
       "      <td>0.000709</td>\n",
       "      <td>11</td>\n",
       "      <td>51</td>\n",
       "      <td>[PSMD13, PSMA5, PSMD11, PSMA7, PSME2, PSMD4, PSMB1, PSMB7, PSMD8, PSMB5, PSMB6]</td>\n",
       "      <td>http://model.geneontology.org/R-HSA-9604323</td>\n",
       "    </tr>\n",
       "    <tr>\n",
       "      <th>35</th>\n",
       "      <td>Regulation of expression of SLITs and ROBOs - Reactome</td>\n",
       "      <td>0.000709</td>\n",
       "      <td>11</td>\n",
       "      <td>51</td>\n",
       "      <td>[PSMD13, PSMA5, PSMD11, PSMA7, PSME2, PSMD4, PSMB1, PSMB7, PSMD8, PSMB5, PSMB6]</td>\n",
       "      <td>http://model.geneontology.org/R-HSA-9010553</td>\n",
       "    </tr>\n",
       "    <tr>\n",
       "      <th>36</th>\n",
       "      <td>Dectin-1 mediated noncanonical NF-kB signaling - Reactome</td>\n",
       "      <td>0.000709</td>\n",
       "      <td>11</td>\n",
       "      <td>51</td>\n",
       "      <td>[PSMD13, PSMA5, PSMD11, PSMA7, PSME2, PSMD4, PSMB1, PSMB7, PSMD8, PSMB5, PSMB6]</td>\n",
       "      <td>http://model.geneontology.org/R-HSA-5607761</td>\n",
       "    </tr>\n",
       "    <tr>\n",
       "      <th>37</th>\n",
       "      <td>Cyclin E associated events during G1/S transition - Reactome</td>\n",
       "      <td>0.000720</td>\n",
       "      <td>12</td>\n",
       "      <td>59</td>\n",
       "      <td>[PSMD13, PSMA5, PSMD11, CDK4, PSMA7, PSME2, PSMD4, PSMB1, PSMB7, PSMD8, PSMB5, PSMB6]</td>\n",
       "      <td>http://model.geneontology.org/R-HSA-69202</td>\n",
       "    </tr>\n",
       "    <tr>\n",
       "      <th>38</th>\n",
       "      <td>Orc1 removal from chromatin - Reactome</td>\n",
       "      <td>0.000844</td>\n",
       "      <td>11</td>\n",
       "      <td>52</td>\n",
       "      <td>[PSMD13, PSMA5, PSMD11, PSMA7, PSME2, PSMD4, PSMB1, PSMB7, PSMD8, PSMB5, PSMB6]</td>\n",
       "      <td>http://model.geneontology.org/R-HSA-68949</td>\n",
       "    </tr>\n",
       "    <tr>\n",
       "      <th>39</th>\n",
       "      <td>Degradation of GLI1 by the proteasome - Reactome</td>\n",
       "      <td>0.000998</td>\n",
       "      <td>11</td>\n",
       "      <td>53</td>\n",
       "      <td>[PSMD13, PSMA5, PSMD11, PSMA7, PSME2, PSMD4, PSMB1, PSMB7, PSMD8, PSMB5, PSMB6]</td>\n",
       "      <td>http://model.geneontology.org/R-HSA-5610780</td>\n",
       "    </tr>\n",
       "    <tr>\n",
       "      <th>40</th>\n",
       "      <td>GLI3 is processed to GLI3R by the proteasome - Reactome</td>\n",
       "      <td>0.001176</td>\n",
       "      <td>11</td>\n",
       "      <td>54</td>\n",
       "      <td>[PSMD13, PSMA5, PSMD11, PSMA7, PSME2, PSMD4, PSMB1, PSMB7, PSMD8, PSMB5, PSMB6]</td>\n",
       "      <td>http://model.geneontology.org/R-HSA-5610785</td>\n",
       "    </tr>\n",
       "    <tr>\n",
       "      <th>41</th>\n",
       "      <td>Regulation of RUNX2 expression and activity - Reactome</td>\n",
       "      <td>0.001176</td>\n",
       "      <td>11</td>\n",
       "      <td>54</td>\n",
       "      <td>[PSMD13, PSMA5, PSMD11, PSMA7, PSME2, PSMD4, PSMB1, PSMB7, PSMD8, PSMB5, PSMB6]</td>\n",
       "      <td>http://model.geneontology.org/R-HSA-8939902</td>\n",
       "    </tr>\n",
       "    <tr>\n",
       "      <th>42</th>\n",
       "      <td>Degradation of GLI2 by the proteasome - Reactome</td>\n",
       "      <td>0.001176</td>\n",
       "      <td>11</td>\n",
       "      <td>54</td>\n",
       "      <td>[PSMD13, PSMA5, PSMD11, PSMA7, PSME2, PSMD4, PSMB1, PSMB7, PSMD8, PSMB5, PSMB6]</td>\n",
       "      <td>http://model.geneontology.org/R-HSA-5610783</td>\n",
       "    </tr>\n",
       "    <tr>\n",
       "      <th>43</th>\n",
       "      <td>Hedgehog 'off' state - Reactome</td>\n",
       "      <td>0.001378</td>\n",
       "      <td>11</td>\n",
       "      <td>55</td>\n",
       "      <td>[PSMD13, PSMA5, PSMD11, PSMA7, PSME2, PSMD4, PSMB1, PSMB7, PSMD8, PSMB5, PSMB6]</td>\n",
       "      <td>http://model.geneontology.org/R-HSA-5610787</td>\n",
       "    </tr>\n",
       "    <tr>\n",
       "      <th>44</th>\n",
       "      <td>Regulation of PTEN stability and activity - Reactome</td>\n",
       "      <td>0.001529</td>\n",
       "      <td>12</td>\n",
       "      <td>64</td>\n",
       "      <td>[PSMD13, PSMA5, PSMD11, PSMA7, PSME2, PSMD4, PSMB1, PSMB7, CSNK2B, PSMD8, PSMB5, PSMB6]</td>\n",
       "      <td>http://model.geneontology.org/R-HSA-8948751</td>\n",
       "    </tr>\n",
       "    <tr>\n",
       "      <th>45</th>\n",
       "      <td>CLEC7A (Dectin-1) signaling - Reactome</td>\n",
       "      <td>0.001609</td>\n",
       "      <td>11</td>\n",
       "      <td>56</td>\n",
       "      <td>[PSMD13, PSMA5, PSMD11, PSMA7, PSME2, PSMD4, PSMB1, PSMB7, PSMD8, PSMB5, PSMB6]</td>\n",
       "      <td>http://model.geneontology.org/R-HSA-5607764</td>\n",
       "    </tr>\n",
       "    <tr>\n",
       "      <th>46</th>\n",
       "      <td>FCERI mediated NF-kB activation - Reactome</td>\n",
       "      <td>0.001609</td>\n",
       "      <td>11</td>\n",
       "      <td>56</td>\n",
       "      <td>[PSMD13, PSMA5, PSMD11, PSMA7, PSME2, PSMD4, PSMB1, PSMB7, PSMD8, PSMB5, PSMB6]</td>\n",
       "      <td>http://model.geneontology.org/R-HSA-2871837</td>\n",
       "    </tr>\n",
       "    <tr>\n",
       "      <th>47</th>\n",
       "      <td>The proton buffering model - Reactome</td>\n",
       "      <td>0.001838</td>\n",
       "      <td>13</td>\n",
       "      <td>74</td>\n",
       "      <td>[NDUFS8, COX5B, NDUFS5, NDUFA8, NDUFB7, NDUFB8, NDUFV2, COX5A, COX7C, NDUFV1, NDUFA11, NDUFA13, ...</td>\n",
       "      <td>http://model.geneontology.org/R-HSA-167827</td>\n",
       "    </tr>\n",
       "    <tr>\n",
       "      <th>48</th>\n",
       "      <td>The fatty acid cycling model - Reactome</td>\n",
       "      <td>0.001838</td>\n",
       "      <td>13</td>\n",
       "      <td>74</td>\n",
       "      <td>[NDUFS8, COX5B, NDUFS5, NDUFA8, NDUFB7, NDUFB8, NDUFV2, COX5A, COX7C, NDUFV1, NDUFA11, NDUFA13, ...</td>\n",
       "      <td>http://model.geneontology.org/R-HSA-167826</td>\n",
       "    </tr>\n",
       "  </tbody>\n",
       "</table>\n",
       "</div>"
      ],
      "text/plain": [
       "                                                                                    title  \\\n",
       "0                                                         ER-Phagosome pathway - Reactome   \n",
       "1                                                   Hedgehog ligand biogenesis - Reactome   \n",
       "2               Regulation of APC/C activators between G1/S and early anaphase - Reactome   \n",
       "3                   Conversion from APC/C:Cdc20 to APC/C:Cdh1 in late anaphase - Reactome   \n",
       "4                                                                  Neddylation - Reactome   \n",
       "5                                                         KEAP1-NFE2L2 pathway - Reactome   \n",
       "6                                    SCF(Skp2)-mediated degradation of p27/p21 - Reactome   \n",
       "7                    The role of GTSE1 in G2/M progression after G2 checkpoint - Reactome   \n",
       "8                                   SCF-beta-TrCP mediated degradation of Emi1 - Reactome   \n",
       "9                           GSK3B and BTRC:CUL1-mediated-degradation of NFE2L2 - Reactome   \n",
       "10                      Degradation of beta-catenin by the destruction complex - Reactome   \n",
       "11                Cross-presentation of soluble exogenous antigens (endosomes) - Reactome   \n",
       "12                                 AUF1 (hnRNP D0) binds and destabilizes mRNA - Reactome   \n",
       "13                        APC/C:Cdc20 mediated degradation of mitotic proteins - Reactome   \n",
       "14         Regulation of activated PAK-2p34 by proteasome mediated degradation - Reactome   \n",
       "15                                 Ubiquitin-dependent degradation of Cyclin D - Reactome   \n",
       "16                                 Regulation of RUNX3 expression and activity - Reactome   \n",
       "17  Antigen Presentation: Folding, assembly and peptide loading of class I MHC - Reactome   \n",
       "18                                                          Degradation of DVL - Reactome   \n",
       "19                             Autodegradation of the E3 ubiquitin ligase COP1 - Reactome   \n",
       "20                                     Asymmetric localization of PCP proteins - Reactome   \n",
       "21                                           TNFR2 non-canonical NF-kB pathway - Reactome   \n",
       "22                                                             Synthesis of PE - Reactome   \n",
       "23                                                           Heme biosynthesis - Reactome   \n",
       "24                                                            G2/M Checkpoints - Reactome   \n",
       "25                                                         Degradation of AXIN - Reactome   \n",
       "26    Oxygen-dependent proline hydroxylation of Hypoxia-inducible Factor Alpha - Reactome   \n",
       "27  RUNX1 regulates transcription of genes involved in differentiation of HSCs - Reactome   \n",
       "28                     Ubiquitin Mediated Degradation of Phosphorylated Cdc25A - Reactome   \n",
       "29                            Cyclin A:Cdk2-associated events at S phase entry - Reactome   \n",
       "30                                              Respiratory electron transport - Reactome   \n",
       "31        FBXL7 down-regulates AURKA during mitotic entry and in early mitosis - Reactome   \n",
       "32                                                         Hedgehog 'on' state - Reactome   \n",
       "33                                          NIK-->noncanonical NF-kB signaling - Reactome   \n",
       "34                                     Negative regulation of NOTCH4 signaling - Reactome   \n",
       "35                                 Regulation of expression of SLITs and ROBOs - Reactome   \n",
       "36                              Dectin-1 mediated noncanonical NF-kB signaling - Reactome   \n",
       "37                           Cyclin E associated events during G1/S transition - Reactome   \n",
       "38                                                 Orc1 removal from chromatin - Reactome   \n",
       "39                                       Degradation of GLI1 by the proteasome - Reactome   \n",
       "40                                GLI3 is processed to GLI3R by the proteasome - Reactome   \n",
       "41                                 Regulation of RUNX2 expression and activity - Reactome   \n",
       "42                                       Degradation of GLI2 by the proteasome - Reactome   \n",
       "43                                                        Hedgehog 'off' state - Reactome   \n",
       "44                                   Regulation of PTEN stability and activity - Reactome   \n",
       "45                                                 CLEC7A (Dectin-1) signaling - Reactome   \n",
       "46                                             FCERI mediated NF-kB activation - Reactome   \n",
       "47                                                  The proton buffering model - Reactome   \n",
       "48                                                The fatty acid cycling model - Reactome   \n",
       "\n",
       "    pval (uncorrected)  # entities in list  #entities in model  \\\n",
       "0             0.000047                  13                  52   \n",
       "1             0.000047                  13                  52   \n",
       "2             0.000071                  13                  54   \n",
       "3             0.000113                  12                  49   \n",
       "4             0.000116                  14                  64   \n",
       "5             0.000130                  13                  57   \n",
       "6             0.000140                  12                  50   \n",
       "7             0.000140                  12                  50   \n",
       "8             0.000171                  12                  51   \n",
       "9             0.000179                  11                  44   \n",
       "10            0.000188                  13                  59   \n",
       "11            0.000222                  11                  45   \n",
       "12            0.000222                  11                  45   \n",
       "13            0.000222                  11                  45   \n",
       "14            0.000274                  11                  46   \n",
       "15            0.000274                  11                  46   \n",
       "16            0.000274                  11                  46   \n",
       "17            0.000305                  12                  54   \n",
       "18            0.000336                  11                  47   \n",
       "19            0.000336                  11                  47   \n",
       "20            0.000336                  11                  47   \n",
       "21            0.000336                  11                  47   \n",
       "22            0.000345                   9                  33   \n",
       "23            0.000353                   6                  15   \n",
       "24            0.000408                  11                  48   \n",
       "25            0.000494                  11                  49   \n",
       "26            0.000494                  11                  49   \n",
       "27            0.000494                  11                  49   \n",
       "28            0.000494                  11                  49   \n",
       "29            0.000518                  12                  57   \n",
       "30            0.000562                  16                  91   \n",
       "31            0.000593                  11                  50   \n",
       "32            0.000593                  11                  50   \n",
       "33            0.000709                  11                  51   \n",
       "34            0.000709                  11                  51   \n",
       "35            0.000709                  11                  51   \n",
       "36            0.000709                  11                  51   \n",
       "37            0.000720                  12                  59   \n",
       "38            0.000844                  11                  52   \n",
       "39            0.000998                  11                  53   \n",
       "40            0.001176                  11                  54   \n",
       "41            0.001176                  11                  54   \n",
       "42            0.001176                  11                  54   \n",
       "43            0.001378                  11                  55   \n",
       "44            0.001529                  12                  64   \n",
       "45            0.001609                  11                  56   \n",
       "46            0.001609                  11                  56   \n",
       "47            0.001838                  13                  74   \n",
       "48            0.001838                  13                  74   \n",
       "\n",
       "                                                                               shared entities in gocam  \\\n",
       "0      [SEC61A1, PSMD13, PSMA5, PSMD11, SEC61B, PSMA7, PSME2, PSMD4, PSMB1, PSMB7, PSMD8, PSMB5, PSMB6]   \n",
       "1          [PSMD13, PSMA5, PSMD11, PSMA7, PSME2, PSMD4, PSMB1, PSMB7, PSMD8, PSMB5, P4HB, PSMB6, SYVN1]   \n",
       "2         [PSMD13, PSMA5, PSMD11, PSMA7, PSME2, PSMD4, PSMB1, CDC25B, PSMB7, CDK1, PSMD8, PSMB5, PSMB6]   \n",
       "3                 [PSMD13, PSMA5, PSMD11, PSMA7, PSME2, PSMD4, PSMB1, PSMB7, CDK1, PSMD8, PSMB5, PSMB6]   \n",
       "4   [UBE2M, PSMD13, PSMA5, PSMD11, PSMA7, PSME2, PSMD4, PSMB1, CUL9, PSMB7, UCHL3, PSMD8, PSMB5, PSMB6]   \n",
       "5        [PSMD13, PSMA5, PSMD11, PSMA7, PSME2, PSMD4, PSMB1, PSMB7, CSNK2B, PSMD8, PSMB5, PSMB6, PRDX2]   \n",
       "6                [PSMD13, PSMA5, PSMD11, PSMA7, PSME2, PSMD4, PSMB1, PSMB7, PSMD8, PSMB5, PSMB6, CKS1B]   \n",
       "7               [PSMD13, PSMA5, PSMD11, PSMA7, PSME2, PSMD4, PSMB1, CDC25B, PSMB7, PSMD8, PSMB5, PSMB6]   \n",
       "8                 [PSMD13, PSMA5, PSMD11, PSMA7, PSME2, PSMD4, PSMB1, PSMB7, CDK1, PSMD8, PSMB5, PSMB6]   \n",
       "9                       [PSMD13, PSMA5, PSMD11, PSMA7, PSME2, PSMD4, PSMB1, PSMB7, PSMD8, PSMB5, PSMB6]   \n",
       "10    [PSMD13, PSMA5, PSMD11, PPP2R5B, PSMA7, PSME2, PSMD4, PSMB1, PSMB7, PPP2R1B, PSMD8, PSMB5, PSMB6]   \n",
       "11                      [PSMD13, PSMA5, PSMD11, PSMA7, PSME2, PSMD4, PSMB1, PSMB7, PSMD8, PSMB5, PSMB6]   \n",
       "12                      [PSMD13, PSMA5, PSMD11, PSMA7, PSME2, PSMD4, PSMB1, PSMB7, PSMD8, PSMB5, PSMB6]   \n",
       "13                      [PSMD13, PSMA5, PSMD11, PSMA7, PSME2, PSMD4, PSMB1, PSMB7, PSMD8, PSMB5, PSMB6]   \n",
       "14                      [PSMD13, PSMA5, PSMD11, PSMA7, PSME2, PSMD4, PSMB1, PSMB7, PSMD8, PSMB5, PSMB6]   \n",
       "15                      [PSMD13, PSMA5, PSMD11, PSMA7, PSME2, PSMD4, PSMB1, PSMB7, PSMD8, PSMB5, PSMB6]   \n",
       "16                      [PSMD13, PSMA5, PSMD11, PSMA7, PSME2, PSMD4, PSMB1, PSMB7, PSMD8, PSMB5, PSMB6]   \n",
       "17               [PSMD13, PSMA5, PSMD11, PSMA7, PSME2, PSMD4, PSMB1, PSMB7, PSMD8, PSMB5, PSMB6, ERAP2]   \n",
       "18                      [PSMD13, PSMA5, PSMD11, PSMA7, PSME2, PSMD4, PSMB1, PSMB7, PSMD8, PSMB5, PSMB6]   \n",
       "19                      [PSMD13, PSMA5, PSMD11, PSMA7, PSME2, PSMD4, PSMB1, PSMB7, PSMD8, PSMB5, PSMB6]   \n",
       "20                      [PSMD13, PSMA5, PSMD11, PSMA7, PSME2, PSMD4, PSMB1, PSMB7, PSMD8, PSMB5, PSMB6]   \n",
       "21                      [PSMD13, PSMA5, PSMD11, PSMA7, PSME2, PSMD4, PSMB1, PSMB7, PSMD8, PSMB5, PSMB6]   \n",
       "22                                 [PTDSS2, LPIN1, PCYT2, PNPLA2, PISD, AGPAT2, CHKB, AGPAT4, PHOSPHO1]   \n",
       "23                                                               [ALAS2, UROS, COX10, HMBS, CPOX, PPOX]   \n",
       "24                      [PSMD13, PSMA5, PSMD11, PSMA7, PSME2, PSMD4, PSMB1, PSMB7, PSMD8, PSMB5, PSMB6]   \n",
       "25                      [PSMD13, PSMA5, PSMD11, PSMA7, PSME2, PSMD4, PSMB1, PSMB7, PSMD8, PSMB5, PSMB6]   \n",
       "26                      [PSMD13, PSMA5, PSMD11, PSMA7, PSME2, PSMD4, PSMB1, PSMB7, PSMD8, PSMB5, PSMB6]   \n",
       "27                      [PSMD13, PSMA5, PSMD11, PSMA7, PSME2, PSMD4, PSMB1, PSMB7, PSMD8, PSMB5, PSMB6]   \n",
       "28                      [PSMD13, PSMA5, PSMD11, PSMA7, PSME2, PSMD4, PSMB1, PSMB7, PSMD8, PSMB5, PSMB6]   \n",
       "29              [PSMD13, PSMA5, PSMD11, PSMA7, PSME2, PSMD4, PSMB1, CDC25B, PSMB7, PSMD8, PSMB5, PSMB6]   \n",
       "30  [NDUFS8, ACADVL, COX5B, NDUFS5, NDUFA8, NDUFB7, ETFB, NDUFB8, NDUFV2, COX5A, COX7C, NDUFV1, NDUF...   \n",
       "31                      [PSMD13, PSMA5, PSMD11, PSMA7, PSME2, PSMD4, PSMB1, PSMB7, PSMD8, PSMB5, PSMB6]   \n",
       "32                      [PSMD13, PSMA5, PSMD11, PSMA7, PSME2, PSMD4, PSMB1, PSMB7, PSMD8, PSMB5, PSMB6]   \n",
       "33                      [PSMD13, PSMA5, PSMD11, PSMA7, PSME2, PSMD4, PSMB1, PSMB7, PSMD8, PSMB5, PSMB6]   \n",
       "34                      [PSMD13, PSMA5, PSMD11, PSMA7, PSME2, PSMD4, PSMB1, PSMB7, PSMD8, PSMB5, PSMB6]   \n",
       "35                      [PSMD13, PSMA5, PSMD11, PSMA7, PSME2, PSMD4, PSMB1, PSMB7, PSMD8, PSMB5, PSMB6]   \n",
       "36                      [PSMD13, PSMA5, PSMD11, PSMA7, PSME2, PSMD4, PSMB1, PSMB7, PSMD8, PSMB5, PSMB6]   \n",
       "37                [PSMD13, PSMA5, PSMD11, CDK4, PSMA7, PSME2, PSMD4, PSMB1, PSMB7, PSMD8, PSMB5, PSMB6]   \n",
       "38                      [PSMD13, PSMA5, PSMD11, PSMA7, PSME2, PSMD4, PSMB1, PSMB7, PSMD8, PSMB5, PSMB6]   \n",
       "39                      [PSMD13, PSMA5, PSMD11, PSMA7, PSME2, PSMD4, PSMB1, PSMB7, PSMD8, PSMB5, PSMB6]   \n",
       "40                      [PSMD13, PSMA5, PSMD11, PSMA7, PSME2, PSMD4, PSMB1, PSMB7, PSMD8, PSMB5, PSMB6]   \n",
       "41                      [PSMD13, PSMA5, PSMD11, PSMA7, PSME2, PSMD4, PSMB1, PSMB7, PSMD8, PSMB5, PSMB6]   \n",
       "42                      [PSMD13, PSMA5, PSMD11, PSMA7, PSME2, PSMD4, PSMB1, PSMB7, PSMD8, PSMB5, PSMB6]   \n",
       "43                      [PSMD13, PSMA5, PSMD11, PSMA7, PSME2, PSMD4, PSMB1, PSMB7, PSMD8, PSMB5, PSMB6]   \n",
       "44              [PSMD13, PSMA5, PSMD11, PSMA7, PSME2, PSMD4, PSMB1, PSMB7, CSNK2B, PSMD8, PSMB5, PSMB6]   \n",
       "45                      [PSMD13, PSMA5, PSMD11, PSMA7, PSME2, PSMD4, PSMB1, PSMB7, PSMD8, PSMB5, PSMB6]   \n",
       "46                      [PSMD13, PSMA5, PSMD11, PSMA7, PSME2, PSMD4, PSMB1, PSMB7, PSMD8, PSMB5, PSMB6]   \n",
       "47  [NDUFS8, COX5B, NDUFS5, NDUFA8, NDUFB7, NDUFB8, NDUFV2, COX5A, COX7C, NDUFV1, NDUFA11, NDUFA13, ...   \n",
       "48  [NDUFS8, COX5B, NDUFS5, NDUFA8, NDUFB7, NDUFB8, NDUFV2, COX5A, COX7C, NDUFV1, NDUFA11, NDUFA13, ...   \n",
       "\n",
       "                                            url  \n",
       "0   http://model.geneontology.org/R-HSA-1236974  \n",
       "1   http://model.geneontology.org/R-HSA-5358346  \n",
       "2    http://model.geneontology.org/R-HSA-176408  \n",
       "3    http://model.geneontology.org/R-HSA-176407  \n",
       "4   http://model.geneontology.org/R-HSA-8951664  \n",
       "5   http://model.geneontology.org/R-HSA-9755511  \n",
       "6    http://model.geneontology.org/R-HSA-187577  \n",
       "7   http://model.geneontology.org/R-HSA-8852276  \n",
       "8    http://model.geneontology.org/R-HSA-174113  \n",
       "9   http://model.geneontology.org/R-HSA-9762114  \n",
       "10   http://model.geneontology.org/R-HSA-195253  \n",
       "11  http://model.geneontology.org/R-HSA-1236978  \n",
       "12   http://model.geneontology.org/R-HSA-450408  \n",
       "13   http://model.geneontology.org/R-HSA-176409  \n",
       "14   http://model.geneontology.org/R-HSA-211733  \n",
       "15    http://model.geneontology.org/R-HSA-75815  \n",
       "16  http://model.geneontology.org/R-HSA-8941858  \n",
       "17   http://model.geneontology.org/R-HSA-983170  \n",
       "18  http://model.geneontology.org/R-HSA-4641258  \n",
       "19   http://model.geneontology.org/R-HSA-349425  \n",
       "20  http://model.geneontology.org/R-HSA-4608870  \n",
       "21  http://model.geneontology.org/R-HSA-5668541  \n",
       "22  http://model.geneontology.org/R-HSA-1483213  \n",
       "23   http://model.geneontology.org/R-HSA-189451  \n",
       "24    http://model.geneontology.org/R-HSA-69481  \n",
       "25  http://model.geneontology.org/R-HSA-4641257  \n",
       "26  http://model.geneontology.org/R-HSA-1234176  \n",
       "27  http://model.geneontology.org/R-HSA-8939236  \n",
       "28    http://model.geneontology.org/R-HSA-69601  \n",
       "29    http://model.geneontology.org/R-HSA-69656  \n",
       "30   http://model.geneontology.org/R-HSA-611105  \n",
       "31  http://model.geneontology.org/R-HSA-8854050  \n",
       "32  http://model.geneontology.org/R-HSA-5632684  \n",
       "33  http://model.geneontology.org/R-HSA-5676590  \n",
       "34  http://model.geneontology.org/R-HSA-9604323  \n",
       "35  http://model.geneontology.org/R-HSA-9010553  \n",
       "36  http://model.geneontology.org/R-HSA-5607761  \n",
       "37    http://model.geneontology.org/R-HSA-69202  \n",
       "38    http://model.geneontology.org/R-HSA-68949  \n",
       "39  http://model.geneontology.org/R-HSA-5610780  \n",
       "40  http://model.geneontology.org/R-HSA-5610785  \n",
       "41  http://model.geneontology.org/R-HSA-8939902  \n",
       "42  http://model.geneontology.org/R-HSA-5610783  \n",
       "43  http://model.geneontology.org/R-HSA-5610787  \n",
       "44  http://model.geneontology.org/R-HSA-8948751  \n",
       "45  http://model.geneontology.org/R-HSA-5607764  \n",
       "46  http://model.geneontology.org/R-HSA-2871837  \n",
       "47   http://model.geneontology.org/R-HSA-167827  \n",
       "48   http://model.geneontology.org/R-HSA-167826  "
      ]
     },
     "execution_count": 46,
     "metadata": {},
     "output_type": "execute_result"
    }
   ],
   "source": [
    "platelets_combset = enrich.enrich_wrapper('platelets_up.csv','Gene Symbol',method='standard',FDR = 0.05,fpath = '../test_data/processed/')\n",
    "platelets_combset"
   ]
  },
  {
   "cell_type": "code",
   "execution_count": 39,
   "id": "bdf4926b-9ce2-4e62-831b-e74d1d0888fb",
   "metadata": {},
   "outputs": [
    {
     "name": "stderr",
     "output_type": "stream",
     "text": [
      "100%|█████████████████| 482/482 [01:18<00:00,  6.11it/s]\n"
     ]
    },
    {
     "name": "stdout",
     "output_type": "stream",
     "text": [
      "Analysis run on 424 entities from 365 out of 1172 input genes\n"
     ]
    },
    {
     "data": {
      "text/html": [
       "<div>\n",
       "<style scoped>\n",
       "    .dataframe tbody tr th:only-of-type {\n",
       "        vertical-align: middle;\n",
       "    }\n",
       "\n",
       "    .dataframe tbody tr th {\n",
       "        vertical-align: top;\n",
       "    }\n",
       "\n",
       "    .dataframe thead th {\n",
       "        text-align: right;\n",
       "    }\n",
       "</style>\n",
       "<table border=\"1\" class=\"dataframe\">\n",
       "  <thead>\n",
       "    <tr style=\"text-align: right;\">\n",
       "      <th></th>\n",
       "      <th>title</th>\n",
       "      <th>pval (uncorrected)</th>\n",
       "      <th># entities in list</th>\n",
       "      <th>#entities in model</th>\n",
       "      <th>shared entities in gocam</th>\n",
       "      <th>url</th>\n",
       "    </tr>\n",
       "  </thead>\n",
       "  <tbody>\n",
       "    <tr>\n",
       "      <th>0</th>\n",
       "      <td>Collagen biosynthesis and modifying enzymes - Reactome</td>\n",
       "      <td>4.680930e-07</td>\n",
       "      <td>10</td>\n",
       "      <td>12</td>\n",
       "      <td>[PPIB, P3H1, PLOD3, P4HB, sset:Prolyl 3-hydroxylases, sset:Lysyl hydroxylases, sset:Procollagen ...</td>\n",
       "      <td>http://model.geneontology.org/R-HSA-1650814</td>\n",
       "    </tr>\n",
       "    <tr>\n",
       "      <th>1</th>\n",
       "      <td>Hedgehog ligand biogenesis - Reactome</td>\n",
       "      <td>4.690733e-06</td>\n",
       "      <td>13</td>\n",
       "      <td>50</td>\n",
       "      <td>[PSMD13, PSMA5, PSMD11, PSMA7, PSME2, PSMD4, PSMB1, PSMB7, PSMD8, PSMB5, P4HB, PSMB6, SYVN1]</td>\n",
       "      <td>http://model.geneontology.org/R-HSA-5358346</td>\n",
       "    </tr>\n",
       "    <tr>\n",
       "      <th>2</th>\n",
       "      <td>ER-Phagosome pathway - Reactome</td>\n",
       "      <td>5.123754e-06</td>\n",
       "      <td>13</td>\n",
       "      <td>51</td>\n",
       "      <td>[PSMD13, PSMA5, PSMD11, SEC61B, PSMA7, PSME2, PSMD4, PSMB1, PSMB7, PSMD8, PSMB5, PSMB6, sset:SEC...</td>\n",
       "      <td>http://model.geneontology.org/R-HSA-1236974</td>\n",
       "    </tr>\n",
       "    <tr>\n",
       "      <th>3</th>\n",
       "      <td>Regulation of APC/C activators between G1/S and early anaphase - Reactome</td>\n",
       "      <td>7.226495e-06</td>\n",
       "      <td>13</td>\n",
       "      <td>52</td>\n",
       "      <td>[PSMD13, PSMA5, PSMD11, PSMA7, PSME2, PSMD4, PSMB1, PSMB7, CDK1, PSMD8, PSMB5, PSMB6, sset:CDC25]</td>\n",
       "      <td>http://model.geneontology.org/R-HSA-176408</td>\n",
       "    </tr>\n",
       "    <tr>\n",
       "      <th>4</th>\n",
       "      <td>Neddylation - Reactome</td>\n",
       "      <td>9.256658e-06</td>\n",
       "      <td>14</td>\n",
       "      <td>62</td>\n",
       "      <td>[UBE2M, PSMD13, PSMA5, PSMD11, PSMA7, PSME2, PSMD4, PSMB1, CUL9, PSMB7, PSMD8, PSMB5, PSMB6, sse...</td>\n",
       "      <td>http://model.geneontology.org/R-HSA-8951664</td>\n",
       "    </tr>\n",
       "    <tr>\n",
       "      <th>...</th>\n",
       "      <td>...</td>\n",
       "      <td>...</td>\n",
       "      <td>...</td>\n",
       "      <td>...</td>\n",
       "      <td>...</td>\n",
       "      <td>...</td>\n",
       "    </tr>\n",
       "    <tr>\n",
       "      <th>61</th>\n",
       "      <td>APC/C:Cdh1 mediated degradation of Cdc20 and other APC/C:Cdh1 targeted proteins in late mitosis/...</td>\n",
       "      <td>7.640748e-04</td>\n",
       "      <td>11</td>\n",
       "      <td>62</td>\n",
       "      <td>[PSMD13, PSMA5, PSMD11, PSMA7, PSME2, PSMD4, PSMB1, PSMB7, PSMD8, PSMB5, PSMB6]</td>\n",
       "      <td>http://model.geneontology.org/R-HSA-174178</td>\n",
       "    </tr>\n",
       "    <tr>\n",
       "      <th>62</th>\n",
       "      <td>Separation of Sister Chromatids - Reactome</td>\n",
       "      <td>8.704360e-04</td>\n",
       "      <td>11</td>\n",
       "      <td>63</td>\n",
       "      <td>[PSMD13, PSMA5, PSMD11, PSMA7, PSME2, PSMD4, PSMB1, PSMB7, PSMD8, PSMB5, PSMB6]</td>\n",
       "      <td>http://model.geneontology.org/R-HSA-2467813</td>\n",
       "    </tr>\n",
       "    <tr>\n",
       "      <th>63</th>\n",
       "      <td>CDK-mediated phosphorylation and removal of Cdc6 - Reactome</td>\n",
       "      <td>1.441100e-03</td>\n",
       "      <td>11</td>\n",
       "      <td>65</td>\n",
       "      <td>[PSMD13, PSMA5, PSMD11, PSMA7, PSME2, PSMD4, PSMB1, PSMB7, PSMD8, PSMB5, PSMB6]</td>\n",
       "      <td>http://model.geneontology.org/R-HSA-69017</td>\n",
       "    </tr>\n",
       "    <tr>\n",
       "      <th>64</th>\n",
       "      <td>Interleukin-1 signaling - Reactome</td>\n",
       "      <td>1.727041e-03</td>\n",
       "      <td>11</td>\n",
       "      <td>64</td>\n",
       "      <td>[PSMD13, PSMA5, PSMD11, PSMA7, PSME2, PSMD4, PSMB1, PSMB7, PSMD8, PSMB5, PSMB6]</td>\n",
       "      <td>http://model.geneontology.org/R-HSA-9020702</td>\n",
       "    </tr>\n",
       "    <tr>\n",
       "      <th>65</th>\n",
       "      <td>Downstream TCR signaling - Reactome</td>\n",
       "      <td>1.813878e-03</td>\n",
       "      <td>14</td>\n",
       "      <td>74</td>\n",
       "      <td>[PSMD13, PSMA5, PSMD11, PSMA7, PSME2, PSMD4, PSMB1, PSMB7, PSMD8, PSMB5, PSMB6, CD3D, sset:Activ...</td>\n",
       "      <td>http://model.geneontology.org/R-HSA-202424</td>\n",
       "    </tr>\n",
       "  </tbody>\n",
       "</table>\n",
       "<p>66 rows × 6 columns</p>\n",
       "</div>"
      ],
      "text/plain": [
       "                                                                                                  title  \\\n",
       "0                                                Collagen biosynthesis and modifying enzymes - Reactome   \n",
       "1                                                                 Hedgehog ligand biogenesis - Reactome   \n",
       "2                                                                       ER-Phagosome pathway - Reactome   \n",
       "3                             Regulation of APC/C activators between G1/S and early anaphase - Reactome   \n",
       "4                                                                                Neddylation - Reactome   \n",
       "..                                                                                                  ...   \n",
       "61  APC/C:Cdh1 mediated degradation of Cdc20 and other APC/C:Cdh1 targeted proteins in late mitosis/...   \n",
       "62                                                           Separation of Sister Chromatids - Reactome   \n",
       "63                                          CDK-mediated phosphorylation and removal of Cdc6 - Reactome   \n",
       "64                                                                   Interleukin-1 signaling - Reactome   \n",
       "65                                                                  Downstream TCR signaling - Reactome   \n",
       "\n",
       "    pval (uncorrected)  # entities in list  #entities in model  \\\n",
       "0         4.680930e-07                  10                  12   \n",
       "1         4.690733e-06                  13                  50   \n",
       "2         5.123754e-06                  13                  51   \n",
       "3         7.226495e-06                  13                  52   \n",
       "4         9.256658e-06                  14                  62   \n",
       "..                 ...                 ...                 ...   \n",
       "61        7.640748e-04                  11                  62   \n",
       "62        8.704360e-04                  11                  63   \n",
       "63        1.441100e-03                  11                  65   \n",
       "64        1.727041e-03                  11                  64   \n",
       "65        1.813878e-03                  14                  74   \n",
       "\n",
       "                                                                               shared entities in gocam  \\\n",
       "0   [PPIB, P3H1, PLOD3, P4HB, sset:Prolyl 3-hydroxylases, sset:Lysyl hydroxylases, sset:Procollagen ...   \n",
       "1          [PSMD13, PSMA5, PSMD11, PSMA7, PSME2, PSMD4, PSMB1, PSMB7, PSMD8, PSMB5, P4HB, PSMB6, SYVN1]   \n",
       "2   [PSMD13, PSMA5, PSMD11, SEC61B, PSMA7, PSME2, PSMD4, PSMB1, PSMB7, PSMD8, PSMB5, PSMB6, sset:SEC...   \n",
       "3     [PSMD13, PSMA5, PSMD11, PSMA7, PSME2, PSMD4, PSMB1, PSMB7, CDK1, PSMD8, PSMB5, PSMB6, sset:CDC25]   \n",
       "4   [UBE2M, PSMD13, PSMA5, PSMD11, PSMA7, PSME2, PSMD4, PSMB1, CUL9, PSMB7, PSMD8, PSMB5, PSMB6, sse...   \n",
       "..                                                                                                  ...   \n",
       "61                      [PSMD13, PSMA5, PSMD11, PSMA7, PSME2, PSMD4, PSMB1, PSMB7, PSMD8, PSMB5, PSMB6]   \n",
       "62                      [PSMD13, PSMA5, PSMD11, PSMA7, PSME2, PSMD4, PSMB1, PSMB7, PSMD8, PSMB5, PSMB6]   \n",
       "63                      [PSMD13, PSMA5, PSMD11, PSMA7, PSME2, PSMD4, PSMB1, PSMB7, PSMD8, PSMB5, PSMB6]   \n",
       "64                      [PSMD13, PSMA5, PSMD11, PSMA7, PSME2, PSMD4, PSMB1, PSMB7, PSMD8, PSMB5, PSMB6]   \n",
       "65  [PSMD13, PSMA5, PSMD11, PSMA7, PSME2, PSMD4, PSMB1, PSMB7, PSMD8, PSMB5, PSMB6, CD3D, sset:Activ...   \n",
       "\n",
       "                                            url  \n",
       "0   http://model.geneontology.org/R-HSA-1650814  \n",
       "1   http://model.geneontology.org/R-HSA-5358346  \n",
       "2   http://model.geneontology.org/R-HSA-1236974  \n",
       "3    http://model.geneontology.org/R-HSA-176408  \n",
       "4   http://model.geneontology.org/R-HSA-8951664  \n",
       "..                                          ...  \n",
       "61   http://model.geneontology.org/R-HSA-174178  \n",
       "62  http://model.geneontology.org/R-HSA-2467813  \n",
       "63    http://model.geneontology.org/R-HSA-69017  \n",
       "64  http://model.geneontology.org/R-HSA-9020702  \n",
       "65   http://model.geneontology.org/R-HSA-202424  \n",
       "\n",
       "[66 rows x 6 columns]"
      ]
     },
     "execution_count": 39,
     "metadata": {},
     "output_type": "execute_result"
    }
   ],
   "source": [
    "platelets_upnc = enrich.enrich_wrapper('platelets_up.csv','Gene Symbol',method='ncHGT',FDR = 0.05,fpath = '../test_data/processed/')\n",
    "platelets_upnc"
   ]
  },
  {
   "cell_type": "markdown",
   "id": "aeac2c40-4fc8-4b0f-aa4c-44712824422c",
   "metadata": {
    "tags": []
   },
   "source": [
    " PE derivatives activate platelts: https://ashpublications.org/blood/article/127/21/2618/35188/Novel-phosphatidylethanolamine-derivatives\n",
    " \n",
    "platelets may produce collagen: https://www.ncbi.nlm.nih.gov/pmc/articles/PMC7928007/\n",
    "- looking in the raw data, most, if not all, collagen mRNAs are unperturbed or strongly downregulated. COL1A2 has no significant change, just a mild decrease that is not significant (COL1A1 is not listed in the supplemental. Not sure if that means it was not detected.).\n",
    "- this paper profiled collagen, procollagen, hydroxyproline, and procollagen mRNA in PCOS vs healthy donors (PCOS apparently has a platelet dystregulation component). They found that hydroxyproline and procollagen were increased at the protein levels, but the procollagen mRNA was not increased and was slightly decreased (not statistically significantly) in PCOS.\n",
    "- activated platelets may release procollagen\n",
    "- while we don't have collagen protein levels for this study, the increase in mRNA for collagen biosynthetic genes and the insignificant change in collagen mRNA are consistent with that paper.\n",
    "\n",
    "paper from 1977 about collagen production in platelets: https://pubmed.ncbi.nlm.nih.gov/194639/\n",
    "- may discuss ratio of collagen producing enzymes vs skin\n",
    "\n",
    "platelet functions beyond clotting: https://onlinelibrary.wiley.com/doi/10.1111/j.1538-7836.2009.03586.x"
   ]
  },
  {
   "cell_type": "code",
   "execution_count": 45,
   "id": "f6cec062-48f7-4743-a8df-8e4a667849ac",
   "metadata": {},
   "outputs": [
    {
     "name": "stderr",
     "output_type": "stream",
     "text": [
      "100%|██████████████| 436/436 [00:00<00:00, 17811.94it/s]\n"
     ]
    },
    {
     "name": "stdout",
     "output_type": "stream",
     "text": [
      "Analysis run on 310 entities from 267 out of 1088 input genes\n"
     ]
    },
    {
     "data": {
      "text/html": [
       "<div>\n",
       "<style scoped>\n",
       "    .dataframe tbody tr th:only-of-type {\n",
       "        vertical-align: middle;\n",
       "    }\n",
       "\n",
       "    .dataframe tbody tr th {\n",
       "        vertical-align: top;\n",
       "    }\n",
       "\n",
       "    .dataframe thead th {\n",
       "        text-align: right;\n",
       "    }\n",
       "</style>\n",
       "<table border=\"1\" class=\"dataframe\">\n",
       "  <thead>\n",
       "    <tr style=\"text-align: right;\">\n",
       "      <th></th>\n",
       "      <th>title</th>\n",
       "      <th>pval (uncorrected)</th>\n",
       "      <th># entities in list</th>\n",
       "      <th>#entities in model</th>\n",
       "      <th>shared entities in gocam</th>\n",
       "      <th>url</th>\n",
       "    </tr>\n",
       "  </thead>\n",
       "  <tbody>\n",
       "    <tr>\n",
       "      <th>0</th>\n",
       "      <td>Role of phospholipids in phagocytosis - Reactome</td>\n",
       "      <td>1.730419e-07</td>\n",
       "      <td>11</td>\n",
       "      <td>22</td>\n",
       "      <td>[sset:G-protein gamma subunit, sset:PLD, sset:PL(C)D4:3xCa2+, sset:G(q) alpha 11,14,15,Q, sset:P...</td>\n",
       "      <td>http://model.geneontology.org/R-HSA-2029485</td>\n",
       "    </tr>\n",
       "    <tr>\n",
       "      <th>1</th>\n",
       "      <td>DAG and IP3 signaling - Reactome</td>\n",
       "      <td>1.766299e-07</td>\n",
       "      <td>10</td>\n",
       "      <td>18</td>\n",
       "      <td>[sset:G-protein gamma subunit, sset:PL(C)D4:3xCa2+, sset:G(q) alpha 11,14,15,Q, sset:PLC beta1,2...</td>\n",
       "      <td>http://model.geneontology.org/R-HSA-1489509</td>\n",
       "    </tr>\n",
       "    <tr>\n",
       "      <th>2</th>\n",
       "      <td>PLC beta mediated events - Reactome</td>\n",
       "      <td>3.083672e-07</td>\n",
       "      <td>9</td>\n",
       "      <td>15</td>\n",
       "      <td>[sset:G-protein gamma subunit, sset:PL(C)D4:3xCa2+, sset:G(q) alpha 11,14,15,Q, sset:PLC beta1,2...</td>\n",
       "      <td>http://model.geneontology.org/R-HSA-112043</td>\n",
       "    </tr>\n",
       "    <tr>\n",
       "      <th>3</th>\n",
       "      <td>Antigen activates B Cell Receptor (BCR) leading to generation of second messengers - Reactome</td>\n",
       "      <td>8.830625e-07</td>\n",
       "      <td>11</td>\n",
       "      <td>25</td>\n",
       "      <td>[PIK3R1, sset:G-protein gamma subunit, sset:PL(C)D4:3xCa2+, sset:LYN, p-SYK, sset:G(q) alpha 11,...</td>\n",
       "      <td>http://model.geneontology.org/R-HSA-983695</td>\n",
       "    </tr>\n",
       "    <tr>\n",
       "      <th>4</th>\n",
       "      <td>G alpha (12/13) signalling events - Reactome</td>\n",
       "      <td>1.123783e-06</td>\n",
       "      <td>8</td>\n",
       "      <td>13</td>\n",
       "      <td>[GNA13, sset:G-protein gamma subunit, sset:Ligand:GPCR complexes that activate Gi, sset:G-protei...</td>\n",
       "      <td>http://model.geneontology.org/R-HSA-416482</td>\n",
       "    </tr>\n",
       "    <tr>\n",
       "      <th>5</th>\n",
       "      <td>VEGFR2 mediated cell proliferation - Reactome</td>\n",
       "      <td>2.240362e-06</td>\n",
       "      <td>11</td>\n",
       "      <td>27</td>\n",
       "      <td>[KDR, sset:G-protein gamma subunit, sset:PL(C)D4:3xCa2+, sset:G(q) alpha 11,14,15,Q, sset:PLC be...</td>\n",
       "      <td>http://model.geneontology.org/R-HSA-5218921</td>\n",
       "    </tr>\n",
       "    <tr>\n",
       "      <th>6</th>\n",
       "      <td>Regulation of insulin secretion - Reactome</td>\n",
       "      <td>1.874356e-05</td>\n",
       "      <td>9</td>\n",
       "      <td>22</td>\n",
       "      <td>[sset:G-protein gamma subunit, sset:PL(C)D4:3xCa2+, sset:G(q) alpha 11,14,15,Q, sset:PLC beta1,2...</td>\n",
       "      <td>http://model.geneontology.org/R-HSA-422356</td>\n",
       "    </tr>\n",
       "    <tr>\n",
       "      <th>7</th>\n",
       "      <td>CLEC7A (Dectin-1) induces NFAT activation - Reactome</td>\n",
       "      <td>1.874356e-05</td>\n",
       "      <td>9</td>\n",
       "      <td>22</td>\n",
       "      <td>[sset:G-protein gamma subunit, sset:PL(C)D4:3xCa2+, sset:G(q) alpha 11,14,15,Q, sset:PLC beta1,2...</td>\n",
       "      <td>http://model.geneontology.org/R-HSA-5607763</td>\n",
       "    </tr>\n",
       "    <tr>\n",
       "      <th>8</th>\n",
       "      <td>VEGFR2 mediated vascular permeability - Reactome</td>\n",
       "      <td>6.762095e-05</td>\n",
       "      <td>8</td>\n",
       "      <td>20</td>\n",
       "      <td>[PIK3R1, PIK3CG, sset:Activator:PI3K, sset:G-protein gamma subunit, sset:PI3K alpha, beta, gamma...</td>\n",
       "      <td>http://model.geneontology.org/R-HSA-5218920</td>\n",
       "    </tr>\n",
       "    <tr>\n",
       "      <th>9</th>\n",
       "      <td>FCERI mediated Ca+2 mobilization - Reactome</td>\n",
       "      <td>8.898693e-05</td>\n",
       "      <td>9</td>\n",
       "      <td>26</td>\n",
       "      <td>[sset:G-protein gamma subunit, sset:PL(C)D4:3xCa2+, sset:G(q) alpha 11,14,15,Q, sset:PLC beta1,2...</td>\n",
       "      <td>http://model.geneontology.org/R-HSA-2871809</td>\n",
       "    </tr>\n",
       "    <tr>\n",
       "      <th>10</th>\n",
       "      <td>Ca2+ pathway - Reactome</td>\n",
       "      <td>1.244721e-04</td>\n",
       "      <td>9</td>\n",
       "      <td>27</td>\n",
       "      <td>[sset:G-protein gamma subunit, sset:PL(C)D4:3xCa2+, sset:G(q) alpha 11,14,15,Q, sset:PLC beta1,2...</td>\n",
       "      <td>http://model.geneontology.org/R-HSA-4086398</td>\n",
       "    </tr>\n",
       "    <tr>\n",
       "      <th>11</th>\n",
       "      <td>Synthesis of very long-chain fatty acyl-CoAs - Reactome</td>\n",
       "      <td>1.309418e-04</td>\n",
       "      <td>6</td>\n",
       "      <td>12</td>\n",
       "      <td>[ELOVL7, sset:ACSL3,4, sset:HSD17B3,12, sset:ELOVL3,6,7, sset:PTPLs, sset:ACSBG1,2]</td>\n",
       "      <td>http://model.geneontology.org/R-HSA-75876</td>\n",
       "    </tr>\n",
       "    <tr>\n",
       "      <th>12</th>\n",
       "      <td>Synthesis of IP2, IP, and Ins in the cytosol - Reactome</td>\n",
       "      <td>1.589384e-04</td>\n",
       "      <td>7</td>\n",
       "      <td>17</td>\n",
       "      <td>[sset:IMPA1/2, sset:INPP5(4), sset:PL(C)D4:3xCa2+, sset:INPP5(3)/ITPK1, sset:PLCdegh, sset:PLCbz...</td>\n",
       "      <td>http://model.geneontology.org/R-HSA-1855183</td>\n",
       "    </tr>\n",
       "    <tr>\n",
       "      <th>13</th>\n",
       "      <td>G beta:gamma signalling through PI3Kgamma - Reactome</td>\n",
       "      <td>5.027142e-04</td>\n",
       "      <td>5</td>\n",
       "      <td>10</td>\n",
       "      <td>[PIK3R1, PIK3CG, sset:G-protein gamma subunit, sset:PI3K alpha, beta, gamma, sset:PI3K-regulator...</td>\n",
       "      <td>http://model.geneontology.org/R-HSA-392451</td>\n",
       "    </tr>\n",
       "    <tr>\n",
       "      <th>14</th>\n",
       "      <td>PI3K/AKT Signaling - Reactome</td>\n",
       "      <td>5.799044e-04</td>\n",
       "      <td>6</td>\n",
       "      <td>15</td>\n",
       "      <td>[PIK3R1, PIK3CG, sset:Activator:PI3K, sset:G-protein gamma subunit, sset:PI3K alpha, beta, gamma...</td>\n",
       "      <td>http://model.geneontology.org/R-HSA-1257604</td>\n",
       "    </tr>\n",
       "  </tbody>\n",
       "</table>\n",
       "</div>"
      ],
      "text/plain": [
       "                                                                                            title  \\\n",
       "0                                                Role of phospholipids in phagocytosis - Reactome   \n",
       "1                                                                DAG and IP3 signaling - Reactome   \n",
       "2                                                             PLC beta mediated events - Reactome   \n",
       "3   Antigen activates B Cell Receptor (BCR) leading to generation of second messengers - Reactome   \n",
       "4                                                    G alpha (12/13) signalling events - Reactome   \n",
       "5                                                   VEGFR2 mediated cell proliferation - Reactome   \n",
       "6                                                      Regulation of insulin secretion - Reactome   \n",
       "7                                            CLEC7A (Dectin-1) induces NFAT activation - Reactome   \n",
       "8                                                VEGFR2 mediated vascular permeability - Reactome   \n",
       "9                                                     FCERI mediated Ca+2 mobilization - Reactome   \n",
       "10                                                                        Ca2+ pathway - Reactome   \n",
       "11                                        Synthesis of very long-chain fatty acyl-CoAs - Reactome   \n",
       "12                                        Synthesis of IP2, IP, and Ins in the cytosol - Reactome   \n",
       "13                                           G beta:gamma signalling through PI3Kgamma - Reactome   \n",
       "14                                                                  PI3K/AKT Signaling - Reactome   \n",
       "\n",
       "    pval (uncorrected)  # entities in list  #entities in model  \\\n",
       "0         1.730419e-07                  11                  22   \n",
       "1         1.766299e-07                  10                  18   \n",
       "2         3.083672e-07                   9                  15   \n",
       "3         8.830625e-07                  11                  25   \n",
       "4         1.123783e-06                   8                  13   \n",
       "5         2.240362e-06                  11                  27   \n",
       "6         1.874356e-05                   9                  22   \n",
       "7         1.874356e-05                   9                  22   \n",
       "8         6.762095e-05                   8                  20   \n",
       "9         8.898693e-05                   9                  26   \n",
       "10        1.244721e-04                   9                  27   \n",
       "11        1.309418e-04                   6                  12   \n",
       "12        1.589384e-04                   7                  17   \n",
       "13        5.027142e-04                   5                  10   \n",
       "14        5.799044e-04                   6                  15   \n",
       "\n",
       "                                                                               shared entities in gocam  \\\n",
       "0   [sset:G-protein gamma subunit, sset:PLD, sset:PL(C)D4:3xCa2+, sset:G(q) alpha 11,14,15,Q, sset:P...   \n",
       "1   [sset:G-protein gamma subunit, sset:PL(C)D4:3xCa2+, sset:G(q) alpha 11,14,15,Q, sset:PLC beta1,2...   \n",
       "2   [sset:G-protein gamma subunit, sset:PL(C)D4:3xCa2+, sset:G(q) alpha 11,14,15,Q, sset:PLC beta1,2...   \n",
       "3   [PIK3R1, sset:G-protein gamma subunit, sset:PL(C)D4:3xCa2+, sset:LYN, p-SYK, sset:G(q) alpha 11,...   \n",
       "4   [GNA13, sset:G-protein gamma subunit, sset:Ligand:GPCR complexes that activate Gi, sset:G-protei...   \n",
       "5   [KDR, sset:G-protein gamma subunit, sset:PL(C)D4:3xCa2+, sset:G(q) alpha 11,14,15,Q, sset:PLC be...   \n",
       "6   [sset:G-protein gamma subunit, sset:PL(C)D4:3xCa2+, sset:G(q) alpha 11,14,15,Q, sset:PLC beta1,2...   \n",
       "7   [sset:G-protein gamma subunit, sset:PL(C)D4:3xCa2+, sset:G(q) alpha 11,14,15,Q, sset:PLC beta1,2...   \n",
       "8   [PIK3R1, PIK3CG, sset:Activator:PI3K, sset:G-protein gamma subunit, sset:PI3K alpha, beta, gamma...   \n",
       "9   [sset:G-protein gamma subunit, sset:PL(C)D4:3xCa2+, sset:G(q) alpha 11,14,15,Q, sset:PLC beta1,2...   \n",
       "10  [sset:G-protein gamma subunit, sset:PL(C)D4:3xCa2+, sset:G(q) alpha 11,14,15,Q, sset:PLC beta1,2...   \n",
       "11                  [ELOVL7, sset:ACSL3,4, sset:HSD17B3,12, sset:ELOVL3,6,7, sset:PTPLs, sset:ACSBG1,2]   \n",
       "12  [sset:IMPA1/2, sset:INPP5(4), sset:PL(C)D4:3xCa2+, sset:INPP5(3)/ITPK1, sset:PLCdegh, sset:PLCbz...   \n",
       "13  [PIK3R1, PIK3CG, sset:G-protein gamma subunit, sset:PI3K alpha, beta, gamma, sset:PI3K-regulator...   \n",
       "14  [PIK3R1, PIK3CG, sset:Activator:PI3K, sset:G-protein gamma subunit, sset:PI3K alpha, beta, gamma...   \n",
       "\n",
       "                                            url  \n",
       "0   http://model.geneontology.org/R-HSA-2029485  \n",
       "1   http://model.geneontology.org/R-HSA-1489509  \n",
       "2    http://model.geneontology.org/R-HSA-112043  \n",
       "3    http://model.geneontology.org/R-HSA-983695  \n",
       "4    http://model.geneontology.org/R-HSA-416482  \n",
       "5   http://model.geneontology.org/R-HSA-5218921  \n",
       "6    http://model.geneontology.org/R-HSA-422356  \n",
       "7   http://model.geneontology.org/R-HSA-5607763  \n",
       "8   http://model.geneontology.org/R-HSA-5218920  \n",
       "9   http://model.geneontology.org/R-HSA-2871809  \n",
       "10  http://model.geneontology.org/R-HSA-4086398  \n",
       "11    http://model.geneontology.org/R-HSA-75876  \n",
       "12  http://model.geneontology.org/R-HSA-1855183  \n",
       "13   http://model.geneontology.org/R-HSA-392451  \n",
       "14  http://model.geneontology.org/R-HSA-1257604  "
      ]
     },
     "execution_count": 45,
     "metadata": {},
     "output_type": "execute_result"
    }
   ],
   "source": [
    "platelets_downset = enrich.enrich_wrapper('platelets_down.csv','Gene Symbol',method='set',FDR = 0.05,fpath = '../test_data/processed/')\n",
    "platelets_downset"
   ]
  },
  {
   "cell_type": "markdown",
   "id": "c9b3918e-9737-4f26-8522-5ef927871305",
   "metadata": {},
   "source": [
    "platelets release angiogenic factors: https://onlinelibrary.wiley.com/doi/10.1111/j.1538-7836.2009.03586.x\n",
    "platlets and VEGF: https://pubmed.ncbi.nlm.nih.gov/11824377/#:~:text=Vascular%20Endothelial%20Growth%20Factor%20(VEGF)%20is%20one%20of%20the%20major,patients%2C%20correlated%20with%20worse%20prognosis."
   ]
  },
  {
   "cell_type": "code",
   "execution_count": 46,
   "id": "bb5f68b4-12d3-4cca-b76e-24702aed6c70",
   "metadata": {},
   "outputs": [
    {
     "name": "stderr",
     "output_type": "stream",
     "text": [
      "100%|██████████████| 482/482 [00:00<00:00, 17127.44it/s]\n",
      "100%|██████████████| 482/482 [00:00<00:00, 17303.95it/s]\n"
     ]
    },
    {
     "name": "stdout",
     "output_type": "stream",
     "text": [
      "Standard method yields 49 results, 48 of which are unique\n"
     ]
    },
    {
     "data": {
      "text/html": [
       "<div>\n",
       "<style scoped>\n",
       "    .dataframe tbody tr th:only-of-type {\n",
       "        vertical-align: middle;\n",
       "    }\n",
       "\n",
       "    .dataframe tbody tr th {\n",
       "        vertical-align: top;\n",
       "    }\n",
       "\n",
       "    .dataframe thead th {\n",
       "        text-align: right;\n",
       "    }\n",
       "</style>\n",
       "<table border=\"1\" class=\"dataframe\">\n",
       "  <thead>\n",
       "    <tr style=\"text-align: right;\">\n",
       "      <th></th>\n",
       "      <th>title</th>\n",
       "      <th>pval (uncorrected)</th>\n",
       "      <th># entities in list</th>\n",
       "      <th>#entities in model</th>\n",
       "      <th>shared entities in gocam</th>\n",
       "      <th>url</th>\n",
       "      <th>gene list size</th>\n",
       "    </tr>\n",
       "  </thead>\n",
       "  <tbody>\n",
       "    <tr>\n",
       "      <th>0</th>\n",
       "      <td>Collagen biosynthesis and modifying enzymes - Reactome</td>\n",
       "      <td>9.186593e-09</td>\n",
       "      <td>10</td>\n",
       "      <td>12</td>\n",
       "      <td>[PPIB, P3H1, PLOD3, P4HB, sset:4-Hyp collagen propeptides, sset:Procollagen C-proteinases, sset:...</td>\n",
       "      <td>http://model.geneontology.org/R-HSA-1650814</td>\n",
       "      <td>65</td>\n",
       "    </tr>\n",
       "  </tbody>\n",
       "</table>\n",
       "</div>"
      ],
      "text/plain": [
       "                                                    title  pval (uncorrected)  \\\n",
       "0  Collagen biosynthesis and modifying enzymes - Reactome        9.186593e-09   \n",
       "\n",
       "   # entities in list  #entities in model  \\\n",
       "0                  10                  12   \n",
       "\n",
       "                                                                              shared entities in gocam  \\\n",
       "0  [PPIB, P3H1, PLOD3, P4HB, sset:4-Hyp collagen propeptides, sset:Procollagen C-proteinases, sset:...   \n",
       "\n",
       "                                           url  gene list size  \n",
       "0  http://model.geneontology.org/R-HSA-1650814              65  "
      ]
     },
     "execution_count": 46,
     "metadata": {},
     "output_type": "execute_result"
    }
   ],
   "source": [
    "enrich.compare2standard(platelets_upset, 'platelets_up.csv','Gene Symbol',FDR = 0.05)"
   ]
  },
  {
   "cell_type": "code",
   "execution_count": 47,
   "id": "94f4ec79-f39c-4141-86a1-68d761976ea7",
   "metadata": {},
   "outputs": [
    {
     "name": "stderr",
     "output_type": "stream",
     "text": [
      "100%|██████████████| 482/482 [00:00<00:00, 17258.01it/s]\n"
     ]
    },
    {
     "data": {
      "text/html": [
       "<div>\n",
       "<style scoped>\n",
       "    .dataframe tbody tr th:only-of-type {\n",
       "        vertical-align: middle;\n",
       "    }\n",
       "\n",
       "    .dataframe tbody tr th {\n",
       "        vertical-align: top;\n",
       "    }\n",
       "\n",
       "    .dataframe thead th {\n",
       "        text-align: right;\n",
       "    }\n",
       "</style>\n",
       "<table border=\"1\" class=\"dataframe\">\n",
       "  <thead>\n",
       "    <tr style=\"text-align: right;\">\n",
       "      <th></th>\n",
       "      <th>title</th>\n",
       "      <th>pval (uncorrected)</th>\n",
       "      <th># entities in list</th>\n",
       "      <th>#entities in model</th>\n",
       "      <th>shared entities in gocam</th>\n",
       "      <th>url</th>\n",
       "    </tr>\n",
       "  </thead>\n",
       "  <tbody>\n",
       "    <tr>\n",
       "      <th>121</th>\n",
       "      <td>Collagen biosynthesis and modifying enzymes - Reactome</td>\n",
       "      <td>0.08694</td>\n",
       "      <td>8</td>\n",
       "      <td>65</td>\n",
       "      <td>[PPIB, P3H1, COL18A1, PLOD3, P3H2, BMP1, P4HB, COLGALT1]</td>\n",
       "      <td>http://model.geneontology.org/R-HSA-1650814</td>\n",
       "    </tr>\n",
       "  </tbody>\n",
       "</table>\n",
       "</div>"
      ],
      "text/plain": [
       "                                                      title  \\\n",
       "121  Collagen biosynthesis and modifying enzymes - Reactome   \n",
       "\n",
       "     pval (uncorrected)  # entities in list  #entities in model  \\\n",
       "121             0.08694                   8                  65   \n",
       "\n",
       "                                     shared entities in gocam  \\\n",
       "121  [PPIB, P3H1, COL18A1, PLOD3, P3H2, BMP1, P4HB, COLGALT1]   \n",
       "\n",
       "                                             url  \n",
       "121  http://model.geneontology.org/R-HSA-1650814  "
      ]
     },
     "execution_count": 47,
     "metadata": {},
     "output_type": "execute_result"
    }
   ],
   "source": [
    "temp = enrich.enrich_wrapper('platelets_up.csv','Gene Symbol',method='standard',show_significant= False,fpath = '../test_data/processed/')\n",
    "temp = temp.query('title == \"Collagen biosynthesis and modifying enzymes - Reactome\"')\n",
    "temp"
   ]
  },
  {
   "cell_type": "markdown",
   "id": "d00671ef-b84e-4c9f-8985-d1c0ac279bb8",
   "metadata": {},
   "source": [
    "Listing the entities involved in collagen production that are upregulated:"
   ]
  },
  {
   "cell_type": "code",
   "execution_count": 48,
   "id": "416ad56c-a7b6-4781-96b8-00fe2c31bd4f",
   "metadata": {},
   "outputs": [
    {
     "data": {
      "text/plain": [
       "['PPIB',\n",
       " 'P3H1',\n",
       " 'PLOD3',\n",
       " 'P4HB',\n",
       " 'sset:4-Hyp collagen propeptides',\n",
       " 'sset:Procollagen C-proteinases',\n",
       " 'sset:COLGALT1,COLGALT2',\n",
       " 'sset:Procollagen N-proteinases',\n",
       " 'sset:Prolyl 3-hydroxylases',\n",
       " 'sset:Lysyl hydroxylases']"
      ]
     },
     "execution_count": 48,
     "metadata": {},
     "output_type": "execute_result"
    }
   ],
   "source": [
    "platelets_upset.loc[0,:]['shared entities in gocam']"
   ]
  },
  {
   "cell_type": "code",
   "execution_count": 49,
   "id": "cf728c9f-d9cc-49f1-9daf-fbfbc868e262",
   "metadata": {},
   "outputs": [
    {
     "data": {
      "text/plain": [
       "['P02458',\n",
       " 'Q9BXS0',\n",
       " 'Q8IZC6',\n",
       " 'P12111',\n",
       " 'P08123',\n",
       " 'Q02388',\n",
       " 'P12110',\n",
       " 'Q9UMD9',\n",
       " 'P39060',\n",
       " 'Q07092',\n",
       " 'P02452',\n",
       " 'Q96A83',\n",
       " 'Q14993',\n",
       " 'P39059',\n",
       " 'Q01955',\n",
       " 'Q8NFW1',\n",
       " 'Q86Y22',\n",
       " 'Q17RW2',\n",
       " 'P53420',\n",
       " 'P12107',\n",
       " 'Q03692',\n",
       " 'P05997',\n",
       " 'P25940',\n",
       " 'A8TX70',\n",
       " 'P20908',\n",
       " 'P13942',\n",
       " 'P12109',\n",
       " 'Q14031',\n",
       " 'P20849',\n",
       " 'Q05707',\n",
       " 'P02462',\n",
       " 'Q96P44',\n",
       " 'Q2UY09',\n",
       " 'P02461',\n",
       " 'Q9P218',\n",
       " 'P08572',\n",
       " 'P29400',\n",
       " 'P27658',\n",
       " 'Q14055',\n",
       " 'Q5TAT6',\n",
       " 'A6NMZ7',\n",
       " 'Q99715',\n",
       " 'P25067',\n",
       " 'Q14050']"
      ]
     },
     "execution_count": 49,
     "metadata": {},
     "output_type": "execute_result"
    }
   ],
   "source": [
    "setID2members = utils.csv2dict('../data/setID2members.csv')\n",
    "len(setID2members.get('sset:4-Hyp collagen propeptides'))\n",
    "setID2members.get('sset:4-Hyp collagen propeptides')"
   ]
  },
  {
   "cell_type": "markdown",
   "id": "56f4a1cc-d2fb-4457-9351-4a604c8dc607",
   "metadata": {},
   "source": [
    "Here, we see that the GOCAM model size is inflated mainly by the set of '4-Hydroxyproline collagen propeptides', which represents 44 collagen genes. This is a clear case in which a weighted enrichment isn't representative of activity, because only the genes of one type of collagen need to be expressed at a time in order for collagen synthesis to proceed. Furthermore, the model size is clearly inflated by the standard gene list method.\n",
    "\n",
    "Collagen modifying enzymes have been shown to be expressed in platelets, although their activity against mature collagen triple helices in the extracellular space was not observed, suggesting that platelets do not modify extracellular collagen triple helices produced by other cells (1977 paper). Recently, collagen 1 synthesis in activated platelets has been demonstrated. Platelets from patients with PCOS, an endocrine syndrome with low grade inflammation and platelet involvement|, were shown to contain higher levels of hydroxyproline than inactive platelets, COL1A1 mRNA was detected, and collagen was detected at higher levels in platlets from PCOS patients. To demonstrate that the detected collagen originated from within the platelets themselves as opposed to contamination, the authors showed that collagen levels increased when platelets were activated with thrombin and coated the platlets, and in the absence of activation, collagen was detected only after membrane permeablization with triton X-100. They note that procollagen mRNA was not significantly different between the healthy donors' and the PCOS patients' platelets, yet collagen levels were different, and they speculate that this may be due to increased activity of enzymes in the collagen synthesis and modification pathway. \n",
    "\n",
    "While \"Utah et al\" did not assay collagen levels, mRNA levels were not increased for collagen I, yet mRNA levels for enzymes at every step of the pathway were increased, consistent with their findings. While collagen I levels in Covid patients would need to be assayed to confirm this and the significance of this to increased platelet activity in Covid-19 remains unknown, collagen I is a known activator of platelets, and accounting for sets allowed us to generate a hypothesis that would be missed by the standard gene list method. "
   ]
  },
  {
   "cell_type": "code",
   "execution_count": 50,
   "id": "dfae8be0-ef90-439f-8608-2bc7607bfecb",
   "metadata": {},
   "outputs": [
    {
     "name": "stderr",
     "output_type": "stream",
     "text": [
      "100%|██████████████| 436/436 [00:00<00:00, 16957.21it/s]\n",
      "100%|██████████████| 436/436 [00:00<00:00, 18091.95it/s]\n"
     ]
    },
    {
     "name": "stdout",
     "output_type": "stream",
     "text": [
      "Standard method yields 6 results, 6 of which are unique\n"
     ]
    },
    {
     "data": {
      "text/html": [
       "<div>\n",
       "<style scoped>\n",
       "    .dataframe tbody tr th:only-of-type {\n",
       "        vertical-align: middle;\n",
       "    }\n",
       "\n",
       "    .dataframe tbody tr th {\n",
       "        vertical-align: top;\n",
       "    }\n",
       "\n",
       "    .dataframe thead th {\n",
       "        text-align: right;\n",
       "    }\n",
       "</style>\n",
       "<table border=\"1\" class=\"dataframe\">\n",
       "  <thead>\n",
       "    <tr style=\"text-align: right;\">\n",
       "      <th></th>\n",
       "      <th>title</th>\n",
       "      <th>pval (uncorrected)</th>\n",
       "      <th># entities in list</th>\n",
       "      <th>#entities in model</th>\n",
       "      <th>shared entities in gocam</th>\n",
       "      <th>url</th>\n",
       "      <th>gene list size</th>\n",
       "    </tr>\n",
       "  </thead>\n",
       "  <tbody>\n",
       "    <tr>\n",
       "      <th>0</th>\n",
       "      <td>Role of phospholipids in phagocytosis - Reactome</td>\n",
       "      <td>1.730419e-07</td>\n",
       "      <td>11</td>\n",
       "      <td>22</td>\n",
       "      <td>[sset:G-protein gamma subunit, sset:PLD, sset:PL(C)D4:3xCa2+, sset:G(q) alpha 11,14,15,Q, sset:P...</td>\n",
       "      <td>http://model.geneontology.org/R-HSA-2029485</td>\n",
       "      <td>52</td>\n",
       "    </tr>\n",
       "    <tr>\n",
       "      <th>1</th>\n",
       "      <td>DAG and IP3 signaling - Reactome</td>\n",
       "      <td>1.766299e-07</td>\n",
       "      <td>10</td>\n",
       "      <td>18</td>\n",
       "      <td>[sset:G-protein gamma subunit, sset:PL(C)D4:3xCa2+, sset:G(q) alpha 11,14,15,Q, sset:PLC beta1,2...</td>\n",
       "      <td>http://model.geneontology.org/R-HSA-1489509</td>\n",
       "      <td>45</td>\n",
       "    </tr>\n",
       "    <tr>\n",
       "      <th>2</th>\n",
       "      <td>PLC beta mediated events - Reactome</td>\n",
       "      <td>3.083672e-07</td>\n",
       "      <td>9</td>\n",
       "      <td>15</td>\n",
       "      <td>[sset:G-protein gamma subunit, sset:PL(C)D4:3xCa2+, sset:G(q) alpha 11,14,15,Q, sset:PLC beta1,2...</td>\n",
       "      <td>http://model.geneontology.org/R-HSA-112043</td>\n",
       "      <td>39</td>\n",
       "    </tr>\n",
       "    <tr>\n",
       "      <th>3</th>\n",
       "      <td>Antigen activates B Cell Receptor (BCR) leading to generation of second messengers - Reactome</td>\n",
       "      <td>8.830625e-07</td>\n",
       "      <td>11</td>\n",
       "      <td>25</td>\n",
       "      <td>[PIK3R1, sset:G-protein gamma subunit, sset:PL(C)D4:3xCa2+, sset:LYN, p-SYK, sset:G(q) alpha 11,...</td>\n",
       "      <td>http://model.geneontology.org/R-HSA-983695</td>\n",
       "      <td>145</td>\n",
       "    </tr>\n",
       "    <tr>\n",
       "      <th>4</th>\n",
       "      <td>G alpha (12/13) signalling events - Reactome</td>\n",
       "      <td>1.123783e-06</td>\n",
       "      <td>8</td>\n",
       "      <td>13</td>\n",
       "      <td>[GNA13, sset:G-protein gamma subunit, sset:Ligand:GPCR complexes that activate Gi, sset:G-protei...</td>\n",
       "      <td>http://model.geneontology.org/R-HSA-416482</td>\n",
       "      <td>268</td>\n",
       "    </tr>\n",
       "    <tr>\n",
       "      <th>5</th>\n",
       "      <td>VEGFR2 mediated cell proliferation - Reactome</td>\n",
       "      <td>2.240362e-06</td>\n",
       "      <td>11</td>\n",
       "      <td>27</td>\n",
       "      <td>[KDR, sset:G-protein gamma subunit, sset:PL(C)D4:3xCa2+, sset:G(q) alpha 11,14,15,Q, sset:PLC be...</td>\n",
       "      <td>http://model.geneontology.org/R-HSA-5218921</td>\n",
       "      <td>55</td>\n",
       "    </tr>\n",
       "    <tr>\n",
       "      <th>6</th>\n",
       "      <td>Regulation of insulin secretion - Reactome</td>\n",
       "      <td>1.874356e-05</td>\n",
       "      <td>9</td>\n",
       "      <td>22</td>\n",
       "      <td>[sset:G-protein gamma subunit, sset:PL(C)D4:3xCa2+, sset:G(q) alpha 11,14,15,Q, sset:PLC beta1,2...</td>\n",
       "      <td>http://model.geneontology.org/R-HSA-422356</td>\n",
       "      <td>51</td>\n",
       "    </tr>\n",
       "    <tr>\n",
       "      <th>7</th>\n",
       "      <td>CLEC7A (Dectin-1) induces NFAT activation - Reactome</td>\n",
       "      <td>1.874356e-05</td>\n",
       "      <td>9</td>\n",
       "      <td>22</td>\n",
       "      <td>[sset:G-protein gamma subunit, sset:PL(C)D4:3xCa2+, sset:G(q) alpha 11,14,15,Q, sset:PLC beta1,2...</td>\n",
       "      <td>http://model.geneontology.org/R-HSA-5607763</td>\n",
       "      <td>47</td>\n",
       "    </tr>\n",
       "    <tr>\n",
       "      <th>8</th>\n",
       "      <td>VEGFR2 mediated vascular permeability - Reactome</td>\n",
       "      <td>6.762095e-05</td>\n",
       "      <td>8</td>\n",
       "      <td>20</td>\n",
       "      <td>[PIK3R1, PIK3CG, sset:Activator:PI3K, sset:G-protein gamma subunit, sset:PI3K alpha, beta, gamma...</td>\n",
       "      <td>http://model.geneontology.org/R-HSA-5218920</td>\n",
       "      <td>117</td>\n",
       "    </tr>\n",
       "    <tr>\n",
       "      <th>9</th>\n",
       "      <td>FCERI mediated Ca+2 mobilization - Reactome</td>\n",
       "      <td>8.898693e-05</td>\n",
       "      <td>9</td>\n",
       "      <td>26</td>\n",
       "      <td>[sset:G-protein gamma subunit, sset:PL(C)D4:3xCa2+, sset:G(q) alpha 11,14,15,Q, sset:PLC beta1,2...</td>\n",
       "      <td>http://model.geneontology.org/R-HSA-2871809</td>\n",
       "      <td>52</td>\n",
       "    </tr>\n",
       "    <tr>\n",
       "      <th>10</th>\n",
       "      <td>Ca2+ pathway - Reactome</td>\n",
       "      <td>1.244721e-04</td>\n",
       "      <td>9</td>\n",
       "      <td>27</td>\n",
       "      <td>[sset:G-protein gamma subunit, sset:PL(C)D4:3xCa2+, sset:G(q) alpha 11,14,15,Q, sset:PLC beta1,2...</td>\n",
       "      <td>http://model.geneontology.org/R-HSA-4086398</td>\n",
       "      <td>57</td>\n",
       "    </tr>\n",
       "    <tr>\n",
       "      <th>11</th>\n",
       "      <td>Synthesis of very long-chain fatty acyl-CoAs - Reactome</td>\n",
       "      <td>1.309418e-04</td>\n",
       "      <td>6</td>\n",
       "      <td>12</td>\n",
       "      <td>[ELOVL7, sset:ACSL3,4, sset:HSD17B3,12, sset:ELOVL3,6,7, sset:PTPLs, sset:ACSBG1,2]</td>\n",
       "      <td>http://model.geneontology.org/R-HSA-75876</td>\n",
       "      <td>24</td>\n",
       "    </tr>\n",
       "    <tr>\n",
       "      <th>12</th>\n",
       "      <td>Synthesis of IP2, IP, and Ins in the cytosol - Reactome</td>\n",
       "      <td>1.589384e-04</td>\n",
       "      <td>7</td>\n",
       "      <td>17</td>\n",
       "      <td>[sset:IMPA1/2, sset:INPP5(4), sset:PL(C)D4:3xCa2+, sset:INPP5(3)/ITPK1, sset:PLCdegh, sset:PLCbz...</td>\n",
       "      <td>http://model.geneontology.org/R-HSA-1855183</td>\n",
       "      <td>32</td>\n",
       "    </tr>\n",
       "    <tr>\n",
       "      <th>13</th>\n",
       "      <td>G beta:gamma signalling through PI3Kgamma - Reactome</td>\n",
       "      <td>5.027142e-04</td>\n",
       "      <td>5</td>\n",
       "      <td>10</td>\n",
       "      <td>[PIK3R1, PIK3CG, sset:G-protein gamma subunit, sset:PI3K alpha, beta, gamma, sset:PI3K-regulator...</td>\n",
       "      <td>http://model.geneontology.org/R-HSA-392451</td>\n",
       "      <td>26</td>\n",
       "    </tr>\n",
       "    <tr>\n",
       "      <th>14</th>\n",
       "      <td>PI3K/AKT Signaling - Reactome</td>\n",
       "      <td>5.799044e-04</td>\n",
       "      <td>6</td>\n",
       "      <td>15</td>\n",
       "      <td>[PIK3R1, PIK3CG, sset:Activator:PI3K, sset:G-protein gamma subunit, sset:PI3K alpha, beta, gamma...</td>\n",
       "      <td>http://model.geneontology.org/R-HSA-1257604</td>\n",
       "      <td>114</td>\n",
       "    </tr>\n",
       "  </tbody>\n",
       "</table>\n",
       "</div>"
      ],
      "text/plain": [
       "                                                                                            title  \\\n",
       "0                                                Role of phospholipids in phagocytosis - Reactome   \n",
       "1                                                                DAG and IP3 signaling - Reactome   \n",
       "2                                                             PLC beta mediated events - Reactome   \n",
       "3   Antigen activates B Cell Receptor (BCR) leading to generation of second messengers - Reactome   \n",
       "4                                                    G alpha (12/13) signalling events - Reactome   \n",
       "5                                                   VEGFR2 mediated cell proliferation - Reactome   \n",
       "6                                                      Regulation of insulin secretion - Reactome   \n",
       "7                                            CLEC7A (Dectin-1) induces NFAT activation - Reactome   \n",
       "8                                                VEGFR2 mediated vascular permeability - Reactome   \n",
       "9                                                     FCERI mediated Ca+2 mobilization - Reactome   \n",
       "10                                                                        Ca2+ pathway - Reactome   \n",
       "11                                        Synthesis of very long-chain fatty acyl-CoAs - Reactome   \n",
       "12                                        Synthesis of IP2, IP, and Ins in the cytosol - Reactome   \n",
       "13                                           G beta:gamma signalling through PI3Kgamma - Reactome   \n",
       "14                                                                  PI3K/AKT Signaling - Reactome   \n",
       "\n",
       "    pval (uncorrected)  # entities in list  #entities in model  \\\n",
       "0         1.730419e-07                  11                  22   \n",
       "1         1.766299e-07                  10                  18   \n",
       "2         3.083672e-07                   9                  15   \n",
       "3         8.830625e-07                  11                  25   \n",
       "4         1.123783e-06                   8                  13   \n",
       "5         2.240362e-06                  11                  27   \n",
       "6         1.874356e-05                   9                  22   \n",
       "7         1.874356e-05                   9                  22   \n",
       "8         6.762095e-05                   8                  20   \n",
       "9         8.898693e-05                   9                  26   \n",
       "10        1.244721e-04                   9                  27   \n",
       "11        1.309418e-04                   6                  12   \n",
       "12        1.589384e-04                   7                  17   \n",
       "13        5.027142e-04                   5                  10   \n",
       "14        5.799044e-04                   6                  15   \n",
       "\n",
       "                                                                               shared entities in gocam  \\\n",
       "0   [sset:G-protein gamma subunit, sset:PLD, sset:PL(C)D4:3xCa2+, sset:G(q) alpha 11,14,15,Q, sset:P...   \n",
       "1   [sset:G-protein gamma subunit, sset:PL(C)D4:3xCa2+, sset:G(q) alpha 11,14,15,Q, sset:PLC beta1,2...   \n",
       "2   [sset:G-protein gamma subunit, sset:PL(C)D4:3xCa2+, sset:G(q) alpha 11,14,15,Q, sset:PLC beta1,2...   \n",
       "3   [PIK3R1, sset:G-protein gamma subunit, sset:PL(C)D4:3xCa2+, sset:LYN, p-SYK, sset:G(q) alpha 11,...   \n",
       "4   [GNA13, sset:G-protein gamma subunit, sset:Ligand:GPCR complexes that activate Gi, sset:G-protei...   \n",
       "5   [KDR, sset:G-protein gamma subunit, sset:PL(C)D4:3xCa2+, sset:G(q) alpha 11,14,15,Q, sset:PLC be...   \n",
       "6   [sset:G-protein gamma subunit, sset:PL(C)D4:3xCa2+, sset:G(q) alpha 11,14,15,Q, sset:PLC beta1,2...   \n",
       "7   [sset:G-protein gamma subunit, sset:PL(C)D4:3xCa2+, sset:G(q) alpha 11,14,15,Q, sset:PLC beta1,2...   \n",
       "8   [PIK3R1, PIK3CG, sset:Activator:PI3K, sset:G-protein gamma subunit, sset:PI3K alpha, beta, gamma...   \n",
       "9   [sset:G-protein gamma subunit, sset:PL(C)D4:3xCa2+, sset:G(q) alpha 11,14,15,Q, sset:PLC beta1,2...   \n",
       "10  [sset:G-protein gamma subunit, sset:PL(C)D4:3xCa2+, sset:G(q) alpha 11,14,15,Q, sset:PLC beta1,2...   \n",
       "11                  [ELOVL7, sset:ACSL3,4, sset:HSD17B3,12, sset:ELOVL3,6,7, sset:PTPLs, sset:ACSBG1,2]   \n",
       "12  [sset:IMPA1/2, sset:INPP5(4), sset:PL(C)D4:3xCa2+, sset:INPP5(3)/ITPK1, sset:PLCdegh, sset:PLCbz...   \n",
       "13  [PIK3R1, PIK3CG, sset:G-protein gamma subunit, sset:PI3K alpha, beta, gamma, sset:PI3K-regulator...   \n",
       "14  [PIK3R1, PIK3CG, sset:Activator:PI3K, sset:G-protein gamma subunit, sset:PI3K alpha, beta, gamma...   \n",
       "\n",
       "                                            url  gene list size  \n",
       "0   http://model.geneontology.org/R-HSA-2029485              52  \n",
       "1   http://model.geneontology.org/R-HSA-1489509              45  \n",
       "2    http://model.geneontology.org/R-HSA-112043              39  \n",
       "3    http://model.geneontology.org/R-HSA-983695             145  \n",
       "4    http://model.geneontology.org/R-HSA-416482             268  \n",
       "5   http://model.geneontology.org/R-HSA-5218921              55  \n",
       "6    http://model.geneontology.org/R-HSA-422356              51  \n",
       "7   http://model.geneontology.org/R-HSA-5607763              47  \n",
       "8   http://model.geneontology.org/R-HSA-5218920             117  \n",
       "9   http://model.geneontology.org/R-HSA-2871809              52  \n",
       "10  http://model.geneontology.org/R-HSA-4086398              57  \n",
       "11    http://model.geneontology.org/R-HSA-75876              24  \n",
       "12  http://model.geneontology.org/R-HSA-1855183              32  \n",
       "13   http://model.geneontology.org/R-HSA-392451              26  \n",
       "14  http://model.geneontology.org/R-HSA-1257604             114  "
      ]
     },
     "execution_count": 50,
     "metadata": {},
     "output_type": "execute_result"
    }
   ],
   "source": [
    "enrich.compare2standard(platelets_downset, 'platelets_down.csv','Gene Symbol',FDR = 0.05)"
   ]
  },
  {
   "cell_type": "code",
   "execution_count": 127,
   "id": "51844542-06d5-4c72-a537-764a44ab1810",
   "metadata": {},
   "outputs": [
    {
     "name": "stderr",
     "output_type": "stream",
     "text": [
      "100%|██████████████████████████████████████| 436/436 [00:00<00:00, 17975.65it/s]\n"
     ]
    },
    {
     "data": {
      "text/html": [
       "<div>\n",
       "<style scoped>\n",
       "    .dataframe tbody tr th:only-of-type {\n",
       "        vertical-align: middle;\n",
       "    }\n",
       "\n",
       "    .dataframe tbody tr th {\n",
       "        vertical-align: top;\n",
       "    }\n",
       "\n",
       "    .dataframe thead th {\n",
       "        text-align: right;\n",
       "    }\n",
       "</style>\n",
       "<table border=\"1\" class=\"dataframe\">\n",
       "  <thead>\n",
       "    <tr style=\"text-align: right;\">\n",
       "      <th></th>\n",
       "      <th>title</th>\n",
       "      <th>pval (uncorrected)</th>\n",
       "      <th># entities in list</th>\n",
       "      <th>#entities in model</th>\n",
       "      <th>shared entities in gocam</th>\n",
       "      <th>url</th>\n",
       "    </tr>\n",
       "  </thead>\n",
       "  <tbody>\n",
       "    <tr>\n",
       "      <th>19</th>\n",
       "      <td>Synthesis of very long-chain fatty acyl-CoAs - Reactome</td>\n",
       "      <td>0.006681</td>\n",
       "      <td>5</td>\n",
       "      <td>24</td>\n",
       "      <td>[HSD17B3, ACSL4, ELOVL7, HACD4, ACSBG1]</td>\n",
       "      <td>http://model.geneontology.org/R-HSA-75876</td>\n",
       "    </tr>\n",
       "  </tbody>\n",
       "</table>\n",
       "</div>"
      ],
      "text/plain": [
       "                                                      title  \\\n",
       "19  Synthesis of very long-chain fatty acyl-CoAs - Reactome   \n",
       "\n",
       "    pval (uncorrected)  # entities in list  #entities in model  \\\n",
       "19            0.006681                   5                  24   \n",
       "\n",
       "                   shared entities in gocam  \\\n",
       "19  [HSD17B3, ACSL4, ELOVL7, HACD4, ACSBG1]   \n",
       "\n",
       "                                          url  \n",
       "19  http://model.geneontology.org/R-HSA-75876  "
      ]
     },
     "execution_count": 127,
     "metadata": {},
     "output_type": "execute_result"
    }
   ],
   "source": [
    "temp = enrich.enrich_wrapper('platelets_down.csv','Gene Symbol',method='standard',show_significant= False,fpath = '../test_data/processed/')\n",
    "temp = temp.query('title == \"Synthesis of very long-chain fatty acyl-CoAs - Reactome\"')\n",
    "temp"
   ]
  },
  {
   "cell_type": "markdown",
   "id": "500cb76b-fbe8-438f-93c1-40aea3334658",
   "metadata": {
    "jp-MarkdownHeadingCollapsed": true,
    "tags": []
   },
   "source": [
    "# Astrocytes in Aging Mouse Brains across 4 brain regions\n",
    "\n",
    "Boisvert 2018\n",
    "\n",
    "https://www.sciencedirect.com/science/article/pii/S221112471731848X?via%3Dihub#app3\n",
    "\n",
    "RNA seq on astrocytes isolated from different brain regions in 4 month and 2 year old mice. Most brain regions had ~200 up and ~200 downregulated genes, but most of those were also differentially expressed between brain regions.\n",
    "\n",
    "per fig 2B, it appears that cerebellum and hypothalamus are the best candidates, as the 3 biological replicates (3 mice) cluster together by region and age. The hypothalamus looks a little cleaner than cerebellum.\n",
    "\n",
    "Fig 4F shows complement cascade upregulation in astrocytes"
   ]
  },
  {
   "cell_type": "markdown",
   "id": "4ee293af-c888-42f6-8082-bed46c52df8a",
   "metadata": {},
   "source": [
    "## Preprocess"
   ]
  },
  {
   "cell_type": "code",
   "execution_count": 51,
   "id": "1d907398-0da9-4d12-986c-147bc8613a3e",
   "metadata": {},
   "outputs": [
    {
     "name": "stdout",
     "output_type": "stream",
     "text": [
      "HTH : 416 genes\n",
      "CB : 605 genes\n"
     ]
    }
   ],
   "source": [
    "xls = pd.ExcelFile('../test_data/unprocessed/1-s2.0-S221112471731848X-mmc5.xlsx')\n",
    "\n",
    "for region in ['HTH','CB']:\n",
    "    \n",
    "    df = pd.concat([\n",
    "        pd.read_excel(xls,f'{region} up aged', header = 0),\n",
    "        pd.read_excel(xls,f'{region} down aged', header = 0)\n",
    "    ])\n",
    "    #df = df.query(f'(`4mo {region} FPKM` >= 1 or `2yo {region} FPKM` >= 1) and `Adjusted P-value` < .05')\n",
    "    #df = df.query(f'`4mo astro/input` > 0.75 or `2yo astro/input` > 0.75')\n",
    "    #df = df.query(f'(`2yo/4mo FC` > 2 or `2yo/4mo FC` < 0.5)') #the paper didnt do this\n",
    "    df['Gene'].to_csv(f'../test_data/processed/astro_{region}_comb.csv', header = False, index= False)\n",
    "    print(region,':',len(df), 'genes')"
   ]
  },
  {
   "cell_type": "code",
   "execution_count": 49,
   "id": "f4b080ac-69a5-4aee-b439-8acb57efc9ad",
   "metadata": {},
   "outputs": [
    {
     "name": "stdout",
     "output_type": "stream",
     "text": [
      "HTH up : 130 genes\n",
      "HTH down : 286 genes\n",
      "CB up : 415 genes\n",
      "CB down : 190 genes\n"
     ]
    }
   ],
   "source": [
    "xls = pd.ExcelFile('../test_data/unprocessed/1-s2.0-S221112471731848X-mmc5.xlsx')\n",
    "\n",
    "for region in ['HTH','CB']:\n",
    "\n",
    "    df_up = pd.read_excel(xls,f'{region} up aged', header = 0)\n",
    "    df_down = pd.read_excel(xls,f'{region} down aged', header = 0)\n",
    "\n",
    "\n",
    "    for sign, df in {'up':df_up,'down':df_down}.items():\n",
    "        df['Gene'].to_csv(f'../test_data/processed/astro_{region}_{sign}.csv', header = False, index= False)\n",
    "        print(region,sign,':',len(df), 'genes')"
   ]
  },
  {
   "cell_type": "markdown",
   "id": "e91b0ea8-184b-42c7-be3e-bfb91e3ff8ac",
   "metadata": {},
   "source": [
    "The paper says they filtered based on \"FPKM > 1, Adj P value < 0.05, and pulldown/input > 0.75\""
   ]
  },
  {
   "cell_type": "code",
   "execution_count": 52,
   "id": "7c39081c-9cf9-4ef7-bd2d-e4c127c5ca67",
   "metadata": {},
   "outputs": [
    {
     "data": {
      "text/html": [
       "<div>\n",
       "<style scoped>\n",
       "    .dataframe tbody tr th:only-of-type {\n",
       "        vertical-align: middle;\n",
       "    }\n",
       "\n",
       "    .dataframe tbody tr th {\n",
       "        vertical-align: top;\n",
       "    }\n",
       "\n",
       "    .dataframe thead th {\n",
       "        text-align: right;\n",
       "    }\n",
       "</style>\n",
       "<table border=\"1\" class=\"dataframe\">\n",
       "  <thead>\n",
       "    <tr style=\"text-align: right;\">\n",
       "      <th></th>\n",
       "      <th>Gene</th>\n",
       "      <th>Transcript</th>\n",
       "      <th>2yo astro/input</th>\n",
       "      <th>4mo CB FPKM</th>\n",
       "      <th>2yo CB FPKM</th>\n",
       "      <th>2yo/4mo FC</th>\n",
       "      <th>P-value</th>\n",
       "      <th>Adjusted P-value</th>\n",
       "      <th>4mo astro/input</th>\n",
       "    </tr>\n",
       "  </thead>\n",
       "  <tbody>\n",
       "    <tr>\n",
       "      <th>0</th>\n",
       "      <td>Serpina3m</td>\n",
       "      <td>NM_009253</td>\n",
       "      <td>79.851852</td>\n",
       "      <td>0.005000</td>\n",
       "      <td>1.437333</td>\n",
       "      <td>287.466667</td>\n",
       "      <td>3.855396e-08</td>\n",
       "      <td>5.966835e-06</td>\n",
       "      <td>NaN</td>\n",
       "    </tr>\n",
       "    <tr>\n",
       "      <th>1</th>\n",
       "      <td>Lcn2</td>\n",
       "      <td>NM_008491</td>\n",
       "      <td>1.415182</td>\n",
       "      <td>0.068333</td>\n",
       "      <td>2.144000</td>\n",
       "      <td>31.375610</td>\n",
       "      <td>7.779326e-15</td>\n",
       "      <td>3.804557e-12</td>\n",
       "      <td>NaN</td>\n",
       "    </tr>\n",
       "    <tr>\n",
       "      <th>2</th>\n",
       "      <td>Serpina3n</td>\n",
       "      <td>NM_009252</td>\n",
       "      <td>14.156755</td>\n",
       "      <td>1.866000</td>\n",
       "      <td>46.179333</td>\n",
       "      <td>24.747767</td>\n",
       "      <td>1.556746e-22</td>\n",
       "      <td>2.239242e-19</td>\n",
       "      <td>NaN</td>\n",
       "    </tr>\n",
       "    <tr>\n",
       "      <th>3</th>\n",
       "      <td>C3</td>\n",
       "      <td>NM_009778</td>\n",
       "      <td>4.773523</td>\n",
       "      <td>0.269000</td>\n",
       "      <td>4.363000</td>\n",
       "      <td>16.219331</td>\n",
       "      <td>4.146451e-42</td>\n",
       "      <td>5.069659e-38</td>\n",
       "      <td>NaN</td>\n",
       "    </tr>\n",
       "    <tr>\n",
       "      <th>4</th>\n",
       "      <td>S1pr3</td>\n",
       "      <td>NM_010101</td>\n",
       "      <td>2.852315</td>\n",
       "      <td>0.246000</td>\n",
       "      <td>2.279000</td>\n",
       "      <td>9.264228</td>\n",
       "      <td>7.685823e-33</td>\n",
       "      <td>3.132357e-29</td>\n",
       "      <td>NaN</td>\n",
       "    </tr>\n",
       "    <tr>\n",
       "      <th>...</th>\n",
       "      <td>...</td>\n",
       "      <td>...</td>\n",
       "      <td>...</td>\n",
       "      <td>...</td>\n",
       "      <td>...</td>\n",
       "      <td>...</td>\n",
       "      <td>...</td>\n",
       "      <td>...</td>\n",
       "      <td>...</td>\n",
       "    </tr>\n",
       "    <tr>\n",
       "      <th>185</th>\n",
       "      <td>Wdtc1</td>\n",
       "      <td>NM_199306</td>\n",
       "      <td>NaN</td>\n",
       "      <td>16.230667</td>\n",
       "      <td>12.123333</td>\n",
       "      <td>0.746940</td>\n",
       "      <td>2.272928e-03</td>\n",
       "      <td>4.298523e-02</td>\n",
       "      <td>0.764228</td>\n",
       "    </tr>\n",
       "    <tr>\n",
       "      <th>186</th>\n",
       "      <td>Acvr1</td>\n",
       "      <td>NM_007394</td>\n",
       "      <td>NaN</td>\n",
       "      <td>10.592000</td>\n",
       "      <td>7.937000</td>\n",
       "      <td>0.749339</td>\n",
       "      <td>2.086076e-03</td>\n",
       "      <td>4.058082e-02</td>\n",
       "      <td>1.021802</td>\n",
       "    </tr>\n",
       "    <tr>\n",
       "      <th>187</th>\n",
       "      <td>Dnajb4</td>\n",
       "      <td>NM_025926</td>\n",
       "      <td>NaN</td>\n",
       "      <td>26.123333</td>\n",
       "      <td>19.617333</td>\n",
       "      <td>0.750951</td>\n",
       "      <td>2.555709e-03</td>\n",
       "      <td>4.674252e-02</td>\n",
       "      <td>0.866331</td>\n",
       "    </tr>\n",
       "    <tr>\n",
       "      <th>188</th>\n",
       "      <td>Eml4</td>\n",
       "      <td>NM_001114361</td>\n",
       "      <td>NaN</td>\n",
       "      <td>5.125667</td>\n",
       "      <td>3.898333</td>\n",
       "      <td>0.760551</td>\n",
       "      <td>2.632956e-03</td>\n",
       "      <td>4.779784e-02</td>\n",
       "      <td>0.831144</td>\n",
       "    </tr>\n",
       "    <tr>\n",
       "      <th>189</th>\n",
       "      <td>Itsn1</td>\n",
       "      <td>NM_010587</td>\n",
       "      <td>NaN</td>\n",
       "      <td>20.869333</td>\n",
       "      <td>17.075667</td>\n",
       "      <td>0.818218</td>\n",
       "      <td>7.275610e-04</td>\n",
       "      <td>1.942254e-02</td>\n",
       "      <td>1.107773</td>\n",
       "    </tr>\n",
       "  </tbody>\n",
       "</table>\n",
       "<p>605 rows × 9 columns</p>\n",
       "</div>"
      ],
      "text/plain": [
       "          Gene    Transcript  2yo astro/input  4mo CB FPKM  2yo CB FPKM  \\\n",
       "0    Serpina3m     NM_009253        79.851852     0.005000     1.437333   \n",
       "1         Lcn2     NM_008491         1.415182     0.068333     2.144000   \n",
       "2    Serpina3n     NM_009252        14.156755     1.866000    46.179333   \n",
       "3           C3     NM_009778         4.773523     0.269000     4.363000   \n",
       "4        S1pr3     NM_010101         2.852315     0.246000     2.279000   \n",
       "..         ...           ...              ...          ...          ...   \n",
       "185      Wdtc1     NM_199306              NaN    16.230667    12.123333   \n",
       "186      Acvr1     NM_007394              NaN    10.592000     7.937000   \n",
       "187     Dnajb4     NM_025926              NaN    26.123333    19.617333   \n",
       "188       Eml4  NM_001114361              NaN     5.125667     3.898333   \n",
       "189      Itsn1     NM_010587              NaN    20.869333    17.075667   \n",
       "\n",
       "     2yo/4mo FC       P-value  Adjusted P-value  4mo astro/input  \n",
       "0    287.466667  3.855396e-08      5.966835e-06              NaN  \n",
       "1     31.375610  7.779326e-15      3.804557e-12              NaN  \n",
       "2     24.747767  1.556746e-22      2.239242e-19              NaN  \n",
       "3     16.219331  4.146451e-42      5.069659e-38              NaN  \n",
       "4      9.264228  7.685823e-33      3.132357e-29              NaN  \n",
       "..          ...           ...               ...              ...  \n",
       "185    0.746940  2.272928e-03      4.298523e-02         0.764228  \n",
       "186    0.749339  2.086076e-03      4.058082e-02         1.021802  \n",
       "187    0.750951  2.555709e-03      4.674252e-02         0.866331  \n",
       "188    0.760551  2.632956e-03      4.779784e-02         0.831144  \n",
       "189    0.818218  7.275610e-04      1.942254e-02         1.107773  \n",
       "\n",
       "[605 rows x 9 columns]"
      ]
     },
     "execution_count": 52,
     "metadata": {},
     "output_type": "execute_result"
    }
   ],
   "source": [
    "df"
   ]
  },
  {
   "cell_type": "markdown",
   "id": "cd618b67-bda7-401f-85e9-53d11ba04f4f",
   "metadata": {},
   "source": [
    "## Hypothalamus"
   ]
  },
  {
   "cell_type": "code",
   "execution_count": 53,
   "id": "9c72398e-d82d-4a9a-b36a-3ed3c3b087d8",
   "metadata": {},
   "outputs": [
    {
     "name": "stderr",
     "output_type": "stream",
     "text": [
      "100%|████████████████████████████████████| 254/254 [00:00<00:00, 16479.55it/s]\n"
     ]
    },
    {
     "name": "stdout",
     "output_type": "stream",
     "text": [
      "Analysis run on 149 entities from 127 out of 415 input genes\n"
     ]
    },
    {
     "data": {
      "text/html": [
       "<div>\n",
       "<style scoped>\n",
       "    .dataframe tbody tr th:only-of-type {\n",
       "        vertical-align: middle;\n",
       "    }\n",
       "\n",
       "    .dataframe tbody tr th {\n",
       "        vertical-align: top;\n",
       "    }\n",
       "\n",
       "    .dataframe thead th {\n",
       "        text-align: right;\n",
       "    }\n",
       "</style>\n",
       "<table border=\"1\" class=\"dataframe\">\n",
       "  <thead>\n",
       "    <tr style=\"text-align: right;\">\n",
       "      <th></th>\n",
       "      <th>title</th>\n",
       "      <th>pval (uncorrected)</th>\n",
       "      <th># entities in list</th>\n",
       "      <th>#entities in model</th>\n",
       "      <th>shared entities in gocam</th>\n",
       "      <th>url</th>\n",
       "    </tr>\n",
       "  </thead>\n",
       "  <tbody>\n",
       "  </tbody>\n",
       "</table>\n",
       "</div>"
      ],
      "text/plain": [
       "Empty DataFrame\n",
       "Columns: [title, pval (uncorrected), # entities in list, #entities in model, shared entities in gocam, url]\n",
       "Index: []"
      ]
     },
     "execution_count": 53,
     "metadata": {},
     "output_type": "execute_result"
    }
   ],
   "source": [
    "astro_HTH_set = enrich.enrich_wrapper('astro_CB_up.csv','Gene Symbol',method='set',FDR = 0.05,fpath = '../test_data/processed/')\n",
    "astro_HTH_set"
   ]
  },
  {
   "cell_type": "code",
   "execution_count": 54,
   "id": "8f9ec97e-d4a4-4a3c-8240-04ee9f6284ca",
   "metadata": {},
   "outputs": [
    {
     "name": "stderr",
     "output_type": "stream",
     "text": [
      "100%|██████████████| 246/246 [00:00<00:00, 18085.87it/s]\n",
      "100%|██████████████| 246/246 [00:00<00:00, 17874.38it/s]\n"
     ]
    },
    {
     "name": "stdout",
     "output_type": "stream",
     "text": [
      "Standard method yields 6 results, 5 of which are unique\n"
     ]
    },
    {
     "data": {
      "text/html": [
       "<div>\n",
       "<style scoped>\n",
       "    .dataframe tbody tr th:only-of-type {\n",
       "        vertical-align: middle;\n",
       "    }\n",
       "\n",
       "    .dataframe tbody tr th {\n",
       "        vertical-align: top;\n",
       "    }\n",
       "\n",
       "    .dataframe thead th {\n",
       "        text-align: right;\n",
       "    }\n",
       "</style>\n",
       "<table border=\"1\" class=\"dataframe\">\n",
       "  <thead>\n",
       "    <tr style=\"text-align: right;\">\n",
       "      <th></th>\n",
       "      <th>title</th>\n",
       "      <th>pval (uncorrected)</th>\n",
       "      <th># entities in list</th>\n",
       "      <th>#entities in model</th>\n",
       "      <th>shared entities in gocam</th>\n",
       "      <th>url</th>\n",
       "    </tr>\n",
       "  </thead>\n",
       "  <tbody>\n",
       "  </tbody>\n",
       "</table>\n",
       "</div>"
      ],
      "text/plain": [
       "Empty DataFrame\n",
       "Columns: [title, pval (uncorrected), # entities in list, #entities in model, shared entities in gocam, url]\n",
       "Index: []"
      ]
     },
     "execution_count": 54,
     "metadata": {},
     "output_type": "execute_result"
    }
   ],
   "source": [
    "enrich.compare2standard(astro_HTH_set, 'astro_HTH_comb.csv','Gene Symbol',FDR = 0.05)"
   ]
  },
  {
   "cell_type": "markdown",
   "id": "9bce187b-d5fb-4b09-967c-78d871613fda",
   "metadata": {},
   "source": [
    "**Repeat for ncHGT:**"
   ]
  },
  {
   "cell_type": "code",
   "execution_count": 55,
   "id": "175a1e52-472f-4365-b472-e751aded6f27",
   "metadata": {},
   "outputs": [
    {
     "name": "stderr",
     "output_type": "stream",
     "text": [
      "100%|█████████████████| 246/246 [00:30<00:00,  8.02it/s]\n"
     ]
    },
    {
     "name": "stdout",
     "output_type": "stream",
     "text": [
      "Analysis run on 140 entities from 115 out of 416 input genes\n"
     ]
    },
    {
     "data": {
      "text/html": [
       "<div>\n",
       "<style scoped>\n",
       "    .dataframe tbody tr th:only-of-type {\n",
       "        vertical-align: middle;\n",
       "    }\n",
       "\n",
       "    .dataframe tbody tr th {\n",
       "        vertical-align: top;\n",
       "    }\n",
       "\n",
       "    .dataframe thead th {\n",
       "        text-align: right;\n",
       "    }\n",
       "</style>\n",
       "<table border=\"1\" class=\"dataframe\">\n",
       "  <thead>\n",
       "    <tr style=\"text-align: right;\">\n",
       "      <th></th>\n",
       "      <th>title</th>\n",
       "      <th>pval (uncorrected)</th>\n",
       "      <th># entities in list</th>\n",
       "      <th>#entities in model</th>\n",
       "      <th>shared entities in gocam</th>\n",
       "      <th>url</th>\n",
       "    </tr>\n",
       "  </thead>\n",
       "  <tbody>\n",
       "    <tr>\n",
       "      <th>0</th>\n",
       "      <td>Cholesterol biosynthesis - Reactome</td>\n",
       "      <td>2.074783e-11</td>\n",
       "      <td>10</td>\n",
       "      <td>22</td>\n",
       "      <td>[HMGCS1, HSD17B7, SQLE, MSMO1, DHCR24, MVD, ACLY, FDFT1, LSS, CYP51A1]</td>\n",
       "      <td>http://model.geneontology.org/R-HSA-191273</td>\n",
       "    </tr>\n",
       "  </tbody>\n",
       "</table>\n",
       "</div>"
      ],
      "text/plain": [
       "                                 title  pval (uncorrected)  \\\n",
       "0  Cholesterol biosynthesis - Reactome        2.074783e-11   \n",
       "\n",
       "   # entities in list  #entities in model  \\\n",
       "0                  10                  22   \n",
       "\n",
       "                                                 shared entities in gocam  \\\n",
       "0  [HMGCS1, HSD17B7, SQLE, MSMO1, DHCR24, MVD, ACLY, FDFT1, LSS, CYP51A1]   \n",
       "\n",
       "                                          url  \n",
       "0  http://model.geneontology.org/R-HSA-191273  "
      ]
     },
     "execution_count": 55,
     "metadata": {},
     "output_type": "execute_result"
    }
   ],
   "source": [
    "astro_HTH_nc = enrich.enrich_wrapper('astro_HTH_comb.csv','Gene Symbol',method='ncHGT',FDR = 0.05,fpath = '../test_data/processed/')\n",
    "astro_HTH_nc"
   ]
  },
  {
   "cell_type": "code",
   "execution_count": 56,
   "id": "3c09ecd1-3ea1-4618-9bfc-ff5e8aa8e32e",
   "metadata": {},
   "outputs": [
    {
     "name": "stderr",
     "output_type": "stream",
     "text": [
      "100%|██████████████| 246/246 [00:00<00:00, 17863.55it/s]\n",
      "100%|██████████████| 246/246 [00:00<00:00, 17964.01it/s]\n"
     ]
    },
    {
     "name": "stdout",
     "output_type": "stream",
     "text": [
      "Standard method yields 6 results, 5 of which are unique\n"
     ]
    },
    {
     "data": {
      "text/html": [
       "<div>\n",
       "<style scoped>\n",
       "    .dataframe tbody tr th:only-of-type {\n",
       "        vertical-align: middle;\n",
       "    }\n",
       "\n",
       "    .dataframe tbody tr th {\n",
       "        vertical-align: top;\n",
       "    }\n",
       "\n",
       "    .dataframe thead th {\n",
       "        text-align: right;\n",
       "    }\n",
       "</style>\n",
       "<table border=\"1\" class=\"dataframe\">\n",
       "  <thead>\n",
       "    <tr style=\"text-align: right;\">\n",
       "      <th></th>\n",
       "      <th>title</th>\n",
       "      <th>pval (uncorrected)</th>\n",
       "      <th># entities in list</th>\n",
       "      <th>#entities in model</th>\n",
       "      <th>shared entities in gocam</th>\n",
       "      <th>url</th>\n",
       "    </tr>\n",
       "  </thead>\n",
       "  <tbody>\n",
       "  </tbody>\n",
       "</table>\n",
       "</div>"
      ],
      "text/plain": [
       "Empty DataFrame\n",
       "Columns: [title, pval (uncorrected), # entities in list, #entities in model, shared entities in gocam, url]\n",
       "Index: []"
      ]
     },
     "execution_count": 56,
     "metadata": {},
     "output_type": "execute_result"
    }
   ],
   "source": [
    "enrich.compare2standard(astro_HTH_nc, 'astro_HTH_comb.csv','Gene Symbol',FDR = 0.05)"
   ]
  },
  {
   "cell_type": "markdown",
   "id": "a8e6cd4e-06c4-4598-a5f8-fad3bfba49d7",
   "metadata": {},
   "source": [
    "## Cerebellum"
   ]
  },
  {
   "cell_type": "code",
   "execution_count": 57,
   "id": "7b9816d9-8f5e-49bc-8540-01defec9848c",
   "metadata": {},
   "outputs": [
    {
     "name": "stderr",
     "output_type": "stream",
     "text": [
      "100%|██████████████| 310/310 [00:00<00:00, 18410.66it/s]\n"
     ]
    },
    {
     "name": "stdout",
     "output_type": "stream",
     "text": [
      "Analysis run on 201 entities from 172 out of 605 input genes\n"
     ]
    },
    {
     "data": {
      "text/html": [
       "<div>\n",
       "<style scoped>\n",
       "    .dataframe tbody tr th:only-of-type {\n",
       "        vertical-align: middle;\n",
       "    }\n",
       "\n",
       "    .dataframe tbody tr th {\n",
       "        vertical-align: top;\n",
       "    }\n",
       "\n",
       "    .dataframe thead th {\n",
       "        text-align: right;\n",
       "    }\n",
       "</style>\n",
       "<table border=\"1\" class=\"dataframe\">\n",
       "  <thead>\n",
       "    <tr style=\"text-align: right;\">\n",
       "      <th></th>\n",
       "      <th>title</th>\n",
       "      <th>pval (uncorrected)</th>\n",
       "      <th># entities in list</th>\n",
       "      <th>#entities in model</th>\n",
       "      <th>shared entities in gocam</th>\n",
       "      <th>url</th>\n",
       "    </tr>\n",
       "  </thead>\n",
       "  <tbody>\n",
       "  </tbody>\n",
       "</table>\n",
       "</div>"
      ],
      "text/plain": [
       "Empty DataFrame\n",
       "Columns: [title, pval (uncorrected), # entities in list, #entities in model, shared entities in gocam, url]\n",
       "Index: []"
      ]
     },
     "execution_count": 57,
     "metadata": {},
     "output_type": "execute_result"
    }
   ],
   "source": [
    "astro_CB_set = enrich.enrich_wrapper('astro_CB_comb.csv','Gene Symbol',method='set',FDR = 0.05,fpath = '../test_data/processed/')\n",
    "astro_CB_set"
   ]
  },
  {
   "cell_type": "code",
   "execution_count": 58,
   "id": "750e2ee7-084e-41d4-ba2c-993914468415",
   "metadata": {},
   "outputs": [
    {
     "name": "stderr",
     "output_type": "stream",
     "text": [
      "100%|█████████████████| 310/310 [00:28<00:00, 10.81it/s]\n"
     ]
    },
    {
     "name": "stdout",
     "output_type": "stream",
     "text": [
      "Analysis run on 201 entities from 172 out of 605 input genes\n"
     ]
    },
    {
     "data": {
      "text/html": [
       "<div>\n",
       "<style scoped>\n",
       "    .dataframe tbody tr th:only-of-type {\n",
       "        vertical-align: middle;\n",
       "    }\n",
       "\n",
       "    .dataframe tbody tr th {\n",
       "        vertical-align: top;\n",
       "    }\n",
       "\n",
       "    .dataframe thead th {\n",
       "        text-align: right;\n",
       "    }\n",
       "</style>\n",
       "<table border=\"1\" class=\"dataframe\">\n",
       "  <thead>\n",
       "    <tr style=\"text-align: right;\">\n",
       "      <th></th>\n",
       "      <th>title</th>\n",
       "      <th>pval (uncorrected)</th>\n",
       "      <th># entities in list</th>\n",
       "      <th>#entities in model</th>\n",
       "      <th>shared entities in gocam</th>\n",
       "      <th>url</th>\n",
       "    </tr>\n",
       "  </thead>\n",
       "  <tbody>\n",
       "  </tbody>\n",
       "</table>\n",
       "</div>"
      ],
      "text/plain": [
       "Empty DataFrame\n",
       "Columns: [title, pval (uncorrected), # entities in list, #entities in model, shared entities in gocam, url]\n",
       "Index: []"
      ]
     },
     "execution_count": 58,
     "metadata": {},
     "output_type": "execute_result"
    }
   ],
   "source": [
    "astro_CB_nc = enrich.enrich_wrapper('astro_CB_comb.csv','Gene Symbol',method='ncHGT',FDR = 0.05,fpath = '../test_data/processed/')\n",
    "astro_CB_nc"
   ]
  },
  {
   "cell_type": "code",
   "execution_count": 59,
   "id": "cdf91cf8-4762-4d1e-bfe5-3cc3f7fb8ead",
   "metadata": {},
   "outputs": [
    {
     "name": "stderr",
     "output_type": "stream",
     "text": [
      "100%|██████████████| 310/310 [00:00<00:00, 15965.35it/s]\n",
      "100%|██████████████| 310/310 [00:00<00:00, 17978.41it/s]\n"
     ]
    },
    {
     "name": "stdout",
     "output_type": "stream",
     "text": [
      "Standard method yields 0 results, 0 of which are unique\n"
     ]
    },
    {
     "data": {
      "text/html": [
       "<div>\n",
       "<style scoped>\n",
       "    .dataframe tbody tr th:only-of-type {\n",
       "        vertical-align: middle;\n",
       "    }\n",
       "\n",
       "    .dataframe tbody tr th {\n",
       "        vertical-align: top;\n",
       "    }\n",
       "\n",
       "    .dataframe thead th {\n",
       "        text-align: right;\n",
       "    }\n",
       "</style>\n",
       "<table border=\"1\" class=\"dataframe\">\n",
       "  <thead>\n",
       "    <tr style=\"text-align: right;\">\n",
       "      <th></th>\n",
       "    </tr>\n",
       "  </thead>\n",
       "  <tbody>\n",
       "  </tbody>\n",
       "</table>\n",
       "</div>"
      ],
      "text/plain": [
       "Empty DataFrame\n",
       "Columns: []\n",
       "Index: []"
      ]
     },
     "execution_count": 59,
     "metadata": {},
     "output_type": "execute_result"
    }
   ],
   "source": [
    "enrich.compare2standard(astro_CB_set, 'astro_CB_comb.csv','Gene Symbol',FDR = 0.05)"
   ]
  },
  {
   "cell_type": "code",
   "execution_count": 60,
   "id": "33d4df27-6752-4ab7-8e47-778998dfaba3",
   "metadata": {},
   "outputs": [
    {
     "name": "stderr",
     "output_type": "stream",
     "text": [
      "100%|██████████████| 310/310 [00:00<00:00, 18135.89it/s]\n",
      "100%|██████████████| 310/310 [00:00<00:00, 16357.21it/s]\n"
     ]
    },
    {
     "name": "stdout",
     "output_type": "stream",
     "text": [
      "Standard method yields 0 results, 0 of which are unique\n"
     ]
    },
    {
     "data": {
      "text/html": [
       "<div>\n",
       "<style scoped>\n",
       "    .dataframe tbody tr th:only-of-type {\n",
       "        vertical-align: middle;\n",
       "    }\n",
       "\n",
       "    .dataframe tbody tr th {\n",
       "        vertical-align: top;\n",
       "    }\n",
       "\n",
       "    .dataframe thead th {\n",
       "        text-align: right;\n",
       "    }\n",
       "</style>\n",
       "<table border=\"1\" class=\"dataframe\">\n",
       "  <thead>\n",
       "    <tr style=\"text-align: right;\">\n",
       "      <th></th>\n",
       "    </tr>\n",
       "  </thead>\n",
       "  <tbody>\n",
       "  </tbody>\n",
       "</table>\n",
       "</div>"
      ],
      "text/plain": [
       "Empty DataFrame\n",
       "Columns: []\n",
       "Index: []"
      ]
     },
     "execution_count": 60,
     "metadata": {},
     "output_type": "execute_result"
    }
   ],
   "source": [
    "enrich.compare2standard(astro_CB_nc, 'astro_CB_comb.csv','Gene Symbol',FDR = 0.05)"
   ]
  },
  {
   "cell_type": "code",
   "execution_count": 61,
   "id": "bcb0adf9-4fd7-447c-80c4-1a90cac7a65f",
   "metadata": {},
   "outputs": [
    {
     "name": "stderr",
     "output_type": "stream",
     "text": [
      "100%|██████████████| 310/310 [00:00<00:00, 17883.94it/s]\n"
     ]
    },
    {
     "data": {
      "text/html": [
       "<div>\n",
       "<style scoped>\n",
       "    .dataframe tbody tr th:only-of-type {\n",
       "        vertical-align: middle;\n",
       "    }\n",
       "\n",
       "    .dataframe tbody tr th {\n",
       "        vertical-align: top;\n",
       "    }\n",
       "\n",
       "    .dataframe thead th {\n",
       "        text-align: right;\n",
       "    }\n",
       "</style>\n",
       "<table border=\"1\" class=\"dataframe\">\n",
       "  <thead>\n",
       "    <tr style=\"text-align: right;\">\n",
       "      <th></th>\n",
       "      <th>title</th>\n",
       "      <th>pval (uncorrected)</th>\n",
       "      <th># entities in list</th>\n",
       "      <th>#entities in model</th>\n",
       "      <th>shared entities in gocam</th>\n",
       "      <th>url</th>\n",
       "    </tr>\n",
       "  </thead>\n",
       "  <tbody>\n",
       "    <tr>\n",
       "      <th>110</th>\n",
       "      <td>Activation of NF-kappaB in B cells - Reactome</td>\n",
       "      <td>0.127697</td>\n",
       "      <td>4</td>\n",
       "      <td>58</td>\n",
       "      <td>[PSMB8, PSMB9, PSMB10, PSME1]</td>\n",
       "      <td>http://model.geneontology.org/R-HSA-1169091</td>\n",
       "    </tr>\n",
       "  </tbody>\n",
       "</table>\n",
       "</div>"
      ],
      "text/plain": [
       "                                             title  pval (uncorrected)  \\\n",
       "110  Activation of NF-kappaB in B cells - Reactome            0.127697   \n",
       "\n",
       "     # entities in list  #entities in model       shared entities in gocam  \\\n",
       "110                   4                  58  [PSMB8, PSMB9, PSMB10, PSME1]   \n",
       "\n",
       "                                             url  \n",
       "110  http://model.geneontology.org/R-HSA-1169091  "
      ]
     },
     "execution_count": 61,
     "metadata": {},
     "output_type": "execute_result"
    }
   ],
   "source": [
    "enrich.enrich_wrapper('astro_CB_comb.csv','Gene Symbol',method='standard',show_significant = False,fpath = '../test_data/processed').query('title == \"Activation of NF-kappaB in B cells - Reactome\"')"
   ]
  },
  {
   "cell_type": "markdown",
   "id": "f0bf5420-b073-49b2-95eb-0a817f980b41",
   "metadata": {
    "tags": []
   },
   "source": [
    "# Macrophage activation\n",
    "\n",
    "https://www.ncbi.nlm.nih.gov/pmc/articles/PMC6543837/pdf/fimmu-10-01084.pdf\n",
    "\n",
    "In vitro classically activated vs alternatively activated"
   ]
  },
  {
   "cell_type": "code",
   "execution_count": 62,
   "id": "b490654f-eaf7-4eac-baa3-156ea07e6b8f",
   "metadata": {},
   "outputs": [
    {
     "data": {
      "text/html": [
       "<div>\n",
       "<style scoped>\n",
       "    .dataframe tbody tr th:only-of-type {\n",
       "        vertical-align: middle;\n",
       "    }\n",
       "\n",
       "    .dataframe tbody tr th {\n",
       "        vertical-align: top;\n",
       "    }\n",
       "\n",
       "    .dataframe thead th {\n",
       "        text-align: right;\n",
       "    }\n",
       "</style>\n",
       "<table border=\"1\" class=\"dataframe\">\n",
       "  <thead>\n",
       "    <tr style=\"text-align: right;\">\n",
       "      <th></th>\n",
       "      <th>Gene.symbol</th>\n",
       "      <th>logFC</th>\n",
       "      <th>adj.P.Val</th>\n",
       "    </tr>\n",
       "  </thead>\n",
       "  <tbody>\n",
       "    <tr>\n",
       "      <th>0</th>\n",
       "      <td>Arg1</td>\n",
       "      <td>8.731029</td>\n",
       "      <td>2.028913e-10</td>\n",
       "    </tr>\n",
       "    <tr>\n",
       "      <th>1</th>\n",
       "      <td>Mgl2</td>\n",
       "      <td>8.591388</td>\n",
       "      <td>6.685017e-11</td>\n",
       "    </tr>\n",
       "    <tr>\n",
       "      <th>2</th>\n",
       "      <td>Tmem26</td>\n",
       "      <td>7.926308</td>\n",
       "      <td>6.278790e-11</td>\n",
       "    </tr>\n",
       "    <tr>\n",
       "      <th>3</th>\n",
       "      <td>Rnase2a</td>\n",
       "      <td>7.748465</td>\n",
       "      <td>2.028913e-10</td>\n",
       "    </tr>\n",
       "    <tr>\n",
       "      <th>4</th>\n",
       "      <td>Mrc1</td>\n",
       "      <td>7.575531</td>\n",
       "      <td>7.028655e-10</td>\n",
       "    </tr>\n",
       "    <tr>\n",
       "      <th>...</th>\n",
       "      <td>...</td>\n",
       "      <td>...</td>\n",
       "      <td>...</td>\n",
       "    </tr>\n",
       "    <tr>\n",
       "      <th>4723</th>\n",
       "      <td>Cd38</td>\n",
       "      <td>-6.954007</td>\n",
       "      <td>1.505552e-07</td>\n",
       "    </tr>\n",
       "    <tr>\n",
       "      <th>4724</th>\n",
       "      <td>Lcn2</td>\n",
       "      <td>-7.370210</td>\n",
       "      <td>1.505552e-07</td>\n",
       "    </tr>\n",
       "    <tr>\n",
       "      <th>4725</th>\n",
       "      <td>Cxcl9</td>\n",
       "      <td>-7.388341</td>\n",
       "      <td>7.028655e-10</td>\n",
       "    </tr>\n",
       "    <tr>\n",
       "      <th>4726</th>\n",
       "      <td>Fpr2</td>\n",
       "      <td>-7.506493</td>\n",
       "      <td>1.527622e-09</td>\n",
       "    </tr>\n",
       "    <tr>\n",
       "      <th>4727</th>\n",
       "      <td>Ms4a4c</td>\n",
       "      <td>-7.758881</td>\n",
       "      <td>3.381828e-09</td>\n",
       "    </tr>\n",
       "  </tbody>\n",
       "</table>\n",
       "<p>1519 rows × 3 columns</p>\n",
       "</div>"
      ],
      "text/plain": [
       "     Gene.symbol     logFC     adj.P.Val\n",
       "0           Arg1  8.731029  2.028913e-10\n",
       "1           Mgl2  8.591388  6.685017e-11\n",
       "2         Tmem26  7.926308  6.278790e-11\n",
       "3        Rnase2a  7.748465  2.028913e-10\n",
       "4           Mrc1  7.575531  7.028655e-10\n",
       "...          ...       ...           ...\n",
       "4723        Cd38 -6.954007  1.505552e-07\n",
       "4724        Lcn2 -7.370210  1.505552e-07\n",
       "4725       Cxcl9 -7.388341  7.028655e-10\n",
       "4726        Fpr2 -7.506493  1.527622e-09\n",
       "4727      Ms4a4c -7.758881  3.381828e-09\n",
       "\n",
       "[1519 rows x 3 columns]"
      ]
     },
     "execution_count": 62,
     "metadata": {},
     "output_type": "execute_result"
    }
   ],
   "source": [
    "mac = pd.read_excel('../test_data/unprocessed/orecchioni_table1.xlsx', header = 4)[['Gene.symbol','logFC','adj.P.Val']]\n",
    "mac = mac.query(f'(logFC > 1 or logFC < -1) and `adj.P.Val` < 0.05')\n",
    "mac['Gene.symbol'].to_csv('../test_data/processed/mac_comb.csv', header = False, index= False)\n",
    "mac"
   ]
  },
  {
   "cell_type": "code",
   "execution_count": 63,
   "id": "3c42237d-e4fd-4117-bc70-de05cf894176",
   "metadata": {},
   "outputs": [
    {
     "name": "stderr",
     "output_type": "stream",
     "text": [
      "100%|██████████████| 667/667 [00:00<00:00, 17523.45it/s]\n"
     ]
    },
    {
     "name": "stdout",
     "output_type": "stream",
     "text": [
      "Analysis run on 620 entities from 511 out of 1519 input genes\n"
     ]
    },
    {
     "data": {
      "text/html": [
       "<div>\n",
       "<style scoped>\n",
       "    .dataframe tbody tr th:only-of-type {\n",
       "        vertical-align: middle;\n",
       "    }\n",
       "\n",
       "    .dataframe tbody tr th {\n",
       "        vertical-align: top;\n",
       "    }\n",
       "\n",
       "    .dataframe thead th {\n",
       "        text-align: right;\n",
       "    }\n",
       "</style>\n",
       "<table border=\"1\" class=\"dataframe\">\n",
       "  <thead>\n",
       "    <tr style=\"text-align: right;\">\n",
       "      <th></th>\n",
       "      <th>title</th>\n",
       "      <th>pval (uncorrected)</th>\n",
       "      <th># entities in list</th>\n",
       "      <th>#entities in model</th>\n",
       "      <th>shared entities in gocam</th>\n",
       "      <th>url</th>\n",
       "    </tr>\n",
       "  </thead>\n",
       "  <tbody>\n",
       "    <tr>\n",
       "      <th>0</th>\n",
       "      <td>Interleukin-35 Signalling - Reactome</td>\n",
       "      <td>0.000058</td>\n",
       "      <td>7</td>\n",
       "      <td>9</td>\n",
       "      <td>[IL6ST, JAK2, STAT4, EBI3, STAT1, IL12A, sset:JAK1, JAK2, (TYK2)]</td>\n",
       "      <td>http://model.geneontology.org/R-HSA-8984722</td>\n",
       "    </tr>\n",
       "    <tr>\n",
       "      <th>1</th>\n",
       "      <td>Resolution of Sister Chromatid Cohesion - Reactome</td>\n",
       "      <td>0.000059</td>\n",
       "      <td>30</td>\n",
       "      <td>95</td>\n",
       "      <td>[BIRC5, CDC20, KIF2C, CENPF, CENPA, NUF2, ZWILCH, AURKB, CENPN, SPC24, KNTC1, CENPK, PLK1, SKA1,...</td>\n",
       "      <td>http://model.geneontology.org/R-HSA-2500257</td>\n",
       "    </tr>\n",
       "    <tr>\n",
       "      <th>2</th>\n",
       "      <td>Unwinding of DNA - Reactome</td>\n",
       "      <td>0.000085</td>\n",
       "      <td>6</td>\n",
       "      <td>7</td>\n",
       "      <td>[MCM5, MCM7, MCM2, MCM3, MCM4, MCM6]</td>\n",
       "      <td>http://model.geneontology.org/R-HSA-176974</td>\n",
       "    </tr>\n",
       "  </tbody>\n",
       "</table>\n",
       "</div>"
      ],
      "text/plain": [
       "                                                title  pval (uncorrected)  \\\n",
       "0                Interleukin-35 Signalling - Reactome            0.000058   \n",
       "1  Resolution of Sister Chromatid Cohesion - Reactome            0.000059   \n",
       "2                         Unwinding of DNA - Reactome            0.000085   \n",
       "\n",
       "   # entities in list  #entities in model  \\\n",
       "0                   7                   9   \n",
       "1                  30                  95   \n",
       "2                   6                   7   \n",
       "\n",
       "                                                                              shared entities in gocam  \\\n",
       "0                                    [IL6ST, JAK2, STAT4, EBI3, STAT1, IL12A, sset:JAK1, JAK2, (TYK2)]   \n",
       "1  [BIRC5, CDC20, KIF2C, CENPF, CENPA, NUF2, ZWILCH, AURKB, CENPN, SPC24, KNTC1, CENPK, PLK1, SKA1,...   \n",
       "2                                                                 [MCM5, MCM7, MCM2, MCM3, MCM4, MCM6]   \n",
       "\n",
       "                                           url  \n",
       "0  http://model.geneontology.org/R-HSA-8984722  \n",
       "1  http://model.geneontology.org/R-HSA-2500257  \n",
       "2   http://model.geneontology.org/R-HSA-176974  "
      ]
     },
     "execution_count": 63,
     "metadata": {},
     "output_type": "execute_result"
    }
   ],
   "source": [
    "mac_comb_set = enrich.enrich_wrapper('mac_comb.csv','Gene Symbol',method='set',FDR = 0.05,fpath = '../test_data/processed/')\n",
    "mac_comb_set"
   ]
  },
  {
   "cell_type": "code",
   "execution_count": 64,
   "id": "f3766949-03c2-46a0-a7a9-73363d56d7be",
   "metadata": {},
   "outputs": [
    {
     "name": "stderr",
     "output_type": "stream",
     "text": [
      "100%|██████████████| 667/667 [00:00<00:00, 16929.40it/s]\n",
      "100%|██████████████| 667/667 [00:00<00:00, 17421.20it/s]\n"
     ]
    },
    {
     "name": "stdout",
     "output_type": "stream",
     "text": [
      "Standard method yields 3 results, 0 of which are unique\n"
     ]
    },
    {
     "data": {
      "text/html": [
       "<div>\n",
       "<style scoped>\n",
       "    .dataframe tbody tr th:only-of-type {\n",
       "        vertical-align: middle;\n",
       "    }\n",
       "\n",
       "    .dataframe tbody tr th {\n",
       "        vertical-align: top;\n",
       "    }\n",
       "\n",
       "    .dataframe thead th {\n",
       "        text-align: right;\n",
       "    }\n",
       "</style>\n",
       "<table border=\"1\" class=\"dataframe\">\n",
       "  <thead>\n",
       "    <tr style=\"text-align: right;\">\n",
       "      <th></th>\n",
       "      <th>title</th>\n",
       "      <th>pval (uncorrected)</th>\n",
       "      <th># entities in list</th>\n",
       "      <th>#entities in model</th>\n",
       "      <th>shared entities in gocam</th>\n",
       "      <th>url</th>\n",
       "    </tr>\n",
       "  </thead>\n",
       "  <tbody>\n",
       "  </tbody>\n",
       "</table>\n",
       "</div>"
      ],
      "text/plain": [
       "Empty DataFrame\n",
       "Columns: [title, pval (uncorrected), # entities in list, #entities in model, shared entities in gocam, url]\n",
       "Index: []"
      ]
     },
     "execution_count": 64,
     "metadata": {},
     "output_type": "execute_result"
    }
   ],
   "source": [
    "enrich.compare2standard(mac_comb_set, 'mac_comb.csv','Gene Symbol',FDR = 0.05)"
   ]
  },
  {
   "cell_type": "code",
   "execution_count": 65,
   "id": "4da775aa-aea4-4a23-85de-ad09f360afcf",
   "metadata": {},
   "outputs": [
    {
     "name": "stderr",
     "output_type": "stream",
     "text": [
      "100%|█████████████████| 667/667 [03:17<00:00,  3.38it/s]\n"
     ]
    },
    {
     "name": "stdout",
     "output_type": "stream",
     "text": [
      "Analysis run on 620 entities from 511 out of 1519 input genes\n"
     ]
    },
    {
     "data": {
      "text/html": [
       "<div>\n",
       "<style scoped>\n",
       "    .dataframe tbody tr th:only-of-type {\n",
       "        vertical-align: middle;\n",
       "    }\n",
       "\n",
       "    .dataframe tbody tr th {\n",
       "        vertical-align: top;\n",
       "    }\n",
       "\n",
       "    .dataframe thead th {\n",
       "        text-align: right;\n",
       "    }\n",
       "</style>\n",
       "<table border=\"1\" class=\"dataframe\">\n",
       "  <thead>\n",
       "    <tr style=\"text-align: right;\">\n",
       "      <th></th>\n",
       "      <th>title</th>\n",
       "      <th>pval (uncorrected)</th>\n",
       "      <th># entities in list</th>\n",
       "      <th>#entities in model</th>\n",
       "      <th>shared entities in gocam</th>\n",
       "      <th>url</th>\n",
       "    </tr>\n",
       "  </thead>\n",
       "  <tbody>\n",
       "    <tr>\n",
       "      <th>0</th>\n",
       "      <td>Resolution of Sister Chromatid Cohesion - Reactome</td>\n",
       "      <td>2.795107e-11</td>\n",
       "      <td>30</td>\n",
       "      <td>95</td>\n",
       "      <td>[BIRC5, CDC20, KIF2C, CENPF, CENPA, NUF2, ZWILCH, AURKB, CENPN, SPC24, KNTC1, CENPK, PLK1, SKA1,...</td>\n",
       "      <td>http://model.geneontology.org/R-HSA-2500257</td>\n",
       "    </tr>\n",
       "    <tr>\n",
       "      <th>1</th>\n",
       "      <td>Interleukin-35 Signalling - Reactome</td>\n",
       "      <td>1.562032e-05</td>\n",
       "      <td>7</td>\n",
       "      <td>9</td>\n",
       "      <td>[IL6ST, JAK2, STAT4, EBI3, STAT1, IL12A, sset:JAK1, JAK2, (TYK2)]</td>\n",
       "      <td>http://model.geneontology.org/R-HSA-8984722</td>\n",
       "    </tr>\n",
       "    <tr>\n",
       "      <th>2</th>\n",
       "      <td>Unwinding of DNA - Reactome</td>\n",
       "      <td>2.943151e-05</td>\n",
       "      <td>6</td>\n",
       "      <td>7</td>\n",
       "      <td>[MCM5, MCM7, MCM2, MCM3, MCM4, MCM6]</td>\n",
       "      <td>http://model.geneontology.org/R-HSA-176974</td>\n",
       "    </tr>\n",
       "  </tbody>\n",
       "</table>\n",
       "</div>"
      ],
      "text/plain": [
       "                                                title  pval (uncorrected)  \\\n",
       "0  Resolution of Sister Chromatid Cohesion - Reactome        2.795107e-11   \n",
       "1                Interleukin-35 Signalling - Reactome        1.562032e-05   \n",
       "2                         Unwinding of DNA - Reactome        2.943151e-05   \n",
       "\n",
       "   # entities in list  #entities in model  \\\n",
       "0                  30                  95   \n",
       "1                   7                   9   \n",
       "2                   6                   7   \n",
       "\n",
       "                                                                              shared entities in gocam  \\\n",
       "0  [BIRC5, CDC20, KIF2C, CENPF, CENPA, NUF2, ZWILCH, AURKB, CENPN, SPC24, KNTC1, CENPK, PLK1, SKA1,...   \n",
       "1                                    [IL6ST, JAK2, STAT4, EBI3, STAT1, IL12A, sset:JAK1, JAK2, (TYK2)]   \n",
       "2                                                                 [MCM5, MCM7, MCM2, MCM3, MCM4, MCM6]   \n",
       "\n",
       "                                           url  \n",
       "0  http://model.geneontology.org/R-HSA-2500257  \n",
       "1  http://model.geneontology.org/R-HSA-8984722  \n",
       "2   http://model.geneontology.org/R-HSA-176974  "
      ]
     },
     "execution_count": 65,
     "metadata": {},
     "output_type": "execute_result"
    }
   ],
   "source": [
    "mac_comb_nc = enrich.enrich_wrapper('mac_comb.csv','Gene Symbol',method='ncHGT',FDR = 0.05,fpath = '../test_data/processed/')\n",
    "mac_comb_nc"
   ]
  },
  {
   "cell_type": "code",
   "execution_count": null,
   "id": "f530cf18-7a42-4491-96dd-a21fa35b8832",
   "metadata": {},
   "outputs": [],
   "source": []
  }
 ],
 "metadata": {
  "kernelspec": {
   "display_name": "Python [conda env:gocam2]",
   "language": "python",
   "name": "conda-env-gocam2-py"
  },
  "language_info": {
   "codemirror_mode": {
    "name": "ipython",
    "version": 3
   },
   "file_extension": ".py",
   "mimetype": "text/x-python",
   "name": "python",
   "nbconvert_exporter": "python",
   "pygments_lexer": "ipython3",
   "version": "3.10.9"
  }
 },
 "nbformat": 4,
 "nbformat_minor": 5
}
