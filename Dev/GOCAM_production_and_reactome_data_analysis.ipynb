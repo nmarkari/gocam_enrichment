{
 "cells": [
  {
   "cell_type": "code",
   "execution_count": 1,
   "id": "vietnamese-colors",
   "metadata": {},
   "outputs": [],
   "source": [
    "import pandas as pd\n",
    "import numpy as np\n",
    "import matplotlib.pyplot as plt\n",
    "import scipy.stats\n",
    "from scipy.stats import hypergeom"
   ]
  },
  {
   "cell_type": "code",
   "execution_count": 2,
   "id": "incredible-medium",
   "metadata": {},
   "outputs": [],
   "source": [
    "data = pd.read_csv(\"~/Downloads/gocams2genes_20220728.txt\", header=0, names=[\"gocam\", \"title\", \"gp_labels\",\"ID\",\"taxon\",\"taxon_label\",\"modelstate\"], sep=\"\\t\")\n",
    "data['gp_labels'] = data['gp_labels'].apply(lambda x: x.split(','))\n",
    "data['ID'] = data['ID'].apply(lambda x: x.split(','))\n",
    "data['title']=data['title'].apply(lambda x: x.split('^')[0])\n",
    "data['modelstate']=data['modelstate'].apply(lambda x: x.split('^')[0])\n",
    "data['gocam']=data['gocam'].apply(lambda x: x[1:len(x)-1])\n",
    "data = data[data['taxon_label'].apply(lambda x: ('Homo sapiens' in x) or ('Mus musculus' in x))]\n",
    "data = data[['gocam','title','ID']]"
   ]
  },
  {
   "cell_type": "code",
   "execution_count": null,
   "id": "recovered-vintage",
   "metadata": {},
   "outputs": [],
   "source": []
  },
  {
   "cell_type": "code",
   "execution_count": 3,
   "id": "international-scanning",
   "metadata": {},
   "outputs": [],
   "source": [
    "reactome_data = pd.read_csv(\"~/Downloads/metabolic_gocams2genes_20220728.tsv\", header=0, names=[\"gocam\", \"title\", \"ID\",\"taxon\",\"taxon_labels\",\"modelstate\"], sep=\"\\t\")\n",
    "reactome_data['ID'] = reactome_data['ID'].apply(lambda x: x.split(','))\n",
    "reactome_data['taxon_labels'] = reactome_data['taxon_labels'].apply(lambda x: x.split(','))\n",
    "reactome_data['title']=reactome_data['title'].apply(lambda x: x.split('^')[0])\n",
    "reactome_data['modelstate']=reactome_data['modelstate'].apply(lambda x: x.split('^')[0])\n",
    "reactome_data['gocam']=reactome_data['gocam'].apply(lambda x: x[1:len(x)-1])\n",
    "reactome_data = reactome_data[reactome_data['taxon_labels'].apply(lambda x: 'Homo sapiens' in x)]\n",
    "reactome_data = reactome_data[['gocam','title','ID']]"
   ]
  },
  {
   "cell_type": "code",
   "execution_count": 4,
   "id": "sharp-mixture",
   "metadata": {},
   "outputs": [],
   "source": [
    "#GO CAMs with multiple taxon labels\n",
    "t = data[data['gocam'].duplicated(keep=False)]\n",
    "#t.sort_values(by='gocam')"
   ]
  },
  {
   "cell_type": "code",
   "execution_count": 5,
   "id": "tropical-rolling",
   "metadata": {},
   "outputs": [
    {
     "data": {
      "text/plain": [
       "142"
      ]
     },
     "execution_count": 5,
     "metadata": {},
     "output_type": "execute_result"
    }
   ],
   "source": [
    "#THERE ARE A FEW INSTANCES OF ONE GOCAM HAVING MORE THAN ONE TAXON LISTED\n",
    "#ex: 5e72450500004019 has both R1AB_SARS2 and pp1ab Scov2\n",
    "len(data.gocam.unique())"
   ]
  },
  {
   "cell_type": "code",
   "execution_count": 6,
   "id": "forced-accountability",
   "metadata": {},
   "outputs": [],
   "source": [
    "dataAsMatrix = pd.DataFrame()\n",
    "#splits the lists of genes into multiple rows because row[ID] is a list\n",
    "d = pd.concat([data,reactome_data])\n",
    "for index, row in d.iterrows():\n",
    "    temp= pd.DataFrame({\"gocam\": row['gocam'], \"title\":row['title'],\"ID\": row['ID'] })\n",
    "    dataAsMatrix = dataAsMatrix.append(temp)\n",
    "dataAsMatrix[['gocam','title','ID']].drop_duplicates()\n",
    "dataAsMatrix.reset_index(drop=True, inplace=True)\n",
    "dataAsMatrix\n",
    "data = d"
   ]
  },
  {
   "cell_type": "code",
   "execution_count": 7,
   "id": "active-enhancement",
   "metadata": {
    "scrolled": true
   },
   "outputs": [
    {
     "data": {
      "text/plain": [
       "(array([528., 272., 128.,  43.,  20.,  18.,  13.,   5.,   3.,   1.]),\n",
       " array([ 2. ,  4.8,  7.6, 10.4, 13.2, 16. , 18.8, 21.6, 24.4, 27.2, 30. ]),\n",
       " <BarContainer object of 10 artists>)"
      ]
     },
     "execution_count": 7,
     "metadata": {},
     "output_type": "execute_result"
    },
    {
     "data": {
      "image/png": "[encoded data removed]",
      "text/plain": [
       "<Figure size 432x288 with 1 Axes>"
      ]
     },
     "metadata": {
      "needs_background": "light"
     },
     "output_type": "display_data"
    }
   ],
   "source": [
    "# DISTRIBUTION OF NUMBER OF GENES PER GOCAM\n",
    "dist = data['ID'].str.len().values\n",
    "fig = plt.hist(dist,10,range=(2,30))\n",
    "plt.title('Number of entities per GO CAM')\n",
    "plt.ylabel('Number of GO CAMs')\n",
    "plt.xlabel('Number of entities')\n",
    "fig"
   ]
  },
  {
   "cell_type": "code",
   "execution_count": 8,
   "id": "pointed-hello",
   "metadata": {
    "scrolled": true
   },
   "outputs": [
    {
     "data": {
      "text/plain": [
       "(6218, 6209, 6209, 6209)"
      ]
     },
     "execution_count": 8,
     "metadata": {},
     "output_type": "execute_result"
    }
   ],
   "source": [
    "len(dataAsMatrix),len(dataAsMatrix.drop_duplicates()),len(dataAsMatrix[['gocam','title','ID']].drop_duplicates()), len(dataAsMatrix[['gocam','ID']].drop_duplicates())\n"
   ]
  },
  {
   "cell_type": "code",
   "execution_count": 9,
   "id": "manufactured-engineer",
   "metadata": {},
   "outputs": [
    {
     "data": {
      "text/html": [
       "<div>\n",
       "<style scoped>\n",
       "    .dataframe tbody tr th:only-of-type {\n",
       "        vertical-align: middle;\n",
       "    }\n",
       "\n",
       "    .dataframe tbody tr th {\n",
       "        vertical-align: top;\n",
       "    }\n",
       "\n",
       "    .dataframe thead th {\n",
       "        text-align: right;\n",
       "    }\n",
       "</style>\n",
       "<table border=\"1\" class=\"dataframe\">\n",
       "  <thead>\n",
       "    <tr style=\"text-align: right;\">\n",
       "      <th></th>\n",
       "      <th>gocam</th>\n",
       "      <th>title</th>\n",
       "      <th>ID</th>\n",
       "    </tr>\n",
       "  </thead>\n",
       "  <tbody>\n",
       "    <tr>\n",
       "      <th>6195</th>\n",
       "      <td>http://model.geneontology.org/613aae0000000061</td>\n",
       "      <td>cGAS-STING (Human)</td>\n",
       "      <td>http://identifiers.org/uniprot/Q8N884</td>\n",
       "    </tr>\n",
       "    <tr>\n",
       "      <th>6196</th>\n",
       "      <td>http://model.geneontology.org/613aae0000000061</td>\n",
       "      <td>cGAS-STING (Human)</td>\n",
       "      <td>http://identifiers.org/uniprot/Q86WV6</td>\n",
       "    </tr>\n",
       "    <tr>\n",
       "      <th>6197</th>\n",
       "      <td>http://model.geneontology.org/613aae0000000061</td>\n",
       "      <td>cGAS-STING (Human)</td>\n",
       "      <td>http://identifiers.org/uniprot/Q92993-4</td>\n",
       "    </tr>\n",
       "    <tr>\n",
       "      <th>6201</th>\n",
       "      <td>http://model.geneontology.org/613aae0000000061</td>\n",
       "      <td>cGAS-STING (Human)</td>\n",
       "      <td>http://identifiers.org/uniprot/O75531</td>\n",
       "    </tr>\n",
       "    <tr>\n",
       "      <th>6203</th>\n",
       "      <td>http://model.geneontology.org/613aae0000000061</td>\n",
       "      <td>cGAS-STING (Human)</td>\n",
       "      <td>http://identifiers.org/uniprot/P31749</td>\n",
       "    </tr>\n",
       "    <tr>\n",
       "      <th>6204</th>\n",
       "      <td>http://model.geneontology.org/613aae0000000061</td>\n",
       "      <td>cGAS-STING (Human)</td>\n",
       "      <td>http://identifiers.org/uniprot/P42574</td>\n",
       "    </tr>\n",
       "    <tr>\n",
       "      <th>6205</th>\n",
       "      <td>http://model.geneontology.org/613aae0000000061</td>\n",
       "      <td>cGAS-STING (Human)</td>\n",
       "      <td>http://identifiers.org/uniprot/O00743</td>\n",
       "    </tr>\n",
       "    <tr>\n",
       "      <th>6206</th>\n",
       "      <td>http://model.geneontology.org/613aae0000000061</td>\n",
       "      <td>cGAS-STING (Human)</td>\n",
       "      <td>http://identifiers.org/uniprot/Q9UHD2</td>\n",
       "    </tr>\n",
       "    <tr>\n",
       "      <th>6207</th>\n",
       "      <td>http://model.geneontology.org/613aae0000000061</td>\n",
       "      <td>cGAS-STING (Human)</td>\n",
       "      <td>http://identifiers.org/uniprot/Q9BRZ2</td>\n",
       "    </tr>\n",
       "  </tbody>\n",
       "</table>\n",
       "</div>"
      ],
      "text/plain": [
       "                                               gocam               title  \\\n",
       "6195  http://model.geneontology.org/613aae0000000061  cGAS-STING (Human)   \n",
       "6196  http://model.geneontology.org/613aae0000000061  cGAS-STING (Human)   \n",
       "6197  http://model.geneontology.org/613aae0000000061  cGAS-STING (Human)   \n",
       "6201  http://model.geneontology.org/613aae0000000061  cGAS-STING (Human)   \n",
       "6203  http://model.geneontology.org/613aae0000000061  cGAS-STING (Human)   \n",
       "6204  http://model.geneontology.org/613aae0000000061  cGAS-STING (Human)   \n",
       "6205  http://model.geneontology.org/613aae0000000061  cGAS-STING (Human)   \n",
       "6206  http://model.geneontology.org/613aae0000000061  cGAS-STING (Human)   \n",
       "6207  http://model.geneontology.org/613aae0000000061  cGAS-STING (Human)   \n",
       "\n",
       "                                           ID  \n",
       "6195    http://identifiers.org/uniprot/Q8N884  \n",
       "6196    http://identifiers.org/uniprot/Q86WV6  \n",
       "6197  http://identifiers.org/uniprot/Q92993-4  \n",
       "6201    http://identifiers.org/uniprot/O75531  \n",
       "6203    http://identifiers.org/uniprot/P31749  \n",
       "6204    http://identifiers.org/uniprot/P42574  \n",
       "6205    http://identifiers.org/uniprot/O00743  \n",
       "6206    http://identifiers.org/uniprot/Q9UHD2  \n",
       "6207    http://identifiers.org/uniprot/Q9BRZ2  "
      ]
     },
     "execution_count": 9,
     "metadata": {},
     "output_type": "execute_result"
    }
   ],
   "source": [
    "dataAsMatrix[dataAsMatrix[['gocam','ID']].duplicated()]"
   ]
  },
  {
   "cell_type": "code",
   "execution_count": 10,
   "id": "numerical-causing",
   "metadata": {},
   "outputs": [
    {
     "data": {
      "text/html": [
       "<div>\n",
       "<style scoped>\n",
       "    .dataframe tbody tr th:only-of-type {\n",
       "        vertical-align: middle;\n",
       "    }\n",
       "\n",
       "    .dataframe tbody tr th {\n",
       "        vertical-align: top;\n",
       "    }\n",
       "\n",
       "    .dataframe thead th {\n",
       "        text-align: right;\n",
       "    }\n",
       "</style>\n",
       "<table border=\"1\" class=\"dataframe\">\n",
       "  <thead>\n",
       "    <tr style=\"text-align: right;\">\n",
       "      <th></th>\n",
       "      <th>gocam</th>\n",
       "      <th>title</th>\n",
       "      <th>ID</th>\n",
       "    </tr>\n",
       "  </thead>\n",
       "  <tbody>\n",
       "    <tr>\n",
       "      <th>89</th>\n",
       "      <td>http://model.geneontology.org/60ad85f700000058</td>\n",
       "      <td>Atf2 mouse</td>\n",
       "      <td>[http://identifiers.org/mgi/MGI:109349, http:/...</td>\n",
       "    </tr>\n",
       "  </tbody>\n",
       "</table>\n",
       "</div>"
      ],
      "text/plain": [
       "                                             gocam       title  \\\n",
       "89  http://model.geneontology.org/60ad85f700000058  Atf2 mouse   \n",
       "\n",
       "                                                   ID  \n",
       "89  [http://identifiers.org/mgi/MGI:109349, http:/...  "
      ]
     },
     "execution_count": 10,
     "metadata": {},
     "output_type": "execute_result"
    }
   ],
   "source": [
    "data[data['gocam']=='http://model.geneontology.org/60ad85f700000058']"
   ]
  },
  {
   "cell_type": "code",
   "execution_count": 11,
   "id": "young-duplicate",
   "metadata": {},
   "outputs": [
    {
     "data": {
      "text/plain": [
       "6218"
      ]
     },
     "execution_count": 11,
     "metadata": {},
     "output_type": "execute_result"
    }
   ],
   "source": [
    "#confirming that my conversion worked\n",
    "sum(dist)"
   ]
  },
  {
   "cell_type": "code",
   "execution_count": 12,
   "id": "martial-bookmark",
   "metadata": {
    "scrolled": false
   },
   "outputs": [
    {
     "data": {
      "text/plain": [
       "http://purl.obolibrary.org/obo/go/extensions    3076\n",
       "http://identifiers.org/mgi                       301\n",
       "http://identifiers.org/uniprot                   265\n",
       "https://www.ebi.ac.uk/complexportal/complex        2\n",
       "http://purl.obolibrary.org/obo                     2\n",
       "http://rnacentral.org/rna                          1\n",
       "Name: ID, dtype: int64"
      ]
     },
     "execution_count": 12,
     "metadata": {},
     "output_type": "execute_result"
    }
   ],
   "source": [
    "# NUMBER OF GENES OF EACH IDENTIFIER TYPE ACROSS GOCAMS\n",
    "d = dataAsMatrix\n",
    "d = d[['ID']].drop_duplicates()\n",
    "d.reset_index(drop=True, inplace=True)\n",
    "d['ID']= d['ID'].apply(lambda x: x.rsplit(\"/\",1)[0])\n",
    "d.ID.value_counts()"
   ]
  },
  {
   "cell_type": "code",
   "execution_count": 13,
   "id": "human-botswana",
   "metadata": {
    "scrolled": true
   },
   "outputs": [
    {
     "data": {
      "text/plain": [
       "http://purl.obolibrary.org/obo/go/extensions    5315\n",
       "http://identifiers.org/mgi                       518\n",
       "http://identifiers.org/uniprot                   371\n",
       "https://www.ebi.ac.uk/complexportal/complex        2\n",
       "http://purl.obolibrary.org/obo                     2\n",
       "http://rnacentral.org/rna                          1\n",
       "Name: ID, dtype: int64"
      ]
     },
     "execution_count": 13,
     "metadata": {},
     "output_type": "execute_result"
    }
   ],
   "source": [
    "# NUMBER OF *OCCURENCES* OF GENES WITH EACH IDENFIFIER TYPE ACROSS GOCAMS\n",
    "d = dataAsMatrix\n",
    "d = d[['gocam','ID']].drop_duplicates()\n",
    "d.reset_index(drop=True, inplace=True)\n",
    "#d = d[d['ID'].apply(lambda x: x.split(\"/\")[-2])=='uniprot']\n",
    "d['ID']= d['ID'].apply(lambda x: x.rsplit(\"/\",1)[0])\n",
    "d.ID.value_counts()"
   ]
  },
  {
   "cell_type": "code",
   "execution_count": 14,
   "id": "proved-ceiling",
   "metadata": {},
   "outputs": [
    {
     "data": {
      "text/html": [
       "<div>\n",
       "<style scoped>\n",
       "    .dataframe tbody tr th:only-of-type {\n",
       "        vertical-align: middle;\n",
       "    }\n",
       "\n",
       "    .dataframe tbody tr th {\n",
       "        vertical-align: top;\n",
       "    }\n",
       "\n",
       "    .dataframe thead th {\n",
       "        text-align: right;\n",
       "    }\n",
       "</style>\n",
       "<table border=\"1\" class=\"dataframe\">\n",
       "  <thead>\n",
       "    <tr style=\"text-align: right;\">\n",
       "      <th></th>\n",
       "      <th>gocam</th>\n",
       "      <th>ID</th>\n",
       "    </tr>\n",
       "  </thead>\n",
       "  <tbody>\n",
       "    <tr>\n",
       "      <th>0</th>\n",
       "      <td>http://model.geneontology.org/61e0e55600000239</td>\n",
       "      <td>http://identifiers.org/mgi/MGI:98724</td>\n",
       "    </tr>\n",
       "    <tr>\n",
       "      <th>1</th>\n",
       "      <td>http://model.geneontology.org/61e0e55600000239</td>\n",
       "      <td>http://identifiers.org/mgi/MGI:108088</td>\n",
       "    </tr>\n",
       "    <tr>\n",
       "      <th>2</th>\n",
       "      <td>http://model.geneontology.org/61e0e55600000239</td>\n",
       "      <td>http://identifiers.org/mgi/MGI:95294</td>\n",
       "    </tr>\n",
       "    <tr>\n",
       "      <th>3</th>\n",
       "      <td>http://model.geneontology.org/61e0e55600000239</td>\n",
       "      <td>http://identifiers.org/mgi/MGI:95805</td>\n",
       "    </tr>\n",
       "    <tr>\n",
       "      <th>4</th>\n",
       "      <td>http://model.geneontology.org/61e0e55600000239</td>\n",
       "      <td>http://identifiers.org/mgi/MGI:99511</td>\n",
       "    </tr>\n",
       "    <tr>\n",
       "      <th>...</th>\n",
       "      <td>...</td>\n",
       "      <td>...</td>\n",
       "    </tr>\n",
       "    <tr>\n",
       "      <th>6204</th>\n",
       "      <td>http://model.geneontology.org/5970219a00000013</td>\n",
       "      <td>http://identifiers.org/uniprot/O95427</td>\n",
       "    </tr>\n",
       "    <tr>\n",
       "      <th>6205</th>\n",
       "      <td>http://model.geneontology.org/5970219a00000013</td>\n",
       "      <td>http://identifiers.org/uniprot/Q9NUD9</td>\n",
       "    </tr>\n",
       "    <tr>\n",
       "      <th>6206</th>\n",
       "      <td>http://model.geneontology.org/5970219a00000013</td>\n",
       "      <td>http://identifiers.org/uniprot/Q92521</td>\n",
       "    </tr>\n",
       "    <tr>\n",
       "      <th>6207</th>\n",
       "      <td>http://model.geneontology.org/5970219a00000013</td>\n",
       "      <td>http://purl.obolibrary.org/obo/GO_0032991</td>\n",
       "    </tr>\n",
       "    <tr>\n",
       "      <th>6208</th>\n",
       "      <td>http://model.geneontology.org/5970219a00000013</td>\n",
       "      <td>http://identifiers.org/uniprot/Q86VD9</td>\n",
       "    </tr>\n",
       "  </tbody>\n",
       "</table>\n",
       "<p>6209 rows × 2 columns</p>\n",
       "</div>"
      ],
      "text/plain": [
       "                                               gocam  \\\n",
       "0     http://model.geneontology.org/61e0e55600000239   \n",
       "1     http://model.geneontology.org/61e0e55600000239   \n",
       "2     http://model.geneontology.org/61e0e55600000239   \n",
       "3     http://model.geneontology.org/61e0e55600000239   \n",
       "4     http://model.geneontology.org/61e0e55600000239   \n",
       "...                                              ...   \n",
       "6204  http://model.geneontology.org/5970219a00000013   \n",
       "6205  http://model.geneontology.org/5970219a00000013   \n",
       "6206  http://model.geneontology.org/5970219a00000013   \n",
       "6207  http://model.geneontology.org/5970219a00000013   \n",
       "6208  http://model.geneontology.org/5970219a00000013   \n",
       "\n",
       "                                             ID  \n",
       "0          http://identifiers.org/mgi/MGI:98724  \n",
       "1         http://identifiers.org/mgi/MGI:108088  \n",
       "2          http://identifiers.org/mgi/MGI:95294  \n",
       "3          http://identifiers.org/mgi/MGI:95805  \n",
       "4          http://identifiers.org/mgi/MGI:99511  \n",
       "...                                         ...  \n",
       "6204      http://identifiers.org/uniprot/O95427  \n",
       "6205      http://identifiers.org/uniprot/Q9NUD9  \n",
       "6206      http://identifiers.org/uniprot/Q92521  \n",
       "6207  http://purl.obolibrary.org/obo/GO_0032991  \n",
       "6208      http://identifiers.org/uniprot/Q86VD9  \n",
       "\n",
       "[6209 rows x 2 columns]"
      ]
     },
     "execution_count": 14,
     "metadata": {},
     "output_type": "execute_result"
    }
   ],
   "source": [
    "data_cleaned = dataAsMatrix\n",
    "data_cleaned = data_cleaned[['gocam','ID']].drop_duplicates()\n",
    "data_cleaned.reset_index(drop=True, inplace=True)\n",
    "data_cleaned"
   ]
  },
  {
   "cell_type": "code",
   "execution_count": 15,
   "id": "adjusted-residence",
   "metadata": {},
   "outputs": [
    {
     "data": {
      "text/html": [
       "<div>\n",
       "<style scoped>\n",
       "    .dataframe tbody tr th:only-of-type {\n",
       "        vertical-align: middle;\n",
       "    }\n",
       "\n",
       "    .dataframe tbody tr th {\n",
       "        vertical-align: top;\n",
       "    }\n",
       "\n",
       "    .dataframe thead th {\n",
       "        text-align: right;\n",
       "    }\n",
       "</style>\n",
       "<table border=\"1\" class=\"dataframe\">\n",
       "  <thead>\n",
       "    <tr style=\"text-align: right;\">\n",
       "      <th></th>\n",
       "      <th>gocam</th>\n",
       "      <th>ID</th>\n",
       "    </tr>\n",
       "  </thead>\n",
       "  <tbody>\n",
       "    <tr>\n",
       "      <th>186</th>\n",
       "      <td>http://model.geneontology.org/627d95ee00000024</td>\n",
       "      <td>P29597</td>\n",
       "    </tr>\n",
       "    <tr>\n",
       "      <th>187</th>\n",
       "      <td>http://model.geneontology.org/627d95ee00000024</td>\n",
       "      <td>Q14765</td>\n",
       "    </tr>\n",
       "    <tr>\n",
       "      <th>188</th>\n",
       "      <td>http://model.geneontology.org/627d95ee00000024</td>\n",
       "      <td>P29459</td>\n",
       "    </tr>\n",
       "    <tr>\n",
       "      <th>189</th>\n",
       "      <td>http://model.geneontology.org/627d95ee00000024</td>\n",
       "      <td>P29460</td>\n",
       "    </tr>\n",
       "    <tr>\n",
       "      <th>190</th>\n",
       "      <td>http://model.geneontology.org/627d95ee00000024</td>\n",
       "      <td>P42701</td>\n",
       "    </tr>\n",
       "    <tr>\n",
       "      <th>...</th>\n",
       "      <td>...</td>\n",
       "      <td>...</td>\n",
       "    </tr>\n",
       "    <tr>\n",
       "      <th>6203</th>\n",
       "      <td>http://model.geneontology.org/5970219a00000013</td>\n",
       "      <td>Q9H3S5</td>\n",
       "    </tr>\n",
       "    <tr>\n",
       "      <th>6204</th>\n",
       "      <td>http://model.geneontology.org/5970219a00000013</td>\n",
       "      <td>O95427</td>\n",
       "    </tr>\n",
       "    <tr>\n",
       "      <th>6205</th>\n",
       "      <td>http://model.geneontology.org/5970219a00000013</td>\n",
       "      <td>Q9NUD9</td>\n",
       "    </tr>\n",
       "    <tr>\n",
       "      <th>6206</th>\n",
       "      <td>http://model.geneontology.org/5970219a00000013</td>\n",
       "      <td>Q92521</td>\n",
       "    </tr>\n",
       "    <tr>\n",
       "      <th>6208</th>\n",
       "      <td>http://model.geneontology.org/5970219a00000013</td>\n",
       "      <td>Q86VD9</td>\n",
       "    </tr>\n",
       "  </tbody>\n",
       "</table>\n",
       "<p>371 rows × 2 columns</p>\n",
       "</div>"
      ],
      "text/plain": [
       "                                               gocam      ID\n",
       "186   http://model.geneontology.org/627d95ee00000024  P29597\n",
       "187   http://model.geneontology.org/627d95ee00000024  Q14765\n",
       "188   http://model.geneontology.org/627d95ee00000024  P29459\n",
       "189   http://model.geneontology.org/627d95ee00000024  P29460\n",
       "190   http://model.geneontology.org/627d95ee00000024  P42701\n",
       "...                                              ...     ...\n",
       "6203  http://model.geneontology.org/5970219a00000013  Q9H3S5\n",
       "6204  http://model.geneontology.org/5970219a00000013  O95427\n",
       "6205  http://model.geneontology.org/5970219a00000013  Q9NUD9\n",
       "6206  http://model.geneontology.org/5970219a00000013  Q92521\n",
       "6208  http://model.geneontology.org/5970219a00000013  Q86VD9\n",
       "\n",
       "[371 rows x 2 columns]"
      ]
     },
     "execution_count": 15,
     "metadata": {},
     "output_type": "execute_result"
    }
   ],
   "source": [
    "test= data_cleaned.copy()\n",
    "test = test[test['ID'].apply(lambda x: x.split(\"/\")[-2])=='uniprot']\n",
    "test['ID']= test['ID'].apply(lambda x: x.split(\"/\")[-1])\n",
    "test"
   ]
  },
  {
   "cell_type": "code",
   "execution_count": 16,
   "id": "impaired-shape",
   "metadata": {},
   "outputs": [
    {
     "data": {
      "text/html": [
       "<div>\n",
       "<style scoped>\n",
       "    .dataframe tbody tr th:only-of-type {\n",
       "        vertical-align: middle;\n",
       "    }\n",
       "\n",
       "    .dataframe tbody tr th {\n",
       "        vertical-align: top;\n",
       "    }\n",
       "\n",
       "    .dataframe thead th {\n",
       "        text-align: right;\n",
       "    }\n",
       "</style>\n",
       "<table border=\"1\" class=\"dataframe\">\n",
       "  <thead>\n",
       "    <tr style=\"text-align: right;\">\n",
       "      <th></th>\n",
       "      <th>gocam</th>\n",
       "      <th>ID</th>\n",
       "    </tr>\n",
       "  </thead>\n",
       "  <tbody>\n",
       "    <tr>\n",
       "      <th>0</th>\n",
       "      <td>http://model.geneontology.org/61e0e55600000239</td>\n",
       "      <td>http://identifiers.org/mgi/MGI:98724</td>\n",
       "    </tr>\n",
       "    <tr>\n",
       "      <th>1</th>\n",
       "      <td>http://model.geneontology.org/61e0e55600000239</td>\n",
       "      <td>http://identifiers.org/mgi/MGI:108088</td>\n",
       "    </tr>\n",
       "    <tr>\n",
       "      <th>2</th>\n",
       "      <td>http://model.geneontology.org/61e0e55600000239</td>\n",
       "      <td>http://identifiers.org/mgi/MGI:95294</td>\n",
       "    </tr>\n",
       "    <tr>\n",
       "      <th>3</th>\n",
       "      <td>http://model.geneontology.org/61e0e55600000239</td>\n",
       "      <td>http://identifiers.org/mgi/MGI:95805</td>\n",
       "    </tr>\n",
       "    <tr>\n",
       "      <th>4</th>\n",
       "      <td>http://model.geneontology.org/61e0e55600000239</td>\n",
       "      <td>http://identifiers.org/mgi/MGI:99511</td>\n",
       "    </tr>\n",
       "    <tr>\n",
       "      <th>...</th>\n",
       "      <td>...</td>\n",
       "      <td>...</td>\n",
       "    </tr>\n",
       "    <tr>\n",
       "      <th>6204</th>\n",
       "      <td>http://model.geneontology.org/5970219a00000013</td>\n",
       "      <td>http://identifiers.org/uniprot/O95427</td>\n",
       "    </tr>\n",
       "    <tr>\n",
       "      <th>6205</th>\n",
       "      <td>http://model.geneontology.org/5970219a00000013</td>\n",
       "      <td>http://identifiers.org/uniprot/Q9NUD9</td>\n",
       "    </tr>\n",
       "    <tr>\n",
       "      <th>6206</th>\n",
       "      <td>http://model.geneontology.org/5970219a00000013</td>\n",
       "      <td>http://identifiers.org/uniprot/Q92521</td>\n",
       "    </tr>\n",
       "    <tr>\n",
       "      <th>6207</th>\n",
       "      <td>http://model.geneontology.org/5970219a00000013</td>\n",
       "      <td>http://purl.obolibrary.org/obo/GO_0032991</td>\n",
       "    </tr>\n",
       "    <tr>\n",
       "      <th>6208</th>\n",
       "      <td>http://model.geneontology.org/5970219a00000013</td>\n",
       "      <td>http://identifiers.org/uniprot/Q86VD9</td>\n",
       "    </tr>\n",
       "  </tbody>\n",
       "</table>\n",
       "<p>6209 rows × 2 columns</p>\n",
       "</div>"
      ],
      "text/plain": [
       "                                               gocam  \\\n",
       "0     http://model.geneontology.org/61e0e55600000239   \n",
       "1     http://model.geneontology.org/61e0e55600000239   \n",
       "2     http://model.geneontology.org/61e0e55600000239   \n",
       "3     http://model.geneontology.org/61e0e55600000239   \n",
       "4     http://model.geneontology.org/61e0e55600000239   \n",
       "...                                              ...   \n",
       "6204  http://model.geneontology.org/5970219a00000013   \n",
       "6205  http://model.geneontology.org/5970219a00000013   \n",
       "6206  http://model.geneontology.org/5970219a00000013   \n",
       "6207  http://model.geneontology.org/5970219a00000013   \n",
       "6208  http://model.geneontology.org/5970219a00000013   \n",
       "\n",
       "                                             ID  \n",
       "0          http://identifiers.org/mgi/MGI:98724  \n",
       "1         http://identifiers.org/mgi/MGI:108088  \n",
       "2          http://identifiers.org/mgi/MGI:95294  \n",
       "3          http://identifiers.org/mgi/MGI:95805  \n",
       "4          http://identifiers.org/mgi/MGI:99511  \n",
       "...                                         ...  \n",
       "6204      http://identifiers.org/uniprot/O95427  \n",
       "6205      http://identifiers.org/uniprot/Q9NUD9  \n",
       "6206      http://identifiers.org/uniprot/Q92521  \n",
       "6207  http://purl.obolibrary.org/obo/GO_0032991  \n",
       "6208      http://identifiers.org/uniprot/Q86VD9  \n",
       "\n",
       "[6209 rows x 2 columns]"
      ]
     },
     "execution_count": 16,
     "metadata": {},
     "output_type": "execute_result"
    }
   ],
   "source": [
    "data_cleaned #= test"
   ]
  },
  {
   "cell_type": "code",
   "execution_count": 17,
   "id": "right-andrew",
   "metadata": {},
   "outputs": [],
   "source": [
    "def build_dict (data): #data= dataframe with gocam IDs and gene identifiers as columns\n",
    "    Dict = {}\n",
    "    for index, row in data.iterrows():\n",
    "        gene = row['ID']\n",
    "        gocam = row['gocam']\n",
    "        if (gene in Dict) == False:\n",
    "            Dict[gene]={gocam}\n",
    "        else:\n",
    "            prev = Dict.get(gene)\n",
    "            prev.add(gocam)\n",
    "            Dict[gene] = prev\n",
    "    return Dict"
   ]
  },
  {
   "cell_type": "code",
   "execution_count": 18,
   "id": "exterior-arabic",
   "metadata": {},
   "outputs": [
    {
     "data": {
      "text/plain": [
       "([<matplotlib.axis.XTick at 0x7ff24e0a1a90>,\n",
       "  <matplotlib.axis.XTick at 0x7ff24e0a3710>,\n",
       "  <matplotlib.axis.XTick at 0x7ff24e0a3310>,\n",
       "  <matplotlib.axis.XTick at 0x7ff24e0f3ed0>,\n",
       "  <matplotlib.axis.XTick at 0x7ff24e19c450>,\n",
       "  <matplotlib.axis.XTick at 0x7ff24e19c8d0>,\n",
       "  <matplotlib.axis.XTick at 0x7ff24e19cf10>,\n",
       "  <matplotlib.axis.XTick at 0x7ff24e0f3c10>,\n",
       "  <matplotlib.axis.XTick at 0x7ff24e1953d0>,\n",
       "  <matplotlib.axis.XTick at 0x7ff24e1958d0>,\n",
       "  <matplotlib.axis.XTick at 0x7ff24e195e10>,\n",
       "  <matplotlib.axis.XTick at 0x7ff24e18c390>,\n",
       "  <matplotlib.axis.XTick at 0x7ff24e18c8d0>,\n",
       "  <matplotlib.axis.XTick at 0x7ff24e18ce10>,\n",
       "  <matplotlib.axis.XTick at 0x7ff24e184390>],\n",
       " [Text(0, 0, ''),\n",
       "  Text(0, 0, ''),\n",
       "  Text(0, 0, ''),\n",
       "  Text(0, 0, ''),\n",
       "  Text(0, 0, ''),\n",
       "  Text(0, 0, ''),\n",
       "  Text(0, 0, ''),\n",
       "  Text(0, 0, ''),\n",
       "  Text(0, 0, ''),\n",
       "  Text(0, 0, ''),\n",
       "  Text(0, 0, ''),\n",
       "  Text(0, 0, ''),\n",
       "  Text(0, 0, ''),\n",
       "  Text(0, 0, ''),\n",
       "  Text(0, 0, '')])"
      ]
     },
     "execution_count": 18,
     "metadata": {},
     "output_type": "execute_result"
    },
    {
     "data": {
      "image/png": "[encoded data removed]",
      "text/plain": [
       "<Figure size 432x288 with 1 Axes>"
      ]
     },
     "metadata": {
      "needs_background": "light"
     },
     "output_type": "display_data"
    }
   ],
   "source": [
    "D = build_dict(data_cleaned)\n",
    "x = []\n",
    "for key in D:\n",
    "    num_gocams = len(D.get(key))\n",
    "    x.append(num_gocams)\n",
    "plt.hist(x, bins=15, range=(0,15))\n",
    "plt.xlabel(\"Number of GO CAMs\")\n",
    "plt.ylabel(\"Number of Entities\")\n",
    "plt.title(\"Number of GO CAMs each entity is involved in\")\n",
    "plt.xticks(np.arange(0,15))"
   ]
  }
 ],
 "metadata": {
  "kernelspec": {
   "display_name": "Python 3",
   "language": "python",
   "name": "python3"
  },
  "language_info": {
   "codemirror_mode": {
    "name": "ipython",
    "version": 3
   },
   "file_extension": ".py",
   "mimetype": "text/x-python",
   "name": "python",
   "nbconvert_exporter": "python",
   "pygments_lexer": "ipython3",
   "version": "3.7.9"
  }
 },
 "nbformat": 4,
 "nbformat_minor": 5
}
