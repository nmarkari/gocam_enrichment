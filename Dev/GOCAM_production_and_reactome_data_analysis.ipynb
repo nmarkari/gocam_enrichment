{
 "cells": [
  {
   "cell_type": "code",
   "execution_count": 1,
   "id": "vietnamese-colors",
   "metadata": {},
   "outputs": [],
   "source": [
    "import pandas as pd\n",
    "import numpy as np\n",
    "import matplotlib.pyplot as plt\n",
    "import scipy.stats\n",
    "from scipy.stats import hypergeom"
   ]
  },
  {
   "cell_type": "code",
   "execution_count": 2,
   "id": "incredible-medium",
   "metadata": {},
   "outputs": [],
   "source": [
    "data = pd.read_csv(\"~/Downloads/gocams2genes_20220728.txt\", header=0, names=[\"gocam\", \"title\", \"gp_labels\",\"ID\",\"taxon\",\"taxon_label\",\"modelstate\"], sep=\"\\t\")\n",
    "data['gp_labels'] = data['gp_labels'].apply(lambda x: x.split(','))\n",
    "data['ID'] = data['ID'].apply(lambda x: x.split(','))\n",
    "data['title']=data['title'].apply(lambda x: x.split('^')[0])\n",
    "data['modelstate']=data['modelstate'].apply(lambda x: x.split('^')[0])\n",
    "data['gocam']=data['gocam'].apply(lambda x: x[1:len(x)-1])\n",
    "data = data[data['taxon_label'].apply(lambda x: ('Homo sapiens' in x) or ('Mus musculus' in x))]\n",
    "data = data[['gocam','title','ID']]"
   ]
  },
  {
   "cell_type": "code",
   "execution_count": null,
   "id": "recovered-vintage",
   "metadata": {},
   "outputs": [],
   "source": []
  },
  {
   "cell_type": "code",
   "execution_count": 3,
   "id": "international-scanning",
   "metadata": {},
   "outputs": [],
   "source": [
    "reactome_data = pd.read_csv(\"~/Downloads/metabolic_gocams2genes_20220728.tsv\", header=0, names=[\"gocam\", \"title\", \"ID\",\"taxon\",\"taxon_labels\",\"modelstate\"], sep=\"\\t\")\n",
    "reactome_data['ID'] = reactome_data['ID'].apply(lambda x: x.split(','))\n",
    "reactome_data['taxon_labels'] = reactome_data['taxon_labels'].apply(lambda x: x.split(','))\n",
    "reactome_data['title']=reactome_data['title'].apply(lambda x: x.split('^')[0])\n",
    "reactome_data['modelstate']=reactome_data['modelstate'].apply(lambda x: x.split('^')[0])\n",
    "reactome_data['gocam']=reactome_data['gocam'].apply(lambda x: x[1:len(x)-1])\n",
    "reactome_data = reactome_data[reactome_data['taxon_labels'].apply(lambda x: 'Homo sapiens' in x)]\n",
    "reactome_data = reactome_data[['gocam','title','ID']]"
   ]
  },
  {
   "cell_type": "code",
   "execution_count": 4,
   "id": "sharp-mixture",
   "metadata": {},
   "outputs": [],
   "source": [
    "#GO CAMs with multiple taxon labels\n",
    "t = data[data['gocam'].duplicated(keep=False)]\n",
    "#t.sort_values(by='gocam')"
   ]
  },
  {
   "cell_type": "code",
   "execution_count": 5,
   "id": "tropical-rolling",
   "metadata": {},
   "outputs": [
    {
     "data": {
      "text/plain": [
       "142"
      ]
     },
     "execution_count": 5,
     "metadata": {},
     "output_type": "execute_result"
    }
   ],
   "source": [
    "#THERE ARE A FEW INSTANCES OF ONE GOCAM HAVING MORE THAN ONE TAXON LISTED\n",
    "#ex: 5e72450500004019 has both R1AB_SARS2 and pp1ab Scov2\n",
    "len(data.gocam.unique())"
   ]
  },
  {
   "cell_type": "code",
   "execution_count": 6,
   "id": "forced-accountability",
   "metadata": {},
   "outputs": [],
   "source": [
    "dataAsMatrix = pd.DataFrame()\n",
    "#splits the lists of genes into multiple rows because row[ID] is a list\n",
    "d = pd.concat([data,reactome_data])\n",
    "for index, row in d.iterrows():\n",
    "    temp= pd.DataFrame({\"gocam\": row['gocam'], \"title\":row['title'],\"ID\": row['ID'] })\n",
    "    dataAsMatrix = dataAsMatrix.append(temp)\n",
    "dataAsMatrix[['gocam','title','ID']].drop_duplicates()\n",
    "dataAsMatrix.reset_index(drop=True, inplace=True)\n",
    "dataAsMatrix\n",
    "data = d"
   ]
  },
  {
   "cell_type": "code",
   "execution_count": 27,
   "id": "active-enhancement",
   "metadata": {
    "scrolled": true
   },
   "outputs": [
    {
     "data": {
      "text/plain": [
       "Text(0, 0.5, 'Number of Genes')"
      ]
     },
     "execution_count": 27,
     "metadata": {},
     "output_type": "execute_result"
    },
    {
     "data": {
      "image/png": "[encoded data removed]",
      "text/plain": [
       "<Figure size 432x288 with 1 Axes>"
      ]
     },
     "metadata": {
      "needs_background": "light"
     },
     "output_type": "display_data"
    }
   ],
   "source": [
    "# DISTRIBUTION OF NUMBER OF GENES PER GOCAM\n",
    "dist = data['ID'].str.len().values\n",
    "plt.hist(dist,10,range=(2,30))\n",
    "plt.title('Number of genes per GO CAM')\n",
    "plt.xlabel('Number of GO CAMs')\n",
    "plt.ylabel('Number of Genes')"
   ]
  },
  {
   "cell_type": "code",
   "execution_count": 8,
   "id": "pointed-hello",
   "metadata": {
    "scrolled": true
   },
   "outputs": [
    {
     "data": {
      "text/plain": [
       "(6218, 6209, 6209, 6209)"
      ]
     },
     "execution_count": 8,
     "metadata": {},
     "output_type": "execute_result"
    }
   ],
   "source": [
    "len(dataAsMatrix),len(dataAsMatrix.drop_duplicates()),len(dataAsMatrix[['gocam','title','ID']].drop_duplicates()), len(dataAsMatrix[['gocam','ID']].drop_duplicates())\n"
   ]
  },
  {
   "cell_type": "code",
   "execution_count": 9,
   "id": "manufactured-engineer",
   "metadata": {},
   "outputs": [
    {
     "data": {
      "text/html": [
       "<div>\n",
       "<style scoped>\n",
       "    .dataframe tbody tr th:only-of-type {\n",
       "        vertical-align: middle;\n",
       "    }\n",
       "\n",
       "    .dataframe tbody tr th {\n",
       "        vertical-align: top;\n",
       "    }\n",
       "\n",
       "    .dataframe thead th {\n",
       "        text-align: right;\n",
       "    }\n",
       "</style>\n",
       "<table border=\"1\" class=\"dataframe\">\n",
       "  <thead>\n",
       "    <tr style=\"text-align: right;\">\n",
       "      <th></th>\n",
       "      <th>gocam</th>\n",
       "      <th>title</th>\n",
       "      <th>ID</th>\n",
       "    </tr>\n",
       "  </thead>\n",
       "  <tbody>\n",
       "    <tr>\n",
       "      <th>6195</th>\n",
       "      <td>http://model.geneontology.org/613aae0000000061</td>\n",
       "      <td>cGAS-STING (Human)</td>\n",
       "      <td>http://identifiers.org/uniprot/Q8N884</td>\n",
       "    </tr>\n",
       "    <tr>\n",
       "      <th>6196</th>\n",
       "      <td>http://model.geneontology.org/613aae0000000061</td>\n",
       "      <td>cGAS-STING (Human)</td>\n",
       "      <td>http://identifiers.org/uniprot/Q86WV6</td>\n",
       "    </tr>\n",
       "    <tr>\n",
       "      <th>6197</th>\n",
       "      <td>http://model.geneontology.org/613aae0000000061</td>\n",
       "      <td>cGAS-STING (Human)</td>\n",
       "      <td>http://identifiers.org/uniprot/Q92993-4</td>\n",
       "    </tr>\n",
       "    <tr>\n",
       "      <th>6201</th>\n",
       "      <td>http://model.geneontology.org/613aae0000000061</td>\n",
       "      <td>cGAS-STING (Human)</td>\n",
       "      <td>http://identifiers.org/uniprot/O75531</td>\n",
       "    </tr>\n",
       "    <tr>\n",
       "      <th>6203</th>\n",
       "      <td>http://model.geneontology.org/613aae0000000061</td>\n",
       "      <td>cGAS-STING (Human)</td>\n",
       "      <td>http://identifiers.org/uniprot/P31749</td>\n",
       "    </tr>\n",
       "    <tr>\n",
       "      <th>6204</th>\n",
       "      <td>http://model.geneontology.org/613aae0000000061</td>\n",
       "      <td>cGAS-STING (Human)</td>\n",
       "      <td>http://identifiers.org/uniprot/P42574</td>\n",
       "    </tr>\n",
       "    <tr>\n",
       "      <th>6205</th>\n",
       "      <td>http://model.geneontology.org/613aae0000000061</td>\n",
       "      <td>cGAS-STING (Human)</td>\n",
       "      <td>http://identifiers.org/uniprot/O00743</td>\n",
       "    </tr>\n",
       "    <tr>\n",
       "      <th>6206</th>\n",
       "      <td>http://model.geneontology.org/613aae0000000061</td>\n",
       "      <td>cGAS-STING (Human)</td>\n",
       "      <td>http://identifiers.org/uniprot/Q9UHD2</td>\n",
       "    </tr>\n",
       "    <tr>\n",
       "      <th>6207</th>\n",
       "      <td>http://model.geneontology.org/613aae0000000061</td>\n",
       "      <td>cGAS-STING (Human)</td>\n",
       "      <td>http://identifiers.org/uniprot/Q9BRZ2</td>\n",
       "    </tr>\n",
       "  </tbody>\n",
       "</table>\n",
       "</div>"
      ],
      "text/plain": [
       "                                               gocam               title  \\\n",
       "6195  http://model.geneontology.org/613aae0000000061  cGAS-STING (Human)   \n",
       "6196  http://model.geneontology.org/613aae0000000061  cGAS-STING (Human)   \n",
       "6197  http://model.geneontology.org/613aae0000000061  cGAS-STING (Human)   \n",
       "6201  http://model.geneontology.org/613aae0000000061  cGAS-STING (Human)   \n",
       "6203  http://model.geneontology.org/613aae0000000061  cGAS-STING (Human)   \n",
       "6204  http://model.geneontology.org/613aae0000000061  cGAS-STING (Human)   \n",
       "6205  http://model.geneontology.org/613aae0000000061  cGAS-STING (Human)   \n",
       "6206  http://model.geneontology.org/613aae0000000061  cGAS-STING (Human)   \n",
       "6207  http://model.geneontology.org/613aae0000000061  cGAS-STING (Human)   \n",
       "\n",
       "                                           ID  \n",
       "6195    http://identifiers.org/uniprot/Q8N884  \n",
       "6196    http://identifiers.org/uniprot/Q86WV6  \n",
       "6197  http://identifiers.org/uniprot/Q92993-4  \n",
       "6201    http://identifiers.org/uniprot/O75531  \n",
       "6203    http://identifiers.org/uniprot/P31749  \n",
       "6204    http://identifiers.org/uniprot/P42574  \n",
       "6205    http://identifiers.org/uniprot/O00743  \n",
       "6206    http://identifiers.org/uniprot/Q9UHD2  \n",
       "6207    http://identifiers.org/uniprot/Q9BRZ2  "
      ]
     },
     "execution_count": 9,
     "metadata": {},
     "output_type": "execute_result"
    }
   ],
   "source": [
    "dataAsMatrix[dataAsMatrix[['gocam','ID']].duplicated()]"
   ]
  },
  {
   "cell_type": "code",
   "execution_count": 10,
   "id": "numerical-causing",
   "metadata": {},
   "outputs": [
    {
     "data": {
      "text/html": [
       "<div>\n",
       "<style scoped>\n",
       "    .dataframe tbody tr th:only-of-type {\n",
       "        vertical-align: middle;\n",
       "    }\n",
       "\n",
       "    .dataframe tbody tr th {\n",
       "        vertical-align: top;\n",
       "    }\n",
       "\n",
       "    .dataframe thead th {\n",
       "        text-align: right;\n",
       "    }\n",
       "</style>\n",
       "<table border=\"1\" class=\"dataframe\">\n",
       "  <thead>\n",
       "    <tr style=\"text-align: right;\">\n",
       "      <th></th>\n",
       "      <th>gocam</th>\n",
       "      <th>title</th>\n",
       "      <th>ID</th>\n",
       "    </tr>\n",
       "  </thead>\n",
       "  <tbody>\n",
       "    <tr>\n",
       "      <th>89</th>\n",
       "      <td>http://model.geneontology.org/60ad85f700000058</td>\n",
       "      <td>Atf2 mouse</td>\n",
       "      <td>[http://identifiers.org/mgi/MGI:109349, http:/...</td>\n",
       "    </tr>\n",
       "  </tbody>\n",
       "</table>\n",
       "</div>"
      ],
      "text/plain": [
       "                                             gocam       title  \\\n",
       "89  http://model.geneontology.org/60ad85f700000058  Atf2 mouse   \n",
       "\n",
       "                                                   ID  \n",
       "89  [http://identifiers.org/mgi/MGI:109349, http:/...  "
      ]
     },
     "execution_count": 10,
     "metadata": {},
     "output_type": "execute_result"
    }
   ],
   "source": [
    "data[data['gocam']=='http://model.geneontology.org/60ad85f700000058']"
   ]
  },
  {
   "cell_type": "code",
   "execution_count": 11,
   "id": "young-duplicate",
   "metadata": {},
   "outputs": [
    {
     "data": {
      "text/plain": [
       "6218"
      ]
     },
     "execution_count": 11,
     "metadata": {},
     "output_type": "execute_result"
    }
   ],
   "source": [
    "#confirming that my conversion worked\n",
    "sum(dist)"
   ]
  },
  {
   "cell_type": "code",
   "execution_count": 12,
   "id": "martial-bookmark",
   "metadata": {
    "scrolled": false
   },
   "outputs": [
    {
     "data": {
      "text/plain": [
       "http://purl.obolibrary.org/obo/go/extensions    3076\n",
       "http://identifiers.org/mgi                       301\n",
       "http://identifiers.org/uniprot                   265\n",
       "https://www.ebi.ac.uk/complexportal/complex        2\n",
       "http://purl.obolibrary.org/obo                     2\n",
       "http://rnacentral.org/rna                          1\n",
       "Name: ID, dtype: int64"
      ]
     },
     "execution_count": 12,
     "metadata": {},
     "output_type": "execute_result"
    }
   ],
   "source": [
    "# NUMBER OF GENES OF EACH IDENTIFIER TYPE ACROSS GOCAMS\n",
    "d = dataAsMatrix\n",
    "d = d[['ID']].drop_duplicates()\n",
    "d.reset_index(drop=True, inplace=True)\n",
    "d['ID']= d['ID'].apply(lambda x: x.rsplit(\"/\",1)[0])\n",
    "d.ID.value_counts()"
   ]
  },
  {
   "cell_type": "code",
   "execution_count": 13,
   "id": "human-botswana",
   "metadata": {
    "scrolled": true
   },
   "outputs": [
    {
     "data": {
      "text/plain": [
       "http://purl.obolibrary.org/obo/go/extensions    5315\n",
       "http://identifiers.org/mgi                       518\n",
       "http://identifiers.org/uniprot                   371\n",
       "https://www.ebi.ac.uk/complexportal/complex        2\n",
       "http://purl.obolibrary.org/obo                     2\n",
       "http://rnacentral.org/rna                          1\n",
       "Name: ID, dtype: int64"
      ]
     },
     "execution_count": 13,
     "metadata": {},
     "output_type": "execute_result"
    }
   ],
   "source": [
    "# NUMBER OF *OCCURENCES* OF GENES WITH EACH IDENFIFIER TYPE ACROSS GOCAMS\n",
    "d = dataAsMatrix\n",
    "d = d[['gocam','ID']].drop_duplicates()\n",
    "d.reset_index(drop=True, inplace=True)\n",
    "#d = d[d['ID'].apply(lambda x: x.split(\"/\")[-2])=='uniprot']\n",
    "d['ID']= d['ID'].apply(lambda x: x.rsplit(\"/\",1)[0])\n",
    "d.ID.value_counts()"
   ]
  },
  {
   "cell_type": "code",
   "execution_count": 20,
   "id": "proved-ceiling",
   "metadata": {},
   "outputs": [
    {
     "data": {
      "text/html": [
       "<div>\n",
       "<style scoped>\n",
       "    .dataframe tbody tr th:only-of-type {\n",
       "        vertical-align: middle;\n",
       "    }\n",
       "\n",
       "    .dataframe tbody tr th {\n",
       "        vertical-align: top;\n",
       "    }\n",
       "\n",
       "    .dataframe thead th {\n",
       "        text-align: right;\n",
       "    }\n",
       "</style>\n",
       "<table border=\"1\" class=\"dataframe\">\n",
       "  <thead>\n",
       "    <tr style=\"text-align: right;\">\n",
       "      <th></th>\n",
       "      <th>gocam</th>\n",
       "      <th>ID</th>\n",
       "    </tr>\n",
       "  </thead>\n",
       "  <tbody>\n",
       "    <tr>\n",
       "      <th>0</th>\n",
       "      <td>http://model.geneontology.org/61e0e55600000239</td>\n",
       "      <td>http://identifiers.org/mgi/MGI:98724</td>\n",
       "    </tr>\n",
       "    <tr>\n",
       "      <th>1</th>\n",
       "      <td>http://model.geneontology.org/61e0e55600000239</td>\n",
       "      <td>http://identifiers.org/mgi/MGI:108088</td>\n",
       "    </tr>\n",
       "    <tr>\n",
       "      <th>2</th>\n",
       "      <td>http://model.geneontology.org/61e0e55600000239</td>\n",
       "      <td>http://identifiers.org/mgi/MGI:95294</td>\n",
       "    </tr>\n",
       "    <tr>\n",
       "      <th>3</th>\n",
       "      <td>http://model.geneontology.org/61e0e55600000239</td>\n",
       "      <td>http://identifiers.org/mgi/MGI:95805</td>\n",
       "    </tr>\n",
       "    <tr>\n",
       "      <th>4</th>\n",
       "      <td>http://model.geneontology.org/61e0e55600000239</td>\n",
       "      <td>http://identifiers.org/mgi/MGI:99511</td>\n",
       "    </tr>\n",
       "    <tr>\n",
       "      <th>...</th>\n",
       "      <td>...</td>\n",
       "      <td>...</td>\n",
       "    </tr>\n",
       "    <tr>\n",
       "      <th>6204</th>\n",
       "      <td>http://model.geneontology.org/5970219a00000013</td>\n",
       "      <td>http://identifiers.org/uniprot/O95427</td>\n",
       "    </tr>\n",
       "    <tr>\n",
       "      <th>6205</th>\n",
       "      <td>http://model.geneontology.org/5970219a00000013</td>\n",
       "      <td>http://identifiers.org/uniprot/Q9NUD9</td>\n",
       "    </tr>\n",
       "    <tr>\n",
       "      <th>6206</th>\n",
       "      <td>http://model.geneontology.org/5970219a00000013</td>\n",
       "      <td>http://identifiers.org/uniprot/Q92521</td>\n",
       "    </tr>\n",
       "    <tr>\n",
       "      <th>6207</th>\n",
       "      <td>http://model.geneontology.org/5970219a00000013</td>\n",
       "      <td>http://purl.obolibrary.org/obo/GO_0032991</td>\n",
       "    </tr>\n",
       "    <tr>\n",
       "      <th>6208</th>\n",
       "      <td>http://model.geneontology.org/5970219a00000013</td>\n",
       "      <td>http://identifiers.org/uniprot/Q86VD9</td>\n",
       "    </tr>\n",
       "  </tbody>\n",
       "</table>\n",
       "<p>6209 rows × 2 columns</p>\n",
       "</div>"
      ],
      "text/plain": [
       "                                               gocam  \\\n",
       "0     http://model.geneontology.org/61e0e55600000239   \n",
       "1     http://model.geneontology.org/61e0e55600000239   \n",
       "2     http://model.geneontology.org/61e0e55600000239   \n",
       "3     http://model.geneontology.org/61e0e55600000239   \n",
       "4     http://model.geneontology.org/61e0e55600000239   \n",
       "...                                              ...   \n",
       "6204  http://model.geneontology.org/5970219a00000013   \n",
       "6205  http://model.geneontology.org/5970219a00000013   \n",
       "6206  http://model.geneontology.org/5970219a00000013   \n",
       "6207  http://model.geneontology.org/5970219a00000013   \n",
       "6208  http://model.geneontology.org/5970219a00000013   \n",
       "\n",
       "                                             ID  \n",
       "0          http://identifiers.org/mgi/MGI:98724  \n",
       "1         http://identifiers.org/mgi/MGI:108088  \n",
       "2          http://identifiers.org/mgi/MGI:95294  \n",
       "3          http://identifiers.org/mgi/MGI:95805  \n",
       "4          http://identifiers.org/mgi/MGI:99511  \n",
       "...                                         ...  \n",
       "6204      http://identifiers.org/uniprot/O95427  \n",
       "6205      http://identifiers.org/uniprot/Q9NUD9  \n",
       "6206      http://identifiers.org/uniprot/Q92521  \n",
       "6207  http://purl.obolibrary.org/obo/GO_0032991  \n",
       "6208      http://identifiers.org/uniprot/Q86VD9  \n",
       "\n",
       "[6209 rows x 2 columns]"
      ]
     },
     "execution_count": 20,
     "metadata": {},
     "output_type": "execute_result"
    }
   ],
   "source": [
    "data_cleaned = dataAsMatrix\n",
    "data_cleaned = data_cleaned[['gocam','ID']].drop_duplicates()\n",
    "data_cleaned.reset_index(drop=True, inplace=True)\n",
    "data_cleaned"
   ]
  },
  {
   "cell_type": "code",
   "execution_count": 21,
   "id": "adjusted-residence",
   "metadata": {},
   "outputs": [
    {
     "name": "stderr",
     "output_type": "stream",
     "text": [
      "/Library/Frameworks/Python.framework/Versions/3.7/lib/python3.7/site-packages/ipykernel_launcher.py:3: SettingWithCopyWarning: \n",
      "A value is trying to be set on a copy of a slice from a DataFrame.\n",
      "Try using .loc[row_indexer,col_indexer] = value instead\n",
      "\n",
      "See the caveats in the documentation: https://pandas.pydata.org/pandas-docs/stable/user_guide/indexing.html#returning-a-view-versus-a-copy\n",
      "  This is separate from the ipykernel package so we can avoid doing imports until\n"
     ]
    },
    {
     "data": {
      "text/html": [
       "<div>\n",
       "<style scoped>\n",
       "    .dataframe tbody tr th:only-of-type {\n",
       "        vertical-align: middle;\n",
       "    }\n",
       "\n",
       "    .dataframe tbody tr th {\n",
       "        vertical-align: top;\n",
       "    }\n",
       "\n",
       "    .dataframe thead th {\n",
       "        text-align: right;\n",
       "    }\n",
       "</style>\n",
       "<table border=\"1\" class=\"dataframe\">\n",
       "  <thead>\n",
       "    <tr style=\"text-align: right;\">\n",
       "      <th></th>\n",
       "      <th>gocam</th>\n",
       "      <th>ID</th>\n",
       "    </tr>\n",
       "  </thead>\n",
       "  <tbody>\n",
       "    <tr>\n",
       "      <th>186</th>\n",
       "      <td>http://model.geneontology.org/627d95ee00000024</td>\n",
       "      <td>P29597</td>\n",
       "    </tr>\n",
       "    <tr>\n",
       "      <th>187</th>\n",
       "      <td>http://model.geneontology.org/627d95ee00000024</td>\n",
       "      <td>Q14765</td>\n",
       "    </tr>\n",
       "    <tr>\n",
       "      <th>188</th>\n",
       "      <td>http://model.geneontology.org/627d95ee00000024</td>\n",
       "      <td>P29459</td>\n",
       "    </tr>\n",
       "    <tr>\n",
       "      <th>189</th>\n",
       "      <td>http://model.geneontology.org/627d95ee00000024</td>\n",
       "      <td>P29460</td>\n",
       "    </tr>\n",
       "    <tr>\n",
       "      <th>190</th>\n",
       "      <td>http://model.geneontology.org/627d95ee00000024</td>\n",
       "      <td>P42701</td>\n",
       "    </tr>\n",
       "    <tr>\n",
       "      <th>...</th>\n",
       "      <td>...</td>\n",
       "      <td>...</td>\n",
       "    </tr>\n",
       "    <tr>\n",
       "      <th>6203</th>\n",
       "      <td>http://model.geneontology.org/5970219a00000013</td>\n",
       "      <td>Q9H3S5</td>\n",
       "    </tr>\n",
       "    <tr>\n",
       "      <th>6204</th>\n",
       "      <td>http://model.geneontology.org/5970219a00000013</td>\n",
       "      <td>O95427</td>\n",
       "    </tr>\n",
       "    <tr>\n",
       "      <th>6205</th>\n",
       "      <td>http://model.geneontology.org/5970219a00000013</td>\n",
       "      <td>Q9NUD9</td>\n",
       "    </tr>\n",
       "    <tr>\n",
       "      <th>6206</th>\n",
       "      <td>http://model.geneontology.org/5970219a00000013</td>\n",
       "      <td>Q92521</td>\n",
       "    </tr>\n",
       "    <tr>\n",
       "      <th>6208</th>\n",
       "      <td>http://model.geneontology.org/5970219a00000013</td>\n",
       "      <td>Q86VD9</td>\n",
       "    </tr>\n",
       "  </tbody>\n",
       "</table>\n",
       "<p>371 rows × 2 columns</p>\n",
       "</div>"
      ],
      "text/plain": [
       "                                               gocam      ID\n",
       "186   http://model.geneontology.org/627d95ee00000024  P29597\n",
       "187   http://model.geneontology.org/627d95ee00000024  Q14765\n",
       "188   http://model.geneontology.org/627d95ee00000024  P29459\n",
       "189   http://model.geneontology.org/627d95ee00000024  P29460\n",
       "190   http://model.geneontology.org/627d95ee00000024  P42701\n",
       "...                                              ...     ...\n",
       "6203  http://model.geneontology.org/5970219a00000013  Q9H3S5\n",
       "6204  http://model.geneontology.org/5970219a00000013  O95427\n",
       "6205  http://model.geneontology.org/5970219a00000013  Q9NUD9\n",
       "6206  http://model.geneontology.org/5970219a00000013  Q92521\n",
       "6208  http://model.geneontology.org/5970219a00000013  Q86VD9\n",
       "\n",
       "[371 rows x 2 columns]"
      ]
     },
     "execution_count": 21,
     "metadata": {},
     "output_type": "execute_result"
    }
   ],
   "source": [
    "test= data_cleaned\n",
    "test = test[test['ID'].apply(lambda x: x.split(\"/\")[-2])=='uniprot']\n",
    "test['ID']= test['ID'].apply(lambda x: x.split(\"/\")[-1])\n",
    "test"
   ]
  },
  {
   "cell_type": "code",
   "execution_count": 22,
   "id": "impaired-shape",
   "metadata": {},
   "outputs": [
    {
     "data": {
      "text/html": [
       "<div>\n",
       "<style scoped>\n",
       "    .dataframe tbody tr th:only-of-type {\n",
       "        vertical-align: middle;\n",
       "    }\n",
       "\n",
       "    .dataframe tbody tr th {\n",
       "        vertical-align: top;\n",
       "    }\n",
       "\n",
       "    .dataframe thead th {\n",
       "        text-align: right;\n",
       "    }\n",
       "</style>\n",
       "<table border=\"1\" class=\"dataframe\">\n",
       "  <thead>\n",
       "    <tr style=\"text-align: right;\">\n",
       "      <th></th>\n",
       "      <th>gocam</th>\n",
       "      <th>ID</th>\n",
       "    </tr>\n",
       "  </thead>\n",
       "  <tbody>\n",
       "    <tr>\n",
       "      <th>0</th>\n",
       "      <td>http://model.geneontology.org/61e0e55600000239</td>\n",
       "      <td>http://identifiers.org/mgi/MGI:98724</td>\n",
       "    </tr>\n",
       "    <tr>\n",
       "      <th>1</th>\n",
       "      <td>http://model.geneontology.org/61e0e55600000239</td>\n",
       "      <td>http://identifiers.org/mgi/MGI:108088</td>\n",
       "    </tr>\n",
       "    <tr>\n",
       "      <th>2</th>\n",
       "      <td>http://model.geneontology.org/61e0e55600000239</td>\n",
       "      <td>http://identifiers.org/mgi/MGI:95294</td>\n",
       "    </tr>\n",
       "    <tr>\n",
       "      <th>3</th>\n",
       "      <td>http://model.geneontology.org/61e0e55600000239</td>\n",
       "      <td>http://identifiers.org/mgi/MGI:95805</td>\n",
       "    </tr>\n",
       "    <tr>\n",
       "      <th>4</th>\n",
       "      <td>http://model.geneontology.org/61e0e55600000239</td>\n",
       "      <td>http://identifiers.org/mgi/MGI:99511</td>\n",
       "    </tr>\n",
       "    <tr>\n",
       "      <th>...</th>\n",
       "      <td>...</td>\n",
       "      <td>...</td>\n",
       "    </tr>\n",
       "    <tr>\n",
       "      <th>6204</th>\n",
       "      <td>http://model.geneontology.org/5970219a00000013</td>\n",
       "      <td>http://identifiers.org/uniprot/O95427</td>\n",
       "    </tr>\n",
       "    <tr>\n",
       "      <th>6205</th>\n",
       "      <td>http://model.geneontology.org/5970219a00000013</td>\n",
       "      <td>http://identifiers.org/uniprot/Q9NUD9</td>\n",
       "    </tr>\n",
       "    <tr>\n",
       "      <th>6206</th>\n",
       "      <td>http://model.geneontology.org/5970219a00000013</td>\n",
       "      <td>http://identifiers.org/uniprot/Q92521</td>\n",
       "    </tr>\n",
       "    <tr>\n",
       "      <th>6207</th>\n",
       "      <td>http://model.geneontology.org/5970219a00000013</td>\n",
       "      <td>http://purl.obolibrary.org/obo/GO_0032991</td>\n",
       "    </tr>\n",
       "    <tr>\n",
       "      <th>6208</th>\n",
       "      <td>http://model.geneontology.org/5970219a00000013</td>\n",
       "      <td>http://identifiers.org/uniprot/Q86VD9</td>\n",
       "    </tr>\n",
       "  </tbody>\n",
       "</table>\n",
       "<p>6209 rows × 2 columns</p>\n",
       "</div>"
      ],
      "text/plain": [
       "                                               gocam  \\\n",
       "0     http://model.geneontology.org/61e0e55600000239   \n",
       "1     http://model.geneontology.org/61e0e55600000239   \n",
       "2     http://model.geneontology.org/61e0e55600000239   \n",
       "3     http://model.geneontology.org/61e0e55600000239   \n",
       "4     http://model.geneontology.org/61e0e55600000239   \n",
       "...                                              ...   \n",
       "6204  http://model.geneontology.org/5970219a00000013   \n",
       "6205  http://model.geneontology.org/5970219a00000013   \n",
       "6206  http://model.geneontology.org/5970219a00000013   \n",
       "6207  http://model.geneontology.org/5970219a00000013   \n",
       "6208  http://model.geneontology.org/5970219a00000013   \n",
       "\n",
       "                                             ID  \n",
       "0          http://identifiers.org/mgi/MGI:98724  \n",
       "1         http://identifiers.org/mgi/MGI:108088  \n",
       "2          http://identifiers.org/mgi/MGI:95294  \n",
       "3          http://identifiers.org/mgi/MGI:95805  \n",
       "4          http://identifiers.org/mgi/MGI:99511  \n",
       "...                                         ...  \n",
       "6204      http://identifiers.org/uniprot/O95427  \n",
       "6205      http://identifiers.org/uniprot/Q9NUD9  \n",
       "6206      http://identifiers.org/uniprot/Q92521  \n",
       "6207  http://purl.obolibrary.org/obo/GO_0032991  \n",
       "6208      http://identifiers.org/uniprot/Q86VD9  \n",
       "\n",
       "[6209 rows x 2 columns]"
      ]
     },
     "execution_count": 22,
     "metadata": {},
     "output_type": "execute_result"
    }
   ],
   "source": [
    "data_cleaned #= test"
   ]
  },
  {
   "cell_type": "code",
   "execution_count": 23,
   "id": "right-andrew",
   "metadata": {},
   "outputs": [],
   "source": [
    "def build_dict (data): #data= dataframe with gocam IDs and gene identifiers as columns\n",
    "    Dict = {}\n",
    "    for index, row in data.iterrows():\n",
    "        gene = row['ID']\n",
    "        gocam = row['gocam']\n",
    "        if (gene in Dict) == False:\n",
    "            Dict[gene]={gocam}\n",
    "        else:\n",
    "            prev = Dict.get(gene)\n",
    "            prev.add(gocam)\n",
    "            Dict[gene] = prev\n",
    "    return Dict"
   ]
  },
  {
   "cell_type": "code",
   "execution_count": 29,
   "id": "exterior-arabic",
   "metadata": {},
   "outputs": [
    {
     "data": {
      "text/plain": [
       "([<matplotlib.axis.XTick at 0x7fadf1ee8590>,\n",
       "  <matplotlib.axis.XTick at 0x7fadf1edc190>,\n",
       "  <matplotlib.axis.XTick at 0x7fadf1ee8d90>,\n",
       "  <matplotlib.axis.XTick at 0x7fadf1e3b6d0>,\n",
       "  <matplotlib.axis.XTick at 0x7fadf1e3bc10>,\n",
       "  <matplotlib.axis.XTick at 0x7fadf1e51190>,\n",
       "  <matplotlib.axis.XTick at 0x7fadf1e51710>,\n",
       "  <matplotlib.axis.XTick at 0x7fadf1e51c50>,\n",
       "  <matplotlib.axis.XTick at 0x7fadf1e519d0>,\n",
       "  <matplotlib.axis.XTick at 0x7fadf1e51f10>,\n",
       "  <matplotlib.axis.XTick at 0x7fadf1e46490>,\n",
       "  <matplotlib.axis.XTick at 0x7fadf1e469d0>,\n",
       "  <matplotlib.axis.XTick at 0x7fadf1e46f10>,\n",
       "  <matplotlib.axis.XTick at 0x7fadf1e3f490>,\n",
       "  <matplotlib.axis.XTick at 0x7fadf1e3f9d0>],\n",
       " [Text(0, 0, ''),\n",
       "  Text(0, 0, ''),\n",
       "  Text(0, 0, ''),\n",
       "  Text(0, 0, ''),\n",
       "  Text(0, 0, ''),\n",
       "  Text(0, 0, ''),\n",
       "  Text(0, 0, ''),\n",
       "  Text(0, 0, ''),\n",
       "  Text(0, 0, ''),\n",
       "  Text(0, 0, ''),\n",
       "  Text(0, 0, ''),\n",
       "  Text(0, 0, ''),\n",
       "  Text(0, 0, ''),\n",
       "  Text(0, 0, ''),\n",
       "  Text(0, 0, '')])"
      ]
     },
     "execution_count": 29,
     "metadata": {},
     "output_type": "execute_result"
    },
    {
     "data": {
      "image/png": "[encoded data removed]",
      "text/plain": [
       "<Figure size 432x288 with 1 Axes>"
      ]
     },
     "metadata": {
      "needs_background": "light"
     },
     "output_type": "display_data"
    }
   ],
   "source": [
    "D = build_dict(data_cleaned)\n",
    "x = []\n",
    "for key in D:\n",
    "    num_gocams = len(D.get(key))\n",
    "    x.append(num_gocams)\n",
    "plt.hist(x, bins=15, range=(0,15))\n",
    "plt.xlabel(\"Number of GO CAMs\")\n",
    "plt.ylabel(\"Number of Genes\")\n",
    "plt.title(\"Number of GO CAMs each gene is involved in\")\n",
    "plt.xticks(np.arange(0,15))"
   ]
  },
  {
   "cell_type": "code",
   "execution_count": 24,
   "id": "authentic-explorer",
   "metadata": {},
   "outputs": [],
   "source": [
    "def get_sizes (data): #data= dataframe with gocam IDs and gene identifiers as columns\n",
    "    return data['gocam'].value_counts()\n",
    "    "
   ]
  },
  {
   "cell_type": "code",
   "execution_count": 25,
   "id": "completed-process",
   "metadata": {},
   "outputs": [],
   "source": [
    "def filter_gene_list(gene_list, Dict):\n",
    "    filtered_gene_list = []\n",
    "    for gene in gene_list:\n",
    "        if gene in Dict:\n",
    "            filtered_gene_list.append(gene)\n",
    "    return filtered_gene_list"
   ]
  },
  {
   "cell_type": "code",
   "execution_count": 26,
   "id": "thermal-basic",
   "metadata": {},
   "outputs": [],
   "source": [
    "def count_genes(gene_list, Dict):\n",
    "    gocam_counts = {} #key=gocam, value=list of genes in gocam that are also in the user's list\n",
    "    for g in gene_list: \n",
    "            gocams = Dict.get(g)\n",
    "            for gocam in gocams:\n",
    "                if (gocam in gocam_counts) == False:\n",
    "                    gocam_counts[gocam]=[g]\n",
    "                else:\n",
    "                    prev = gocam_counts.get(gocam)\n",
    "                    prev.append(g)\n",
    "                    gocam_counts[gocam] = prev\n",
    "    return gocam_counts"
   ]
  },
  {
   "cell_type": "code",
   "execution_count": 27,
   "id": "secondary-california",
   "metadata": {},
   "outputs": [],
   "source": [
    "# APPLY BENJAMINI HOCHBERG CORRECTION in correct_pval_and_format()\n",
    "def hgt(counts, gocam_sizes, alpha, gene_list_size, background_gene_list_size):\n",
    "    results = []\n",
    "    for gocam, gene_list in counts.items():\n",
    "        count = len(gene_list) \n",
    "        gocam_size = gocam_sizes[gocam]\n",
    "        pvalue = hypergeom.sf(count-1, background_gene_list_size,  gocam_size, gene_list_size) \n",
    "        if pvalue < alpha:\n",
    "            r = (gocam, pvalue, count, gocam_size, gene_list )\n",
    "            results.append(r)\n",
    "    return results"
   ]
  },
  {
   "cell_type": "code",
   "execution_count": 28,
   "id": "binding-placement",
   "metadata": {},
   "outputs": [],
   "source": [
    "def fdr(rank,num_tests,alpha):\n",
    "    return (rank*alpha/num_tests)"
   ]
  },
  {
   "cell_type": "code",
   "execution_count": 29,
   "id": "generic-wholesale",
   "metadata": {},
   "outputs": [],
   "source": [
    "#Benjamini Hochberg correction\n",
    "def correct_pval_and_format(enriched_gocams, background_num_gocams):\n",
    "    df = pd.DataFrame(enriched_gocams, columns =['Name', 'pval (uncorrected)', '# genes in list','#genes in gocam','shared genes in gocam'])\n",
    "    df.sort_values('pval (uncorrected)',inplace=True)\n",
    "    df.reset_index(drop=True, inplace=True)\n",
    "    df['FDR_val'] = (df.index+1)*.05/background_num_gocams\n",
    "    df['Less_than'] = (df['pval (uncorrected)'] < df['FDR_val'])\n",
    "    index = df.Less_than.where(df.Less_than==True).last_valid_index()\n",
    "    df_significant = df.loc[0:index]\n",
    "    df_display = df_significant[['Name','pval (uncorrected)', '# genes in list', '#genes in gocam','shared genes in gocam']]\n",
    "    return(df_display)"
   ]
  },
  {
   "cell_type": "code",
   "execution_count": 30,
   "id": "phantom-academy",
   "metadata": {},
   "outputs": [],
   "source": [
    "#as of now, Dict can only contain 1 instance of each gene per gocam (no duplicates)\n",
    "#SURVIVAL FUNCTION, NOT PMF\n",
    "def enrich(gene_list,gocam_sizes, Dict):\n",
    "    background_gene_list_size = len(Dict)\n",
    "    gene_list_filtered = filter_gene_list(gene_list, Dict) #need to clean gene_list to only include genes in the gocam\n",
    "    gene_list_size = len(gene_list_filtered) #the size of the user's gene list AFTER filtering\n",
    "    counts = count_genes(gene_list_filtered, Dict)\n",
    "    enriched_gocams = hgt(counts, gocam_sizes, .05, gene_list_size, background_gene_list_size)\n",
    "    background_num_gocams = len(gocam_sizes)\n",
    "    df_display = correct_pval_and_format(enriched_gocams, background_num_gocams)\n",
    "    return df_display\n",
    "    \n",
    "            \n",
    "        \n",
    "        \n",
    "        \n",
    "        "
   ]
  },
  {
   "cell_type": "code",
   "execution_count": 44,
   "id": "tutorial-cosmetic",
   "metadata": {},
   "outputs": [
    {
     "data": {
      "text/html": [
       "<div>\n",
       "<style scoped>\n",
       "    .dataframe tbody tr th:only-of-type {\n",
       "        vertical-align: middle;\n",
       "    }\n",
       "\n",
       "    .dataframe tbody tr th {\n",
       "        vertical-align: top;\n",
       "    }\n",
       "\n",
       "    .dataframe thead th {\n",
       "        text-align: right;\n",
       "    }\n",
       "</style>\n",
       "<table border=\"1\" class=\"dataframe\">\n",
       "  <thead>\n",
       "    <tr style=\"text-align: right;\">\n",
       "      <th></th>\n",
       "      <th>Name</th>\n",
       "      <th>pval (uncorrected)</th>\n",
       "      <th># genes in list</th>\n",
       "      <th>#genes in gocam</th>\n",
       "      <th>shared genes in gocam</th>\n",
       "    </tr>\n",
       "  </thead>\n",
       "  <tbody>\n",
       "    <tr>\n",
       "      <th>0</th>\n",
       "      <td>http://model.geneontology.org/5f46c3b700001570</td>\n",
       "      <td>0.019149</td>\n",
       "      <td>2</td>\n",
       "      <td>4</td>\n",
       "      <td>[Q92793, Q09472]</td>\n",
       "    </tr>\n",
       "    <tr>\n",
       "      <th>1</th>\n",
       "      <td>http://model.geneontology.org/62900b6400001630</td>\n",
       "      <td>0.019149</td>\n",
       "      <td>2</td>\n",
       "      <td>4</td>\n",
       "      <td>[P35222, P60484]</td>\n",
       "    </tr>\n",
       "  </tbody>\n",
       "</table>\n",
       "</div>"
      ],
      "text/plain": [
       "                                             Name  pval (uncorrected)  \\\n",
       "0  http://model.geneontology.org/5f46c3b700001570            0.019149   \n",
       "1  http://model.geneontology.org/62900b6400001630            0.019149   \n",
       "\n",
       "   # genes in list  #genes in gocam shared genes in gocam  \n",
       "0                2                4      [Q92793, Q09472]  \n",
       "1                2                4      [P35222, P60484]  "
      ]
     },
     "execution_count": 44,
     "metadata": {},
     "output_type": "execute_result"
    }
   ],
   "source": [
    "test_set = pd.read_csv(\"~/Desktop/GOCAM/cancer_genes_test_set.tsv\", sep=\"\\t\")\n",
    "test_set = test_set['Entry'].tolist()\n",
    "gocam_sizes = get_sizes(data_cleaned)\n",
    "Dict = build_dict(data_cleaned)\n",
    "\n",
    "enrich(test_set, gocam_sizes, Dict)\n"
   ]
  },
  {
   "cell_type": "code",
   "execution_count": 43,
   "id": "manufactured-martin",
   "metadata": {},
   "outputs": [
    {
     "ename": "FileNotFoundError",
     "evalue": "[Errno 2] No such file or directory: '/Users/nicholasmarkarian/Desktop/gastric_cancer.tsv'",
     "output_type": "error",
     "traceback": [
      "\u001b[0;31m---------------------------------------------------------------------------\u001b[0m",
      "\u001b[0;31mFileNotFoundError\u001b[0m                         Traceback (most recent call last)",
      "\u001b[0;32m<ipython-input-43-3e5816e9072b>\u001b[0m in \u001b[0;36m<module>\u001b[0;34m\u001b[0m\n\u001b[0;32m----> 1\u001b[0;31m \u001b[0mgastric_test_set\u001b[0m \u001b[0;34m=\u001b[0m \u001b[0mpd\u001b[0m\u001b[0;34m.\u001b[0m\u001b[0mread_csv\u001b[0m\u001b[0;34m(\u001b[0m\u001b[0;34m\"~/Desktop/gastric_cancer.tsv\"\u001b[0m\u001b[0;34m,\u001b[0m \u001b[0msep\u001b[0m\u001b[0;34m=\u001b[0m\u001b[0;34m\"\\t\"\u001b[0m\u001b[0;34m)\u001b[0m\u001b[0;34m\u001b[0m\u001b[0;34m\u001b[0m\u001b[0m\n\u001b[0m\u001b[1;32m      2\u001b[0m \u001b[0mgastric_test_set\u001b[0m \u001b[0;34m=\u001b[0m \u001b[0mgastric_test_set\u001b[0m\u001b[0;34m[\u001b[0m\u001b[0;34m'Entry'\u001b[0m\u001b[0;34m]\u001b[0m\u001b[0;34m.\u001b[0m\u001b[0mtolist\u001b[0m\u001b[0;34m(\u001b[0m\u001b[0;34m)\u001b[0m\u001b[0;34m\u001b[0m\u001b[0;34m\u001b[0m\u001b[0m\n\u001b[1;32m      3\u001b[0m \u001b[0;34m\u001b[0m\u001b[0m\n\u001b[1;32m      4\u001b[0m \u001b[0;34m\u001b[0m\u001b[0m\n\u001b[1;32m      5\u001b[0m \u001b[0menrich\u001b[0m\u001b[0;34m(\u001b[0m\u001b[0mgastric_test_set\u001b[0m\u001b[0;34m,\u001b[0m \u001b[0mgocam_sizes\u001b[0m\u001b[0;34m,\u001b[0m \u001b[0mDict\u001b[0m\u001b[0;34m)\u001b[0m\u001b[0;34m\u001b[0m\u001b[0;34m\u001b[0m\u001b[0m\n",
      "\u001b[0;32m/Library/Frameworks/Python.framework/Versions/3.7/lib/python3.7/site-packages/pandas/io/parsers.py\u001b[0m in \u001b[0;36mread_csv\u001b[0;34m(filepath_or_buffer, sep, delimiter, header, names, index_col, usecols, squeeze, prefix, mangle_dupe_cols, dtype, engine, converters, true_values, false_values, skipinitialspace, skiprows, skipfooter, nrows, na_values, keep_default_na, na_filter, verbose, skip_blank_lines, parse_dates, infer_datetime_format, keep_date_col, date_parser, dayfirst, cache_dates, iterator, chunksize, compression, thousands, decimal, lineterminator, quotechar, quoting, doublequote, escapechar, comment, encoding, dialect, error_bad_lines, warn_bad_lines, delim_whitespace, low_memory, memory_map, float_precision, storage_options)\u001b[0m\n\u001b[1;32m    608\u001b[0m     \u001b[0mkwds\u001b[0m\u001b[0;34m.\u001b[0m\u001b[0mupdate\u001b[0m\u001b[0;34m(\u001b[0m\u001b[0mkwds_defaults\u001b[0m\u001b[0;34m)\u001b[0m\u001b[0;34m\u001b[0m\u001b[0;34m\u001b[0m\u001b[0m\n\u001b[1;32m    609\u001b[0m \u001b[0;34m\u001b[0m\u001b[0m\n\u001b[0;32m--> 610\u001b[0;31m     \u001b[0;32mreturn\u001b[0m \u001b[0m_read\u001b[0m\u001b[0;34m(\u001b[0m\u001b[0mfilepath_or_buffer\u001b[0m\u001b[0;34m,\u001b[0m \u001b[0mkwds\u001b[0m\u001b[0;34m)\u001b[0m\u001b[0;34m\u001b[0m\u001b[0;34m\u001b[0m\u001b[0m\n\u001b[0m\u001b[1;32m    611\u001b[0m \u001b[0;34m\u001b[0m\u001b[0m\n\u001b[1;32m    612\u001b[0m \u001b[0;34m\u001b[0m\u001b[0m\n",
      "\u001b[0;32m/Library/Frameworks/Python.framework/Versions/3.7/lib/python3.7/site-packages/pandas/io/parsers.py\u001b[0m in \u001b[0;36m_read\u001b[0;34m(filepath_or_buffer, kwds)\u001b[0m\n\u001b[1;32m    460\u001b[0m \u001b[0;34m\u001b[0m\u001b[0m\n\u001b[1;32m    461\u001b[0m     \u001b[0;31m# Create the parser.\u001b[0m\u001b[0;34m\u001b[0m\u001b[0;34m\u001b[0m\u001b[0;34m\u001b[0m\u001b[0m\n\u001b[0;32m--> 462\u001b[0;31m     \u001b[0mparser\u001b[0m \u001b[0;34m=\u001b[0m \u001b[0mTextFileReader\u001b[0m\u001b[0;34m(\u001b[0m\u001b[0mfilepath_or_buffer\u001b[0m\u001b[0;34m,\u001b[0m \u001b[0;34m**\u001b[0m\u001b[0mkwds\u001b[0m\u001b[0;34m)\u001b[0m\u001b[0;34m\u001b[0m\u001b[0;34m\u001b[0m\u001b[0m\n\u001b[0m\u001b[1;32m    463\u001b[0m \u001b[0;34m\u001b[0m\u001b[0m\n\u001b[1;32m    464\u001b[0m     \u001b[0;32mif\u001b[0m \u001b[0mchunksize\u001b[0m \u001b[0;32mor\u001b[0m \u001b[0miterator\u001b[0m\u001b[0;34m:\u001b[0m\u001b[0;34m\u001b[0m\u001b[0;34m\u001b[0m\u001b[0m\n",
      "\u001b[0;32m/Library/Frameworks/Python.framework/Versions/3.7/lib/python3.7/site-packages/pandas/io/parsers.py\u001b[0m in \u001b[0;36m__init__\u001b[0;34m(self, f, engine, **kwds)\u001b[0m\n\u001b[1;32m    817\u001b[0m             \u001b[0mself\u001b[0m\u001b[0;34m.\u001b[0m\u001b[0moptions\u001b[0m\u001b[0;34m[\u001b[0m\u001b[0;34m\"has_index_names\"\u001b[0m\u001b[0;34m]\u001b[0m \u001b[0;34m=\u001b[0m \u001b[0mkwds\u001b[0m\u001b[0;34m[\u001b[0m\u001b[0;34m\"has_index_names\"\u001b[0m\u001b[0;34m]\u001b[0m\u001b[0;34m\u001b[0m\u001b[0;34m\u001b[0m\u001b[0m\n\u001b[1;32m    818\u001b[0m \u001b[0;34m\u001b[0m\u001b[0m\n\u001b[0;32m--> 819\u001b[0;31m         \u001b[0mself\u001b[0m\u001b[0;34m.\u001b[0m\u001b[0m_engine\u001b[0m \u001b[0;34m=\u001b[0m \u001b[0mself\u001b[0m\u001b[0;34m.\u001b[0m\u001b[0m_make_engine\u001b[0m\u001b[0;34m(\u001b[0m\u001b[0mself\u001b[0m\u001b[0;34m.\u001b[0m\u001b[0mengine\u001b[0m\u001b[0;34m)\u001b[0m\u001b[0;34m\u001b[0m\u001b[0;34m\u001b[0m\u001b[0m\n\u001b[0m\u001b[1;32m    820\u001b[0m \u001b[0;34m\u001b[0m\u001b[0m\n\u001b[1;32m    821\u001b[0m     \u001b[0;32mdef\u001b[0m \u001b[0mclose\u001b[0m\u001b[0;34m(\u001b[0m\u001b[0mself\u001b[0m\u001b[0;34m)\u001b[0m\u001b[0;34m:\u001b[0m\u001b[0;34m\u001b[0m\u001b[0;34m\u001b[0m\u001b[0m\n",
      "\u001b[0;32m/Library/Frameworks/Python.framework/Versions/3.7/lib/python3.7/site-packages/pandas/io/parsers.py\u001b[0m in \u001b[0;36m_make_engine\u001b[0;34m(self, engine)\u001b[0m\n\u001b[1;32m   1048\u001b[0m             )\n\u001b[1;32m   1049\u001b[0m         \u001b[0;31m# error: Too many arguments for \"ParserBase\"\u001b[0m\u001b[0;34m\u001b[0m\u001b[0;34m\u001b[0m\u001b[0;34m\u001b[0m\u001b[0m\n\u001b[0;32m-> 1050\u001b[0;31m         \u001b[0;32mreturn\u001b[0m \u001b[0mmapping\u001b[0m\u001b[0;34m[\u001b[0m\u001b[0mengine\u001b[0m\u001b[0;34m]\u001b[0m\u001b[0;34m(\u001b[0m\u001b[0mself\u001b[0m\u001b[0;34m.\u001b[0m\u001b[0mf\u001b[0m\u001b[0;34m,\u001b[0m \u001b[0;34m**\u001b[0m\u001b[0mself\u001b[0m\u001b[0;34m.\u001b[0m\u001b[0moptions\u001b[0m\u001b[0;34m)\u001b[0m  \u001b[0;31m# type: ignore[call-arg]\u001b[0m\u001b[0;34m\u001b[0m\u001b[0;34m\u001b[0m\u001b[0m\n\u001b[0m\u001b[1;32m   1051\u001b[0m \u001b[0;34m\u001b[0m\u001b[0m\n\u001b[1;32m   1052\u001b[0m     \u001b[0;32mdef\u001b[0m \u001b[0m_failover_to_python\u001b[0m\u001b[0;34m(\u001b[0m\u001b[0mself\u001b[0m\u001b[0;34m)\u001b[0m\u001b[0;34m:\u001b[0m\u001b[0;34m\u001b[0m\u001b[0;34m\u001b[0m\u001b[0m\n",
      "\u001b[0;32m/Library/Frameworks/Python.framework/Versions/3.7/lib/python3.7/site-packages/pandas/io/parsers.py\u001b[0m in \u001b[0;36m__init__\u001b[0;34m(self, src, **kwds)\u001b[0m\n\u001b[1;32m   1865\u001b[0m \u001b[0;34m\u001b[0m\u001b[0m\n\u001b[1;32m   1866\u001b[0m         \u001b[0;31m# open handles\u001b[0m\u001b[0;34m\u001b[0m\u001b[0;34m\u001b[0m\u001b[0;34m\u001b[0m\u001b[0m\n\u001b[0;32m-> 1867\u001b[0;31m         \u001b[0mself\u001b[0m\u001b[0;34m.\u001b[0m\u001b[0m_open_handles\u001b[0m\u001b[0;34m(\u001b[0m\u001b[0msrc\u001b[0m\u001b[0;34m,\u001b[0m \u001b[0mkwds\u001b[0m\u001b[0;34m)\u001b[0m\u001b[0;34m\u001b[0m\u001b[0;34m\u001b[0m\u001b[0m\n\u001b[0m\u001b[1;32m   1868\u001b[0m         \u001b[0;32massert\u001b[0m \u001b[0mself\u001b[0m\u001b[0;34m.\u001b[0m\u001b[0mhandles\u001b[0m \u001b[0;32mis\u001b[0m \u001b[0;32mnot\u001b[0m \u001b[0;32mNone\u001b[0m\u001b[0;34m\u001b[0m\u001b[0;34m\u001b[0m\u001b[0m\n\u001b[1;32m   1869\u001b[0m         \u001b[0;32mfor\u001b[0m \u001b[0mkey\u001b[0m \u001b[0;32min\u001b[0m \u001b[0;34m(\u001b[0m\u001b[0;34m\"storage_options\"\u001b[0m\u001b[0;34m,\u001b[0m \u001b[0;34m\"encoding\"\u001b[0m\u001b[0;34m,\u001b[0m \u001b[0;34m\"memory_map\"\u001b[0m\u001b[0;34m,\u001b[0m \u001b[0;34m\"compression\"\u001b[0m\u001b[0;34m)\u001b[0m\u001b[0;34m:\u001b[0m\u001b[0;34m\u001b[0m\u001b[0;34m\u001b[0m\u001b[0m\n",
      "\u001b[0;32m/Library/Frameworks/Python.framework/Versions/3.7/lib/python3.7/site-packages/pandas/io/parsers.py\u001b[0m in \u001b[0;36m_open_handles\u001b[0;34m(self, src, kwds)\u001b[0m\n\u001b[1;32m   1366\u001b[0m             \u001b[0mcompression\u001b[0m\u001b[0;34m=\u001b[0m\u001b[0mkwds\u001b[0m\u001b[0;34m.\u001b[0m\u001b[0mget\u001b[0m\u001b[0;34m(\u001b[0m\u001b[0;34m\"compression\"\u001b[0m\u001b[0;34m,\u001b[0m \u001b[0;32mNone\u001b[0m\u001b[0;34m)\u001b[0m\u001b[0;34m,\u001b[0m\u001b[0;34m\u001b[0m\u001b[0;34m\u001b[0m\u001b[0m\n\u001b[1;32m   1367\u001b[0m             \u001b[0mmemory_map\u001b[0m\u001b[0;34m=\u001b[0m\u001b[0mkwds\u001b[0m\u001b[0;34m.\u001b[0m\u001b[0mget\u001b[0m\u001b[0;34m(\u001b[0m\u001b[0;34m\"memory_map\"\u001b[0m\u001b[0;34m,\u001b[0m \u001b[0;32mFalse\u001b[0m\u001b[0;34m)\u001b[0m\u001b[0;34m,\u001b[0m\u001b[0;34m\u001b[0m\u001b[0;34m\u001b[0m\u001b[0m\n\u001b[0;32m-> 1368\u001b[0;31m             \u001b[0mstorage_options\u001b[0m\u001b[0;34m=\u001b[0m\u001b[0mkwds\u001b[0m\u001b[0;34m.\u001b[0m\u001b[0mget\u001b[0m\u001b[0;34m(\u001b[0m\u001b[0;34m\"storage_options\"\u001b[0m\u001b[0;34m,\u001b[0m \u001b[0;32mNone\u001b[0m\u001b[0;34m)\u001b[0m\u001b[0;34m,\u001b[0m\u001b[0;34m\u001b[0m\u001b[0;34m\u001b[0m\u001b[0m\n\u001b[0m\u001b[1;32m   1369\u001b[0m         )\n\u001b[1;32m   1370\u001b[0m \u001b[0;34m\u001b[0m\u001b[0m\n",
      "\u001b[0;32m/Library/Frameworks/Python.framework/Versions/3.7/lib/python3.7/site-packages/pandas/io/common.py\u001b[0m in \u001b[0;36mget_handle\u001b[0;34m(path_or_buf, mode, encoding, compression, memory_map, is_text, errors, storage_options)\u001b[0m\n\u001b[1;32m    645\u001b[0m                 \u001b[0mencoding\u001b[0m\u001b[0;34m=\u001b[0m\u001b[0mioargs\u001b[0m\u001b[0;34m.\u001b[0m\u001b[0mencoding\u001b[0m\u001b[0;34m,\u001b[0m\u001b[0;34m\u001b[0m\u001b[0;34m\u001b[0m\u001b[0m\n\u001b[1;32m    646\u001b[0m                 \u001b[0merrors\u001b[0m\u001b[0;34m=\u001b[0m\u001b[0merrors\u001b[0m\u001b[0;34m,\u001b[0m\u001b[0;34m\u001b[0m\u001b[0;34m\u001b[0m\u001b[0m\n\u001b[0;32m--> 647\u001b[0;31m                 \u001b[0mnewline\u001b[0m\u001b[0;34m=\u001b[0m\u001b[0;34m\"\"\u001b[0m\u001b[0;34m,\u001b[0m\u001b[0;34m\u001b[0m\u001b[0;34m\u001b[0m\u001b[0m\n\u001b[0m\u001b[1;32m    648\u001b[0m             )\n\u001b[1;32m    649\u001b[0m         \u001b[0;32melse\u001b[0m\u001b[0;34m:\u001b[0m\u001b[0;34m\u001b[0m\u001b[0;34m\u001b[0m\u001b[0m\n",
      "\u001b[0;31mFileNotFoundError\u001b[0m: [Errno 2] No such file or directory: '/Users/nicholasmarkarian/Desktop/gastric_cancer.tsv'"
     ]
    }
   ],
   "source": [
    "gastric_test_set = pd.read_csv(\"~/Desktop/gastric_cancer.tsv\", sep=\"\\t\")\n",
    "gastric_test_set = gastric_test_set['Entry'].tolist()\n",
    "\n",
    "\n",
    "enrich(gastric_test_set, gocam_sizes, Dict)\n"
   ]
  },
  {
   "cell_type": "code",
   "execution_count": null,
   "id": "fluid-sellers",
   "metadata": {},
   "outputs": [],
   "source": [
    "#DEBUGGING\n",
    "alpha = .05\n",
    "gene_list = gastric_test_set\n",
    "Dict = build_dict(data_cleaned)\n",
    "gocam_sizes = get_sizes(data_cleaned)\n",
    "background_gene_list_size = len(Dict)\n",
    "gene_list_filtered = filter_gene_list(gene_list, Dict)\n",
    "counts = count_genes(gene_list_filtered, Dict)\n",
    "results = []\n",
    "gene_list_size = len(gene_list_filtered) #the size of the user's gene list AFTER filtering\n",
    "for gocam, gene_list in counts.items():\n",
    "    count = len(gene_list) \n",
    "    gocam_size = gocam_sizes[gocam]\n",
    "    pvalue = hypergeom.sf(count-1, background_gene_list_size,  gocam_size, gene_list_size) \n",
    "    if pvalue < alpha:\n",
    "        r = (gocam, pvalue, count, background_gene_list_size,  gocam_size, gene_list_size )\n",
    "        results.append(r)\n",
    "df = pd.DataFrame(results, columns =['gocam', 'pvalue', 'count', 'background_gene_list_size',  'gocam_size', 'gene_list_size'])\n",
    "df"
   ]
  }
 ],
 "metadata": {
  "kernelspec": {
   "display_name": "Python 3",
   "language": "python",
   "name": "python3"
  },
  "language_info": {
   "codemirror_mode": {
    "name": "ipython",
    "version": 3
   },
   "file_extension": ".py",
   "mimetype": "text/x-python",
   "name": "python",
   "nbconvert_exporter": "python",
   "pygments_lexer": "ipython3",
   "version": "3.7.9"
  }
 },
 "nbformat": 4,
 "nbformat_minor": 5
}
