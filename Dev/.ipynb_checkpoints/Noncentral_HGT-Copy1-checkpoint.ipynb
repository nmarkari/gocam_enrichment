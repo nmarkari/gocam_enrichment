{
 "cells": [
  {
   "cell_type": "code",
   "execution_count": 8,
   "id": "vietnamese-colors",
   "metadata": {},
   "outputs": [
    {
     "name": "stdout",
     "output_type": "stream",
     "text": [
      "Fri Dec 23 11:25:30 PST 2022\n"
     ]
    }
   ],
   "source": [
    "!date\n",
    "import pandas as pd\n",
    "import numpy as np\n",
    "import sys\n",
    "sys.path.append('../GOCAM_Project/dev')\n",
    "\n",
    "import rpy2\n",
    "from rpy2.robjects.packages import importr\n",
    "BiasedUrn = importr('BiasedUrn')\n",
    "\n",
    "import utils\n",
    "import enrich\n",
    "import numba\n",
    "\n",
    "pd.options.display.max_colwidth = 100\n",
    "import tqdm"
   ]
  },
  {
   "cell_type": "markdown",
   "id": "7af4c915-8c70-4e36-bd8a-5c27d5456aa6",
   "metadata": {},
   "source": [
    "# Trying ncHGT on the data directly"
   ]
  },
  {
   "cell_type": "markdown",
   "id": "12a1cdba-f323-4545-a2bd-c20da368fe61",
   "metadata": {},
   "source": [
    "P97 with standard method"
   ]
  },
  {
   "cell_type": "code",
   "execution_count": 2,
   "id": "8f598c57-b15c-4699-b29d-1b0d1286ad71",
   "metadata": {},
   "outputs": [
    {
     "data": {
      "text/plain": [
       "25"
      ]
     },
     "execution_count": 2,
     "metadata": {},
     "output_type": "execute_result"
    }
   ],
   "source": [
    "df_s = enrich.enrich_wrapper('P97.csv','uniprot',method='set',show_significant=False)\n",
    "np.sum(df_s['pval (uncorrected)'].values < 5e-03)"
   ]
  },
  {
   "cell_type": "code",
   "execution_count": 3,
   "id": "ed541b7f-3221-424c-8cbc-0c9db0b79c1a",
   "metadata": {},
   "outputs": [
    {
     "data": {
      "text/html": [
       "<div>\n",
       "<style scoped>\n",
       "    .dataframe tbody tr th:only-of-type {\n",
       "        vertical-align: middle;\n",
       "    }\n",
       "\n",
       "    .dataframe tbody tr th {\n",
       "        vertical-align: top;\n",
       "    }\n",
       "\n",
       "    .dataframe thead th {\n",
       "        text-align: right;\n",
       "    }\n",
       "</style>\n",
       "<table border=\"1\" class=\"dataframe\">\n",
       "  <thead>\n",
       "    <tr style=\"text-align: right;\">\n",
       "      <th></th>\n",
       "      <th>title</th>\n",
       "      <th>pval (uncorrected)</th>\n",
       "      <th># genes in list</th>\n",
       "      <th>#genes in gocam</th>\n",
       "      <th>shared gene products in gocam</th>\n",
       "      <th>url</th>\n",
       "    </tr>\n",
       "  </thead>\n",
       "  <tbody>\n",
       "    <tr>\n",
       "      <th>35</th>\n",
       "      <td>RHOA GTPase cycle - Reactome</td>\n",
       "      <td>0.007182</td>\n",
       "      <td>2</td>\n",
       "      <td>2</td>\n",
       "      <td>[sset:RHOA GEFs, sset:RHOA GAPs]</td>\n",
       "      <td>http://model.geneontology.org/R-HSA-8980692</td>\n",
       "    </tr>\n",
       "  </tbody>\n",
       "</table>\n",
       "</div>"
      ],
      "text/plain": [
       "                           title  pval (uncorrected)  # genes in list  \\\n",
       "35  RHOA GTPase cycle - Reactome            0.007182                2   \n",
       "\n",
       "    #genes in gocam     shared gene products in gocam  \\\n",
       "35                2  [sset:RHOA GEFs, sset:RHOA GAPs]   \n",
       "\n",
       "                                            url  \n",
       "35  http://model.geneontology.org/R-HSA-8980692  "
      ]
     },
     "execution_count": 3,
     "metadata": {},
     "output_type": "execute_result"
    }
   ],
   "source": [
    "df_s[df_s.title.apply(lambda x: 'RHOA GTPase cycle - Reactome' in x)]"
   ]
  },
  {
   "cell_type": "code",
   "execution_count": 4,
   "id": "0a196d9c-2be7-44ba-8f63-e56d761549c8",
   "metadata": {},
   "outputs": [
    {
     "data": {
      "text/plain": [
       "270"
      ]
     },
     "execution_count": 4,
     "metadata": {},
     "output_type": "execute_result"
    }
   ],
   "source": [
    "gene_list, filtered_out_genes, filtered_list, setID2members_input_uni, setID2members_input, df_ff  = enrich.enrich_wrapper('P97.csv','uniprot',method='standard',show_significant=False,return_all =True)\n",
    "len(filtered_list)"
   ]
  },
  {
   "cell_type": "code",
   "execution_count": 5,
   "id": "66989129-00da-4c93-b23b-81d0664e962e",
   "metadata": {},
   "outputs": [
    {
     "data": {
      "text/html": [
       "<div>\n",
       "<style scoped>\n",
       "    .dataframe tbody tr th:only-of-type {\n",
       "        vertical-align: middle;\n",
       "    }\n",
       "\n",
       "    .dataframe tbody tr th {\n",
       "        vertical-align: top;\n",
       "    }\n",
       "\n",
       "    .dataframe thead th {\n",
       "        text-align: right;\n",
       "    }\n",
       "</style>\n",
       "<table border=\"1\" class=\"dataframe\">\n",
       "  <thead>\n",
       "    <tr style=\"text-align: right;\">\n",
       "      <th></th>\n",
       "      <th>title</th>\n",
       "      <th>pval (uncorrected)</th>\n",
       "      <th># genes in list</th>\n",
       "      <th>#genes in gocam</th>\n",
       "      <th>shared gene products in gocam</th>\n",
       "      <th>url</th>\n",
       "    </tr>\n",
       "  </thead>\n",
       "  <tbody>\n",
       "    <tr>\n",
       "      <th>0</th>\n",
       "      <td>Unwinding of DNA - Reactome</td>\n",
       "      <td>1.009108e-07</td>\n",
       "      <td>6</td>\n",
       "      <td>7</td>\n",
       "      <td>[P25205, Q14566, P33991, P49736, P33993, P33992]</td>\n",
       "      <td>http://model.geneontology.org/R-HSA-176974</td>\n",
       "    </tr>\n",
       "    <tr>\n",
       "      <th>1</th>\n",
       "      <td>SCF(Skp2)-mediated degradation of p27/p21 - Reactome</td>\n",
       "      <td>6.327843e-07</td>\n",
       "      <td>13</td>\n",
       "      <td>50</td>\n",
       "      <td>[Q13200, P43686, P62195, P62191, O00231, P35998, Q9UNM6, O00487, P24941, P38936, Q92530, P46527,...</td>\n",
       "      <td>http://model.geneontology.org/R-HSA-187577</td>\n",
       "    </tr>\n",
       "    <tr>\n",
       "      <th>2</th>\n",
       "      <td>Autodegradation of Cdh1 by Cdh1:APC/C - Reactome</td>\n",
       "      <td>4.803101e-06</td>\n",
       "      <td>13</td>\n",
       "      <td>59</td>\n",
       "      <td>[Q13200, P43686, P62195, P62191, O00231, P35998, Q9UNM6, O00487, Q92530, Q16763, O00762, P51965,...</td>\n",
       "      <td>http://model.geneontology.org/R-HSA-174084</td>\n",
       "    </tr>\n",
       "    <tr>\n",
       "      <th>3</th>\n",
       "      <td>CDK-mediated phosphorylation and removal of Cdc6 - Reactome</td>\n",
       "      <td>4.844141e-06</td>\n",
       "      <td>14</td>\n",
       "      <td>68</td>\n",
       "      <td>[Q13200, P43686, P62195, P62191, O00231, P35998, Q9UNM6, O00487, P24941, Q92530, Q16763, O00762,...</td>\n",
       "      <td>http://model.geneontology.org/R-HSA-69017</td>\n",
       "    </tr>\n",
       "    <tr>\n",
       "      <th>4</th>\n",
       "      <td>Assembly of the pre-replicative complex - Reactome</td>\n",
       "      <td>5.860558e-06</td>\n",
       "      <td>13</td>\n",
       "      <td>60</td>\n",
       "      <td>[Q13200, P43686, P62195, P62191, O00231, P35998, Q9UNM6, O00487, Q92530, Q16763, O00762, P51965,...</td>\n",
       "      <td>http://model.geneontology.org/R-HSA-68867</td>\n",
       "    </tr>\n",
       "    <tr>\n",
       "      <th>...</th>\n",
       "      <td>...</td>\n",
       "      <td>...</td>\n",
       "      <td>...</td>\n",
       "      <td>...</td>\n",
       "      <td>...</td>\n",
       "      <td>...</td>\n",
       "    </tr>\n",
       "    <tr>\n",
       "      <th>475</th>\n",
       "      <td>Regulation of Complement cascade - Reactome</td>\n",
       "      <td>9.977228e-01</td>\n",
       "      <td>1</td>\n",
       "      <td>117</td>\n",
       "      <td>[P15529]</td>\n",
       "      <td>http://model.geneontology.org/R-HSA-977606</td>\n",
       "    </tr>\n",
       "    <tr>\n",
       "      <th>476</th>\n",
       "      <td>Antigen activates B Cell Receptor (BCR) leading to generation of second messengers - Reactome</td>\n",
       "      <td>9.994799e-01</td>\n",
       "      <td>1</td>\n",
       "      <td>145</td>\n",
       "      <td>[P16333]</td>\n",
       "      <td>http://model.geneontology.org/R-HSA-983695</td>\n",
       "    </tr>\n",
       "    <tr>\n",
       "      <th>477</th>\n",
       "      <td>G alpha (12/13) signalling events - Reactome</td>\n",
       "      <td>9.999092e-01</td>\n",
       "      <td>3</td>\n",
       "      <td>268</td>\n",
       "      <td>[Q92974, P07602, Q9HCE6]</td>\n",
       "      <td>http://model.geneontology.org/R-HSA-416482</td>\n",
       "    </tr>\n",
       "    <tr>\n",
       "      <th>478</th>\n",
       "      <td>G alpha (i) signalling events - Reactome</td>\n",
       "      <td>9.999717e-01</td>\n",
       "      <td>2</td>\n",
       "      <td>250</td>\n",
       "      <td>[P07602, P49795]</td>\n",
       "      <td>http://model.geneontology.org/R-HSA-418594</td>\n",
       "    </tr>\n",
       "    <tr>\n",
       "      <th>479</th>\n",
       "      <td>G alpha (z) signalling events - Reactome</td>\n",
       "      <td>9.999955e-01</td>\n",
       "      <td>1</td>\n",
       "      <td>234</td>\n",
       "      <td>[P07602]</td>\n",
       "      <td>http://model.geneontology.org/R-HSA-418597</td>\n",
       "    </tr>\n",
       "  </tbody>\n",
       "</table>\n",
       "<p>480 rows × 6 columns</p>\n",
       "</div>"
      ],
      "text/plain": [
       "                                                                                             title  \\\n",
       "0                                                                      Unwinding of DNA - Reactome   \n",
       "1                                             SCF(Skp2)-mediated degradation of p27/p21 - Reactome   \n",
       "2                                                 Autodegradation of Cdh1 by Cdh1:APC/C - Reactome   \n",
       "3                                      CDK-mediated phosphorylation and removal of Cdc6 - Reactome   \n",
       "4                                               Assembly of the pre-replicative complex - Reactome   \n",
       "..                                                                                             ...   \n",
       "475                                                    Regulation of Complement cascade - Reactome   \n",
       "476  Antigen activates B Cell Receptor (BCR) leading to generation of second messengers - Reactome   \n",
       "477                                                   G alpha (12/13) signalling events - Reactome   \n",
       "478                                                       G alpha (i) signalling events - Reactome   \n",
       "479                                                       G alpha (z) signalling events - Reactome   \n",
       "\n",
       "     pval (uncorrected)  # genes in list  #genes in gocam  \\\n",
       "0          1.009108e-07                6                7   \n",
       "1          6.327843e-07               13               50   \n",
       "2          4.803101e-06               13               59   \n",
       "3          4.844141e-06               14               68   \n",
       "4          5.860558e-06               13               60   \n",
       "..                  ...              ...              ...   \n",
       "475        9.977228e-01                1              117   \n",
       "476        9.994799e-01                1              145   \n",
       "477        9.999092e-01                3              268   \n",
       "478        9.999717e-01                2              250   \n",
       "479        9.999955e-01                1              234   \n",
       "\n",
       "                                                                           shared gene products in gocam  \\\n",
       "0                                                       [P25205, Q14566, P33991, P49736, P33993, P33992]   \n",
       "1    [Q13200, P43686, P62195, P62191, O00231, P35998, Q9UNM6, O00487, P24941, P38936, Q92530, P46527,...   \n",
       "2    [Q13200, P43686, P62195, P62191, O00231, P35998, Q9UNM6, O00487, Q92530, Q16763, O00762, P51965,...   \n",
       "3    [Q13200, P43686, P62195, P62191, O00231, P35998, Q9UNM6, O00487, P24941, Q92530, Q16763, O00762,...   \n",
       "4    [Q13200, P43686, P62195, P62191, O00231, P35998, Q9UNM6, O00487, Q92530, Q16763, O00762, P51965,...   \n",
       "..                                                                                                   ...   \n",
       "475                                                                                             [P15529]   \n",
       "476                                                                                             [P16333]   \n",
       "477                                                                             [Q92974, P07602, Q9HCE6]   \n",
       "478                                                                                     [P07602, P49795]   \n",
       "479                                                                                             [P07602]   \n",
       "\n",
       "                                            url  \n",
       "0    http://model.geneontology.org/R-HSA-176974  \n",
       "1    http://model.geneontology.org/R-HSA-187577  \n",
       "2    http://model.geneontology.org/R-HSA-174084  \n",
       "3     http://model.geneontology.org/R-HSA-69017  \n",
       "4     http://model.geneontology.org/R-HSA-68867  \n",
       "..                                          ...  \n",
       "475  http://model.geneontology.org/R-HSA-977606  \n",
       "476  http://model.geneontology.org/R-HSA-983695  \n",
       "477  http://model.geneontology.org/R-HSA-416482  \n",
       "478  http://model.geneontology.org/R-HSA-418594  \n",
       "479  http://model.geneontology.org/R-HSA-418597  \n",
       "\n",
       "[480 rows x 6 columns]"
      ]
     },
     "execution_count": 5,
     "metadata": {},
     "output_type": "execute_result"
    }
   ],
   "source": [
    "#df_ff['ncHGT'] = df_ff.apply(lambda x: do_ncHGT_new( x['# genes in list'], x['url']), axis=1)\n",
    "df_ff"
   ]
  },
  {
   "cell_type": "code",
   "execution_count": 10,
   "id": "c37ed4a5-c641-4018-9f6c-51ea140e0ff1",
   "metadata": {},
   "outputs": [
    {
     "name": "stderr",
     "output_type": "stream",
     "text": [
      "100%|██████████████████████████████| 1000000/1000000 [1:57:58<00:00, 141.27it/s]\n"
     ]
    }
   ],
   "source": [
    "setID2members = utils.csv2dict('../data/setID2members.csv')\n",
    "gocam2ID = utils.csv2dict('../data/gocam2ID_mouse.csv')\n",
    "id2g_ff = utils.csv2dict('../data/ID2gocam_mouse_ff.csv')\n",
    "Dict = utils.csv2dict('../data/ID2gocam_mouse.csv')\n",
    "genes = np.array([*id2g_ff.keys()])\n",
    "N = 270\n",
    "\n",
    "temp_gocam_keys = gocam2ID.keys()\n",
    "gc_array = {}\n",
    "for gc in temp_gocam_keys:\n",
    "    gc_array[gc]=np.zeros(30)\n",
    "\n",
    "iterator = tqdm.tqdm(range(1000000), position=0, leave=True)\n",
    "for i in iterator:\n",
    "    uni_list = np.random.choice(genes, size = N, replace= False)\n",
    "    not_in_a_set, sets, setID2members_input_uni = enrich.get_sets(uni_list)\n",
    "\n",
    "    filtered_out1, set_list_filtered = enrich.filter_gene_list(sets,Dict)\n",
    "    filtered_out2, gene_list_filtered = enrich.filter_gene_list(uni_list, Dict) #clean gene_list to only include genes in the gocam\n",
    "\n",
    "    filtered_list = gene_list_filtered + set_list_filtered\n",
    "\n",
    "    counts = enrich.count_genes(filtered_list, Dict)\n",
    "    \n",
    "    for gc, k_array in gc_array.items():\n",
    "        k = 0\n",
    "        if gc in counts:\n",
    "            k = len(counts.get(gc))\n",
    "        k_array[k] +=1\n",
    "    \n"
   ]
  },
  {
   "cell_type": "code",
   "execution_count": 12,
   "id": "3149cfae-384d-49ac-b6cf-cc9b36acb151",
   "metadata": {},
   "outputs": [
    {
     "data": {
      "text/plain": [
       "0.000978"
      ]
     },
     "execution_count": 12,
     "metadata": {},
     "output_type": "execute_result"
    }
   ],
   "source": [
    "np.sum(gc_array.get('http://model.geneontology.org/R-HSA-6811558')[8:])/1000000"
   ]
  },
  {
   "cell_type": "code",
   "execution_count": null,
   "id": "1bb59798-0601-4404-954b-5cd0cea53e1e",
   "metadata": {},
   "outputs": [],
   "source": [
    "gc = 'http://model.geneontology.org/R-HSA-6811558'\n",
    "M = len(id2g)\n",
    "w_M = 1\n",
    "w, m = ncHGT.make_initial_vectors(gocam2ID,setID2members, gc, M,w_M)\n",
    "w = w[:-1] #trim off background bin\n",
    "XT = ncHGT.enumerate_possibilities(w,0,np.zeros(shape=(1,len(w)))) #note that we use w, not m, as the argument"
   ]
  },
  {
   "cell_type": "code",
   "execution_count": null,
   "id": "b96a4883-834c-4d71-bdcb-7f2cafd854c7",
   "metadata": {},
   "outputs": [],
   "source": [
    "#filter XT to only include the region of the sample space >= k (which is what we want to sum probabilities over)\n",
    "mask1 = (np.sum(XT==True, axis=1) >= k) #XT == True will convert it to a binary (ignoring repeated sampling)\n",
    "XT = XT[mask1]\n"
   ]
  },
  {
   "cell_type": "code",
   "execution_count": null,
   "id": "619cd35b-74c6-4916-8679-22b43f2bc383",
   "metadata": {},
   "outputs": [],
   "source": [
    "results = enrich.enrich_wrapper('P97.csv','uniprot',method='ncHGT',alpha=.15)\n",
    "results[results.title.apply(lambda x: 'PI5P, PP2A' in x)]"
   ]
  },
  {
   "cell_type": "code",
   "execution_count": null,
   "id": "c4ae0961-d918-4346-8f69-5367f1cc1e75",
   "metadata": {},
   "outputs": [],
   "source": [
    "background_num_gocams = 1100\n",
    "alpha = .05\n",
    "test = df_ff.copy()\n",
    "test.sort_values('pval (uncorrected)',inplace=True)\n",
    "test.reset_index(drop=True, inplace=True)\n",
    "test['FDR_val'] = (test.index+1)*alpha/background_num_gocams\n",
    "test['Less_than'] = (test['pval (uncorrected)'] < test['FDR_val'])\n",
    "index = test.Less_than.where(test.Less_than==True).last_valid_index()\n",
    "index"
   ]
  },
  {
   "cell_type": "code",
   "execution_count": null,
   "id": "93e61285-1cf5-410e-ab0f-51aa6ab3cb47",
   "metadata": {},
   "outputs": [],
   "source": [
    "background_num_gocams = 1100\n",
    "alpha = .05\n",
    "test = df_ff.copy()\n",
    "test.sort_values('ncHGT',inplace=True)\n",
    "test.reset_index(drop=True, inplace=True)\n",
    "test['FDR_val'] = (test.index+1)*alpha/background_num_gocams\n",
    "test['Less_than'] = (test['ncHGT'] < test['FDR_val'])\n",
    "index = test.Less_than.where(test.Less_than==True).last_valid_index()\n",
    "index"
   ]
  },
  {
   "cell_type": "code",
   "execution_count": null,
   "id": "15dd76a0-4e8e-4288-9306-c3ccfcc25d75",
   "metadata": {},
   "outputs": [],
   "source": [
    ".05*67/1100"
   ]
  },
  {
   "cell_type": "code",
   "execution_count": null,
   "id": "defafd78-9d76-436d-8d49-1579d2c7643c",
   "metadata": {},
   "outputs": [],
   "source": [
    "df_ff[df_ff.title.apply(lambda x: 'PI5P' in x)]"
   ]
  },
  {
   "cell_type": "code",
   "execution_count": null,
   "id": "cdc0a353-dfb8-4477-b7b0-3d1d331a7913",
   "metadata": {},
   "outputs": [],
   "source": [
    "test[0:67]"
   ]
  },
  {
   "cell_type": "code",
   "execution_count": null,
   "id": "3ec3b49e-5ba0-4bce-8000-17be0a52c493",
   "metadata": {},
   "outputs": [],
   "source": []
  }
 ],
 "metadata": {
  "kernelspec": {
   "display_name": "Python 3 (ipykernel)",
   "language": "python",
   "name": "python3"
  },
  "language_info": {
   "codemirror_mode": {
    "name": "ipython",
    "version": 3
   },
   "file_extension": ".py",
   "mimetype": "text/x-python",
   "name": "python",
   "nbconvert_exporter": "python",
   "pygments_lexer": "ipython3",
   "version": "3.7.12"
  }
 },
 "nbformat": 4,
 "nbformat_minor": 5
}
