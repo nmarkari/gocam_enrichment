{
 "cells": [
  {
   "cell_type": "code",
   "execution_count": 1,
   "id": "increasing-syracuse",
   "metadata": {},
   "outputs": [],
   "source": [
    "import pandas as pd\n",
    "import subprocess\n",
    "import os\n",
    "import time\n",
    "import csv\n",
    "\n",
    "import sys\n",
    "sys.path.append('../GOCAM_Project/dev')\n",
    "import utils"
   ]
  },
  {
   "cell_type": "code",
   "execution_count": 2,
   "id": "major-intermediate",
   "metadata": {},
   "outputs": [],
   "source": [
    "pd.options.display.max_colwidth = 100"
   ]
  },
  {
   "cell_type": "code",
   "execution_count": 3,
   "id": "herbal-pantyhose",
   "metadata": {},
   "outputs": [],
   "source": [
    "identifiers = pd.read_csv('../data/identifiers.csv')\n",
    "identifiers = identifiers['identifier']\n",
    "identifiers= identifiers[identifiers.str.contains('reacto.owl')]\n",
    "identifiers.reset_index(drop=True, inplace=True)"
   ]
  },
  {
   "cell_type": "code",
   "execution_count": 4,
   "id": "grave-reception",
   "metadata": {},
   "outputs": [],
   "source": [
    "def query(rIDs,uIDs,sparql_file,o_file, members2setID, setID2members):\n",
    "    #rIDs = [rID,crID]\n",
    "    #FORMAT QUERY VALUES STRING\n",
    "    queryIDs = rIDs['crID']\n",
    "    queryIDs = queryIDs.drop_duplicates()\n",
    "    queryIDs = queryIDs.apply(lambda x: '<'+x+'>') #convert to IRI\n",
    "    queryIDs = queryIDs.to_string(index=False)\n",
    "    \n",
    "        \n",
    "    #RUN QUERY WITH ROBOT ON REACTO.owl\n",
    "    # '&' is used for sed, not '/' as a delimiter because the identifier contains '/'\n",
    "    with open(o_file, \"w\") as outfile:\n",
    "        subprocess.run(['sed',\"s&REPLACETHIS&\"+queryIDs.encode(\"unicode_escape\").decode(\"utf-8\")+\"&\",sparql_file], stdout=outfile)\n",
    "    subprocess.run(['robot','query','--input', '../query/reacto.owl', '--query', o_file,'../temp/results.csv'])\n",
    "    \n",
    "    #log_results.append(pd.read_csv('../temp/results.csv'))\n",
    "    results = handle_sets('../temp/results.csv', uIDs, members2setID, setID2members)\n",
    "    #log_results.append(results)\n",
    "    #RESULTS ONLY HAS crID, ADD rID column\n",
    "    results = map_results_to_rID(rIDs,results)\n",
    "    #log_results.append(results)\n",
    "    return results"
   ]
  },
  {
   "cell_type": "code",
   "execution_count": 9,
   "id": "public-weapon",
   "metadata": {},
   "outputs": [],
   "source": [
    "def f_recursive(rIDs,uIDs,depth, members2setID, setID2members):\n",
    "    #QUERY\n",
    "    if depth > 10:\n",
    "        #Possible error\n",
    "        return 1  #change to return the traceback instead\n",
    "    results = query(rIDs,uIDs,'../query/query_for_sed-test.txt','../temp/query_for_robot.txt',  members2setID, setID2members )\n",
    "    \n",
    "    #SORT RESULTS\n",
    "    p_list = results[results['type']== 'BioPAX type: interface org.biopax.paxtools.model.level3.Protein']\n",
    "    c_list = results[results['type']== 'BioPAX type: interface org.biopax.paxtools.model.level3.Complex']\n",
    "\n",
    "    #UPDATE uID DICTIONARY\n",
    "    p_list['record'] = p_list['record'].apply(lambda x: x.split('/')[-1]) #just keep the uniprot ID\n",
    "    uIDs = utils.update_dict(uIDs,p_list,'rID','record')\n",
    "    \n",
    "    \n",
    "    #TERMINATING CONDITION (no more components to search)\n",
    "    #missing = c_list[c_list['component'].isna()]\n",
    "    #log_c.append(missing)\n",
    "    log.append(c_list)\n",
    "    c_list = c_list.dropna() #see http://purl.obolibrary.org/obo/go/extensions/reacto.owl#REACTO_R-HSA-1475437 as an example\n",
    "    if len(c_list.index) == 0:\n",
    "        return \n",
    "    \n",
    "    #UPDATE rIDs FOR NEXT QUERY\n",
    "    new_rIDs = c_list[['rID','component']]\n",
    "    #new_rIDs.dropna(inplace=True) #only keep rows with a value for component\n",
    "    new_rIDs = new_rIDs.rename(columns={'component':'crID'})\n",
    "    #log_recursion.append(new_rIDs)\n",
    "    #RECURSE\n",
    "    depth = depth+1\n",
    "    f_recursive(new_rIDs,uIDs, depth,  members2setID, setID2members)\n",
    "    #how to handle reactome sets? (rSet)\n",
    "    return  #returns a set"
   ]
  },
  {
   "cell_type": "markdown",
   "id": "disciplinary-intermediate",
   "metadata": {},
   "source": [
    "test_list = ['http://purl.obolibrary.org/obo/go/extensions/reacto.owl#REACTO_R-HSA-1168601',\n",
    "'http://purl.obolibrary.org/obo/go/extensions/reacto.owl#REACTO_R-HSA-1602359',\n",
    "'http://purl.obolibrary.org/obo/go/extensions/reacto.owl#REACTO_R-HSA-1602468',\n",
    "'http://purl.obolibrary.org/obo/go/extensions/reacto.owl#REACTO_R-HSA-158197',\n",
    "'http://purl.obolibrary.org/obo/go/extensions/reacto.owl#REACTO_R-HSA-5359005',\n",
    "'http://purl.obolibrary.org/obo/go/extensions/reacto.owl#REACTO_R-HSA-9606895',\n",
    "'http://purl.obolibrary.org/obo/go/extensions/reacto.owl#REACTO_R-HSA-3238209'\n",
    "            ]\n",
    "test_list"
   ]
  },
  {
   "cell_type": "code",
   "execution_count": null,
   "id": "incident-northern",
   "metadata": {},
   "outputs": [],
   "source": [
    "#len(uIDs.keys())"
   ]
  },
  {
   "cell_type": "code",
   "execution_count": null,
   "id": "portuguese-baghdad",
   "metadata": {},
   "outputs": [],
   "source": [
    "#len(rIDs.drop_duplicates().rID)"
   ]
  },
  {
   "cell_type": "code",
   "execution_count": null,
   "id": "dried-collect",
   "metadata": {},
   "outputs": [],
   "source": [
    "#set(rIDs.drop_duplicates().rID) - set(uIDs.keys()) "
   ]
  },
  {
   "cell_type": "code",
   "execution_count": null,
   "id": "hairy-portsmouth",
   "metadata": {},
   "outputs": [],
   "source": [
    "#set(uIDs.keys()) - set(rIDs.drop_duplicates().rID)"
   ]
  },
  {
   "cell_type": "code",
   "execution_count": null,
   "id": "spectacular-louis",
   "metadata": {},
   "outputs": [],
   "source": [
    "#utils.dict2csv(uIDs,'../data/uIDs_test2.csv')\n",
    "#utils.dict2csv(members2setID,'../data/members2setID_test2.csv')\n",
    "#utils.dict2csv(setID2members,'../data/setID2members_test2.csv')"
   ]
  },
  {
   "cell_type": "code",
   "execution_count": null,
   "id": "handed-links",
   "metadata": {},
   "outputs": [],
   "source": [
    "#%%time\n",
    "#subprocess.run(['robot','query','--input', '../query/reacto.owl', '--query', '../temp/query_for_robot-Comp.txt','../temp/comp.csv'])\n",
    "#subprocess.run(['robot','query','--input', '../query/reacto.owl', '--query', '../temp/query_for_robot-Prot.txt','../temp/results.csv'])\n",
    "#subprocess.run(['robot','query','--input', '../query/reacto.owl', '--query', '../temp/query_for_robot-Set.txt','../temp/set.csv'])\n"
   ]
  },
  {
   "cell_type": "markdown",
   "id": "robust-terror",
   "metadata": {},
   "source": [
    "Try it two ways. first time, remove sets of proteins by running the not exist filter for sets. Then, try it with no filter and removing any rID with multiple entries for their record. Compare the two to see if there is any difference."
   ]
  },
  {
   "cell_type": "code",
   "execution_count": 5,
   "id": "exposed-stability",
   "metadata": {},
   "outputs": [
    {
     "data": {
      "text/plain": [
       "(28520, 28520, 33560, 14125)"
      ]
     },
     "execution_count": 5,
     "metadata": {},
     "output_type": "execute_result"
    }
   ],
   "source": [
    "prots = pd.read_csv('../temp/prot.csv')\n",
    "sets = pd.read_csv('../temp/set.csv')\n",
    "comps = pd.read_csv('../temp/comp.csv')\n",
    "len(prots),len(prots.crID.unique()),len(comps),len(comps.crID.unique())"
   ]
  },
  {
   "cell_type": "code",
   "execution_count": 6,
   "id": "assumed-idaho",
   "metadata": {},
   "outputs": [
    {
     "data": {
      "text/plain": [
       "BioPAX type: interface org.biopax.paxtools.model.level3.Protein           21870\n",
       "BioPAX type: interface org.biopax.paxtools.model.level3.PhysicalEntity     5263\n",
       "BioPAX type: interface org.biopax.paxtools.model.level3.Complex            3540\n",
       "BioPAX type: interface org.biopax.paxtools.model.level3.SmallMolecule      1761\n",
       "BioPAX type: interface org.biopax.paxtools.model.level3.Dna                 725\n",
       "BioPAX type: interface org.biopax.paxtools.model.level3.Rna                 323\n",
       "Isa http://purl.obolibrary.org/obo/PR_000027744                               2\n",
       "Isa http://purl.obolibrary.org/obo/PR_000000031                               2\n",
       "Isa http://purl.obolibrary.org/obo/PR_000027746                               2\n",
       "Name: type, dtype: int64"
      ]
     },
     "execution_count": 6,
     "metadata": {},
     "output_type": "execute_result"
    }
   ],
   "source": [
    "sets.type.value_counts()"
   ]
  },
  {
   "cell_type": "code",
   "execution_count": 7,
   "id": "pretty-chancellor",
   "metadata": {},
   "outputs": [
    {
     "data": {
      "text/plain": [
       "(30673, 4809)"
      ]
     },
     "execution_count": 7,
     "metadata": {},
     "output_type": "execute_result"
    }
   ],
   "source": [
    "sets = sets.loc[sets.type.apply(lambda x:(x == \"BioPAX type: interface org.biopax.paxtools.model.level3.Complex\") or (x == \"BioPAX type: interface org.biopax.paxtools.model.level3.PhysicalEntity\")or (x == \"BioPAX type: interface org.biopax.paxtools.model.level3.Protein\"))]\n",
    "len(sets),len(sets.crID.unique())"
   ]
  },
  {
   "cell_type": "code",
   "execution_count": 8,
   "id": "expensive-strategy",
   "metadata": {},
   "outputs": [
    {
     "data": {
      "text/plain": [
       "(set(), set(), set())"
      ]
     },
     "execution_count": 8,
     "metadata": {},
     "output_type": "execute_result"
    }
   ],
   "source": [
    "set(sets.crID.values).intersection(set(prots.crID.values)),set(sets.crID.values).intersection(set(comps.crID.values)),set(comps.crID.values).intersection(set(prots.crID.values))"
   ]
  },
  {
   "cell_type": "code",
   "execution_count": 9,
   "id": "subject-outreach",
   "metadata": {},
   "outputs": [],
   "source": [
    "loc = {k:'prots' for k in prots.crID}\n",
    "d2 = {k:'comps' for k in comps.crID}\n",
    "d3 = {k:'sets' for k in sets.crID}\n",
    "loc.update(d2)\n",
    "loc.update(d3)"
   ]
  },
  {
   "cell_type": "code",
   "execution_count": 10,
   "id": "instant-gossip",
   "metadata": {},
   "outputs": [
    {
     "data": {
      "text/plain": [
       "47454"
      ]
     },
     "execution_count": 10,
     "metadata": {},
     "output_type": "execute_result"
    }
   ],
   "source": [
    "len(loc)"
   ]
  },
  {
   "cell_type": "code",
   "execution_count": 12,
   "id": "searching-documentation",
   "metadata": {
    "scrolled": true
   },
   "outputs": [
    {
     "data": {
      "text/html": [
       "<div>\n",
       "<style scoped>\n",
       "    .dataframe tbody tr th:only-of-type {\n",
       "        vertical-align: middle;\n",
       "    }\n",
       "\n",
       "    .dataframe tbody tr th {\n",
       "        vertical-align: top;\n",
       "    }\n",
       "\n",
       "    .dataframe thead th {\n",
       "        text-align: right;\n",
       "    }\n",
       "</style>\n",
       "<table border=\"1\" class=\"dataframe\">\n",
       "  <thead>\n",
       "    <tr style=\"text-align: right;\">\n",
       "      <th></th>\n",
       "      <th>crID</th>\n",
       "      <th>name</th>\n",
       "      <th>component</th>\n",
       "    </tr>\n",
       "  </thead>\n",
       "  <tbody>\n",
       "    <tr>\n",
       "      <th>0</th>\n",
       "      <td>http://purl.obolibrary.org/obo/go/extensions/reacto.owl#REACTO_R-HSA-1602363</td>\n",
       "      <td>PLA2G2A:Ca2+</td>\n",
       "      <td>http://purl.obolibrary.org/obo/go/extensions/reacto.owl#REACTO_R-HSA-1602364</td>\n",
       "    </tr>\n",
       "    <tr>\n",
       "      <th>1</th>\n",
       "      <td>http://purl.obolibrary.org/obo/go/extensions/reacto.owl#REACTO_R-HSA-1602363</td>\n",
       "      <td>PLA2G2A:Ca2+</td>\n",
       "      <td>http://purl.obolibrary.org/obo/go/extensions/reacto.owl#REACTO_R-ALL-74112</td>\n",
       "    </tr>\n",
       "    <tr>\n",
       "      <th>2</th>\n",
       "      <td>http://purl.obolibrary.org/obo/go/extensions/reacto.owl#REACTO_R-HSA-167127</td>\n",
       "      <td>HIV-1 transcription complex with (ser5) phosphorylated CTD containing extruded transcript to +30</td>\n",
       "      <td>http://purl.obolibrary.org/obo/go/extensions/reacto.owl#REACTO_R-HIV-167131</td>\n",
       "    </tr>\n",
       "    <tr>\n",
       "      <th>3</th>\n",
       "      <td>http://purl.obolibrary.org/obo/go/extensions/reacto.owl#REACTO_R-HSA-167127</td>\n",
       "      <td>HIV-1 transcription complex with (ser5) phosphorylated CTD containing extruded transcript to +30</td>\n",
       "      <td>http://purl.obolibrary.org/obo/go/extensions/reacto.owl#REACTO_R-HSA-109634</td>\n",
       "    </tr>\n",
       "    <tr>\n",
       "      <th>4</th>\n",
       "      <td>http://purl.obolibrary.org/obo/go/extensions/reacto.owl#REACTO_R-HSA-167127</td>\n",
       "      <td>HIV-1 transcription complex with (ser5) phosphorylated CTD containing extruded transcript to +30</td>\n",
       "      <td>http://purl.obolibrary.org/obo/go/extensions/reacto.owl#REACTO_R-HSA-113404</td>\n",
       "    </tr>\n",
       "    <tr>\n",
       "      <th>...</th>\n",
       "      <td>...</td>\n",
       "      <td>...</td>\n",
       "      <td>...</td>\n",
       "    </tr>\n",
       "    <tr>\n",
       "      <th>33555</th>\n",
       "      <td>http://purl.obolibrary.org/obo/go/extensions/reacto.owl#REACTO_R-HSA-173728</td>\n",
       "      <td>Membrane Attack Complex</td>\n",
       "      <td>http://purl.obolibrary.org/obo/go/extensions/reacto.owl#REACTO_R-HSA-173713</td>\n",
       "    </tr>\n",
       "    <tr>\n",
       "      <th>33556</th>\n",
       "      <td>http://purl.obolibrary.org/obo/go/extensions/reacto.owl#REACTO_R-HSA-173728</td>\n",
       "      <td>Membrane Attack Complex</td>\n",
       "      <td>http://purl.obolibrary.org/obo/go/extensions/reacto.owl#REACTO_R-HSA-173671</td>\n",
       "    </tr>\n",
       "    <tr>\n",
       "      <th>33557</th>\n",
       "      <td>http://purl.obolibrary.org/obo/go/extensions/reacto.owl#REACTO_R-HSA-173728</td>\n",
       "      <td>Membrane Attack Complex</td>\n",
       "      <td>http://purl.obolibrary.org/obo/go/extensions/reacto.owl#REACTO_R-HSA-173706</td>\n",
       "    </tr>\n",
       "    <tr>\n",
       "      <th>33558</th>\n",
       "      <td>http://purl.obolibrary.org/obo/go/extensions/reacto.owl#REACTO_R-HSA-173728</td>\n",
       "      <td>Membrane Attack Complex</td>\n",
       "      <td>http://purl.obolibrary.org/obo/go/extensions/reacto.owl#REACTO_R-HSA-173717</td>\n",
       "    </tr>\n",
       "    <tr>\n",
       "      <th>33559</th>\n",
       "      <td>http://purl.obolibrary.org/obo/go/extensions/reacto.owl#REACTO_R-HSA-173728</td>\n",
       "      <td>Membrane Attack Complex</td>\n",
       "      <td>http://purl.obolibrary.org/obo/go/extensions/reacto.owl#REACTO_R-HSA-173707</td>\n",
       "    </tr>\n",
       "  </tbody>\n",
       "</table>\n",
       "<p>33560 rows × 3 columns</p>\n",
       "</div>"
      ],
      "text/plain": [
       "                                                                               crID  \\\n",
       "0      http://purl.obolibrary.org/obo/go/extensions/reacto.owl#REACTO_R-HSA-1602363   \n",
       "1      http://purl.obolibrary.org/obo/go/extensions/reacto.owl#REACTO_R-HSA-1602363   \n",
       "2       http://purl.obolibrary.org/obo/go/extensions/reacto.owl#REACTO_R-HSA-167127   \n",
       "3       http://purl.obolibrary.org/obo/go/extensions/reacto.owl#REACTO_R-HSA-167127   \n",
       "4       http://purl.obolibrary.org/obo/go/extensions/reacto.owl#REACTO_R-HSA-167127   \n",
       "...                                                                             ...   \n",
       "33555   http://purl.obolibrary.org/obo/go/extensions/reacto.owl#REACTO_R-HSA-173728   \n",
       "33556   http://purl.obolibrary.org/obo/go/extensions/reacto.owl#REACTO_R-HSA-173728   \n",
       "33557   http://purl.obolibrary.org/obo/go/extensions/reacto.owl#REACTO_R-HSA-173728   \n",
       "33558   http://purl.obolibrary.org/obo/go/extensions/reacto.owl#REACTO_R-HSA-173728   \n",
       "33559   http://purl.obolibrary.org/obo/go/extensions/reacto.owl#REACTO_R-HSA-173728   \n",
       "\n",
       "                                                                                                   name  \\\n",
       "0                                                                                          PLA2G2A:Ca2+   \n",
       "1                                                                                          PLA2G2A:Ca2+   \n",
       "2      HIV-1 transcription complex with (ser5) phosphorylated CTD containing extruded transcript to +30   \n",
       "3      HIV-1 transcription complex with (ser5) phosphorylated CTD containing extruded transcript to +30   \n",
       "4      HIV-1 transcription complex with (ser5) phosphorylated CTD containing extruded transcript to +30   \n",
       "...                                                                                                 ...   \n",
       "33555                                                                           Membrane Attack Complex   \n",
       "33556                                                                           Membrane Attack Complex   \n",
       "33557                                                                           Membrane Attack Complex   \n",
       "33558                                                                           Membrane Attack Complex   \n",
       "33559                                                                           Membrane Attack Complex   \n",
       "\n",
       "                                                                          component  \n",
       "0      http://purl.obolibrary.org/obo/go/extensions/reacto.owl#REACTO_R-HSA-1602364  \n",
       "1        http://purl.obolibrary.org/obo/go/extensions/reacto.owl#REACTO_R-ALL-74112  \n",
       "2       http://purl.obolibrary.org/obo/go/extensions/reacto.owl#REACTO_R-HIV-167131  \n",
       "3       http://purl.obolibrary.org/obo/go/extensions/reacto.owl#REACTO_R-HSA-109634  \n",
       "4       http://purl.obolibrary.org/obo/go/extensions/reacto.owl#REACTO_R-HSA-113404  \n",
       "...                                                                             ...  \n",
       "33555   http://purl.obolibrary.org/obo/go/extensions/reacto.owl#REACTO_R-HSA-173713  \n",
       "33556   http://purl.obolibrary.org/obo/go/extensions/reacto.owl#REACTO_R-HSA-173671  \n",
       "33557   http://purl.obolibrary.org/obo/go/extensions/reacto.owl#REACTO_R-HSA-173706  \n",
       "33558   http://purl.obolibrary.org/obo/go/extensions/reacto.owl#REACTO_R-HSA-173717  \n",
       "33559   http://purl.obolibrary.org/obo/go/extensions/reacto.owl#REACTO_R-HSA-173707  \n",
       "\n",
       "[33560 rows x 3 columns]"
      ]
     },
     "execution_count": 12,
     "metadata": {},
     "output_type": "execute_result"
    }
   ],
   "source": [
    "comps"
   ]
  },
  {
   "cell_type": "code",
   "execution_count": 34,
   "id": "identified-richmond",
   "metadata": {},
   "outputs": [
    {
     "data": {
      "text/html": [
       "<div>\n",
       "<style scoped>\n",
       "    .dataframe tbody tr th:only-of-type {\n",
       "        vertical-align: middle;\n",
       "    }\n",
       "\n",
       "    .dataframe tbody tr th {\n",
       "        vertical-align: top;\n",
       "    }\n",
       "\n",
       "    .dataframe thead th {\n",
       "        text-align: right;\n",
       "    }\n",
       "</style>\n",
       "<table border=\"1\" class=\"dataframe\">\n",
       "  <thead>\n",
       "    <tr style=\"text-align: right;\">\n",
       "      <th></th>\n",
       "      <th>crID</th>\n",
       "      <th>name</th>\n",
       "      <th>type</th>\n",
       "      <th>entity_from_set</th>\n",
       "    </tr>\n",
       "  </thead>\n",
       "  <tbody>\n",
       "    <tr>\n",
       "      <th>0</th>\n",
       "      <td>http://purl.obolibrary.org/obo/go/extensions/reacto.owl#REACTO_R-HSA-8938273</td>\n",
       "      <td>PARPs</td>\n",
       "      <td>BioPAX type: interface org.biopax.paxtools.model.level3.Protein</td>\n",
       "      <td>http://purl.obolibrary.org/obo/go/extensions/reacto.owl#REACTO_R-HSA-8938258</td>\n",
       "    </tr>\n",
       "    <tr>\n",
       "      <th>1</th>\n",
       "      <td>http://purl.obolibrary.org/obo/go/extensions/reacto.owl#REACTO_R-HSA-8938273</td>\n",
       "      <td>PARPs</td>\n",
       "      <td>BioPAX type: interface org.biopax.paxtools.model.level3.Protein</td>\n",
       "      <td>http://purl.obolibrary.org/obo/go/extensions/reacto.owl#REACTO_R-HSA-8938259</td>\n",
       "    </tr>\n",
       "    <tr>\n",
       "      <th>2</th>\n",
       "      <td>http://purl.obolibrary.org/obo/go/extensions/reacto.owl#REACTO_R-HSA-8938273</td>\n",
       "      <td>PARPs</td>\n",
       "      <td>BioPAX type: interface org.biopax.paxtools.model.level3.Protein</td>\n",
       "      <td>http://purl.obolibrary.org/obo/go/extensions/reacto.owl#REACTO_R-HSA-8938261</td>\n",
       "    </tr>\n",
       "    <tr>\n",
       "      <th>3</th>\n",
       "      <td>http://purl.obolibrary.org/obo/go/extensions/reacto.owl#REACTO_R-HSA-8938273</td>\n",
       "      <td>PARPs</td>\n",
       "      <td>BioPAX type: interface org.biopax.paxtools.model.level3.Protein</td>\n",
       "      <td>http://purl.obolibrary.org/obo/go/extensions/reacto.owl#REACTO_R-HSA-8938262</td>\n",
       "    </tr>\n",
       "    <tr>\n",
       "      <th>4</th>\n",
       "      <td>http://purl.obolibrary.org/obo/go/extensions/reacto.owl#REACTO_R-HSA-8938273</td>\n",
       "      <td>PARPs</td>\n",
       "      <td>BioPAX type: interface org.biopax.paxtools.model.level3.Protein</td>\n",
       "      <td>http://purl.obolibrary.org/obo/go/extensions/reacto.owl#REACTO_R-HSA-8938272</td>\n",
       "    </tr>\n",
       "    <tr>\n",
       "      <th>...</th>\n",
       "      <td>...</td>\n",
       "      <td>...</td>\n",
       "      <td>...</td>\n",
       "      <td>...</td>\n",
       "    </tr>\n",
       "    <tr>\n",
       "      <th>33483</th>\n",
       "      <td>http://purl.obolibrary.org/obo/go/extensions/reacto.owl#REACTO_R-HSA-2268660</td>\n",
       "      <td>Procollagen type V</td>\n",
       "      <td>BioPAX type: interface org.biopax.paxtools.model.level3.Complex</td>\n",
       "      <td>http://purl.obolibrary.org/obo/go/extensions/reacto.owl#REACTO_R-HSA-2268645</td>\n",
       "    </tr>\n",
       "    <tr>\n",
       "      <th>33484</th>\n",
       "      <td>http://purl.obolibrary.org/obo/go/extensions/reacto.owl#REACTO_R-HSA-2268660</td>\n",
       "      <td>Procollagen type V</td>\n",
       "      <td>BioPAX type: interface org.biopax.paxtools.model.level3.Complex</td>\n",
       "      <td>http://purl.obolibrary.org/obo/go/extensions/reacto.owl#REACTO_R-HSA-2268659</td>\n",
       "    </tr>\n",
       "    <tr>\n",
       "      <th>33485</th>\n",
       "      <td>http://purl.obolibrary.org/obo/go/extensions/reacto.owl#REACTO_R-HSA-2268660</td>\n",
       "      <td>Procollagen type V</td>\n",
       "      <td>BioPAX type: interface org.biopax.paxtools.model.level3.Complex</td>\n",
       "      <td>http://purl.obolibrary.org/obo/go/extensions/reacto.owl#REACTO_R-HSA-2268712</td>\n",
       "    </tr>\n",
       "    <tr>\n",
       "      <th>33486</th>\n",
       "      <td>http://purl.obolibrary.org/obo/go/extensions/reacto.owl#REACTO_R-HSA-8854614</td>\n",
       "      <td>RAB33</td>\n",
       "      <td>BioPAX type: interface org.biopax.paxtools.model.level3.Protein</td>\n",
       "      <td>http://purl.obolibrary.org/obo/go/extensions/reacto.owl#REACTO_R-HSA-8854592</td>\n",
       "    </tr>\n",
       "    <tr>\n",
       "      <th>33487</th>\n",
       "      <td>http://purl.obolibrary.org/obo/go/extensions/reacto.owl#REACTO_R-HSA-8854614</td>\n",
       "      <td>RAB33</td>\n",
       "      <td>BioPAX type: interface org.biopax.paxtools.model.level3.Protein</td>\n",
       "      <td>http://purl.obolibrary.org/obo/go/extensions/reacto.owl#REACTO_R-HSA-8854609</td>\n",
       "    </tr>\n",
       "  </tbody>\n",
       "</table>\n",
       "<p>30673 rows × 4 columns</p>\n",
       "</div>"
      ],
      "text/plain": [
       "                                                                               crID  \\\n",
       "0      http://purl.obolibrary.org/obo/go/extensions/reacto.owl#REACTO_R-HSA-8938273   \n",
       "1      http://purl.obolibrary.org/obo/go/extensions/reacto.owl#REACTO_R-HSA-8938273   \n",
       "2      http://purl.obolibrary.org/obo/go/extensions/reacto.owl#REACTO_R-HSA-8938273   \n",
       "3      http://purl.obolibrary.org/obo/go/extensions/reacto.owl#REACTO_R-HSA-8938273   \n",
       "4      http://purl.obolibrary.org/obo/go/extensions/reacto.owl#REACTO_R-HSA-8938273   \n",
       "...                                                                             ...   \n",
       "33483  http://purl.obolibrary.org/obo/go/extensions/reacto.owl#REACTO_R-HSA-2268660   \n",
       "33484  http://purl.obolibrary.org/obo/go/extensions/reacto.owl#REACTO_R-HSA-2268660   \n",
       "33485  http://purl.obolibrary.org/obo/go/extensions/reacto.owl#REACTO_R-HSA-2268660   \n",
       "33486  http://purl.obolibrary.org/obo/go/extensions/reacto.owl#REACTO_R-HSA-8854614   \n",
       "33487  http://purl.obolibrary.org/obo/go/extensions/reacto.owl#REACTO_R-HSA-8854614   \n",
       "\n",
       "                     name  \\\n",
       "0                   PARPs   \n",
       "1                   PARPs   \n",
       "2                   PARPs   \n",
       "3                   PARPs   \n",
       "4                   PARPs   \n",
       "...                   ...   \n",
       "33483  Procollagen type V   \n",
       "33484  Procollagen type V   \n",
       "33485  Procollagen type V   \n",
       "33486               RAB33   \n",
       "33487               RAB33   \n",
       "\n",
       "                                                                  type  \\\n",
       "0      BioPAX type: interface org.biopax.paxtools.model.level3.Protein   \n",
       "1      BioPAX type: interface org.biopax.paxtools.model.level3.Protein   \n",
       "2      BioPAX type: interface org.biopax.paxtools.model.level3.Protein   \n",
       "3      BioPAX type: interface org.biopax.paxtools.model.level3.Protein   \n",
       "4      BioPAX type: interface org.biopax.paxtools.model.level3.Protein   \n",
       "...                                                                ...   \n",
       "33483  BioPAX type: interface org.biopax.paxtools.model.level3.Complex   \n",
       "33484  BioPAX type: interface org.biopax.paxtools.model.level3.Complex   \n",
       "33485  BioPAX type: interface org.biopax.paxtools.model.level3.Complex   \n",
       "33486  BioPAX type: interface org.biopax.paxtools.model.level3.Protein   \n",
       "33487  BioPAX type: interface org.biopax.paxtools.model.level3.Protein   \n",
       "\n",
       "                                                                    entity_from_set  \n",
       "0      http://purl.obolibrary.org/obo/go/extensions/reacto.owl#REACTO_R-HSA-8938258  \n",
       "1      http://purl.obolibrary.org/obo/go/extensions/reacto.owl#REACTO_R-HSA-8938259  \n",
       "2      http://purl.obolibrary.org/obo/go/extensions/reacto.owl#REACTO_R-HSA-8938261  \n",
       "3      http://purl.obolibrary.org/obo/go/extensions/reacto.owl#REACTO_R-HSA-8938262  \n",
       "4      http://purl.obolibrary.org/obo/go/extensions/reacto.owl#REACTO_R-HSA-8938272  \n",
       "...                                                                             ...  \n",
       "33483  http://purl.obolibrary.org/obo/go/extensions/reacto.owl#REACTO_R-HSA-2268645  \n",
       "33484  http://purl.obolibrary.org/obo/go/extensions/reacto.owl#REACTO_R-HSA-2268659  \n",
       "33485  http://purl.obolibrary.org/obo/go/extensions/reacto.owl#REACTO_R-HSA-2268712  \n",
       "33486  http://purl.obolibrary.org/obo/go/extensions/reacto.owl#REACTO_R-HSA-8854592  \n",
       "33487  http://purl.obolibrary.org/obo/go/extensions/reacto.owl#REACTO_R-HSA-8854609  \n",
       "\n",
       "[30673 rows x 4 columns]"
      ]
     },
     "execution_count": 34,
     "metadata": {},
     "output_type": "execute_result"
    }
   ],
   "source": [
    "sets"
   ]
  },
  {
   "cell_type": "code",
   "execution_count": 75,
   "id": "refined-click",
   "metadata": {},
   "outputs": [
    {
     "data": {
      "text/html": [
       "<div>\n",
       "<style scoped>\n",
       "    .dataframe tbody tr th:only-of-type {\n",
       "        vertical-align: middle;\n",
       "    }\n",
       "\n",
       "    .dataframe tbody tr th {\n",
       "        vertical-align: top;\n",
       "    }\n",
       "\n",
       "    .dataframe thead th {\n",
       "        text-align: right;\n",
       "    }\n",
       "</style>\n",
       "<table border=\"1\" class=\"dataframe\">\n",
       "  <thead>\n",
       "    <tr style=\"text-align: right;\">\n",
       "      <th></th>\n",
       "      <th>record</th>\n",
       "      <th>set_ID</th>\n",
       "    </tr>\n",
       "  </thead>\n",
       "  <tbody>\n",
       "    <tr>\n",
       "      <th>0</th>\n",
       "      <td>c</td>\n",
       "      <td>sset:NAME</td>\n",
       "    </tr>\n",
       "    <tr>\n",
       "      <th>1</th>\n",
       "      <td>b</td>\n",
       "      <td>sset:NAME</td>\n",
       "    </tr>\n",
       "  </tbody>\n",
       "</table>\n",
       "</div>"
      ],
      "text/plain": [
       "  record     set_ID\n",
       "0      c  sset:NAME\n",
       "1      b  sset:NAME"
      ]
     },
     "execution_count": 75,
     "metadata": {},
     "output_type": "execute_result"
    }
   ],
   "source": [
    "s1 = {'a','b'}\n",
    "s2 = {'a','c'}\n",
    "entities = [s1,s2]\n",
    "u = set.intersection(*entities)\n",
    "specifics = []\n",
    "for entity in entities:\n",
    "    specifics.append(entity - u)\n",
    "specifics\n",
    "sset = set.union(*specifics)\n",
    "df = pd.DataFrame({'record':list(sset),'set_ID':'sset:'+'NAME'})\n",
    "df"
   ]
  },
  {
   "cell_type": "code",
   "execution_count": 111,
   "id": "ignored-evanescence",
   "metadata": {},
   "outputs": [],
   "source": [
    "def recurse(rID,x,members2setID,setID2members,log):\n",
    "    #log.append('searching for:'+x)\n",
    "    if loc.get(x) == 'prots':\n",
    "        #log.append('prot:'+x)\n",
    "        result = prots.query('crID == @x')\n",
    "        return list(set(result.record.values))\n",
    "    elif loc.get(x) == 'comps':\n",
    "        #log.append('comp:'+x)\n",
    "        result = list(comps.query('crID == @x').component.apply(lambda y: recurse(rID, y, members2setID,setID2members, log))) \n",
    "        flat_list = list(set([item for sublist in result for item in sublist])) #once a complex is flattened, eliminate redundant entries (ie dimers)\n",
    "        return flat_list\n",
    "    elif loc.get(x) == 'sets':\n",
    "        #log.append('set:'+x)\n",
    "        result = sets.query('crID == @x')\n",
    "        set_name  = result.name.values[0]\n",
    "        \n",
    "        result = list(sets.query('crID == @x').entity_from_set.apply(lambda y: recurse(rID, y,  members2setID,setID2members, log)))\n",
    "        entities = [] \n",
    "        \n",
    "        for entity in result:\n",
    "            entities.append(set(entity))\n",
    "            \n",
    "        u = set.intersection(*entities)\n",
    "        specifics = []\n",
    "        for entity in entities:\n",
    "            specifics.append(entity - u)\n",
    "            if len(entity - u) > 1:\n",
    "                log.append(rID + ' ' + crID)\n",
    "        sset = set.union(*specifics)\n",
    "        setID2members['sset:'+set_name] = sset\n",
    "        df = pd.DataFrame({'set_ID':'sset:'+set_name,'record':list(sset)})\n",
    "        result = ['sset:'+set_name]\n",
    "     \n",
    "        for i in u:\n",
    "            result.append(i)\n",
    "        members2setID = utils.update_dict(members2setID,df,'record','set_ID') #dict of {uniprot records:{set_IDs}}\n",
    "        setID2members = utils.update_dict(setID2members,df,'set_ID','record') #dict of {set_ID:{uniprot records}}\n",
    "        #log.append(result)\n",
    "        return result\n",
    "        \n",
    "\n",
    "    else:\n",
    "        log.append('not found:'+x)\n"
   ]
  },
  {
   "cell_type": "code",
   "execution_count": 112,
   "id": "adjusted-activity",
   "metadata": {},
   "outputs": [
    {
     "data": {
      "text/plain": [
       "['sset:p-ERBB4cyt1 homodimers', 'sset:NRGs/EGF-like ligands']"
      ]
     },
     "execution_count": 112,
     "metadata": {},
     "output_type": "execute_result"
    }
   ],
   "source": [
    "#rIDs = identifiers.to_frame(name='rID')\n",
    "rIDs = pd.DataFrame({'rID':['http://purl.obolibrary.org/obo/go/extensions/reacto.owl#REACTO_R-HSA-1250351']})\n",
    "rIDs['crID']=rIDs.rID\n",
    "#rIDs=rIDs[3505:3506]\n",
    "#rIDs=rIDs[rIDs['rID']=='http://purl.obolibrary.org/obo/go/extensions/reacto.owl#REACTO_R-HSA-158197'] #nested complex\n",
    "#rIDs=rIDs[rIDs['rID']=='http://purl.obolibrary.org/obo/go/extensions/reacto.owl#REACTO_R-HSA-1168601']\n",
    "#rIDs = pd.DataFrame({'rID':['http://purl.obolibrary.org/obo/go/extensions/reacto.owl#REACTO_R-HSA-158172'],'crID':['http://purl.obolibrary.org/obo/go/extensions/reacto.owl#REACTO_R-HSA-158172']})\n",
    "rIDs = rIDs.drop_duplicates()\n",
    "uIDs = {}\n",
    "members2setID = {} \n",
    "setID2members = {}\n",
    "log = []\n",
    "rIDs['uIDs']=rIDs.crID.apply(lambda x: recurse(x,x,members2setID,setID2members,log))\n",
    "rIDs.uIDs.values[0]"
   ]
  },
  {
   "cell_type": "code",
   "execution_count": 108,
   "id": "critical-enough",
   "metadata": {},
   "outputs": [
    {
     "data": {
      "text/plain": [
       "{'sset:EGF-like ligands', 'sset:NRG1/2/3/4'}"
      ]
     },
     "execution_count": 108,
     "metadata": {},
     "output_type": "execute_result"
    }
   ],
   "source": [
    "setID2members.get('sset:NRGs/EGF-like ligands')"
   ]
  },
  {
   "cell_type": "code",
   "execution_count": 110,
   "id": "advisory-academy",
   "metadata": {},
   "outputs": [
    {
     "data": {
      "text/plain": [
       "{'http://identifiers.org/uniprot/O14511',\n",
       " 'http://identifiers.org/uniprot/P56975',\n",
       " 'http://identifiers.org/uniprot/Q02297',\n",
       " 'http://identifiers.org/uniprot/Q8WWG1'}"
      ]
     },
     "execution_count": 110,
     "metadata": {},
     "output_type": "execute_result"
    }
   ],
   "source": [
    "setID2members.get('sset:NRG1/2/3/4')"
   ]
  },
  {
   "cell_type": "code",
   "execution_count": 30,
   "id": "concrete-monitor",
   "metadata": {},
   "outputs": [
    {
     "data": {
      "text/plain": [
       "'prots'"
      ]
     },
     "execution_count": 30,
     "metadata": {},
     "output_type": "execute_result"
    }
   ],
   "source": [
    "loc.get('http://purl.obolibrary.org/obo/go/extensions/reacto.owl#REACTO_R-HSA-158213')"
   ]
  },
  {
   "cell_type": "code",
   "execution_count": 35,
   "id": "educated-creation",
   "metadata": {},
   "outputs": [
    {
     "data": {
      "text/html": [
       "<div>\n",
       "<style scoped>\n",
       "    .dataframe tbody tr th:only-of-type {\n",
       "        vertical-align: middle;\n",
       "    }\n",
       "\n",
       "    .dataframe tbody tr th {\n",
       "        vertical-align: top;\n",
       "    }\n",
       "\n",
       "    .dataframe thead th {\n",
       "        text-align: right;\n",
       "    }\n",
       "</style>\n",
       "<table border=\"1\" class=\"dataframe\">\n",
       "  <thead>\n",
       "    <tr style=\"text-align: right;\">\n",
       "      <th></th>\n",
       "      <th>crID</th>\n",
       "      <th>name</th>\n",
       "      <th>type</th>\n",
       "      <th>entity_from_set</th>\n",
       "    </tr>\n",
       "  </thead>\n",
       "  <tbody>\n",
       "    <tr>\n",
       "      <th>0</th>\n",
       "      <td>http://purl.obolibrary.org/obo/go/extensions/reacto.owl#REACTO_R-HSA-8938273</td>\n",
       "      <td>PARPs</td>\n",
       "      <td>BioPAX type: interface org.biopax.paxtools.model.level3.Protein</td>\n",
       "      <td>http://purl.obolibrary.org/obo/go/extensions/reacto.owl#REACTO_R-HSA-8938258</td>\n",
       "    </tr>\n",
       "    <tr>\n",
       "      <th>1</th>\n",
       "      <td>http://purl.obolibrary.org/obo/go/extensions/reacto.owl#REACTO_R-HSA-8938273</td>\n",
       "      <td>PARPs</td>\n",
       "      <td>BioPAX type: interface org.biopax.paxtools.model.level3.Protein</td>\n",
       "      <td>http://purl.obolibrary.org/obo/go/extensions/reacto.owl#REACTO_R-HSA-8938259</td>\n",
       "    </tr>\n",
       "    <tr>\n",
       "      <th>2</th>\n",
       "      <td>http://purl.obolibrary.org/obo/go/extensions/reacto.owl#REACTO_R-HSA-8938273</td>\n",
       "      <td>PARPs</td>\n",
       "      <td>BioPAX type: interface org.biopax.paxtools.model.level3.Protein</td>\n",
       "      <td>http://purl.obolibrary.org/obo/go/extensions/reacto.owl#REACTO_R-HSA-8938261</td>\n",
       "    </tr>\n",
       "    <tr>\n",
       "      <th>3</th>\n",
       "      <td>http://purl.obolibrary.org/obo/go/extensions/reacto.owl#REACTO_R-HSA-8938273</td>\n",
       "      <td>PARPs</td>\n",
       "      <td>BioPAX type: interface org.biopax.paxtools.model.level3.Protein</td>\n",
       "      <td>http://purl.obolibrary.org/obo/go/extensions/reacto.owl#REACTO_R-HSA-8938262</td>\n",
       "    </tr>\n",
       "    <tr>\n",
       "      <th>4</th>\n",
       "      <td>http://purl.obolibrary.org/obo/go/extensions/reacto.owl#REACTO_R-HSA-8938273</td>\n",
       "      <td>PARPs</td>\n",
       "      <td>BioPAX type: interface org.biopax.paxtools.model.level3.Protein</td>\n",
       "      <td>http://purl.obolibrary.org/obo/go/extensions/reacto.owl#REACTO_R-HSA-8938272</td>\n",
       "    </tr>\n",
       "    <tr>\n",
       "      <th>5</th>\n",
       "      <td>http://purl.obolibrary.org/obo/go/extensions/reacto.owl#REACTO_R-HSA-8938273</td>\n",
       "      <td>PARPs</td>\n",
       "      <td>BioPAX type: interface org.biopax.paxtools.model.level3.Protein</td>\n",
       "      <td>http://purl.obolibrary.org/obo/go/extensions/reacto.owl#REACTO_R-HSA-8938277</td>\n",
       "    </tr>\n",
       "    <tr>\n",
       "      <th>6</th>\n",
       "      <td>http://purl.obolibrary.org/obo/go/extensions/reacto.owl#REACTO_R-HSA-8938273</td>\n",
       "      <td>PARPs</td>\n",
       "      <td>BioPAX type: interface org.biopax.paxtools.model.level3.Protein</td>\n",
       "      <td>http://purl.obolibrary.org/obo/go/extensions/reacto.owl#REACTO_R-HSA-8938279</td>\n",
       "    </tr>\n",
       "  </tbody>\n",
       "</table>\n",
       "</div>"
      ],
      "text/plain": [
       "                                                                           crID  \\\n",
       "0  http://purl.obolibrary.org/obo/go/extensions/reacto.owl#REACTO_R-HSA-8938273   \n",
       "1  http://purl.obolibrary.org/obo/go/extensions/reacto.owl#REACTO_R-HSA-8938273   \n",
       "2  http://purl.obolibrary.org/obo/go/extensions/reacto.owl#REACTO_R-HSA-8938273   \n",
       "3  http://purl.obolibrary.org/obo/go/extensions/reacto.owl#REACTO_R-HSA-8938273   \n",
       "4  http://purl.obolibrary.org/obo/go/extensions/reacto.owl#REACTO_R-HSA-8938273   \n",
       "5  http://purl.obolibrary.org/obo/go/extensions/reacto.owl#REACTO_R-HSA-8938273   \n",
       "6  http://purl.obolibrary.org/obo/go/extensions/reacto.owl#REACTO_R-HSA-8938273   \n",
       "\n",
       "    name                                                             type  \\\n",
       "0  PARPs  BioPAX type: interface org.biopax.paxtools.model.level3.Protein   \n",
       "1  PARPs  BioPAX type: interface org.biopax.paxtools.model.level3.Protein   \n",
       "2  PARPs  BioPAX type: interface org.biopax.paxtools.model.level3.Protein   \n",
       "3  PARPs  BioPAX type: interface org.biopax.paxtools.model.level3.Protein   \n",
       "4  PARPs  BioPAX type: interface org.biopax.paxtools.model.level3.Protein   \n",
       "5  PARPs  BioPAX type: interface org.biopax.paxtools.model.level3.Protein   \n",
       "6  PARPs  BioPAX type: interface org.biopax.paxtools.model.level3.Protein   \n",
       "\n",
       "                                                                entity_from_set  \n",
       "0  http://purl.obolibrary.org/obo/go/extensions/reacto.owl#REACTO_R-HSA-8938258  \n",
       "1  http://purl.obolibrary.org/obo/go/extensions/reacto.owl#REACTO_R-HSA-8938259  \n",
       "2  http://purl.obolibrary.org/obo/go/extensions/reacto.owl#REACTO_R-HSA-8938261  \n",
       "3  http://purl.obolibrary.org/obo/go/extensions/reacto.owl#REACTO_R-HSA-8938262  \n",
       "4  http://purl.obolibrary.org/obo/go/extensions/reacto.owl#REACTO_R-HSA-8938272  \n",
       "5  http://purl.obolibrary.org/obo/go/extensions/reacto.owl#REACTO_R-HSA-8938277  \n",
       "6  http://purl.obolibrary.org/obo/go/extensions/reacto.owl#REACTO_R-HSA-8938279  "
      ]
     },
     "execution_count": 35,
     "metadata": {},
     "output_type": "execute_result"
    }
   ],
   "source": [
    "sets.query('crID == \"http://purl.obolibrary.org/obo/go/extensions/reacto.owl#REACTO_R-HSA-8938273\"')"
   ]
  },
  {
   "cell_type": "code",
   "execution_count": 105,
   "id": "casual-arlington",
   "metadata": {},
   "outputs": [
    {
     "data": {
      "text/html": [
       "<div>\n",
       "<style scoped>\n",
       "    .dataframe tbody tr th:only-of-type {\n",
       "        vertical-align: middle;\n",
       "    }\n",
       "\n",
       "    .dataframe tbody tr th {\n",
       "        vertical-align: top;\n",
       "    }\n",
       "\n",
       "    .dataframe thead th {\n",
       "        text-align: right;\n",
       "    }\n",
       "</style>\n",
       "<table border=\"1\" class=\"dataframe\">\n",
       "  <thead>\n",
       "    <tr style=\"text-align: right;\">\n",
       "      <th></th>\n",
       "      <th>rID</th>\n",
       "      <th>crID</th>\n",
       "    </tr>\n",
       "  </thead>\n",
       "  <tbody>\n",
       "    <tr>\n",
       "      <th>3505</th>\n",
       "      <td>http://purl.obolibrary.org/obo/go/extensions/reacto.owl#REACTO_R-HSA-5672720</td>\n",
       "      <td>http://purl.obolibrary.org/obo/go/extensions/reacto.owl#REACTO_R-HSA-5672720</td>\n",
       "    </tr>\n",
       "  </tbody>\n",
       "</table>\n",
       "</div>"
      ],
      "text/plain": [
       "                                                                               rID  \\\n",
       "3505  http://purl.obolibrary.org/obo/go/extensions/reacto.owl#REACTO_R-HSA-5672720   \n",
       "\n",
       "                                                                              crID  \n",
       "3505  http://purl.obolibrary.org/obo/go/extensions/reacto.owl#REACTO_R-HSA-5672720  "
      ]
     },
     "execution_count": 105,
     "metadata": {},
     "output_type": "execute_result"
    }
   ],
   "source": [
    "rIDs = identifiers.to_frame(name='rID')\n",
    "rIDs['crID']=rIDs.rID\n",
    "rIDs=rIDs[3505:3506]\n",
    "rIDs"
   ]
  },
  {
   "cell_type": "code",
   "execution_count": null,
   "id": "secondary-intellectual",
   "metadata": {},
   "outputs": [],
   "source": [
    "%%time\n",
    "\n",
    "log_c=[] #complex with no component\n",
    "log=[] #c_list\n",
    "log_rIDs = []\n",
    "uIDs = {}\n",
    "members2setID= {}\n",
    "setID2members= {}\n",
    "#df rID (the original rID from a GOCAM), crID (the current rID to search with)\n",
    "#the first rIDs df has the original rIDs duplicated as the component to start the search\n",
    "rIDs = identifiers.to_frame(name='rID')\n",
    "rIDs['crID']=rIDs.rID\n",
    "rIDs=rIDs[3505:3506]\n",
    "rIDs = rIDs.drop_duplicates()\n",
    "\n",
    "f_recursive(rIDs,uIDs,0, members2setID, setID2members)\n",
    "'http://purl.obolibrary.org/obo/go/extensions/reacto.owl#REACTO_R-HSA-5672713' in uIDs\n",
    "#utils.dict2csv(uIDs,'../data/uIDs.csv')\n",
    "#utils.dict2csv(members2setID,'../data/members2setID.csv')\n",
    "#utils.dict2csv(setID2members,'../data/setID2members.csv')"
   ]
  }
 ],
 "metadata": {
  "kernelspec": {
   "display_name": "Python 3",
   "language": "python",
   "name": "python3"
  },
  "language_info": {
   "codemirror_mode": {
    "name": "ipython",
    "version": 3
   },
   "file_extension": ".py",
   "mimetype": "text/x-python",
   "name": "python",
   "nbconvert_exporter": "python",
   "pygments_lexer": "ipython3",
   "version": "3.7.9"
  }
 },
 "nbformat": 4,
 "nbformat_minor": 5
}
