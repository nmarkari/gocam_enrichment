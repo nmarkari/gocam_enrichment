{
 "cells": [
  {
   "cell_type": "code",
   "execution_count": 1,
   "id": "vietnamese-colors",
   "metadata": {},
   "outputs": [
    {
     "name": "stdout",
     "output_type": "stream",
     "text": [
      "Tue Dec 13 11:41:10 PST 2022\n"
     ]
    }
   ],
   "source": [
    "!date\n",
    "import pandas as pd\n",
    "import numpy as np\n",
    "import matplotlib.pyplot as plt\n",
    "import scipy.stats\n",
    "from scipy.stats import hypergeom\n",
    "import sys\n",
    "sys.path.append('../GOCAM_Project/dev')\n",
    "import os\n",
    "\n",
    "import utils\n",
    "import enrich\n",
    "pd.options.display.max_colwidth = 100"
   ]
  },
  {
   "cell_type": "markdown",
   "id": "married-booth",
   "metadata": {},
   "source": [
    "# Comparing Set and Fully Flattened Methods on the Cancer Dataset"
   ]
  },
  {
   "cell_type": "code",
   "execution_count": 2,
   "id": "essential-yukon",
   "metadata": {},
   "outputs": [],
   "source": [
    "def drop_threshold(genes, cancer_test_set, uniprot2input, gocam_sizes, Dict, thresholds):\n",
    "    results = {}\n",
    "    for a in thresholds:\n",
    "        r = set(enrich.enrich(genes, cancer_test_set, uniprot2input, gocam_sizes, Dict, alpha = a)[4].title.values)\n",
    "        results[a]=r\n",
    "    return results\n",
    "    "
   ]
  },
  {
   "cell_type": "code",
   "execution_count": 3,
   "id": "successful-enough",
   "metadata": {},
   "outputs": [],
   "source": [
    "gene_list = pd.read_csv('../../Desktop/GOCAM/cancer.csv',header=None,names = ['g'])\n",
    "cancer_test_set, uniprot2input, not_converted = utils.convert_IDs(gene_list,'Gene Symbol')\n",
    "x = pd.read_csv('../data/gocam_sizes_mouse.csv')\n",
    "gocam_sizes = pd.Series(x.sizes.values,index=x.gocam)\n",
    "Dict = utils.csv2dict('../data/ID2gocam_mouse.csv')\n",
    "\n",
    "results = drop_threshold(list(gene_list.g), cancer_test_set, uniprot2input, gocam_sizes, Dict, [.05,.1,.15,.5])\n",
    "c_set_05 = results[.05]\n",
    "c_set_10 = results[.10]\n",
    "c_set_15 = results[.15]\n",
    "c_set_50 = results[.50]\n"
   ]
  },
  {
   "cell_type": "code",
   "execution_count": 4,
   "id": "adjacent-pharmacy",
   "metadata": {},
   "outputs": [],
   "source": [
    "gene_list = pd.read_csv('../../Desktop/GOCAM/cancer.csv',header=None,names = ['g'])\n",
    "cancer_test_set, uniprot2input, not_converted = utils.convert_IDs(gene_list,'Gene Symbol')\n",
    "x = pd.read_csv('../data/gocam_sizes_mouse_ff.csv')\n",
    "gocam_sizes = pd.Series(x.sizes.values,index=x.gocam)\n",
    "Dict = utils.csv2dict('../data/ID2gocam_mouse_ff.csv')\n",
    "\n",
    "results = drop_threshold(list(gene_list.g), cancer_test_set, uniprot2input, gocam_sizes, Dict, [.05,.1,.15,.5])\n",
    "c_ff_05 = results[.05]\n",
    "c_ff_10 = results[.10]\n",
    "c_ff_15 = results[.15]\n",
    "c_ff_50 = results[.50]"
   ]
  },
  {
   "cell_type": "markdown",
   "id": "genuine-handling",
   "metadata": {},
   "source": [
    "The next two cells evaluate the set differences between the results at alpha = .05 post-multiple testing correction from the set method (cancer) and the fully flattened method (cancer_ff). All significance levels below are post-FDR correction.\n",
    "\n",
    "First, we take the set difference of cancer and c_dif to obtain c_dif and vice versa to obtain c_ff_dif. Focusing on c_dif, we then ask if there is this set difference is created by some results being pushed just beyond the arbitrary threshold of .05 (ie from .04 to .06), which is practically not different. We generate cancer_ff_10, cancer_ff_15 and, cancer_ff_50 by rerunning enrichment with .10,.15, and .50 as significance cutoffs post-correction. We repeat the procedure of cancer-cancer_ff with cancer_ff_10,15,50 substituted for cancer_ff to see how far those highly significant results in the normal set method got pushed down the result list in the fully flattened method. The sequence of 8,7,5,5 means that the 5 results from set enrichment at .05 significance (post-correction) which are still not captured at .15 in the fully flattened metod are still not captured at .50. This suggests that set method of enrichment yields results that are completely missed by the fully flattened method. These 5 comprise a significant fraction of the 21 results yielded by the set method.\n",
    "\n",
    "Conversely, when repeating the above procedure for the set difference between the fully flattened method and the set method, the sequence is 25,21,17,9. For reference, there are 38 results at .05 significance. Comparing 8/21 and 25/38, we see an increased proportion of unique results in a head to head comparison at .05 significance. (Keep in mind that unique results are not necessarily a good thing overall because it means that the enrichment results are sensitive to the method of representation). However, there steady decrease in the sequence from 25 to 21, to 17, to 9, and both reach a proportion of 25% uniqueness.\n",
    "\n",
    "Regarding the uniqueness, this is largely produced by the increased gocam size (ie increasing from 13 to 122 genes is a huge penalty). To some extent, this can be mitigated by overcounting of sets, which I believe is responsible for the uniqueness of results from the fully flattened methods. However, there theoretically is another case in which the fully flattened method is superior due to the increased background size from ~4000 to ~5000 (many genes appear in gocams only in sets and this method allows them to contribute to the background when they wouldn't have done so in the set method). Consider a relatively large gocam with 15 genes and no sets (so the gocam size is 10 in both methods). Let's say that there is an overlap of 8 genes with the target set. With an decreased background size of 80% and naively using a binomial approximation of the solution, we have P(choose a gene to overlap from N)=N/M in the fully flattened method be 80% of the value for the set method. The complement probability P(not choosing a gene in N)=1-N/M is effectively unchanged because M>>N. Because we raise (N/M) and (1-N/M) to the power of k, we expect the ratio of  binomial probability via the two methods with different values for M to be (.80)^k. For larger k, the smaller background will be more significantly penalized. In the case of k=8, the ratio is .16, giving an advantage to the fully flattened method. This likely cannot account for more than a single order of magnitude difference in p value for the overwhelming majority of gocams, as they tend to be small in size, but it may become a concern if multiple gocams are linked together into larger models\n",
    "\n"
   ]
  },
  {
   "cell_type": "code",
   "execution_count": 5,
   "id": "thousand-cycle",
   "metadata": {},
   "outputs": [
    {
     "data": {
      "text/plain": [
       "{'ERBB2 Activates PTK6 Signaling - Reactome',\n",
       " 'ERBB2 Regulates Cell Motility - Reactome',\n",
       " 'G beta:gamma signalling through PI3Kgamma - Reactome',\n",
       " 'PD-1 signaling - Reactome',\n",
       " 'PI3K/AKT activation - Reactome',\n",
       " 'PLCG1 events in ERBB2 signaling - Reactome',\n",
       " 'Role of LAT2/NTAL/LAB on calcium mobilization - Reactome',\n",
       " 'Role of phospholipids in phagocytosis - Reactome',\n",
       " 'SHC1 events in ERBB2 signaling - Reactome',\n",
       " 'Signaling by ERBB2 - Reactome'}"
      ]
     },
     "execution_count": 5,
     "metadata": {},
     "output_type": "execute_result"
    }
   ],
   "source": [
    "c_set_05-c_ff_05"
   ]
  },
  {
   "cell_type": "code",
   "execution_count": 6,
   "id": "touched-olympus",
   "metadata": {},
   "outputs": [
    {
     "data": {
      "text/plain": [
       "{'Activated NTRK3 signals through PI3K - Reactome',\n",
       " 'Activation of NOXA and translocation to mitochondria - Reactome',\n",
       " 'Activation of PUMA and translocation to mitochondria - Reactome',\n",
       " 'Attenuation phase - Reactome',\n",
       " 'Citric acid cycle (TCA cycle) - Reactome',\n",
       " 'Cyclin D associated events in G1 - Reactome',\n",
       " 'Cyclin E associated events during G1/S transition - Reactome',\n",
       " 'FLT3 Signaling - Reactome',\n",
       " 'Formation of Incision Complex in GG-NER - Reactome',\n",
       " 'HDR through Single Strand Annealing (SSA) - Reactome',\n",
       " 'Inhibition of replication initiation of damaged DNA by RB1/E2F1 - Reactome',\n",
       " 'Interleukin-2 signaling - Reactome',\n",
       " 'Meiotic recombination - Reactome',\n",
       " 'Nuclear events mediated by NFE2L2 - Reactome',\n",
       " 'Oxidative Stress Induced Senescence - Reactome',\n",
       " 'PI5P, PP2A and IER3 Regulate PI3K/AKT Signaling - Reactome',\n",
       " 'Processing of DNA double-strand break ends - Reactome',\n",
       " 'RAF activation - Reactome',\n",
       " 'RAF/MAP kinase cascade - Reactome',\n",
       " 'Regulation of TP53 Activity through Acetylation - Reactome',\n",
       " 'Regulation of TP53 Activity through Association with Co-factors - Reactome',\n",
       " 'Regulation of TP53 Activity through Methylation - Reactome',\n",
       " 'Role of ABL in ROBO-SLIT signaling - Reactome',\n",
       " 'Signaling by PDGF - Reactome'}"
      ]
     },
     "execution_count": 6,
     "metadata": {},
     "output_type": "execute_result"
    }
   ],
   "source": [
    "c_ff_05-c_set_05"
   ]
  },
  {
   "cell_type": "code",
   "execution_count": 7,
   "id": "governmental-million",
   "metadata": {},
   "outputs": [
    {
     "data": {
      "text/plain": [
       "(10, 8, 8, 7, 29)"
      ]
     },
     "execution_count": 7,
     "metadata": {},
     "output_type": "execute_result"
    }
   ],
   "source": [
    "len(c_set_05-c_ff_05),len(c_set_05-c_ff_10),len(c_set_05-c_ff_15),len(c_set_05-c_ff_50),len(c_set_05)"
   ]
  },
  {
   "cell_type": "code",
   "execution_count": 8,
   "id": "distant-sleeping",
   "metadata": {},
   "outputs": [
    {
     "data": {
      "text/plain": [
       "(24, 18, 16, 8, 43)"
      ]
     },
     "execution_count": 8,
     "metadata": {},
     "output_type": "execute_result"
    }
   ],
   "source": [
    "len(c_ff_05 -c_set_05),len(c_ff_05- c_set_10),len(c_ff_05- c_set_15),len(c_ff_05- c_set_50),len(c_ff_05)"
   ]
  },
  {
   "cell_type": "markdown",
   "id": "sufficient-conservative",
   "metadata": {},
   "source": [
    "The next 3 cells investigate the relative and absolute changes in gocam size that result from the set method. On average, there is mean 22% reduction in gocam size, with a 75th percentile change of 40% and a 50th percentile change of 6%. Based on this, a significant proportion of models could greatly benefit from set representation."
   ]
  },
  {
   "cell_type": "code",
   "execution_count": 9,
   "id": "streaming-coalition",
   "metadata": {},
   "outputs": [
    {
     "data": {
      "text/html": [
       "<div>\n",
       "<style scoped>\n",
       "    .dataframe tbody tr th:only-of-type {\n",
       "        vertical-align: middle;\n",
       "    }\n",
       "\n",
       "    .dataframe tbody tr th {\n",
       "        vertical-align: top;\n",
       "    }\n",
       "\n",
       "    .dataframe thead th {\n",
       "        text-align: right;\n",
       "    }\n",
       "</style>\n",
       "<table border=\"1\" class=\"dataframe\">\n",
       "  <thead>\n",
       "    <tr style=\"text-align: right;\">\n",
       "      <th></th>\n",
       "      <th>gocam</th>\n",
       "      <th>sizes</th>\n",
       "      <th>sizes_ff</th>\n",
       "      <th>diff</th>\n",
       "    </tr>\n",
       "  </thead>\n",
       "  <tbody>\n",
       "    <tr>\n",
       "      <th>213</th>\n",
       "      <td>http://model.geneontology.org/R-HSA-4090294</td>\n",
       "      <td>12</td>\n",
       "      <td>9</td>\n",
       "      <td>-3</td>\n",
       "    </tr>\n",
       "    <tr>\n",
       "      <th>267</th>\n",
       "      <td>http://model.geneontology.org/R-HSA-3232118</td>\n",
       "      <td>10</td>\n",
       "      <td>9</td>\n",
       "      <td>-1</td>\n",
       "    </tr>\n",
       "    <tr>\n",
       "      <th>283</th>\n",
       "      <td>http://model.geneontology.org/R-HSA-3214858</td>\n",
       "      <td>10</td>\n",
       "      <td>9</td>\n",
       "      <td>-1</td>\n",
       "    </tr>\n",
       "    <tr>\n",
       "      <th>382</th>\n",
       "      <td>http://model.geneontology.org/R-HSA-69541</td>\n",
       "      <td>8</td>\n",
       "      <td>7</td>\n",
       "      <td>-1</td>\n",
       "    </tr>\n",
       "    <tr>\n",
       "      <th>446</th>\n",
       "      <td>http://model.geneontology.org/R-HSA-5649702</td>\n",
       "      <td>7</td>\n",
       "      <td>6</td>\n",
       "      <td>-1</td>\n",
       "    </tr>\n",
       "    <tr>\n",
       "      <th>492</th>\n",
       "      <td>http://model.geneontology.org/R-HSA-111465</td>\n",
       "      <td>6</td>\n",
       "      <td>5</td>\n",
       "      <td>-1</td>\n",
       "    </tr>\n",
       "    <tr>\n",
       "      <th>564</th>\n",
       "      <td>http://model.geneontology.org/R-HSA-9028731</td>\n",
       "      <td>5</td>\n",
       "      <td>4</td>\n",
       "      <td>-1</td>\n",
       "    </tr>\n",
       "    <tr>\n",
       "      <th>575</th>\n",
       "      <td>http://model.geneontology.org/R-HSA-9026527</td>\n",
       "      <td>5</td>\n",
       "      <td>4</td>\n",
       "      <td>-1</td>\n",
       "    </tr>\n",
       "    <tr>\n",
       "      <th>845</th>\n",
       "      <td>http://model.geneontology.org/R-HSA-2454202</td>\n",
       "      <td>3</td>\n",
       "      <td>2</td>\n",
       "      <td>-1</td>\n",
       "    </tr>\n",
       "  </tbody>\n",
       "</table>\n",
       "</div>"
      ],
      "text/plain": [
       "                                           gocam  sizes  sizes_ff  diff\n",
       "213  http://model.geneontology.org/R-HSA-4090294     12         9    -3\n",
       "267  http://model.geneontology.org/R-HSA-3232118     10         9    -1\n",
       "283  http://model.geneontology.org/R-HSA-3214858     10         9    -1\n",
       "382    http://model.geneontology.org/R-HSA-69541      8         7    -1\n",
       "446  http://model.geneontology.org/R-HSA-5649702      7         6    -1\n",
       "492   http://model.geneontology.org/R-HSA-111465      6         5    -1\n",
       "564  http://model.geneontology.org/R-HSA-9028731      5         4    -1\n",
       "575  http://model.geneontology.org/R-HSA-9026527      5         4    -1\n",
       "845  http://model.geneontology.org/R-HSA-2454202      3         2    -1"
      ]
     },
     "execution_count": 9,
     "metadata": {},
     "output_type": "execute_result"
    }
   ],
   "source": [
    "x1 = pd.read_csv('../data/gocam_sizes_mouse.csv')\n",
    "x2 = pd.read_csv('../data/gocam_sizes_mouse_ff.csv')\n",
    "d = pd.Series(x2.sizes.values,index=x2.gocam).to_dict()\n",
    "x1['sizes_ff'] = x1.gocam.apply(lambda x: d.get(x,'F'))\n",
    "x1 = x1.query('sizes_ff != \"F\"')\n",
    "x1['diff'] = x1['sizes_ff'] - x1['sizes']\n",
    "x1.query('diff < 0')\n"
   ]
  },
  {
   "cell_type": "code",
   "execution_count": 10,
   "id": "modified-waters",
   "metadata": {},
   "outputs": [
    {
     "data": {
      "text/plain": [
       "count    1211\n",
       "mean        5\n",
       "std        19\n",
       "min        -3\n",
       "25%         0\n",
       "50%         1\n",
       "75%         4\n",
       "max       255\n",
       "Name: diff, dtype: int64"
      ]
     },
     "execution_count": 10,
     "metadata": {},
     "output_type": "execute_result"
    }
   ],
   "source": [
    "#absolute difference\n",
    "s = x1['diff']\n",
    "s = pd.to_numeric(s)\n",
    "s.describe().apply(lambda x: int(x))"
   ]
  },
  {
   "cell_type": "code",
   "execution_count": 11,
   "id": "juvenile-humanity",
   "metadata": {},
   "outputs": [
    {
     "data": {
      "text/plain": [
       "count    1211\n",
       "mean      -20\n",
       "std        27\n",
       "min       -98\n",
       "25%       -40\n",
       "50%        -3\n",
       "75%         0\n",
       "max        50\n",
       "dtype: int64"
      ]
     },
     "execution_count": 11,
     "metadata": {},
     "output_type": "execute_result"
    }
   ],
   "source": [
    "#relative difference\n",
    "s1 = -x1['diff']/x1['sizes_ff']*100\n",
    "s1 = pd.to_numeric(s1)\n",
    "s1.describe().apply(lambda x: int(x))"
   ]
  },
  {
   "cell_type": "code",
   "execution_count": 12,
   "id": "shaped-effects",
   "metadata": {},
   "outputs": [],
   "source": [
    "#setID2members.get('sset:EPH-ephrin oligomers')"
   ]
  },
  {
   "cell_type": "markdown",
   "id": "vertical-laptop",
   "metadata": {},
   "source": [
    "# Repeating analysis across all datasets"
   ]
  },
  {
   "cell_type": "code",
   "execution_count": 13,
   "id": "9ca49c2d-cb4b-4682-a213-b85a02af69c6",
   "metadata": {},
   "outputs": [
    {
     "data": {
      "text/html": [
       "<div class=\"bk-root\">\n",
       "        <a href=\"https://bokeh.org\" target=\"_blank\" class=\"bk-logo bk-logo-small bk-logo-notebook\"></a>\n",
       "        <span id=\"1002\">Loading BokehJS ...</span>\n",
       "    </div>\n"
      ]
     },
     "metadata": {},
     "output_type": "display_data"
    },
    {
     "data": {
      "application/javascript": [
       "(function(root) {\n",
       "  function now() {\n",
       "    return new Date();\n",
       "  }\n",
       "\n",
       "  const force = true;\n",
       "\n",
       "  if (typeof root._bokeh_onload_callbacks === \"undefined\" || force === true) {\n",
       "    root._bokeh_onload_callbacks = [];\n",
       "    root._bokeh_is_loading = undefined;\n",
       "  }\n",
       "\n",
       "const JS_MIME_TYPE = 'application/javascript';\n",
       "  const HTML_MIME_TYPE = 'text/html';\n",
       "  const EXEC_MIME_TYPE = 'application/vnd.bokehjs_exec.v0+json';\n",
       "  const CLASS_NAME = 'output_bokeh rendered_html';\n",
       "\n",
       "  /**\n",
       "   * Render data to the DOM node\n",
       "   */\n",
       "  function render(props, node) {\n",
       "    const script = document.createElement(\"script\");\n",
       "    node.appendChild(script);\n",
       "  }\n",
       "\n",
       "  /**\n",
       "   * Handle when an output is cleared or removed\n",
       "   */\n",
       "  function handleClearOutput(event, handle) {\n",
       "    const cell = handle.cell;\n",
       "\n",
       "    const id = cell.output_area._bokeh_element_id;\n",
       "    const server_id = cell.output_area._bokeh_server_id;\n",
       "    // Clean up Bokeh references\n",
       "    if (id != null && id in Bokeh.index) {\n",
       "      Bokeh.index[id].model.document.clear();\n",
       "      delete Bokeh.index[id];\n",
       "    }\n",
       "\n",
       "    if (server_id !== undefined) {\n",
       "      // Clean up Bokeh references\n",
       "      const cmd_clean = \"from bokeh.io.state import curstate; print(curstate().uuid_to_server['\" + server_id + \"'].get_sessions()[0].document.roots[0]._id)\";\n",
       "      cell.notebook.kernel.execute(cmd_clean, {\n",
       "        iopub: {\n",
       "          output: function(msg) {\n",
       "            const id = msg.content.text.trim();\n",
       "            if (id in Bokeh.index) {\n",
       "              Bokeh.index[id].model.document.clear();\n",
       "              delete Bokeh.index[id];\n",
       "            }\n",
       "          }\n",
       "        }\n",
       "      });\n",
       "      // Destroy server and session\n",
       "      const cmd_destroy = \"import bokeh.io.notebook as ion; ion.destroy_server('\" + server_id + \"')\";\n",
       "      cell.notebook.kernel.execute(cmd_destroy);\n",
       "    }\n",
       "  }\n",
       "\n",
       "  /**\n",
       "   * Handle when a new output is added\n",
       "   */\n",
       "  function handleAddOutput(event, handle) {\n",
       "    const output_area = handle.output_area;\n",
       "    const output = handle.output;\n",
       "\n",
       "    // limit handleAddOutput to display_data with EXEC_MIME_TYPE content only\n",
       "    if ((output.output_type != \"display_data\") || (!Object.prototype.hasOwnProperty.call(output.data, EXEC_MIME_TYPE))) {\n",
       "      return\n",
       "    }\n",
       "\n",
       "    const toinsert = output_area.element.find(\".\" + CLASS_NAME.split(' ')[0]);\n",
       "\n",
       "    if (output.metadata[EXEC_MIME_TYPE][\"id\"] !== undefined) {\n",
       "      toinsert[toinsert.length - 1].firstChild.textContent = output.data[JS_MIME_TYPE];\n",
       "      // store reference to embed id on output_area\n",
       "      output_area._bokeh_element_id = output.metadata[EXEC_MIME_TYPE][\"id\"];\n",
       "    }\n",
       "    if (output.metadata[EXEC_MIME_TYPE][\"server_id\"] !== undefined) {\n",
       "      const bk_div = document.createElement(\"div\");\n",
       "      bk_div.innerHTML = output.data[HTML_MIME_TYPE];\n",
       "      const script_attrs = bk_div.children[0].attributes;\n",
       "      for (let i = 0; i < script_attrs.length; i++) {\n",
       "        toinsert[toinsert.length - 1].firstChild.setAttribute(script_attrs[i].name, script_attrs[i].value);\n",
       "        toinsert[toinsert.length - 1].firstChild.textContent = bk_div.children[0].textContent\n",
       "      }\n",
       "      // store reference to server id on output_area\n",
       "      output_area._bokeh_server_id = output.metadata[EXEC_MIME_TYPE][\"server_id\"];\n",
       "    }\n",
       "  }\n",
       "\n",
       "  function register_renderer(events, OutputArea) {\n",
       "\n",
       "    function append_mime(data, metadata, element) {\n",
       "      // create a DOM node to render to\n",
       "      const toinsert = this.create_output_subarea(\n",
       "        metadata,\n",
       "        CLASS_NAME,\n",
       "        EXEC_MIME_TYPE\n",
       "      );\n",
       "      this.keyboard_manager.register_events(toinsert);\n",
       "      // Render to node\n",
       "      const props = {data: data, metadata: metadata[EXEC_MIME_TYPE]};\n",
       "      render(props, toinsert[toinsert.length - 1]);\n",
       "      element.append(toinsert);\n",
       "      return toinsert\n",
       "    }\n",
       "\n",
       "    /* Handle when an output is cleared or removed */\n",
       "    events.on('clear_output.CodeCell', handleClearOutput);\n",
       "    events.on('delete.Cell', handleClearOutput);\n",
       "\n",
       "    /* Handle when a new output is added */\n",
       "    events.on('output_added.OutputArea', handleAddOutput);\n",
       "\n",
       "    /**\n",
       "     * Register the mime type and append_mime function with output_area\n",
       "     */\n",
       "    OutputArea.prototype.register_mime_type(EXEC_MIME_TYPE, append_mime, {\n",
       "      /* Is output safe? */\n",
       "      safe: true,\n",
       "      /* Index of renderer in `output_area.display_order` */\n",
       "      index: 0\n",
       "    });\n",
       "  }\n",
       "\n",
       "  // register the mime type if in Jupyter Notebook environment and previously unregistered\n",
       "  if (root.Jupyter !== undefined) {\n",
       "    const events = require('base/js/events');\n",
       "    const OutputArea = require('notebook/js/outputarea').OutputArea;\n",
       "\n",
       "    if (OutputArea.prototype.mime_types().indexOf(EXEC_MIME_TYPE) == -1) {\n",
       "      register_renderer(events, OutputArea);\n",
       "    }\n",
       "  }\n",
       "  if (typeof (root._bokeh_timeout) === \"undefined\" || force === true) {\n",
       "    root._bokeh_timeout = Date.now() + 5000;\n",
       "    root._bokeh_failed_load = false;\n",
       "  }\n",
       "\n",
       "  const NB_LOAD_WARNING = {'data': {'text/html':\n",
       "     \"<div style='background-color: #fdd'>\\n\"+\n",
       "     \"<p>\\n\"+\n",
       "     \"BokehJS does not appear to have successfully loaded. If loading BokehJS from CDN, this \\n\"+\n",
       "     \"may be due to a slow or bad network connection. Possible fixes:\\n\"+\n",
       "     \"</p>\\n\"+\n",
       "     \"<ul>\\n\"+\n",
       "     \"<li>re-rerun `output_notebook()` to attempt to load from CDN again, or</li>\\n\"+\n",
       "     \"<li>use INLINE resources instead, as so:</li>\\n\"+\n",
       "     \"</ul>\\n\"+\n",
       "     \"<code>\\n\"+\n",
       "     \"from bokeh.resources import INLINE\\n\"+\n",
       "     \"output_notebook(resources=INLINE)\\n\"+\n",
       "     \"</code>\\n\"+\n",
       "     \"</div>\"}};\n",
       "\n",
       "  function display_loaded() {\n",
       "    const el = document.getElementById(\"1002\");\n",
       "    if (el != null) {\n",
       "      el.textContent = \"BokehJS is loading...\";\n",
       "    }\n",
       "    if (root.Bokeh !== undefined) {\n",
       "      if (el != null) {\n",
       "        el.textContent = \"BokehJS \" + root.Bokeh.version + \" successfully loaded.\";\n",
       "      }\n",
       "    } else if (Date.now() < root._bokeh_timeout) {\n",
       "      setTimeout(display_loaded, 100)\n",
       "    }\n",
       "  }\n",
       "\n",
       "  function run_callbacks() {\n",
       "    try {\n",
       "      root._bokeh_onload_callbacks.forEach(function(callback) {\n",
       "        if (callback != null)\n",
       "          callback();\n",
       "      });\n",
       "    } finally {\n",
       "      delete root._bokeh_onload_callbacks\n",
       "    }\n",
       "    console.debug(\"Bokeh: all callbacks have finished\");\n",
       "  }\n",
       "\n",
       "  function load_libs(css_urls, js_urls, callback) {\n",
       "    if (css_urls == null) css_urls = [];\n",
       "    if (js_urls == null) js_urls = [];\n",
       "\n",
       "    root._bokeh_onload_callbacks.push(callback);\n",
       "    if (root._bokeh_is_loading > 0) {\n",
       "      console.debug(\"Bokeh: BokehJS is being loaded, scheduling callback at\", now());\n",
       "      return null;\n",
       "    }\n",
       "    if (js_urls == null || js_urls.length === 0) {\n",
       "      run_callbacks();\n",
       "      return null;\n",
       "    }\n",
       "    console.debug(\"Bokeh: BokehJS not loaded, scheduling load and callback at\", now());\n",
       "    root._bokeh_is_loading = css_urls.length + js_urls.length;\n",
       "\n",
       "    function on_load() {\n",
       "      root._bokeh_is_loading--;\n",
       "      if (root._bokeh_is_loading === 0) {\n",
       "        console.debug(\"Bokeh: all BokehJS libraries/stylesheets loaded\");\n",
       "        run_callbacks()\n",
       "      }\n",
       "    }\n",
       "\n",
       "    function on_error(url) {\n",
       "      console.error(\"failed to load \" + url);\n",
       "    }\n",
       "\n",
       "    for (let i = 0; i < css_urls.length; i++) {\n",
       "      const url = css_urls[i];\n",
       "      const element = document.createElement(\"link\");\n",
       "      element.onload = on_load;\n",
       "      element.onerror = on_error.bind(null, url);\n",
       "      element.rel = \"stylesheet\";\n",
       "      element.type = \"text/css\";\n",
       "      element.href = url;\n",
       "      console.debug(\"Bokeh: injecting link tag for BokehJS stylesheet: \", url);\n",
       "      document.body.appendChild(element);\n",
       "    }\n",
       "\n",
       "    for (let i = 0; i < js_urls.length; i++) {\n",
       "      const url = js_urls[i];\n",
       "      const element = document.createElement('script');\n",
       "      element.onload = on_load;\n",
       "      element.onerror = on_error.bind(null, url);\n",
       "      element.async = false;\n",
       "      element.src = url;\n",
       "      console.debug(\"Bokeh: injecting script tag for BokehJS library: \", url);\n",
       "      document.head.appendChild(element);\n",
       "    }\n",
       "  };\n",
       "\n",
       "  function inject_raw_css(css) {\n",
       "    const element = document.createElement(\"style\");\n",
       "    element.appendChild(document.createTextNode(css));\n",
       "    document.body.appendChild(element);\n",
       "  }\n",
       "\n",
       "  const js_urls = [\"https://cdn.bokeh.org/bokeh/release/bokeh-2.4.3.min.js\", \"https://cdn.bokeh.org/bokeh/release/bokeh-gl-2.4.3.min.js\", \"https://cdn.bokeh.org/bokeh/release/bokeh-widgets-2.4.3.min.js\", \"https://cdn.bokeh.org/bokeh/release/bokeh-tables-2.4.3.min.js\", \"https://cdn.bokeh.org/bokeh/release/bokeh-mathjax-2.4.3.min.js\"];\n",
       "  const css_urls = [];\n",
       "\n",
       "  const inline_js = [    function(Bokeh) {\n",
       "      Bokeh.set_log_level(\"info\");\n",
       "    },\n",
       "function(Bokeh) {\n",
       "    }\n",
       "  ];\n",
       "\n",
       "  function run_inline_js() {\n",
       "    if (root.Bokeh !== undefined || force === true) {\n",
       "          for (let i = 0; i < inline_js.length; i++) {\n",
       "      inline_js[i].call(root, root.Bokeh);\n",
       "    }\n",
       "if (force === true) {\n",
       "        display_loaded();\n",
       "      }} else if (Date.now() < root._bokeh_timeout) {\n",
       "      setTimeout(run_inline_js, 100);\n",
       "    } else if (!root._bokeh_failed_load) {\n",
       "      console.log(\"Bokeh: BokehJS failed to load within specified timeout.\");\n",
       "      root._bokeh_failed_load = true;\n",
       "    } else if (force !== true) {\n",
       "      const cell = $(document.getElementById(\"1002\")).parents('.cell').data().cell;\n",
       "      cell.output_area.append_execute_result(NB_LOAD_WARNING)\n",
       "    }\n",
       "  }\n",
       "\n",
       "  if (root._bokeh_is_loading === 0) {\n",
       "    console.debug(\"Bokeh: BokehJS loaded, going straight to plotting\");\n",
       "    run_inline_js();\n",
       "  } else {\n",
       "    load_libs(css_urls, js_urls, function() {\n",
       "      console.debug(\"Bokeh: BokehJS plotting callback run at\", now());\n",
       "      run_inline_js();\n",
       "    });\n",
       "  }\n",
       "}(window));"
      ],
      "application/vnd.bokehjs_load.v0+json": "(function(root) {\n  function now() {\n    return new Date();\n  }\n\n  const force = true;\n\n  if (typeof root._bokeh_onload_callbacks === \"undefined\" || force === true) {\n    root._bokeh_onload_callbacks = [];\n    root._bokeh_is_loading = undefined;\n  }\n\n\n  if (typeof (root._bokeh_timeout) === \"undefined\" || force === true) {\n    root._bokeh_timeout = Date.now() + 5000;\n    root._bokeh_failed_load = false;\n  }\n\n  const NB_LOAD_WARNING = {'data': {'text/html':\n     \"<div style='background-color: #fdd'>\\n\"+\n     \"<p>\\n\"+\n     \"BokehJS does not appear to have successfully loaded. If loading BokehJS from CDN, this \\n\"+\n     \"may be due to a slow or bad network connection. Possible fixes:\\n\"+\n     \"</p>\\n\"+\n     \"<ul>\\n\"+\n     \"<li>re-rerun `output_notebook()` to attempt to load from CDN again, or</li>\\n\"+\n     \"<li>use INLINE resources instead, as so:</li>\\n\"+\n     \"</ul>\\n\"+\n     \"<code>\\n\"+\n     \"from bokeh.resources import INLINE\\n\"+\n     \"output_notebook(resources=INLINE)\\n\"+\n     \"</code>\\n\"+\n     \"</div>\"}};\n\n  function display_loaded() {\n    const el = document.getElementById(\"1002\");\n    if (el != null) {\n      el.textContent = \"BokehJS is loading...\";\n    }\n    if (root.Bokeh !== undefined) {\n      if (el != null) {\n        el.textContent = \"BokehJS \" + root.Bokeh.version + \" successfully loaded.\";\n      }\n    } else if (Date.now() < root._bokeh_timeout) {\n      setTimeout(display_loaded, 100)\n    }\n  }\n\n  function run_callbacks() {\n    try {\n      root._bokeh_onload_callbacks.forEach(function(callback) {\n        if (callback != null)\n          callback();\n      });\n    } finally {\n      delete root._bokeh_onload_callbacks\n    }\n    console.debug(\"Bokeh: all callbacks have finished\");\n  }\n\n  function load_libs(css_urls, js_urls, callback) {\n    if (css_urls == null) css_urls = [];\n    if (js_urls == null) js_urls = [];\n\n    root._bokeh_onload_callbacks.push(callback);\n    if (root._bokeh_is_loading > 0) {\n      console.debug(\"Bokeh: BokehJS is being loaded, scheduling callback at\", now());\n      return null;\n    }\n    if (js_urls == null || js_urls.length === 0) {\n      run_callbacks();\n      return null;\n    }\n    console.debug(\"Bokeh: BokehJS not loaded, scheduling load and callback at\", now());\n    root._bokeh_is_loading = css_urls.length + js_urls.length;\n\n    function on_load() {\n      root._bokeh_is_loading--;\n      if (root._bokeh_is_loading === 0) {\n        console.debug(\"Bokeh: all BokehJS libraries/stylesheets loaded\");\n        run_callbacks()\n      }\n    }\n\n    function on_error(url) {\n      console.error(\"failed to load \" + url);\n    }\n\n    for (let i = 0; i < css_urls.length; i++) {\n      const url = css_urls[i];\n      const element = document.createElement(\"link\");\n      element.onload = on_load;\n      element.onerror = on_error.bind(null, url);\n      element.rel = \"stylesheet\";\n      element.type = \"text/css\";\n      element.href = url;\n      console.debug(\"Bokeh: injecting link tag for BokehJS stylesheet: \", url);\n      document.body.appendChild(element);\n    }\n\n    for (let i = 0; i < js_urls.length; i++) {\n      const url = js_urls[i];\n      const element = document.createElement('script');\n      element.onload = on_load;\n      element.onerror = on_error.bind(null, url);\n      element.async = false;\n      element.src = url;\n      console.debug(\"Bokeh: injecting script tag for BokehJS library: \", url);\n      document.head.appendChild(element);\n    }\n  };\n\n  function inject_raw_css(css) {\n    const element = document.createElement(\"style\");\n    element.appendChild(document.createTextNode(css));\n    document.body.appendChild(element);\n  }\n\n  const js_urls = [\"https://cdn.bokeh.org/bokeh/release/bokeh-2.4.3.min.js\", \"https://cdn.bokeh.org/bokeh/release/bokeh-gl-2.4.3.min.js\", \"https://cdn.bokeh.org/bokeh/release/bokeh-widgets-2.4.3.min.js\", \"https://cdn.bokeh.org/bokeh/release/bokeh-tables-2.4.3.min.js\", \"https://cdn.bokeh.org/bokeh/release/bokeh-mathjax-2.4.3.min.js\"];\n  const css_urls = [];\n\n  const inline_js = [    function(Bokeh) {\n      Bokeh.set_log_level(\"info\");\n    },\nfunction(Bokeh) {\n    }\n  ];\n\n  function run_inline_js() {\n    if (root.Bokeh !== undefined || force === true) {\n          for (let i = 0; i < inline_js.length; i++) {\n      inline_js[i].call(root, root.Bokeh);\n    }\nif (force === true) {\n        display_loaded();\n      }} else if (Date.now() < root._bokeh_timeout) {\n      setTimeout(run_inline_js, 100);\n    } else if (!root._bokeh_failed_load) {\n      console.log(\"Bokeh: BokehJS failed to load within specified timeout.\");\n      root._bokeh_failed_load = true;\n    } else if (force !== true) {\n      const cell = $(document.getElementById(\"1002\")).parents('.cell').data().cell;\n      cell.output_area.append_execute_result(NB_LOAD_WARNING)\n    }\n  }\n\n  if (root._bokeh_is_loading === 0) {\n    console.debug(\"Bokeh: BokehJS loaded, going straight to plotting\");\n    run_inline_js();\n  } else {\n    load_libs(css_urls, js_urls, function() {\n      console.debug(\"Bokeh: BokehJS plotting callback run at\", now());\n      run_inline_js();\n    });\n  }\n}(window));"
     },
     "metadata": {},
     "output_type": "display_data"
    }
   ],
   "source": [
    "import bokeh.io\n",
    "import bokeh.plotting\n",
    "\n",
    "\n",
    "bokeh.io.output_notebook()"
   ]
  },
  {
   "cell_type": "code",
   "execution_count": 14,
   "id": "disabled-vegetarian",
   "metadata": {},
   "outputs": [
    {
     "name": "stdout",
     "output_type": "stream",
     "text": [
      "[38, 36, 34, 27, 69]\n",
      "[48, 34, 23, 9, 79]\n"
     ]
    }
   ],
   "source": [
    "x_s = pd.read_csv('../data/gocam_sizes_mouse.csv')\n",
    "gocam_sizes_s = pd.Series(x_s.sizes.values,index=x_s.gocam)\n",
    "Dict_s = utils.csv2dict('../data/ID2gocam_mouse.csv')\n",
    "\n",
    "x_ff = pd.read_csv('../data/gocam_sizes_mouse_ff.csv')\n",
    "gocam_sizes_ff = pd.Series(x_ff.sizes.values,index=x_ff.gocam)\n",
    "Dict_ff = utils.csv2dict('../data/ID2gocam_mouse_ff.csv')\n",
    "\n",
    "path = '../../Desktop/GOCAM/'\n",
    "datasets = {'cancer.csv':'Gene Symbol','gastric_cancer.csv':'ENSEMBL ID','bladder_cancer.csv':'ENSEMBL ID','parkinson.csv':'Gene Symbol'}\n",
    "results_combined_s = [0,0,0,0,0]\n",
    "results_combined_ff = [0,0,0,0,0]\n",
    "\n",
    "for dataset, symbol_type in datasets.items():\n",
    "    gene_list = pd.read_csv(os.path.join(path,dataset),header=None,names = ['g'])\n",
    "    test_set, uniprot2input, not_converted = utils.convert_IDs(gene_list,symbol_type)\n",
    "    \n",
    "    results = drop_threshold(list(gene_list.g), test_set, uniprot2input, gocam_sizes_s, Dict_s, [.05,.1,.15,.5])\n",
    "    c_set_05 = results[.05]\n",
    "    c_set_10 = results[.10]\n",
    "    c_set_15 = results[.15]\n",
    "    c_set_50 = results[.50]\n",
    "\n",
    "    results = drop_threshold(list(gene_list.g), test_set, uniprot2input, gocam_sizes_ff, Dict_ff, [.05,.1,.15,.5])\n",
    "    c_ff_05 = results[.05]\n",
    "    c_ff_10 = results[.10]\n",
    "    c_ff_15 = results[.15]\n",
    "    c_ff_50 = results[.50]\n",
    "    \n",
    "    results_combined_s[0]+=len(c_set_05-c_ff_05)\n",
    "    results_combined_s[1]+=len(c_set_05-c_ff_10)\n",
    "    results_combined_s[2]+=len(c_set_05-c_ff_15)\n",
    "    results_combined_s[3]+=len(c_set_05-c_ff_50)\n",
    "    results_combined_s[4]+=len(c_set_05)\n",
    "    \n",
    "    results_combined_ff[0]+=len(c_ff_05-c_set_05)\n",
    "    results_combined_ff[1]+=len(c_ff_05-c_set_10)\n",
    "    results_combined_ff[2]+=len(c_ff_05-c_set_15)\n",
    "    results_combined_ff[3]+=len(c_ff_05-c_set_50)\n",
    "    results_combined_ff[4]+=len(c_ff_05)\n",
    "print(results_combined_s)\n",
    "print(results_combined_ff) \n",
    "        "
   ]
  },
  {
   "cell_type": "code",
   "execution_count": 63,
   "id": "51dea938-f2dc-4829-ad12-9ba9463dcfc4",
   "metadata": {},
   "outputs": [],
   "source": [
    "x_s = pd.read_csv('../data/gocam_sizes_mouse.csv')\n",
    "gocam_sizes_s = pd.Series(x_s.sizes.values,index=x_s.gocam)\n",
    "Dict_s = utils.csv2dict('../data/ID2gocam_mouse.csv')\n",
    "\n",
    "x_ff = pd.read_csv('../data/gocam_sizes_mouse_ff.csv')\n",
    "gocam_sizes_ff = pd.Series(x_ff.sizes.values,index=x_ff.gocam)\n",
    "Dict_ff = utils.csv2dict('../data/ID2gocam_mouse_ff.csv')\n",
    "\n",
    "path = '../../Desktop/GOCAM/'\n",
    "datasets = {'cancer.csv':'Gene Symbol','gastric_cancer.csv':'ENSEMBL ID','bladder_cancer.csv':'ENSEMBL ID','parkinson.csv':'Gene Symbol'}\n",
    "results_combined_s = []\n",
    "results_combined_ff = []\n",
    "alphas = [.05,.1,.15,.2,.3,.4,.5]\n",
    "for dataset, symbol_type in datasets.items():\n",
    "    gene_list = pd.read_csv(os.path.join(path,dataset),header=None,names = ['g'])\n",
    "    test_set, uniprot2input, not_converted = utils.convert_IDs(gene_list,symbol_type)\n",
    "    \n",
    "    results_s = drop_threshold(list(gene_list.g), test_set, uniprot2input, gocam_sizes_s, Dict_s, alphas)\n",
    "    results_ff = drop_threshold(list(gene_list.g), test_set, uniprot2input, gocam_sizes_ff, Dict_ff, alphas)\n",
    "    \n",
    "    s = []\n",
    "    s_05 = results_s[.05]\n",
    "    s_05_len = len(s_05)\n",
    "    if s_05_len == 0:\n",
    "        s_05_len = 1 #to prevent division of 0 / 0\n",
    "    \n",
    "    ff = []\n",
    "    ff_05 = results_ff[.05]\n",
    "    ff_05_len = len(ff_05)\n",
    "    if ff_05_len == 0:\n",
    "        ff_05_len = 1 #to prevent division of 0 / 0\n",
    "        \n",
    "    for a in alphas:\n",
    "        s.append(len(s_05-results_ff[a])/s_05_len*100)\n",
    "        ff.append(len(ff_05-results_s[a])/ff_05_len*100)\n",
    "    s.append(len(s_05))\n",
    "    ff.append(len(ff_05))\n",
    "    \n",
    "  \n",
    "    results_combined_s.append(s)\n",
    "    results_combined_ff.append(ff)\n",
    "        "
   ]
  },
  {
   "cell_type": "code",
   "execution_count": 77,
   "id": "d0720666-2163-4cb1-8d53-720b23642870",
   "metadata": {},
   "outputs": [
    {
     "data": {
      "text/html": [
       "\n",
       "  <div class=\"bk-root\" id=\"07c2b99a-32f8-49ed-b8e6-3c10912837ca\" data-root-id=\"55381\"></div>\n"
      ]
     },
     "metadata": {},
     "output_type": "display_data"
    },
    {
     "data": {
      "application/javascript": [
       "(function(root) {\n",
       "  function embed_document(root) {\n",
       "  const docs_json = {\"d8b0d8cc-d2e8-4fe4-8902-1b4d2b63cb39\":{\"defs\":[],\"roots\":{\"references\":[{\"attributes\":{\"children\":[{\"id\":\"54933\"},{\"id\":\"55157\"}]},\"id\":\"55381\",\"type\":\"Row\"},{\"attributes\":{\"fill_color\":{\"value\":\"crimson\"},\"hatch_color\":{\"value\":\"crimson\"},\"line_color\":{\"value\":\"crimson\"},\"x\":{\"field\":\"x\"},\"y\":{\"field\":\"y\"}},\"id\":\"55024\",\"type\":\"Circle\"},{\"attributes\":{},\"id\":\"54949\",\"type\":\"BasicTicker\"},{\"attributes\":{\"data\":{\"x\":[0.05,0.1,0.15,0.2,0.3,0.4,0.5],\"y\":[55.81395348837209,41.86046511627907,37.2093023255814,32.55813953488372,25.581395348837212,20.930232558139537,18.6046511627907]},\"selected\":{\"id\":\"55204\"},\"selection_policy\":{\"id\":\"55203\"}},\"id\":\"55190\",\"type\":\"ColumnDataSource\"},{\"attributes\":{},\"id\":\"55176\",\"type\":\"PanTool\"},{\"attributes\":{\"coordinates\":null,\"data_source\":{\"id\":\"55002\"},\"glyph\":{\"id\":\"55003\"},\"group\":null,\"hover_glyph\":null,\"muted_glyph\":{\"id\":\"55005\"},\"nonselection_glyph\":{\"id\":\"55004\"},\"view\":{\"id\":\"55007\"}},\"id\":\"55006\",\"type\":\"GlyphRenderer\"},{\"attributes\":{},\"id\":\"54940\",\"type\":\"LinearScale\"},{\"attributes\":{\"axis\":{\"id\":\"54944\"},\"coordinates\":null,\"group\":null,\"ticker\":null,\"visible\":false},\"id\":\"54947\",\"type\":\"Grid\"},{\"attributes\":{},\"id\":\"54952\",\"type\":\"PanTool\"},{\"attributes\":{\"data\":{\"x\":[0.05,0.1,0.15,0.2,0.3,0.4,0.5],\"y\":[34.48275862068966,27.586206896551722,27.586206896551722,27.586206896551722,24.137931034482758,24.137931034482758,24.137931034482758]},\"selected\":{\"id\":\"55000\"},\"selection_policy\":{\"id\":\"54999\"}},\"id\":\"54984\",\"type\":\"ColumnDataSource\"},{\"attributes\":{},\"id\":\"55173\",\"type\":\"BasicTicker\"},{\"attributes\":{\"fill_alpha\":{\"value\":0.1},\"fill_color\":{\"value\":\"orange\"},\"hatch_alpha\":{\"value\":0.1},\"hatch_color\":{\"value\":\"orange\"},\"line_alpha\":{\"value\":0.1},\"line_color\":{\"value\":\"orange\"},\"x\":{\"field\":\"x\"},\"y\":{\"field\":\"y\"}},\"id\":\"54986\",\"type\":\"Circle\"},{\"attributes\":{\"fill_alpha\":{\"value\":0.2},\"fill_color\":{\"value\":\"crimson\"},\"hatch_alpha\":{\"value\":0.2},\"hatch_color\":{\"value\":\"crimson\"},\"line_alpha\":{\"value\":0.2},\"line_color\":{\"value\":\"crimson\"},\"x\":{\"field\":\"x\"},\"y\":{\"field\":\"y\"}},\"id\":\"55026\",\"type\":\"Circle\"},{\"attributes\":{\"fill_color\":{\"value\":\"orange\"},\"hatch_color\":{\"value\":\"orange\"},\"line_color\":{\"value\":\"orange\"},\"x\":{\"field\":\"x\"},\"y\":{\"field\":\"y\"}},\"id\":\"54985\",\"type\":\"Circle\"},{\"attributes\":{\"coordinates\":null,\"data_source\":{\"id\":\"54966\"},\"glyph\":{\"id\":\"54967\"},\"group\":null,\"hover_glyph\":null,\"muted_glyph\":{\"id\":\"54969\"},\"nonselection_glyph\":{\"id\":\"54968\"},\"view\":{\"id\":\"54971\"}},\"id\":\"54970\",\"type\":\"GlyphRenderer\"},{\"attributes\":{\"data\":{\"x\":[0.05,0.1,0.15,0.2,0.3,0.4,0.5],\"y\":[100.0,100.0,94.73684210526315,94.73684210526315,94.73684210526315,94.73684210526315,94.73684210526315]},\"selected\":{\"id\":\"55067\"},\"selection_policy\":{\"id\":\"55066\"}},\"id\":\"55045\",\"type\":\"ColumnDataSource\"},{\"attributes\":{\"source\":{\"id\":\"55023\"}},\"id\":\"55028\",\"type\":\"CDSView\"},{\"attributes\":{\"line_color\":\"red\",\"line_width\":2,\"x\":{\"field\":\"x\"},\"y\":{\"field\":\"y\"}},\"id\":\"55046\",\"type\":\"Line\"},{\"attributes\":{\"axis_label\":\"% unique results vs standard method\",\"coordinates\":null,\"formatter\":{\"id\":\"54974\"},\"group\":null,\"major_label_policy\":{\"id\":\"54975\"},\"ticker\":{\"id\":\"54949\"}},\"id\":\"54948\",\"type\":\"LinearAxis\"},{\"attributes\":{},\"id\":\"55020\",\"type\":\"Selection\"},{\"attributes\":{\"tools\":[{\"id\":\"54952\"},{\"id\":\"54953\"},{\"id\":\"54954\"},{\"id\":\"54955\"},{\"id\":\"54956\"},{\"id\":\"54957\"}]},\"id\":\"54959\",\"type\":\"Toolbar\"},{\"attributes\":{\"overlay\":{\"id\":\"55182\"}},\"id\":\"55178\",\"type\":\"BoxZoomTool\"},{\"attributes\":{\"fill_alpha\":{\"value\":0.1},\"fill_color\":{\"value\":\"crimson\"},\"hatch_alpha\":{\"value\":0.1},\"hatch_color\":{\"value\":\"crimson\"},\"line_alpha\":{\"value\":0.1},\"line_color\":{\"value\":\"crimson\"},\"x\":{\"field\":\"x\"},\"y\":{\"field\":\"y\"}},\"id\":\"55025\",\"type\":\"Circle\"},{\"attributes\":{},\"id\":\"54942\",\"type\":\"LinearScale\"},{\"attributes\":{\"ticks\":[0.05,0.1,0.15,0.2,0.3,0.4,0.5]},\"id\":\"55155\",\"type\":\"FixedTicker\"},{\"attributes\":{\"label\":{\"value\":\"cancer, total = 29\"},\"renderers\":[{\"id\":\"54970\"},{\"id\":\"54988\"}]},\"id\":\"54983\",\"type\":\"LegendItem\"},{\"attributes\":{},\"id\":\"55180\",\"type\":\"ResetTool\"},{\"attributes\":{\"axis\":{\"id\":\"54948\"},\"coordinates\":null,\"dimension\":1,\"group\":null,\"ticker\":null,\"visible\":false},\"id\":\"54951\",\"type\":\"Grid\"},{\"attributes\":{\"line_alpha\":0.1,\"line_color\":\"orange\",\"line_width\":2,\"x\":{\"field\":\"x\"},\"y\":{\"field\":\"y\"}},\"id\":\"55192\",\"type\":\"Line\"},{\"attributes\":{},\"id\":\"55164\",\"type\":\"LinearScale\"},{\"attributes\":{\"source\":{\"id\":\"55002\"}},\"id\":\"55007\",\"type\":\"CDSView\"},{\"attributes\":{\"end\":110,\"start\":-5},\"id\":\"54938\",\"type\":\"Range1d\"},{\"attributes\":{\"end\":110,\"start\":-5},\"id\":\"55162\",\"type\":\"Range1d\"},{\"attributes\":{\"coordinates\":null,\"group\":null,\"items\":[{\"id\":\"54983\"},{\"id\":\"55022\"},{\"id\":\"55069\"},{\"id\":\"55124\"}],\"location\":\"right\"},\"id\":\"54982\",\"type\":\"Legend\"},{\"attributes\":{\"end\":0.55},\"id\":\"55160\",\"type\":\"Range1d\"},{\"attributes\":{\"data\":{\"x\":[0.05,0.1,0.15,0.2,0.3,0.4,0.5],\"y\":[46.666666666666664,46.666666666666664,46.666666666666664,46.666666666666664,20.0,6.666666666666667,6.666666666666667]},\"selected\":{\"id\":\"55020\"},\"selection_policy\":{\"id\":\"55019\"}},\"id\":\"55002\",\"type\":\"ColumnDataSource\"},{\"attributes\":{},\"id\":\"54977\",\"type\":\"BasicTickFormatter\"},{\"attributes\":{},\"id\":\"55179\",\"type\":\"SaveTool\"},{\"attributes\":{\"below\":[{\"id\":\"54944\"}],\"center\":[{\"id\":\"54947\"},{\"id\":\"54951\"},{\"id\":\"54982\"}],\"frame_height\":400,\"frame_width\":400,\"left\":[{\"id\":\"54948\"}],\"renderers\":[{\"id\":\"54970\"},{\"id\":\"54988\"},{\"id\":\"55006\"},{\"id\":\"55027\"},{\"id\":\"55049\"},{\"id\":\"55074\"},{\"id\":\"55100\"},{\"id\":\"55129\"}],\"title\":{\"id\":\"54934\"},\"toolbar\":{\"id\":\"54959\"},\"x_range\":{\"id\":\"54936\"},\"x_scale\":{\"id\":\"54940\"},\"y_range\":{\"id\":\"54938\"},\"y_scale\":{\"id\":\"54942\"}},\"id\":\"54933\",\"subtype\":\"Figure\",\"type\":\"Plot\"},{\"attributes\":{\"source\":{\"id\":\"54984\"}},\"id\":\"54989\",\"type\":\"CDSView\"},{\"attributes\":{},\"id\":\"54978\",\"type\":\"AllLabels\"},{\"attributes\":{\"coordinates\":null,\"data_source\":{\"id\":\"55190\"},\"glyph\":{\"id\":\"55191\"},\"group\":null,\"hover_glyph\":null,\"muted_glyph\":{\"id\":\"55193\"},\"nonselection_glyph\":{\"id\":\"55192\"},\"view\":{\"id\":\"55195\"}},\"id\":\"55194\",\"type\":\"GlyphRenderer\"},{\"attributes\":{},\"id\":\"54999\",\"type\":\"UnionRenderers\"},{\"attributes\":{\"below\":[{\"id\":\"55168\"}],\"center\":[{\"id\":\"55171\"},{\"id\":\"55175\"},{\"id\":\"55206\"}],\"frame_height\":400,\"frame_width\":400,\"left\":[{\"id\":\"55172\"}],\"renderers\":[{\"id\":\"55194\"},{\"id\":\"55212\"},{\"id\":\"55230\"},{\"id\":\"55251\"},{\"id\":\"55273\"},{\"id\":\"55298\"},{\"id\":\"55324\"},{\"id\":\"55353\"}],\"title\":{\"id\":\"55158\"},\"toolbar\":{\"id\":\"55183\"},\"x_range\":{\"id\":\"55160\"},\"x_scale\":{\"id\":\"55164\"},\"y_range\":{\"id\":\"55162\"},\"y_scale\":{\"id\":\"55166\"}},\"id\":\"55157\",\"subtype\":\"Figure\",\"type\":\"Plot\"},{\"attributes\":{\"line_alpha\":0.2,\"line_color\":\"orange\",\"line_width\":2,\"x\":{\"field\":\"x\"},\"y\":{\"field\":\"y\"}},\"id\":\"54969\",\"type\":\"Line\"},{\"attributes\":{\"coordinates\":null,\"group\":null,\"text\":\"Standard Method at alpha = .05 vs Step Method on Test Datasets\"},\"id\":\"55158\",\"type\":\"Title\"},{\"attributes\":{\"data\":{\"x\":[0.05,0.1,0.15,0.2,0.3,0.4,0.5],\"y\":[46.666666666666664,46.666666666666664,46.666666666666664,46.666666666666664,20.0,6.666666666666667,6.666666666666667]},\"selected\":{\"id\":\"55043\"},\"selection_policy\":{\"id\":\"55042\"}},\"id\":\"55023\",\"type\":\"ColumnDataSource\"},{\"attributes\":{\"axis_label\":\"alpha for standard method\",\"coordinates\":null,\"formatter\":{\"id\":\"54977\"},\"group\":null,\"major_label_policy\":{\"id\":\"54978\"},\"ticker\":{\"id\":\"55155\"}},\"id\":\"54944\",\"type\":\"LinearAxis\"},{\"attributes\":{\"coordinates\":null,\"data_source\":{\"id\":\"55023\"},\"glyph\":{\"id\":\"55024\"},\"group\":null,\"hover_glyph\":null,\"muted_glyph\":{\"id\":\"55026\"},\"nonselection_glyph\":{\"id\":\"55025\"},\"view\":{\"id\":\"55028\"}},\"id\":\"55027\",\"type\":\"GlyphRenderer\"},{\"attributes\":{\"line_alpha\":0.1,\"line_color\":\"crimson\",\"line_width\":2,\"x\":{\"field\":\"x\"},\"y\":{\"field\":\"y\"}},\"id\":\"55004\",\"type\":\"Line\"},{\"attributes\":{\"label\":{\"value\":\"gastric_cancer, 15\"},\"renderers\":[{\"id\":\"55006\"},{\"id\":\"55027\"}]},\"id\":\"55022\",\"type\":\"LegendItem\"},{\"attributes\":{\"coordinates\":null,\"group\":null,\"text\":\"Step Method at alpha = .05 vs Standard Method on Test Datasets\"},\"id\":\"54934\",\"type\":\"Title\"},{\"attributes\":{\"end\":0.55},\"id\":\"54936\",\"type\":\"Range1d\"},{\"attributes\":{},\"id\":\"54980\",\"type\":\"Selection\"},{\"attributes\":{},\"id\":\"55067\",\"type\":\"Selection\"},{\"attributes\":{\"line_alpha\":0.2,\"line_color\":\"crimson\",\"line_width\":2,\"x\":{\"field\":\"x\"},\"y\":{\"field\":\"y\"}},\"id\":\"55005\",\"type\":\"Line\"},{\"attributes\":{},\"id\":\"55166\",\"type\":\"LinearScale\"},{\"attributes\":{},\"id\":\"55000\",\"type\":\"Selection\"},{\"attributes\":{},\"id\":\"54975\",\"type\":\"AllLabels\"},{\"attributes\":{},\"id\":\"55152\",\"type\":\"UnionRenderers\"},{\"attributes\":{\"axis_label\":\"% unique results vs step method\",\"coordinates\":null,\"formatter\":{\"id\":\"55198\"},\"group\":null,\"major_label_policy\":{\"id\":\"55199\"},\"ticker\":{\"id\":\"55173\"}},\"id\":\"55172\",\"type\":\"LinearAxis\"},{\"attributes\":{},\"id\":\"55177\",\"type\":\"WheelZoomTool\"},{\"attributes\":{\"axis\":{\"id\":\"55172\"},\"coordinates\":null,\"dimension\":1,\"group\":null,\"ticker\":null,\"visible\":false},\"id\":\"55175\",\"type\":\"Grid\"},{\"attributes\":{},\"id\":\"54953\",\"type\":\"WheelZoomTool\"},{\"attributes\":{\"line_alpha\":0.1,\"line_color\":\"orange\",\"line_width\":2,\"x\":{\"field\":\"x\"},\"y\":{\"field\":\"y\"}},\"id\":\"54968\",\"type\":\"Line\"},{\"attributes\":{\"bottom_units\":\"screen\",\"coordinates\":null,\"fill_alpha\":0.5,\"fill_color\":\"lightgrey\",\"group\":null,\"left_units\":\"screen\",\"level\":\"overlay\",\"line_alpha\":1.0,\"line_color\":\"black\",\"line_dash\":[4,4],\"line_width\":2,\"right_units\":\"screen\",\"syncable\":false,\"top_units\":\"screen\"},\"id\":\"54958\",\"type\":\"BoxAnnotation\"},{\"attributes\":{\"source\":{\"id\":\"54966\"}},\"id\":\"54971\",\"type\":\"CDSView\"},{\"attributes\":{\"axis\":{\"id\":\"55168\"},\"coordinates\":null,\"group\":null,\"ticker\":null,\"visible\":false},\"id\":\"55171\",\"type\":\"Grid\"},{\"attributes\":{\"line_color\":\"crimson\",\"line_width\":2,\"x\":{\"field\":\"x\"},\"y\":{\"field\":\"y\"}},\"id\":\"55003\",\"type\":\"Line\"},{\"attributes\":{},\"id\":\"54974\",\"type\":\"BasicTickFormatter\"},{\"attributes\":{},\"id\":\"55153\",\"type\":\"Selection\"},{\"attributes\":{},\"id\":\"54979\",\"type\":\"UnionRenderers\"},{\"attributes\":{\"axis_label\":\"alpha for step method\",\"coordinates\":null,\"formatter\":{\"id\":\"55201\"},\"group\":null,\"major_label_policy\":{\"id\":\"55202\"},\"ticker\":{\"id\":\"55379\"}},\"id\":\"55168\",\"type\":\"LinearAxis\"},{\"attributes\":{\"line_color\":\"orange\",\"line_width\":2,\"x\":{\"field\":\"x\"},\"y\":{\"field\":\"y\"}},\"id\":\"55191\",\"type\":\"Line\"},{\"attributes\":{\"data\":{\"x\":[0.05,0.1,0.15,0.2,0.3,0.4,0.5],\"y\":[34.48275862068966,27.586206896551722,27.586206896551722,27.586206896551722,24.137931034482758,24.137931034482758,24.137931034482758]},\"selected\":{\"id\":\"54980\"},\"selection_policy\":{\"id\":\"54979\"}},\"id\":\"54966\",\"type\":\"ColumnDataSource\"},{\"attributes\":{\"line_alpha\":0.2,\"line_color\":\"orange\",\"line_width\":2,\"x\":{\"field\":\"x\"},\"y\":{\"field\":\"y\"}},\"id\":\"55193\",\"type\":\"Line\"},{\"attributes\":{\"fill_alpha\":{\"value\":0.1},\"fill_color\":{\"value\":\"salmon\"},\"hatch_alpha\":{\"value\":0.1},\"hatch_color\":{\"value\":\"salmon\"},\"line_alpha\":{\"value\":0.1},\"line_color\":{\"value\":\"salmon\"},\"x\":{\"field\":\"x\"},\"y\":{\"field\":\"y\"}},\"id\":\"55127\",\"type\":\"Circle\"},{\"attributes\":{},\"id\":\"55243\",\"type\":\"UnionRenderers\"},{\"attributes\":{\"line_alpha\":0.2,\"line_color\":\"crimson\",\"line_width\":2,\"x\":{\"field\":\"x\"},\"y\":{\"field\":\"y\"}},\"id\":\"55229\",\"type\":\"Line\"},{\"attributes\":{\"data\":{\"x\":[0.05,0.1,0.15,0.2,0.3,0.4,0.5],\"y\":[63.63636363636363,54.54545454545454,18.181818181818183,18.181818181818183,18.181818181818183,18.181818181818183,9.090909090909092]},\"selected\":{\"id\":\"55377\"},\"selection_policy\":{\"id\":\"55376\"}},\"id\":\"55349\",\"type\":\"ColumnDataSource\"},{\"attributes\":{},\"id\":\"55122\",\"type\":\"Selection\"},{\"attributes\":{},\"id\":\"55318\",\"type\":\"Selection\"},{\"attributes\":{},\"id\":\"55223\",\"type\":\"UnionRenderers\"},{\"attributes\":{},\"id\":\"55317\",\"type\":\"UnionRenderers\"},{\"attributes\":{\"coordinates\":null,\"data_source\":{\"id\":\"55226\"},\"glyph\":{\"id\":\"55227\"},\"group\":null,\"hover_glyph\":null,\"muted_glyph\":{\"id\":\"55229\"},\"nonselection_glyph\":{\"id\":\"55228\"},\"view\":{\"id\":\"55231\"}},\"id\":\"55230\",\"type\":\"GlyphRenderer\"},{\"attributes\":{\"label\":{\"value\":\"parkinson, 6\"},\"renderers\":[{\"id\":\"55100\"},{\"id\":\"55129\"}]},\"id\":\"55124\",\"type\":\"LegendItem\"},{\"attributes\":{\"line_color\":\"salmon\",\"line_width\":2,\"x\":{\"field\":\"x\"},\"y\":{\"field\":\"y\"}},\"id\":\"55321\",\"type\":\"Line\"},{\"attributes\":{\"source\":{\"id\":\"55208\"}},\"id\":\"55213\",\"type\":\"CDSView\"},{\"attributes\":{\"label\":{\"value\":\"bladder_cancer, 0\"},\"renderers\":[{\"id\":\"55273\"},{\"id\":\"55298\"}]},\"id\":\"55293\",\"type\":\"LegendItem\"},{\"attributes\":{\"fill_alpha\":{\"value\":0.2},\"fill_color\":{\"value\":\"red\"},\"hatch_alpha\":{\"value\":0.2},\"hatch_color\":{\"value\":\"red\"},\"line_alpha\":{\"value\":0.2},\"line_color\":{\"value\":\"red\"},\"x\":{\"field\":\"x\"},\"y\":{\"field\":\"y\"}},\"id\":\"55297\",\"type\":\"Circle\"},{\"attributes\":{\"line_alpha\":0.2,\"line_color\":\"salmon\",\"line_width\":2,\"x\":{\"field\":\"x\"},\"y\":{\"field\":\"y\"}},\"id\":\"55323\",\"type\":\"Line\"},{\"attributes\":{\"fill_alpha\":{\"value\":0.2},\"fill_color\":{\"value\":\"salmon\"},\"hatch_alpha\":{\"value\":0.2},\"hatch_color\":{\"value\":\"salmon\"},\"line_alpha\":{\"value\":0.2},\"line_color\":{\"value\":\"salmon\"},\"x\":{\"field\":\"x\"},\"y\":{\"field\":\"y\"}},\"id\":\"55128\",\"type\":\"Circle\"},{\"attributes\":{\"data\":{\"x\":[0.05,0.1,0.15,0.2,0.3,0.4,0.5],\"y\":[0.0,0.0,0.0,0.0,0.0,0.0,0.0]},\"selected\":{\"id\":\"55318\"},\"selection_policy\":{\"id\":\"55317\"}},\"id\":\"55294\",\"type\":\"ColumnDataSource\"},{\"attributes\":{\"source\":{\"id\":\"55294\"}},\"id\":\"55299\",\"type\":\"CDSView\"},{\"attributes\":{\"line_color\":\"salmon\",\"line_width\":2,\"x\":{\"field\":\"x\"},\"y\":{\"field\":\"y\"}},\"id\":\"55097\",\"type\":\"Line\"},{\"attributes\":{\"line_color\":\"crimson\",\"line_width\":2,\"x\":{\"field\":\"x\"},\"y\":{\"field\":\"y\"}},\"id\":\"55227\",\"type\":\"Line\"},{\"attributes\":{},\"id\":\"55202\",\"type\":\"AllLabels\"},{\"attributes\":{\"line_alpha\":0.2,\"line_color\":\"salmon\",\"line_width\":2,\"x\":{\"field\":\"x\"},\"y\":{\"field\":\"y\"}},\"id\":\"55099\",\"type\":\"Line\"},{\"attributes\":{\"fill_alpha\":{\"value\":0.2},\"fill_color\":{\"value\":\"red\"},\"hatch_alpha\":{\"value\":0.2},\"hatch_color\":{\"value\":\"red\"},\"line_alpha\":{\"value\":0.2},\"line_color\":{\"value\":\"red\"},\"x\":{\"field\":\"x\"},\"y\":{\"field\":\"y\"}},\"id\":\"55073\",\"type\":\"Circle\"},{\"attributes\":{},\"id\":\"55290\",\"type\":\"UnionRenderers\"},{\"attributes\":{},\"id\":\"55346\",\"type\":\"Selection\"},{\"attributes\":{\"coordinates\":null,\"data_source\":{\"id\":\"55320\"},\"glyph\":{\"id\":\"55321\"},\"group\":null,\"hover_glyph\":null,\"muted_glyph\":{\"id\":\"55323\"},\"nonselection_glyph\":{\"id\":\"55322\"},\"view\":{\"id\":\"55325\"}},\"id\":\"55324\",\"type\":\"GlyphRenderer\"},{\"attributes\":{\"fill_alpha\":{\"value\":0.2},\"fill_color\":{\"value\":\"orange\"},\"hatch_alpha\":{\"value\":0.2},\"hatch_color\":{\"value\":\"orange\"},\"line_alpha\":{\"value\":0.2},\"line_color\":{\"value\":\"orange\"},\"x\":{\"field\":\"x\"},\"y\":{\"field\":\"y\"}},\"id\":\"54987\",\"type\":\"Circle\"},{\"attributes\":{\"data\":{\"x\":[0.05,0.1,0.15,0.2,0.3,0.4,0.5],\"y\":[0.0,0.0,0.0,0.0,0.0,0.0,0.0]},\"selected\":{\"id\":\"55291\"},\"selection_policy\":{\"id\":\"55290\"}},\"id\":\"55269\",\"type\":\"ColumnDataSource\"},{\"attributes\":{},\"id\":\"55121\",\"type\":\"UnionRenderers\"},{\"attributes\":{\"fill_alpha\":{\"value\":0.1},\"fill_color\":{\"value\":\"orange\"},\"hatch_alpha\":{\"value\":0.1},\"hatch_color\":{\"value\":\"orange\"},\"line_alpha\":{\"value\":0.1},\"line_color\":{\"value\":\"orange\"},\"x\":{\"field\":\"x\"},\"y\":{\"field\":\"y\"}},\"id\":\"55210\",\"type\":\"Circle\"},{\"attributes\":{},\"id\":\"55291\",\"type\":\"Selection\"},{\"attributes\":{\"line_alpha\":0.1,\"line_color\":\"crimson\",\"line_width\":2,\"x\":{\"field\":\"x\"},\"y\":{\"field\":\"y\"}},\"id\":\"55228\",\"type\":\"Line\"},{\"attributes\":{},\"id\":\"55094\",\"type\":\"Selection\"},{\"attributes\":{\"coordinates\":null,\"data_source\":{\"id\":\"55096\"},\"glyph\":{\"id\":\"55097\"},\"group\":null,\"hover_glyph\":null,\"muted_glyph\":{\"id\":\"55099\"},\"nonselection_glyph\":{\"id\":\"55098\"},\"view\":{\"id\":\"55101\"}},\"id\":\"55100\",\"type\":\"GlyphRenderer\"},{\"attributes\":{},\"id\":\"55203\",\"type\":\"UnionRenderers\"},{\"attributes\":{\"source\":{\"id\":\"55096\"}},\"id\":\"55101\",\"type\":\"CDSView\"},{\"attributes\":{\"data\":{\"x\":[0.05,0.1,0.15,0.2,0.3,0.4,0.5],\"y\":[68.0,40.0,20.0,8.0,8.0,8.0,0.0]},\"selected\":{\"id\":\"55244\"},\"selection_policy\":{\"id\":\"55243\"}},\"id\":\"55226\",\"type\":\"ColumnDataSource\"},{\"attributes\":{},\"id\":\"55376\",\"type\":\"UnionRenderers\"},{\"attributes\":{\"data\":{\"x\":[0.05,0.1,0.15,0.2,0.3,0.4,0.5],\"y\":[33.33333333333333,33.33333333333333,16.666666666666664,16.666666666666664,16.666666666666664,16.666666666666664,16.666666666666664]},\"selected\":{\"id\":\"55153\"},\"selection_policy\":{\"id\":\"55152\"}},\"id\":\"55125\",\"type\":\"ColumnDataSource\"},{\"attributes\":{},\"id\":\"54956\",\"type\":\"ResetTool\"},{\"attributes\":{\"line_color\":\"orange\",\"line_width\":2,\"x\":{\"field\":\"x\"},\"y\":{\"field\":\"y\"}},\"id\":\"54967\",\"type\":\"Line\"},{\"attributes\":{\"fill_color\":{\"value\":\"crimson\"},\"hatch_color\":{\"value\":\"crimson\"},\"line_color\":{\"value\":\"crimson\"},\"x\":{\"field\":\"x\"},\"y\":{\"field\":\"y\"}},\"id\":\"55248\",\"type\":\"Circle\"},{\"attributes\":{\"coordinates\":null,\"data_source\":{\"id\":\"55125\"},\"glyph\":{\"id\":\"55126\"},\"group\":null,\"hover_glyph\":null,\"muted_glyph\":{\"id\":\"55128\"},\"nonselection_glyph\":{\"id\":\"55127\"},\"view\":{\"id\":\"55130\"}},\"id\":\"55129\",\"type\":\"GlyphRenderer\"},{\"attributes\":{},\"id\":\"54957\",\"type\":\"HelpTool\"},{\"attributes\":{\"fill_alpha\":{\"value\":0.1},\"fill_color\":{\"value\":\"red\"},\"hatch_alpha\":{\"value\":0.1},\"hatch_color\":{\"value\":\"red\"},\"line_alpha\":{\"value\":0.1},\"line_color\":{\"value\":\"red\"},\"x\":{\"field\":\"x\"},\"y\":{\"field\":\"y\"}},\"id\":\"55072\",\"type\":\"Circle\"},{\"attributes\":{\"fill_alpha\":{\"value\":0.2},\"fill_color\":{\"value\":\"orange\"},\"hatch_alpha\":{\"value\":0.2},\"hatch_color\":{\"value\":\"orange\"},\"line_alpha\":{\"value\":0.2},\"line_color\":{\"value\":\"orange\"},\"x\":{\"field\":\"x\"},\"y\":{\"field\":\"y\"}},\"id\":\"55211\",\"type\":\"Circle\"},{\"attributes\":{\"coordinates\":null,\"data_source\":{\"id\":\"55349\"},\"glyph\":{\"id\":\"55350\"},\"group\":null,\"hover_glyph\":null,\"muted_glyph\":{\"id\":\"55352\"},\"nonselection_glyph\":{\"id\":\"55351\"},\"view\":{\"id\":\"55354\"}},\"id\":\"55353\",\"type\":\"GlyphRenderer\"},{\"attributes\":{\"line_alpha\":0.1,\"line_color\":\"salmon\",\"line_width\":2,\"x\":{\"field\":\"x\"},\"y\":{\"field\":\"y\"}},\"id\":\"55098\",\"type\":\"Line\"},{\"attributes\":{\"label\":{\"value\":\"gastric_cancer, 25\"},\"renderers\":[{\"id\":\"55230\"},{\"id\":\"55251\"}]},\"id\":\"55246\",\"type\":\"LegendItem\"},{\"attributes\":{\"source\":{\"id\":\"55070\"}},\"id\":\"55075\",\"type\":\"CDSView\"},{\"attributes\":{\"fill_color\":{\"value\":\"salmon\"},\"hatch_color\":{\"value\":\"salmon\"},\"line_color\":{\"value\":\"salmon\"},\"x\":{\"field\":\"x\"},\"y\":{\"field\":\"y\"}},\"id\":\"55126\",\"type\":\"Circle\"},{\"attributes\":{\"source\":{\"id\":\"55269\"}},\"id\":\"55274\",\"type\":\"CDSView\"},{\"attributes\":{\"fill_alpha\":{\"value\":0.1},\"fill_color\":{\"value\":\"salmon\"},\"hatch_alpha\":{\"value\":0.1},\"hatch_color\":{\"value\":\"salmon\"},\"line_alpha\":{\"value\":0.1},\"line_color\":{\"value\":\"salmon\"},\"x\":{\"field\":\"x\"},\"y\":{\"field\":\"y\"}},\"id\":\"55351\",\"type\":\"Circle\"},{\"attributes\":{},\"id\":\"55267\",\"type\":\"Selection\"},{\"attributes\":{\"source\":{\"id\":\"55125\"}},\"id\":\"55130\",\"type\":\"CDSView\"},{\"attributes\":{\"coordinates\":null,\"data_source\":{\"id\":\"55208\"},\"glyph\":{\"id\":\"55209\"},\"group\":null,\"hover_glyph\":null,\"muted_glyph\":{\"id\":\"55211\"},\"nonselection_glyph\":{\"id\":\"55210\"},\"view\":{\"id\":\"55213\"}},\"id\":\"55212\",\"type\":\"GlyphRenderer\"},{\"attributes\":{},\"id\":\"55019\",\"type\":\"UnionRenderers\"},{\"attributes\":{},\"id\":\"55201\",\"type\":\"BasicTickFormatter\"},{\"attributes\":{},\"id\":\"55093\",\"type\":\"UnionRenderers\"},{\"attributes\":{\"line_alpha\":0.1,\"line_color\":\"salmon\",\"line_width\":2,\"x\":{\"field\":\"x\"},\"y\":{\"field\":\"y\"}},\"id\":\"55322\",\"type\":\"Line\"},{\"attributes\":{},\"id\":\"55244\",\"type\":\"Selection\"},{\"attributes\":{\"data\":{\"x\":[0.05,0.1,0.15,0.2,0.3,0.4,0.5],\"y\":[63.63636363636363,54.54545454545454,18.181818181818183,18.181818181818183,18.181818181818183,18.181818181818183,9.090909090909092]},\"selected\":{\"id\":\"55346\"},\"selection_policy\":{\"id\":\"55345\"}},\"id\":\"55320\",\"type\":\"ColumnDataSource\"},{\"attributes\":{\"tools\":[{\"id\":\"55176\"},{\"id\":\"55177\"},{\"id\":\"55178\"},{\"id\":\"55179\"},{\"id\":\"55180\"},{\"id\":\"55181\"}]},\"id\":\"55183\",\"type\":\"Toolbar\"},{\"attributes\":{\"label\":{\"value\":\"bladder_cancer, 19\"},\"renderers\":[{\"id\":\"55049\"},{\"id\":\"55074\"}]},\"id\":\"55069\",\"type\":\"LegendItem\"},{\"attributes\":{\"data\":{\"x\":[0.05,0.1,0.15,0.2,0.3,0.4,0.5],\"y\":[68.0,40.0,20.0,8.0,8.0,8.0,0.0]},\"selected\":{\"id\":\"55267\"},\"selection_policy\":{\"id\":\"55266\"}},\"id\":\"55247\",\"type\":\"ColumnDataSource\"},{\"attributes\":{\"bottom_units\":\"screen\",\"coordinates\":null,\"fill_alpha\":0.5,\"fill_color\":\"lightgrey\",\"group\":null,\"left_units\":\"screen\",\"level\":\"overlay\",\"line_alpha\":1.0,\"line_color\":\"black\",\"line_dash\":[4,4],\"line_width\":2,\"right_units\":\"screen\",\"syncable\":false,\"top_units\":\"screen\"},\"id\":\"55182\",\"type\":\"BoxAnnotation\"},{\"attributes\":{\"fill_color\":{\"value\":\"red\"},\"hatch_color\":{\"value\":\"red\"},\"line_color\":{\"value\":\"red\"},\"x\":{\"field\":\"x\"},\"y\":{\"field\":\"y\"}},\"id\":\"55071\",\"type\":\"Circle\"},{\"attributes\":{\"source\":{\"id\":\"55226\"}},\"id\":\"55231\",\"type\":\"CDSView\"},{\"attributes\":{\"fill_color\":{\"value\":\"red\"},\"hatch_color\":{\"value\":\"red\"},\"line_color\":{\"value\":\"red\"},\"x\":{\"field\":\"x\"},\"y\":{\"field\":\"y\"}},\"id\":\"55295\",\"type\":\"Circle\"},{\"attributes\":{\"fill_alpha\":{\"value\":0.1},\"fill_color\":{\"value\":\"red\"},\"hatch_alpha\":{\"value\":0.1},\"hatch_color\":{\"value\":\"red\"},\"line_alpha\":{\"value\":0.1},\"line_color\":{\"value\":\"red\"},\"x\":{\"field\":\"x\"},\"y\":{\"field\":\"y\"}},\"id\":\"55296\",\"type\":\"Circle\"},{\"attributes\":{\"source\":{\"id\":\"55320\"}},\"id\":\"55325\",\"type\":\"CDSView\"},{\"attributes\":{\"source\":{\"id\":\"55247\"}},\"id\":\"55252\",\"type\":\"CDSView\"},{\"attributes\":{\"label\":{\"value\":\"cancer, total = 43\"},\"renderers\":[{\"id\":\"55194\"},{\"id\":\"55212\"}]},\"id\":\"55207\",\"type\":\"LegendItem\"},{\"attributes\":{\"label\":{\"value\":\"parkinson, 11\"},\"renderers\":[{\"id\":\"55324\"},{\"id\":\"55353\"}]},\"id\":\"55348\",\"type\":\"LegendItem\"},{\"attributes\":{},\"id\":\"55266\",\"type\":\"UnionRenderers\"},{\"attributes\":{\"fill_color\":{\"value\":\"orange\"},\"hatch_color\":{\"value\":\"orange\"},\"line_color\":{\"value\":\"orange\"},\"x\":{\"field\":\"x\"},\"y\":{\"field\":\"y\"}},\"id\":\"55209\",\"type\":\"Circle\"},{\"attributes\":{\"fill_alpha\":{\"value\":0.1},\"fill_color\":{\"value\":\"crimson\"},\"hatch_alpha\":{\"value\":0.1},\"hatch_color\":{\"value\":\"crimson\"},\"line_alpha\":{\"value\":0.1},\"line_color\":{\"value\":\"crimson\"},\"x\":{\"field\":\"x\"},\"y\":{\"field\":\"y\"}},\"id\":\"55249\",\"type\":\"Circle\"},{\"attributes\":{},\"id\":\"55043\",\"type\":\"Selection\"},{\"attributes\":{},\"id\":\"55066\",\"type\":\"UnionRenderers\"},{\"attributes\":{},\"id\":\"55198\",\"type\":\"BasicTickFormatter\"},{\"attributes\":{},\"id\":\"55345\",\"type\":\"UnionRenderers\"},{\"attributes\":{\"coordinates\":null,\"data_source\":{\"id\":\"55269\"},\"glyph\":{\"id\":\"55270\"},\"group\":null,\"hover_glyph\":null,\"muted_glyph\":{\"id\":\"55272\"},\"nonselection_glyph\":{\"id\":\"55271\"},\"view\":{\"id\":\"55274\"}},\"id\":\"55273\",\"type\":\"GlyphRenderer\"},{\"attributes\":{},\"id\":\"55042\",\"type\":\"UnionRenderers\"},{\"attributes\":{},\"id\":\"55224\",\"type\":\"Selection\"},{\"attributes\":{\"coordinates\":null,\"group\":null,\"items\":[{\"id\":\"55207\"},{\"id\":\"55246\"},{\"id\":\"55293\"},{\"id\":\"55348\"}],\"location\":\"right\"},\"id\":\"55206\",\"type\":\"Legend\"},{\"attributes\":{\"coordinates\":null,\"data_source\":{\"id\":\"54984\"},\"glyph\":{\"id\":\"54985\"},\"group\":null,\"hover_glyph\":null,\"muted_glyph\":{\"id\":\"54987\"},\"nonselection_glyph\":{\"id\":\"54986\"},\"view\":{\"id\":\"54989\"}},\"id\":\"54988\",\"type\":\"GlyphRenderer\"},{\"attributes\":{\"coordinates\":null,\"data_source\":{\"id\":\"55070\"},\"glyph\":{\"id\":\"55071\"},\"group\":null,\"hover_glyph\":null,\"muted_glyph\":{\"id\":\"55073\"},\"nonselection_glyph\":{\"id\":\"55072\"},\"view\":{\"id\":\"55075\"}},\"id\":\"55074\",\"type\":\"GlyphRenderer\"},{\"attributes\":{\"coordinates\":null,\"data_source\":{\"id\":\"55294\"},\"glyph\":{\"id\":\"55295\"},\"group\":null,\"hover_glyph\":null,\"muted_glyph\":{\"id\":\"55297\"},\"nonselection_glyph\":{\"id\":\"55296\"},\"view\":{\"id\":\"55299\"}},\"id\":\"55298\",\"type\":\"GlyphRenderer\"},{\"attributes\":{\"source\":{\"id\":\"55190\"}},\"id\":\"55195\",\"type\":\"CDSView\"},{\"attributes\":{\"overlay\":{\"id\":\"54958\"}},\"id\":\"54954\",\"type\":\"BoxZoomTool\"},{\"attributes\":{\"fill_alpha\":{\"value\":0.2},\"fill_color\":{\"value\":\"crimson\"},\"hatch_alpha\":{\"value\":0.2},\"hatch_color\":{\"value\":\"crimson\"},\"line_alpha\":{\"value\":0.2},\"line_color\":{\"value\":\"crimson\"},\"x\":{\"field\":\"x\"},\"y\":{\"field\":\"y\"}},\"id\":\"55250\",\"type\":\"Circle\"},{\"attributes\":{},\"id\":\"55377\",\"type\":\"Selection\"},{\"attributes\":{\"data\":{\"x\":[0.05,0.1,0.15,0.2,0.3,0.4,0.5],\"y\":[33.33333333333333,33.33333333333333,16.666666666666664,16.666666666666664,16.666666666666664,16.666666666666664,16.666666666666664]},\"selected\":{\"id\":\"55122\"},\"selection_policy\":{\"id\":\"55121\"}},\"id\":\"55096\",\"type\":\"ColumnDataSource\"},{\"attributes\":{},\"id\":\"55204\",\"type\":\"Selection\"},{\"attributes\":{\"ticks\":[0.05,0.1,0.15,0.2,0.3,0.4,0.5]},\"id\":\"55379\",\"type\":\"FixedTicker\"},{\"attributes\":{\"data\":{\"x\":[0.05,0.1,0.15,0.2,0.3,0.4,0.5],\"y\":[55.81395348837209,41.86046511627907,37.2093023255814,32.55813953488372,25.581395348837212,20.930232558139537,18.6046511627907]},\"selected\":{\"id\":\"55224\"},\"selection_policy\":{\"id\":\"55223\"}},\"id\":\"55208\",\"type\":\"ColumnDataSource\"},{\"attributes\":{\"fill_color\":{\"value\":\"salmon\"},\"hatch_color\":{\"value\":\"salmon\"},\"line_color\":{\"value\":\"salmon\"},\"x\":{\"field\":\"x\"},\"y\":{\"field\":\"y\"}},\"id\":\"55350\",\"type\":\"Circle\"},{\"attributes\":{\"line_alpha\":0.1,\"line_color\":\"red\",\"line_width\":2,\"x\":{\"field\":\"x\"},\"y\":{\"field\":\"y\"}},\"id\":\"55271\",\"type\":\"Line\"},{\"attributes\":{\"line_alpha\":0.2,\"line_color\":\"red\",\"line_width\":2,\"x\":{\"field\":\"x\"},\"y\":{\"field\":\"y\"}},\"id\":\"55048\",\"type\":\"Line\"},{\"attributes\":{},\"id\":\"55181\",\"type\":\"HelpTool\"},{\"attributes\":{\"data\":{\"x\":[0.05,0.1,0.15,0.2,0.3,0.4,0.5],\"y\":[100.0,100.0,94.73684210526315,94.73684210526315,94.73684210526315,94.73684210526315,94.73684210526315]},\"selected\":{\"id\":\"55094\"},\"selection_policy\":{\"id\":\"55093\"}},\"id\":\"55070\",\"type\":\"ColumnDataSource\"},{\"attributes\":{\"coordinates\":null,\"data_source\":{\"id\":\"55247\"},\"glyph\":{\"id\":\"55248\"},\"group\":null,\"hover_glyph\":null,\"muted_glyph\":{\"id\":\"55250\"},\"nonselection_glyph\":{\"id\":\"55249\"},\"view\":{\"id\":\"55252\"}},\"id\":\"55251\",\"type\":\"GlyphRenderer\"},{\"attributes\":{\"coordinates\":null,\"data_source\":{\"id\":\"55045\"},\"glyph\":{\"id\":\"55046\"},\"group\":null,\"hover_glyph\":null,\"muted_glyph\":{\"id\":\"55048\"},\"nonselection_glyph\":{\"id\":\"55047\"},\"view\":{\"id\":\"55050\"}},\"id\":\"55049\",\"type\":\"GlyphRenderer\"},{\"attributes\":{\"source\":{\"id\":\"55349\"}},\"id\":\"55354\",\"type\":\"CDSView\"},{\"attributes\":{\"line_alpha\":0.1,\"line_color\":\"red\",\"line_width\":2,\"x\":{\"field\":\"x\"},\"y\":{\"field\":\"y\"}},\"id\":\"55047\",\"type\":\"Line\"},{\"attributes\":{\"fill_alpha\":{\"value\":0.2},\"fill_color\":{\"value\":\"salmon\"},\"hatch_alpha\":{\"value\":0.2},\"hatch_color\":{\"value\":\"salmon\"},\"line_alpha\":{\"value\":0.2},\"line_color\":{\"value\":\"salmon\"},\"x\":{\"field\":\"x\"},\"y\":{\"field\":\"y\"}},\"id\":\"55352\",\"type\":\"Circle\"},{\"attributes\":{\"source\":{\"id\":\"55045\"}},\"id\":\"55050\",\"type\":\"CDSView\"},{\"attributes\":{\"line_color\":\"red\",\"line_width\":2,\"x\":{\"field\":\"x\"},\"y\":{\"field\":\"y\"}},\"id\":\"55270\",\"type\":\"Line\"},{\"attributes\":{},\"id\":\"55199\",\"type\":\"AllLabels\"},{\"attributes\":{\"line_alpha\":0.2,\"line_color\":\"red\",\"line_width\":2,\"x\":{\"field\":\"x\"},\"y\":{\"field\":\"y\"}},\"id\":\"55272\",\"type\":\"Line\"},{\"attributes\":{},\"id\":\"54955\",\"type\":\"SaveTool\"}],\"root_ids\":[\"55381\"]},\"title\":\"Bokeh Application\",\"version\":\"2.4.3\"}};\n",
       "  const render_items = [{\"docid\":\"d8b0d8cc-d2e8-4fe4-8902-1b4d2b63cb39\",\"root_ids\":[\"55381\"],\"roots\":{\"55381\":\"07c2b99a-32f8-49ed-b8e6-3c10912837ca\"}}];\n",
       "  root.Bokeh.embed.embed_items_notebook(docs_json, render_items);\n",
       "  }\n",
       "  if (root.Bokeh !== undefined) {\n",
       "    embed_document(root);\n",
       "  } else {\n",
       "    let attempts = 0;\n",
       "    const timer = setInterval(function(root) {\n",
       "      if (root.Bokeh !== undefined) {\n",
       "        clearInterval(timer);\n",
       "        embed_document(root);\n",
       "      } else {\n",
       "        attempts++;\n",
       "        if (attempts > 100) {\n",
       "          clearInterval(timer);\n",
       "          console.log(\"Bokeh: ERROR: Unable to run BokehJS code because BokehJS library is missing\");\n",
       "        }\n",
       "      }\n",
       "    }, 10, root)\n",
       "  }\n",
       "})(window);"
      ],
      "application/vnd.bokehjs_exec.v0+json": ""
     },
     "metadata": {
      "application/vnd.bokehjs_exec.v0+json": {
       "id": "55381"
      }
     },
     "output_type": "display_data"
    }
   ],
   "source": [
    "p1 = bokeh.plotting.figure(\n",
    "    title=\"Step Method at alpha = .05 vs Standard Method on Test Datasets\",\n",
    "    frame_height=400,\n",
    "    frame_width=400,\n",
    "    x_range=[0, 0.55],\n",
    "    y_range=[-5, 110],\n",
    "    y_axis_label = '% unique results vs standard method',\n",
    "    x_axis_label = 'alpha for standard method'\n",
    ")\n",
    "x = alphas\n",
    "d = list(datasets.keys())\n",
    "colors = ['orange','crimson','red','salmon']\n",
    "for i in range(4):\n",
    "    vals = results_combined_s[i][:-1]\n",
    "    c = colors[i]\n",
    "    if i == 0:\n",
    "        label = d[i][:-4]+', total = '+str(results_combined_s[i][-1])\n",
    "    else:\n",
    "        label = d[i][:-4]+', '+str(results_combined_s[i][-1])\n",
    "    p1.line(x,vals,legend_label = label,color = c,line_width = 2)\n",
    "    p1.circle(x,vals,legend_label = label,color = c,size = 4)\n",
    "p1.xaxis.ticker=x\n",
    "p1.grid.visible = False\n",
    "p1.legend.location = 'right'\n",
    "\n",
    "p2 = bokeh.plotting.figure(\n",
    "    title=\"Standard Method at alpha = .05 vs Step Method on Test Datasets\",\n",
    "    frame_height=400,\n",
    "    frame_width=400,\n",
    "    x_range=[0, 0.55],\n",
    "    y_range=[-5, 110],\n",
    "    y_axis_label = '% unique results vs step method',\n",
    "    x_axis_label = 'alpha for step method'\n",
    ")\n",
    "for i in range(4):\n",
    "    vals = results_combined_ff[i][:-1]\n",
    "    c = colors[i]\n",
    "    if i == 0:\n",
    "        label = d[i][:-4]+', total = '+str(results_combined_ff[i][-1])\n",
    "    else:\n",
    "        label = d[i][:-4]+', '+str(results_combined_ff[i][-1])\n",
    "    p2.line(x,vals,legend_label = label,color = c,line_width = 2)\n",
    "    p2.circle(x,vals,legend_label = label,color = c,size = 4)\n",
    "p2.xaxis.ticker=x\n",
    "p2.grid.visible = False\n",
    "p2.legend.location = 'right'\n",
    "\n",
    "r = bokeh.layouts.row([p1,p2])\n",
    "bokeh.io.show(r)"
   ]
  },
  {
   "cell_type": "markdown",
   "id": "smart-above",
   "metadata": {},
   "source": [
    "# Examining PI3K/AKT signaling in the P97 dataset"
   ]
  },
  {
   "cell_type": "code",
   "execution_count": 14,
   "id": "banned-strap",
   "metadata": {
    "scrolled": true
   },
   "outputs": [
    {
     "data": {
      "text/html": [
       "<div>\n",
       "<style scoped>\n",
       "    .dataframe tbody tr th:only-of-type {\n",
       "        vertical-align: middle;\n",
       "    }\n",
       "\n",
       "    .dataframe tbody tr th {\n",
       "        vertical-align: top;\n",
       "    }\n",
       "\n",
       "    .dataframe thead th {\n",
       "        text-align: right;\n",
       "    }\n",
       "</style>\n",
       "<table border=\"1\" class=\"dataframe\">\n",
       "  <thead>\n",
       "    <tr style=\"text-align: right;\">\n",
       "      <th></th>\n",
       "      <th>title</th>\n",
       "      <th>pval (uncorrected)</th>\n",
       "      <th># genes in list</th>\n",
       "      <th>#genes in gocam</th>\n",
       "      <th>shared gene products in gocam</th>\n",
       "      <th>url</th>\n",
       "    </tr>\n",
       "  </thead>\n",
       "  <tbody>\n",
       "    <tr>\n",
       "      <th>0</th>\n",
       "      <td>PI5P, PP2A and IER3 Regulate PI3K/AKT Signaling - Reactome</td>\n",
       "      <td>0.000002</td>\n",
       "      <td>8</td>\n",
       "      <td>13</td>\n",
       "      <td>[sset:PIP5K1A-C, sset:PI4K2A/2B, sset:PP2A-subunit A, sset:SYNJ/MTM(1), sset:PP2A-catalytic subu...</td>\n",
       "      <td>http://model.geneontology.org/R-HSA-6811558</td>\n",
       "    </tr>\n",
       "    <tr>\n",
       "      <th>1</th>\n",
       "      <td>Unwinding of DNA - Reactome</td>\n",
       "      <td>0.000002</td>\n",
       "      <td>6</td>\n",
       "      <td>7</td>\n",
       "      <td>[P25205, Q14566, P33991, P49736, P33993, P33992]</td>\n",
       "      <td>http://model.geneontology.org/R-HSA-176974</td>\n",
       "    </tr>\n",
       "  </tbody>\n",
       "</table>\n",
       "</div>"
      ],
      "text/plain": [
       "                                                        title  \\\n",
       "0  PI5P, PP2A and IER3 Regulate PI3K/AKT Signaling - Reactome   \n",
       "1                                 Unwinding of DNA - Reactome   \n",
       "\n",
       "   pval (uncorrected)  # genes in list  #genes in gocam  \\\n",
       "0            0.000002                8               13   \n",
       "1            0.000002                6                7   \n",
       "\n",
       "                                                                         shared gene products in gocam  \\\n",
       "0  [sset:PIP5K1A-C, sset:PI4K2A/2B, sset:PP2A-subunit A, sset:SYNJ/MTM(1), sset:PP2A-catalytic subu...   \n",
       "1                                                     [P25205, Q14566, P33991, P49736, P33993, P33992]   \n",
       "\n",
       "                                           url  \n",
       "0  http://model.geneontology.org/R-HSA-6811558  \n",
       "1   http://model.geneontology.org/R-HSA-176974  "
      ]
     },
     "execution_count": 14,
     "metadata": {},
     "output_type": "execute_result"
    }
   ],
   "source": [
    "gene_list = pd.read_csv('../../Desktop/GOCAM/P97.csv',header=None,names = ['g'])\n",
    "P97_test_set = gene_list.g\n",
    "uniprot2input = pd.Series(P97_test_set.values,index=P97_test_set).to_dict()\n",
    "x = pd.read_csv('../data/gocam_sizes_mouse.csv')\n",
    "gocam_sizes = pd.Series(x.sizes.values,index=x.gocam)\n",
    "Dict = utils.csv2dict('../data/ID2gocam_mouse.csv')\n",
    "filtered_out_genes, filtered_list, setID2members_input_uni, setID2members_input, df_display= enrich.enrich(list(gene_list.g), P97_test_set, uniprot2input, gocam_sizes, Dict,alpha = .05)\n",
    "df_display#[df_display.title.apply(lambda x: 'Hedgehog' in x)]"
   ]
  },
  {
   "cell_type": "code",
   "execution_count": 15,
   "id": "potential-receiver",
   "metadata": {},
   "outputs": [
    {
     "data": {
      "text/plain": [
       "(766, 338, 496)"
      ]
     },
     "execution_count": 15,
     "metadata": {},
     "output_type": "execute_result"
    }
   ],
   "source": [
    "len(gene_list.g),len(filtered_list),len(filtered_out_genes)"
   ]
  },
  {
   "cell_type": "code",
   "execution_count": 16,
   "id": "binary-burns",
   "metadata": {},
   "outputs": [
    {
     "data": {
      "text/plain": [
       "(0.2673159657624832, 2.085287471110162e-06)"
      ]
     },
     "execution_count": 16,
     "metadata": {},
     "output_type": "execute_result"
    }
   ],
   "source": [
    "#hypergeom.sf(count-1, background_gene_list_size,  gocam_size, gene_list_size)\n",
    "hypergeom.sf(8-1, 5386,  122, 270),hypergeom.sf(8-1, 4008,  13, 338)"
   ]
  },
  {
   "cell_type": "markdown",
   "id": "danish-break",
   "metadata": {},
   "source": [
    "# HGT is sensitive to relatively small parameter changes"
   ]
  },
  {
   "cell_type": "markdown",
   "id": "preliminary-seeker",
   "metadata": {},
   "source": [
    "Comparing enrichment of 'SCF(Skp2)-mediated degradation of p27/p21 - Reactome' in the P97 dataset in the fully flattened and set models:"
   ]
  },
  {
   "cell_type": "code",
   "execution_count": 17,
   "id": "seasonal-farming",
   "metadata": {},
   "outputs": [
    {
     "data": {
      "text/plain": [
       "(8.116740023877458e-07, 0.0003898627483820106)"
      ]
     },
     "execution_count": 17,
     "metadata": {},
     "output_type": "execute_result"
    }
   ],
   "source": [
    "#hypergeom.sf(count-1, background_gene_list_size,  gocam_size, gene_list_size)\n",
    "hypergeom.sf(13-1, 5386,  51, 270),hypergeom.sf(12-1, 4008,  50, 318)"
   ]
  },
  {
   "cell_type": "markdown",
   "id": "diagnostic-small",
   "metadata": {},
   "source": [
    "Effect of gene list size (change from 270 to 318 is due to addition of sets - removal of genes that only occur in sets)"
   ]
  },
  {
   "cell_type": "code",
   "execution_count": 18,
   "id": "radical-grain",
   "metadata": {},
   "outputs": [
    {
     "data": {
      "text/plain": [
       "(8.116740023877458e-07, 8.212821239278383e-05)"
      ]
     },
     "execution_count": 18,
     "metadata": {},
     "output_type": "execute_result"
    }
   ],
   "source": [
    "#hypergeom.sf(count-1, background_gene_list_size,  gocam_size, gene_list_size)\n",
    "hypergeom.sf(13-1, 5386,  51, 270),hypergeom.sf(12-1, 4008,  50, 270)"
   ]
  },
  {
   "cell_type": "markdown",
   "id": "following-notification",
   "metadata": {},
   "source": [
    "Effect of background gene list size (analogous to above)"
   ]
  },
  {
   "cell_type": "code",
   "execution_count": 19,
   "id": "bored-queens",
   "metadata": {},
   "outputs": [
    {
     "data": {
      "text/plain": [
       "(8.116740023877458e-07, 4.33261197373605e-06)"
      ]
     },
     "execution_count": 19,
     "metadata": {},
     "output_type": "execute_result"
    }
   ],
   "source": [
    "#hypergeom.sf(count-1, background_gene_list_size,  gocam_size, gene_list_size)\n",
    "hypergeom.sf(13-1, 5386,  51, 270),hypergeom.sf(12-1, 5386,  50, 270)"
   ]
  },
  {
   "cell_type": "markdown",
   "id": "jewish-admission",
   "metadata": {},
   "source": [
    "# Examining the Effect of Background Size\n",
    "\n",
    "Background size refers to the number of entities across all models, and when the blue curve is below the orange, the result is \"automatically\" significant by itself at rank 5 or higher (higher being closer to 1), meaning its significance does not depend on the p-values of the rest of the results (see below). \n",
    "\n",
    "Caption and parameters: Blue = uncorrected p-value, orange = Benjamini-Hochberg critical value for rank 5 ( from multiple testing correction).\n",
    "Alpha=.05. The number of GO CAMs (for multiple testing correction) is calculated as background gene list size / average gocam size, which I arbitrarily set equal to 5. I assume that the background list of genes increases due to the addition of more models, which increases the number of tests being done. Thus, the BH critical value is not constant and decreases with background size."
   ]
  },
  {
   "cell_type": "code",
   "execution_count": 20,
   "id": "convinced-hanging",
   "metadata": {},
   "outputs": [],
   "source": [
    "import numpy as np"
   ]
  },
  {
   "cell_type": "code",
   "execution_count": 21,
   "id": "wicked-collectible",
   "metadata": {},
   "outputs": [
    {
     "data": {
      "image/png": "[encoded data removed]",
      "text/plain": [
       "<Figure size 1200x1200 with 9 Axes>"
      ]
     },
     "metadata": {},
     "output_type": "display_data"
    }
   ],
   "source": [
    "background_gene_list_size = np.linspace(500,5000,1000)\n",
    "average_gocam_size = 5\n",
    "total_gocam_sizes = background_gene_list_size*(1/average_gocam_size)\n",
    "alpha = .05\n",
    "rank = 5\n",
    "crit_vals = 1/background_gene_list_size*alpha*rank*average_gocam_size\n",
    "count_percent = [.3,.5,.7]\n",
    "gocam_size = [3,6,9]\n",
    "gene_list_size = 100\n",
    "fig, axs = plt.subplots(3, 3,figsize=(12,12))\n",
    "fig.suptitle('Effects of background and GO CAM size on HGT enrichment',fontsize=20)\n",
    "#txt=\"\"\"Blue = uncorrected p-value, orange = benjamini-hochberg critical value for rank 5 (multiple hypothesis correction). \\n\n",
    "#Alpha=.05 for multiple testing correction. The number of gocams is calculated as background gene list size / average gocam size, which is 5.\"\"\"\n",
    "#plt.figtext(0.5, 0, txt,  horizontalalignment='center', fontsize=14)\n",
    "for i in range(0,3):\n",
    "    for j in range(0,3):\n",
    "        pvals=[]\n",
    "        for x in background_gene_list_size:\n",
    "            num = int(count_percent[i]*gocam_size[j])\n",
    "            pvals.append(hypergeom.sf(num-1, x,  gocam_size[j], gene_list_size))\n",
    "        axs[i,j].scatter(background_gene_list_size,pvals,s=5, label = 'p-value')\n",
    "        axs[i,j].scatter(background_gene_list_size,crit_vals, s=5,label = 'BH value')\n",
    "        axs[i,j].set_title(str(num)+' of '+str(gocam_size[j])+ ' genes')\n",
    "        if i==2 and j==2: axs[i,j].legend(fontsize='x-large')\n",
    "        #axs[i,j].axhline(y=(alpha))\n",
    "        if i == 1:\n",
    "            axs[i,j].set_ylim([-0.005, 0.01])\n",
    "        if i == 2:\n",
    "            axs[i,j].set_ylim([-.005, 0.01])\n",
    "for ax in axs.flat:\n",
    "    ax.set(xlabel='background size', ylabel='p value')\n",
    "# Hide x labels and tick labels for top plots and y ticks for right plots.\n",
    "for ax in axs.flat:\n",
    "    ax.label_outer()\n",
    "fig.tight_layout()\n",
    "fig.patch.set_facecolor('xkcd:white')\n",
    "plt.savefig('../../Desktop/Effect_list_sizes',dpi=300)"
   ]
  },
  {
   "cell_type": "code",
   "execution_count": null,
   "id": "synthetic-replacement",
   "metadata": {},
   "outputs": [],
   "source": []
  }
 ],
 "metadata": {
  "kernelspec": {
   "display_name": "Python 3 (ipykernel)",
   "language": "python",
   "name": "python3"
  },
  "language_info": {
   "codemirror_mode": {
    "name": "ipython",
    "version": 3
   },
   "file_extension": ".py",
   "mimetype": "text/x-python",
   "name": "python",
   "nbconvert_exporter": "python",
   "pygments_lexer": "ipython3",
   "version": "3.7.12"
  }
 },
 "nbformat": 4,
 "nbformat_minor": 5
}
