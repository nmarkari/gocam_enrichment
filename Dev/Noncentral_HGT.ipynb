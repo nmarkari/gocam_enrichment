{
 "cells": [
  {
   "cell_type": "code",
   "execution_count": 1,
   "id": "vietnamese-colors",
   "metadata": {},
   "outputs": [
    {
     "name": "stdout",
     "output_type": "stream",
     "text": [
      "Wed Dec 21 12:00:54 PST 2022\n"
     ]
    }
   ],
   "source": [
    "!date\n",
    "import pandas as pd\n",
    "import numpy as np\n",
    "import sys\n",
    "sys.path.append('../GOCAM_Project/dev')\n",
    "\n",
    "import rpy2\n",
    "from rpy2.robjects.packages import importr\n",
    "BiasedUrn = importr('BiasedUrn')\n",
    "\n",
    "import utils\n",
    "import enrich\n",
    "import numba\n",
    "\n",
    "pd.options.display.max_colwidth = 100"
   ]
  },
  {
   "cell_type": "code",
   "execution_count": 2,
   "id": "1d7f4f0d-1234-4cea-87b4-e54401c3d768",
   "metadata": {},
   "outputs": [
    {
     "data": {
      "text/html": [
       "<div class=\"bk-root\">\n",
       "        <a href=\"https://bokeh.org\" target=\"_blank\" class=\"bk-logo bk-logo-small bk-logo-notebook\"></a>\n",
       "        <span id=\"1002\">Loading BokehJS ...</span>\n",
       "    </div>\n"
      ]
     },
     "metadata": {},
     "output_type": "display_data"
    },
    {
     "data": {
      "application/javascript": [
       "(function(root) {\n",
       "  function now() {\n",
       "    return new Date();\n",
       "  }\n",
       "\n",
       "  const force = true;\n",
       "\n",
       "  if (typeof root._bokeh_onload_callbacks === \"undefined\" || force === true) {\n",
       "    root._bokeh_onload_callbacks = [];\n",
       "    root._bokeh_is_loading = undefined;\n",
       "  }\n",
       "\n",
       "const JS_MIME_TYPE = 'application/javascript';\n",
       "  const HTML_MIME_TYPE = 'text/html';\n",
       "  const EXEC_MIME_TYPE = 'application/vnd.bokehjs_exec.v0+json';\n",
       "  const CLASS_NAME = 'output_bokeh rendered_html';\n",
       "\n",
       "  /**\n",
       "   * Render data to the DOM node\n",
       "   */\n",
       "  function render(props, node) {\n",
       "    const script = document.createElement(\"script\");\n",
       "    node.appendChild(script);\n",
       "  }\n",
       "\n",
       "  /**\n",
       "   * Handle when an output is cleared or removed\n",
       "   */\n",
       "  function handleClearOutput(event, handle) {\n",
       "    const cell = handle.cell;\n",
       "\n",
       "    const id = cell.output_area._bokeh_element_id;\n",
       "    const server_id = cell.output_area._bokeh_server_id;\n",
       "    // Clean up Bokeh references\n",
       "    if (id != null && id in Bokeh.index) {\n",
       "      Bokeh.index[id].model.document.clear();\n",
       "      delete Bokeh.index[id];\n",
       "    }\n",
       "\n",
       "    if (server_id !== undefined) {\n",
       "      // Clean up Bokeh references\n",
       "      const cmd_clean = \"from bokeh.io.state import curstate; print(curstate().uuid_to_server['\" + server_id + \"'].get_sessions()[0].document.roots[0]._id)\";\n",
       "      cell.notebook.kernel.execute(cmd_clean, {\n",
       "        iopub: {\n",
       "          output: function(msg) {\n",
       "            const id = msg.content.text.trim();\n",
       "            if (id in Bokeh.index) {\n",
       "              Bokeh.index[id].model.document.clear();\n",
       "              delete Bokeh.index[id];\n",
       "            }\n",
       "          }\n",
       "        }\n",
       "      });\n",
       "      // Destroy server and session\n",
       "      const cmd_destroy = \"import bokeh.io.notebook as ion; ion.destroy_server('\" + server_id + \"')\";\n",
       "      cell.notebook.kernel.execute(cmd_destroy);\n",
       "    }\n",
       "  }\n",
       "\n",
       "  /**\n",
       "   * Handle when a new output is added\n",
       "   */\n",
       "  function handleAddOutput(event, handle) {\n",
       "    const output_area = handle.output_area;\n",
       "    const output = handle.output;\n",
       "\n",
       "    // limit handleAddOutput to display_data with EXEC_MIME_TYPE content only\n",
       "    if ((output.output_type != \"display_data\") || (!Object.prototype.hasOwnProperty.call(output.data, EXEC_MIME_TYPE))) {\n",
       "      return\n",
       "    }\n",
       "\n",
       "    const toinsert = output_area.element.find(\".\" + CLASS_NAME.split(' ')[0]);\n",
       "\n",
       "    if (output.metadata[EXEC_MIME_TYPE][\"id\"] !== undefined) {\n",
       "      toinsert[toinsert.length - 1].firstChild.textContent = output.data[JS_MIME_TYPE];\n",
       "      // store reference to embed id on output_area\n",
       "      output_area._bokeh_element_id = output.metadata[EXEC_MIME_TYPE][\"id\"];\n",
       "    }\n",
       "    if (output.metadata[EXEC_MIME_TYPE][\"server_id\"] !== undefined) {\n",
       "      const bk_div = document.createElement(\"div\");\n",
       "      bk_div.innerHTML = output.data[HTML_MIME_TYPE];\n",
       "      const script_attrs = bk_div.children[0].attributes;\n",
       "      for (let i = 0; i < script_attrs.length; i++) {\n",
       "        toinsert[toinsert.length - 1].firstChild.setAttribute(script_attrs[i].name, script_attrs[i].value);\n",
       "        toinsert[toinsert.length - 1].firstChild.textContent = bk_div.children[0].textContent\n",
       "      }\n",
       "      // store reference to server id on output_area\n",
       "      output_area._bokeh_server_id = output.metadata[EXEC_MIME_TYPE][\"server_id\"];\n",
       "    }\n",
       "  }\n",
       "\n",
       "  function register_renderer(events, OutputArea) {\n",
       "\n",
       "    function append_mime(data, metadata, element) {\n",
       "      // create a DOM node to render to\n",
       "      const toinsert = this.create_output_subarea(\n",
       "        metadata,\n",
       "        CLASS_NAME,\n",
       "        EXEC_MIME_TYPE\n",
       "      );\n",
       "      this.keyboard_manager.register_events(toinsert);\n",
       "      // Render to node\n",
       "      const props = {data: data, metadata: metadata[EXEC_MIME_TYPE]};\n",
       "      render(props, toinsert[toinsert.length - 1]);\n",
       "      element.append(toinsert);\n",
       "      return toinsert\n",
       "    }\n",
       "\n",
       "    /* Handle when an output is cleared or removed */\n",
       "    events.on('clear_output.CodeCell', handleClearOutput);\n",
       "    events.on('delete.Cell', handleClearOutput);\n",
       "\n",
       "    /* Handle when a new output is added */\n",
       "    events.on('output_added.OutputArea', handleAddOutput);\n",
       "\n",
       "    /**\n",
       "     * Register the mime type and append_mime function with output_area\n",
       "     */\n",
       "    OutputArea.prototype.register_mime_type(EXEC_MIME_TYPE, append_mime, {\n",
       "      /* Is output safe? */\n",
       "      safe: true,\n",
       "      /* Index of renderer in `output_area.display_order` */\n",
       "      index: 0\n",
       "    });\n",
       "  }\n",
       "\n",
       "  // register the mime type if in Jupyter Notebook environment and previously unregistered\n",
       "  if (root.Jupyter !== undefined) {\n",
       "    const events = require('base/js/events');\n",
       "    const OutputArea = require('notebook/js/outputarea').OutputArea;\n",
       "\n",
       "    if (OutputArea.prototype.mime_types().indexOf(EXEC_MIME_TYPE) == -1) {\n",
       "      register_renderer(events, OutputArea);\n",
       "    }\n",
       "  }\n",
       "  if (typeof (root._bokeh_timeout) === \"undefined\" || force === true) {\n",
       "    root._bokeh_timeout = Date.now() + 5000;\n",
       "    root._bokeh_failed_load = false;\n",
       "  }\n",
       "\n",
       "  const NB_LOAD_WARNING = {'data': {'text/html':\n",
       "     \"<div style='background-color: #fdd'>\\n\"+\n",
       "     \"<p>\\n\"+\n",
       "     \"BokehJS does not appear to have successfully loaded. If loading BokehJS from CDN, this \\n\"+\n",
       "     \"may be due to a slow or bad network connection. Possible fixes:\\n\"+\n",
       "     \"</p>\\n\"+\n",
       "     \"<ul>\\n\"+\n",
       "     \"<li>re-rerun `output_notebook()` to attempt to load from CDN again, or</li>\\n\"+\n",
       "     \"<li>use INLINE resources instead, as so:</li>\\n\"+\n",
       "     \"</ul>\\n\"+\n",
       "     \"<code>\\n\"+\n",
       "     \"from bokeh.resources import INLINE\\n\"+\n",
       "     \"output_notebook(resources=INLINE)\\n\"+\n",
       "     \"</code>\\n\"+\n",
       "     \"</div>\"}};\n",
       "\n",
       "  function display_loaded() {\n",
       "    const el = document.getElementById(\"1002\");\n",
       "    if (el != null) {\n",
       "      el.textContent = \"BokehJS is loading...\";\n",
       "    }\n",
       "    if (root.Bokeh !== undefined) {\n",
       "      if (el != null) {\n",
       "        el.textContent = \"BokehJS \" + root.Bokeh.version + \" successfully loaded.\";\n",
       "      }\n",
       "    } else if (Date.now() < root._bokeh_timeout) {\n",
       "      setTimeout(display_loaded, 100)\n",
       "    }\n",
       "  }\n",
       "\n",
       "  function run_callbacks() {\n",
       "    try {\n",
       "      root._bokeh_onload_callbacks.forEach(function(callback) {\n",
       "        if (callback != null)\n",
       "          callback();\n",
       "      });\n",
       "    } finally {\n",
       "      delete root._bokeh_onload_callbacks\n",
       "    }\n",
       "    console.debug(\"Bokeh: all callbacks have finished\");\n",
       "  }\n",
       "\n",
       "  function load_libs(css_urls, js_urls, callback) {\n",
       "    if (css_urls == null) css_urls = [];\n",
       "    if (js_urls == null) js_urls = [];\n",
       "\n",
       "    root._bokeh_onload_callbacks.push(callback);\n",
       "    if (root._bokeh_is_loading > 0) {\n",
       "      console.debug(\"Bokeh: BokehJS is being loaded, scheduling callback at\", now());\n",
       "      return null;\n",
       "    }\n",
       "    if (js_urls == null || js_urls.length === 0) {\n",
       "      run_callbacks();\n",
       "      return null;\n",
       "    }\n",
       "    console.debug(\"Bokeh: BokehJS not loaded, scheduling load and callback at\", now());\n",
       "    root._bokeh_is_loading = css_urls.length + js_urls.length;\n",
       "\n",
       "    function on_load() {\n",
       "      root._bokeh_is_loading--;\n",
       "      if (root._bokeh_is_loading === 0) {\n",
       "        console.debug(\"Bokeh: all BokehJS libraries/stylesheets loaded\");\n",
       "        run_callbacks()\n",
       "      }\n",
       "    }\n",
       "\n",
       "    function on_error(url) {\n",
       "      console.error(\"failed to load \" + url);\n",
       "    }\n",
       "\n",
       "    for (let i = 0; i < css_urls.length; i++) {\n",
       "      const url = css_urls[i];\n",
       "      const element = document.createElement(\"link\");\n",
       "      element.onload = on_load;\n",
       "      element.onerror = on_error.bind(null, url);\n",
       "      element.rel = \"stylesheet\";\n",
       "      element.type = \"text/css\";\n",
       "      element.href = url;\n",
       "      console.debug(\"Bokeh: injecting link tag for BokehJS stylesheet: \", url);\n",
       "      document.body.appendChild(element);\n",
       "    }\n",
       "\n",
       "    for (let i = 0; i < js_urls.length; i++) {\n",
       "      const url = js_urls[i];\n",
       "      const element = document.createElement('script');\n",
       "      element.onload = on_load;\n",
       "      element.onerror = on_error.bind(null, url);\n",
       "      element.async = false;\n",
       "      element.src = url;\n",
       "      console.debug(\"Bokeh: injecting script tag for BokehJS library: \", url);\n",
       "      document.head.appendChild(element);\n",
       "    }\n",
       "  };\n",
       "\n",
       "  function inject_raw_css(css) {\n",
       "    const element = document.createElement(\"style\");\n",
       "    element.appendChild(document.createTextNode(css));\n",
       "    document.body.appendChild(element);\n",
       "  }\n",
       "\n",
       "  const js_urls = [\"https://cdn.bokeh.org/bokeh/release/bokeh-2.4.3.min.js\", \"https://cdn.bokeh.org/bokeh/release/bokeh-gl-2.4.3.min.js\", \"https://cdn.bokeh.org/bokeh/release/bokeh-widgets-2.4.3.min.js\", \"https://cdn.bokeh.org/bokeh/release/bokeh-tables-2.4.3.min.js\", \"https://cdn.bokeh.org/bokeh/release/bokeh-mathjax-2.4.3.min.js\"];\n",
       "  const css_urls = [];\n",
       "\n",
       "  const inline_js = [    function(Bokeh) {\n",
       "      Bokeh.set_log_level(\"info\");\n",
       "    },\n",
       "function(Bokeh) {\n",
       "    }\n",
       "  ];\n",
       "\n",
       "  function run_inline_js() {\n",
       "    if (root.Bokeh !== undefined || force === true) {\n",
       "          for (let i = 0; i < inline_js.length; i++) {\n",
       "      inline_js[i].call(root, root.Bokeh);\n",
       "    }\n",
       "if (force === true) {\n",
       "        display_loaded();\n",
       "      }} else if (Date.now() < root._bokeh_timeout) {\n",
       "      setTimeout(run_inline_js, 100);\n",
       "    } else if (!root._bokeh_failed_load) {\n",
       "      console.log(\"Bokeh: BokehJS failed to load within specified timeout.\");\n",
       "      root._bokeh_failed_load = true;\n",
       "    } else if (force !== true) {\n",
       "      const cell = $(document.getElementById(\"1002\")).parents('.cell').data().cell;\n",
       "      cell.output_area.append_execute_result(NB_LOAD_WARNING)\n",
       "    }\n",
       "  }\n",
       "\n",
       "  if (root._bokeh_is_loading === 0) {\n",
       "    console.debug(\"Bokeh: BokehJS loaded, going straight to plotting\");\n",
       "    run_inline_js();\n",
       "  } else {\n",
       "    load_libs(css_urls, js_urls, function() {\n",
       "      console.debug(\"Bokeh: BokehJS plotting callback run at\", now());\n",
       "      run_inline_js();\n",
       "    });\n",
       "  }\n",
       "}(window));"
      ],
      "application/vnd.bokehjs_load.v0+json": "(function(root) {\n  function now() {\n    return new Date();\n  }\n\n  const force = true;\n\n  if (typeof root._bokeh_onload_callbacks === \"undefined\" || force === true) {\n    root._bokeh_onload_callbacks = [];\n    root._bokeh_is_loading = undefined;\n  }\n\n\n  if (typeof (root._bokeh_timeout) === \"undefined\" || force === true) {\n    root._bokeh_timeout = Date.now() + 5000;\n    root._bokeh_failed_load = false;\n  }\n\n  const NB_LOAD_WARNING = {'data': {'text/html':\n     \"<div style='background-color: #fdd'>\\n\"+\n     \"<p>\\n\"+\n     \"BokehJS does not appear to have successfully loaded. If loading BokehJS from CDN, this \\n\"+\n     \"may be due to a slow or bad network connection. Possible fixes:\\n\"+\n     \"</p>\\n\"+\n     \"<ul>\\n\"+\n     \"<li>re-rerun `output_notebook()` to attempt to load from CDN again, or</li>\\n\"+\n     \"<li>use INLINE resources instead, as so:</li>\\n\"+\n     \"</ul>\\n\"+\n     \"<code>\\n\"+\n     \"from bokeh.resources import INLINE\\n\"+\n     \"output_notebook(resources=INLINE)\\n\"+\n     \"</code>\\n\"+\n     \"</div>\"}};\n\n  function display_loaded() {\n    const el = document.getElementById(\"1002\");\n    if (el != null) {\n      el.textContent = \"BokehJS is loading...\";\n    }\n    if (root.Bokeh !== undefined) {\n      if (el != null) {\n        el.textContent = \"BokehJS \" + root.Bokeh.version + \" successfully loaded.\";\n      }\n    } else if (Date.now() < root._bokeh_timeout) {\n      setTimeout(display_loaded, 100)\n    }\n  }\n\n  function run_callbacks() {\n    try {\n      root._bokeh_onload_callbacks.forEach(function(callback) {\n        if (callback != null)\n          callback();\n      });\n    } finally {\n      delete root._bokeh_onload_callbacks\n    }\n    console.debug(\"Bokeh: all callbacks have finished\");\n  }\n\n  function load_libs(css_urls, js_urls, callback) {\n    if (css_urls == null) css_urls = [];\n    if (js_urls == null) js_urls = [];\n\n    root._bokeh_onload_callbacks.push(callback);\n    if (root._bokeh_is_loading > 0) {\n      console.debug(\"Bokeh: BokehJS is being loaded, scheduling callback at\", now());\n      return null;\n    }\n    if (js_urls == null || js_urls.length === 0) {\n      run_callbacks();\n      return null;\n    }\n    console.debug(\"Bokeh: BokehJS not loaded, scheduling load and callback at\", now());\n    root._bokeh_is_loading = css_urls.length + js_urls.length;\n\n    function on_load() {\n      root._bokeh_is_loading--;\n      if (root._bokeh_is_loading === 0) {\n        console.debug(\"Bokeh: all BokehJS libraries/stylesheets loaded\");\n        run_callbacks()\n      }\n    }\n\n    function on_error(url) {\n      console.error(\"failed to load \" + url);\n    }\n\n    for (let i = 0; i < css_urls.length; i++) {\n      const url = css_urls[i];\n      const element = document.createElement(\"link\");\n      element.onload = on_load;\n      element.onerror = on_error.bind(null, url);\n      element.rel = \"stylesheet\";\n      element.type = \"text/css\";\n      element.href = url;\n      console.debug(\"Bokeh: injecting link tag for BokehJS stylesheet: \", url);\n      document.body.appendChild(element);\n    }\n\n    for (let i = 0; i < js_urls.length; i++) {\n      const url = js_urls[i];\n      const element = document.createElement('script');\n      element.onload = on_load;\n      element.onerror = on_error.bind(null, url);\n      element.async = false;\n      element.src = url;\n      console.debug(\"Bokeh: injecting script tag for BokehJS library: \", url);\n      document.head.appendChild(element);\n    }\n  };\n\n  function inject_raw_css(css) {\n    const element = document.createElement(\"style\");\n    element.appendChild(document.createTextNode(css));\n    document.body.appendChild(element);\n  }\n\n  const js_urls = [\"https://cdn.bokeh.org/bokeh/release/bokeh-2.4.3.min.js\", \"https://cdn.bokeh.org/bokeh/release/bokeh-gl-2.4.3.min.js\", \"https://cdn.bokeh.org/bokeh/release/bokeh-widgets-2.4.3.min.js\", \"https://cdn.bokeh.org/bokeh/release/bokeh-tables-2.4.3.min.js\", \"https://cdn.bokeh.org/bokeh/release/bokeh-mathjax-2.4.3.min.js\"];\n  const css_urls = [];\n\n  const inline_js = [    function(Bokeh) {\n      Bokeh.set_log_level(\"info\");\n    },\nfunction(Bokeh) {\n    }\n  ];\n\n  function run_inline_js() {\n    if (root.Bokeh !== undefined || force === true) {\n          for (let i = 0; i < inline_js.length; i++) {\n      inline_js[i].call(root, root.Bokeh);\n    }\nif (force === true) {\n        display_loaded();\n      }} else if (Date.now() < root._bokeh_timeout) {\n      setTimeout(run_inline_js, 100);\n    } else if (!root._bokeh_failed_load) {\n      console.log(\"Bokeh: BokehJS failed to load within specified timeout.\");\n      root._bokeh_failed_load = true;\n    } else if (force !== true) {\n      const cell = $(document.getElementById(\"1002\")).parents('.cell').data().cell;\n      cell.output_area.append_execute_result(NB_LOAD_WARNING)\n    }\n  }\n\n  if (root._bokeh_is_loading === 0) {\n    console.debug(\"Bokeh: BokehJS loaded, going straight to plotting\");\n    run_inline_js();\n  } else {\n    load_libs(css_urls, js_urls, function() {\n      console.debug(\"Bokeh: BokehJS plotting callback run at\", now());\n      run_inline_js();\n    });\n  }\n}(window));"
     },
     "metadata": {},
     "output_type": "display_data"
    }
   ],
   "source": [
    "import bokeh.io\n",
    "import bokeh.plotting\n",
    "\n",
    "\n",
    "bokeh.io.output_notebook()"
   ]
  },
  {
   "cell_type": "code",
   "execution_count": 21,
   "id": "3f016693-fc1c-44ea-827c-ad7d4fff1d09",
   "metadata": {},
   "outputs": [
    {
     "data": {
      "text/plain": [
       "915"
      ]
     },
     "execution_count": 21,
     "metadata": {},
     "output_type": "execute_result"
    }
   ],
   "source": [
    "setID2members = utils.csv2dict('../data/setID2members.csv')\n",
    "l = []\n",
    "for s,m in setID2members.items():\n",
    "    l.append(len(m))\n",
    "l = np.array(l)\n",
    "l = np.sort(l)\n",
    "l = l[l!=0]\n",
    "len(l)"
   ]
  },
  {
   "cell_type": "code",
   "execution_count": 28,
   "id": "499fcc34-d6a7-4b65-a747-1b9e08f55de9",
   "metadata": {},
   "outputs": [],
   "source": [
    "def get_M_wM():\n",
    "    #get mean set size\n",
    "    setID2members = utils.csv2dict('../data/setID2members.csv')\n",
    "    l = []\n",
    "    for s,m in setID2members.items():\n",
    "        l.append(len(m))\n",
    "    l = np.array(l)\n",
    "    l = np.sort(l)\n",
    "    num_empty_sets = np.sum(l==0)\n",
    "    \n",
    "    l = l[l!=0]\n",
    "    mean = np.mean(l)#l[4:-4]) 1% trimmed mean?\n",
    "    num_sets = len(l)\n",
    "    bg = len(utils.csv2dict('../data/ID2gocam_mouse.csv'))\n",
    "    M = bg-num_empty_sets\n",
    "    \n",
    "    w_M = ((M-num_sets)+num_sets*mean)/M\n",
    "    return M, w_M"
   ]
  },
  {
   "cell_type": "code",
   "execution_count": 29,
   "id": "9ca3d562-83ad-4fe2-acc9-57f3689e29d3",
   "metadata": {},
   "outputs": [
    {
     "data": {
      "text/plain": [
       "(3958, 1.9906518443658414)"
      ]
     },
     "execution_count": 29,
     "metadata": {},
     "output_type": "execute_result"
    }
   ],
   "source": [
    "get_M_wM()"
   ]
  },
  {
   "cell_type": "code",
   "execution_count": 4,
   "id": "ea4fcd4d-dbc3-4136-ae81-6aa7e38a5586",
   "metadata": {},
   "outputs": [
    {
     "data": {
      "text/plain": [
       "7102.854838709678"
      ]
     },
     "execution_count": 4,
     "metadata": {},
     "output_type": "execute_result"
    }
   ],
   "source": [
    "bg = len(utils.csv2dict('../data/ID2gocam_mouse.csv'))\n",
    "(bg-915)+915*np.mean(l[5:-5])"
   ]
  },
  {
   "cell_type": "code",
   "execution_count": 5,
   "id": "f86f76f9-8948-4172-b478-30ccedc36091",
   "metadata": {},
   "outputs": [
    {
     "data": {
      "text/plain": [
       "1.7832927036680086"
      ]
     },
     "execution_count": 5,
     "metadata": {},
     "output_type": "execute_result"
    }
   ],
   "source": [
    "((3983-915)+915*np.mean(l[5:-5]))/(3983)"
   ]
  },
  {
   "cell_type": "code",
   "execution_count": 6,
   "id": "d1a4e81f-9362-41cc-88e6-9dd56053f8b6",
   "metadata": {},
   "outputs": [
    {
     "data": {
      "text/plain": [
       "(3983, 915)"
      ]
     },
     "execution_count": 6,
     "metadata": {},
     "output_type": "execute_result"
    }
   ],
   "source": [
    "g2id = utils.csv2dict('../data/gocam2ID_mouse.csv')\n",
    "entities = set()\n",
    "sets_actually_used = set()\n",
    "for g,ents in g2id.items():\n",
    "    for e in ents:\n",
    "        entities.add(e)\n",
    "        if 'set' in e:\n",
    "            sets_actually_used.add(e)\n",
    "len(entities),len(sets_actually_used)"
   ]
  },
  {
   "cell_type": "markdown",
   "id": "9d8cca59-55a3-4b7c-a9fa-9e810ab1a0e7",
   "metadata": {},
   "source": [
    "# Deprecated Code\n",
    "\n",
    "The following functions have been deprecated because the runtime was bad (although the conversion to binary was super fast and pretty cool). I'm leaving them here, unused, because they can provide validation.\n",
    "\n",
    "Originally, all possible inclusions/exclusions the sets were enumerated into a matrix of size $2^{|sets|}$, and then the number of single-protein entries was appended to the start of each vector, with that number ranging from k to the size of the gocam. It essentially enumerated all successes in the sample space, where each set is treated individually. \n",
    "\n",
    "The newer set of functions groups these sets by their sizes and then enumerates all successes, but it vastly reduces the number of calculations by eliminating redundant calculations where the sum of the number of entities across all sets of a particular size doesn't change because the \"count\" is redistributed within that group."
   ]
  },
  {
   "cell_type": "code",
   "execution_count": 7,
   "id": "governing-reconstruction",
   "metadata": {},
   "outputs": [],
   "source": [
    "def unpackbits_DEPRECATED(x, num_bits):\n",
    "    if np.issubdtype(x.dtype, np.floating):\n",
    "        raise ValueError(\"numpy data type needs to be int-like\")\n",
    "    xshape = list(x.shape)\n",
    "    x = x.reshape([-1, 1])\n",
    "    mask = 2**np.arange(num_bits, dtype=x.dtype).reshape([1, num_bits])\n",
    "    return (x & mask).astype(bool).astype(int).reshape(xshape + [num_bits])"
   ]
  },
  {
   "cell_type": "code",
   "execution_count": 8,
   "id": "million-transmission",
   "metadata": {},
   "outputs": [],
   "source": [
    "#https://stackoverflow.com/questions/18296035/how-to-extract-the-bits-of-larger-numeric-numpy-data-types\n",
    "def make_XT_DEPRECATED(k,N,m1,y):\n",
    "    l = np.power(2,y)\n",
    "    XT = []\n",
    "    for k_ in np.arange(k,y+m1+1): #+1 because it doesn't include the last number\n",
    "        x1_min = max(0, k_ - y) # if no sets are utilized, all k_ balls have to be in the m1 bin\n",
    "        x1_max = min(k_,m1)\n",
    "\n",
    "        a = np.array(range(l), dtype=np.uint16)\n",
    "        Xt = unpackbits(a, num_bits = y)\n",
    "        Xt = Xt[:,0:y]\n",
    "        x1_vec = k_- np.sum(Xt, axis = 1) #how many balls are left over after the bins for sets are utilized\n",
    "\n",
    "       \n",
    "        Xt = np.concatenate((x1_vec.reshape(len(x1_vec),1),Xt), axis = 1)\n",
    "        mask1 = Xt[:,0] <= x1_max\n",
    "        Xt = Xt[mask1]\n",
    "        mask2 = Xt[:,0] >= x1_min\n",
    "        Xt = Xt[mask2]\n",
    "        x_mp1_vec = N- np.sum(Xt, axis = 1) #number of balls to be drawn from the (m+1)th bin (the non-gocam background)\n",
    "        Xt = np.concatenate((Xt,x_mp1_vec.reshape(len(x_mp1_vec),1)), axis = 1)\n",
    "        XT.append(Xt)\n",
    "    XT = np.concatenate(XT, axis = 0)\n",
    "    np.save('../temp/XT.npy',XT)\n",
    "    \n",
    "    return XT"
   ]
  },
  {
   "cell_type": "code",
   "execution_count": 9,
   "id": "automated-contract",
   "metadata": {},
   "outputs": [],
   "source": [
    "def do_ncHGT_DEPRECATED(k,gc):\n",
    "    setID2members = utils.csv2dict('../data/setID2members.csv')\n",
    "    gocam2ID = utils.csv2dict('../data/gocam2ID_mouse.csv')\n",
    "   \n",
    "    M = 5300\n",
    "    N = 766-496\n",
    "\n",
    "\n",
    "    w_gc = [1] #initialize with 1 as the weight of single proteins (irrespective of whether there are any)\n",
    "    m_gc = [0] #initialize with 0 single proteins\n",
    "    num_protein = 0\n",
    "    for i in gocam2ID.get(gc):\n",
    "        if \"sset:\" in i:\n",
    "            w_i = len(setID2members.get(i))\n",
    "            w_gc.append(w_i)\n",
    "            m_gc.append(1)\n",
    "        else:\n",
    "            num_protein+=1\n",
    "    m_gc[0] = num_protein\n",
    "    m_gc.append(M-np.sum(m_gc)) #entities not in the gocam (roughly)\n",
    "    w_gc.append(1) #weight for entities not in the gocam (all weighted as 1)\n",
    "\n",
    "    y = len(m_gc)-2 #first and last positions are not sets. they are single proteins and the rest of the Dict, respectively\n",
    "\n",
    "    XT = make_XT(k,N,m_gc[0],y)\n",
    "\n",
    "    m = rpy2.robjects.IntVector(m_gc)\n",
    "    w = rpy2.robjects.IntVector(w_gc)\n",
    "    pval = ncHGT_sf(XT,m,N,w)\n",
    "    return XT,m_gc,w_gc"
   ]
  },
  {
   "cell_type": "markdown",
   "id": "71903947-2aeb-42d5-971a-b6c816a45543",
   "metadata": {},
   "source": [
    "# Setup"
   ]
  },
  {
   "cell_type": "code",
   "execution_count": 10,
   "id": "atomic-subscription",
   "metadata": {},
   "outputs": [],
   "source": [
    "gene_list = pd.read_csv('../../Desktop/GOCAM/P97.csv',header=None,names = ['g'])\n",
    "P97_test_set = gene_list.g\n",
    "uniprot2input = pd.Series(P97_test_set.values,index=P97_test_set).to_dict()\n",
    "x = pd.read_csv('../data/gocam_sizes_mouse.csv')\n",
    "gocam_sizes = pd.Series(x.sizes.values,index=x.gocam)\n",
    "Dict = utils.csv2dict('../data/ID2gocam_mouse.csv')\n",
    "filtered_out_genes, filtered_list, setID2members_input_uni, setID2members_input, df_display= enrich.enrich(list(gene_list.g), P97_test_set, uniprot2input, gocam_sizes, Dict,alpha = .05, show_significant = False)\n",
    "#df_display['pval ncHGT'] = p_f\n",
    "df_display = df_display[df_display.title.apply(lambda x: 'APC/C:Cdh1 mediated' in x)]\n"
   ]
  },
  {
   "cell_type": "code",
   "execution_count": 11,
   "id": "comparative-things",
   "metadata": {},
   "outputs": [
    {
     "data": {
      "text/html": [
       "<div>\n",
       "<style scoped>\n",
       "    .dataframe tbody tr th:only-of-type {\n",
       "        vertical-align: middle;\n",
       "    }\n",
       "\n",
       "    .dataframe tbody tr th {\n",
       "        vertical-align: top;\n",
       "    }\n",
       "\n",
       "    .dataframe thead th {\n",
       "        text-align: right;\n",
       "    }\n",
       "</style>\n",
       "<table border=\"1\" class=\"dataframe\">\n",
       "  <thead>\n",
       "    <tr style=\"text-align: right;\">\n",
       "      <th></th>\n",
       "      <th>title</th>\n",
       "      <th>pval (uncorrected)</th>\n",
       "      <th># genes in list</th>\n",
       "      <th>#genes in gocam</th>\n",
       "      <th>shared gene products in gocam</th>\n",
       "      <th>url</th>\n",
       "    </tr>\n",
       "  </thead>\n",
       "  <tbody>\n",
       "    <tr>\n",
       "      <th>0</th>\n",
       "      <td>Role of LAT2/NTAL/LAB on calcium mobilization - Reactome</td>\n",
       "      <td>1.590968e-07</td>\n",
       "      <td>6</td>\n",
       "      <td>7</td>\n",
       "      <td>[P42336, P43405, sset:SYK/FYN, sset:SYK/p-LYN, sset:PI3K-catalytic subunit, sset:PI3K-regulatory...</td>\n",
       "      <td>http://model.geneontology.org/R-HSA-2730905</td>\n",
       "    </tr>\n",
       "    <tr>\n",
       "      <th>1</th>\n",
       "      <td>CD28 dependent PI3K/Akt signaling - Reactome</td>\n",
       "      <td>5.812643e-07</td>\n",
       "      <td>8</td>\n",
       "      <td>16</td>\n",
       "      <td>[P42336, P27986, sset:Activator:PI3K, sset:PI3K alpha, beta, gamma, sset:Active AKT, sset:PI3K-c...</td>\n",
       "      <td>http://model.geneontology.org/R-HSA-389357</td>\n",
       "    </tr>\n",
       "    <tr>\n",
       "      <th>2</th>\n",
       "      <td>DAP12 signaling - Reactome</td>\n",
       "      <td>6.076063e-07</td>\n",
       "      <td>6</td>\n",
       "      <td>8</td>\n",
       "      <td>[P43405, sset:SYK/LCK/ZAP-70, sset:PI3K-catalytic subunit, sset:p-SYK,p-BTK, sset:PI3K-regulator...</td>\n",
       "      <td>http://model.geneontology.org/R-HSA-2424491</td>\n",
       "    </tr>\n",
       "    <tr>\n",
       "      <th>3</th>\n",
       "      <td>Stabilization of p53 - Reactome</td>\n",
       "      <td>6.076063e-07</td>\n",
       "      <td>6</td>\n",
       "      <td>8</td>\n",
       "      <td>[Q13315, O96017, Q00987, O15151, P04637, sset:p-S166,S188-MDM2 dimer, p-S166,S188-MDM2:MDM4]</td>\n",
       "      <td>http://model.geneontology.org/R-HSA-69541</td>\n",
       "    </tr>\n",
       "    <tr>\n",
       "      <th>4</th>\n",
       "      <td>Downstream signal transduction - Reactome</td>\n",
       "      <td>1.740445e-06</td>\n",
       "      <td>6</td>\n",
       "      <td>9</td>\n",
       "      <td>[P01127, P16234, P09619, P42336, sset:Active PDGF dimers (AA, AB, BB), sset:Phospho- PDGF recept...</td>\n",
       "      <td>http://model.geneontology.org/R-HSA-186763</td>\n",
       "    </tr>\n",
       "  </tbody>\n",
       "</table>\n",
       "</div>"
      ],
      "text/plain": [
       "                                                      title  \\\n",
       "0  Role of LAT2/NTAL/LAB on calcium mobilization - Reactome   \n",
       "1              CD28 dependent PI3K/Akt signaling - Reactome   \n",
       "2                                DAP12 signaling - Reactome   \n",
       "3                           Stabilization of p53 - Reactome   \n",
       "4                 Downstream signal transduction - Reactome   \n",
       "\n",
       "   pval (uncorrected)  # genes in list  #genes in gocam  \\\n",
       "0        1.590968e-07                6                7   \n",
       "1        5.812643e-07                8               16   \n",
       "2        6.076063e-07                6                8   \n",
       "3        6.076063e-07                6                8   \n",
       "4        1.740445e-06                6                9   \n",
       "\n",
       "                                                                         shared gene products in gocam  \\\n",
       "0  [P42336, P43405, sset:SYK/FYN, sset:SYK/p-LYN, sset:PI3K-catalytic subunit, sset:PI3K-regulatory...   \n",
       "1  [P42336, P27986, sset:Activator:PI3K, sset:PI3K alpha, beta, gamma, sset:Active AKT, sset:PI3K-c...   \n",
       "2  [P43405, sset:SYK/LCK/ZAP-70, sset:PI3K-catalytic subunit, sset:p-SYK,p-BTK, sset:PI3K-regulator...   \n",
       "3         [Q13315, O96017, Q00987, O15151, P04637, sset:p-S166,S188-MDM2 dimer, p-S166,S188-MDM2:MDM4]   \n",
       "4  [P01127, P16234, P09619, P42336, sset:Active PDGF dimers (AA, AB, BB), sset:Phospho- PDGF recept...   \n",
       "\n",
       "                                           url  \n",
       "0  http://model.geneontology.org/R-HSA-2730905  \n",
       "1   http://model.geneontology.org/R-HSA-389357  \n",
       "2  http://model.geneontology.org/R-HSA-2424491  \n",
       "3    http://model.geneontology.org/R-HSA-69541  \n",
       "4   http://model.geneontology.org/R-HSA-186763  "
      ]
     },
     "execution_count": 11,
     "metadata": {},
     "output_type": "execute_result"
    }
   ],
   "source": [
    "gene_list = pd.read_csv('../../Desktop/GOCAM/cancer.csv',header=None,names = ['g'])\n",
    "cancer_test_set, uniprot2input, not_converted = utils.convert_IDs(gene_list,'Gene Symbol')\n",
    "x = pd.read_csv('../data/gocam_sizes_mouse.csv')\n",
    "gocam_sizes = pd.Series(x.sizes.values,index=x.gocam)\n",
    "Dict = utils.csv2dict('../data/ID2gocam_mouse.csv')\n",
    "filtered_out_genes, filtered_list, setID2members_input_uni, setID2members_input, df_display= enrich.enrich(list(gene_list.g), cancer_test_set, uniprot2input, gocam_sizes, Dict, alpha = .05)\n",
    "df_display.head()"
   ]
  },
  {
   "cell_type": "code",
   "execution_count": 12,
   "id": "armed-information",
   "metadata": {},
   "outputs": [],
   "source": [
    "p_f = [3.8E-7,1.3E-5,3.6E-7,1.3E-7,4.4E-5,.00022,1.26E-5,3.1E-5,2.85E-5,.0014,.0013,.00035,'NA',2.04E-5,4.13E-6,.0004,.0011,5.94E-5,'NA','NA',9.7E-5]"
   ]
  },
  {
   "cell_type": "markdown",
   "id": "17231f78-9357-4901-9372-9b9d91271395",
   "metadata": {},
   "source": [
    "# New Code\n",
    "(still needs to be verified. See the note under deprecation for an explanation of this method)"
   ]
  },
  {
   "cell_type": "code",
   "execution_count": 13,
   "id": "de86ddca-67e7-4e84-8efd-29231336a9e6",
   "metadata": {},
   "outputs": [],
   "source": [
    "#survival function, sums PMF for all possibilities where K >= k by calling BiasedUrn\n",
    "def ncHGT_sf(XT,m,N,w):\n",
    "    #l = len(XT)/len(m)\n",
    "    pval = 0\n",
    "    for i in range(len(XT)):\n",
    "        x = rpy2.robjects.IntVector(XT[i])\n",
    "        pval = pval + BiasedUrn.dMFNCHypergeo(x,m,N,w)[0]\n",
    "    return pval"
   ]
  },
  {
   "cell_type": "code",
   "execution_count": 14,
   "id": "61240a2d-e28d-47a6-b206-d212c405bad5",
   "metadata": {},
   "outputs": [],
   "source": [
    "#enumerate all possible counts vectors\n",
    "    #excluding the non-gocam bin (the last element of the vector), which will be added later\n",
    "def enumerate_possibilities(m_new,i,prev_array):\n",
    "    first = True\n",
    "    for j in range(m_new[i]+1):\n",
    "        xt = prev_array.copy()\n",
    "        xt[0][i] = j\n",
    "        \n",
    "        #recursion\n",
    "        if (i < len(m_new)-1):\n",
    "            xt = enumerate_possibilities(m_new, i+1, xt) #will return array of arrays\n",
    "            \n",
    "        #combining results\n",
    "        if not first:\n",
    "            XT = np.concatenate([XT,xt], axis = 0)\n",
    "        else:\n",
    "            XT = xt\n",
    "            first = False\n",
    "    return XT"
   ]
  },
  {
   "cell_type": "code",
   "execution_count": 15,
   "id": "2bcb41bc-2e35-4de4-b877-9a68230ddba9",
   "metadata": {},
   "outputs": [],
   "source": [
    "#compress the m and w vectors by grouping elements according to their weights\n",
    "#w is the ordered set of unique weights for entities of the gocam\n",
    "#m[i] is the number of entities in the pathway with the weight specified in w[i]\n",
    "def make_new_vectors(w_gc,m_gc):\n",
    "    w_temp = np.sort(w_gc[:-1])\n",
    "    prev = 1 #first entry?\n",
    "    m_temp=[m_gc[0]]\n",
    "    for x in w_temp:\n",
    "        if x == prev:\n",
    "            m_temp[-1] += 1\n",
    "        else:\n",
    "            prev = x\n",
    "            m_temp.append(1)\n",
    "    w_new = np.append(np.unique(w_gc),np.array([1]))#np.sort returns unique values in sorted order (\"compresses\" w_temp) and we append 1 for the weight of non-gocam entities\n",
    "    return w_new, m_temp"
   ]
  },
  {
   "cell_type": "code",
   "execution_count": 16,
   "id": "46f16906-3359-4499-9a92-9d480120ec76",
   "metadata": {},
   "outputs": [],
   "source": [
    "#initializes counts vector (m) and weights vector (w), where each entity gets its own element in the arrays\n",
    "#values in m only take on 0 (if there is no solo proteins) or 1\n",
    "#values in w correspond to the weight of each element in m (weighted by the # genes in a set or 1 for solo proteins)\n",
    "def make_initial_vectors(gocam2ID,setID2members, gc, M):\n",
    "    w_gc = [1] #initialize with 1 as the weight of single proteins (irrespective of whether there are any)\n",
    "    m_gc = [0] #initialize with 0 single proteins\n",
    "    num_protein = 0\n",
    "    for i in gocam2ID.get(gc):\n",
    "        if \"sset:\" in i:\n",
    "            w_i = len(setID2members.get(i))\n",
    "            w_gc.append(w_i)\n",
    "            m_gc.append(1)\n",
    "        else:\n",
    "            num_protein+=1\n",
    "    m_gc[0] = num_protein\n",
    "    m_gc.append(M-np.sum(m_gc)) #entities not in the gocam (roughly)\n",
    "    w_gc.append(1) #weight for entities not in the gocam (all weighted as 1)\n",
    "    return w_gc, m_gc"
   ]
  },
  {
   "cell_type": "code",
   "execution_count": 17,
   "id": "a7b3f30a-162b-446c-b4dd-70509ff3c6c7",
   "metadata": {},
   "outputs": [],
   "source": [
    "def do_ncHGT_new(k,gc):\n",
    "    setID2members = utils.csv2dict('../data/setID2members.csv')\n",
    "    gocam2ID = utils.csv2dict('../data/gocam2ID_mouse.csv')\n",
    "    \n",
    "    M = 5300\n",
    "    N = 766-496\n",
    "    \n",
    "    #make weight (w) and bin size (m) vectors where each entity in the gocam gets its own entry\n",
    "    w_in, m_in = make_initial_vectors(gocam2ID, setID2members, gc, M)\n",
    "    \n",
    "    #update m and w vectors by grouping sets of the same size\n",
    "    w_new , m_new= make_new_vectors(w_in,m_in)\n",
    "\n",
    "    #make XT matrix, an enumeration of all possible arangements of balls in bins based on m_new and w_new\n",
    "    XT = enumerate_possibilities(m_new,0,np.zeros(shape=(1,len(m_new))))\n",
    "    m_new.append(M-np.sum(m_new)) #add the last bin, corresponding to entities not in the gocam (roughly)\n",
    "    \n",
    "    #filter XT to only include the region of the sample space >= k (which is what we want to sum probabilities over)\n",
    "    mask1 = (np.sum(XT, axis=1) >= k)\n",
    "    XT = XT[mask1]\n",
    "\n",
    "    #filter XT to ensure that more than N entities are not picked\n",
    "    mask2 = (np.sum(XT, axis=1) <= N)\n",
    "    XT = XT[mask2]\n",
    "\n",
    "    #add the remaining entities to the m+1th bin (non gocam bin)\n",
    "    x_mp1_vec = N- np.sum(XT, axis = 1) #number of balls to be drawn from the last bin (the non-gocam background)\n",
    "    XT = np.concatenate((XT,x_mp1_vec.reshape(len(x_mp1_vec),1)), axis = 1)\n",
    "\n",
    "    m = rpy2.robjects.IntVector(m_new)\n",
    "    w = rpy2.robjects.IntVector(w_new)\n",
    "    pval = ncHGT_sf(XT,m,N,w)\n",
    "    return pval\n"
   ]
  },
  {
   "cell_type": "code",
   "execution_count": 18,
   "id": "5a517fdf-ceff-4815-88a5-baba4c208989",
   "metadata": {},
   "outputs": [
    {
     "name": "stderr",
     "output_type": "stream",
     "text": [
      "/Users/nicholasmarkarian/opt/miniconda3/envs/gocam/lib/python3.7/site-packages/rpy2/rinterface/__init__.py:146: RRuntimeWarning: Error in (function (x, m, n, odds, precision = 1e-07)  : Interrupted\n",
      "\n",
      "  warnings.warn(x, RRuntimeWarning)\n"
     ]
    },
    {
     "ename": "KeyboardInterrupt",
     "evalue": "",
     "output_type": "error",
     "traceback": [
      "\u001b[0;31m---------------------------------------------------------------------------\u001b[0m",
      "\u001b[0;31mKeyboardInterrupt\u001b[0m                         Traceback (most recent call last)",
      "\u001b[0;32m/var/folders/tr/f_w4sfqs76ldzmc5bg87kx3h0000gn/T/ipykernel_33335/3622568257.py\u001b[0m in \u001b[0;36m<module>\u001b[0;34m\u001b[0m\n\u001b[0;32m----> 1\u001b[0;31m \u001b[0mdf_display\u001b[0m\u001b[0;34m[\u001b[0m\u001b[0;34m'ncHGT'\u001b[0m\u001b[0;34m]\u001b[0m \u001b[0;34m=\u001b[0m \u001b[0mdf_display\u001b[0m\u001b[0;34m.\u001b[0m\u001b[0mapply\u001b[0m\u001b[0;34m(\u001b[0m\u001b[0;32mlambda\u001b[0m \u001b[0mx\u001b[0m\u001b[0;34m:\u001b[0m \u001b[0mdo_ncHGT_new\u001b[0m\u001b[0;34m(\u001b[0m \u001b[0mx\u001b[0m\u001b[0;34m[\u001b[0m\u001b[0;34m'# genes in list'\u001b[0m\u001b[0;34m]\u001b[0m\u001b[0;34m,\u001b[0m \u001b[0mx\u001b[0m\u001b[0;34m[\u001b[0m\u001b[0;34m'url'\u001b[0m\u001b[0;34m]\u001b[0m\u001b[0;34m)\u001b[0m\u001b[0;34m,\u001b[0m \u001b[0maxis\u001b[0m\u001b[0;34m=\u001b[0m\u001b[0;36m1\u001b[0m\u001b[0;34m)\u001b[0m\u001b[0;34m\u001b[0m\u001b[0;34m\u001b[0m\u001b[0m\n\u001b[0m",
      "\u001b[0;32m~/opt/miniconda3/envs/gocam/lib/python3.7/site-packages/pandas/core/frame.py\u001b[0m in \u001b[0;36mapply\u001b[0;34m(self, func, axis, raw, result_type, args, **kwargs)\u001b[0m\n\u001b[1;32m   8738\u001b[0m             \u001b[0mkwargs\u001b[0m\u001b[0;34m=\u001b[0m\u001b[0mkwargs\u001b[0m\u001b[0;34m,\u001b[0m\u001b[0;34m\u001b[0m\u001b[0;34m\u001b[0m\u001b[0m\n\u001b[1;32m   8739\u001b[0m         )\n\u001b[0;32m-> 8740\u001b[0;31m         \u001b[0;32mreturn\u001b[0m \u001b[0mop\u001b[0m\u001b[0;34m.\u001b[0m\u001b[0mapply\u001b[0m\u001b[0;34m(\u001b[0m\u001b[0;34m)\u001b[0m\u001b[0;34m\u001b[0m\u001b[0;34m\u001b[0m\u001b[0m\n\u001b[0m\u001b[1;32m   8741\u001b[0m \u001b[0;34m\u001b[0m\u001b[0m\n\u001b[1;32m   8742\u001b[0m     def applymap(\n",
      "\u001b[0;32m~/opt/miniconda3/envs/gocam/lib/python3.7/site-packages/pandas/core/apply.py\u001b[0m in \u001b[0;36mapply\u001b[0;34m(self)\u001b[0m\n\u001b[1;32m    686\u001b[0m             \u001b[0;32mreturn\u001b[0m \u001b[0mself\u001b[0m\u001b[0;34m.\u001b[0m\u001b[0mapply_raw\u001b[0m\u001b[0;34m(\u001b[0m\u001b[0;34m)\u001b[0m\u001b[0;34m\u001b[0m\u001b[0;34m\u001b[0m\u001b[0m\n\u001b[1;32m    687\u001b[0m \u001b[0;34m\u001b[0m\u001b[0m\n\u001b[0;32m--> 688\u001b[0;31m         \u001b[0;32mreturn\u001b[0m \u001b[0mself\u001b[0m\u001b[0;34m.\u001b[0m\u001b[0mapply_standard\u001b[0m\u001b[0;34m(\u001b[0m\u001b[0;34m)\u001b[0m\u001b[0;34m\u001b[0m\u001b[0;34m\u001b[0m\u001b[0m\n\u001b[0m\u001b[1;32m    689\u001b[0m \u001b[0;34m\u001b[0m\u001b[0m\n\u001b[1;32m    690\u001b[0m     \u001b[0;32mdef\u001b[0m \u001b[0magg\u001b[0m\u001b[0;34m(\u001b[0m\u001b[0mself\u001b[0m\u001b[0;34m)\u001b[0m\u001b[0;34m:\u001b[0m\u001b[0;34m\u001b[0m\u001b[0;34m\u001b[0m\u001b[0m\n",
      "\u001b[0;32m~/opt/miniconda3/envs/gocam/lib/python3.7/site-packages/pandas/core/apply.py\u001b[0m in \u001b[0;36mapply_standard\u001b[0;34m(self)\u001b[0m\n\u001b[1;32m    810\u001b[0m \u001b[0;34m\u001b[0m\u001b[0m\n\u001b[1;32m    811\u001b[0m     \u001b[0;32mdef\u001b[0m \u001b[0mapply_standard\u001b[0m\u001b[0;34m(\u001b[0m\u001b[0mself\u001b[0m\u001b[0;34m)\u001b[0m\u001b[0;34m:\u001b[0m\u001b[0;34m\u001b[0m\u001b[0;34m\u001b[0m\u001b[0m\n\u001b[0;32m--> 812\u001b[0;31m         \u001b[0mresults\u001b[0m\u001b[0;34m,\u001b[0m \u001b[0mres_index\u001b[0m \u001b[0;34m=\u001b[0m \u001b[0mself\u001b[0m\u001b[0;34m.\u001b[0m\u001b[0mapply_series_generator\u001b[0m\u001b[0;34m(\u001b[0m\u001b[0;34m)\u001b[0m\u001b[0;34m\u001b[0m\u001b[0;34m\u001b[0m\u001b[0m\n\u001b[0m\u001b[1;32m    813\u001b[0m \u001b[0;34m\u001b[0m\u001b[0m\n\u001b[1;32m    814\u001b[0m         \u001b[0;31m# wrap results\u001b[0m\u001b[0;34m\u001b[0m\u001b[0;34m\u001b[0m\u001b[0;34m\u001b[0m\u001b[0m\n",
      "\u001b[0;32m~/opt/miniconda3/envs/gocam/lib/python3.7/site-packages/pandas/core/apply.py\u001b[0m in \u001b[0;36mapply_series_generator\u001b[0;34m(self)\u001b[0m\n\u001b[1;32m    826\u001b[0m             \u001b[0;32mfor\u001b[0m \u001b[0mi\u001b[0m\u001b[0;34m,\u001b[0m \u001b[0mv\u001b[0m \u001b[0;32min\u001b[0m \u001b[0menumerate\u001b[0m\u001b[0;34m(\u001b[0m\u001b[0mseries_gen\u001b[0m\u001b[0;34m)\u001b[0m\u001b[0;34m:\u001b[0m\u001b[0;34m\u001b[0m\u001b[0;34m\u001b[0m\u001b[0m\n\u001b[1;32m    827\u001b[0m                 \u001b[0;31m# ignore SettingWithCopy here in case the user mutates\u001b[0m\u001b[0;34m\u001b[0m\u001b[0;34m\u001b[0m\u001b[0;34m\u001b[0m\u001b[0m\n\u001b[0;32m--> 828\u001b[0;31m                 \u001b[0mresults\u001b[0m\u001b[0;34m[\u001b[0m\u001b[0mi\u001b[0m\u001b[0;34m]\u001b[0m \u001b[0;34m=\u001b[0m \u001b[0mself\u001b[0m\u001b[0;34m.\u001b[0m\u001b[0mf\u001b[0m\u001b[0;34m(\u001b[0m\u001b[0mv\u001b[0m\u001b[0;34m)\u001b[0m\u001b[0;34m\u001b[0m\u001b[0;34m\u001b[0m\u001b[0m\n\u001b[0m\u001b[1;32m    829\u001b[0m                 \u001b[0;32mif\u001b[0m \u001b[0misinstance\u001b[0m\u001b[0;34m(\u001b[0m\u001b[0mresults\u001b[0m\u001b[0;34m[\u001b[0m\u001b[0mi\u001b[0m\u001b[0;34m]\u001b[0m\u001b[0;34m,\u001b[0m \u001b[0mABCSeries\u001b[0m\u001b[0;34m)\u001b[0m\u001b[0;34m:\u001b[0m\u001b[0;34m\u001b[0m\u001b[0;34m\u001b[0m\u001b[0m\n\u001b[1;32m    830\u001b[0m                     \u001b[0;31m# If we have a view on v, we need to make a copy because\u001b[0m\u001b[0;34m\u001b[0m\u001b[0;34m\u001b[0m\u001b[0;34m\u001b[0m\u001b[0m\n",
      "\u001b[0;32m/var/folders/tr/f_w4sfqs76ldzmc5bg87kx3h0000gn/T/ipykernel_33335/3622568257.py\u001b[0m in \u001b[0;36m<lambda>\u001b[0;34m(x)\u001b[0m\n\u001b[0;32m----> 1\u001b[0;31m \u001b[0mdf_display\u001b[0m\u001b[0;34m[\u001b[0m\u001b[0;34m'ncHGT'\u001b[0m\u001b[0;34m]\u001b[0m \u001b[0;34m=\u001b[0m \u001b[0mdf_display\u001b[0m\u001b[0;34m.\u001b[0m\u001b[0mapply\u001b[0m\u001b[0;34m(\u001b[0m\u001b[0;32mlambda\u001b[0m \u001b[0mx\u001b[0m\u001b[0;34m:\u001b[0m \u001b[0mdo_ncHGT_new\u001b[0m\u001b[0;34m(\u001b[0m \u001b[0mx\u001b[0m\u001b[0;34m[\u001b[0m\u001b[0;34m'# genes in list'\u001b[0m\u001b[0;34m]\u001b[0m\u001b[0;34m,\u001b[0m \u001b[0mx\u001b[0m\u001b[0;34m[\u001b[0m\u001b[0;34m'url'\u001b[0m\u001b[0;34m]\u001b[0m\u001b[0;34m)\u001b[0m\u001b[0;34m,\u001b[0m \u001b[0maxis\u001b[0m\u001b[0;34m=\u001b[0m\u001b[0;36m1\u001b[0m\u001b[0;34m)\u001b[0m\u001b[0;34m\u001b[0m\u001b[0;34m\u001b[0m\u001b[0m\n\u001b[0m",
      "\u001b[0;32m/var/folders/tr/f_w4sfqs76ldzmc5bg87kx3h0000gn/T/ipykernel_33335/1688636557.py\u001b[0m in \u001b[0;36mdo_ncHGT_new\u001b[0;34m(k, gc)\u001b[0m\n\u001b[1;32m     30\u001b[0m     \u001b[0mm\u001b[0m \u001b[0;34m=\u001b[0m \u001b[0mrpy2\u001b[0m\u001b[0;34m.\u001b[0m\u001b[0mrobjects\u001b[0m\u001b[0;34m.\u001b[0m\u001b[0mIntVector\u001b[0m\u001b[0;34m(\u001b[0m\u001b[0mm_new\u001b[0m\u001b[0;34m)\u001b[0m\u001b[0;34m\u001b[0m\u001b[0;34m\u001b[0m\u001b[0m\n\u001b[1;32m     31\u001b[0m     \u001b[0mw\u001b[0m \u001b[0;34m=\u001b[0m \u001b[0mrpy2\u001b[0m\u001b[0;34m.\u001b[0m\u001b[0mrobjects\u001b[0m\u001b[0;34m.\u001b[0m\u001b[0mIntVector\u001b[0m\u001b[0;34m(\u001b[0m\u001b[0mw_new\u001b[0m\u001b[0;34m)\u001b[0m\u001b[0;34m\u001b[0m\u001b[0;34m\u001b[0m\u001b[0m\n\u001b[0;32m---> 32\u001b[0;31m     \u001b[0mpval\u001b[0m \u001b[0;34m=\u001b[0m \u001b[0mncHGT_sf\u001b[0m\u001b[0;34m(\u001b[0m\u001b[0mXT\u001b[0m\u001b[0;34m,\u001b[0m\u001b[0mm\u001b[0m\u001b[0;34m,\u001b[0m\u001b[0mN\u001b[0m\u001b[0;34m,\u001b[0m\u001b[0mw\u001b[0m\u001b[0;34m)\u001b[0m\u001b[0;34m\u001b[0m\u001b[0;34m\u001b[0m\u001b[0m\n\u001b[0m\u001b[1;32m     33\u001b[0m     \u001b[0;32mreturn\u001b[0m \u001b[0mpval\u001b[0m\u001b[0;34m\u001b[0m\u001b[0;34m\u001b[0m\u001b[0m\n",
      "\u001b[0;32m/var/folders/tr/f_w4sfqs76ldzmc5bg87kx3h0000gn/T/ipykernel_33335/699296576.py\u001b[0m in \u001b[0;36mncHGT_sf\u001b[0;34m(XT, m, N, w)\u001b[0m\n\u001b[1;32m      5\u001b[0m     \u001b[0;32mfor\u001b[0m \u001b[0mi\u001b[0m \u001b[0;32min\u001b[0m \u001b[0mrange\u001b[0m\u001b[0;34m(\u001b[0m\u001b[0mlen\u001b[0m\u001b[0;34m(\u001b[0m\u001b[0mXT\u001b[0m\u001b[0;34m)\u001b[0m\u001b[0;34m)\u001b[0m\u001b[0;34m:\u001b[0m\u001b[0;34m\u001b[0m\u001b[0;34m\u001b[0m\u001b[0m\n\u001b[1;32m      6\u001b[0m         \u001b[0mx\u001b[0m \u001b[0;34m=\u001b[0m \u001b[0mrpy2\u001b[0m\u001b[0;34m.\u001b[0m\u001b[0mrobjects\u001b[0m\u001b[0;34m.\u001b[0m\u001b[0mIntVector\u001b[0m\u001b[0;34m(\u001b[0m\u001b[0mXT\u001b[0m\u001b[0;34m[\u001b[0m\u001b[0mi\u001b[0m\u001b[0;34m]\u001b[0m\u001b[0;34m)\u001b[0m\u001b[0;34m\u001b[0m\u001b[0;34m\u001b[0m\u001b[0m\n\u001b[0;32m----> 7\u001b[0;31m         \u001b[0mpval\u001b[0m \u001b[0;34m=\u001b[0m \u001b[0mpval\u001b[0m \u001b[0;34m+\u001b[0m \u001b[0mBiasedUrn\u001b[0m\u001b[0;34m.\u001b[0m\u001b[0mdMFNCHypergeo\u001b[0m\u001b[0;34m(\u001b[0m\u001b[0mx\u001b[0m\u001b[0;34m,\u001b[0m\u001b[0mm\u001b[0m\u001b[0;34m,\u001b[0m\u001b[0mN\u001b[0m\u001b[0;34m,\u001b[0m\u001b[0mw\u001b[0m\u001b[0;34m)\u001b[0m\u001b[0;34m[\u001b[0m\u001b[0;36m0\u001b[0m\u001b[0;34m]\u001b[0m\u001b[0;34m\u001b[0m\u001b[0;34m\u001b[0m\u001b[0m\n\u001b[0m\u001b[1;32m      8\u001b[0m     \u001b[0;32mreturn\u001b[0m \u001b[0mpval\u001b[0m\u001b[0;34m\u001b[0m\u001b[0;34m\u001b[0m\u001b[0m\n",
      "\u001b[0;32m~/opt/miniconda3/envs/gocam/lib/python3.7/site-packages/rpy2/robjects/functions.py\u001b[0m in \u001b[0;36m__call__\u001b[0;34m(self, *args, **kwargs)\u001b[0m\n\u001b[1;32m    176\u001b[0m                 \u001b[0mv\u001b[0m \u001b[0;34m=\u001b[0m \u001b[0mkwargs\u001b[0m\u001b[0;34m.\u001b[0m\u001b[0mpop\u001b[0m\u001b[0;34m(\u001b[0m\u001b[0mk\u001b[0m\u001b[0;34m)\u001b[0m\u001b[0;34m\u001b[0m\u001b[0;34m\u001b[0m\u001b[0m\n\u001b[1;32m    177\u001b[0m                 \u001b[0mkwargs\u001b[0m\u001b[0;34m[\u001b[0m\u001b[0mr_k\u001b[0m\u001b[0;34m]\u001b[0m \u001b[0;34m=\u001b[0m \u001b[0mv\u001b[0m\u001b[0;34m\u001b[0m\u001b[0;34m\u001b[0m\u001b[0m\n\u001b[0;32m--> 178\u001b[0;31m         \u001b[0;32mreturn\u001b[0m \u001b[0msuper\u001b[0m\u001b[0;34m(\u001b[0m\u001b[0mSignatureTranslatedFunction\u001b[0m\u001b[0;34m,\u001b[0m \u001b[0mself\u001b[0m\u001b[0;34m)\u001b[0m\u001b[0;34m.\u001b[0m\u001b[0m__call__\u001b[0m\u001b[0;34m(\u001b[0m\u001b[0;34m*\u001b[0m\u001b[0margs\u001b[0m\u001b[0;34m,\u001b[0m \u001b[0;34m**\u001b[0m\u001b[0mkwargs\u001b[0m\u001b[0;34m)\u001b[0m\u001b[0;34m\u001b[0m\u001b[0;34m\u001b[0m\u001b[0m\n\u001b[0m\u001b[1;32m    179\u001b[0m \u001b[0;34m\u001b[0m\u001b[0m\n\u001b[1;32m    180\u001b[0m \u001b[0mpattern_link\u001b[0m \u001b[0;34m=\u001b[0m \u001b[0mre\u001b[0m\u001b[0;34m.\u001b[0m\u001b[0mcompile\u001b[0m\u001b[0;34m(\u001b[0m\u001b[0;34mr'\\\\link\\{(.+?)\\}'\u001b[0m\u001b[0;34m)\u001b[0m\u001b[0;34m\u001b[0m\u001b[0;34m\u001b[0m\u001b[0m\n",
      "\u001b[0;32m~/opt/miniconda3/envs/gocam/lib/python3.7/site-packages/rpy2/robjects/functions.py\u001b[0m in \u001b[0;36m__call__\u001b[0;34m(self, *args, **kwargs)\u001b[0m\n\u001b[1;32m    104\u001b[0m         \u001b[0;32mfor\u001b[0m \u001b[0mk\u001b[0m\u001b[0;34m,\u001b[0m \u001b[0mv\u001b[0m \u001b[0;32min\u001b[0m \u001b[0mkwargs\u001b[0m\u001b[0;34m.\u001b[0m\u001b[0mitems\u001b[0m\u001b[0;34m(\u001b[0m\u001b[0;34m)\u001b[0m\u001b[0;34m:\u001b[0m\u001b[0;34m\u001b[0m\u001b[0;34m\u001b[0m\u001b[0m\n\u001b[1;32m    105\u001b[0m             \u001b[0mnew_kwargs\u001b[0m\u001b[0;34m[\u001b[0m\u001b[0mk\u001b[0m\u001b[0;34m]\u001b[0m \u001b[0;34m=\u001b[0m \u001b[0mconversion\u001b[0m\u001b[0;34m.\u001b[0m\u001b[0mpy2ri\u001b[0m\u001b[0;34m(\u001b[0m\u001b[0mv\u001b[0m\u001b[0;34m)\u001b[0m\u001b[0;34m\u001b[0m\u001b[0;34m\u001b[0m\u001b[0m\n\u001b[0;32m--> 106\u001b[0;31m         \u001b[0mres\u001b[0m \u001b[0;34m=\u001b[0m \u001b[0msuper\u001b[0m\u001b[0;34m(\u001b[0m\u001b[0mFunction\u001b[0m\u001b[0;34m,\u001b[0m \u001b[0mself\u001b[0m\u001b[0;34m)\u001b[0m\u001b[0;34m.\u001b[0m\u001b[0m__call__\u001b[0m\u001b[0;34m(\u001b[0m\u001b[0;34m*\u001b[0m\u001b[0mnew_args\u001b[0m\u001b[0;34m,\u001b[0m \u001b[0;34m**\u001b[0m\u001b[0mnew_kwargs\u001b[0m\u001b[0;34m)\u001b[0m\u001b[0;34m\u001b[0m\u001b[0;34m\u001b[0m\u001b[0m\n\u001b[0m\u001b[1;32m    107\u001b[0m         \u001b[0mres\u001b[0m \u001b[0;34m=\u001b[0m \u001b[0mconversion\u001b[0m\u001b[0;34m.\u001b[0m\u001b[0mri2ro\u001b[0m\u001b[0;34m(\u001b[0m\u001b[0mres\u001b[0m\u001b[0;34m)\u001b[0m\u001b[0;34m\u001b[0m\u001b[0;34m\u001b[0m\u001b[0m\n\u001b[1;32m    108\u001b[0m         \u001b[0;32mreturn\u001b[0m \u001b[0mres\u001b[0m\u001b[0;34m\u001b[0m\u001b[0;34m\u001b[0m\u001b[0m\n",
      "\u001b[0;31mKeyboardInterrupt\u001b[0m: "
     ]
    }
   ],
   "source": [
    "df_display['ncHGT'] = df_display.apply(lambda x: do_ncHGT_new( x['# genes in list'], x['url']), axis=1)\n"
   ]
  },
  {
   "cell_type": "code",
   "execution_count": null,
   "id": "07e8c02a-3b1c-4b36-9373-bc8011876ab2",
   "metadata": {},
   "outputs": [],
   "source": [
    "%%timeit -n 1 -r 1\n",
    "df_display.apply(lambda x: do_ncHGT_new( x['# genes in list'], x['url']), axis=1) "
   ]
  },
  {
   "cell_type": "code",
   "execution_count": null,
   "id": "ff381aab-cc88-436c-8b6b-8dbae6362bde",
   "metadata": {},
   "outputs": [],
   "source": [
    "df_display"
   ]
  },
  {
   "cell_type": "markdown",
   "id": "6fadf4f3-5e6d-450c-94ce-1c294bf31212",
   "metadata": {},
   "source": [
    "# Examining whether sets tend to come from multiple cell types or really represent just one"
   ]
  },
  {
   "cell_type": "code",
   "execution_count": null,
   "id": "1dcc6b42-6be1-47ff-b818-ccc72b647fd7",
   "metadata": {},
   "outputs": [],
   "source": [
    "import random"
   ]
  },
  {
   "cell_type": "code",
   "execution_count": null,
   "id": "aee5b98b-784b-48b1-9f9f-e7cedc055264",
   "metadata": {},
   "outputs": [],
   "source": [
    "setID2members = utils.csv2dict('../data/setID2members.csv')\n",
    "random.seed(a=1)\n",
    "sets = random.choices(list(setID2members.items()), k =20)"
   ]
  },
  {
   "cell_type": "code",
   "execution_count": null,
   "id": "1904c75e-d16b-4248-b735-d756c6e872af",
   "metadata": {},
   "outputs": [],
   "source": [
    "#sets"
   ]
  },
  {
   "cell_type": "markdown",
   "id": "7af4c915-8c70-4e36-bd8a-5c27d5456aa6",
   "metadata": {},
   "source": [
    "# Trying ncHGT on the data directly"
   ]
  },
  {
   "cell_type": "markdown",
   "id": "12a1cdba-f323-4545-a2bd-c20da368fe61",
   "metadata": {},
   "source": [
    "P97 with standard method"
   ]
  },
  {
   "cell_type": "code",
   "execution_count": null,
   "id": "8f598c57-b15c-4699-b29d-1b0d1286ad71",
   "metadata": {},
   "outputs": [],
   "source": [
    "df_s = enrich.enrich_wrapper('P97.csv','uniprot',method='set',show_significant=False)\n",
    "np.sum(df_s['pval (uncorrected)'].values < 5e-03)"
   ]
  },
  {
   "cell_type": "code",
   "execution_count": null,
   "id": "ed541b7f-3221-424c-8cbc-0c9db0b79c1a",
   "metadata": {},
   "outputs": [],
   "source": [
    "df_s[df_s.title.apply(lambda x: 'RHOA GTPase cycle - Reactome' in x)]"
   ]
  },
  {
   "cell_type": "code",
   "execution_count": null,
   "id": "0a196d9c-2be7-44ba-8f63-e56d761549c8",
   "metadata": {},
   "outputs": [],
   "source": [
    "df_ff = enrich.enrich_wrapper('P97.csv','uniprot',method='standard',show_significant=False)\n",
    "np.sum(df_ff['pval (uncorrected)'].values < 5e-04)"
   ]
  },
  {
   "cell_type": "code",
   "execution_count": null,
   "id": "66989129-00da-4c93-b23b-81d0664e962e",
   "metadata": {},
   "outputs": [],
   "source": [
    "df_ff['ncHGT'] = df_ff.apply(lambda x: do_ncHGT_new( x['# genes in list'], x['url']), axis=1)\n",
    "df_ff"
   ]
  },
  {
   "cell_type": "code",
   "execution_count": null,
   "id": "619cd35b-74c6-4916-8679-22b43f2bc383",
   "metadata": {},
   "outputs": [],
   "source": []
  },
  {
   "cell_type": "code",
   "execution_count": null,
   "id": "c4ae0961-d918-4346-8f69-5367f1cc1e75",
   "metadata": {},
   "outputs": [],
   "source": [
    "background_num_gocams = 1100\n",
    "alpha = .05\n",
    "test = df_ff.copy()\n",
    "test.sort_values('pval (uncorrected)',inplace=True)\n",
    "test.reset_index(drop=True, inplace=True)\n",
    "test['FDR_val'] = (test.index+1)*alpha/background_num_gocams\n",
    "test['Less_than'] = (test['pval (uncorrected)'] < test['FDR_val'])\n",
    "index = test.Less_than.where(test.Less_than==True).last_valid_index()\n",
    "index"
   ]
  },
  {
   "cell_type": "code",
   "execution_count": null,
   "id": "93e61285-1cf5-410e-ab0f-51aa6ab3cb47",
   "metadata": {},
   "outputs": [],
   "source": [
    "background_num_gocams = 1100\n",
    "alpha = .05\n",
    "test = df_ff.copy()\n",
    "test.sort_values('ncHGT',inplace=True)\n",
    "test.reset_index(drop=True, inplace=True)\n",
    "test['FDR_val'] = (test.index+1)*alpha/background_num_gocams\n",
    "test['Less_than'] = (test['ncHGT'] < test['FDR_val'])\n",
    "index = test.Less_than.where(test.Less_than==True).last_valid_index()\n",
    "index"
   ]
  },
  {
   "cell_type": "code",
   "execution_count": null,
   "id": "15dd76a0-4e8e-4288-9306-c3ccfcc25d75",
   "metadata": {},
   "outputs": [],
   "source": [
    ".05*67/1100"
   ]
  },
  {
   "cell_type": "code",
   "execution_count": null,
   "id": "defafd78-9d76-436d-8d49-1579d2c7643c",
   "metadata": {},
   "outputs": [],
   "source": [
    "df_ff[df_ff.title.apply(lambda x: 'PI5P' in x)]"
   ]
  },
  {
   "cell_type": "code",
   "execution_count": null,
   "id": "cdc0a353-dfb8-4477-b7b0-3d1d331a7913",
   "metadata": {},
   "outputs": [],
   "source": [
    "test[0:67]"
   ]
  },
  {
   "cell_type": "code",
   "execution_count": null,
   "id": "3ec3b49e-5ba0-4bce-8000-17be0a52c493",
   "metadata": {},
   "outputs": [],
   "source": []
  }
 ],
 "metadata": {
  "kernelspec": {
   "display_name": "Python 3 (ipykernel)",
   "language": "python",
   "name": "python3"
  },
  "language_info": {
   "codemirror_mode": {
    "name": "ipython",
    "version": 3
   },
   "file_extension": ".py",
   "mimetype": "text/x-python",
   "name": "python",
   "nbconvert_exporter": "python",
   "pygments_lexer": "ipython3",
   "version": "3.7.12"
  }
 },
 "nbformat": 4,
 "nbformat_minor": 5
}
