{
 "cells": [
  {
   "cell_type": "code",
   "execution_count": 1,
   "id": "45a020a7-d0b8-4a6b-a27c-b6e98a08238c",
   "metadata": {},
   "outputs": [],
   "source": [
    "import numpy as np"
   ]
  },
  {
   "cell_type": "code",
   "execution_count": 2,
   "id": "ce4a2734-6d8b-42f9-b830-f19b6d81dd21",
   "metadata": {},
   "outputs": [],
   "source": [
    "def enumerate_possibilities(m_new,i,prev_array):\n",
    "    \"\"\"enumerate all possible counts vectors\"\"\"\n",
    "    first = True\n",
    "    for j in range(m_new[i]+1):\n",
    "        xt = prev_array.copy()\n",
    "        xt[0][i] = j\n",
    "        \n",
    "        #recursion\n",
    "        if (i < len(m_new)-1):\n",
    "            xt = enumerate_possibilities(m_new, i+1, xt) #will return matrix (array of arrays)\n",
    "            \n",
    "        #combining results into matrix\n",
    "        if not first:\n",
    "            XT = np.concatenate([XT,xt], axis = 0)\n",
    "        else:\n",
    "            XT = xt\n",
    "            first = False\n",
    "    return XT\n"
   ]
  },
  {
   "cell_type": "markdown",
   "id": "1093a6e2-22dd-462b-b143-4b78d9be76f8",
   "metadata": {},
   "source": [
    "### effect of dtype is minimal"
   ]
  },
  {
   "cell_type": "code",
   "execution_count": 12,
   "id": "12d4398b-cc52-4c8e-a62f-1f93c14345e9",
   "metadata": {},
   "outputs": [
    {
     "name": "stdout",
     "output_type": "stream",
     "text": [
      "6.59 ms ± 9.43 µs per loop (mean ± std. dev. of 7 runs, 100 loops each)\n"
     ]
    }
   ],
   "source": [
    "m_gc = [1,2,3,4,5,6]\n",
    "%timeit enumerate_possibilities(m_gc,0,np.zeros(shape=(1,len(m_gc))))"
   ]
  },
  {
   "cell_type": "code",
   "execution_count": 13,
   "id": "52816a62-3f19-45d4-b616-041f5af4c30e",
   "metadata": {},
   "outputs": [
    {
     "name": "stdout",
     "output_type": "stream",
     "text": [
      "6.39 ms ± 9.87 µs per loop (mean ± std. dev. of 7 runs, 100 loops each)\n"
     ]
    }
   ],
   "source": [
    "m_gc = [1,2,3,4,5,6]\n",
    "%timeit enumerate_possibilities(m_gc,0,np.zeros(shape=(1,len(m_gc)),dtype = np.int8))"
   ]
  },
  {
   "cell_type": "code",
   "execution_count": 16,
   "id": "be340145-f7ab-4ed6-bf45-5bd3a75a7ba8",
   "metadata": {},
   "outputs": [
    {
     "name": "stdout",
     "output_type": "stream",
     "text": [
      "6.49 ms ± 19.1 µs per loop (mean ± std. dev. of 7 runs, 100 loops each)\n"
     ]
    }
   ],
   "source": [
    "m_gc = [1,2,3,4,5,6]\n",
    "%timeit enumerate_possibilities(m_gc,0,np.zeros(shape=(1,len(m_gc)),dtype = np.int16))"
   ]
  },
  {
   "cell_type": "code",
   "execution_count": null,
   "id": "e0bc5c3e-8e9f-49f3-82ec-82b49a462afd",
   "metadata": {},
   "outputs": [],
   "source": []
  }
 ],
 "metadata": {
  "kernelspec": {
   "display_name": "Python [conda env:gocam2]",
   "language": "python",
   "name": "conda-env-gocam2-py"
  },
  "language_info": {
   "codemirror_mode": {
    "name": "ipython",
    "version": 3
   },
   "file_extension": ".py",
   "mimetype": "text/x-python",
   "name": "python",
   "nbconvert_exporter": "python",
   "pygments_lexer": "ipython3",
   "version": "3.10.9"
  }
 },
 "nbformat": 4,
 "nbformat_minor": 5
}
