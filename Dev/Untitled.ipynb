{
 "cells": [
  {
   "cell_type": "code",
   "execution_count": 1,
   "id": "boxed-afternoon",
   "metadata": {},
   "outputs": [],
   "source": [
    "import pandas as pd\n",
    "import numpy as np\n",
    "import matplotlib.pyplot as plt\n",
    "import scipy.stats\n",
    "from scipy.stats import hypergeom"
   ]
  },
  {
   "cell_type": "code",
   "execution_count": 15,
   "id": "strategic-arthritis",
   "metadata": {},
   "outputs": [
    {
     "data": {
      "text/plain": [
       "41.33321633942025"
      ]
     },
     "execution_count": 15,
     "metadata": {},
     "output_type": "execute_result"
    }
   ],
   "source": [
    "#Odds ratio  for at least one member of an 86 member set being in an input list of size 100\n",
    "#but this is assuming genes are selected one by one until 100 genes are selected\n",
    "(1-hypergeom.pmf(0, 5000,  86, 100))/(1-hypergeom.pmf(0, 5000,  1, 100))"
   ]
  },
  {
   "cell_type": "code",
   "execution_count": 25,
   "id": "toxic-print",
   "metadata": {},
   "outputs": [
    {
     "data": {
      "text/plain": [
       "41.20142148437143"
      ]
     },
     "execution_count": 25,
     "metadata": {},
     "output_type": "execute_result"
    }
   ],
   "source": [
    "#could also say each gene in the genome has a probability of selection, P.\n",
    "#Generate the list of genes, L, by iterating over each gene in G and selecting it for L with probability P\n",
    "# After this is done for all genes, N is known.\n",
    "#Pnot = 1-P. 1-Pnot^s is the probability of failing to select all genes in S, the set.\n",
    "#this might be more like fisher's ncHGD, where N is a random variable too? idk...\n",
    "p_not_select = 1-100/5000\n",
    "(1-np.power(p_not_select,86))/(1-np.power(p_not_select,1))"
   ]
  },
  {
   "cell_type": "code",
   "execution_count": 20,
   "id": "multiple-abuse",
   "metadata": {},
   "outputs": [
    {
     "data": {
      "text/plain": [
       "0.019999999999917428"
      ]
     },
     "execution_count": 20,
     "metadata": {},
     "output_type": "execute_result"
    }
   ],
   "source": [
    "hypergeom.pmf(1, 5000,  1, 100)"
   ]
  },
  {
   "cell_type": "code",
   "execution_count": null,
   "id": "encouraging-divide",
   "metadata": {},
   "outputs": [],
   "source": []
  }
 ],
 "metadata": {
  "kernelspec": {
   "display_name": "Python 3",
   "language": "python",
   "name": "python3"
  },
  "language_info": {
   "codemirror_mode": {
    "name": "ipython",
    "version": 3
   },
   "file_extension": ".py",
   "mimetype": "text/x-python",
   "name": "python",
   "nbconvert_exporter": "python",
   "pygments_lexer": "ipython3",
   "version": "3.7.9"
  }
 },
 "nbformat": 4,
 "nbformat_minor": 5
}
