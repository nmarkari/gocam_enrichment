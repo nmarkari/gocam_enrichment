{
 "cells": [
  {
   "cell_type": "code",
   "execution_count": 1,
   "id": "vietnamese-colors",
   "metadata": {},
   "outputs": [
    {
     "name": "stdout",
     "output_type": "stream",
     "text": [
      "Sun Oct  9 17:05:36 PDT 2022\r\n"
     ]
    }
   ],
   "source": [
    "!date\n",
    "import pandas as pd\n",
    "import numpy as np\n",
    "import matplotlib.pyplot as plt\n",
    "import scipy.stats\n",
    "from scipy.stats import hypergeom\n",
    "import sys\n",
    "sys.path.append('../GOCAM_Project/dev')\n",
    "import os\n",
    "\n",
    "import utils\n",
    "import enrich\n",
    "pd.options.display.max_colwidth = 100"
   ]
  },
  {
   "cell_type": "markdown",
   "id": "married-booth",
   "metadata": {},
   "source": [
    "# Comparing Set and Fully Flattened Methods on the Cancer Dataset"
   ]
  },
  {
   "cell_type": "code",
   "execution_count": 2,
   "id": "essential-yukon",
   "metadata": {},
   "outputs": [],
   "source": [
    "def drop_threshold(genes, cancer_test_set, uniprot2input, gocam_sizes, Dict, thresholds):\n",
    "    results = {}\n",
    "    for a in thresholds:\n",
    "        r = set(enrich.enrich(genes, cancer_test_set, uniprot2input, gocam_sizes, Dict, alpha = a)[4].title.values)\n",
    "        results[a]=r\n",
    "    return results\n",
    "    "
   ]
  },
  {
   "cell_type": "code",
   "execution_count": 3,
   "id": "successful-enough",
   "metadata": {},
   "outputs": [],
   "source": [
    "gene_list = pd.read_csv('../../Desktop/GOCAM/cancer.csv',header=None,names = ['g'])\n",
    "cancer_test_set, uniprot2input, not_converted = utils.convert_IDs(gene_list,'Gene Symbol')\n",
    "x = pd.read_csv('../data/gocam_sizes_mouse.csv')\n",
    "gocam_sizes = pd.Series(x.sizes.values,index=x.gocam)\n",
    "Dict = utils.csv2dict('../data/ID2gocam_mouse.csv')\n",
    "\n",
    "results = drop_threshold(list(gene_list.g), cancer_test_set, uniprot2input, gocam_sizes, Dict, [.05,.1,.15,.5])\n",
    "c_set_05 = results[.05]\n",
    "c_set_10 = results[.10]\n",
    "c_set_15 = results[.15]\n",
    "c_set_50 = results[.50]\n"
   ]
  },
  {
   "cell_type": "code",
   "execution_count": 4,
   "id": "adjacent-pharmacy",
   "metadata": {},
   "outputs": [],
   "source": [
    "gene_list = pd.read_csv('../../Desktop/GOCAM/cancer.csv',header=None,names = ['g'])\n",
    "cancer_test_set, uniprot2input, not_converted = utils.convert_IDs(gene_list,'Gene Symbol')\n",
    "x = pd.read_csv('../data/gocam_sizes_mouse_ff.csv')\n",
    "gocam_sizes = pd.Series(x.sizes.values,index=x.gocam)\n",
    "Dict = utils.csv2dict('../data/ID2gocam_mouse_ff.csv')\n",
    "\n",
    "results = drop_threshold(list(gene_list.g), cancer_test_set, uniprot2input, gocam_sizes, Dict, [.05,.1,.15,.5])\n",
    "c_ff_05 = results[.05]\n",
    "c_ff_10 = results[.10]\n",
    "c_ff_15 = results[.15]\n",
    "c_ff_50 = results[.50]"
   ]
  },
  {
   "cell_type": "markdown",
   "id": "genuine-handling",
   "metadata": {},
   "source": [
    "The next two cells evaluate the set differences between the results at alpha = .05 post-multiple testing correction from the set method (cancer) and the fully flattened method (cancer_ff). All significance levels below are post-FDR correction.\n",
    "\n",
    "First, we take the set difference of cancer and c_dif to obtain c_dif and vice versa to obtain c_ff_dif. Focusing on c_dif, we then ask if there is this set difference is created by some results being pushed just beyond the arbitrary threshold of .05 (ie from .04 to .06), which is practically not different. We generate cancer_ff_10, cancer_ff_15 and, cancer_ff_50 by rerunning enrichment with .10,.15, and .50 as significance cutoffs post-correction. We repeat the procedure of cancer-cancer_ff with cancer_ff_10,15,50 substituted for cancer_ff to see how far those highly significant results in the normal set method got pushed down the result list in the fully flattened method. The sequence of 8,7,5,5 means that the 5 results from set enrichment at .05 significance (post-correction) which are still not captured at .15 in the fully flattened metod are still not captured at .50. This suggests that set method of enrichment yields results that are completely missed by the fully flattened method. These 5 comprise a significant fraction of the 21 results yielded by the set method.\n",
    "\n",
    "Conversely, when repeating the above procedure for the set difference between the fully flattened method and the set method, the sequence is 25,21,17,9. For reference, there are 38 results at .05 significance. Comparing 8/21 and 25/38, we see an increased proportion of unique results in a head to head comparison at .05 significance. (Keep in mind that unique results are not necessarily a good thing overall because it means that the enrichment results are sensitive to the method of representation). However, there steady decrease in the sequence from 25 to 21, to 17, to 9, and both reach a proportion of 25% uniqueness.\n",
    "\n",
    "Regarding the uniqueness, this is largely produced by the increased gocam size (ie increasing from 13 to 122 genes is a huge penalty). To some extent, this can be mitigated by overcounting of sets, which I believe is responsible for the uniqueness of results from the fully flattened methods. However, there theoretically is another case in which the fully flattened method is superior due to the increased background size from ~4000 to ~5000 (many genes appear in gocams only in sets and this method allows them to contribute to the background when they wouldn't have done so in the set method). Consider a relatively large gocam with 15 genes and no sets (so the gocam size is 10 in both methods). Let's say that there is an overlap of 8 genes with the target set. With an decreased background size of 80% and naively using a binomial approximation of the solution, we have P(choose a gene to overlap from N)=N/M in the fully flattened method be 80% of the value for the set method. The complement probability P(not choosing a gene in N)=1-N/M is effectively unchanged because M>>N. Because we raise (N/M) and (1-N/M) to the power of k, we expect the ratio of  binomial probability via the two methods with different values for M to be (.80)^k. For larger k, the smaller background will be more significantly penalized. In the case of k=8, the ratio is .16, giving an advantage to the fully flattened method. This likely cannot account for more than a single order of magnitude difference in p value for the overwhelming majority of gocams, as they tend to be small in size, but it may become a concern if multiple gocams are linked together into larger models\n",
    "\n"
   ]
  },
  {
   "cell_type": "code",
   "execution_count": 5,
   "id": "thousand-cycle",
   "metadata": {},
   "outputs": [
    {
     "data": {
      "text/plain": [
       "{'ERBB2 Regulates Cell Motility - Reactome',\n",
       " 'G beta:gamma signalling through PI3Kgamma - Reactome',\n",
       " 'MAP2K and MAPK activation - Reactome',\n",
       " 'PD-1 signaling - Reactome',\n",
       " 'PI3K/AKT activation - Reactome',\n",
       " 'PLCG1 events in ERBB2 signaling - Reactome',\n",
       " 'Role of LAT2/NTAL/LAB on calcium mobilization - Reactome',\n",
       " 'Role of phospholipids in phagocytosis - Reactome'}"
      ]
     },
     "execution_count": 5,
     "metadata": {},
     "output_type": "execute_result"
    }
   ],
   "source": [
    "c_set_05-c_ff_05"
   ]
  },
  {
   "cell_type": "code",
   "execution_count": 6,
   "id": "touched-olympus",
   "metadata": {},
   "outputs": [
    {
     "data": {
      "text/plain": [
       "{'Activated NTRK3 signals through PI3K - Reactome',\n",
       " 'Activation of NOXA and translocation to mitochondria - Reactome',\n",
       " 'Activation of PUMA and translocation to mitochondria - Reactome',\n",
       " 'Attenuation phase - Reactome',\n",
       " 'Cyclin D associated events in G1 - Reactome',\n",
       " 'Cyclin E associated events during G1/S transition - Reactome',\n",
       " 'FLT3 Signaling - Reactome',\n",
       " 'Fanconi Anemia Pathway - Reactome',\n",
       " 'Formation of Incision Complex in GG-NER - Reactome',\n",
       " 'GAB1 signalosome - Reactome',\n",
       " 'HDR through Single Strand Annealing (SSA) - Reactome',\n",
       " 'Inhibition of replication initiation of damaged DNA by RB1/E2F1 - Reactome',\n",
       " 'MET activates PI3K/AKT signaling - Reactome',\n",
       " 'Nuclear events mediated by NFE2L2 - Reactome',\n",
       " 'Oxidative Stress Induced Senescence - Reactome',\n",
       " 'PI5P, PP2A and IER3 Regulate PI3K/AKT Signaling - Reactome',\n",
       " 'Processing of DNA double-strand break ends - Reactome',\n",
       " 'RAF activation - Reactome',\n",
       " 'RAF/MAP kinase cascade - Reactome',\n",
       " 'RUNX1 regulates genes involved in megakaryocyte differentiation and platelet function - Reactome',\n",
       " 'Regulation of TP53 Activity through Acetylation - Reactome',\n",
       " 'Regulation of TP53 Activity through Association with Co-factors - Reactome',\n",
       " 'Regulation of TP53 Activity through Methylation - Reactome',\n",
       " 'Role of ABL in ROBO-SLIT signaling - Reactome',\n",
       " 'Signaling by PDGF - Reactome'}"
      ]
     },
     "execution_count": 6,
     "metadata": {},
     "output_type": "execute_result"
    }
   ],
   "source": [
    "c_ff_05-c_set_05"
   ]
  },
  {
   "cell_type": "code",
   "execution_count": 7,
   "id": "governmental-million",
   "metadata": {},
   "outputs": [
    {
     "data": {
      "text/plain": [
       "(8, 7, 5, 5, 21)"
      ]
     },
     "execution_count": 7,
     "metadata": {},
     "output_type": "execute_result"
    }
   ],
   "source": [
    "len(c_set_05-c_ff_05),len(c_set_05-c_ff_10),len(c_set_05-c_ff_15),len(c_set_05-c_ff_50),len(c_set_05)"
   ]
  },
  {
   "cell_type": "code",
   "execution_count": 8,
   "id": "distant-sleeping",
   "metadata": {},
   "outputs": [
    {
     "data": {
      "text/plain": [
       "(25, 21, 17, 9, 38)"
      ]
     },
     "execution_count": 8,
     "metadata": {},
     "output_type": "execute_result"
    }
   ],
   "source": [
    "len(c_ff_05 -c_set_05),len(c_ff_05- c_set_10),len(c_ff_05- c_set_15),len(c_ff_05- c_set_50),len(c_ff_05)"
   ]
  },
  {
   "cell_type": "markdown",
   "id": "sufficient-conservative",
   "metadata": {},
   "source": [
    "The next 3 cells investigate the relative and absolute changes in gocam size that result from the set method. On average, there is mean 22% reduction in gocam size, with a 75th percentile change of 40% and a 50th percentile change of 6%. Based on this, a significant proportion of models could greatly benefit from set representation."
   ]
  },
  {
   "cell_type": "code",
   "execution_count": 9,
   "id": "streaming-coalition",
   "metadata": {},
   "outputs": [
    {
     "data": {
      "text/html": [
       "<div>\n",
       "<style scoped>\n",
       "    .dataframe tbody tr th:only-of-type {\n",
       "        vertical-align: middle;\n",
       "    }\n",
       "\n",
       "    .dataframe tbody tr th {\n",
       "        vertical-align: top;\n",
       "    }\n",
       "\n",
       "    .dataframe thead th {\n",
       "        text-align: right;\n",
       "    }\n",
       "</style>\n",
       "<table border=\"1\" class=\"dataframe\">\n",
       "  <thead>\n",
       "    <tr style=\"text-align: right;\">\n",
       "      <th></th>\n",
       "      <th>gocam</th>\n",
       "      <th>sizes</th>\n",
       "      <th>sizes_ff</th>\n",
       "      <th>diff</th>\n",
       "    </tr>\n",
       "  </thead>\n",
       "  <tbody>\n",
       "    <tr>\n",
       "      <th>159</th>\n",
       "      <td>http://model.geneontology.org/R-HSA-156581</td>\n",
       "      <td>18</td>\n",
       "      <td>17</td>\n",
       "      <td>-1</td>\n",
       "    </tr>\n",
       "    <tr>\n",
       "      <th>164</th>\n",
       "      <td>http://model.geneontology.org/R-HSA-6783783</td>\n",
       "      <td>17</td>\n",
       "      <td>16</td>\n",
       "      <td>-1</td>\n",
       "    </tr>\n",
       "    <tr>\n",
       "      <th>236</th>\n",
       "      <td>http://model.geneontology.org/R-HSA-1614635</td>\n",
       "      <td>13</td>\n",
       "      <td>12</td>\n",
       "      <td>-1</td>\n",
       "    </tr>\n",
       "    <tr>\n",
       "      <th>328</th>\n",
       "      <td>http://model.geneontology.org/R-HSA-2485179</td>\n",
       "      <td>9</td>\n",
       "      <td>8</td>\n",
       "      <td>-1</td>\n",
       "    </tr>\n",
       "    <tr>\n",
       "      <th>413</th>\n",
       "      <td>http://model.geneontology.org/R-HSA-8983711</td>\n",
       "      <td>8</td>\n",
       "      <td>6</td>\n",
       "      <td>-2</td>\n",
       "    </tr>\n",
       "    <tr>\n",
       "      <th>519</th>\n",
       "      <td>http://model.geneontology.org/R-HSA-351202</td>\n",
       "      <td>6</td>\n",
       "      <td>5</td>\n",
       "      <td>-1</td>\n",
       "    </tr>\n",
       "    <tr>\n",
       "      <th>619</th>\n",
       "      <td>http://model.geneontology.org/R-HSA-180292</td>\n",
       "      <td>5</td>\n",
       "      <td>4</td>\n",
       "      <td>-1</td>\n",
       "    </tr>\n",
       "  </tbody>\n",
       "</table>\n",
       "</div>"
      ],
      "text/plain": [
       "                                           gocam  sizes sizes_ff diff\n",
       "159   http://model.geneontology.org/R-HSA-156581     18       17   -1\n",
       "164  http://model.geneontology.org/R-HSA-6783783     17       16   -1\n",
       "236  http://model.geneontology.org/R-HSA-1614635     13       12   -1\n",
       "328  http://model.geneontology.org/R-HSA-2485179      9        8   -1\n",
       "413  http://model.geneontology.org/R-HSA-8983711      8        6   -2\n",
       "519   http://model.geneontology.org/R-HSA-351202      6        5   -1\n",
       "619   http://model.geneontology.org/R-HSA-180292      5        4   -1"
      ]
     },
     "execution_count": 9,
     "metadata": {},
     "output_type": "execute_result"
    }
   ],
   "source": [
    "x1 = pd.read_csv('../data/gocam_sizes_mouse.csv')\n",
    "x2 = pd.read_csv('../data/gocam_sizes_mouse_ff.csv')\n",
    "d = pd.Series(x2.sizes.values,index=x2.gocam).to_dict()\n",
    "x1['sizes_ff'] = x1.gocam.apply(lambda x: d.get(x,'F'))\n",
    "x1 = x1.query('sizes_ff != \"F\"')\n",
    "x1['diff'] = x1['sizes_ff'] - x1['sizes']\n",
    "x1.query('diff < 0')\n"
   ]
  },
  {
   "cell_type": "code",
   "execution_count": 10,
   "id": "modified-waters",
   "metadata": {},
   "outputs": [
    {
     "data": {
      "text/plain": [
       "count    1211\n",
       "mean        7\n",
       "std        22\n",
       "min        -2\n",
       "25%         0\n",
       "50%         1\n",
       "75%         4\n",
       "max       279\n",
       "Name: diff, dtype: int64"
      ]
     },
     "execution_count": 10,
     "metadata": {},
     "output_type": "execute_result"
    }
   ],
   "source": [
    "#absolute difference\n",
    "s = x1['diff']\n",
    "s = pd.to_numeric(s)\n",
    "s.describe().apply(lambda x: int(x))"
   ]
  },
  {
   "cell_type": "code",
   "execution_count": 11,
   "id": "juvenile-humanity",
   "metadata": {},
   "outputs": [
    {
     "data": {
      "text/plain": [
       "count    1211\n",
       "mean      -22\n",
       "std        28\n",
       "min       -98\n",
       "25%       -40\n",
       "50%        -6\n",
       "75%         0\n",
       "max        33\n",
       "dtype: int64"
      ]
     },
     "execution_count": 11,
     "metadata": {},
     "output_type": "execute_result"
    }
   ],
   "source": [
    "#relative difference\n",
    "s1 = -x1['diff']/x1['sizes_ff']*100\n",
    "s1 = pd.to_numeric(s1)\n",
    "s1.describe().apply(lambda x: int(x))"
   ]
  },
  {
   "cell_type": "code",
   "execution_count": 12,
   "id": "shaped-effects",
   "metadata": {},
   "outputs": [],
   "source": [
    "#setID2members.get('sset:EPH-ephrin oligomers')"
   ]
  },
  {
   "cell_type": "markdown",
   "id": "vertical-laptop",
   "metadata": {},
   "source": [
    "# Repeating analysis across all datasets"
   ]
  },
  {
   "cell_type": "code",
   "execution_count": 13,
   "id": "disabled-vegetarian",
   "metadata": {},
   "outputs": [
    {
     "data": {
      "text/plain": [
       "([38, 35, 32, 28, 58], [44, 35, 24, 12, 64])"
      ]
     },
     "execution_count": 13,
     "metadata": {},
     "output_type": "execute_result"
    }
   ],
   "source": [
    "x_s = pd.read_csv('../data/gocam_sizes_mouse.csv')\n",
    "gocam_sizes_s = pd.Series(x_s.sizes.values,index=x_s.gocam)\n",
    "Dict_s = utils.csv2dict('../data/ID2gocam_mouse.csv')\n",
    "\n",
    "x_ff = pd.read_csv('../data/gocam_sizes_mouse_ff.csv')\n",
    "gocam_sizes_ff = pd.Series(x_ff.sizes.values,index=x_ff.gocam)\n",
    "Dict_ff = utils.csv2dict('../data/ID2gocam_mouse_ff.csv')\n",
    "\n",
    "path = '../../Desktop/GOCAM/'\n",
    "datasets = {'cancer.csv':'Gene Symbol','gastric_cancer.csv':'ENSEMBL ID','bladder_cancer.csv':'ENSEMBL ID','parkinson.csv':'Gene Symbol'}\n",
    "results_combined_s = [0,0,0,0,0]\n",
    "results_combined_ff = [0,0,0,0,0]\n",
    "for dataset, symbol_type in datasets.items():\n",
    "    gene_list = pd.read_csv(os.path.join(path,dataset),header=None,names = ['g'])\n",
    "    test_set, uniprot2input, not_converted = utils.convert_IDs(gene_list,symbol_type)\n",
    "    \n",
    "    results = drop_threshold(list(gene_list.g), test_set, uniprot2input, gocam_sizes_s, Dict_s, [.05,.1,.15,.5])\n",
    "    c_set_05 = results[.05]\n",
    "    c_set_10 = results[.10]\n",
    "    c_set_15 = results[.15]\n",
    "    c_set_50 = results[.50]\n",
    "\n",
    "    results = drop_threshold(list(gene_list.g), test_set, uniprot2input, gocam_sizes_ff, Dict_ff, [.05,.1,.15,.5])\n",
    "    c_ff_05 = results[.05]\n",
    "    c_ff_10 = results[.10]\n",
    "    c_ff_15 = results[.15]\n",
    "    c_ff_50 = results[.50]\n",
    "    \n",
    "    results_combined_s[0]+=len(c_set_05-c_ff_05)\n",
    "    results_combined_s[1]+=len(c_set_05-c_ff_10)\n",
    "    results_combined_s[2]+=len(c_set_05-c_ff_15)\n",
    "    results_combined_s[3]+=len(c_set_05-c_ff_50)\n",
    "    results_combined_s[4]+=len(c_set_05)\n",
    "    \n",
    "    results_combined_ff[0]+=len(c_ff_05-c_set_05)\n",
    "    results_combined_ff[1]+=len(c_ff_05-c_set_10)\n",
    "    results_combined_ff[2]+=len(c_ff_05-c_set_15)\n",
    "    results_combined_ff[3]+=len(c_ff_05-c_set_50)\n",
    "    results_combined_ff[4]+=len(c_ff_05)\n",
    "results_combined_s,results_combined_ff   \n",
    "        "
   ]
  },
  {
   "cell_type": "markdown",
   "id": "smart-above",
   "metadata": {},
   "source": [
    "# Examining PI3K/AKT signaling in the P97 dataset"
   ]
  },
  {
   "cell_type": "code",
   "execution_count": 14,
   "id": "banned-strap",
   "metadata": {
    "scrolled": true
   },
   "outputs": [
    {
     "data": {
      "text/html": [
       "<div>\n",
       "<style scoped>\n",
       "    .dataframe tbody tr th:only-of-type {\n",
       "        vertical-align: middle;\n",
       "    }\n",
       "\n",
       "    .dataframe tbody tr th {\n",
       "        vertical-align: top;\n",
       "    }\n",
       "\n",
       "    .dataframe thead th {\n",
       "        text-align: right;\n",
       "    }\n",
       "</style>\n",
       "<table border=\"1\" class=\"dataframe\">\n",
       "  <thead>\n",
       "    <tr style=\"text-align: right;\">\n",
       "      <th></th>\n",
       "      <th>title</th>\n",
       "      <th>pval (uncorrected)</th>\n",
       "      <th># genes in list</th>\n",
       "      <th>#genes in gocam</th>\n",
       "      <th>shared gene products in gocam</th>\n",
       "      <th>url</th>\n",
       "    </tr>\n",
       "  </thead>\n",
       "  <tbody>\n",
       "    <tr>\n",
       "      <th>0</th>\n",
       "      <td>PI5P, PP2A and IER3 Regulate PI3K/AKT Signaling - Reactome</td>\n",
       "      <td>0.000002</td>\n",
       "      <td>8</td>\n",
       "      <td>13</td>\n",
       "      <td>[sset:PIP5K1A/B, sset:PI4K2A/2B, sset:PP2A-subunit A, sset:SYNJ/MTM(1), sset:Activator:PI3K, sse...</td>\n",
       "      <td>http://model.geneontology.org/R-HSA-6811558</td>\n",
       "    </tr>\n",
       "    <tr>\n",
       "      <th>1</th>\n",
       "      <td>Unwinding of DNA - Reactome</td>\n",
       "      <td>0.000002</td>\n",
       "      <td>6</td>\n",
       "      <td>7</td>\n",
       "      <td>[P25205, Q14566, P33991, P49736, P33993, P33992]</td>\n",
       "      <td>http://model.geneontology.org/R-HSA-176974</td>\n",
       "    </tr>\n",
       "  </tbody>\n",
       "</table>\n",
       "</div>"
      ],
      "text/plain": [
       "                                                        title  \\\n",
       "0  PI5P, PP2A and IER3 Regulate PI3K/AKT Signaling - Reactome   \n",
       "1                                 Unwinding of DNA - Reactome   \n",
       "\n",
       "   pval (uncorrected)  # genes in list  #genes in gocam  \\\n",
       "0            0.000002                8               13   \n",
       "1            0.000002                6                7   \n",
       "\n",
       "                                                                         shared gene products in gocam  \\\n",
       "0  [sset:PIP5K1A/B, sset:PI4K2A/2B, sset:PP2A-subunit A, sset:SYNJ/MTM(1), sset:Activator:PI3K, sse...   \n",
       "1                                                     [P25205, Q14566, P33991, P49736, P33993, P33992]   \n",
       "\n",
       "                                           url  \n",
       "0  http://model.geneontology.org/R-HSA-6811558  \n",
       "1   http://model.geneontology.org/R-HSA-176974  "
      ]
     },
     "execution_count": 14,
     "metadata": {},
     "output_type": "execute_result"
    }
   ],
   "source": [
    "gene_list = pd.read_csv('../../Desktop/GOCAM/P97.csv',header=None,names = ['g'])\n",
    "P97_test_set = gene_list.g\n",
    "uniprot2input = pd.Series(P97_test_set.values,index=P97_test_set).to_dict()\n",
    "x = pd.read_csv('../data/gocam_sizes_mouse.csv')\n",
    "gocam_sizes = pd.Series(x.sizes.values,index=x.gocam)\n",
    "Dict = utils.csv2dict('../data/ID2gocam_mouse.csv')\n",
    "filtered_out_genes, filtered_list, setID2members_input_uni, setID2members_input, df_display= enrich.enrich(list(gene_list.g), P97_test_set, uniprot2input, gocam_sizes, Dict,alpha = .05)\n",
    "df_display#[df_display.title.apply(lambda x: 'Hedgehog' in x)]"
   ]
  },
  {
   "cell_type": "code",
   "execution_count": 15,
   "id": "potential-receiver",
   "metadata": {},
   "outputs": [
    {
     "data": {
      "text/plain": [
       "(766, 338, 496)"
      ]
     },
     "execution_count": 15,
     "metadata": {},
     "output_type": "execute_result"
    }
   ],
   "source": [
    "len(gene_list.g),len(filtered_list),len(filtered_out_genes)"
   ]
  },
  {
   "cell_type": "code",
   "execution_count": 16,
   "id": "binary-burns",
   "metadata": {},
   "outputs": [
    {
     "data": {
      "text/plain": [
       "(0.2673159657624832, 2.085287471110162e-06)"
      ]
     },
     "execution_count": 16,
     "metadata": {},
     "output_type": "execute_result"
    }
   ],
   "source": [
    "#hypergeom.sf(count-1, background_gene_list_size,  gocam_size, gene_list_size)\n",
    "hypergeom.sf(8-1, 5386,  122, 270),hypergeom.sf(8-1, 4008,  13, 338)"
   ]
  },
  {
   "cell_type": "markdown",
   "id": "danish-break",
   "metadata": {},
   "source": [
    "# HGT is sensitive to relatively small parameter changes"
   ]
  },
  {
   "cell_type": "markdown",
   "id": "preliminary-seeker",
   "metadata": {},
   "source": [
    "Comparing enrichment of 'SCF(Skp2)-mediated degradation of p27/p21 - Reactome' in the P97 dataset in the fully flattened and set models:"
   ]
  },
  {
   "cell_type": "code",
   "execution_count": 17,
   "id": "seasonal-farming",
   "metadata": {},
   "outputs": [
    {
     "data": {
      "text/plain": [
       "(8.116740023877458e-07, 0.0003898627483820106)"
      ]
     },
     "execution_count": 17,
     "metadata": {},
     "output_type": "execute_result"
    }
   ],
   "source": [
    "#hypergeom.sf(count-1, background_gene_list_size,  gocam_size, gene_list_size)\n",
    "hypergeom.sf(13-1, 5386,  51, 270),hypergeom.sf(12-1, 4008,  50, 318)"
   ]
  },
  {
   "cell_type": "markdown",
   "id": "diagnostic-small",
   "metadata": {},
   "source": [
    "Effect of gene list size (change from 270 to 318 is due to addition of sets - removal of genes that only occur in sets)"
   ]
  },
  {
   "cell_type": "code",
   "execution_count": 18,
   "id": "radical-grain",
   "metadata": {},
   "outputs": [
    {
     "data": {
      "text/plain": [
       "(8.116740023877458e-07, 8.212821239278383e-05)"
      ]
     },
     "execution_count": 18,
     "metadata": {},
     "output_type": "execute_result"
    }
   ],
   "source": [
    "#hypergeom.sf(count-1, background_gene_list_size,  gocam_size, gene_list_size)\n",
    "hypergeom.sf(13-1, 5386,  51, 270),hypergeom.sf(12-1, 4008,  50, 270)"
   ]
  },
  {
   "cell_type": "markdown",
   "id": "following-notification",
   "metadata": {},
   "source": [
    "Effect of background gene list size (analogous to above)"
   ]
  },
  {
   "cell_type": "code",
   "execution_count": 19,
   "id": "bored-queens",
   "metadata": {},
   "outputs": [
    {
     "data": {
      "text/plain": [
       "(8.116740023877458e-07, 4.33261197373605e-06)"
      ]
     },
     "execution_count": 19,
     "metadata": {},
     "output_type": "execute_result"
    }
   ],
   "source": [
    "#hypergeom.sf(count-1, background_gene_list_size,  gocam_size, gene_list_size)\n",
    "hypergeom.sf(13-1, 5386,  51, 270),hypergeom.sf(12-1, 5386,  50, 270)"
   ]
  },
  {
   "cell_type": "markdown",
   "id": "jewish-admission",
   "metadata": {},
   "source": [
    "# Examining the Effect of Background Size\n",
    "\n",
    "Background size refers to the number of entities across all models, and when the blue curve is below the orange, the result is \"automatically\" significant by itself at rank 5 or higher (higher being closer to 1), meaning its significance does not depend on the p-values of the rest of the results (see below). \n",
    "\n",
    "Caption and parameters: Blue = uncorrected p-value, orange = Benjamini-Hochberg critical value for rank 5 ( from multiple testing correction).\n",
    "Alpha=.05. The number of GO CAMs (for multiple testing correction) is calculated as background gene list size / average gocam size, which I arbitrarily set equal to 5. I assume that the background list of genes increases due to the addition of more models, which increases the number of tests being done. Thus, the BH critical value is not constant and decreases with background size."
   ]
  },
  {
   "cell_type": "code",
   "execution_count": 20,
   "id": "convinced-hanging",
   "metadata": {},
   "outputs": [],
   "source": [
    "import numpy as np"
   ]
  },
  {
   "cell_type": "code",
   "execution_count": 21,
   "id": "wicked-collectible",
   "metadata": {},
   "outputs": [
    {
     "data": {
      "image/png": "[encoded data removed]",
      "text/plain": [
       "<Figure size 864x864 with 9 Axes>"
      ]
     },
     "metadata": {},
     "output_type": "display_data"
    }
   ],
   "source": [
    "background_gene_list_size = np.linspace(500,5000,1000)\n",
    "average_gocam_size = 5\n",
    "total_gocam_sizes = background_gene_list_size*(1/average_gocam_size)\n",
    "alpha = .05\n",
    "rank = 5\n",
    "crit_vals = 1/background_gene_list_size*alpha*rank*average_gocam_size\n",
    "count_percent = [.3,.5,.7]\n",
    "gocam_size = [3,6,9]\n",
    "gene_list_size = 100\n",
    "fig, axs = plt.subplots(3, 3,figsize=(12,12))\n",
    "fig.suptitle('Effects of background and GO CAM size on HGT enrichment',fontsize=20)\n",
    "#txt=\"\"\"Blue = uncorrected p-value, orange = benjamini-hochberg critical value for rank 5 (multiple hypothesis correction). \\n\n",
    "#Alpha=.05 for multiple testing correction. The number of gocams is calculated as background gene list size / average gocam size, which is 5.\"\"\"\n",
    "#plt.figtext(0.5, 0, txt,  horizontalalignment='center', fontsize=14)\n",
    "for i in range(0,3):\n",
    "    for j in range(0,3):\n",
    "        pvals=[]\n",
    "        for x in background_gene_list_size:\n",
    "            num = int(count_percent[i]*gocam_size[j])\n",
    "            pvals.append(hypergeom.sf(num-1, x,  gocam_size[j], gene_list_size))\n",
    "        axs[i,j].scatter(background_gene_list_size,pvals,s=5, label = 'p-value')\n",
    "        axs[i,j].scatter(background_gene_list_size,crit_vals, s=5,label = 'BH value')\n",
    "        axs[i,j].set_title(str(num)+' of '+str(gocam_size[j])+ ' genes')\n",
    "        if i==2 and j==2: axs[i,j].legend(fontsize='x-large')\n",
    "        #axs[i,j].axhline(y=(alpha))\n",
    "        if i == 1:\n",
    "            axs[i,j].set_ylim([-0.005, 0.01])\n",
    "        if i == 2:\n",
    "            axs[i,j].set_ylim([-.005, 0.01])\n",
    "for ax in axs.flat:\n",
    "    ax.set(xlabel='background size', ylabel='p value')\n",
    "# Hide x labels and tick labels for top plots and y ticks for right plots.\n",
    "for ax in axs.flat:\n",
    "    ax.label_outer()\n",
    "fig.tight_layout()\n",
    "fig.patch.set_facecolor('xkcd:white')\n",
    "plt.savefig('../../Desktop/Effect_list_sizes',dpi=300)"
   ]
  },
  {
   "cell_type": "code",
   "execution_count": null,
   "id": "synthetic-replacement",
   "metadata": {},
   "outputs": [],
   "source": []
  }
 ],
 "metadata": {
  "kernelspec": {
   "display_name": "Python 3",
   "language": "python",
   "name": "python3"
  },
  "language_info": {
   "codemirror_mode": {
    "name": "ipython",
    "version": 3
   },
   "file_extension": ".py",
   "mimetype": "text/x-python",
   "name": "python",
   "nbconvert_exporter": "python",
   "pygments_lexer": "ipython3",
   "version": "3.7.9"
  }
 },
 "nbformat": 4,
 "nbformat_minor": 5
}
