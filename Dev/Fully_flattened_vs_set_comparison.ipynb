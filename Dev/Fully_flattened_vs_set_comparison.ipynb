{
 "cells": [
  {
   "cell_type": "code",
   "execution_count": 1,
   "id": "vietnamese-colors",
   "metadata": {},
   "outputs": [
    {
     "name": "stdout",
     "output_type": "stream",
     "text": [
      "Wed Jan  4 15:37:15 PST 2023\n"
     ]
    }
   ],
   "source": [
    "!date\n",
    "import pandas as pd\n",
    "import numpy as np\n",
    "import scipy.stats\n",
    "from scipy.stats import hypergeom\n",
    "import sys\n",
    "sys.path.append('../GOCAM_Project/dev')\n",
    "import os\n",
    "\n",
    "import utils\n",
    "import enrich\n",
    "pd.options.display.max_colwidth = 100"
   ]
  },
  {
   "cell_type": "markdown",
   "id": "married-booth",
   "metadata": {},
   "source": [
    "# Comparing Set and Fully Flattened Methods on the Cancer Dataset"
   ]
  },
  {
   "cell_type": "code",
   "execution_count": 2,
   "id": "6e1d16dd-b718-4224-b7c6-a12e2633d5e8",
   "metadata": {},
   "outputs": [],
   "source": [
    "def drop_threshold(filename, id_type, method, thresholds):\n",
    "    results = {}\n",
    "    for a in thresholds:\n",
    "        #r = set(enrich.enrich(genes, cancer_test_set, uniprot2input, gocam_sizes, Dict, alpha = a)[4].title.values)\n",
    "        r = set(enrich.enrich_wrapper(filename, id_type, method = method, alpha = a).title.values)\n",
    "        results[a]=r\n",
    "    return results\n",
    "    "
   ]
  },
  {
   "cell_type": "raw",
   "id": "f851ebfc-7172-4d96-a06a-500bd0883b3e",
   "metadata": {},
   "source": [
    "results = drop_threshold('../../Desktop/GOCAM/cancer.csv', 'Gene Symbol', 'set', [.05,.1,.15,.5])\n",
    "c_set_05 = results[.05]\n",
    "c_set_10 = results[.10]\n",
    "c_set_15 = results[.15]\n",
    "c_set_50 = results[.50]\n"
   ]
  },
  {
   "cell_type": "raw",
   "id": "5a1cfd15-6b2d-468f-bd3d-8a408be638f3",
   "metadata": {},
   "source": [
    "results = drop_threshold('../../Desktop/GOCAM/cancer.csv', 'Gene Symbol', 'standard', [.05,.1,.15,.5])\n",
    "\n",
    "c_ff_05 = results[.05]\n",
    "c_ff_10 = results[.10]\n",
    "c_ff_15 = results[.15]\n",
    "c_ff_50 = results[.50]"
   ]
  },
  {
   "cell_type": "markdown",
   "id": "genuine-handling",
   "metadata": {},
   "source": [
    "The next two cells evaluate the set differences between the results at alpha = .05 post-multiple testing correction from the set method (cancer) and the fully flattened method (cancer_ff). All significance levels below are post-FDR correction.\n",
    "\n",
    "First, we take the set difference of cancer and c_dif to obtain c_dif and vice versa to obtain c_ff_dif. Focusing on c_dif, we then ask if there is this set difference is created by some results being pushed just beyond the arbitrary threshold of .05 (ie from .04 to .06), which is practically not different. We generate cancer_ff_10, cancer_ff_15 and, cancer_ff_50 by rerunning enrichment with .10,.15, and .50 as significance cutoffs post-correction. We repeat the procedure of cancer-cancer_ff with cancer_ff_10,15,50 substituted for cancer_ff to see how far those highly significant results in the normal set method got pushed down the result list in the fully flattened method. The sequence of 8,7,5,5 means that the 5 results from set enrichment at .05 significance (post-correction) which are still not captured at .15 in the fully flattened metod are still not captured at .50. This suggests that set method of enrichment yields results that are completely missed by the fully flattened method. These 5 comprise a significant fraction of the 21 results yielded by the set method.\n",
    "\n",
    "Conversely, when repeating the above procedure for the set difference between the fully flattened method and the set method, the sequence is 25,21,17,9. For reference, there are 38 results at .05 significance. Comparing 8/21 and 25/38, we see an increased proportion of unique results in a head to head comparison at .05 significance. (Keep in mind that unique results are not necessarily a good thing overall because it means that the enrichment results are sensitive to the method of representation). However, there steady decrease in the sequence from 25 to 21, to 17, to 9, and both reach a proportion of 25% uniqueness.\n",
    "\n",
    "Regarding the uniqueness, this is largely produced by the increased gocam size (ie increasing from 13 to 122 genes is a huge penalty). To some extent, this can be mitigated by overcounting of sets, which I believe is responsible for the uniqueness of results from the fully flattened methods. However, there theoretically is another case in which the fully flattened method is superior due to the increased background size from ~4000 to ~5000 (many genes appear in gocams only in sets and this method allows them to contribute to the background when they wouldn't have done so in the set method). Consider a relatively large gocam with 15 genes and no sets (so the gocam size is 10 in both methods). Let's say that there is an overlap of 8 genes with the target set. With an decreased background size of 80% and naively using a binomial approximation of the solution, we have P(choose a gene to overlap from N)=N/M in the fully flattened method be 80% of the value for the set method. The complement probability P(not choosing a gene in N)=1-N/M is effectively unchanged because M>>N. Because we raise (N/M) and (1-N/M) to the power of k, we expect the ratio of  binomial probability via the two methods with different values for M to be (.80)^k. For larger k, the smaller background will be more significantly penalized. In the case of k=8, the ratio is .16, giving an advantage to the fully flattened method. This likely cannot account for more than a single order of magnitude difference in p value for the overwhelming majority of gocams, as they tend to be small in size, but it may become a concern if multiple gocams are linked together into larger models\n",
    "\n"
   ]
  },
  {
   "cell_type": "raw",
   "id": "b4b5ae62-bf3f-415a-b9d6-b201c69d718e",
   "metadata": {},
   "source": [
    "c_set_05-c_ff_05"
   ]
  },
  {
   "cell_type": "raw",
   "id": "1964e0a0-0890-4fac-aea0-d5b67460a5cb",
   "metadata": {},
   "source": [
    "c_ff_05-c_set_05"
   ]
  },
  {
   "cell_type": "raw",
   "id": "64d4b783-a11a-4f46-be6b-d80f9303fc09",
   "metadata": {},
   "source": [
    "len(c_set_05-c_ff_05),len(c_set_05-c_ff_10),len(c_set_05-c_ff_15),len(c_set_05-c_ff_50),len(c_set_05)"
   ]
  },
  {
   "cell_type": "raw",
   "id": "392464ae-b547-4b47-b09e-133cd85c36ae",
   "metadata": {},
   "source": [
    "len(c_ff_05 -c_set_05),len(c_ff_05- c_set_10),len(c_ff_05- c_set_15),len(c_ff_05- c_set_50),len(c_ff_05)"
   ]
  },
  {
   "cell_type": "markdown",
   "id": "sufficient-conservative",
   "metadata": {},
   "source": [
    "The next 3 cells investigate the relative and absolute changes in gocam size that result from the set method. On average, there is mean 22% reduction in gocam size, with a 75th percentile change of 40% and a 50th percentile change of 6%. Based on this, a significant proportion of models could greatly benefit from set representation."
   ]
  },
  {
   "cell_type": "code",
   "execution_count": 3,
   "id": "streaming-coalition",
   "metadata": {},
   "outputs": [
    {
     "data": {
      "text/html": [
       "<div>\n",
       "<style scoped>\n",
       "    .dataframe tbody tr th:only-of-type {\n",
       "        vertical-align: middle;\n",
       "    }\n",
       "\n",
       "    .dataframe tbody tr th {\n",
       "        vertical-align: top;\n",
       "    }\n",
       "\n",
       "    .dataframe thead th {\n",
       "        text-align: right;\n",
       "    }\n",
       "</style>\n",
       "<table border=\"1\" class=\"dataframe\">\n",
       "  <thead>\n",
       "    <tr style=\"text-align: right;\">\n",
       "      <th></th>\n",
       "      <th>gocam</th>\n",
       "      <th>sizes</th>\n",
       "      <th>sizes_ff</th>\n",
       "      <th>diff</th>\n",
       "    </tr>\n",
       "  </thead>\n",
       "  <tbody>\n",
       "    <tr>\n",
       "      <th>213</th>\n",
       "      <td>http://model.geneontology.org/R-HSA-4090294</td>\n",
       "      <td>12</td>\n",
       "      <td>9</td>\n",
       "      <td>-3</td>\n",
       "    </tr>\n",
       "    <tr>\n",
       "      <th>267</th>\n",
       "      <td>http://model.geneontology.org/R-HSA-3232118</td>\n",
       "      <td>10</td>\n",
       "      <td>9</td>\n",
       "      <td>-1</td>\n",
       "    </tr>\n",
       "    <tr>\n",
       "      <th>283</th>\n",
       "      <td>http://model.geneontology.org/R-HSA-3214858</td>\n",
       "      <td>10</td>\n",
       "      <td>9</td>\n",
       "      <td>-1</td>\n",
       "    </tr>\n",
       "    <tr>\n",
       "      <th>382</th>\n",
       "      <td>http://model.geneontology.org/R-HSA-69541</td>\n",
       "      <td>8</td>\n",
       "      <td>7</td>\n",
       "      <td>-1</td>\n",
       "    </tr>\n",
       "    <tr>\n",
       "      <th>446</th>\n",
       "      <td>http://model.geneontology.org/R-HSA-5649702</td>\n",
       "      <td>7</td>\n",
       "      <td>6</td>\n",
       "      <td>-1</td>\n",
       "    </tr>\n",
       "    <tr>\n",
       "      <th>492</th>\n",
       "      <td>http://model.geneontology.org/R-HSA-111465</td>\n",
       "      <td>6</td>\n",
       "      <td>5</td>\n",
       "      <td>-1</td>\n",
       "    </tr>\n",
       "    <tr>\n",
       "      <th>564</th>\n",
       "      <td>http://model.geneontology.org/R-HSA-9028731</td>\n",
       "      <td>5</td>\n",
       "      <td>4</td>\n",
       "      <td>-1</td>\n",
       "    </tr>\n",
       "    <tr>\n",
       "      <th>575</th>\n",
       "      <td>http://model.geneontology.org/R-HSA-9026527</td>\n",
       "      <td>5</td>\n",
       "      <td>4</td>\n",
       "      <td>-1</td>\n",
       "    </tr>\n",
       "    <tr>\n",
       "      <th>845</th>\n",
       "      <td>http://model.geneontology.org/R-HSA-2454202</td>\n",
       "      <td>3</td>\n",
       "      <td>2</td>\n",
       "      <td>-1</td>\n",
       "    </tr>\n",
       "  </tbody>\n",
       "</table>\n",
       "</div>"
      ],
      "text/plain": [
       "                                           gocam  sizes  sizes_ff  diff\n",
       "213  http://model.geneontology.org/R-HSA-4090294     12         9    -3\n",
       "267  http://model.geneontology.org/R-HSA-3232118     10         9    -1\n",
       "283  http://model.geneontology.org/R-HSA-3214858     10         9    -1\n",
       "382    http://model.geneontology.org/R-HSA-69541      8         7    -1\n",
       "446  http://model.geneontology.org/R-HSA-5649702      7         6    -1\n",
       "492   http://model.geneontology.org/R-HSA-111465      6         5    -1\n",
       "564  http://model.geneontology.org/R-HSA-9028731      5         4    -1\n",
       "575  http://model.geneontology.org/R-HSA-9026527      5         4    -1\n",
       "845  http://model.geneontology.org/R-HSA-2454202      3         2    -1"
      ]
     },
     "execution_count": 3,
     "metadata": {},
     "output_type": "execute_result"
    }
   ],
   "source": [
    "x1 = pd.read_csv('../data/gocam_sizes_mouse.csv')\n",
    "x2 = pd.read_csv('../data/gocam_sizes_mouse_ff.csv')\n",
    "d = pd.Series(x2.sizes.values,index=x2.gocam).to_dict()\n",
    "x1['sizes_ff'] = x1.gocam.apply(lambda x: d.get(x,'F'))\n",
    "x1 = x1.query('sizes_ff != \"F\"')\n",
    "x1['diff'] = x1['sizes_ff'] - x1['sizes']\n",
    "x1.query('diff < 0')\n"
   ]
  },
  {
   "cell_type": "code",
   "execution_count": 4,
   "id": "modified-waters",
   "metadata": {},
   "outputs": [
    {
     "data": {
      "text/plain": [
       "count    1211\n",
       "mean        5\n",
       "std        19\n",
       "min        -3\n",
       "25%         0\n",
       "50%         1\n",
       "75%         4\n",
       "max       255\n",
       "Name: diff, dtype: int64"
      ]
     },
     "execution_count": 4,
     "metadata": {},
     "output_type": "execute_result"
    }
   ],
   "source": [
    "#absolute difference\n",
    "s = x1['diff']\n",
    "s = pd.to_numeric(s)\n",
    "s.describe().apply(lambda x: int(x))"
   ]
  },
  {
   "cell_type": "code",
   "execution_count": 5,
   "id": "juvenile-humanity",
   "metadata": {},
   "outputs": [
    {
     "data": {
      "text/plain": [
       "count    1211\n",
       "mean      -20\n",
       "std        27\n",
       "min       -98\n",
       "25%       -40\n",
       "50%        -3\n",
       "75%         0\n",
       "max        50\n",
       "dtype: int64"
      ]
     },
     "execution_count": 5,
     "metadata": {},
     "output_type": "execute_result"
    }
   ],
   "source": [
    "#relative difference\n",
    "s1 = -x1['diff']/x1['sizes_ff']*100\n",
    "s1 = pd.to_numeric(s1)\n",
    "s1.describe().apply(lambda x: int(x))"
   ]
  },
  {
   "cell_type": "code",
   "execution_count": 6,
   "id": "shaped-effects",
   "metadata": {},
   "outputs": [],
   "source": [
    "#setID2members.get('sset:EPH-ephrin oligomers')"
   ]
  },
  {
   "cell_type": "markdown",
   "id": "vertical-laptop",
   "metadata": {},
   "source": [
    "# Repeating analysis across all datasets"
   ]
  },
  {
   "cell_type": "code",
   "execution_count": 7,
   "id": "9ca49c2d-cb4b-4682-a213-b85a02af69c6",
   "metadata": {},
   "outputs": [
    {
     "data": {
      "text/html": [
       "<style>\n",
       "        .bk-notebook-logo {\n",
       "            display: block;\n",
       "            width: 20px;\n",
       "            height: 20px;\n",
       "            background-image: url(data:image/png;base64,iVBORw0KGgoAAAANSUhEUgAAABQAAAAUCAYAAACNiR0NAAAABHNCSVQICAgIfAhkiAAAAAlwSFlzAAALEgAACxIB0t1+/AAAABx0RVh0U29mdHdhcmUAQWRvYmUgRmlyZXdvcmtzIENTNui8sowAAAOkSURBVDiNjZRtaJVlGMd/1/08zzln5zjP1LWcU9N0NkN8m2CYjpgQYQXqSs0I84OLIC0hkEKoPtiH3gmKoiJDU7QpLgoLjLIQCpEsNJ1vqUOdO7ppbuec5+V+rj4ctwzd8IIbbi6u+8f1539dt3A78eXC7QizUF7gyV1fD1Yqg4JWz84yffhm0qkFqBogB9rM8tZdtwVsPUhWhGcFJngGeWrPzHm5oaMmkfEg1usvLFyc8jLRqDOMru7AyC8saQr7GG7f5fvDeH7Ej8CM66nIF+8yngt6HWaKh7k49Soy9nXurCi1o3qUbS3zWfrYeQDTB/Qj6kX6Ybhw4B+bOYoLKCC9H3Nu/leUTZ1JdRWkkn2ldcCamzrcf47KKXdAJllSlxAOkRgyHsGC/zRday5Qld9DyoM4/q/rUoy/CXh3jzOu3bHUVZeU+DEn8FInkPBFlu3+nW3Nw0mk6vCDiWg8CeJaxEwuHS3+z5RgY+YBR6V1Z1nxSOfoaPa4LASWxxdNp+VWTk7+4vzaou8v8PN+xo+KY2xsw6une2frhw05CTYOmQvsEhjhWjn0bmXPjpE1+kplmmkP3suftwTubK9Vq22qKmrBhpY4jvd5afdRA3wGjFAgcnTK2s4hY0/GPNIb0nErGMCRxWOOX64Z8RAC4oCXdklmEvcL8o0BfkNK4lUg9HTl+oPlQxdNo3Mg4Nv175e/1LDGzZen30MEjRUtmXSfiTVu1kK8W4txyV6BMKlbgk3lMwYCiusNy9fVfvvwMxv8Ynl6vxoByANLTWplvuj/nF9m2+PDtt1eiHPBr1oIfhCChQMBw6Aw0UulqTKZdfVvfG7VcfIqLG9bcldL/+pdWTLxLUy8Qq38heUIjh4XlzZxzQm19lLFlr8vdQ97rjZVOLf8nclzckbcD4wxXMidpX30sFd37Fv/GtwwhzhxGVAprjbg0gCAEeIgwCZyTV2Z1REEW8O4py0wsjeloKoMr6iCY6dP92H6Vw/oTyICIthibxjm/DfN9lVz8IqtqKYLUXfoKVMVQVVJOElGjrnnUt9T9wbgp8AyYKaGlqingHZU/uG2NTZSVqwHQTWkx9hxjkpWDaCg6Ckj5qebgBVbT3V3NNXMSiWSDdGV3hrtzla7J+duwPOToIg42ChPQOQjspnSlp1V+Gjdged7+8UN5CRAV7a5EdFNwCjEaBR27b3W890TE7g24NAP/mMDXRWrGoFPQI9ls/MWO2dWFAar/xcOIImbbpA3zgAAAABJRU5ErkJggg==);\n",
       "        }\n",
       "    </style>\n",
       "    <div>\n",
       "        <a href=\"https://bokeh.org\" target=\"_blank\" class=\"bk-notebook-logo\"></a>\n",
       "        <span id=\"p1001\">Loading BokehJS ...</span>\n",
       "    </div>\n"
      ]
     },
     "metadata": {},
     "output_type": "display_data"
    },
    {
     "data": {
      "application/javascript": [
       "(function(root) {\n",
       "  function now() {\n",
       "    return new Date();\n",
       "  }\n",
       "\n",
       "  const force = true;\n",
       "\n",
       "  if (typeof root._bokeh_onload_callbacks === \"undefined\" || force === true) {\n",
       "    root._bokeh_onload_callbacks = [];\n",
       "    root._bokeh_is_loading = undefined;\n",
       "  }\n",
       "\n",
       "const JS_MIME_TYPE = 'application/javascript';\n",
       "  const HTML_MIME_TYPE = 'text/html';\n",
       "  const EXEC_MIME_TYPE = 'application/vnd.bokehjs_exec.v0+json';\n",
       "  const CLASS_NAME = 'output_bokeh rendered_html';\n",
       "\n",
       "  /**\n",
       "   * Render data to the DOM node\n",
       "   */\n",
       "  function render(props, node) {\n",
       "    const script = document.createElement(\"script\");\n",
       "    node.appendChild(script);\n",
       "  }\n",
       "\n",
       "  /**\n",
       "   * Handle when an output is cleared or removed\n",
       "   */\n",
       "  function handleClearOutput(event, handle) {\n",
       "    const cell = handle.cell;\n",
       "\n",
       "    const id = cell.output_area._bokeh_element_id;\n",
       "    const server_id = cell.output_area._bokeh_server_id;\n",
       "    // Clean up Bokeh references\n",
       "    if (id != null && id in Bokeh.index) {\n",
       "      Bokeh.index[id].model.document.clear();\n",
       "      delete Bokeh.index[id];\n",
       "    }\n",
       "\n",
       "    if (server_id !== undefined) {\n",
       "      // Clean up Bokeh references\n",
       "      const cmd_clean = \"from bokeh.io.state import curstate; print(curstate().uuid_to_server['\" + server_id + \"'].get_sessions()[0].document.roots[0]._id)\";\n",
       "      cell.notebook.kernel.execute(cmd_clean, {\n",
       "        iopub: {\n",
       "          output: function(msg) {\n",
       "            const id = msg.content.text.trim();\n",
       "            if (id in Bokeh.index) {\n",
       "              Bokeh.index[id].model.document.clear();\n",
       "              delete Bokeh.index[id];\n",
       "            }\n",
       "          }\n",
       "        }\n",
       "      });\n",
       "      // Destroy server and session\n",
       "      const cmd_destroy = \"import bokeh.io.notebook as ion; ion.destroy_server('\" + server_id + \"')\";\n",
       "      cell.notebook.kernel.execute(cmd_destroy);\n",
       "    }\n",
       "  }\n",
       "\n",
       "  /**\n",
       "   * Handle when a new output is added\n",
       "   */\n",
       "  function handleAddOutput(event, handle) {\n",
       "    const output_area = handle.output_area;\n",
       "    const output = handle.output;\n",
       "\n",
       "    // limit handleAddOutput to display_data with EXEC_MIME_TYPE content only\n",
       "    if ((output.output_type != \"display_data\") || (!Object.prototype.hasOwnProperty.call(output.data, EXEC_MIME_TYPE))) {\n",
       "      return\n",
       "    }\n",
       "\n",
       "    const toinsert = output_area.element.find(\".\" + CLASS_NAME.split(' ')[0]);\n",
       "\n",
       "    if (output.metadata[EXEC_MIME_TYPE][\"id\"] !== undefined) {\n",
       "      toinsert[toinsert.length - 1].firstChild.textContent = output.data[JS_MIME_TYPE];\n",
       "      // store reference to embed id on output_area\n",
       "      output_area._bokeh_element_id = output.metadata[EXEC_MIME_TYPE][\"id\"];\n",
       "    }\n",
       "    if (output.metadata[EXEC_MIME_TYPE][\"server_id\"] !== undefined) {\n",
       "      const bk_div = document.createElement(\"div\");\n",
       "      bk_div.innerHTML = output.data[HTML_MIME_TYPE];\n",
       "      const script_attrs = bk_div.children[0].attributes;\n",
       "      for (let i = 0; i < script_attrs.length; i++) {\n",
       "        toinsert[toinsert.length - 1].firstChild.setAttribute(script_attrs[i].name, script_attrs[i].value);\n",
       "        toinsert[toinsert.length - 1].firstChild.textContent = bk_div.children[0].textContent\n",
       "      }\n",
       "      // store reference to server id on output_area\n",
       "      output_area._bokeh_server_id = output.metadata[EXEC_MIME_TYPE][\"server_id\"];\n",
       "    }\n",
       "  }\n",
       "\n",
       "  function register_renderer(events, OutputArea) {\n",
       "\n",
       "    function append_mime(data, metadata, element) {\n",
       "      // create a DOM node to render to\n",
       "      const toinsert = this.create_output_subarea(\n",
       "        metadata,\n",
       "        CLASS_NAME,\n",
       "        EXEC_MIME_TYPE\n",
       "      );\n",
       "      this.keyboard_manager.register_events(toinsert);\n",
       "      // Render to node\n",
       "      const props = {data: data, metadata: metadata[EXEC_MIME_TYPE]};\n",
       "      render(props, toinsert[toinsert.length - 1]);\n",
       "      element.append(toinsert);\n",
       "      return toinsert\n",
       "    }\n",
       "\n",
       "    /* Handle when an output is cleared or removed */\n",
       "    events.on('clear_output.CodeCell', handleClearOutput);\n",
       "    events.on('delete.Cell', handleClearOutput);\n",
       "\n",
       "    /* Handle when a new output is added */\n",
       "    events.on('output_added.OutputArea', handleAddOutput);\n",
       "\n",
       "    /**\n",
       "     * Register the mime type and append_mime function with output_area\n",
       "     */\n",
       "    OutputArea.prototype.register_mime_type(EXEC_MIME_TYPE, append_mime, {\n",
       "      /* Is output safe? */\n",
       "      safe: true,\n",
       "      /* Index of renderer in `output_area.display_order` */\n",
       "      index: 0\n",
       "    });\n",
       "  }\n",
       "\n",
       "  // register the mime type if in Jupyter Notebook environment and previously unregistered\n",
       "  if (root.Jupyter !== undefined) {\n",
       "    const events = require('base/js/events');\n",
       "    const OutputArea = require('notebook/js/outputarea').OutputArea;\n",
       "\n",
       "    if (OutputArea.prototype.mime_types().indexOf(EXEC_MIME_TYPE) == -1) {\n",
       "      register_renderer(events, OutputArea);\n",
       "    }\n",
       "  }\n",
       "  if (typeof (root._bokeh_timeout) === \"undefined\" || force === true) {\n",
       "    root._bokeh_timeout = Date.now() + 5000;\n",
       "    root._bokeh_failed_load = false;\n",
       "  }\n",
       "\n",
       "  const NB_LOAD_WARNING = {'data': {'text/html':\n",
       "     \"<div style='background-color: #fdd'>\\n\"+\n",
       "     \"<p>\\n\"+\n",
       "     \"BokehJS does not appear to have successfully loaded. If loading BokehJS from CDN, this \\n\"+\n",
       "     \"may be due to a slow or bad network connection. Possible fixes:\\n\"+\n",
       "     \"</p>\\n\"+\n",
       "     \"<ul>\\n\"+\n",
       "     \"<li>re-rerun `output_notebook()` to attempt to load from CDN again, or</li>\\n\"+\n",
       "     \"<li>use INLINE resources instead, as so:</li>\\n\"+\n",
       "     \"</ul>\\n\"+\n",
       "     \"<code>\\n\"+\n",
       "     \"from bokeh.resources import INLINE\\n\"+\n",
       "     \"output_notebook(resources=INLINE)\\n\"+\n",
       "     \"</code>\\n\"+\n",
       "     \"</div>\"}};\n",
       "\n",
       "  function display_loaded() {\n",
       "    const el = document.getElementById(\"p1001\");\n",
       "    if (el != null) {\n",
       "      el.textContent = \"BokehJS is loading...\";\n",
       "    }\n",
       "    if (root.Bokeh !== undefined) {\n",
       "      if (el != null) {\n",
       "        el.textContent = \"BokehJS \" + root.Bokeh.version + \" successfully loaded.\";\n",
       "      }\n",
       "    } else if (Date.now() < root._bokeh_timeout) {\n",
       "      setTimeout(display_loaded, 100)\n",
       "    }\n",
       "  }\n",
       "\n",
       "  function run_callbacks() {\n",
       "    try {\n",
       "      root._bokeh_onload_callbacks.forEach(function(callback) {\n",
       "        if (callback != null)\n",
       "          callback();\n",
       "      });\n",
       "    } finally {\n",
       "      delete root._bokeh_onload_callbacks\n",
       "    }\n",
       "    console.debug(\"Bokeh: all callbacks have finished\");\n",
       "  }\n",
       "\n",
       "  function load_libs(css_urls, js_urls, callback) {\n",
       "    if (css_urls == null) css_urls = [];\n",
       "    if (js_urls == null) js_urls = [];\n",
       "\n",
       "    root._bokeh_onload_callbacks.push(callback);\n",
       "    if (root._bokeh_is_loading > 0) {\n",
       "      console.debug(\"Bokeh: BokehJS is being loaded, scheduling callback at\", now());\n",
       "      return null;\n",
       "    }\n",
       "    if (js_urls == null || js_urls.length === 0) {\n",
       "      run_callbacks();\n",
       "      return null;\n",
       "    }\n",
       "    console.debug(\"Bokeh: BokehJS not loaded, scheduling load and callback at\", now());\n",
       "    root._bokeh_is_loading = css_urls.length + js_urls.length;\n",
       "\n",
       "    function on_load() {\n",
       "      root._bokeh_is_loading--;\n",
       "      if (root._bokeh_is_loading === 0) {\n",
       "        console.debug(\"Bokeh: all BokehJS libraries/stylesheets loaded\");\n",
       "        run_callbacks()\n",
       "      }\n",
       "    }\n",
       "\n",
       "    function on_error(url) {\n",
       "      console.error(\"failed to load \" + url);\n",
       "    }\n",
       "\n",
       "    for (let i = 0; i < css_urls.length; i++) {\n",
       "      const url = css_urls[i];\n",
       "      const element = document.createElement(\"link\");\n",
       "      element.onload = on_load;\n",
       "      element.onerror = on_error.bind(null, url);\n",
       "      element.rel = \"stylesheet\";\n",
       "      element.type = \"text/css\";\n",
       "      element.href = url;\n",
       "      console.debug(\"Bokeh: injecting link tag for BokehJS stylesheet: \", url);\n",
       "      document.body.appendChild(element);\n",
       "    }\n",
       "\n",
       "    for (let i = 0; i < js_urls.length; i++) {\n",
       "      const url = js_urls[i];\n",
       "      const element = document.createElement('script');\n",
       "      element.onload = on_load;\n",
       "      element.onerror = on_error.bind(null, url);\n",
       "      element.async = false;\n",
       "      element.src = url;\n",
       "      console.debug(\"Bokeh: injecting script tag for BokehJS library: \", url);\n",
       "      document.head.appendChild(element);\n",
       "    }\n",
       "  };\n",
       "\n",
       "  function inject_raw_css(css) {\n",
       "    const element = document.createElement(\"style\");\n",
       "    element.appendChild(document.createTextNode(css));\n",
       "    document.body.appendChild(element);\n",
       "  }\n",
       "\n",
       "  const js_urls = [\"https://cdn.bokeh.org/bokeh/release/bokeh-3.0.3.min.js\", \"https://cdn.bokeh.org/bokeh/release/bokeh-gl-3.0.3.min.js\", \"https://cdn.bokeh.org/bokeh/release/bokeh-widgets-3.0.3.min.js\", \"https://cdn.bokeh.org/bokeh/release/bokeh-tables-3.0.3.min.js\", \"https://cdn.bokeh.org/bokeh/release/bokeh-mathjax-3.0.3.min.js\"];\n",
       "  const css_urls = [];\n",
       "\n",
       "  const inline_js = [    function(Bokeh) {\n",
       "      Bokeh.set_log_level(\"info\");\n",
       "    },\n",
       "function(Bokeh) {\n",
       "    }\n",
       "  ];\n",
       "\n",
       "  function run_inline_js() {\n",
       "    if (root.Bokeh !== undefined || force === true) {\n",
       "          for (let i = 0; i < inline_js.length; i++) {\n",
       "      inline_js[i].call(root, root.Bokeh);\n",
       "    }\n",
       "if (force === true) {\n",
       "        display_loaded();\n",
       "      }} else if (Date.now() < root._bokeh_timeout) {\n",
       "      setTimeout(run_inline_js, 100);\n",
       "    } else if (!root._bokeh_failed_load) {\n",
       "      console.log(\"Bokeh: BokehJS failed to load within specified timeout.\");\n",
       "      root._bokeh_failed_load = true;\n",
       "    } else if (force !== true) {\n",
       "      const cell = $(document.getElementById(\"p1001\")).parents('.cell').data().cell;\n",
       "      cell.output_area.append_execute_result(NB_LOAD_WARNING)\n",
       "    }\n",
       "  }\n",
       "\n",
       "  if (root._bokeh_is_loading === 0) {\n",
       "    console.debug(\"Bokeh: BokehJS loaded, going straight to plotting\");\n",
       "    run_inline_js();\n",
       "  } else {\n",
       "    load_libs(css_urls, js_urls, function() {\n",
       "      console.debug(\"Bokeh: BokehJS plotting callback run at\", now());\n",
       "      run_inline_js();\n",
       "    });\n",
       "  }\n",
       "}(window));"
      ],
      "application/vnd.bokehjs_load.v0+json": "(function(root) {\n  function now() {\n    return new Date();\n  }\n\n  const force = true;\n\n  if (typeof root._bokeh_onload_callbacks === \"undefined\" || force === true) {\n    root._bokeh_onload_callbacks = [];\n    root._bokeh_is_loading = undefined;\n  }\n\n\n  if (typeof (root._bokeh_timeout) === \"undefined\" || force === true) {\n    root._bokeh_timeout = Date.now() + 5000;\n    root._bokeh_failed_load = false;\n  }\n\n  const NB_LOAD_WARNING = {'data': {'text/html':\n     \"<div style='background-color: #fdd'>\\n\"+\n     \"<p>\\n\"+\n     \"BokehJS does not appear to have successfully loaded. If loading BokehJS from CDN, this \\n\"+\n     \"may be due to a slow or bad network connection. Possible fixes:\\n\"+\n     \"</p>\\n\"+\n     \"<ul>\\n\"+\n     \"<li>re-rerun `output_notebook()` to attempt to load from CDN again, or</li>\\n\"+\n     \"<li>use INLINE resources instead, as so:</li>\\n\"+\n     \"</ul>\\n\"+\n     \"<code>\\n\"+\n     \"from bokeh.resources import INLINE\\n\"+\n     \"output_notebook(resources=INLINE)\\n\"+\n     \"</code>\\n\"+\n     \"</div>\"}};\n\n  function display_loaded() {\n    const el = document.getElementById(\"p1001\");\n    if (el != null) {\n      el.textContent = \"BokehJS is loading...\";\n    }\n    if (root.Bokeh !== undefined) {\n      if (el != null) {\n        el.textContent = \"BokehJS \" + root.Bokeh.version + \" successfully loaded.\";\n      }\n    } else if (Date.now() < root._bokeh_timeout) {\n      setTimeout(display_loaded, 100)\n    }\n  }\n\n  function run_callbacks() {\n    try {\n      root._bokeh_onload_callbacks.forEach(function(callback) {\n        if (callback != null)\n          callback();\n      });\n    } finally {\n      delete root._bokeh_onload_callbacks\n    }\n    console.debug(\"Bokeh: all callbacks have finished\");\n  }\n\n  function load_libs(css_urls, js_urls, callback) {\n    if (css_urls == null) css_urls = [];\n    if (js_urls == null) js_urls = [];\n\n    root._bokeh_onload_callbacks.push(callback);\n    if (root._bokeh_is_loading > 0) {\n      console.debug(\"Bokeh: BokehJS is being loaded, scheduling callback at\", now());\n      return null;\n    }\n    if (js_urls == null || js_urls.length === 0) {\n      run_callbacks();\n      return null;\n    }\n    console.debug(\"Bokeh: BokehJS not loaded, scheduling load and callback at\", now());\n    root._bokeh_is_loading = css_urls.length + js_urls.length;\n\n    function on_load() {\n      root._bokeh_is_loading--;\n      if (root._bokeh_is_loading === 0) {\n        console.debug(\"Bokeh: all BokehJS libraries/stylesheets loaded\");\n        run_callbacks()\n      }\n    }\n\n    function on_error(url) {\n      console.error(\"failed to load \" + url);\n    }\n\n    for (let i = 0; i < css_urls.length; i++) {\n      const url = css_urls[i];\n      const element = document.createElement(\"link\");\n      element.onload = on_load;\n      element.onerror = on_error.bind(null, url);\n      element.rel = \"stylesheet\";\n      element.type = \"text/css\";\n      element.href = url;\n      console.debug(\"Bokeh: injecting link tag for BokehJS stylesheet: \", url);\n      document.body.appendChild(element);\n    }\n\n    for (let i = 0; i < js_urls.length; i++) {\n      const url = js_urls[i];\n      const element = document.createElement('script');\n      element.onload = on_load;\n      element.onerror = on_error.bind(null, url);\n      element.async = false;\n      element.src = url;\n      console.debug(\"Bokeh: injecting script tag for BokehJS library: \", url);\n      document.head.appendChild(element);\n    }\n  };\n\n  function inject_raw_css(css) {\n    const element = document.createElement(\"style\");\n    element.appendChild(document.createTextNode(css));\n    document.body.appendChild(element);\n  }\n\n  const js_urls = [\"https://cdn.bokeh.org/bokeh/release/bokeh-3.0.3.min.js\", \"https://cdn.bokeh.org/bokeh/release/bokeh-gl-3.0.3.min.js\", \"https://cdn.bokeh.org/bokeh/release/bokeh-widgets-3.0.3.min.js\", \"https://cdn.bokeh.org/bokeh/release/bokeh-tables-3.0.3.min.js\", \"https://cdn.bokeh.org/bokeh/release/bokeh-mathjax-3.0.3.min.js\"];\n  const css_urls = [];\n\n  const inline_js = [    function(Bokeh) {\n      Bokeh.set_log_level(\"info\");\n    },\nfunction(Bokeh) {\n    }\n  ];\n\n  function run_inline_js() {\n    if (root.Bokeh !== undefined || force === true) {\n          for (let i = 0; i < inline_js.length; i++) {\n      inline_js[i].call(root, root.Bokeh);\n    }\nif (force === true) {\n        display_loaded();\n      }} else if (Date.now() < root._bokeh_timeout) {\n      setTimeout(run_inline_js, 100);\n    } else if (!root._bokeh_failed_load) {\n      console.log(\"Bokeh: BokehJS failed to load within specified timeout.\");\n      root._bokeh_failed_load = true;\n    } else if (force !== true) {\n      const cell = $(document.getElementById(\"p1001\")).parents('.cell').data().cell;\n      cell.output_area.append_execute_result(NB_LOAD_WARNING)\n    }\n  }\n\n  if (root._bokeh_is_loading === 0) {\n    console.debug(\"Bokeh: BokehJS loaded, going straight to plotting\");\n    run_inline_js();\n  } else {\n    load_libs(css_urls, js_urls, function() {\n      console.debug(\"Bokeh: BokehJS plotting callback run at\", now());\n      run_inline_js();\n    });\n  }\n}(window));"
     },
     "metadata": {},
     "output_type": "display_data"
    }
   ],
   "source": [
    "import bokeh.io\n",
    "import bokeh.plotting\n",
    "\n",
    "bokeh.io.output_notebook()"
   ]
  },
  {
   "cell_type": "raw",
   "id": "18b5ea06-95cd-4844-8332-c378745c7943",
   "metadata": {},
   "source": [
    "path = '../../Desktop/GOCAM/'\n",
    "datasets = {'cancer.csv':'Gene Symbol','gastric_cancer.csv':'ENSEMBL ID',\n",
    "            'bladder_cancer.csv':'ENSEMBL ID','parkinson.csv':'Gene Symbol',\n",
    "            'P97.csv':'uniprot',}\n",
    "results_combined_s_ff = []\n",
    "results_combined_s_nc = []\n",
    "results_combined_ff_s = []\n",
    "results_combined_ff_nc = []\n",
    "results_combined_nc_s = []\n",
    "results_combined_nc_ff = []\n",
    "\n",
    "results_combined_sim_ff = []\n",
    "results_combined_sim_nc = []\n",
    "results_combined_sim_s = []\n",
    "alphas = [.05,.1,.15,.2,.3,.4,.5]\n",
    "for dataset, symbol_type in datasets.items():\n",
    "    filename = os.path.join(path,dataset)\n",
    "    \n",
    "    results_s = drop_threshold(filename, symbol_type, 'set', alphas)\n",
    "    results_ff = drop_threshold(filename, symbol_type, 'standard', alphas)\n",
    "    results_nc = drop_threshold(filename, symbol_type, 'ncHGT', alphas)\n",
    "    \n",
    "    s_ff = []\n",
    "    s_nc = []\n",
    "    s_05 = results_s[.05]\n",
    "    s_05_len = len(s_05)\n",
    "    if s_05_len == 0:\n",
    "        s_05_len = 1 #to prevent division of 0 / 0\n",
    "    \n",
    "    ff_s = []\n",
    "    ff_nc = []\n",
    "    ff_05 = results_ff[.05]\n",
    "    ff_05_len = len(ff_05)\n",
    "    if ff_05_len == 0:\n",
    "        ff_05_len = 1 #to prevent division of 0 / 0\n",
    "    \n",
    "    nc_s = []\n",
    "    nc_ff = []\n",
    "    nc_05 = results_nc[.05]\n",
    "    nc_05_len = len(nc_05)\n",
    "    if nc_05_len == 0:\n",
    "        nc_05_len = 1 #to prevent division of 0 / 0\n",
    "        \n",
    "    for a in alphas:\n",
    "        s_ff.append(len(s_05-results_ff[a])/s_05_len*100)\n",
    "        ff_s.append(len(ff_05-results_s[a])/ff_05_len*100)\n",
    "        s_nc.append(len(s_05-results_nc[a])/s_05_len*100)\n",
    "        ff_nc.append(len(ff_05-results_nc[a])/ff_05_len*100)\n",
    "        nc_ff.append(len(nc_05-results_ff[a])/nc_05_len*100)\n",
    "        nc_s.append(len(nc_05-results_s[a])/nc_05_len*100)\n",
    "        \n",
    "    s_ff.append(len(s_05))\n",
    "    s_nc.append(len(s_05))\n",
    "    ff_s.append(len(ff_05))\n",
    "    ff_nc.append(len(ff_05))\n",
    "    nc_s.append(len(nc_05))\n",
    "    nc_ff.append(len(nc_05))\n",
    "  \n",
    "    results_combined_s_ff.append(s_ff)\n",
    "    results_combined_s_nc.append(s_nc)\n",
    "    results_combined_ff_s.append(ff_s)\n",
    "    results_combined_ff_nc.append(ff_nc)\n",
    "    results_combined_nc_s.append(nc_s)\n",
    "    results_combined_nc_ff.append(nc_ff)\n",
    "        "
   ]
  },
  {
   "cell_type": "code",
   "execution_count": 8,
   "id": "b5b9bebf-158f-4e4b-8616-ee6ef7862a8f",
   "metadata": {},
   "outputs": [],
   "source": [
    "def make_plot(method,complement_method,datasets,colors,results,alphas):\n",
    "    p = bokeh.plotting.figure(\n",
    "    title=f\"{method} Method at FDR=.05 vs {complement_method} Method\",\n",
    "    frame_height=400,\n",
    "    frame_width=400,\n",
    "    x_range=[0, 0.55],\n",
    "    y_range=[-5, 110],\n",
    "    y_axis_label = f'% unique results vs {complement_method} method',\n",
    "    x_axis_label = f'alpha for {complement_method} method'\n",
    "    )\n",
    "    x = alphas\n",
    "    d = list(datasets.keys())\n",
    "    for i in range(len(d)):\n",
    "        vals = results[i][:-1]\n",
    "        c = colors[i]\n",
    "        if i == 0:\n",
    "            label = d[i][:-4]+', total = '+str(results[i][-1])\n",
    "        else:\n",
    "            label = d[i][:-4]+', '+str(results[i][-1])\n",
    "        p.line(x,vals,legend_label = label,color = c,line_width = 2)\n",
    "        p.circle(x,vals,legend_label = label,color = c,size = 4)\n",
    "    p.xaxis.ticker=x\n",
    "    p.grid.visible = False\n",
    "    p.legend.location = 'right'\n",
    "    return p\n"
   ]
  },
  {
   "cell_type": "raw",
   "id": "3480a069-7b1e-4888-a0fa-10b48d75c6ab",
   "metadata": {},
   "source": [
    "colors = ['orange','crimson','red','salmon','purple']\n",
    "p1 = make_plot('Step','Standard',datasets,colors,results_combined_s_ff,alphas)\n",
    "p2 = make_plot('Standard (gene list)','Step',datasets,colors,results_combined_ff_s,alphas)\n",
    "p3 = make_plot('Step',\"Fisher's ncHGT (weighted step)\",datasets,colors,results_combined_s_nc,alphas)\n",
    "p4 = make_plot('Standard (gene list)',\"Fisher's ncHGT (weighted step)\",datasets,colors,results_combined_ff_nc,alphas)\n",
    "p5 = make_plot(\"Fisher's ncHGT (weighted step)\",'Step',datasets,colors,results_combined_nc_s,alphas)\n",
    "p6 = make_plot(\"Fisher's ncHGT (weighted step)\",'Standard (gene list)',datasets,colors,results_combined_nc_ff,alphas)\n",
    "\n",
    "g = bokeh.layouts.grid([[p1,p2],[p3,p5],[p4,p6]])\n",
    "bokeh.io.show(g)"
   ]
  },
  {
   "cell_type": "raw",
   "id": "606fc5c9-2cae-44d4-b8ea-03f8891cfecc",
   "metadata": {},
   "source": [
    "bokeh.io.export_png(g,filename='../figures/bokehplot.png')"
   ]
  },
  {
   "cell_type": "markdown",
   "id": "smart-above",
   "metadata": {},
   "source": [
    "# Examining PI3K/AKT signaling in the P97 dataset"
   ]
  },
  {
   "cell_type": "code",
   "execution_count": 9,
   "id": "banned-strap",
   "metadata": {
    "scrolled": true
   },
   "outputs": [
    {
     "data": {
      "text/html": [
       "<div>\n",
       "<style scoped>\n",
       "    .dataframe tbody tr th:only-of-type {\n",
       "        vertical-align: middle;\n",
       "    }\n",
       "\n",
       "    .dataframe tbody tr th {\n",
       "        vertical-align: top;\n",
       "    }\n",
       "\n",
       "    .dataframe thead th {\n",
       "        text-align: right;\n",
       "    }\n",
       "</style>\n",
       "<table border=\"1\" class=\"dataframe\">\n",
       "  <thead>\n",
       "    <tr style=\"text-align: right;\">\n",
       "      <th></th>\n",
       "      <th>title</th>\n",
       "      <th>pval (uncorrected)</th>\n",
       "      <th># genes in list</th>\n",
       "      <th>#genes in gocam</th>\n",
       "      <th>shared gene products in gocam</th>\n",
       "      <th>url</th>\n",
       "    </tr>\n",
       "  </thead>\n",
       "  <tbody>\n",
       "    <tr>\n",
       "      <th>0</th>\n",
       "      <td>PI5P, PP2A and IER3 Regulate PI3K/AKT Signaling - Reactome</td>\n",
       "      <td>0.000002</td>\n",
       "      <td>8</td>\n",
       "      <td>13</td>\n",
       "      <td>[sset:PI4K2A/2B, sset:PP2A-subunit A, sset:PP2A-catalytic subunit C, sset:Activated SRC,LCK,EGFR...</td>\n",
       "      <td>http://model.geneontology.org/R-HSA-6811558</td>\n",
       "    </tr>\n",
       "    <tr>\n",
       "      <th>1</th>\n",
       "      <td>Unwinding of DNA - Reactome</td>\n",
       "      <td>0.000002</td>\n",
       "      <td>6</td>\n",
       "      <td>7</td>\n",
       "      <td>[P25205, Q14566, P33991, P49736, P33993, P33992]</td>\n",
       "      <td>http://model.geneontology.org/R-HSA-176974</td>\n",
       "    </tr>\n",
       "  </tbody>\n",
       "</table>\n",
       "</div>"
      ],
      "text/plain": [
       "                                                        title  \\\n",
       "0  PI5P, PP2A and IER3 Regulate PI3K/AKT Signaling - Reactome   \n",
       "1                                 Unwinding of DNA - Reactome   \n",
       "\n",
       "   pval (uncorrected)  # genes in list  #genes in gocam  \\\n",
       "0            0.000002                8               13   \n",
       "1            0.000002                6                7   \n",
       "\n",
       "                                                                         shared gene products in gocam  \\\n",
       "0  [sset:PI4K2A/2B, sset:PP2A-subunit A, sset:PP2A-catalytic subunit C, sset:Activated SRC,LCK,EGFR...   \n",
       "1                                                     [P25205, Q14566, P33991, P49736, P33993, P33992]   \n",
       "\n",
       "                                           url  \n",
       "0  http://model.geneontology.org/R-HSA-6811558  \n",
       "1   http://model.geneontology.org/R-HSA-176974  "
      ]
     },
     "execution_count": 9,
     "metadata": {},
     "output_type": "execute_result"
    }
   ],
   "source": [
    "gene_list = pd.read_csv('../../Desktop/GOCAM/P97.csv',header=None,names = ['g'])\n",
    "P97_test_set = gene_list.g\n",
    "uniprot2input = pd.Series(P97_test_set.values,index=P97_test_set).to_dict()\n",
    "x = pd.read_csv('../data/gocam_sizes_mouse.csv')\n",
    "gocam_sizes = pd.Series(x.sizes.values,index=x.gocam)\n",
    "Dict = utils.csv2dict('../data/ID2gocam_mouse.csv')\n",
    "filtered_out_genes, filtered_list, setID2members_input_uni, setID2members_input, df_display= enrich.enrich(list(gene_list.g), P97_test_set, uniprot2input, gocam_sizes, Dict,alpha = .05)\n",
    "df_display#[df_display.title.apply(lambda x: 'Hedgehog' in x)]"
   ]
  },
  {
   "cell_type": "code",
   "execution_count": 10,
   "id": "potential-receiver",
   "metadata": {},
   "outputs": [
    {
     "data": {
      "text/plain": [
       "(766, 338, 496)"
      ]
     },
     "execution_count": 10,
     "metadata": {},
     "output_type": "execute_result"
    }
   ],
   "source": [
    "len(gene_list.g),len(filtered_list),len(filtered_out_genes)"
   ]
  },
  {
   "cell_type": "code",
   "execution_count": 11,
   "id": "binary-burns",
   "metadata": {},
   "outputs": [
    {
     "data": {
      "text/plain": [
       "(0.26731596576293415, 2.085287471112948e-06)"
      ]
     },
     "execution_count": 11,
     "metadata": {},
     "output_type": "execute_result"
    }
   ],
   "source": [
    "#hypergeom.sf(count-1, background_gene_list_size,  gocam_size, gene_list_size)\n",
    "hypergeom.sf(8-1, 5386,  122, 270),hypergeom.sf(8-1, 4008,  13, 338)"
   ]
  },
  {
   "cell_type": "markdown",
   "id": "danish-break",
   "metadata": {},
   "source": [
    "# HGT is sensitive to relatively small parameter changes"
   ]
  },
  {
   "cell_type": "markdown",
   "id": "preliminary-seeker",
   "metadata": {},
   "source": [
    "Comparing enrichment of 'SCF(Skp2)-mediated degradation of p27/p21 - Reactome' in the P97 dataset in the fully flattened and set models:"
   ]
  },
  {
   "cell_type": "code",
   "execution_count": 12,
   "id": "seasonal-farming",
   "metadata": {},
   "outputs": [
    {
     "data": {
      "text/plain": [
       "(8.116740023880341e-07, 0.0003898627483818345)"
      ]
     },
     "execution_count": 12,
     "metadata": {},
     "output_type": "execute_result"
    }
   ],
   "source": [
    "#hypergeom.sf(count-1, background_gene_list_size,  gocam_size, gene_list_size)\n",
    "hypergeom.sf(13-1, 5386,  51, 270),hypergeom.sf(12-1, 4008,  50, 318)"
   ]
  },
  {
   "cell_type": "markdown",
   "id": "diagnostic-small",
   "metadata": {},
   "source": [
    "Effect of gene list size (change from 270 to 318 is due to addition of sets - removal of genes that only occur in sets)"
   ]
  },
  {
   "cell_type": "code",
   "execution_count": 13,
   "id": "radical-grain",
   "metadata": {},
   "outputs": [
    {
     "data": {
      "text/plain": [
       "(8.116740023880341e-07, 8.212821239277402e-05)"
      ]
     },
     "execution_count": 13,
     "metadata": {},
     "output_type": "execute_result"
    }
   ],
   "source": [
    "#hypergeom.sf(count-1, background_gene_list_size,  gocam_size, gene_list_size)\n",
    "hypergeom.sf(13-1, 5386,  51, 270),hypergeom.sf(12-1, 4008,  50, 270)"
   ]
  },
  {
   "cell_type": "markdown",
   "id": "following-notification",
   "metadata": {},
   "source": [
    "Effect of background gene list size (analogous to above)"
   ]
  },
  {
   "cell_type": "code",
   "execution_count": 14,
   "id": "bored-queens",
   "metadata": {},
   "outputs": [
    {
     "data": {
      "text/plain": [
       "(8.116740023880341e-07, 4.332611973728076e-06)"
      ]
     },
     "execution_count": 14,
     "metadata": {},
     "output_type": "execute_result"
    }
   ],
   "source": [
    "#hypergeom.sf(count-1, background_gene_list_size,  gocam_size, gene_list_size)\n",
    "hypergeom.sf(13-1, 5386,  51, 270),hypergeom.sf(12-1, 5386,  50, 270)"
   ]
  },
  {
   "cell_type": "markdown",
   "id": "jewish-admission",
   "metadata": {},
   "source": [
    "# Examining the Effect of Background Size\n",
    "\n",
    "Background size refers to the number of entities across all models, and when the blue curve is below the orange, the result is \"automatically\" significant by itself at rank 5 or higher (higher being closer to 1), meaning its significance does not depend on the p-values of the rest of the results (see below). \n",
    "\n",
    "Caption and parameters: Blue = uncorrected p-value, orange = Benjamini-Hochberg critical value for rank 5 ( from multiple testing correction).\n",
    "Alpha=.05. The number of GO CAMs (for multiple testing correction) is calculated as background gene list size / average gocam size, which I arbitrarily set equal to 5. I assume that the background list of genes increases due to the addition of more models, which increases the number of tests being done. Thus, the BH critical value is not constant and decreases with background size."
   ]
  },
  {
   "cell_type": "code",
   "execution_count": 15,
   "id": "convinced-hanging",
   "metadata": {},
   "outputs": [],
   "source": [
    "import numpy as np"
   ]
  },
  {
   "cell_type": "raw",
   "id": "2a81bdc5-43bc-4b5b-8ee0-b5776828a747",
   "metadata": {},
   "source": [
    "background_gene_list_size = np.linspace(500,5000,1000)\n",
    "average_gocam_size = 5\n",
    "total_gocam_sizes = background_gene_list_size*(1/average_gocam_size)\n",
    "alpha = .05\n",
    "rank = 5\n",
    "crit_vals = 1/background_gene_list_size*alpha*rank*average_gocam_size\n",
    "count_percent = [.3,.5,.7]\n",
    "gocam_size = [3,6,9]\n",
    "gene_list_size = 100\n",
    "fig, axs = plt.subplots(3, 3,figsize=(12,12))\n",
    "fig.suptitle('Effects of background and GO CAM size on HGT enrichment',fontsize=20)\n",
    "#txt=\"\"\"Blue = uncorrected p-value, orange = benjamini-hochberg critical value for rank 5 (multiple hypothesis correction). \\n\n",
    "#Alpha=.05 for multiple testing correction. The number of gocams is calculated as background gene list size / average gocam size, which is 5.\"\"\"\n",
    "#plt.figtext(0.5, 0, txt,  horizontalalignment='center', fontsize=14)\n",
    "for i in range(0,3):\n",
    "    for j in range(0,3):\n",
    "        pvals=[]\n",
    "        for x in background_gene_list_size:\n",
    "            num = int(count_percent[i]*gocam_size[j])\n",
    "            pvals.append(hypergeom.sf(num-1, x,  gocam_size[j], gene_list_size))\n",
    "        axs[i,j].scatter(background_gene_list_size,pvals,s=5, label = 'p-value')\n",
    "        axs[i,j].scatter(background_gene_list_size,crit_vals, s=5,label = 'BH value')\n",
    "        axs[i,j].set_title(str(num)+' of '+str(gocam_size[j])+ ' genes')\n",
    "        if i==2 and j==2: axs[i,j].legend(fontsize='x-large')\n",
    "        #axs[i,j].axhline(y=(alpha))\n",
    "        if i == 1:\n",
    "            axs[i,j].set_ylim([-0.005, 0.01])\n",
    "        if i == 2:\n",
    "            axs[i,j].set_ylim([-.005, 0.01])\n",
    "for ax in axs.flat:\n",
    "    ax.set(xlabel='background size', ylabel='p value')\n",
    "# Hide x labels and tick labels for top plots and y ticks for right plots.\n",
    "for ax in axs.flat:\n",
    "    ax.label_outer()\n",
    "fig.tight_layout()\n",
    "fig.patch.set_facecolor('xkcd:white')\n",
    "plt.savefig('../../Desktop/Effect_list_sizes',dpi=300)"
   ]
  },
  {
   "cell_type": "code",
   "execution_count": 17,
   "id": "synthetic-replacement",
   "metadata": {},
   "outputs": [],
   "source": [
    "def get_pval(k,gc,gc_array,size):\n",
    "    pval = np.sum(gc_array.get(gc)[k:])/size\n",
    "    return pval"
   ]
  },
  {
   "cell_type": "code",
   "execution_count": 46,
   "id": "39de3c8a-02ef-43cf-9a40-8e928d33053b",
   "metadata": {},
   "outputs": [],
   "source": [
    "gc_array = utils.csv2dict('sim_results__151x100000.csv')\n",
    "temp = {}\n",
    "for k,v in gc_array.items():\n",
    "    vals = np.array([int(_[:-2]) for _ in v]) #int won't accept a string with a decimal place\n",
    "    temp[k] = vals\n",
    "gc_array = temp\n",
    "df_nc = enrich.enrich_wrapper('cancer.csv','Gene Symbol',method='ncHGT',show_significant=False)"
   ]
  },
  {
   "cell_type": "code",
   "execution_count": 47,
   "id": "b9e5bd58-e6e1-4eb6-bffb-6349cd5087a9",
   "metadata": {},
   "outputs": [],
   "source": [
    "def drop_thresh_sim(thresholds):\n",
    "    setID2members = utils.csv2dict('../data/setID2members.csv')\n",
    "    gocam2ID = utils.csv2dict('../data/gocam2ID_mouse.csv')\n",
    "    id2g_ff = utils.csv2dict('../data/ID2gocam_mouse_ff.csv')\n",
    "    Dict = utils.csv2dict('../data/ID2gocam_mouse.csv')\n",
    "\n",
    "    size = 100000\n",
    "    \n",
    "    results = {}\n",
    "    for a in thresholds:\n",
    "        alpha = a\n",
    "        show_significant = True\n",
    "        background_num_gocams = len(gocam2ID)\n",
    "        df_sim = df_nc.copy()\n",
    "        df_sim['pval (uncorrected)']=df_sim.apply(lambda x: get_pval(x['# genes in list'], x['url'],gc_array,size), axis =1)\n",
    "\n",
    "        df_sim.sort_values('pval (uncorrected)',inplace=True)\n",
    "        df_sim.reset_index(drop=True, inplace=True)\n",
    "        df_sim['FDR_val'] = (df_sim.index+1)*alpha/background_num_gocams\n",
    "        df_sim['Less_than'] = (df_sim['pval (uncorrected)'] < df_sim['FDR_val'])\n",
    "        index = df_sim.Less_than.where(df_sim.Less_than==True).last_valid_index()\n",
    "        df_significant = df_sim\n",
    "        if (show_significant):\n",
    "            df_significant = df_sim.loc[0:index].copy()\n",
    "            if index == None:\n",
    "                df_significant = pd.DataFrame(columns =['title', 'pval (uncorrected)', '# genes in list','#genes in gocam','shared gene products in gocam','url'])\n",
    "        df_sim = df_significant[['title','pval (uncorrected)', '# genes in list', '#genes in gocam','shared gene products in gocam','url']].copy()\n",
    "        r = set(df_sim.title.values)\n",
    "        results[a]=r\n",
    "    return results"
   ]
  },
  {
   "cell_type": "code",
   "execution_count": 55,
   "id": "6f51eb1e-2171-4f49-9116-48fa4bcebb07",
   "metadata": {},
   "outputs": [],
   "source": [
    "path = '../../Desktop/GOCAM/'\n",
    "datasets = {'cancer.csv':'Gene Symbol'}\n",
    "\n",
    "results_combined_ff_sim = []\n",
    "results_combined_nc_sim = []\n",
    "\n",
    "results_combined_sim_ff = []\n",
    "results_combined_sim_nc = []\n",
    "alphas = [.05,.1,.15,.2,.3,.4,.5]\n",
    "for dataset, symbol_type in datasets.items():\n",
    "    filename = os.path.join(path,dataset)\n",
    "    \n",
    "    results_s = drop_thresh_sim(alphas)\n",
    "    results_ff = drop_threshold(filename, symbol_type, 'standard', alphas)\n",
    "    results_nc = drop_threshold(filename, symbol_type, 'ncHGT', alphas)\n",
    "    \n",
    "    s_ff = []\n",
    "    s_nc = []\n",
    "    s_05 = results_s[.05]\n",
    "    s_05_len = len(s_05)\n",
    "    if s_05_len == 0:\n",
    "        s_05_len = 1 #to prevent division of 0 / 0\n",
    "    \n",
    "    ff_s = []\n",
    "    ff_nc = []\n",
    "    ff_05 = results_ff[.05]\n",
    "    ff_05_len = len(ff_05)\n",
    "    if ff_05_len == 0:\n",
    "        ff_05_len = 1 #to prevent division of 0 / 0\n",
    "    \n",
    "    nc_s = []\n",
    "    nc_ff = []\n",
    "    nc_05 = results_nc[.05]\n",
    "    nc_05_len = len(nc_05)\n",
    "    if nc_05_len == 0:\n",
    "        nc_05_len = 1 #to prevent division of 0 / 0\n",
    "        \n",
    "    for a in alphas:\n",
    "        s_ff.append(len(s_05-results_ff[a])/s_05_len*100)\n",
    "        ff_s.append(len(ff_05-results_s[a])/ff_05_len*100)\n",
    "        s_nc.append(len(s_05-results_nc[a])/s_05_len*100)\n",
    "        ff_nc.append(len(ff_05-results_nc[a])/ff_05_len*100)\n",
    "        nc_ff.append(len(nc_05-results_ff[a])/nc_05_len*100)\n",
    "        nc_s.append(len(nc_05-results_s[a])/nc_05_len*100)\n",
    "        \n",
    "    s_ff.append(len(s_05))\n",
    "    s_nc.append(len(s_05))\n",
    "    ff_s.append(len(ff_05))\n",
    "    ff_nc.append(len(ff_05))\n",
    "    nc_s.append(len(nc_05))\n",
    "    nc_ff.append(len(nc_05))\n",
    "  \n",
    "    results_combined_sim_ff.append(s_ff)\n",
    "    results_combined_sim_nc.append(s_nc)\n",
    "    results_combined_ff_sim.append(ff_s)\n",
    "    results_combined_nc_sim.append(nc_s)\n",
    "        "
   ]
  },
  {
   "cell_type": "code",
   "execution_count": 56,
   "id": "f30fe8dc-d998-4214-b052-5588050dd643",
   "metadata": {},
   "outputs": [
    {
     "data": {
      "text/html": [
       "\n",
       "  <div id=\"d66820d4-5995-47ed-aae8-1ab074b5e965\" data-root-id=\"p6187\" style=\"display: contents;\"></div>\n"
      ]
     },
     "metadata": {},
     "output_type": "display_data"
    },
    {
     "data": {
      "application/javascript": [
       "(function(root) {\n",
       "  function embed_document(root) {\n",
       "  const docs_json = {\"f0780b4f-2a03-4e6c-8767-523bd3036b2a\":{\"version\":\"3.0.3\",\"title\":\"Bokeh Application\",\"defs\":[],\"roots\":[{\"type\":\"object\",\"name\":\"GridBox\",\"id\":\"p6187\",\"attributes\":{\"children\":[[{\"type\":\"object\",\"name\":\"Figure\",\"id\":\"p5787\",\"attributes\":{\"x_range\":{\"type\":\"object\",\"name\":\"Range1d\",\"id\":\"p5797\",\"attributes\":{\"end\":0.55}},\"y_range\":{\"type\":\"object\",\"name\":\"Range1d\",\"id\":\"p5799\",\"attributes\":{\"start\":-5,\"end\":110}},\"x_scale\":{\"type\":\"object\",\"name\":\"LinearScale\",\"id\":\"p5801\"},\"y_scale\":{\"type\":\"object\",\"name\":\"LinearScale\",\"id\":\"p5803\"},\"title\":{\"type\":\"object\",\"name\":\"Title\",\"id\":\"p5790\",\"attributes\":{\"text\":\"Sim Method at FDR=.05 vs Standard Method\"}},\"renderers\":[{\"type\":\"object\",\"name\":\"GlyphRenderer\",\"id\":\"p5840\",\"attributes\":{\"data_source\":{\"type\":\"object\",\"name\":\"ColumnDataSource\",\"id\":\"p5834\",\"attributes\":{\"selected\":{\"type\":\"object\",\"name\":\"Selection\",\"id\":\"p5835\",\"attributes\":{\"indices\":[],\"line_indices\":[]}},\"selection_policy\":{\"type\":\"object\",\"name\":\"UnionRenderers\",\"id\":\"p5836\"},\"data\":{\"type\":\"map\",\"entries\":[[\"x\",[0.05,0.1,0.15,0.2,0.3,0.4,0.5]],[\"y\",[4.545454545454546,4.545454545454546,4.545454545454546,4.545454545454546,4.545454545454546,4.545454545454546,4.545454545454546]]]}}},\"view\":{\"type\":\"object\",\"name\":\"CDSView\",\"id\":\"p5841\",\"attributes\":{\"filter\":{\"type\":\"object\",\"name\":\"AllIndices\",\"id\":\"p5842\"}}},\"glyph\":{\"type\":\"object\",\"name\":\"Line\",\"id\":\"p5837\",\"attributes\":{\"x\":{\"type\":\"field\",\"field\":\"x\"},\"y\":{\"type\":\"field\",\"field\":\"y\"},\"line_color\":\"orange\",\"line_width\":2}},\"nonselection_glyph\":{\"type\":\"object\",\"name\":\"Line\",\"id\":\"p5838\",\"attributes\":{\"x\":{\"type\":\"field\",\"field\":\"x\"},\"y\":{\"type\":\"field\",\"field\":\"y\"},\"line_color\":\"orange\",\"line_alpha\":0.1,\"line_width\":2}},\"muted_glyph\":{\"type\":\"object\",\"name\":\"Line\",\"id\":\"p5839\",\"attributes\":{\"x\":{\"type\":\"field\",\"field\":\"x\"},\"y\":{\"type\":\"field\",\"field\":\"y\"},\"line_color\":\"orange\",\"line_alpha\":0.2,\"line_width\":2}}}},{\"type\":\"object\",\"name\":\"GlyphRenderer\",\"id\":\"p5864\",\"attributes\":{\"data_source\":{\"type\":\"object\",\"name\":\"ColumnDataSource\",\"id\":\"p5858\",\"attributes\":{\"selected\":{\"type\":\"object\",\"name\":\"Selection\",\"id\":\"p5859\",\"attributes\":{\"indices\":[],\"line_indices\":[]}},\"selection_policy\":{\"type\":\"object\",\"name\":\"UnionRenderers\",\"id\":\"p5860\"},\"data\":{\"type\":\"map\",\"entries\":[[\"x\",[0.05,0.1,0.15,0.2,0.3,0.4,0.5]],[\"y\",[4.545454545454546,4.545454545454546,4.545454545454546,4.545454545454546,4.545454545454546,4.545454545454546,4.545454545454546]]]}}},\"view\":{\"type\":\"object\",\"name\":\"CDSView\",\"id\":\"p5865\",\"attributes\":{\"filter\":{\"type\":\"object\",\"name\":\"AllIndices\",\"id\":\"p5866\"}}},\"glyph\":{\"type\":\"object\",\"name\":\"Circle\",\"id\":\"p5861\",\"attributes\":{\"x\":{\"type\":\"field\",\"field\":\"x\"},\"y\":{\"type\":\"field\",\"field\":\"y\"},\"line_color\":{\"type\":\"value\",\"value\":\"orange\"},\"fill_color\":{\"type\":\"value\",\"value\":\"orange\"},\"hatch_color\":{\"type\":\"value\",\"value\":\"orange\"}}},\"nonselection_glyph\":{\"type\":\"object\",\"name\":\"Circle\",\"id\":\"p5862\",\"attributes\":{\"x\":{\"type\":\"field\",\"field\":\"x\"},\"y\":{\"type\":\"field\",\"field\":\"y\"},\"line_color\":{\"type\":\"value\",\"value\":\"orange\"},\"line_alpha\":{\"type\":\"value\",\"value\":0.1},\"fill_color\":{\"type\":\"value\",\"value\":\"orange\"},\"fill_alpha\":{\"type\":\"value\",\"value\":0.1},\"hatch_color\":{\"type\":\"value\",\"value\":\"orange\"},\"hatch_alpha\":{\"type\":\"value\",\"value\":0.1}}},\"muted_glyph\":{\"type\":\"object\",\"name\":\"Circle\",\"id\":\"p5863\",\"attributes\":{\"x\":{\"type\":\"field\",\"field\":\"x\"},\"y\":{\"type\":\"field\",\"field\":\"y\"},\"line_color\":{\"type\":\"value\",\"value\":\"orange\"},\"line_alpha\":{\"type\":\"value\",\"value\":0.2},\"fill_color\":{\"type\":\"value\",\"value\":\"orange\"},\"fill_alpha\":{\"type\":\"value\",\"value\":0.2},\"hatch_color\":{\"type\":\"value\",\"value\":\"orange\"},\"hatch_alpha\":{\"type\":\"value\",\"value\":0.2}}}}}],\"toolbar\":{\"type\":\"object\",\"name\":\"Toolbar\",\"id\":\"p5795\",\"attributes\":{\"tools\":[{\"type\":\"object\",\"name\":\"PanTool\",\"id\":\"p5819\"},{\"type\":\"object\",\"name\":\"WheelZoomTool\",\"id\":\"p5820\"},{\"type\":\"object\",\"name\":\"BoxZoomTool\",\"id\":\"p5821\",\"attributes\":{\"overlay\":{\"type\":\"object\",\"name\":\"BoxAnnotation\",\"id\":\"p5822\",\"attributes\":{\"syncable\":false,\"level\":\"overlay\",\"visible\":false,\"left_units\":\"canvas\",\"right_units\":\"canvas\",\"bottom_units\":\"canvas\",\"top_units\":\"canvas\",\"line_color\":\"black\",\"line_alpha\":1.0,\"line_width\":2,\"line_dash\":[4,4],\"fill_color\":\"lightgrey\",\"fill_alpha\":0.5}}}},{\"type\":\"object\",\"name\":\"SaveTool\",\"id\":\"p5823\"},{\"type\":\"object\",\"name\":\"ResetTool\",\"id\":\"p5824\"},{\"type\":\"object\",\"name\":\"HelpTool\",\"id\":\"p5825\"}]}},\"left\":[{\"type\":\"object\",\"name\":\"LinearAxis\",\"id\":\"p5812\",\"attributes\":{\"ticker\":{\"type\":\"object\",\"name\":\"BasicTicker\",\"id\":\"p5813\",\"attributes\":{\"mantissas\":[1,2,5]}},\"formatter\":{\"type\":\"object\",\"name\":\"BasicTickFormatter\",\"id\":\"p5814\"},\"axis_label\":\"% unique results vs Standard method\",\"major_label_policy\":{\"type\":\"object\",\"name\":\"AllLabels\",\"id\":\"p5815\"}}}],\"below\":[{\"type\":\"object\",\"name\":\"LinearAxis\",\"id\":\"p5805\",\"attributes\":{\"ticker\":{\"type\":\"object\",\"name\":\"FixedTicker\",\"id\":\"p5885\",\"attributes\":{\"ticks\":[0.05,0.1,0.15,0.2,0.3,0.4,0.5],\"minor_ticks\":[]}},\"formatter\":{\"type\":\"object\",\"name\":\"BasicTickFormatter\",\"id\":\"p5807\"},\"axis_label\":\"alpha for Standard method\",\"major_label_policy\":{\"type\":\"object\",\"name\":\"AllLabels\",\"id\":\"p5808\"}}}],\"center\":[{\"type\":\"object\",\"name\":\"Grid\",\"id\":\"p5811\",\"attributes\":{\"visible\":false,\"axis\":{\"id\":\"p5805\"}}},{\"type\":\"object\",\"name\":\"Grid\",\"id\":\"p5818\",\"attributes\":{\"visible\":false,\"dimension\":1,\"axis\":{\"id\":\"p5812\"}}},{\"type\":\"object\",\"name\":\"Legend\",\"id\":\"p5856\",\"attributes\":{\"location\":\"right\",\"items\":[{\"type\":\"object\",\"name\":\"LegendItem\",\"id\":\"p5857\",\"attributes\":{\"label\":{\"type\":\"value\",\"value\":\"cancer, total = 22\"},\"renderers\":[{\"id\":\"p5840\"},{\"id\":\"p5864\"}]}}]}}],\"frame_width\":400,\"frame_height\":400}},0,0,1,1],[{\"type\":\"object\",\"name\":\"Figure\",\"id\":\"p5887\",\"attributes\":{\"x_range\":{\"type\":\"object\",\"name\":\"Range1d\",\"id\":\"p5897\",\"attributes\":{\"end\":0.55}},\"y_range\":{\"type\":\"object\",\"name\":\"Range1d\",\"id\":\"p5899\",\"attributes\":{\"start\":-5,\"end\":110}},\"x_scale\":{\"type\":\"object\",\"name\":\"LinearScale\",\"id\":\"p5901\"},\"y_scale\":{\"type\":\"object\",\"name\":\"LinearScale\",\"id\":\"p5903\"},\"title\":{\"type\":\"object\",\"name\":\"Title\",\"id\":\"p5890\",\"attributes\":{\"text\":\"Standard (gene list) Method at FDR=.05 vs Sim Method\"}},\"renderers\":[{\"type\":\"object\",\"name\":\"GlyphRenderer\",\"id\":\"p5940\",\"attributes\":{\"data_source\":{\"type\":\"object\",\"name\":\"ColumnDataSource\",\"id\":\"p5934\",\"attributes\":{\"selected\":{\"type\":\"object\",\"name\":\"Selection\",\"id\":\"p5935\",\"attributes\":{\"indices\":[],\"line_indices\":[]}},\"selection_policy\":{\"type\":\"object\",\"name\":\"UnionRenderers\",\"id\":\"p5936\"},\"data\":{\"type\":\"map\",\"entries\":[[\"x\",[0.05,0.1,0.15,0.2,0.3,0.4,0.5]],[\"y\",[51.162790697674424,39.53488372093023,39.53488372093023,34.883720930232556,30.23255813953488,25.581395348837212,25.581395348837212]]]}}},\"view\":{\"type\":\"object\",\"name\":\"CDSView\",\"id\":\"p5941\",\"attributes\":{\"filter\":{\"type\":\"object\",\"name\":\"AllIndices\",\"id\":\"p5942\"}}},\"glyph\":{\"type\":\"object\",\"name\":\"Line\",\"id\":\"p5937\",\"attributes\":{\"x\":{\"type\":\"field\",\"field\":\"x\"},\"y\":{\"type\":\"field\",\"field\":\"y\"},\"line_color\":\"orange\",\"line_width\":2}},\"nonselection_glyph\":{\"type\":\"object\",\"name\":\"Line\",\"id\":\"p5938\",\"attributes\":{\"x\":{\"type\":\"field\",\"field\":\"x\"},\"y\":{\"type\":\"field\",\"field\":\"y\"},\"line_color\":\"orange\",\"line_alpha\":0.1,\"line_width\":2}},\"muted_glyph\":{\"type\":\"object\",\"name\":\"Line\",\"id\":\"p5939\",\"attributes\":{\"x\":{\"type\":\"field\",\"field\":\"x\"},\"y\":{\"type\":\"field\",\"field\":\"y\"},\"line_color\":\"orange\",\"line_alpha\":0.2,\"line_width\":2}}}},{\"type\":\"object\",\"name\":\"GlyphRenderer\",\"id\":\"p5964\",\"attributes\":{\"data_source\":{\"type\":\"object\",\"name\":\"ColumnDataSource\",\"id\":\"p5958\",\"attributes\":{\"selected\":{\"type\":\"object\",\"name\":\"Selection\",\"id\":\"p5959\",\"attributes\":{\"indices\":[],\"line_indices\":[]}},\"selection_policy\":{\"type\":\"object\",\"name\":\"UnionRenderers\",\"id\":\"p5960\"},\"data\":{\"type\":\"map\",\"entries\":[[\"x\",[0.05,0.1,0.15,0.2,0.3,0.4,0.5]],[\"y\",[51.162790697674424,39.53488372093023,39.53488372093023,34.883720930232556,30.23255813953488,25.581395348837212,25.581395348837212]]]}}},\"view\":{\"type\":\"object\",\"name\":\"CDSView\",\"id\":\"p5965\",\"attributes\":{\"filter\":{\"type\":\"object\",\"name\":\"AllIndices\",\"id\":\"p5966\"}}},\"glyph\":{\"type\":\"object\",\"name\":\"Circle\",\"id\":\"p5961\",\"attributes\":{\"x\":{\"type\":\"field\",\"field\":\"x\"},\"y\":{\"type\":\"field\",\"field\":\"y\"},\"line_color\":{\"type\":\"value\",\"value\":\"orange\"},\"fill_color\":{\"type\":\"value\",\"value\":\"orange\"},\"hatch_color\":{\"type\":\"value\",\"value\":\"orange\"}}},\"nonselection_glyph\":{\"type\":\"object\",\"name\":\"Circle\",\"id\":\"p5962\",\"attributes\":{\"x\":{\"type\":\"field\",\"field\":\"x\"},\"y\":{\"type\":\"field\",\"field\":\"y\"},\"line_color\":{\"type\":\"value\",\"value\":\"orange\"},\"line_alpha\":{\"type\":\"value\",\"value\":0.1},\"fill_color\":{\"type\":\"value\",\"value\":\"orange\"},\"fill_alpha\":{\"type\":\"value\",\"value\":0.1},\"hatch_color\":{\"type\":\"value\",\"value\":\"orange\"},\"hatch_alpha\":{\"type\":\"value\",\"value\":0.1}}},\"muted_glyph\":{\"type\":\"object\",\"name\":\"Circle\",\"id\":\"p5963\",\"attributes\":{\"x\":{\"type\":\"field\",\"field\":\"x\"},\"y\":{\"type\":\"field\",\"field\":\"y\"},\"line_color\":{\"type\":\"value\",\"value\":\"orange\"},\"line_alpha\":{\"type\":\"value\",\"value\":0.2},\"fill_color\":{\"type\":\"value\",\"value\":\"orange\"},\"fill_alpha\":{\"type\":\"value\",\"value\":0.2},\"hatch_color\":{\"type\":\"value\",\"value\":\"orange\"},\"hatch_alpha\":{\"type\":\"value\",\"value\":0.2}}}}}],\"toolbar\":{\"type\":\"object\",\"name\":\"Toolbar\",\"id\":\"p5895\",\"attributes\":{\"tools\":[{\"type\":\"object\",\"name\":\"PanTool\",\"id\":\"p5919\"},{\"type\":\"object\",\"name\":\"WheelZoomTool\",\"id\":\"p5920\"},{\"type\":\"object\",\"name\":\"BoxZoomTool\",\"id\":\"p5921\",\"attributes\":{\"overlay\":{\"type\":\"object\",\"name\":\"BoxAnnotation\",\"id\":\"p5922\",\"attributes\":{\"syncable\":false,\"level\":\"overlay\",\"visible\":false,\"left_units\":\"canvas\",\"right_units\":\"canvas\",\"bottom_units\":\"canvas\",\"top_units\":\"canvas\",\"line_color\":\"black\",\"line_alpha\":1.0,\"line_width\":2,\"line_dash\":[4,4],\"fill_color\":\"lightgrey\",\"fill_alpha\":0.5}}}},{\"type\":\"object\",\"name\":\"SaveTool\",\"id\":\"p5923\"},{\"type\":\"object\",\"name\":\"ResetTool\",\"id\":\"p5924\"},{\"type\":\"object\",\"name\":\"HelpTool\",\"id\":\"p5925\"}]}},\"left\":[{\"type\":\"object\",\"name\":\"LinearAxis\",\"id\":\"p5912\",\"attributes\":{\"ticker\":{\"type\":\"object\",\"name\":\"BasicTicker\",\"id\":\"p5913\",\"attributes\":{\"mantissas\":[1,2,5]}},\"formatter\":{\"type\":\"object\",\"name\":\"BasicTickFormatter\",\"id\":\"p5914\"},\"axis_label\":\"% unique results vs Sim method\",\"major_label_policy\":{\"type\":\"object\",\"name\":\"AllLabels\",\"id\":\"p5915\"}}}],\"below\":[{\"type\":\"object\",\"name\":\"LinearAxis\",\"id\":\"p5905\",\"attributes\":{\"ticker\":{\"type\":\"object\",\"name\":\"FixedTicker\",\"id\":\"p5985\",\"attributes\":{\"ticks\":[0.05,0.1,0.15,0.2,0.3,0.4,0.5],\"minor_ticks\":[]}},\"formatter\":{\"type\":\"object\",\"name\":\"BasicTickFormatter\",\"id\":\"p5907\"},\"axis_label\":\"alpha for Sim method\",\"major_label_policy\":{\"type\":\"object\",\"name\":\"AllLabels\",\"id\":\"p5908\"}}}],\"center\":[{\"type\":\"object\",\"name\":\"Grid\",\"id\":\"p5911\",\"attributes\":{\"visible\":false,\"axis\":{\"id\":\"p5905\"}}},{\"type\":\"object\",\"name\":\"Grid\",\"id\":\"p5918\",\"attributes\":{\"visible\":false,\"dimension\":1,\"axis\":{\"id\":\"p5912\"}}},{\"type\":\"object\",\"name\":\"Legend\",\"id\":\"p5956\",\"attributes\":{\"location\":\"right\",\"items\":[{\"type\":\"object\",\"name\":\"LegendItem\",\"id\":\"p5957\",\"attributes\":{\"label\":{\"type\":\"value\",\"value\":\"cancer, total = 43\"},\"renderers\":[{\"id\":\"p5940\"},{\"id\":\"p5964\"}]}}]}}],\"frame_width\":400,\"frame_height\":400}},0,1,1,1],[{\"type\":\"object\",\"name\":\"Figure\",\"id\":\"p5987\",\"attributes\":{\"x_range\":{\"type\":\"object\",\"name\":\"Range1d\",\"id\":\"p5997\",\"attributes\":{\"end\":0.55}},\"y_range\":{\"type\":\"object\",\"name\":\"Range1d\",\"id\":\"p5999\",\"attributes\":{\"start\":-5,\"end\":110}},\"x_scale\":{\"type\":\"object\",\"name\":\"LinearScale\",\"id\":\"p6001\"},\"y_scale\":{\"type\":\"object\",\"name\":\"LinearScale\",\"id\":\"p6003\"},\"title\":{\"type\":\"object\",\"name\":\"Title\",\"id\":\"p5990\",\"attributes\":{\"text\":\"Sim Method at FDR=.05 vs Fisher's ncHGT (weighted step) Method\"}},\"renderers\":[{\"type\":\"object\",\"name\":\"GlyphRenderer\",\"id\":\"p6040\",\"attributes\":{\"data_source\":{\"type\":\"object\",\"name\":\"ColumnDataSource\",\"id\":\"p6034\",\"attributes\":{\"selected\":{\"type\":\"object\",\"name\":\"Selection\",\"id\":\"p6035\",\"attributes\":{\"indices\":[],\"line_indices\":[]}},\"selection_policy\":{\"type\":\"object\",\"name\":\"UnionRenderers\",\"id\":\"p6036\"},\"data\":{\"type\":\"map\",\"entries\":[[\"x\",[0.05,0.1,0.15,0.2,0.3,0.4,0.5]],[\"y\",[9.090909090909092,0.0,0.0,0.0,0.0,0.0,0.0]]]}}},\"view\":{\"type\":\"object\",\"name\":\"CDSView\",\"id\":\"p6041\",\"attributes\":{\"filter\":{\"type\":\"object\",\"name\":\"AllIndices\",\"id\":\"p6042\"}}},\"glyph\":{\"type\":\"object\",\"name\":\"Line\",\"id\":\"p6037\",\"attributes\":{\"x\":{\"type\":\"field\",\"field\":\"x\"},\"y\":{\"type\":\"field\",\"field\":\"y\"},\"line_color\":\"orange\",\"line_width\":2}},\"nonselection_glyph\":{\"type\":\"object\",\"name\":\"Line\",\"id\":\"p6038\",\"attributes\":{\"x\":{\"type\":\"field\",\"field\":\"x\"},\"y\":{\"type\":\"field\",\"field\":\"y\"},\"line_color\":\"orange\",\"line_alpha\":0.1,\"line_width\":2}},\"muted_glyph\":{\"type\":\"object\",\"name\":\"Line\",\"id\":\"p6039\",\"attributes\":{\"x\":{\"type\":\"field\",\"field\":\"x\"},\"y\":{\"type\":\"field\",\"field\":\"y\"},\"line_color\":\"orange\",\"line_alpha\":0.2,\"line_width\":2}}}},{\"type\":\"object\",\"name\":\"GlyphRenderer\",\"id\":\"p6064\",\"attributes\":{\"data_source\":{\"type\":\"object\",\"name\":\"ColumnDataSource\",\"id\":\"p6058\",\"attributes\":{\"selected\":{\"type\":\"object\",\"name\":\"Selection\",\"id\":\"p6059\",\"attributes\":{\"indices\":[],\"line_indices\":[]}},\"selection_policy\":{\"type\":\"object\",\"name\":\"UnionRenderers\",\"id\":\"p6060\"},\"data\":{\"type\":\"map\",\"entries\":[[\"x\",[0.05,0.1,0.15,0.2,0.3,0.4,0.5]],[\"y\",[9.090909090909092,0.0,0.0,0.0,0.0,0.0,0.0]]]}}},\"view\":{\"type\":\"object\",\"name\":\"CDSView\",\"id\":\"p6065\",\"attributes\":{\"filter\":{\"type\":\"object\",\"name\":\"AllIndices\",\"id\":\"p6066\"}}},\"glyph\":{\"type\":\"object\",\"name\":\"Circle\",\"id\":\"p6061\",\"attributes\":{\"x\":{\"type\":\"field\",\"field\":\"x\"},\"y\":{\"type\":\"field\",\"field\":\"y\"},\"line_color\":{\"type\":\"value\",\"value\":\"orange\"},\"fill_color\":{\"type\":\"value\",\"value\":\"orange\"},\"hatch_color\":{\"type\":\"value\",\"value\":\"orange\"}}},\"nonselection_glyph\":{\"type\":\"object\",\"name\":\"Circle\",\"id\":\"p6062\",\"attributes\":{\"x\":{\"type\":\"field\",\"field\":\"x\"},\"y\":{\"type\":\"field\",\"field\":\"y\"},\"line_color\":{\"type\":\"value\",\"value\":\"orange\"},\"line_alpha\":{\"type\":\"value\",\"value\":0.1},\"fill_color\":{\"type\":\"value\",\"value\":\"orange\"},\"fill_alpha\":{\"type\":\"value\",\"value\":0.1},\"hatch_color\":{\"type\":\"value\",\"value\":\"orange\"},\"hatch_alpha\":{\"type\":\"value\",\"value\":0.1}}},\"muted_glyph\":{\"type\":\"object\",\"name\":\"Circle\",\"id\":\"p6063\",\"attributes\":{\"x\":{\"type\":\"field\",\"field\":\"x\"},\"y\":{\"type\":\"field\",\"field\":\"y\"},\"line_color\":{\"type\":\"value\",\"value\":\"orange\"},\"line_alpha\":{\"type\":\"value\",\"value\":0.2},\"fill_color\":{\"type\":\"value\",\"value\":\"orange\"},\"fill_alpha\":{\"type\":\"value\",\"value\":0.2},\"hatch_color\":{\"type\":\"value\",\"value\":\"orange\"},\"hatch_alpha\":{\"type\":\"value\",\"value\":0.2}}}}}],\"toolbar\":{\"type\":\"object\",\"name\":\"Toolbar\",\"id\":\"p5995\",\"attributes\":{\"tools\":[{\"type\":\"object\",\"name\":\"PanTool\",\"id\":\"p6019\"},{\"type\":\"object\",\"name\":\"WheelZoomTool\",\"id\":\"p6020\"},{\"type\":\"object\",\"name\":\"BoxZoomTool\",\"id\":\"p6021\",\"attributes\":{\"overlay\":{\"type\":\"object\",\"name\":\"BoxAnnotation\",\"id\":\"p6022\",\"attributes\":{\"syncable\":false,\"level\":\"overlay\",\"visible\":false,\"left_units\":\"canvas\",\"right_units\":\"canvas\",\"bottom_units\":\"canvas\",\"top_units\":\"canvas\",\"line_color\":\"black\",\"line_alpha\":1.0,\"line_width\":2,\"line_dash\":[4,4],\"fill_color\":\"lightgrey\",\"fill_alpha\":0.5}}}},{\"type\":\"object\",\"name\":\"SaveTool\",\"id\":\"p6023\"},{\"type\":\"object\",\"name\":\"ResetTool\",\"id\":\"p6024\"},{\"type\":\"object\",\"name\":\"HelpTool\",\"id\":\"p6025\"}]}},\"left\":[{\"type\":\"object\",\"name\":\"LinearAxis\",\"id\":\"p6012\",\"attributes\":{\"ticker\":{\"type\":\"object\",\"name\":\"BasicTicker\",\"id\":\"p6013\",\"attributes\":{\"mantissas\":[1,2,5]}},\"formatter\":{\"type\":\"object\",\"name\":\"BasicTickFormatter\",\"id\":\"p6014\"},\"axis_label\":\"% unique results vs Fisher's ncHGT (weighted step) method\",\"major_label_policy\":{\"type\":\"object\",\"name\":\"AllLabels\",\"id\":\"p6015\"}}}],\"below\":[{\"type\":\"object\",\"name\":\"LinearAxis\",\"id\":\"p6005\",\"attributes\":{\"ticker\":{\"type\":\"object\",\"name\":\"FixedTicker\",\"id\":\"p6085\",\"attributes\":{\"ticks\":[0.05,0.1,0.15,0.2,0.3,0.4,0.5],\"minor_ticks\":[]}},\"formatter\":{\"type\":\"object\",\"name\":\"BasicTickFormatter\",\"id\":\"p6007\"},\"axis_label\":\"alpha for Fisher's ncHGT (weighted step) method\",\"major_label_policy\":{\"type\":\"object\",\"name\":\"AllLabels\",\"id\":\"p6008\"}}}],\"center\":[{\"type\":\"object\",\"name\":\"Grid\",\"id\":\"p6011\",\"attributes\":{\"visible\":false,\"axis\":{\"id\":\"p6005\"}}},{\"type\":\"object\",\"name\":\"Grid\",\"id\":\"p6018\",\"attributes\":{\"visible\":false,\"dimension\":1,\"axis\":{\"id\":\"p6012\"}}},{\"type\":\"object\",\"name\":\"Legend\",\"id\":\"p6056\",\"attributes\":{\"location\":\"right\",\"items\":[{\"type\":\"object\",\"name\":\"LegendItem\",\"id\":\"p6057\",\"attributes\":{\"label\":{\"type\":\"value\",\"value\":\"cancer, total = 22\"},\"renderers\":[{\"id\":\"p6040\"},{\"id\":\"p6064\"}]}}]}}],\"frame_width\":400,\"frame_height\":400}},1,0,1,1],[{\"type\":\"object\",\"name\":\"Figure\",\"id\":\"p6087\",\"attributes\":{\"x_range\":{\"type\":\"object\",\"name\":\"Range1d\",\"id\":\"p6097\",\"attributes\":{\"end\":0.55}},\"y_range\":{\"type\":\"object\",\"name\":\"Range1d\",\"id\":\"p6099\",\"attributes\":{\"start\":-5,\"end\":110}},\"x_scale\":{\"type\":\"object\",\"name\":\"LinearScale\",\"id\":\"p6101\"},\"y_scale\":{\"type\":\"object\",\"name\":\"LinearScale\",\"id\":\"p6103\"},\"title\":{\"type\":\"object\",\"name\":\"Title\",\"id\":\"p6090\",\"attributes\":{\"text\":\"Fisher's ncHGT (weighted step) Method at FDR=.05 vs Sim Method\"}},\"renderers\":[{\"type\":\"object\",\"name\":\"GlyphRenderer\",\"id\":\"p6140\",\"attributes\":{\"data_source\":{\"type\":\"object\",\"name\":\"ColumnDataSource\",\"id\":\"p6134\",\"attributes\":{\"selected\":{\"type\":\"object\",\"name\":\"Selection\",\"id\":\"p6135\",\"attributes\":{\"indices\":[],\"line_indices\":[]}},\"selection_policy\":{\"type\":\"object\",\"name\":\"UnionRenderers\",\"id\":\"p6136\"},\"data\":{\"type\":\"map\",\"entries\":[[\"x\",[0.05,0.1,0.15,0.2,0.3,0.4,0.5]],[\"y\",[28.57142857142857,10.714285714285714,7.142857142857142,7.142857142857142,7.142857142857142,7.142857142857142,7.142857142857142]]]}}},\"view\":{\"type\":\"object\",\"name\":\"CDSView\",\"id\":\"p6141\",\"attributes\":{\"filter\":{\"type\":\"object\",\"name\":\"AllIndices\",\"id\":\"p6142\"}}},\"glyph\":{\"type\":\"object\",\"name\":\"Line\",\"id\":\"p6137\",\"attributes\":{\"x\":{\"type\":\"field\",\"field\":\"x\"},\"y\":{\"type\":\"field\",\"field\":\"y\"},\"line_color\":\"orange\",\"line_width\":2}},\"nonselection_glyph\":{\"type\":\"object\",\"name\":\"Line\",\"id\":\"p6138\",\"attributes\":{\"x\":{\"type\":\"field\",\"field\":\"x\"},\"y\":{\"type\":\"field\",\"field\":\"y\"},\"line_color\":\"orange\",\"line_alpha\":0.1,\"line_width\":2}},\"muted_glyph\":{\"type\":\"object\",\"name\":\"Line\",\"id\":\"p6139\",\"attributes\":{\"x\":{\"type\":\"field\",\"field\":\"x\"},\"y\":{\"type\":\"field\",\"field\":\"y\"},\"line_color\":\"orange\",\"line_alpha\":0.2,\"line_width\":2}}}},{\"type\":\"object\",\"name\":\"GlyphRenderer\",\"id\":\"p6164\",\"attributes\":{\"data_source\":{\"type\":\"object\",\"name\":\"ColumnDataSource\",\"id\":\"p6158\",\"attributes\":{\"selected\":{\"type\":\"object\",\"name\":\"Selection\",\"id\":\"p6159\",\"attributes\":{\"indices\":[],\"line_indices\":[]}},\"selection_policy\":{\"type\":\"object\",\"name\":\"UnionRenderers\",\"id\":\"p6160\"},\"data\":{\"type\":\"map\",\"entries\":[[\"x\",[0.05,0.1,0.15,0.2,0.3,0.4,0.5]],[\"y\",[28.57142857142857,10.714285714285714,7.142857142857142,7.142857142857142,7.142857142857142,7.142857142857142,7.142857142857142]]]}}},\"view\":{\"type\":\"object\",\"name\":\"CDSView\",\"id\":\"p6165\",\"attributes\":{\"filter\":{\"type\":\"object\",\"name\":\"AllIndices\",\"id\":\"p6166\"}}},\"glyph\":{\"type\":\"object\",\"name\":\"Circle\",\"id\":\"p6161\",\"attributes\":{\"x\":{\"type\":\"field\",\"field\":\"x\"},\"y\":{\"type\":\"field\",\"field\":\"y\"},\"line_color\":{\"type\":\"value\",\"value\":\"orange\"},\"fill_color\":{\"type\":\"value\",\"value\":\"orange\"},\"hatch_color\":{\"type\":\"value\",\"value\":\"orange\"}}},\"nonselection_glyph\":{\"type\":\"object\",\"name\":\"Circle\",\"id\":\"p6162\",\"attributes\":{\"x\":{\"type\":\"field\",\"field\":\"x\"},\"y\":{\"type\":\"field\",\"field\":\"y\"},\"line_color\":{\"type\":\"value\",\"value\":\"orange\"},\"line_alpha\":{\"type\":\"value\",\"value\":0.1},\"fill_color\":{\"type\":\"value\",\"value\":\"orange\"},\"fill_alpha\":{\"type\":\"value\",\"value\":0.1},\"hatch_color\":{\"type\":\"value\",\"value\":\"orange\"},\"hatch_alpha\":{\"type\":\"value\",\"value\":0.1}}},\"muted_glyph\":{\"type\":\"object\",\"name\":\"Circle\",\"id\":\"p6163\",\"attributes\":{\"x\":{\"type\":\"field\",\"field\":\"x\"},\"y\":{\"type\":\"field\",\"field\":\"y\"},\"line_color\":{\"type\":\"value\",\"value\":\"orange\"},\"line_alpha\":{\"type\":\"value\",\"value\":0.2},\"fill_color\":{\"type\":\"value\",\"value\":\"orange\"},\"fill_alpha\":{\"type\":\"value\",\"value\":0.2},\"hatch_color\":{\"type\":\"value\",\"value\":\"orange\"},\"hatch_alpha\":{\"type\":\"value\",\"value\":0.2}}}}}],\"toolbar\":{\"type\":\"object\",\"name\":\"Toolbar\",\"id\":\"p6095\",\"attributes\":{\"tools\":[{\"type\":\"object\",\"name\":\"PanTool\",\"id\":\"p6119\"},{\"type\":\"object\",\"name\":\"WheelZoomTool\",\"id\":\"p6120\"},{\"type\":\"object\",\"name\":\"BoxZoomTool\",\"id\":\"p6121\",\"attributes\":{\"overlay\":{\"type\":\"object\",\"name\":\"BoxAnnotation\",\"id\":\"p6122\",\"attributes\":{\"syncable\":false,\"level\":\"overlay\",\"visible\":false,\"left_units\":\"canvas\",\"right_units\":\"canvas\",\"bottom_units\":\"canvas\",\"top_units\":\"canvas\",\"line_color\":\"black\",\"line_alpha\":1.0,\"line_width\":2,\"line_dash\":[4,4],\"fill_color\":\"lightgrey\",\"fill_alpha\":0.5}}}},{\"type\":\"object\",\"name\":\"SaveTool\",\"id\":\"p6123\"},{\"type\":\"object\",\"name\":\"ResetTool\",\"id\":\"p6124\"},{\"type\":\"object\",\"name\":\"HelpTool\",\"id\":\"p6125\"}]}},\"left\":[{\"type\":\"object\",\"name\":\"LinearAxis\",\"id\":\"p6112\",\"attributes\":{\"ticker\":{\"type\":\"object\",\"name\":\"BasicTicker\",\"id\":\"p6113\",\"attributes\":{\"mantissas\":[1,2,5]}},\"formatter\":{\"type\":\"object\",\"name\":\"BasicTickFormatter\",\"id\":\"p6114\"},\"axis_label\":\"% unique results vs Sim method\",\"major_label_policy\":{\"type\":\"object\",\"name\":\"AllLabels\",\"id\":\"p6115\"}}}],\"below\":[{\"type\":\"object\",\"name\":\"LinearAxis\",\"id\":\"p6105\",\"attributes\":{\"ticker\":{\"type\":\"object\",\"name\":\"FixedTicker\",\"id\":\"p6185\",\"attributes\":{\"ticks\":[0.05,0.1,0.15,0.2,0.3,0.4,0.5],\"minor_ticks\":[]}},\"formatter\":{\"type\":\"object\",\"name\":\"BasicTickFormatter\",\"id\":\"p6107\"},\"axis_label\":\"alpha for Sim method\",\"major_label_policy\":{\"type\":\"object\",\"name\":\"AllLabels\",\"id\":\"p6108\"}}}],\"center\":[{\"type\":\"object\",\"name\":\"Grid\",\"id\":\"p6111\",\"attributes\":{\"visible\":false,\"axis\":{\"id\":\"p6105\"}}},{\"type\":\"object\",\"name\":\"Grid\",\"id\":\"p6118\",\"attributes\":{\"visible\":false,\"dimension\":1,\"axis\":{\"id\":\"p6112\"}}},{\"type\":\"object\",\"name\":\"Legend\",\"id\":\"p6156\",\"attributes\":{\"location\":\"right\",\"items\":[{\"type\":\"object\",\"name\":\"LegendItem\",\"id\":\"p6157\",\"attributes\":{\"label\":{\"type\":\"value\",\"value\":\"cancer, total = 28\"},\"renderers\":[{\"id\":\"p6140\"},{\"id\":\"p6164\"}]}}]}}],\"frame_width\":400,\"frame_height\":400}},1,1,1,1]]}}]}};\n",
       "  const render_items = [{\"docid\":\"f0780b4f-2a03-4e6c-8767-523bd3036b2a\",\"roots\":{\"p6187\":\"d66820d4-5995-47ed-aae8-1ab074b5e965\"},\"root_ids\":[\"p6187\"]}];\n",
       "  root.Bokeh.embed.embed_items_notebook(docs_json, render_items);\n",
       "  }\n",
       "  if (root.Bokeh !== undefined) {\n",
       "    embed_document(root);\n",
       "  } else {\n",
       "    let attempts = 0;\n",
       "    const timer = setInterval(function(root) {\n",
       "      if (root.Bokeh !== undefined) {\n",
       "        clearInterval(timer);\n",
       "        embed_document(root);\n",
       "      } else {\n",
       "        attempts++;\n",
       "        if (attempts > 100) {\n",
       "          clearInterval(timer);\n",
       "          console.log(\"Bokeh: ERROR: Unable to run BokehJS code because BokehJS library is missing\");\n",
       "        }\n",
       "      }\n",
       "    }, 10, root)\n",
       "  }\n",
       "})(window);"
      ],
      "application/vnd.bokehjs_exec.v0+json": ""
     },
     "metadata": {
      "application/vnd.bokehjs_exec.v0+json": {
       "id": "p6187"
      }
     },
     "output_type": "display_data"
    }
   ],
   "source": [
    "colors = ['orange','crimson','red','salmon','purple']\n",
    "p1 = make_plot('Sim','Standard',datasets,colors,results_combined_sim_ff,alphas)\n",
    "p2 = make_plot('Standard (gene list)','Sim',datasets,colors,results_combined_ff_sim,alphas)\n",
    "p3 = make_plot('Sim',\"Fisher's ncHGT (weighted step)\",datasets,colors,results_combined_sim_nc,alphas)\n",
    "p5 = make_plot(\"Fisher's ncHGT (weighted step)\",'Sim',datasets,colors,results_combined_nc_sim,alphas)\n",
    "\n",
    "g2 = bokeh.layouts.grid([[p1,p2],[p3,p5]])\n",
    "bokeh.io.show(g2)"
   ]
  },
  {
   "cell_type": "code",
   "execution_count": 31,
   "id": "3e5586c2-9fa4-4431-bef6-28d357781e05",
   "metadata": {},
   "outputs": [],
   "source": [
    "results_s = drop_thresh_sim(alphas)\n",
    "results_ff = drop_threshold(filename, symbol_type, 'standard', alphas)"
   ]
  },
  {
   "cell_type": "code",
   "execution_count": 32,
   "id": "efb3a4ff-08ca-4b0c-8e46-41337e7bd8e9",
   "metadata": {},
   "outputs": [
    {
     "data": {
      "text/plain": [
       "{'Activation of the mRNA upon binding of the cap-binding complex and eIFs, and subsequent binding to 43S - Reactome',\n",
       " 'Inhibition of replication initiation of damaged DNA by RB1/E2F1 - Reactome',\n",
       " 'Interleukin-1 signaling - Reactome',\n",
       " 'MAPK6/MAPK4 signaling - Reactome',\n",
       " 'Senescence-Associated Secretory Phenotype (SASP) - Reactome',\n",
       " 'Synthesis of PC - Reactome',\n",
       " 'Translation initiation complex formation - Reactome'}"
      ]
     },
     "execution_count": 32,
     "metadata": {},
     "output_type": "execute_result"
    }
   ],
   "source": [
    "s = results_s[.05]\n",
    "f = results_ff[.05]\n",
    "f-s"
   ]
  },
  {
   "cell_type": "code",
   "execution_count": 50,
   "id": "68832ee8-9600-4ef4-8a35-6e4353f377e2",
   "metadata": {},
   "outputs": [
    {
     "data": {
      "text/plain": [
       "{\"'de novo' GMP biosynthetic process (Mouse)\",\n",
       " 'ARMS-mediated activation - Reactome',\n",
       " 'Activation of NOXA and translocation to mitochondria - Reactome',\n",
       " 'Beta-catenin phosphorylation cascade - Reactome',\n",
       " 'Citric acid cycle (TCA cycle) - Reactome',\n",
       " 'DNA Damage/Telomere Stress Induced Senescence - Reactome',\n",
       " 'Dual Incision in GG-NER - Reactome',\n",
       " 'EGFR downregulation - Reactome',\n",
       " 'ERBB2 Activates PTK6 Signaling - Reactome',\n",
       " 'ERBB2 Regulates Cell Motility - Reactome',\n",
       " 'ERBB2-EGFR signaling pathway 1 (Mouse)',\n",
       " 'ERBB2-EGFR signaling pathway 2 (Mouse) ',\n",
       " 'ERBB2-EGFR signaling pathway 4 (Mouse) ',\n",
       " 'ERBB2-EGFR signaling pathway 5 (Mouse)',\n",
       " 'ERBB2-EGFR signaling pathway 6 (Mouse) ',\n",
       " 'Epidermal growth factor receptor signaling pathway 10 (Mouse) ',\n",
       " 'Erythropoietin activates Phosphoinositide-3-kinase (PI3K) - Reactome',\n",
       " 'Extra-nuclear estrogen signaling - Reactome',\n",
       " 'FCERI mediated MAPK activation - Reactome',\n",
       " 'FLT3 Signaling - Reactome',\n",
       " 'G beta:gamma signalling through PI3Kgamma - Reactome',\n",
       " 'IL2 signaling pathway (Human)',\n",
       " 'Inactivation of CSF3 (G-CSF) signaling - Reactome',\n",
       " 'Interleukin-2 signaling - Reactome',\n",
       " 'Interleukin-35 Signalling - Reactome',\n",
       " 'MAP2K and MAPK activation - Reactome',\n",
       " 'Negative regulation of FLT3 - Reactome',\n",
       " 'Negative regulation of MET activity - Reactome',\n",
       " 'Negative regulation of the PI3K/AKT network - Reactome',\n",
       " 'PD-1 signaling - Reactome',\n",
       " 'PI-3K cascade:FGFR1 - Reactome',\n",
       " 'PI-3K cascade:FGFR2 - Reactome',\n",
       " 'PI-3K cascade:FGFR3 - Reactome',\n",
       " 'PI-3K cascade:FGFR4 - Reactome',\n",
       " 'PI3K events in ERBB2 signaling - Reactome',\n",
       " 'PI3K/AKT Signaling - Reactome',\n",
       " 'PI3K/AKT activation - Reactome',\n",
       " 'PI5P Regulates TP53 Acetylation - Reactome',\n",
       " 'PLCG1 events in ERBB2 signaling - Reactome',\n",
       " 'PTEN in excitatory hippocampal synapse long-term depression (Human)',\n",
       " 'RUNX3 regulates p14-ARF - Reactome',\n",
       " 'Recruitment and ATM-mediated phosphorylation of repair and signaling proteins at DNA double strand breaks - Reactome',\n",
       " 'Regulation of FOXO transcriptional activity by acetylation - Reactome',\n",
       " 'Regulation of IFNG signaling - Reactome',\n",
       " 'Regulation of TP53 Activity through Acetylation - Reactome',\n",
       " 'Regulation of TP53 Activity through Association with Co-factors - Reactome',\n",
       " 'Regulation of TP53 Activity through Phosphorylation - Reactome',\n",
       " 'SPModule TBK1-IRF3',\n",
       " 'Sema4D induced cell migration and growth-cone collapse - Reactome',\n",
       " 'Signaling by ALK - Reactome',\n",
       " 'Signaling by CSF3 (G-CSF) - Reactome',\n",
       " 'Signaling by Leptin - Reactome',\n",
       " 'Spry regulation of FGF signaling - Reactome',\n",
       " 'TP53 Regulates Transcription of Caspase Activators and Caspases - Reactome',\n",
       " 'TP53 Regulates Transcription of Genes Involved in Cytochrome C Release - Reactome',\n",
       " 'VEGFA-VEGFR2 Pathway - Reactome',\n",
       " 'VEGFR2 mediated vascular permeability - Reactome'}"
      ]
     },
     "execution_count": 50,
     "metadata": {},
     "output_type": "execute_result"
    }
   ],
   "source": [
    "results_s[.5]-results_s[.05]"
   ]
  },
  {
   "cell_type": "code",
   "execution_count": null,
   "id": "22870c23-ca10-4cea-8f11-0debb7e71a01",
   "metadata": {},
   "outputs": [],
   "source": []
  }
 ],
 "metadata": {
  "kernelspec": {
   "display_name": "Python 3 (ipykernel)",
   "language": "python",
   "name": "python3"
  },
  "language_info": {
   "codemirror_mode": {
    "name": "ipython",
    "version": 3
   },
   "file_extension": ".py",
   "mimetype": "text/x-python",
   "name": "python",
   "nbconvert_exporter": "python",
   "pygments_lexer": "ipython3",
   "version": "3.10.8"
  }
 },
 "nbformat": 4,
 "nbformat_minor": 5
}
